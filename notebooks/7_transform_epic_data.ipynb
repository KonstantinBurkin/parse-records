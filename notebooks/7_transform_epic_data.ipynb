{
 "cells": [
  {
   "cell_type": "markdown",
   "metadata": {},
   "source": [
    "### Imports"
   ]
  },
  {
   "cell_type": "code",
   "execution_count": 1,
   "metadata": {},
   "outputs": [
    {
     "data": {
      "text/plain": [
       "polars.config.Config"
      ]
     },
     "execution_count": 1,
     "metadata": {},
     "output_type": "execute_result"
    }
   ],
   "source": [
    "import pandas as pd\n",
    "import json\n",
    "import os, sys\n",
    "from tqdm import tqdm\n",
    "import numpy as np\n",
    "import polars as pl\n",
    "from polars import col as c\n",
    "from pprint import pprint\n",
    "import matplotlib.pyplot as plt\n",
    "import re\n",
    "\n",
    "sys.path.append(\"../\")\n",
    "pl.Config.set_tbl_rows(50)"
   ]
  },
  {
   "cell_type": "markdown",
   "metadata": {},
   "source": [
    "### table creation"
   ]
  },
  {
   "cell_type": "code",
   "execution_count": 2,
   "metadata": {},
   "outputs": [],
   "source": [
    "dir_path = \"../data/parsed_dataframes\"\n",
    "file_name = \"epic_records_8500.parquet\"\n",
    "file_path = os.path.join(dir_path, file_name)\n",
    "epic_records = pd.read_parquet(file_path)"
   ]
  },
  {
   "cell_type": "code",
   "execution_count": 3,
   "metadata": {},
   "outputs": [
    {
     "name": "stderr",
     "output_type": "stream",
     "text": [
      "/var/folders/v_/vqhfnf3s4sb7g6nfby7hc9sr0000gn/T/ipykernel_81476/633498768.py:3: FutureWarning: errors='ignore' is deprecated and will raise in a future version. Use to_numeric without passing `errors` and catch exceptions explicitly instead\n",
      "  epic_records[column] = pd.to_numeric(epic_records[column], errors=\"ignore\")\n"
     ]
    }
   ],
   "source": [
    "for column in epic_records.columns:\n",
    "    epic_records[column] = epic_records[column].replace(to_replace=\"nan\", value=np.nan)\n",
    "    epic_records[column] = pd.to_numeric(epic_records[column], errors=\"ignore\")"
   ]
  },
  {
   "cell_type": "code",
   "execution_count": 4,
   "metadata": {},
   "outputs": [
    {
     "data": {
      "text/html": [
       "<div>\n",
       "<style scoped>\n",
       "    .dataframe tbody tr th:only-of-type {\n",
       "        vertical-align: middle;\n",
       "    }\n",
       "\n",
       "    .dataframe tbody tr th {\n",
       "        vertical-align: top;\n",
       "    }\n",
       "\n",
       "    .dataframe thead th {\n",
       "        text-align: right;\n",
       "    }\n",
       "</style>\n",
       "<table border=\"1\" class=\"dataframe\">\n",
       "  <thead>\n",
       "    <tr style=\"text-align: right;\">\n",
       "      <th></th>\n",
       "      <th>patient_id</th>\n",
       "      <th>record</th>\n",
       "      <th>gender</th>\n",
       "      <th>birthday</th>\n",
       "      <th>amnez_life</th>\n",
       "      <th>amnez_disease</th>\n",
       "      <th>condition</th>\n",
       "      <th>ward_table</th>\n",
       "      <th>full_wards</th>\n",
       "      <th>final_table1</th>\n",
       "      <th>...</th>\n",
       "      <th>secondary_disease_desc</th>\n",
       "      <th>complication_of_main_disease_code</th>\n",
       "      <th>main_disease_code</th>\n",
       "      <th>secondary_disease_code</th>\n",
       "      <th>Дата поступления</th>\n",
       "      <th>gospitalisation_type</th>\n",
       "      <th>gospitalisation_delivery</th>\n",
       "      <th>background_disease_desc</th>\n",
       "      <th>background_disease_code</th>\n",
       "      <th>Конкурирующее заболевание</th>\n",
       "    </tr>\n",
       "  </thead>\n",
       "  <tbody>\n",
       "    <tr>\n",
       "      <th>0</th>\n",
       "      <td>75DB9BE5-92BE-432F-AA97-2CC5A56B8BBC</td>\n",
       "      <td>EMD_EPIC_DISCHARGE_185171131_185171131</td>\n",
       "      <td>Мужской</td>\n",
       "      <td>20000101</td>\n",
       "      <td>ОБЩЕБИОГРАФИЧЕСКИЕ СВЕДЕНИЯ  НА СЕВЕРЕ ДАВНО \\...</td>\n",
       "      <td>АНАМНЕЗ ИБС С 2016Г., КОГДА ПЕРЕНЕС ОСТРЫЙ ИМ ...</td>\n",
       "      <td>['Состояние: Средней тяжести', 'Жалобы: НА МОМ...</td>\n",
       "      <td>{'Название': {0: 'Приемное отделение', 1: 'Кар...</td>\n",
       "      <td>{'Сведения о пребывании пациента в Приемное от...</td>\n",
       "      <td>{'Характер основного заболевания': {0: 'Острое...</td>\n",
       "      <td>...</td>\n",
       "      <td>Сахарный диабет 2 типа, инсулиннезависимый. Це...</td>\n",
       "      <td>['I50.9']</td>\n",
       "      <td>['I20.0']</td>\n",
       "      <td>['I10', 'E11.8', 'E66.9']</td>\n",
       "      <td>03.04.2023 12:00</td>\n",
       "      <td>Первичный</td>\n",
       "      <td>Плановая госпитализация</td>\n",
       "      <td>NaN</td>\n",
       "      <td>NaN</td>\n",
       "      <td>NaN</td>\n",
       "    </tr>\n",
       "    <tr>\n",
       "      <th>1</th>\n",
       "      <td>55218D18-4928-6138-E055-000000000001</td>\n",
       "      <td>EMD_EPIC_DISCHARGE_145291569_145291569</td>\n",
       "      <td>Мужской</td>\n",
       "      <td>20000101</td>\n",
       "      <td>АНАМНЕЗ ЖИЗНИ:</td>\n",
       "      <td>АНАМНЕЗ ЗАБОЛЕВАНИЯ  ИБС С 1986 ГОДА КОГДА ВПЕ...</td>\n",
       "      <td>['Состояние: Удовлетворительное', 'Жалобы: ЖАЛ...</td>\n",
       "      <td>{'Название': {0: 'Приемное отделение', 1: 'Кар...</td>\n",
       "      <td>{'Сведения о пребывании пациента в Приемное от...</td>\n",
       "      <td>{'Характер основного заболевания': {0: 'Острое...</td>\n",
       "      <td>...</td>\n",
       "      <td>Хронический гепатит В без дельта-агента минима...</td>\n",
       "      <td>['I48.0', 'I50.1']</td>\n",
       "      <td>['I21.0']</td>\n",
       "      <td>['I69.4', 'B18.0', 'I85.9']</td>\n",
       "      <td>19.01.2019 09:46</td>\n",
       "      <td>Первичный</td>\n",
       "      <td>Доставлен бригадой скорой помощи</td>\n",
       "      <td>Гипертоническая болезнь III стадии, Артериальн...</td>\n",
       "      <td>['I11.9']</td>\n",
       "      <td>NaN</td>\n",
       "    </tr>\n",
       "  </tbody>\n",
       "</table>\n",
       "<p>2 rows × 23 columns</p>\n",
       "</div>"
      ],
      "text/plain": [
       "                             patient_id  \\\n",
       "0  75DB9BE5-92BE-432F-AA97-2CC5A56B8BBC   \n",
       "1  55218D18-4928-6138-E055-000000000001   \n",
       "\n",
       "                                   record   gender  birthday  \\\n",
       "0  EMD_EPIC_DISCHARGE_185171131_185171131  Мужской  20000101   \n",
       "1  EMD_EPIC_DISCHARGE_145291569_145291569  Мужской  20000101   \n",
       "\n",
       "                                          amnez_life  \\\n",
       "0  ОБЩЕБИОГРАФИЧЕСКИЕ СВЕДЕНИЯ  НА СЕВЕРЕ ДАВНО \\...   \n",
       "1                                     АНАМНЕЗ ЖИЗНИ:   \n",
       "\n",
       "                                       amnez_disease  \\\n",
       "0  АНАМНЕЗ ИБС С 2016Г., КОГДА ПЕРЕНЕС ОСТРЫЙ ИМ ...   \n",
       "1  АНАМНЕЗ ЗАБОЛЕВАНИЯ  ИБС С 1986 ГОДА КОГДА ВПЕ...   \n",
       "\n",
       "                                           condition  \\\n",
       "0  ['Состояние: Средней тяжести', 'Жалобы: НА МОМ...   \n",
       "1  ['Состояние: Удовлетворительное', 'Жалобы: ЖАЛ...   \n",
       "\n",
       "                                          ward_table  \\\n",
       "0  {'Название': {0: 'Приемное отделение', 1: 'Кар...   \n",
       "1  {'Название': {0: 'Приемное отделение', 1: 'Кар...   \n",
       "\n",
       "                                          full_wards  \\\n",
       "0  {'Сведения о пребывании пациента в Приемное от...   \n",
       "1  {'Сведения о пребывании пациента в Приемное от...   \n",
       "\n",
       "                                        final_table1  ...  \\\n",
       "0  {'Характер основного заболевания': {0: 'Острое...  ...   \n",
       "1  {'Характер основного заболевания': {0: 'Острое...  ...   \n",
       "\n",
       "                              secondary_disease_desc  \\\n",
       "0  Сахарный диабет 2 типа, инсулиннезависимый. Це...   \n",
       "1  Хронический гепатит В без дельта-агента минима...   \n",
       "\n",
       "  complication_of_main_disease_code main_disease_code  \\\n",
       "0                         ['I50.9']         ['I20.0']   \n",
       "1                ['I48.0', 'I50.1']         ['I21.0']   \n",
       "\n",
       "        secondary_disease_code  Дата поступления gospitalisation_type  \\\n",
       "0    ['I10', 'E11.8', 'E66.9']  03.04.2023 12:00            Первичный   \n",
       "1  ['I69.4', 'B18.0', 'I85.9']  19.01.2019 09:46            Первичный   \n",
       "\n",
       "           gospitalisation_delivery  \\\n",
       "0           Плановая госпитализация   \n",
       "1  Доставлен бригадой скорой помощи   \n",
       "\n",
       "                             background_disease_desc background_disease_code  \\\n",
       "0                                                NaN                     NaN   \n",
       "1  Гипертоническая болезнь III стадии, Артериальн...               ['I11.9']   \n",
       "\n",
       "  Конкурирующее заболевание  \n",
       "0                       NaN  \n",
       "1                       NaN  \n",
       "\n",
       "[2 rows x 23 columns]"
      ]
     },
     "execution_count": 4,
     "metadata": {},
     "output_type": "execute_result"
    }
   ],
   "source": [
    "epic_records.head(2)"
   ]
  },
  {
   "cell_type": "code",
   "execution_count": 5,
   "metadata": {},
   "outputs": [],
   "source": [
    "epic_records = (\n",
    "    pl.from_pandas(epic_records)\n",
    "    .with_columns(\n",
    "        c(\"Дата поступления\")\n",
    "        .cast(pl.String)\n",
    "        .str.to_datetime(\"%d.%m.%Y %H:%M\")\n",
    "        .dt.date(),\n",
    "        # c(\"lab_date\").cast(pl.String).str.to_datetime(\"%d.%m.%Y %H:%M\").dt.date(),\n",
    "    )\n",
    "    .rename({\"Дата поступления\": \"admission_datetime\"})\n",
    "    .drop([\"birthday\", \"record\"])\n",
    "    # .head(2)\n",
    ")"
   ]
  },
  {
   "cell_type": "markdown",
   "metadata": {},
   "source": [
    "### create target"
   ]
  },
  {
   "cell_type": "code",
   "execution_count": 6,
   "metadata": {},
   "outputs": [
    {
     "data": {
      "text/html": [
       "<div><style>\n",
       ".dataframe > thead > tr,\n",
       ".dataframe > tbody > tr {\n",
       "  text-align: right;\n",
       "  white-space: pre-wrap;\n",
       "}\n",
       "</style>\n",
       "<small>shape: (11, 2)</small><table border=\"1\" class=\"dataframe\"><thead><tr><th>main_disease_code</th><th>count</th></tr><tr><td>str</td><td>u32</td></tr></thead><tbody><tr><td>&quot;I20&quot;</td><td>1142</td></tr><tr><td>&quot;I21&quot;</td><td>1042</td></tr><tr><td>&quot;I25&quot;</td><td>10</td></tr><tr><td>&quot;I50&quot;</td><td>7</td></tr><tr><td>&quot;I11&quot;</td><td>5</td></tr><tr><td>&quot;I47&quot;</td><td>3</td></tr><tr><td>&quot;I22&quot;</td><td>3</td></tr><tr><td>&quot;I48&quot;</td><td>2</td></tr><tr><td>&quot;I70&quot;</td><td>1</td></tr><tr><td>&quot;I26&quot;</td><td>1</td></tr><tr><td>&quot;I40&quot;</td><td>1</td></tr></tbody></table></div>"
      ],
      "text/plain": [
       "shape: (11, 2)\n",
       "┌───────────────────┬───────┐\n",
       "│ main_disease_code ┆ count │\n",
       "│ ---               ┆ ---   │\n",
       "│ str               ┆ u32   │\n",
       "╞═══════════════════╪═══════╡\n",
       "│ I20               ┆ 1142  │\n",
       "│ I21               ┆ 1042  │\n",
       "│ I25               ┆ 10    │\n",
       "│ I50               ┆ 7     │\n",
       "│ I11               ┆ 5     │\n",
       "│ I47               ┆ 3     │\n",
       "│ I22               ┆ 3     │\n",
       "│ I48               ┆ 2     │\n",
       "│ I70               ┆ 1     │\n",
       "│ I26               ┆ 1     │\n",
       "│ I40               ┆ 1     │\n",
       "└───────────────────┴───────┘"
      ]
     },
     "execution_count": 6,
     "metadata": {},
     "output_type": "execute_result"
    }
   ],
   "source": [
    "# all desease codes\n",
    "(\n",
    "    epic_records.filter(\n",
    "        epic_records.select(\"patient_id\").is_duplicated(),\n",
    "    )\n",
    "    .select([\"main_disease_desc\", \"main_disease_code\"])\n",
    "    .with_columns(c(\"main_disease_code\").str.slice(offset=2, length=3))[\n",
    "        \"main_disease_code\"\n",
    "    ]\n",
    "    .value_counts()\n",
    "    .sort(\n",
    "        \"count\",\n",
    "        descending=True,\n",
    "    )\n",
    ")"
   ]
  },
  {
   "cell_type": "code",
   "execution_count": 7,
   "metadata": {},
   "outputs": [
    {
     "data": {
      "text/html": [
       "<div><style>\n",
       ".dataframe > thead > tr,\n",
       ".dataframe > tbody > tr {\n",
       "  text-align: right;\n",
       "  white-space: pre-wrap;\n",
       "}\n",
       "</style>\n",
       "<small>shape: (3, 24)</small><table border=\"1\" class=\"dataframe\"><thead><tr><th>patient_id</th><th>gender</th><th>amnez_life</th><th>amnez_disease</th><th>condition</th><th>ward_table</th><th>full_wards</th><th>final_table1</th><th>final_table2</th><th>complication_of_main_disease_desc</th><th>main_disease_desc</th><th>secondary_disease_desc</th><th>complication_of_main_disease_code</th><th>main_disease_code</th><th>secondary_disease_code</th><th>admission_datetime</th><th>gospitalisation_type</th><th>gospitalisation_delivery</th><th>background_disease_desc</th><th>background_disease_code</th><th>Конкурирующее заболевание</th><th>following_admission_datetimes</th><th>following_main_disease_codes</th><th>target</th></tr><tr><td>str</td><td>str</td><td>str</td><td>str</td><td>str</td><td>str</td><td>str</td><td>str</td><td>str</td><td>str</td><td>str</td><td>str</td><td>str</td><td>str</td><td>str</td><td>date</td><td>str</td><td>str</td><td>str</td><td>str</td><td>str</td><td>list[date]</td><td>list[str]</td><td>i32</td></tr></thead><tbody><tr><td>&quot;9A626AF6-C17D-4A04-AC0E-716B72…</td><td>&quot;Мужской&quot;</td><td>&quot;Б&quot;</td><td>&quot;СЧИТАЕТ СЕБЯ БОЛЬНЫМ С 25.12.2…</td><td>&quot;[&#x27;Состояние: Средней тяжести&#x27;,…</td><td>&quot;{&#x27;Название&#x27;: {0: &#x27;Приемное отд…</td><td>&quot;{&#x27;Сведения о пребывании пациен…</td><td>&quot;{&#x27;Характер основного заболеван…</td><td>&quot;{&#x27;Вид нозологической единицы&#x27;:…</td><td>&quot;ОСН 1 по Killip.&quot;</td><td>&quot;ИБС. Острый инфаркт миокарда п…</td><td>&quot;Пароксизмальная форма фибрилля…</td><td>&quot;[&#x27;I50.1&#x27;]&quot;</td><td>&quot;I21&quot;</td><td>&quot;[&#x27;I48.0&#x27;, &#x27;I70.8&#x27;, &#x27;I70.2&#x27;, &#x27;E…</td><td>2022-12-25</td><td>&quot;Первичный&quot;</td><td>&quot;Плановая госпитализация&quot;</td><td>&quot;Гипертоническая болезнь III ст…</td><td>&quot;[&#x27;I11.9&#x27;]&quot;</td><td>null</td><td>[2023-01-04]</td><td>[&quot;I21&quot;]</td><td>1</td></tr><tr><td>&quot;5C81816A-2808-7A86-E055-000000…</td><td>&quot;Мужской&quot;</td><td>&quot;Б&quot;</td><td>&quot;АНАМНЕЗ ЗАБОЛЕВАНИЯ  КЛИНИКА И…</td><td>&quot;[&#x27;Состояние: Удовлетворительно…</td><td>&quot;{&#x27;Название&#x27;: {0: &#x27;Приемное отд…</td><td>&quot;{&#x27;Сведения о пребывании пациен…</td><td>&quot;{&#x27;Характер основного заболеван…</td><td>&quot;{&#x27;Вид нозологической единицы&#x27;:…</td><td>&quot;ОСН 1 по Killip.&quot;</td><td>&quot;ОКС без подьема сегмента ST.  …</td><td>&quot;Атеросклероз брахиоцефальных а…</td><td>&quot;[&#x27;I50.1&#x27;]&quot;</td><td>&quot;I20&quot;</td><td>&quot;[&#x27;I70.8&#x27;, &#x27;E66.9&#x27;]&quot;</td><td>2022-06-08</td><td>&quot;Первичный&quot;</td><td>&quot;Плановая госпитализация&quot;</td><td>&quot;Гипертоническая болезнь III ст…</td><td>&quot;[&#x27;E11.9&#x27;, &#x27;I11.9&#x27;]&quot;</td><td>null</td><td>[2022-11-29, 2023-11-05]</td><td>[&quot;I20&quot;, &quot;I20&quot;]</td><td>0</td></tr><tr><td>&quot;5A6481F4-6A1D-7AD5-E055-000000…</td><td>&quot;Мужской&quot;</td><td>&quot;АНАМНЕЗ ЖИЗНИ:&quot;</td><td>&quot;АНАМНЕЗ ЗАБОЛЕВАНИЯ  РАНЕЕ ИБС…</td><td>&quot;[&#x27;Состояние: Удовлетворительно…</td><td>&quot;{&#x27;Название&#x27;: {0: &#x27;Приемное отд…</td><td>&quot;{&#x27;Сведения о пребывании пациен…</td><td>&quot;{&#x27;Характер основного заболеван…</td><td>&quot;{&#x27;Вид нозологической единицы&#x27;:…</td><td>&quot;ОСН VI по Kiillip. Кардиогенны…</td><td>&quot;ИБС. Инфаркт нижней стенки мио…</td><td>null</td><td>&quot;[&#x27;I50.1&#x27;]&quot;</td><td>&quot;I21&quot;</td><td>null</td><td>2020-07-10</td><td>&quot;Первичный&quot;</td><td>&quot;Доставлен бригадой скорой помо…</td><td>null</td><td>null</td><td>null</td><td>[2020-11-17]</td><td>[&quot;I20&quot;]</td><td>0</td></tr></tbody></table></div>"
      ],
      "text/plain": [
       "shape: (3, 24)\n",
       "┌────────────┬─────────┬────────────┬────────────┬───┬────────────┬───────────┬───────────┬────────┐\n",
       "│ patient_id ┆ gender  ┆ amnez_life ┆ amnez_dise ┆ … ┆ Конкурирую ┆ following ┆ following ┆ target │\n",
       "│ ---        ┆ ---     ┆ ---        ┆ ase        ┆   ┆ щее заболе ┆ _admissio ┆ _main_dis ┆ ---    │\n",
       "│ str        ┆ str     ┆ str        ┆ ---        ┆   ┆ вание      ┆ n_datetim ┆ ease_code ┆ i32    │\n",
       "│            ┆         ┆            ┆ str        ┆   ┆ ---        ┆ es        ┆ s         ┆        │\n",
       "│            ┆         ┆            ┆            ┆   ┆ str        ┆ ---       ┆ ---       ┆        │\n",
       "│            ┆         ┆            ┆            ┆   ┆            ┆ list[date ┆ list[str] ┆        │\n",
       "│            ┆         ┆            ┆            ┆   ┆            ┆ ]         ┆           ┆        │\n",
       "╞════════════╪═════════╪════════════╪════════════╪═══╪════════════╪═══════════╪═══════════╪════════╡\n",
       "│ 9A626AF6-C ┆ Мужской ┆ Б          ┆ СЧИТАЕТ    ┆ … ┆ null       ┆ [2023-01- ┆ [\"I21\"]   ┆ 1      │\n",
       "│ 17D-4A04-A ┆         ┆            ┆ СЕБЯ       ┆   ┆            ┆ 04]       ┆           ┆        │\n",
       "│ C0E-716B72 ┆         ┆            ┆ БОЛЬНЫМ С  ┆   ┆            ┆           ┆           ┆        │\n",
       "│ …          ┆         ┆            ┆ 25.12.2…   ┆   ┆            ┆           ┆           ┆        │\n",
       "│ 5C81816A-2 ┆ Мужской ┆ Б          ┆ АНАМНЕЗ    ┆ … ┆ null       ┆ [2022-11- ┆ [\"I20\",   ┆ 0      │\n",
       "│ 808-7A86-E ┆         ┆            ┆ ЗАБОЛЕВАНИ ┆   ┆            ┆ 29, 2023- ┆ \"I20\"]    ┆        │\n",
       "│ 055-000000 ┆         ┆            ┆ Я  КЛИНИКА ┆   ┆            ┆ 11-05]    ┆           ┆        │\n",
       "│ …          ┆         ┆            ┆ И…         ┆   ┆            ┆           ┆           ┆        │\n",
       "│ 5A6481F4-6 ┆ Мужской ┆ АНАМНЕЗ    ┆ АНАМНЕЗ    ┆ … ┆ null       ┆ [2020-11- ┆ [\"I20\"]   ┆ 0      │\n",
       "│ A1D-7AD5-E ┆         ┆ ЖИЗНИ:     ┆ ЗАБОЛЕВАНИ ┆   ┆            ┆ 17]       ┆           ┆        │\n",
       "│ 055-000000 ┆         ┆            ┆ Я  РАНЕЕ   ┆   ┆            ┆           ┆           ┆        │\n",
       "│ …          ┆         ┆            ┆ ИБС…       ┆   ┆            ┆           ┆           ┆        │\n",
       "└────────────┴─────────┴────────────┴────────────┴───┴────────────┴───────────┴───────────┴────────┘"
      ]
     },
     "execution_count": 7,
     "metadata": {},
     "output_type": "execute_result"
    }
   ],
   "source": [
    "epic_records_with_target = (\n",
    "    epic_records.filter(\n",
    "        epic_records.select(\"patient_id\").is_duplicated(),\n",
    "    )\n",
    "    .with_columns(\n",
    "        c(\"main_disease_code\").str.slice(\n",
    "            offset=2,\n",
    "            length=3,\n",
    "        )\n",
    "    )\n",
    "    .group_by(\"patient_id\")\n",
    "    .agg(\n",
    "        pl.all().sort_by(\"admission_datetime\").first(),\n",
    "        c(\"admission_datetime\")\n",
    "        .sort_by(\"admission_datetime\")\n",
    "        .alias(\"following_admission_datetimes\"),\n",
    "        c(\"main_disease_code\")\n",
    "        .sort_by(\"admission_datetime\")\n",
    "        .alias(\"following_main_disease_codes\"),\n",
    "    )\n",
    "    .with_columns(\n",
    "        c(\"following_admission_datetimes\").list.slice(offset=1),\n",
    "        c(\"following_main_disease_codes\").list.slice(offset=1),\n",
    "    )\n",
    "    .with_columns(\n",
    "        pl.when(c(\"following_main_disease_codes\").list.contains(\"I21\"))\n",
    "        .then(1)\n",
    "        .when(c(\"following_main_disease_codes\").list.contains(\"I22\"))\n",
    "        .then(1)\n",
    "        .otherwise(0)\n",
    "        .alias(\"target\")\n",
    "    )\n",
    ")\n",
    "epic_records_with_target.sample(3)"
   ]
  },
  {
   "cell_type": "markdown",
   "metadata": {},
   "source": [
    "### make features"
   ]
  },
  {
   "cell_type": "code",
   "execution_count": 8,
   "metadata": {},
   "outputs": [
    {
     "data": {
      "text/plain": [
       "(991, 24)"
      ]
     },
     "execution_count": 8,
     "metadata": {},
     "output_type": "execute_result"
    }
   ],
   "source": [
    "epic_records_with_target.shape"
   ]
  },
  {
   "cell_type": "code",
   "execution_count": 9,
   "metadata": {},
   "outputs": [
    {
     "data": {
      "text/html": [
       "<div><style>\n",
       ".dataframe > thead > tr,\n",
       ".dataframe > tbody > tr {\n",
       "  text-align: right;\n",
       "  white-space: pre-wrap;\n",
       "}\n",
       "</style>\n",
       "<small>shape: (1, 24)</small><table border=\"1\" class=\"dataframe\"><thead><tr><th>patient_id</th><th>gender</th><th>amnez_life</th><th>amnez_disease</th><th>condition</th><th>ward_table</th><th>full_wards</th><th>final_table1</th><th>final_table2</th><th>complication_of_main_disease_desc</th><th>main_disease_desc</th><th>secondary_disease_desc</th><th>complication_of_main_disease_code</th><th>main_disease_code</th><th>secondary_disease_code</th><th>admission_datetime</th><th>gospitalisation_type</th><th>gospitalisation_delivery</th><th>background_disease_desc</th><th>background_disease_code</th><th>Конкурирующее заболевание</th><th>following_admission_datetimes</th><th>following_main_disease_codes</th><th>target</th></tr><tr><td>u32</td><td>u32</td><td>u32</td><td>u32</td><td>u32</td><td>u32</td><td>u32</td><td>u32</td><td>u32</td><td>u32</td><td>u32</td><td>u32</td><td>u32</td><td>u32</td><td>u32</td><td>u32</td><td>u32</td><td>u32</td><td>u32</td><td>u32</td><td>u32</td><td>u32</td><td>u32</td><td>u32</td></tr></thead><tbody><tr><td>0</td><td>0</td><td>0</td><td>0</td><td>0</td><td>0</td><td>0</td><td>0</td><td>0</td><td>10</td><td>0</td><td>192</td><td>10</td><td>0</td><td>192</td><td>0</td><td>0</td><td>0</td><td>135</td><td>135</td><td>986</td><td>0</td><td>0</td><td>0</td></tr></tbody></table></div>"
      ],
      "text/plain": [
       "shape: (1, 24)\n",
       "┌────────────┬────────┬────────────┬────────────┬───┬────────────┬────────────┬───────────┬────────┐\n",
       "│ patient_id ┆ gender ┆ amnez_life ┆ amnez_dise ┆ … ┆ Конкурирую ┆ following_ ┆ following ┆ target │\n",
       "│ ---        ┆ ---    ┆ ---        ┆ ase        ┆   ┆ щее заболе ┆ admission_ ┆ _main_dis ┆ ---    │\n",
       "│ u32        ┆ u32    ┆ u32        ┆ ---        ┆   ┆ вание      ┆ datetimes  ┆ ease_code ┆ u32    │\n",
       "│            ┆        ┆            ┆ u32        ┆   ┆ ---        ┆ ---        ┆ s         ┆        │\n",
       "│            ┆        ┆            ┆            ┆   ┆ u32        ┆ u32        ┆ ---       ┆        │\n",
       "│            ┆        ┆            ┆            ┆   ┆            ┆            ┆ u32       ┆        │\n",
       "╞════════════╪════════╪════════════╪════════════╪═══╪════════════╪════════════╪═══════════╪════════╡\n",
       "│ 0          ┆ 0      ┆ 0          ┆ 0          ┆ … ┆ 986        ┆ 0          ┆ 0         ┆ 0      │\n",
       "└────────────┴────────┴────────────┴────────────┴───┴────────────┴────────────┴───────────┴────────┘"
      ]
     },
     "execution_count": 9,
     "metadata": {},
     "output_type": "execute_result"
    }
   ],
   "source": [
    "epic_records_with_target.null_count()"
   ]
  },
  {
   "cell_type": "code",
   "execution_count": 10,
   "metadata": {},
   "outputs": [
    {
     "data": {
      "text/html": [
       "<div><style>\n",
       ".dataframe > thead > tr,\n",
       ".dataframe > tbody > tr {\n",
       "  text-align: right;\n",
       "  white-space: pre-wrap;\n",
       "}\n",
       "</style>\n",
       "<small>shape: (1, 24)</small><table border=\"1\" class=\"dataframe\"><thead><tr><th>patient_id</th><th>gender</th><th>amnez_life</th><th>amnez_disease</th><th>condition</th><th>ward_table</th><th>full_wards</th><th>final_table1</th><th>final_table2</th><th>complication_of_main_disease_desc</th><th>main_disease_desc</th><th>secondary_disease_desc</th><th>complication_of_main_disease_code</th><th>main_disease_code</th><th>secondary_disease_code</th><th>admission_datetime</th><th>gospitalisation_type</th><th>gospitalisation_delivery</th><th>background_disease_desc</th><th>background_disease_code</th><th>Конкурирующее заболевание</th><th>following_admission_datetimes</th><th>following_main_disease_codes</th><th>target</th></tr><tr><td>str</td><td>str</td><td>str</td><td>str</td><td>str</td><td>str</td><td>str</td><td>str</td><td>str</td><td>str</td><td>str</td><td>str</td><td>str</td><td>str</td><td>str</td><td>date</td><td>str</td><td>str</td><td>str</td><td>str</td><td>str</td><td>list[date]</td><td>list[str]</td><td>i32</td></tr></thead><tbody><tr><td>&quot;C8D18143-01F0-414F-B642-64A5DA…</td><td>&quot;Мужской&quot;</td><td>&quot;Б&quot;</td><td>&quot;СЧИТАЕТ СЕБЯ БОЛЬНЫМ В ТЕЧЕНИЕ…</td><td>&quot;[&#x27;Состояние: Удовлетворительно…</td><td>&quot;{&#x27;Название&#x27;: {0: &#x27;Приемное отд…</td><td>&quot;{&#x27;Сведения о пребывании пациен…</td><td>&quot;{&#x27;Характер основного заболеван…</td><td>&quot;{&#x27;Вид нозологической единицы&#x27;:…</td><td>&quot;ОСН I по Killip&quot;</td><td>&quot;ОКС с подъемом сегмента ST. Си…</td><td>null</td><td>&quot;[&#x27;I50.1&#x27;]&quot;</td><td>&quot;I21&quot;</td><td>null</td><td>2022-09-19</td><td>&quot;Первичный&quot;</td><td>&quot;Доставлен бригадой скорой помо…</td><td>&quot;СД 2 типа, целевой уровень гли…</td><td>&quot;[&#x27;E11.8&#x27;, &#x27;I11.9&#x27;]&quot;</td><td>null</td><td>[2022-09-27]</td><td>[&quot;I21&quot;]</td><td>1</td></tr></tbody></table></div>"
      ],
      "text/plain": [
       "shape: (1, 24)\n",
       "┌────────────┬─────────┬────────────┬────────────┬───┬────────────┬───────────┬───────────┬────────┐\n",
       "│ patient_id ┆ gender  ┆ amnez_life ┆ amnez_dise ┆ … ┆ Конкурирую ┆ following ┆ following ┆ target │\n",
       "│ ---        ┆ ---     ┆ ---        ┆ ase        ┆   ┆ щее заболе ┆ _admissio ┆ _main_dis ┆ ---    │\n",
       "│ str        ┆ str     ┆ str        ┆ ---        ┆   ┆ вание      ┆ n_datetim ┆ ease_code ┆ i32    │\n",
       "│            ┆         ┆            ┆ str        ┆   ┆ ---        ┆ es        ┆ s         ┆        │\n",
       "│            ┆         ┆            ┆            ┆   ┆ str        ┆ ---       ┆ ---       ┆        │\n",
       "│            ┆         ┆            ┆            ┆   ┆            ┆ list[date ┆ list[str] ┆        │\n",
       "│            ┆         ┆            ┆            ┆   ┆            ┆ ]         ┆           ┆        │\n",
       "╞════════════╪═════════╪════════════╪════════════╪═══╪════════════╪═══════════╪═══════════╪════════╡\n",
       "│ C8D18143-0 ┆ Мужской ┆ Б          ┆ СЧИТАЕТ    ┆ … ┆ null       ┆ [2022-09- ┆ [\"I21\"]   ┆ 1      │\n",
       "│ 1F0-414F-B ┆         ┆            ┆ СЕБЯ       ┆   ┆            ┆ 27]       ┆           ┆        │\n",
       "│ 642-64A5DA ┆         ┆            ┆ БОЛЬНЫМ В  ┆   ┆            ┆           ┆           ┆        │\n",
       "│ …          ┆         ┆            ┆ ТЕЧЕНИЕ…   ┆   ┆            ┆           ┆           ┆        │\n",
       "└────────────┴─────────┴────────────┴────────────┴───┴────────────┴───────────┴───────────┴────────┘"
      ]
     },
     "execution_count": 10,
     "metadata": {},
     "output_type": "execute_result"
    }
   ],
   "source": [
    "epic_records_with_target.head(1)"
   ]
  },
  {
   "cell_type": "markdown",
   "metadata": {},
   "source": [
    "#### final_table2"
   ]
  },
  {
   "cell_type": "code",
   "execution_count": 11,
   "metadata": {},
   "outputs": [
    {
     "data": {
      "text/html": [
       "<div>\n",
       "<style scoped>\n",
       "    .dataframe tbody tr th:only-of-type {\n",
       "        vertical-align: middle;\n",
       "    }\n",
       "\n",
       "    .dataframe tbody tr th {\n",
       "        vertical-align: top;\n",
       "    }\n",
       "\n",
       "    .dataframe thead th {\n",
       "        text-align: right;\n",
       "    }\n",
       "</style>\n",
       "<table border=\"1\" class=\"dataframe\">\n",
       "  <thead>\n",
       "    <tr style=\"text-align: right;\">\n",
       "      <th></th>\n",
       "      <th>Вид нозологической единицы</th>\n",
       "      <th>Врачебное описание нозологической единицы</th>\n",
       "      <th>Код по МКБ-10</th>\n",
       "    </tr>\n",
       "  </thead>\n",
       "  <tbody>\n",
       "    <tr>\n",
       "      <th>0</th>\n",
       "      <td>Основное заболевание</td>\n",
       "      <td>ИБС. Острый инфаркт миокарда с зубцом Q передн...</td>\n",
       "      <td>I21.0</td>\n",
       "    </tr>\n",
       "    <tr>\n",
       "      <th>1</th>\n",
       "      <td>Основное заболевание</td>\n",
       "      <td>ИБС. Острый инфаркт миокарда с зубцом Q передн...</td>\n",
       "      <td>I21.0</td>\n",
       "    </tr>\n",
       "    <tr>\n",
       "      <th>2</th>\n",
       "      <td>Осложнение основного заболевания</td>\n",
       "      <td>ОСН I по Killip</td>\n",
       "      <td>I50.1</td>\n",
       "    </tr>\n",
       "    <tr>\n",
       "      <th>3</th>\n",
       "      <td>Конкурирующее заболевание</td>\n",
       "      <td>Носительство возбудителя новой коронавирусной ...</td>\n",
       "      <td>Z22.8</td>\n",
       "    </tr>\n",
       "    <tr>\n",
       "      <th>4</th>\n",
       "      <td>Фоновое заболевание</td>\n",
       "      <td>Гипертоническая болезнь III стадии. Неконтроли...</td>\n",
       "      <td>I11.9</td>\n",
       "    </tr>\n",
       "    <tr>\n",
       "      <th>5</th>\n",
       "      <td>Фоновое заболевание</td>\n",
       "      <td>СД 2 типа, целевой уровень гликированного гемо...</td>\n",
       "      <td>E11.8</td>\n",
       "    </tr>\n",
       "  </tbody>\n",
       "</table>\n",
       "</div>"
      ],
      "text/plain": [
       "         Вид нозологической единицы  \\\n",
       "0              Основное заболевание   \n",
       "1              Основное заболевание   \n",
       "2  Осложнение основного заболевания   \n",
       "3         Конкурирующее заболевание   \n",
       "4               Фоновое заболевание   \n",
       "5               Фоновое заболевание   \n",
       "\n",
       "           Врачебное описание нозологической единицы Код по МКБ-10  \n",
       "0  ИБС. Острый инфаркт миокарда с зубцом Q передн...         I21.0  \n",
       "1  ИБС. Острый инфаркт миокарда с зубцом Q передн...         I21.0  \n",
       "2                                    ОСН I по Killip         I50.1  \n",
       "3  Носительство возбудителя новой коронавирусной ...         Z22.8  \n",
       "4  Гипертоническая болезнь III стадии. Неконтроли...         I11.9  \n",
       "5  СД 2 типа, целевой уровень гликированного гемо...         E11.8  "
      ]
     },
     "execution_count": 11,
     "metadata": {},
     "output_type": "execute_result"
    }
   ],
   "source": [
    "pd.DataFrame(eval(epic_records_with_target[\"final_table2\"].to_numpy()[0]))"
   ]
  },
  {
   "cell_type": "code",
   "execution_count": 12,
   "metadata": {},
   "outputs": [],
   "source": [
    "# same values that are already in table"
   ]
  },
  {
   "cell_type": "code",
   "execution_count": 13,
   "metadata": {},
   "outputs": [],
   "source": [
    "epic_records_with_target = epic_records_with_target.drop(\"final_table2\")"
   ]
  },
  {
   "cell_type": "markdown",
   "metadata": {},
   "source": [
    "#### competing disease"
   ]
  },
  {
   "cell_type": "code",
   "execution_count": 14,
   "metadata": {},
   "outputs": [
    {
     "data": {
      "text/html": [
       "<div><style>\n",
       ".dataframe > thead > tr,\n",
       ".dataframe > tbody > tr {\n",
       "  text-align: right;\n",
       "  white-space: pre-wrap;\n",
       "}\n",
       "</style>\n",
       "<small>shape: (6,)</small><table border=\"1\" class=\"dataframe\"><thead><tr><th>Конкурирующее заболевание</th></tr><tr><td>str</td></tr></thead><tbody><tr><td>&quot;[&#x27;J06.9&#x27;]&quot;</td></tr><tr><td>&quot;[&#x27;K92.9&#x27;]&quot;</td></tr><tr><td>&quot;[&#x27;I40.9&#x27;]&quot;</td></tr><tr><td>&quot;[&#x27;I51.4&#x27;]&quot;</td></tr><tr><td>null</td></tr><tr><td>&quot;[&#x27;J18.1&#x27;]&quot;</td></tr></tbody></table></div>"
      ],
      "text/plain": [
       "shape: (6,)\n",
       "Series: 'Конкурирующее заболевание' [str]\n",
       "[\n",
       "\t\"['J06.9']\"\n",
       "\t\"['K92.9']\"\n",
       "\t\"['I40.9']\"\n",
       "\t\"['I51.4']\"\n",
       "\tnull\n",
       "\t\"['J18.1']\"\n",
       "]"
      ]
     },
     "execution_count": 14,
     "metadata": {},
     "output_type": "execute_result"
    }
   ],
   "source": [
    "epic_records_with_target[\"Конкурирующее заболевание\"].unique()"
   ]
  },
  {
   "cell_type": "code",
   "execution_count": 15,
   "metadata": {},
   "outputs": [],
   "source": [
    "epic_records_with_target = epic_records_with_target.with_columns(\n",
    "    (c(\"Конкурирующее заболевание\").is_not_null() * 1).alias(\"has_competing_disease\")\n",
    ").drop(\"Конкурирующее заболевание\")"
   ]
  },
  {
   "cell_type": "markdown",
   "metadata": {},
   "source": [
    "#### final_table1 -> first gospitalization results"
   ]
  },
  {
   "cell_type": "code",
   "execution_count": 16,
   "metadata": {},
   "outputs": [
    {
     "data": {
      "text/html": [
       "<div><style>\n",
       ".dataframe > thead > tr,\n",
       ".dataframe > tbody > tr {\n",
       "  text-align: right;\n",
       "  white-space: pre-wrap;\n",
       "}\n",
       "</style>\n",
       "<small>shape: (1, 5)</small><table border=\"1\" class=\"dataframe\"><thead><tr><th>Характер основного заболевания</th><th>Исход госпитализации</th><th>Результат обращения</th><th>Признак подозрения на злокачественное новообразование</th><th>Признак развертывания индивидуального поста</th></tr><tr><td>str</td><td>str</td><td>str</td><td>str</td><td>str</td></tr></thead><tbody><tr><td>&quot;Острое&quot;</td><td>&quot;None&quot;</td><td>&quot;Улучшение&quot;</td><td>&quot;Нет&quot;</td><td>&quot;Нет&quot;</td></tr></tbody></table></div>"
      ],
      "text/plain": [
       "shape: (1, 5)\n",
       "┌─────────────┬────────────────┬─────────────────────┬───────────────────────┬───────────────┐\n",
       "│ Характер    ┆ Исход          ┆ Результат обращения ┆ Признак подозрения на ┆ Признак       │\n",
       "│ основного   ┆ госпитализации ┆ ---                 ┆ злокачес…             ┆ развертывания │\n",
       "│ заболевания ┆ ---            ┆ str                 ┆ ---                   ┆ индивиду…     │\n",
       "│ ---         ┆ str            ┆                     ┆ str                   ┆ ---           │\n",
       "│ str         ┆                ┆                     ┆                       ┆ str           │\n",
       "╞═════════════╪════════════════╪═════════════════════╪═══════════════════════╪═══════════════╡\n",
       "│ Острое      ┆ None           ┆ Улучшение           ┆ Нет                   ┆ Нет           │\n",
       "└─────────────┴────────────────┴─────────────────────┴───────────────────────┴───────────────┘"
      ]
     },
     "execution_count": 16,
     "metadata": {},
     "output_type": "execute_result"
    }
   ],
   "source": [
    "# plt.hist\n",
    "pl.from_pandas(\n",
    "    pd.DataFrame(\n",
    "        eval(\n",
    "            epic_records_with_target.with_columns(\n",
    "                c(\"final_table1\").str.len_chars().alias(\"fdsa\")\n",
    "            )\n",
    "            .sort([\"fdsa\"])[\"final_table1\"]\n",
    "            .to_numpy()[241]\n",
    "        )\n",
    "    )\n",
    ")"
   ]
  },
  {
   "cell_type": "code",
   "execution_count": 17,
   "metadata": {},
   "outputs": [
    {
     "data": {
      "text/html": [
       "<div><style>\n",
       ".dataframe > thead > tr,\n",
       ".dataframe > tbody > tr {\n",
       "  text-align: right;\n",
       "  white-space: pre-wrap;\n",
       "}\n",
       "</style>\n",
       "<small>shape: (1, 2)</small><table border=\"1\" class=\"dataframe\"><thead><tr><th>main_desease_status</th><th>count</th></tr><tr><td>str</td><td>u32</td></tr></thead><tbody><tr><td>&quot;Нет&quot;</td><td>991</td></tr></tbody></table></div>"
      ],
      "text/plain": [
       "shape: (1, 2)\n",
       "┌─────────────────────┬───────┐\n",
       "│ main_desease_status ┆ count │\n",
       "│ ---                 ┆ ---   │\n",
       "│ str                 ┆ u32   │\n",
       "╞═════════════════════╪═══════╡\n",
       "│ Нет                 ┆ 991   │\n",
       "└─────────────────────┴───────┘"
      ]
     },
     "execution_count": 17,
     "metadata": {},
     "output_type": "execute_result"
    }
   ],
   "source": [
    "def search_condition(x):\n",
    "\n",
    "    try:\n",
    "        found = re.search(\n",
    "            r\"Признак развертывания индивидуального поста\\':\\s{0:\\s\\'(\\D*)\\'}\",\n",
    "            x,\n",
    "        ).group(1)\n",
    "    except AttributeError:\n",
    "        # match not found in the original string\n",
    "        found = \"\"  # apply your error handling\n",
    "    return found\n",
    "\n",
    "\n",
    "(\n",
    "    epic_records_with_target.with_columns(\n",
    "        c(\"final_table1\")\n",
    "        .map_elements(\n",
    "            search_condition,\n",
    "            return_dtype=str,\n",
    "        )\n",
    "        .alias(\"main_desease_status\")\n",
    "    )[\"main_desease_status\"]\n",
    "    .value_counts()\n",
    "    .sort(\"count\", descending=True)\n",
    ")"
   ]
  },
  {
   "cell_type": "code",
   "execution_count": 18,
   "metadata": {},
   "outputs": [
    {
     "data": {
      "text/html": [
       "<div><style>\n",
       ".dataframe > thead > tr,\n",
       ".dataframe > tbody > tr {\n",
       "  text-align: right;\n",
       "  white-space: pre-wrap;\n",
       "}\n",
       "</style>\n",
       "<small>shape: (1, 2)</small><table border=\"1\" class=\"dataframe\"><thead><tr><th>main_desease_status</th><th>count</th></tr><tr><td>str</td><td>u32</td></tr></thead><tbody><tr><td>&quot;Нет&quot;</td><td>991</td></tr></tbody></table></div>"
      ],
      "text/plain": [
       "shape: (1, 2)\n",
       "┌─────────────────────┬───────┐\n",
       "│ main_desease_status ┆ count │\n",
       "│ ---                 ┆ ---   │\n",
       "│ str                 ┆ u32   │\n",
       "╞═════════════════════╪═══════╡\n",
       "│ Нет                 ┆ 991   │\n",
       "└─────────────────────┴───────┘"
      ]
     },
     "execution_count": 18,
     "metadata": {},
     "output_type": "execute_result"
    }
   ],
   "source": [
    "def search_condition(x):\n",
    "\n",
    "    try:\n",
    "        found = re.search(\n",
    "            r\"Признак подозрения на злокачественное новообразование\\':\\s{0:\\s\\'(\\D*)\\'}\",\n",
    "            x,\n",
    "        ).group(1)\n",
    "    except AttributeError:\n",
    "        # match not found in the original string\n",
    "        found = \"\"  # apply your error handling\n",
    "    return found\n",
    "\n",
    "\n",
    "(\n",
    "    epic_records_with_target.with_columns(\n",
    "        c(\"final_table1\")\n",
    "        .map_elements(\n",
    "            search_condition,\n",
    "            return_dtype=str,\n",
    "        )\n",
    "        .alias(\"main_desease_status\")\n",
    "    )[\"main_desease_status\"]\n",
    "    .value_counts()\n",
    "    .sort(\"count\", descending=True)\n",
    ")"
   ]
  },
  {
   "cell_type": "code",
   "execution_count": 19,
   "metadata": {},
   "outputs": [
    {
     "data": {
      "text/html": [
       "<div><style>\n",
       ".dataframe > thead > tr,\n",
       ".dataframe > tbody > tr {\n",
       "  text-align: right;\n",
       "  white-space: pre-wrap;\n",
       "}\n",
       "</style>\n",
       "<small>shape: (3, 2)</small><table border=\"1\" class=\"dataframe\"><thead><tr><th>gospitalization_result</th><th>count</th></tr><tr><td>str</td><td>u32</td></tr></thead><tbody><tr><td>&quot;Улучшение&quot;</td><td>961</td></tr><tr><td>&quot;Ухудшение&quot;</td><td>2</td></tr><tr><td>&quot;Без изменения&quot;</td><td>28</td></tr></tbody></table></div>"
      ],
      "text/plain": [
       "shape: (3, 2)\n",
       "┌────────────────────────┬───────┐\n",
       "│ gospitalization_result ┆ count │\n",
       "│ ---                    ┆ ---   │\n",
       "│ str                    ┆ u32   │\n",
       "╞════════════════════════╪═══════╡\n",
       "│ Улучшение              ┆ 961   │\n",
       "│ Ухудшение              ┆ 2     │\n",
       "│ Без изменения          ┆ 28    │\n",
       "└────────────────────────┴───────┘"
      ]
     },
     "execution_count": 19,
     "metadata": {},
     "output_type": "execute_result"
    }
   ],
   "source": [
    "def search_condition(x):\n",
    "\n",
    "    try:\n",
    "        found = re.search(\n",
    "            r\"Результат обращения\\':\\s{0:\\s\\'(\\D*)\\'}\",\n",
    "            x,\n",
    "        ).group(1)\n",
    "    except AttributeError:\n",
    "        # match not found in the original string\n",
    "        found = \"\"  # apply your error handling\n",
    "    return found\n",
    "\n",
    "\n",
    "epic_records_with_target = epic_records_with_target.with_columns(\n",
    "    c(\"final_table1\")\n",
    "    .map_elements(\n",
    "        search_condition,\n",
    "        return_dtype=str,\n",
    "    )\n",
    "    .alias(\"gospitalization_result\")\n",
    ")\n",
    "epic_records_with_target[\"gospitalization_result\"].value_counts()"
   ]
  },
  {
   "cell_type": "code",
   "execution_count": 20,
   "metadata": {},
   "outputs": [
    {
     "data": {
      "text/html": [
       "<div><style>\n",
       ".dataframe > thead > tr,\n",
       ".dataframe > tbody > tr {\n",
       "  text-align: right;\n",
       "  white-space: pre-wrap;\n",
       "}\n",
       "</style>\n",
       "<small>shape: (1, 2)</small><table border=\"1\" class=\"dataframe\"><thead><tr><th>main_desease_status</th><th>count</th></tr><tr><td>str</td><td>u32</td></tr></thead><tbody><tr><td>&quot;None&quot;</td><td>991</td></tr></tbody></table></div>"
      ],
      "text/plain": [
       "shape: (1, 2)\n",
       "┌─────────────────────┬───────┐\n",
       "│ main_desease_status ┆ count │\n",
       "│ ---                 ┆ ---   │\n",
       "│ str                 ┆ u32   │\n",
       "╞═════════════════════╪═══════╡\n",
       "│ None                ┆ 991   │\n",
       "└─────────────────────┴───────┘"
      ]
     },
     "execution_count": 20,
     "metadata": {},
     "output_type": "execute_result"
    }
   ],
   "source": [
    "def search_condition(x):\n",
    "\n",
    "    try:\n",
    "        found = re.search(\n",
    "            r\"Исход госпитализации\\':\\s{0:\\s\\'(\\D*)\\'}\",\n",
    "            x,\n",
    "        ).group(1)\n",
    "    except AttributeError:\n",
    "        # match not found in the original string\n",
    "        found = \"\"  # apply your error handling\n",
    "    return found\n",
    "\n",
    "\n",
    "(\n",
    "    epic_records_with_target.with_columns(\n",
    "        c(\"final_table1\")\n",
    "        .map_elements(\n",
    "            search_condition,\n",
    "            return_dtype=str,\n",
    "        )\n",
    "        .alias(\"main_desease_status\")\n",
    "    )[\"main_desease_status\"]\n",
    "    .value_counts()\n",
    "    .sort(\"count\", descending=True)\n",
    ")"
   ]
  },
  {
   "cell_type": "code",
   "execution_count": 21,
   "metadata": {},
   "outputs": [
    {
     "data": {
      "text/html": [
       "<div><style>\n",
       ".dataframe > thead > tr,\n",
       ".dataframe > tbody > tr {\n",
       "  text-align: right;\n",
       "  white-space: pre-wrap;\n",
       "}\n",
       "</style>\n",
       "<small>shape: (3, 2)</small><table border=\"1\" class=\"dataframe\"><thead><tr><th>main_desease_status</th><th>count</th></tr><tr><td>str</td><td>u32</td></tr></thead><tbody><tr><td>&quot;Острое&quot;</td><td>951</td></tr><tr><td>&quot;Ранее установленное хроническо…</td><td>24</td></tr><tr><td>&quot;None&quot;</td><td>16</td></tr></tbody></table></div>"
      ],
      "text/plain": [
       "shape: (3, 2)\n",
       "┌─────────────────────────────────┬───────┐\n",
       "│ main_desease_status             ┆ count │\n",
       "│ ---                             ┆ ---   │\n",
       "│ str                             ┆ u32   │\n",
       "╞═════════════════════════════════╪═══════╡\n",
       "│ Острое                          ┆ 951   │\n",
       "│ Ранее установленное хроническо… ┆ 24    │\n",
       "│ None                            ┆ 16    │\n",
       "└─────────────────────────────────┴───────┘"
      ]
     },
     "execution_count": 21,
     "metadata": {},
     "output_type": "execute_result"
    }
   ],
   "source": [
    "def search_condition(x):\n",
    "\n",
    "    try:\n",
    "        found = re.search(\n",
    "            r\"Характер основного заболевания\\':\\s{0:\\s\\'(\\D*)\\'}\",\n",
    "            x,\n",
    "        ).group(1)\n",
    "    except AttributeError:\n",
    "        # match not found in the original string\n",
    "        found = \"\"  # apply your error handling\n",
    "    return found\n",
    "\n",
    "\n",
    "epic_records_with_target = epic_records_with_target.with_columns(\n",
    "    c(\"final_table1\")\n",
    "    .map_elements(\n",
    "        search_condition,\n",
    "        return_dtype=str,\n",
    "    )\n",
    "    .alias(\"main_desease_status\")\n",
    ")\n",
    "epic_records_with_target[\"main_desease_status\"].value_counts()"
   ]
  },
  {
   "cell_type": "code",
   "execution_count": 22,
   "metadata": {},
   "outputs": [],
   "source": [
    "epic_records_with_target = epic_records_with_target.drop(\"final_table1\")"
   ]
  },
  {
   "cell_type": "markdown",
   "metadata": {},
   "source": [
    "#### condition"
   ]
  },
  {
   "cell_type": "code",
   "execution_count": 23,
   "metadata": {},
   "outputs": [
    {
     "data": {
      "image/png": "[encoded data removed]",
      "text/plain": [
       "<Figure size 640x480 with 1 Axes>"
      ]
     },
     "metadata": {},
     "output_type": "display_data"
    }
   ],
   "source": [
    "plt.hist(\n",
    "    epic_records_with_target.with_columns(c(\"condition\").str.len_chars().alias(\"fdsa\"))\n",
    "    .sort([\"fdsa\"])[\"fdsa\"]\n",
    "    .to_numpy()\n",
    "    # [140]\n",
    ")\n",
    "plt.xlabel(\"len of 'condition' feature\")\n",
    "plt.grid()"
   ]
  },
  {
   "cell_type": "code",
   "execution_count": 24,
   "metadata": {},
   "outputs": [
    {
     "data": {
      "text/html": [
       "<div><style>\n",
       ".dataframe > thead > tr,\n",
       ".dataframe > tbody > tr {\n",
       "  text-align: right;\n",
       "  white-space: pre-wrap;\n",
       "}\n",
       "</style>\n",
       "<small>shape: (4,)</small><table border=\"1\" class=\"dataframe\"><thead><tr><th>condition_status</th></tr><tr><td>str</td></tr></thead><tbody><tr><td>&quot;Тяжелое&quot;</td></tr><tr><td>&quot;Средней тяжести&quot;</td></tr><tr><td>&quot;Крайне тяжелое&quot;</td></tr><tr><td>&quot;Удовлетворительное&quot;</td></tr></tbody></table></div>"
      ],
      "text/plain": [
       "shape: (4,)\n",
       "Series: 'condition_status' [str]\n",
       "[\n",
       "\t\"Тяжелое\"\n",
       "\t\"Средней тяжести\"\n",
       "\t\"Крайне тяжелое\"\n",
       "\t\"Удовлетворительное\"\n",
       "]"
      ]
     },
     "execution_count": 24,
     "metadata": {},
     "output_type": "execute_result"
    }
   ],
   "source": [
    "def search_condition(x):\n",
    "\n",
    "    try:\n",
    "        found = re.search(\n",
    "            r\"Состояние:\\s*(.{2,24})',\",\n",
    "            x,\n",
    "        ).group(1)\n",
    "    except AttributeError:\n",
    "        # match not found in the original string\n",
    "        found = \"\"  # apply your error handling\n",
    "    return found\n",
    "\n",
    "\n",
    "epic_records_with_target = epic_records_with_target.with_columns(\n",
    "    c(\"condition\")\n",
    "    .map_elements(\n",
    "        search_condition,\n",
    "        return_dtype=str,\n",
    "    )\n",
    "    .alias(\"condition_status\")\n",
    ")\n",
    "epic_records_with_target[\"condition_status\"].unique()"
   ]
  },
  {
   "cell_type": "code",
   "execution_count": 88,
   "metadata": {},
   "outputs": [
    {
     "data": {
      "text/html": [
       "<div><style>\n",
       ".dataframe > thead > tr,\n",
       ".dataframe > tbody > tr {\n",
       "  text-align: right;\n",
       "  white-space: pre-wrap;\n",
       "}\n",
       "</style>\n",
       "<small>shape: (5, 2)</small><table border=\"1\" class=\"dataframe\"><thead><tr><th>BMI</th><th>count</th></tr><tr><td>str</td><td>u32</td></tr></thead><tbody><tr><td>&quot;&quot;</td><td>753</td></tr><tr><td>&quot;28&quot;</td><td>22</td></tr><tr><td>&quot;30&quot;</td><td>21</td></tr><tr><td>&quot;29&quot;</td><td>20</td></tr><tr><td>&quot;24&quot;</td><td>19</td></tr></tbody></table></div>"
      ],
      "text/plain": [
       "shape: (5, 2)\n",
       "┌─────┬───────┐\n",
       "│ BMI ┆ count │\n",
       "│ --- ┆ ---   │\n",
       "│ str ┆ u32   │\n",
       "╞═════╪═══════╡\n",
       "│     ┆ 753   │\n",
       "│ 28  ┆ 22    │\n",
       "│ 30  ┆ 21    │\n",
       "│ 29  ┆ 20    │\n",
       "│ 24  ┆ 19    │\n",
       "└─────┴───────┘"
      ]
     },
     "execution_count": 88,
     "metadata": {},
     "output_type": "execute_result"
    }
   ],
   "source": [
    "def search_condition(x):\n",
    "\n",
    "    try:\n",
    "        found = re.search(\n",
    "            r\"ИМТ\\D*(\\d+)\",\n",
    "            x,\n",
    "        ).group(1)\n",
    "    except AttributeError:\n",
    "        # match not found in the original string\n",
    "        found = \"\"  # apply your error handling\n",
    "    return found\n",
    "\n",
    "\n",
    "(\n",
    "    epic_records_with_target.with_columns(\n",
    "        c(\"condition\")\n",
    "        .map_elements(\n",
    "            search_condition,\n",
    "            return_dtype=str,\n",
    "        )\n",
    "        .alias(\"BMI\")\n",
    "    )[\"BMI\"]\n",
    "    .value_counts()\n",
    "    .sort(\"count\", descending=True)\n",
    "    .head()\n",
    ")"
   ]
  },
  {
   "cell_type": "code",
   "execution_count": 26,
   "metadata": {},
   "outputs": [
    {
     "data": {
      "text/html": [
       "<div><style>\n",
       ".dataframe > thead > tr,\n",
       ".dataframe > tbody > tr {\n",
       "  text-align: right;\n",
       "  white-space: pre-wrap;\n",
       "}\n",
       "</style>\n",
       "<small>shape: (15, 2)</small><table border=\"1\" class=\"dataframe\"><thead><tr><th>oxygen</th><th>count</th></tr><tr><td>str</td><td>u32</td></tr></thead><tbody><tr><td>&quot;&quot;</td><td>825</td></tr><tr><td>&quot;98&quot;</td><td>91</td></tr><tr><td>&quot;97&quot;</td><td>25</td></tr><tr><td>&quot;96&quot;</td><td>17</td></tr><tr><td>&quot;99&quot;</td><td>11</td></tr><tr><td>&quot;95&quot;</td><td>10</td></tr><tr><td>&quot;93&quot;</td><td>2</td></tr><tr><td>&quot;88&quot;</td><td>2</td></tr><tr><td>&quot;89&quot;</td><td>2</td></tr><tr><td>&quot;92&quot;</td><td>1</td></tr><tr><td>&quot;94&quot;</td><td>1</td></tr><tr><td>&quot;80&quot;</td><td>1</td></tr><tr><td>&quot;100&quot;</td><td>1</td></tr><tr><td>&quot;0&quot;</td><td>1</td></tr><tr><td>&quot;90&quot;</td><td>1</td></tr></tbody></table></div>"
      ],
      "text/plain": [
       "shape: (15, 2)\n",
       "┌────────┬───────┐\n",
       "│ oxygen ┆ count │\n",
       "│ ---    ┆ ---   │\n",
       "│ str    ┆ u32   │\n",
       "╞════════╪═══════╡\n",
       "│        ┆ 825   │\n",
       "│ 98     ┆ 91    │\n",
       "│ 97     ┆ 25    │\n",
       "│ 96     ┆ 17    │\n",
       "│ 99     ┆ 11    │\n",
       "│ 95     ┆ 10    │\n",
       "│ 93     ┆ 2     │\n",
       "│ 88     ┆ 2     │\n",
       "│ 89     ┆ 2     │\n",
       "│ 92     ┆ 1     │\n",
       "│ 94     ┆ 1     │\n",
       "│ 80     ┆ 1     │\n",
       "│ 100    ┆ 1     │\n",
       "│ 0      ┆ 1     │\n",
       "│ 90     ┆ 1     │\n",
       "└────────┴───────┘"
      ]
     },
     "execution_count": 26,
     "metadata": {},
     "output_type": "execute_result"
    }
   ],
   "source": [
    "def search_condition(x):\n",
    "\n",
    "    try:\n",
    "        found = re.search(\n",
    "            r\"НАСЫЩЕНИЕ КРОВИ КИСЛОРОДОМ \\(САТУРАЦИЯ, %\\)\\D*(\\d+)\",\n",
    "            x,\n",
    "        ).group(1)\n",
    "    except AttributeError:\n",
    "        # match not found in the original string\n",
    "        found = \"\"  # apply your error handling\n",
    "    return found\n",
    "\n",
    "\n",
    "(\n",
    "    epic_records_with_target.with_columns(\n",
    "        c(\"condition\")\n",
    "        .map_elements(\n",
    "            search_condition,\n",
    "            return_dtype=str,\n",
    "        )\n",
    "        .alias(\"oxygen\")\n",
    "    )[\"oxygen\"]\n",
    "    .value_counts()\n",
    "    .sort(\"count\", descending=True)\n",
    ")"
   ]
  },
  {
   "cell_type": "code",
   "execution_count": 27,
   "metadata": {},
   "outputs": [],
   "source": [
    "def clean_condition(x):\n",
    "    b = re.sub(\n",
    "        r\"'\\Состояние:\\s*(.{2,24})\\',\",\n",
    "        \" \",\n",
    "        x,\n",
    "    )\n",
    "    b = re.sub(\n",
    "        r\"\\\\n\",\n",
    "        \" \",\n",
    "        b,\n",
    "    )\n",
    "    b = re.sub(\n",
    "        r\"  +\",\n",
    "        \" \",\n",
    "        b,\n",
    "    )\n",
    "    return b\n",
    "\n",
    "\n",
    "epic_records_with_target = (\n",
    "    epic_records_with_target.with_columns(\n",
    "        c(\"condition\").map_elements(\n",
    "            clean_condition,\n",
    "            return_dtype=str,\n",
    "        )\n",
    "    )\n",
    "    # [\"full_wards\"]\n",
    "    # .value_counts()\n",
    "    # .sort(\"count\", descending=True)\n",
    "    # .to_numpy()\n",
    "    # [0]\n",
    ")"
   ]
  },
  {
   "cell_type": "markdown",
   "metadata": {},
   "source": [
    "#### full wards"
   ]
  },
  {
   "cell_type": "code",
   "execution_count": 28,
   "metadata": {},
   "outputs": [
    {
     "data": {
      "image/png": "[encoded data removed]",
      "text/plain": [
       "<Figure size 640x480 with 1 Axes>"
      ]
     },
     "metadata": {},
     "output_type": "display_data"
    }
   ],
   "source": [
    "plt.hist(\n",
    "    epic_records_with_target.with_columns(c(\"full_wards\").str.len_chars().alias(\"fdsa\"))\n",
    "    .sort([\"fdsa\"])[\"fdsa\"]\n",
    "    .to_numpy()\n",
    "    # [140]\n",
    ")\n",
    "plt.xlabel(\"len of 'full_wards' feature\")\n",
    "plt.grid()"
   ]
  },
  {
   "cell_type": "code",
   "execution_count": 29,
   "metadata": {},
   "outputs": [],
   "source": [
    "def clean_full_wards(x):\n",
    "    x = x.replace(\"!\", \"\")\n",
    "    x = re.sub(\n",
    "        r\"{urn:hl7-org:v3}\",\n",
    "        \" \",\n",
    "        x,\n",
    "    )\n",
    "    x = re.sub(\n",
    "        r\"\\'\\D+\\':\",\n",
    "        \" \",\n",
    "        x,\n",
    "    )\n",
    "    x = re.sub(\n",
    "        r\"[\\\\n{}\\'\\\"]\",\n",
    "        \" \",\n",
    "        x,\n",
    "    )\n",
    "    x = re.sub(\n",
    "        r\"  +\",\n",
    "        \" \",\n",
    "        x,\n",
    "    )\n",
    "    return x\n",
    "\n",
    "\n",
    "epic_records_with_target = (\n",
    "    epic_records_with_target.with_columns(\n",
    "        c(\"full_wards\").map_elements(\n",
    "            clean_full_wards,\n",
    "            return_dtype=str,\n",
    "        )\n",
    "    )\n",
    "    # [\"full_wards\"]\n",
    "    # .value_counts()\n",
    "    # .sort(\"count\", descending=True)\n",
    "    # .to_numpy()\n",
    "    # [0]\n",
    ")"
   ]
  },
  {
   "cell_type": "code",
   "execution_count": 30,
   "metadata": {},
   "outputs": [],
   "source": [
    "def search_condition(x):\n",
    "\n",
    "    try:\n",
    "        found = re.search(\n",
    "            r\"ДАТА РОЖДЕНИЯ\\):\\s(\\d{2}) \",\n",
    "            x,\n",
    "        ).group(1)\n",
    "    except AttributeError:\n",
    "        # match not found in the original string\n",
    "        found = \"\"  # apply your error handling\n",
    "    return found\n",
    "\n",
    "\n",
    "epic_records_with_target = epic_records_with_target.with_columns(\n",
    "    c(\"full_wards\")\n",
    "    .map_elements(\n",
    "        search_condition,\n",
    "        return_dtype=str,\n",
    "    )\n",
    "    .alias(\"age\")\n",
    ")"
   ]
  },
  {
   "cell_type": "code",
   "execution_count": 31,
   "metadata": {},
   "outputs": [
    {
     "data": {
      "text/html": [
       "<div><style>\n",
       ".dataframe > thead > tr,\n",
       ".dataframe > tbody > tr {\n",
       "  text-align: right;\n",
       "  white-space: pre-wrap;\n",
       "}\n",
       "</style>\n",
       "<small>shape: (5, 2)</small><table border=\"1\" class=\"dataframe\"><thead><tr><th>heart_rate</th><th>count</th></tr><tr><td>str</td><td>u32</td></tr></thead><tbody><tr><td>&quot;68&quot;</td><td>51</td></tr><tr><td>&quot;64&quot;</td><td>46</td></tr><tr><td>&quot;76&quot;</td><td>43</td></tr><tr><td>&quot;&quot;</td><td>35</td></tr><tr><td>&quot;72&quot;</td><td>33</td></tr></tbody></table></div>"
      ],
      "text/plain": [
       "shape: (5, 2)\n",
       "┌────────────┬───────┐\n",
       "│ heart_rate ┆ count │\n",
       "│ ---        ┆ ---   │\n",
       "│ str        ┆ u32   │\n",
       "╞════════════╪═══════╡\n",
       "│ 68         ┆ 51    │\n",
       "│ 64         ┆ 46    │\n",
       "│ 76         ┆ 43    │\n",
       "│            ┆ 35    │\n",
       "│ 72         ┆ 33    │\n",
       "└────────────┴───────┘"
      ]
     },
     "execution_count": 31,
     "metadata": {},
     "output_type": "execute_result"
    }
   ],
   "source": [
    "def search_condition(x):\n",
    "\n",
    "    try:\n",
    "        found = re.search(\n",
    "            r\"ЧСС\\s*[-,:РАВЕН]*\\s*(\\d{2,4})\",\n",
    "            x,\n",
    "        ).group(1)\n",
    "    except AttributeError:\n",
    "        # match not found in the original string\n",
    "        found = \"\"  # apply your error handling\n",
    "    return found\n",
    "\n",
    "\n",
    "epic_records_with_target = epic_records_with_target.with_columns(\n",
    "    c(\"full_wards\")\n",
    "    .map_elements(\n",
    "        search_condition,\n",
    "        return_dtype=str,\n",
    "    )\n",
    "    .alias(\"heart_rate\")\n",
    ")\n",
    "(\n",
    "    epic_records_with_target[\"heart_rate\"].value_counts().sort(\"count\", descending=True)\n",
    ").head(5)"
   ]
  },
  {
   "cell_type": "code",
   "execution_count": 32,
   "metadata": {},
   "outputs": [
    {
     "data": {
      "text/html": [
       "<div><style>\n",
       ".dataframe > thead > tr,\n",
       ".dataframe > tbody > tr {\n",
       "  text-align: right;\n",
       "  white-space: pre-wrap;\n",
       "}\n",
       "</style>\n",
       "<small>shape: (5, 2)</small><table border=\"1\" class=\"dataframe\"><thead><tr><th>BMI</th><th>count</th></tr><tr><td>str</td><td>u32</td></tr></thead><tbody><tr><td>&quot;&quot;</td><td>565</td></tr><tr><td>&quot;31&quot;</td><td>37</td></tr><tr><td>&quot;32&quot;</td><td>35</td></tr><tr><td>&quot;28&quot;</td><td>33</td></tr><tr><td>&quot;30&quot;</td><td>30</td></tr></tbody></table></div>"
      ],
      "text/plain": [
       "shape: (5, 2)\n",
       "┌─────┬───────┐\n",
       "│ BMI ┆ count │\n",
       "│ --- ┆ ---   │\n",
       "│ str ┆ u32   │\n",
       "╞═════╪═══════╡\n",
       "│     ┆ 565   │\n",
       "│ 31  ┆ 37    │\n",
       "│ 32  ┆ 35    │\n",
       "│ 28  ┆ 33    │\n",
       "│ 30  ┆ 30    │\n",
       "└─────┴───────┘"
      ]
     },
     "execution_count": 32,
     "metadata": {},
     "output_type": "execute_result"
    }
   ],
   "source": [
    "def search_condition(x):\n",
    "\n",
    "    try:\n",
    "        found = re.search(\n",
    "            r\"ИМТ\\D*(\\d+)\",\n",
    "            x,\n",
    "        ).group(1)\n",
    "    except AttributeError:\n",
    "        # match not found in the original string\n",
    "        found = \"\"  # apply your error handling\n",
    "    return found\n",
    "\n",
    "\n",
    "epic_records_with_target = epic_records_with_target.with_columns(\n",
    "    c(\"full_wards\")\n",
    "    .map_elements(\n",
    "        search_condition,\n",
    "        return_dtype=str,\n",
    "    )\n",
    "    .alias(\"BMI\")\n",
    ")\n",
    "(epic_records_with_target[\"BMI\"].value_counts().sort(\"count\", descending=True).head())"
   ]
  },
  {
   "cell_type": "code",
   "execution_count": 33,
   "metadata": {},
   "outputs": [
    {
     "data": {
      "text/html": [
       "<div><style>\n",
       ".dataframe > thead > tr,\n",
       ".dataframe > tbody > tr {\n",
       "  text-align: right;\n",
       "  white-space: pre-wrap;\n",
       "}\n",
       "</style>\n",
       "<small>shape: (10, 2)</small><table border=\"1\" class=\"dataframe\"><thead><tr><th>right atrium</th><th>count</th></tr><tr><td>str</td><td>u32</td></tr></thead><tbody><tr><td>&quot;3,5&quot;</td><td>162</td></tr><tr><td>&quot;3,6&quot;</td><td>149</td></tr><tr><td>&quot;3,4&quot;</td><td>106</td></tr><tr><td>&quot;3,8&quot;</td><td>75</td></tr><tr><td>&quot;3,3&quot;</td><td>72</td></tr><tr><td>&quot;3,7&quot;</td><td>66</td></tr><tr><td>&quot;3,2&quot;</td><td>50</td></tr><tr><td>&quot;3,9&quot;</td><td>41</td></tr><tr><td>&quot;&quot;</td><td>30</td></tr><tr><td>&quot;4,0&quot;</td><td>26</td></tr></tbody></table></div>"
      ],
      "text/plain": [
       "shape: (10, 2)\n",
       "┌──────────────┬───────┐\n",
       "│ right atrium ┆ count │\n",
       "│ ---          ┆ ---   │\n",
       "│ str          ┆ u32   │\n",
       "╞══════════════╪═══════╡\n",
       "│ 3,5          ┆ 162   │\n",
       "│ 3,6          ┆ 149   │\n",
       "│ 3,4          ┆ 106   │\n",
       "│ 3,8          ┆ 75    │\n",
       "│ 3,3          ┆ 72    │\n",
       "│ 3,7          ┆ 66    │\n",
       "│ 3,2          ┆ 50    │\n",
       "│ 3,9          ┆ 41    │\n",
       "│              ┆ 30    │\n",
       "│ 4,0          ┆ 26    │\n",
       "└──────────────┴───────┘"
      ]
     },
     "execution_count": 33,
     "metadata": {},
     "output_type": "execute_result"
    }
   ],
   "source": [
    "def search_condition(x):\n",
    "\n",
    "    try:\n",
    "        found = re.search(\n",
    "            r\"ПРАВОЕ ПРЕДСЕРДИЕ:*[\\sНЕОТЧЕТЛИВО]*\\s*(\\d[,.]{0,1}\\d{0,1})\",\n",
    "            x,\n",
    "        ).group(1)\n",
    "    except AttributeError:\n",
    "        # match not found in the original string\n",
    "        found = \"\"  # apply your error handling\n",
    "    return found\n",
    "\n",
    "\n",
    "epic_records_with_target = epic_records_with_target.with_columns(\n",
    "    c(\"full_wards\")\n",
    "    .map_elements(\n",
    "        search_condition,\n",
    "        return_dtype=str,\n",
    "    )\n",
    "    .alias(\"right atrium\")\n",
    ")\n",
    "(\n",
    "    epic_records_with_target[\"right atrium\"]\n",
    "    .value_counts()\n",
    "    .sort(\"count\", descending=True)\n",
    "    .head(10)\n",
    ")"
   ]
  },
  {
   "cell_type": "markdown",
   "metadata": {},
   "source": [
    "#### ward_table"
   ]
  },
  {
   "cell_type": "code",
   "execution_count": 34,
   "metadata": {},
   "outputs": [
    {
     "data": {
      "text/html": [
       "<div>\n",
       "<style scoped>\n",
       "    .dataframe tbody tr th:only-of-type {\n",
       "        vertical-align: middle;\n",
       "    }\n",
       "\n",
       "    .dataframe tbody tr th {\n",
       "        vertical-align: top;\n",
       "    }\n",
       "\n",
       "    .dataframe thead th {\n",
       "        text-align: right;\n",
       "    }\n",
       "</style>\n",
       "<table border=\"1\" class=\"dataframe\">\n",
       "  <thead>\n",
       "    <tr style=\"text-align: right;\">\n",
       "      <th></th>\n",
       "      <th>Название</th>\n",
       "      <th>Дата поступления</th>\n",
       "      <th>Дата перевода</th>\n",
       "      <th>Профиль койки</th>\n",
       "      <th>Лечащий врач</th>\n",
       "    </tr>\n",
       "  </thead>\n",
       "  <tbody>\n",
       "    <tr>\n",
       "      <th>0</th>\n",
       "      <td>Приемное отделение</td>\n",
       "      <td>20.09.2020 21:40</td>\n",
       "      <td>20.09.2020 21:49</td>\n",
       "      <td>!!!!!!!!!!!!! !!!!!!!!!!!!! ! (Врач-кардиолог)</td>\n",
       "      <td>None</td>\n",
       "    </tr>\n",
       "    <tr>\n",
       "      <th>1</th>\n",
       "      <td>Кардиологическое отделение с ПРиИТ для лечения...</td>\n",
       "      <td>20.09.2020 21:50</td>\n",
       "      <td>20.09.2020 22:06</td>\n",
       "      <td>!!!!!!!!!!!!! !!!!!!!!!!!!! !!!!!!!!!!!!! (Зав...</td>\n",
       "      <td>None</td>\n",
       "    </tr>\n",
       "    <tr>\n",
       "      <th>2</th>\n",
       "      <td>Отделение анестезиологии-реанимации с палатами...</td>\n",
       "      <td>20.09.2020 22:07</td>\n",
       "      <td>21.09.2020 12:10</td>\n",
       "      <td>!!!!!!!!!!!!! !!!!!!!!!!!!! ! (Врач-анестезиол...</td>\n",
       "      <td>None</td>\n",
       "    </tr>\n",
       "    <tr>\n",
       "      <th>3</th>\n",
       "      <td>Кардиологическое отделение с ПРиИТ для лечения...</td>\n",
       "      <td>21.09.2020 12:11</td>\n",
       "      <td>29.09.2020 09:00</td>\n",
       "      <td>!!!!!!!!!!!!! !!!!!!!!!!!!! !!!!!!!!!!!!! (Зав...</td>\n",
       "      <td>None</td>\n",
       "    </tr>\n",
       "  </tbody>\n",
       "</table>\n",
       "</div>"
      ],
      "text/plain": [
       "                                            Название  Дата поступления  \\\n",
       "0                                 Приемное отделение  20.09.2020 21:40   \n",
       "1  Кардиологическое отделение с ПРиИТ для лечения...  20.09.2020 21:50   \n",
       "2  Отделение анестезиологии-реанимации с палатами...  20.09.2020 22:07   \n",
       "3  Кардиологическое отделение с ПРиИТ для лечения...  21.09.2020 12:11   \n",
       "\n",
       "      Дата перевода                                      Профиль койки  \\\n",
       "0  20.09.2020 21:49     !!!!!!!!!!!!! !!!!!!!!!!!!! ! (Врач-кардиолог)   \n",
       "1  20.09.2020 22:06  !!!!!!!!!!!!! !!!!!!!!!!!!! !!!!!!!!!!!!! (Зав...   \n",
       "2  21.09.2020 12:10  !!!!!!!!!!!!! !!!!!!!!!!!!! ! (Врач-анестезиол...   \n",
       "3  29.09.2020 09:00  !!!!!!!!!!!!! !!!!!!!!!!!!! !!!!!!!!!!!!! (Зав...   \n",
       "\n",
       "  Лечащий врач  \n",
       "0         None  \n",
       "1         None  \n",
       "2         None  \n",
       "3         None  "
      ]
     },
     "execution_count": 34,
     "metadata": {},
     "output_type": "execute_result"
    }
   ],
   "source": [
    "pd.DataFrame(eval(epic_records_with_target[\"ward_table\"].to_numpy()[920]))"
   ]
  },
  {
   "cell_type": "code",
   "execution_count": 35,
   "metadata": {},
   "outputs": [
    {
     "data": {
      "text/html": [
       "<div>\n",
       "<style scoped>\n",
       "    .dataframe tbody tr th:only-of-type {\n",
       "        vertical-align: middle;\n",
       "    }\n",
       "\n",
       "    .dataframe tbody tr th {\n",
       "        vertical-align: top;\n",
       "    }\n",
       "\n",
       "    .dataframe thead th {\n",
       "        text-align: right;\n",
       "    }\n",
       "</style>\n",
       "<table border=\"1\" class=\"dataframe\">\n",
       "  <thead>\n",
       "    <tr style=\"text-align: right;\">\n",
       "      <th></th>\n",
       "      <th>Название</th>\n",
       "      <th>Дата поступления</th>\n",
       "      <th>Дата перевода</th>\n",
       "      <th>Профиль койки</th>\n",
       "      <th>Лечащий врач</th>\n",
       "    </tr>\n",
       "  </thead>\n",
       "  <tbody>\n",
       "    <tr>\n",
       "      <th>0</th>\n",
       "      <td>Приемное отделение</td>\n",
       "      <td>20.09.2020 21:40</td>\n",
       "      <td>20.09.2020 21:49</td>\n",
       "      <td>(Врач-кардиолог)</td>\n",
       "      <td>None</td>\n",
       "    </tr>\n",
       "    <tr>\n",
       "      <th>1</th>\n",
       "      <td>Кардиологическое отделение с ПРиИТ для лечения...</td>\n",
       "      <td>20.09.2020 21:50</td>\n",
       "      <td>20.09.2020 22:06</td>\n",
       "      <td>(Заведующий (начальник) структурного подраз...</td>\n",
       "      <td>None</td>\n",
       "    </tr>\n",
       "    <tr>\n",
       "      <th>2</th>\n",
       "      <td>Отделение анестезиологии-реанимации с палатами...</td>\n",
       "      <td>20.09.2020 22:07</td>\n",
       "      <td>21.09.2020 12:10</td>\n",
       "      <td>(Врач-анестезиолог-реаниматолог)</td>\n",
       "      <td>None</td>\n",
       "    </tr>\n",
       "    <tr>\n",
       "      <th>3</th>\n",
       "      <td>Кардиологическое отделение с ПРиИТ для лечения...</td>\n",
       "      <td>21.09.2020 12:11</td>\n",
       "      <td>29.09.2020 09:00</td>\n",
       "      <td>(Заведующий (начальник) структурного подраз...</td>\n",
       "      <td>None</td>\n",
       "    </tr>\n",
       "  </tbody>\n",
       "</table>\n",
       "</div>"
      ],
      "text/plain": [
       "                                            Название  Дата поступления  \\\n",
       "0                                 Приемное отделение  20.09.2020 21:40   \n",
       "1  Кардиологическое отделение с ПРиИТ для лечения...  20.09.2020 21:50   \n",
       "2  Отделение анестезиологии-реанимации с палатами...  20.09.2020 22:07   \n",
       "3  Кардиологическое отделение с ПРиИТ для лечения...  21.09.2020 12:11   \n",
       "\n",
       "      Дата перевода                                      Профиль койки  \\\n",
       "0  20.09.2020 21:49                                   (Врач-кардиолог)   \n",
       "1  20.09.2020 22:06     (Заведующий (начальник) структурного подраз...   \n",
       "2  21.09.2020 12:10                   (Врач-анестезиолог-реаниматолог)   \n",
       "3  29.09.2020 09:00     (Заведующий (начальник) структурного подраз...   \n",
       "\n",
       "  Лечащий врач  \n",
       "0         None  \n",
       "1         None  \n",
       "2         None  \n",
       "3         None  "
      ]
     },
     "execution_count": 35,
     "metadata": {},
     "output_type": "execute_result"
    }
   ],
   "source": [
    "pd.DataFrame(\n",
    "    eval(epic_records_with_target[\"ward_table\"].to_numpy()[920].replace(\"!\", \"\"))\n",
    ")"
   ]
  },
  {
   "cell_type": "code",
   "execution_count": 36,
   "metadata": {},
   "outputs": [
    {
     "data": {
      "text/plain": [
       "{'None'}"
      ]
     },
     "execution_count": 36,
     "metadata": {},
     "output_type": "execute_result"
    }
   ],
   "source": [
    "# empty field\n",
    "d = list(\n",
    "    map(\n",
    "        lambda x: set(\n",
    "            pd.DataFrame(eval(x.replace(\"!\", \"\")))[\"Лечащий врач\"].values.tolist()\n",
    "        ),\n",
    "        epic_records_with_target[\"ward_table\"].to_numpy(),\n",
    "    )\n",
    ")\n",
    "set().union(*d)"
   ]
  },
  {
   "cell_type": "code",
   "execution_count": 37,
   "metadata": {},
   "outputs": [
    {
     "data": {
      "text/plain": [
       "{'Название': {0: 'Приемное отделение',\n",
       "  1: 'Кардиологическое отделение с ПРиИТ для лечения больных с ОКС (ПСО) №2',\n",
       "  2: 'Отделение анестезиологии-реанимации с палатами реанимации и интенсивной терапии №2',\n",
       "  3: 'Кардиологическое отделение с ПРиИТ для лечения больных с ОКС (ПСО) №2',\n",
       "  4: 'Отделение анестезиологии-реанимации с палатами реанимации и интенсивной терапии №1',\n",
       "  5: 'Отделение анестезиологии-реанимации с палатами реанимации и интенсивной терапии №1',\n",
       "  6: 'Кардиологическое отделение с ПРиИТ для лечения больных с ОКС (ПСО) №2'},\n",
       " 'Дата поступления': {0: '19.09.2022 07:25',\n",
       "  1: '19.09.2022 07:35',\n",
       "  2: '19.09.2022 08:30',\n",
       "  3: '19.09.2022 15:28',\n",
       "  4: '19.09.2022 15:31',\n",
       "  5: '19.09.2022 20:04',\n",
       "  6: '21.09.2022 09:52'},\n",
       " 'Дата перевода': {0: '19.09.2022 07:34',\n",
       "  1: '19.09.2022 08:30',\n",
       "  2: '19.09.2022 15:28',\n",
       "  3: '19.09.2022 15:30',\n",
       "  4: '19.09.2022 20:04',\n",
       "  5: '21.09.2022 09:51',\n",
       "  6: '21.09.2022 14:00'},\n",
       " 'Профиль койки': {0: ' (Врач-кардиолог)',\n",
       "  1: ' (Заведующий (начальник) структурного подразделения (отдела, отделения, лаборатории, кабинета, отряда и другое) медицинской организации - врач-специалист, специалист)',\n",
       "  2: ' (Заведующий (начальник) структурного подразделения (отдела, отделения, лаборатории, кабинета, отряда и другое) медицинской организации - врач-специалист, специалист)',\n",
       "  3: ' (Заведующий (начальник) структурного подразделения (отдела, отделения, лаборатории, кабинета, отряда и другое) медицинской организации - врач-специалист, специалист)',\n",
       "  4: ' (Врач-анестезиолог-реаниматолог)',\n",
       "  5: ' (Врач-анестезиолог-реаниматолог)',\n",
       "  6: ' (Заведующий (начальник) структурного подразделения (отдела, отделения, лаборатории, кабинета, отряда и другое) медицинской организации - врач-специалист, специалист)'}}"
      ]
     },
     "execution_count": 37,
     "metadata": {},
     "output_type": "execute_result"
    }
   ],
   "source": [
    "def search_condition(x):\n",
    "\n",
    "    found = re.sub(\n",
    "        r\", \\'Лечащий врач\\':.*\\'None\\'}\",\n",
    "        \"\",\n",
    "        x.replace(\"!\", \"\"),\n",
    "    )\n",
    "    found = re.sub(\n",
    "        \" +\",\n",
    "        \" \",\n",
    "        found,\n",
    "    )\n",
    "\n",
    "    return found\n",
    "\n",
    "\n",
    "epic_records_with_target = epic_records_with_target.with_columns(\n",
    "    c(\"ward_table\").map_elements(\n",
    "        search_condition,\n",
    "        return_dtype=str,\n",
    "    )\n",
    "    # .alias(\"condition_status\")\n",
    ")\n",
    "eval(epic_records_with_target[\"ward_table\"].to_numpy()[0])"
   ]
  },
  {
   "cell_type": "markdown",
   "metadata": {},
   "source": [
    "#### main disease code"
   ]
  },
  {
   "cell_type": "code",
   "execution_count": 39,
   "metadata": {},
   "outputs": [
    {
     "data": {
      "text/html": [
       "<div><style>\n",
       ".dataframe > thead > tr,\n",
       ".dataframe > tbody > tr {\n",
       "  text-align: right;\n",
       "  white-space: pre-wrap;\n",
       "}\n",
       "</style>\n",
       "<small>shape: (9, 2)</small><table border=\"1\" class=\"dataframe\"><thead><tr><th>main_disease_code</th><th>count</th></tr><tr><td>str</td><td>u32</td></tr></thead><tbody><tr><td>&quot;I21&quot;</td><td>511</td></tr><tr><td>&quot;I20&quot;</td><td>471</td></tr><tr><td>&quot;I48&quot;</td><td>2</td></tr><tr><td>&quot;I50&quot;</td><td>2</td></tr><tr><td>&quot;I47&quot;</td><td>1</td></tr><tr><td>&quot;I70&quot;</td><td>1</td></tr><tr><td>&quot;I11&quot;</td><td>1</td></tr><tr><td>&quot;I40&quot;</td><td>1</td></tr><tr><td>&quot;I25&quot;</td><td>1</td></tr></tbody></table></div>"
      ],
      "text/plain": [
       "shape: (9, 2)\n",
       "┌───────────────────┬───────┐\n",
       "│ main_disease_code ┆ count │\n",
       "│ ---               ┆ ---   │\n",
       "│ str               ┆ u32   │\n",
       "╞═══════════════════╪═══════╡\n",
       "│ I21               ┆ 511   │\n",
       "│ I20               ┆ 471   │\n",
       "│ I48               ┆ 2     │\n",
       "│ I50               ┆ 2     │\n",
       "│ I47               ┆ 1     │\n",
       "│ I70               ┆ 1     │\n",
       "│ I11               ┆ 1     │\n",
       "│ I40               ┆ 1     │\n",
       "│ I25               ┆ 1     │\n",
       "└───────────────────┴───────┘"
      ]
     },
     "execution_count": 39,
     "metadata": {},
     "output_type": "execute_result"
    }
   ],
   "source": [
    "epic_records_with_target[\"main_disease_code\"].value_counts().sort(\n",
    "    \"count\",\n",
    "    descending=True,\n",
    ")"
   ]
  },
  {
   "cell_type": "code",
   "execution_count": 40,
   "metadata": {},
   "outputs": [],
   "source": [
    "epic_records_with_target = epic_records_with_target.with_columns(\n",
    "    ((c(\"main_disease_code\") == \"I21\") * 1).alias(\"main_disease_I21\"),\n",
    "    ((c(\"main_disease_code\") == \"I20\") * 1).alias(\"main_disease_I20\"),\n",
    ")"
   ]
  },
  {
   "cell_type": "markdown",
   "metadata": {},
   "source": [
    "#### secondary_disease_code"
   ]
  },
  {
   "cell_type": "code",
   "execution_count": 41,
   "metadata": {},
   "outputs": [
    {
     "data": {
      "text/html": [
       "<div><style>\n",
       ".dataframe > thead > tr,\n",
       ".dataframe > tbody > tr {\n",
       "  text-align: right;\n",
       "  white-space: pre-wrap;\n",
       "}\n",
       "</style>\n",
       "<small>shape: (5, 4)</small><table border=\"1\" class=\"dataframe\"><thead><tr><th>secondary_disease_code</th><th>background_disease_code</th><th>complication_of_main_disease_code</th><th>secondary_and_background_disease_codes</th></tr><tr><td>list[str]</td><td>list[str]</td><td>list[str]</td><td>list[str]</td></tr></thead><tbody><tr><td>[]</td><td>[&quot;E11.8&quot;, &quot;I11.9&quot;]</td><td>[&quot;I50.1&quot;]</td><td>[&quot;E11.8&quot;, &quot;I11.9&quot;, &quot;I50.1&quot;]</td></tr><tr><td>[&quot;I70.8&quot;]</td><td>[&quot;I11.9&quot;]</td><td>[&quot;I50.1&quot;]</td><td>[&quot;I70.8&quot;, &quot;I11.9&quot;, &quot;I50.1&quot;]</td></tr><tr><td>[&quot;I48.1&quot;, &quot;E66.9&quot;]</td><td>[&quot;I11.9&quot;]</td><td>[&quot;I50.1&quot;]</td><td>[&quot;I48.1&quot;, &quot;E66.9&quot;, … &quot;I50.1&quot;]</td></tr><tr><td>[&quot;E66.9&quot;]</td><td>[&quot;E11.7&quot;, &quot;I11.9&quot;]</td><td>[&quot;I50.9&quot;]</td><td>[&quot;E66.9&quot;, &quot;E11.7&quot;, … &quot;I50.9&quot;]</td></tr><tr><td>[&quot;E66.9&quot;]</td><td>[&quot;I11.9&quot;]</td><td>[&quot;I50.1&quot;]</td><td>[&quot;E66.9&quot;, &quot;I11.9&quot;, &quot;I50.1&quot;]</td></tr></tbody></table></div>"
      ],
      "text/plain": [
       "shape: (5, 4)\n",
       "┌────────────────────────┬────────────────────────┬────────────────────────┬───────────────────────┐\n",
       "│ secondary_disease_code ┆ background_disease_cod ┆ complication_of_main_d ┆ secondary_and_backgro │\n",
       "│ ---                    ┆ e                      ┆ isease_c…              ┆ und_disea…            │\n",
       "│ list[str]              ┆ ---                    ┆ ---                    ┆ ---                   │\n",
       "│                        ┆ list[str]              ┆ list[str]              ┆ list[str]             │\n",
       "╞════════════════════════╪════════════════════════╪════════════════════════╪═══════════════════════╡\n",
       "│ []                     ┆ [\"E11.8\", \"I11.9\"]     ┆ [\"I50.1\"]              ┆ [\"E11.8\", \"I11.9\",    │\n",
       "│                        ┆                        ┆                        ┆ \"I50.1\"]              │\n",
       "│ [\"I70.8\"]              ┆ [\"I11.9\"]              ┆ [\"I50.1\"]              ┆ [\"I70.8\", \"I11.9\",    │\n",
       "│                        ┆                        ┆                        ┆ \"I50.1\"]              │\n",
       "│ [\"I48.1\", \"E66.9\"]     ┆ [\"I11.9\"]              ┆ [\"I50.1\"]              ┆ [\"I48.1\", \"E66.9\", …  │\n",
       "│                        ┆                        ┆                        ┆ \"I50.1\"]              │\n",
       "│ [\"E66.9\"]              ┆ [\"E11.7\", \"I11.9\"]     ┆ [\"I50.9\"]              ┆ [\"E66.9\", \"E11.7\", …  │\n",
       "│                        ┆                        ┆                        ┆ \"I50.9\"]              │\n",
       "│ [\"E66.9\"]              ┆ [\"I11.9\"]              ┆ [\"I50.1\"]              ┆ [\"E66.9\", \"I11.9\",    │\n",
       "│                        ┆                        ┆                        ┆ \"I50.1\"]              │\n",
       "└────────────────────────┴────────────────────────┴────────────────────────┴───────────────────────┘"
      ]
     },
     "execution_count": 41,
     "metadata": {},
     "output_type": "execute_result"
    }
   ],
   "source": [
    "epic_records_with_target = (\n",
    "    epic_records_with_target.with_columns(\n",
    "        c(\"secondary_disease_code\").map_elements(\n",
    "            lambda x: eval(x),\n",
    "            return_dtype=list[str],\n",
    "        ),\n",
    "        c(\"background_disease_code\").map_elements(\n",
    "            lambda x: eval(x),\n",
    "            return_dtype=list[str],\n",
    "        ),\n",
    "        c(\"complication_of_main_disease_code\").map_elements(\n",
    "            lambda x: eval(x),\n",
    "            return_dtype=list[str],\n",
    "        ),\n",
    "    )\n",
    "    .with_columns(\n",
    "        c(\"secondary_disease_code\").fill_null([]),\n",
    "        c(\"background_disease_code\").fill_null([]),\n",
    "        c(\"complication_of_main_disease_code\").fill_null([]),\n",
    "    )\n",
    "    .with_columns(\n",
    "        # (c(\"secondary_disease_code\").list + c(\"background_disease_code\").list).alias(\"secondary_and_background_disease_codes\")\n",
    "        pl.concat_list(\n",
    "            c(\"secondary_disease_code\"),\n",
    "            c(\"background_disease_code\"),\n",
    "            c(\"complication_of_main_disease_code\"),\n",
    "        ).alias(\"secondary_and_background_disease_codes\")\n",
    "    )\n",
    ")\n",
    "\n",
    "epic_records_with_target.select(\n",
    "    \"secondary_disease_code\",\n",
    "    \"background_disease_code\",\n",
    "    \"complication_of_main_disease_code\",\n",
    "    \"secondary_and_background_disease_codes\",\n",
    ").head()"
   ]
  },
  {
   "cell_type": "code",
   "execution_count": 42,
   "metadata": {},
   "outputs": [
    {
     "data": {
      "text/html": [
       "<div><style>\n",
       ".dataframe > thead > tr,\n",
       ".dataframe > tbody > tr {\n",
       "  text-align: right;\n",
       "  white-space: pre-wrap;\n",
       "}\n",
       "</style>\n",
       "<small>shape: (3,)</small><table border=\"1\" class=\"dataframe\"><thead><tr><th>secondary_and_background_disease_count</th></tr><tr><td>i64</td></tr></thead><tbody><tr><td>3</td></tr><tr><td>3</td></tr><tr><td>4</td></tr></tbody></table></div>"
      ],
      "text/plain": [
       "shape: (3,)\n",
       "Series: 'secondary_and_background_disease_count' [i64]\n",
       "[\n",
       "\t3\n",
       "\t3\n",
       "\t4\n",
       "]"
      ]
     },
     "execution_count": 42,
     "metadata": {},
     "output_type": "execute_result"
    }
   ],
   "source": [
    "epic_records_with_target = epic_records_with_target.with_columns(\n",
    "    c(\"secondary_and_background_disease_codes\")\n",
    "    .map_elements(\n",
    "        lambda x: len(x),\n",
    "        return_dtype=int,\n",
    "    )\n",
    "    .alias(\"secondary_and_background_disease_count\")\n",
    ")\n",
    "epic_records_with_target[\"secondary_and_background_disease_count\"].head(3)"
   ]
  },
  {
   "cell_type": "code",
   "execution_count": 48,
   "metadata": {},
   "outputs": [],
   "source": [
    "column = epic_records_with_target[\"secondary_and_background_disease_codes\"].to_list()\n",
    "flat_list = []\n",
    "\n",
    "for disease_list in column:\n",
    "    if disease_list is not None:\n",
    "        for code in disease_list:\n",
    "            flat_list.append(code[:3])\n",
    "disease_codes = list(set(flat_list))"
   ]
  },
  {
   "cell_type": "code",
   "execution_count": 49,
   "metadata": {},
   "outputs": [
    {
     "data": {
      "text/html": [
       "<div>\n",
       "<style scoped>\n",
       "    .dataframe tbody tr th:only-of-type {\n",
       "        vertical-align: middle;\n",
       "    }\n",
       "\n",
       "    .dataframe tbody tr th {\n",
       "        vertical-align: top;\n",
       "    }\n",
       "\n",
       "    .dataframe thead th {\n",
       "        text-align: right;\n",
       "    }\n",
       "</style>\n",
       "<table border=\"1\" class=\"dataframe\">\n",
       "  <thead>\n",
       "    <tr style=\"text-align: right;\">\n",
       "      <th></th>\n",
       "      <th>D37</th>\n",
       "      <th>K21</th>\n",
       "      <th>C74</th>\n",
       "      <th>F32</th>\n",
       "      <th>C18</th>\n",
       "      <th>D01</th>\n",
       "      <th>D29</th>\n",
       "      <th>C44</th>\n",
       "      <th>S98</th>\n",
       "      <th>I35</th>\n",
       "      <th>...</th>\n",
       "      <th>N13</th>\n",
       "      <th>I11</th>\n",
       "      <th>I42</th>\n",
       "      <th>I64</th>\n",
       "      <th>E03</th>\n",
       "      <th>M16</th>\n",
       "      <th>R15</th>\n",
       "      <th>H27</th>\n",
       "      <th>I45</th>\n",
       "      <th>K85</th>\n",
       "    </tr>\n",
       "  </thead>\n",
       "  <tbody>\n",
       "    <tr>\n",
       "      <th>0</th>\n",
       "      <td>0</td>\n",
       "      <td>0</td>\n",
       "      <td>0</td>\n",
       "      <td>0</td>\n",
       "      <td>0</td>\n",
       "      <td>0</td>\n",
       "      <td>0</td>\n",
       "      <td>0</td>\n",
       "      <td>0</td>\n",
       "      <td>0</td>\n",
       "      <td>...</td>\n",
       "      <td>0</td>\n",
       "      <td>0</td>\n",
       "      <td>0</td>\n",
       "      <td>0</td>\n",
       "      <td>0</td>\n",
       "      <td>0</td>\n",
       "      <td>0</td>\n",
       "      <td>0</td>\n",
       "      <td>0</td>\n",
       "      <td>0</td>\n",
       "    </tr>\n",
       "    <tr>\n",
       "      <th>1</th>\n",
       "      <td>0</td>\n",
       "      <td>0</td>\n",
       "      <td>0</td>\n",
       "      <td>0</td>\n",
       "      <td>0</td>\n",
       "      <td>0</td>\n",
       "      <td>0</td>\n",
       "      <td>0</td>\n",
       "      <td>0</td>\n",
       "      <td>0</td>\n",
       "      <td>...</td>\n",
       "      <td>0</td>\n",
       "      <td>0</td>\n",
       "      <td>0</td>\n",
       "      <td>0</td>\n",
       "      <td>0</td>\n",
       "      <td>0</td>\n",
       "      <td>0</td>\n",
       "      <td>0</td>\n",
       "      <td>0</td>\n",
       "      <td>0</td>\n",
       "    </tr>\n",
       "    <tr>\n",
       "      <th>2</th>\n",
       "      <td>0</td>\n",
       "      <td>0</td>\n",
       "      <td>0</td>\n",
       "      <td>0</td>\n",
       "      <td>0</td>\n",
       "      <td>0</td>\n",
       "      <td>0</td>\n",
       "      <td>0</td>\n",
       "      <td>0</td>\n",
       "      <td>0</td>\n",
       "      <td>...</td>\n",
       "      <td>0</td>\n",
       "      <td>0</td>\n",
       "      <td>0</td>\n",
       "      <td>0</td>\n",
       "      <td>0</td>\n",
       "      <td>0</td>\n",
       "      <td>0</td>\n",
       "      <td>0</td>\n",
       "      <td>0</td>\n",
       "      <td>0</td>\n",
       "    </tr>\n",
       "  </tbody>\n",
       "</table>\n",
       "<p>3 rows × 177 columns</p>\n",
       "</div>"
      ],
      "text/plain": [
       "   D37  K21  C74  F32  C18  D01  D29  C44  S98  I35  ...  N13  I11  I42  I64  \\\n",
       "0    0    0    0    0    0    0    0    0    0    0  ...    0    0    0    0   \n",
       "1    0    0    0    0    0    0    0    0    0    0  ...    0    0    0    0   \n",
       "2    0    0    0    0    0    0    0    0    0    0  ...    0    0    0    0   \n",
       "\n",
       "   E03  M16  R15  H27  I45  K85  \n",
       "0    0    0    0    0    0    0  \n",
       "1    0    0    0    0    0    0  \n",
       "2    0    0    0    0    0    0  \n",
       "\n",
       "[3 rows x 177 columns]"
      ]
     },
     "execution_count": 49,
     "metadata": {},
     "output_type": "execute_result"
    }
   ],
   "source": [
    "secondary_disease_codes = pd.DataFrame({name: [0] * 991 for name in disease_codes})\n",
    "secondary_disease_codes.head(3)"
   ]
  },
  {
   "cell_type": "code",
   "execution_count": 50,
   "metadata": {},
   "outputs": [],
   "source": [
    "i = 0\n",
    "for row in epic_records_with_target.iter_rows(named=True):\n",
    "    if row[\"secondary_and_background_disease_codes\"]:\n",
    "        for code in row[\"secondary_and_background_disease_codes\"]:\n",
    "            secondary_disease_codes.at[i, code[:3]] = 1\n",
    "    i += 1"
   ]
  },
  {
   "cell_type": "code",
   "execution_count": 51,
   "metadata": {},
   "outputs": [],
   "source": [
    "epic_records_with_target = epic_records_with_target.with_columns(\n",
    "    (\n",
    "        pl.Series(\n",
    "            name=f\"secondary_disease_{column}\",\n",
    "            values=secondary_disease_codes[column].tolist(),\n",
    "        )\n",
    "        for column in secondary_disease_codes.columns\n",
    "    )\n",
    ")"
   ]
  },
  {
   "cell_type": "markdown",
   "metadata": {},
   "source": [
    "### convert to dtypes"
   ]
  },
  {
   "cell_type": "code",
   "execution_count": 83,
   "metadata": {},
   "outputs": [],
   "source": [
    "epic_records_with_target = (\n",
    "    epic_records_with_target.with_columns(\n",
    "        c(\"age\").replace({\"\": None}),\n",
    "        c(\"heart_rate\").replace({\"\": None}),\n",
    "        c(\"BMI\").replace({\"\": None}),\n",
    "    )\n",
    "    .with_columns(\n",
    "        c(\"right atrium\").str.replace(\",\", \".\"),\n",
    "    )\n",
    "    .with_columns(\n",
    "        c(\"right atrium\").replace({\"\": None}),\n",
    "    )\n",
    "    .with_columns(\n",
    "        c(\"age\").cast(pl.Int64),\n",
    "        c(\"heart_rate\").cast(pl.Int64),\n",
    "        c(\"BMI\").cast(pl.Int64),\n",
    "        c(\"right atrium\").cast(pl.Float64),\n",
    "    )\n",
    "    # [\"right atrium\"]\n",
    "    # .value_counts()\n",
    "    # .sort(\"count\", descending=True)\n",
    ")"
   ]
  },
  {
   "cell_type": "markdown",
   "metadata": {},
   "source": [
    "### save transformed dataframe"
   ]
  },
  {
   "cell_type": "code",
   "execution_count": 85,
   "metadata": {},
   "outputs": [
    {
     "data": {
      "text/html": [
       "<div><style>\n",
       ".dataframe > thead > tr,\n",
       ".dataframe > tbody > tr {\n",
       "  text-align: right;\n",
       "  white-space: pre-wrap;\n",
       "}\n",
       "</style>\n",
       "<small>shape: (3, 210)</small><table border=\"1\" class=\"dataframe\"><thead><tr><th>patient_id</th><th>gender</th><th>amnez_life</th><th>amnez_disease</th><th>condition</th><th>ward_table</th><th>full_wards</th><th>complication_of_main_disease_desc</th><th>main_disease_desc</th><th>secondary_disease_desc</th><th>complication_of_main_disease_code</th><th>main_disease_code</th><th>secondary_disease_code</th><th>admission_datetime</th><th>gospitalisation_type</th><th>gospitalisation_delivery</th><th>background_disease_desc</th><th>background_disease_code</th><th>following_admission_datetimes</th><th>following_main_disease_codes</th><th>target</th><th>has_competing_disease</th><th>gospitalization_result</th><th>main_desease_status</th><th>condition_status</th><th>age</th><th>heart_rate</th><th>BMI</th><th>right atrium</th><th>main_disease_I21</th><th>main_disease_I20</th><th>secondary_and_background_disease_codes</th><th>secondary_and_background_disease_count</th><th>seondary_disease_D37</th><th>seondary_disease_K21</th><th>seondary_disease_C74</th><th>seondary_disease_F32</th><th>&hellip;</th><th>seondary_disease_T59</th><th>seondary_disease_J67</th><th>seondary_disease_I63</th><th>seondary_disease_K80</th><th>seondary_disease_Q64</th><th>seondary_disease_I07</th><th>seondary_disease_N21</th><th>seondary_disease_N42</th><th>seondary_disease_D61</th><th>seondary_disease_E79</th><th>seondary_disease_B37</th><th>seondary_disease_M17</th><th>seondary_disease_E10</th><th>seondary_disease_E89</th><th>seondary_disease_D35</th><th>seondary_disease_E04</th><th>seondary_disease_K92</th><th>seondary_disease_J42</th><th>seondary_disease_G20</th><th>seondary_disease_G63</th><th>seondary_disease_C20</th><th>seondary_disease_N23</th><th>seondary_disease_D86</th><th>seondary_disease_I08</th><th>seondary_disease_C64</th><th>seondary_disease_C61</th><th>seondary_disease_K74</th><th>seondary_disease_N13</th><th>seondary_disease_I11</th><th>seondary_disease_I42</th><th>seondary_disease_I64</th><th>seondary_disease_E03</th><th>seondary_disease_M16</th><th>seondary_disease_R15</th><th>seondary_disease_H27</th><th>seondary_disease_I45</th><th>seondary_disease_K85</th></tr><tr><td>str</td><td>str</td><td>str</td><td>str</td><td>str</td><td>str</td><td>str</td><td>str</td><td>str</td><td>str</td><td>list[str]</td><td>str</td><td>list[str]</td><td>date</td><td>str</td><td>str</td><td>str</td><td>list[str]</td><td>list[date]</td><td>list[str]</td><td>i32</td><td>i32</td><td>str</td><td>str</td><td>str</td><td>i64</td><td>i64</td><td>i64</td><td>f64</td><td>i32</td><td>i32</td><td>list[str]</td><td>i64</td><td>i64</td><td>i64</td><td>i64</td><td>i64</td><td>&hellip;</td><td>i64</td><td>i64</td><td>i64</td><td>i64</td><td>i64</td><td>i64</td><td>i64</td><td>i64</td><td>i64</td><td>i64</td><td>i64</td><td>i64</td><td>i64</td><td>i64</td><td>i64</td><td>i64</td><td>i64</td><td>i64</td><td>i64</td><td>i64</td><td>i64</td><td>i64</td><td>i64</td><td>i64</td><td>i64</td><td>i64</td><td>i64</td><td>i64</td><td>i64</td><td>i64</td><td>i64</td><td>i64</td><td>i64</td><td>i64</td><td>i64</td><td>i64</td><td>i64</td></tr></thead><tbody><tr><td>&quot;2D918552-AED3-47D8-82D6-0C0469…</td><td>&quot;Мужской&quot;</td><td>&quot;АНАМНЕЗ ЖИЗНИ:&quot;</td><td>&quot;АНАМНЕЗ ЗАБОЛЕВАНИЯ  ИБС, ИМ -…</td><td>&quot;[ &#x27;Жалобы: ЖАЛОБЫ НА МОМЕНТ ОС…</td><td>&quot;{&#x27;Название&#x27;: {0: &#x27;Приемное отд…</td><td>&quot; , Сведения о пребывании пацие…</td><td>&quot;ОСН I по Killip.&quot;</td><td>&quot;ИБС. Нестабильная стенокардия.&quot;</td><td>&quot;Ожирение 1 степени.&quot;</td><td>[&quot;I50.9&quot;]</td><td>&quot;I20&quot;</td><td>[&quot;E66.9&quot;]</td><td>2021-06-22</td><td>&quot;Первичный&quot;</td><td>&quot;Плановая госпитализация&quot;</td><td>&quot;Сахарный диабет 2 типа. Целево…</td><td>[&quot;E11.7&quot;, &quot;I11.9&quot;]</td><td>[2021-07-06]</td><td>[&quot;I21&quot;]</td><td>1</td><td>0</td><td>&quot;Улучшение&quot;</td><td>&quot;Острое&quot;</td><td>&quot;Удовлетворительное&quot;</td><td>57</td><td>89</td><td>null</td><td>3.8</td><td>0</td><td>1</td><td>[&quot;E66.9&quot;, &quot;E11.7&quot;, … &quot;I50.9&quot;]</td><td>4</td><td>0</td><td>0</td><td>0</td><td>0</td><td>&hellip;</td><td>0</td><td>0</td><td>0</td><td>0</td><td>0</td><td>0</td><td>0</td><td>0</td><td>0</td><td>0</td><td>0</td><td>0</td><td>0</td><td>0</td><td>0</td><td>0</td><td>0</td><td>0</td><td>0</td><td>0</td><td>0</td><td>0</td><td>0</td><td>0</td><td>0</td><td>0</td><td>0</td><td>0</td><td>1</td><td>0</td><td>0</td><td>0</td><td>0</td><td>0</td><td>0</td><td>0</td><td>0</td></tr><tr><td>&quot;C255545A-E218-48DB-9725-D62075…</td><td>&quot;Мужской&quot;</td><td>&quot;Б&quot;</td><td>&quot;АНАМНЕЗ ЗАБОЛЕВАНИЯ  ИБС РАНЕЕ…</td><td>&quot;[ &#x27;Жалобы: ЖАЛОБЫ НА МОМЕНТ ОС…</td><td>&quot;{&#x27;Название&#x27;: {0: &#x27;Приемное отд…</td><td>&quot; , Сведения о пребывании пацие…</td><td>&quot;ОСН I по Killip.&quot;</td><td>&quot;ОКС без подъема сегмента ST&quot;</td><td>null</td><td>[&quot;I50.1&quot;]</td><td>&quot;I21&quot;</td><td>[]</td><td>2022-06-25</td><td>&quot;Первичный&quot;</td><td>&quot;Плановая госпитализация&quot;</td><td>&quot;Гипертоническая болезнь  III с…</td><td>[&quot;I11.9&quot;]</td><td>[2024-02-09]</td><td>[&quot;I21&quot;]</td><td>1</td><td>0</td><td>&quot;Улучшение&quot;</td><td>&quot;Ранее установленное хроническо…</td><td>&quot;Удовлетворительное&quot;</td><td>47</td><td>79</td><td>29</td><td>3.3</td><td>1</td><td>0</td><td>[&quot;I11.9&quot;, &quot;I50.1&quot;]</td><td>2</td><td>0</td><td>0</td><td>0</td><td>0</td><td>&hellip;</td><td>0</td><td>0</td><td>0</td><td>0</td><td>0</td><td>0</td><td>0</td><td>0</td><td>0</td><td>0</td><td>0</td><td>0</td><td>0</td><td>0</td><td>0</td><td>0</td><td>0</td><td>0</td><td>0</td><td>0</td><td>0</td><td>0</td><td>0</td><td>0</td><td>0</td><td>0</td><td>0</td><td>0</td><td>1</td><td>0</td><td>0</td><td>0</td><td>0</td><td>0</td><td>0</td><td>0</td><td>0</td></tr><tr><td>&quot;4B4705F9-1235-353F-E055-000000…</td><td>&quot;Мужской&quot;</td><td>&quot;Б&quot;</td><td>&quot;АНАМНЕЗ ЗАБОЛЕВАНИЯ  ИБС, ИМ- …</td><td>&quot;[ &#x27;Жалобы: ЖАЛОБЫ НА МОМЕНТ ОС…</td><td>&quot;{&#x27;Название&#x27;: {0: &#x27;Приемное отд…</td><td>&quot; , Сведения о пребывании пацие…</td><td>&quot;ОСН по Killip 1&quot;</td><td>&quot;Нестабильная стенокардияОКС бе…</td><td>null</td><td>[&quot;I50.1&quot;]</td><td>&quot;I20&quot;</td><td>[]</td><td>2021-12-17</td><td>&quot;Первичный&quot;</td><td>&quot;Доставлен бригадой скорой помо…</td><td>&quot;Сахарный диабет 2 типа, уровен…</td><td>[&quot;E11.8&quot;]</td><td>[2022-10-18, 2023-07-20]</td><td>[&quot;I20&quot;, &quot;I20&quot;]</td><td>0</td><td>0</td><td>&quot;Улучшение&quot;</td><td>&quot;Острое&quot;</td><td>&quot;Удовлетворительное&quot;</td><td>59</td><td>68</td><td>null</td><td>3.6</td><td>0</td><td>1</td><td>[&quot;E11.8&quot;, &quot;I50.1&quot;]</td><td>2</td><td>0</td><td>0</td><td>0</td><td>0</td><td>&hellip;</td><td>0</td><td>0</td><td>0</td><td>0</td><td>0</td><td>0</td><td>0</td><td>0</td><td>0</td><td>0</td><td>0</td><td>0</td><td>0</td><td>0</td><td>0</td><td>0</td><td>0</td><td>0</td><td>0</td><td>0</td><td>0</td><td>0</td><td>0</td><td>0</td><td>0</td><td>0</td><td>0</td><td>0</td><td>0</td><td>0</td><td>0</td><td>0</td><td>0</td><td>0</td><td>0</td><td>0</td><td>0</td></tr></tbody></table></div>"
      ],
      "text/plain": [
       "shape: (3, 210)\n",
       "┌────────────┬─────────┬───────────┬───────────┬───┬───────────┬───────────┬───────────┬───────────┐\n",
       "│ patient_id ┆ gender  ┆ amnez_lif ┆ amnez_dis ┆ … ┆ seondary_ ┆ seondary_ ┆ seondary_ ┆ seondary_ │\n",
       "│ ---        ┆ ---     ┆ e         ┆ ease      ┆   ┆ disease_R ┆ disease_H ┆ disease_I ┆ disease_K │\n",
       "│ str        ┆ str     ┆ ---       ┆ ---       ┆   ┆ 15        ┆ 27        ┆ 45        ┆ 85        │\n",
       "│            ┆         ┆ str       ┆ str       ┆   ┆ ---       ┆ ---       ┆ ---       ┆ ---       │\n",
       "│            ┆         ┆           ┆           ┆   ┆ i64       ┆ i64       ┆ i64       ┆ i64       │\n",
       "╞════════════╪═════════╪═══════════╪═══════════╪═══╪═══════════╪═══════════╪═══════════╪═══════════╡\n",
       "│ 2D918552-A ┆ Мужской ┆ АНАМНЕЗ   ┆ АНАМНЕЗ   ┆ … ┆ 0         ┆ 0         ┆ 0         ┆ 0         │\n",
       "│ ED3-47D8-8 ┆         ┆ ЖИЗНИ:    ┆ ЗАБОЛЕВАН ┆   ┆           ┆           ┆           ┆           │\n",
       "│ 2D6-0C0469 ┆         ┆           ┆ ИЯ  ИБС,  ┆   ┆           ┆           ┆           ┆           │\n",
       "│ …          ┆         ┆           ┆ ИМ -…     ┆   ┆           ┆           ┆           ┆           │\n",
       "│ C255545A-E ┆ Мужской ┆ Б         ┆ АНАМНЕЗ   ┆ … ┆ 0         ┆ 0         ┆ 0         ┆ 0         │\n",
       "│ 218-48DB-9 ┆         ┆           ┆ ЗАБОЛЕВАН ┆   ┆           ┆           ┆           ┆           │\n",
       "│ 725-D62075 ┆         ┆           ┆ ИЯ  ИБС   ┆   ┆           ┆           ┆           ┆           │\n",
       "│ …          ┆         ┆           ┆ РАНЕЕ…    ┆   ┆           ┆           ┆           ┆           │\n",
       "│ 4B4705F9-1 ┆ Мужской ┆ Б         ┆ АНАМНЕЗ   ┆ … ┆ 0         ┆ 0         ┆ 0         ┆ 0         │\n",
       "│ 235-353F-E ┆         ┆           ┆ ЗАБОЛЕВАН ┆   ┆           ┆           ┆           ┆           │\n",
       "│ 055-000000 ┆         ┆           ┆ ИЯ  ИБС,  ┆   ┆           ┆           ┆           ┆           │\n",
       "│ …          ┆         ┆           ┆ ИМ- …     ┆   ┆           ┆           ┆           ┆           │\n",
       "└────────────┴─────────┴───────────┴───────────┴───┴───────────┴───────────┴───────────┴───────────┘"
      ]
     },
     "execution_count": 85,
     "metadata": {},
     "output_type": "execute_result"
    }
   ],
   "source": [
    "epic_records_with_target.sample(3)"
   ]
  },
  {
   "cell_type": "code",
   "execution_count": 86,
   "metadata": {},
   "outputs": [
    {
     "data": {
      "text/plain": [
       "(991, 210)"
      ]
     },
     "execution_count": 86,
     "metadata": {},
     "output_type": "execute_result"
    }
   ],
   "source": [
    "epic_records_with_target.shape"
   ]
  },
  {
   "cell_type": "code",
   "execution_count": 87,
   "metadata": {},
   "outputs": [],
   "source": [
    "path = \"../data/data_for_models\"\n",
    "os.makedirs(path)\n",
    "file_name = \"epic_records_with_target.parquet\"\n",
    "file_path = os.path.join(path, file_name)\n",
    "epic_records_with_target.write_parquet(file_path)"
   ]
  }
 ],
 "metadata": {
  "kernelspec": {
   "display_name": ".venv",
   "language": "python",
   "name": "python3"
  },
  "language_info": {
   "codemirror_mode": {
    "name": "ipython",
    "version": 3
   },
   "file_extension": ".py",
   "mimetype": "text/x-python",
   "name": "python",
   "nbconvert_exporter": "python",
   "pygments_lexer": "ipython3",
   "version": "3.12.7"
  }
 },
 "nbformat": 4,
 "nbformat_minor": 2
}
