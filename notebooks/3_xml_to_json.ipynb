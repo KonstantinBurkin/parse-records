{
 "cells": [
  {
   "cell_type": "markdown",
   "metadata": {},
   "source": [
    "### imports"
   ]
  },
  {
   "cell_type": "code",
   "execution_count": 2,
   "metadata": {},
   "outputs": [],
   "source": [
    "import os, sys\n",
    "from tqdm import tqdm\n",
    "\n",
    "sys.path.append(\"../\")\n",
    "from scripts.parse_xml_to_json import ParserRecordsToJson"
   ]
  },
  {
   "cell_type": "markdown",
   "metadata": {},
   "source": [
    "### epic"
   ]
  },
  {
   "cell_type": "code",
   "execution_count": 3,
   "metadata": {},
   "outputs": [],
   "source": [
    "xml_dir = os.path.join(\"../\", \"data\", \"med_records_8500\")\n",
    "json_dir = os.path.join(\"../\", \"data\", \"med_records_8500_json\")\n",
    "os.makedirs(json_dir, exist_ok=True)"
   ]
  },
  {
   "cell_type": "code",
   "execution_count": 4,
   "metadata": {},
   "outputs": [
    {
     "name": "stderr",
     "output_type": "stream",
     "text": [
      "100%|██████████| 8518/8518 [03:28<00:00, 40.81it/s]\n"
     ]
    }
   ],
   "source": [
    "# test parsing on 10 files\n",
    "parser = ParserRecordsToJson()\n",
    "for xml_file in tqdm(os.listdir(xml_dir)):\n",
    "    path_xml = os.path.join(xml_dir, xml_file)\n",
    "    path_json = os.path.join(json_dir, xml_file.removesuffix(\"xml\") + \"json\")\n",
    "\n",
    "    parser.produce(path_xml, path_json)"
   ]
  },
  {
   "cell_type": "markdown",
   "metadata": {},
   "source": [
    "### lab"
   ]
  },
  {
   "cell_type": "code",
   "execution_count": 7,
   "metadata": {},
   "outputs": [],
   "source": [
    "# DocsNew1, DocsNew2, DocsNew3\n",
    "xml_dir = os.path.join(\"../\", \"data\", \"Medical_records\", \"DocsNew3\")\n",
    "json_dir = os.path.join(\"../\", \"data\", \"json_records\", \"DocsNew3\")\n",
    "os.makedirs(json_dir, exist_ok=True)"
   ]
  },
  {
   "cell_type": "code",
   "execution_count": 8,
   "metadata": {},
   "outputs": [
    {
     "name": "stderr",
     "output_type": "stream",
     "text": [
      "100%|██████████| 4211/4211 [00:31<00:00, 133.70it/s]\n"
     ]
    }
   ],
   "source": [
    "# test parsing on 10 files\n",
    "parser = ParserRecordsToJson()\n",
    "for xml_file in tqdm(os.listdir(xml_dir)):\n",
    "    path_xml = os.path.join(xml_dir, xml_file)\n",
    "    path_json = os.path.join(json_dir, xml_file.removesuffix(\"xml\") + \"json\")\n",
    "\n",
    "    parser.produce(path_xml, path_json)"
   ]
  }
 ],
 "metadata": {
  "kernelspec": {
   "display_name": ".venv",
   "language": "python",
   "name": "python3"
  },
  "language_info": {
   "codemirror_mode": {
    "name": "ipython",
    "version": 3
   },
   "file_extension": ".py",
   "mimetype": "text/x-python",
   "name": "python",
   "nbconvert_exporter": "python",
   "pygments_lexer": "ipython3",
   "version": "3.12.7"
  }
 },
 "nbformat": 4,
 "nbformat_minor": 2
}
