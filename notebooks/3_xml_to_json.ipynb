{
 "cells": [
  {
   "cell_type": "code",
   "execution_count": 1,
   "metadata": {},
   "outputs": [],
   "source": [
    "import os, sys\n",
    "\n",
    "sys.path.append(\"../\")\n",
    "from scripts.parse_xml_to_json import ParserRecordsToJson"
   ]
  },
  {
   "cell_type": "code",
   "execution_count": 4,
   "metadata": {},
   "outputs": [],
   "source": [
    "# DocsNew1, DocsNew2, DocsNew3\n",
    "xml_dir = os.path.join(\"../\", \"data\", \"Medical_records\", \"DocsNew3\")\n",
    "json_dir = os.path.join(\"../\", \"data\", \"json_records\", \"DocsNew3\")\n",
    "os.makedirs(json_dir, exist_ok=True)"
   ]
  },
  {
   "cell_type": "code",
   "execution_count": 5,
   "metadata": {},
   "outputs": [],
   "source": [
    "# test parsing on 10 files\n",
    "parser = ParserRecordsToJson()\n",
    "for xml_file in os.listdir(xml_dir)[:10]:\n",
    "    path_xml = os.path.join(xml_dir, xml_file)\n",
    "    path_json = os.path.join(json_dir, xml_file.removesuffix(\"xml\") + \"json\")\n",
    "\n",
    "    parser.produce(path_xml, path_json)"
   ]
  }
 ],
 "metadata": {
  "kernelspec": {
   "display_name": ".venv",
   "language": "python",
   "name": "python3"
  },
  "language_info": {
   "codemirror_mode": {
    "name": "ipython",
    "version": 3
   },
   "file_extension": ".py",
   "mimetype": "text/x-python",
   "name": "python",
   "nbconvert_exporter": "python",
   "pygments_lexer": "ipython3",
   "version": "3.12.6"
  }
 },
 "nbformat": 4,
 "nbformat_minor": 2
}
