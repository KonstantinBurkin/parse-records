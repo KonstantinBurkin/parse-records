{
 "cells": [
  {
   "cell_type": "markdown",
   "metadata": {},
   "source": [
    "### Imports"
   ]
  },
  {
   "cell_type": "code",
   "execution_count": 1,
   "metadata": {},
   "outputs": [],
   "source": [
    "import pandas as pd\n",
    "import json\n",
    "import os, sys\n",
    "from tqdm import tqdm\n",
    "import numpy as np\n",
    "import polars as pl\n",
    "from polars import col as c\n",
    "\n",
    "sys.path.append(\"../\")"
   ]
  },
  {
   "cell_type": "markdown",
   "metadata": {},
   "source": [
    "### table creation"
   ]
  },
  {
   "cell_type": "code",
   "execution_count": 2,
   "metadata": {},
   "outputs": [],
   "source": [
    "dir_path = \"../data/parsed_dataframes\"\n",
    "file_name = \"lab_records.parquet\"\n",
    "file_path = os.path.join(dir_path, file_name)\n",
    "lab_records = pd.read_parquet(file_path)"
   ]
  },
  {
   "cell_type": "code",
   "execution_count": 3,
   "metadata": {},
   "outputs": [
    {
     "name": "stderr",
     "output_type": "stream",
     "text": [
      "/var/folders/v_/vqhfnf3s4sb7g6nfby7hc9sr0000gn/T/ipykernel_97393/1777949469.py:3: FutureWarning: errors='ignore' is deprecated and will raise in a future version. Use to_numeric without passing `errors` and catch exceptions explicitly instead\n",
      "  lab_records[column] = pd.to_numeric(lab_records[column], errors=\"ignore\")\n"
     ]
    }
   ],
   "source": [
    "for column in lab_records.columns:\n",
    "    lab_records[column] = lab_records[column].replace(to_replace=\"nan\", value=np.nan)\n",
    "    lab_records[column] = pd.to_numeric(lab_records[column], errors=\"ignore\")"
   ]
  },
  {
   "cell_type": "code",
   "execution_count": 16,
   "metadata": {},
   "outputs": [],
   "source": [
    "features_without_nans = (\n",
    "    pd.DataFrame(\n",
    "        lab_records.isna().sum(),\n",
    "        columns=[\"count_nans\"],\n",
    "    )\n",
    "    .sort_values(\"count_nans\")\n",
    "    .head(25)\n",
    "    .index.tolist()\n",
    ")"
   ]
  },
  {
   "cell_type": "code",
   "execution_count": 28,
   "metadata": {},
   "outputs": [
    {
     "data": {
      "text/html": [
       "<div><style>\n",
       ".dataframe > thead > tr,\n",
       ".dataframe > tbody > tr {\n",
       "  text-align: right;\n",
       "  white-space: pre-wrap;\n",
       "}\n",
       "</style>\n",
       "<small>shape: (3, 26)</small><table border=\"1\" class=\"dataframe\"><thead><tr><th>record</th><th>gender</th><th>birthday</th><th>lab_date</th><th>Гемоглобин общий, массовая концентрация в крови</th><th>Гематокрит крови методом автоматизированного подсчёта</th><th>Кислород общий, молярная концентрация в венозной крови</th><th>Билирубин общий, молярная концентрация в венозной крови</th><th>Диоксид углерода, парциальное давление в венозной крови</th><th>Хлориды, молярная концентрация в венозной крови</th><th>Глюкоза, молярная концентрация в венозной крови</th><th>Натрий, молярная концентрация в венозной крови</th><th>Водородный показатель (pH) венозной крови</th><th>Избыток оснований стандартный, расчетная молярная концентрация в венозной крови</th><th>Избыток оснований истинный, расчетная молярная концентрация в венозной крови</th><th>Карбоксигемоглобин, массовая фракция в венозной крови</th><th>Водородный показатель (pH) венозной крови, откорректированный по температуре пациента</th><th>Бикарбонат стандартный, молярная концентрация в венозной крови</th><th>Кислород, парциальное давление при 50% сатурации в венозной крови</th><th>Лактат, молярная концентрация в венозной крови</th><th>Метгемоглобин, массовая фракция в венозной крови</th><th>Насыщение гемоглобина кислородом, массовая фракция в венозной крови</th><th>Оксигемоглобин, массовая фракция в венозной крови</th><th>Калий, молярная концентрация в венозной крови</th><th>Кальций ионизированный, молярная концентрация в венозной крови</th><th>age</th></tr><tr><td>str</td><td>str</td><td>date</td><td>date</td><td>f64</td><td>f64</td><td>str</td><td>f64</td><td>f64</td><td>f64</td><td>f64</td><td>f64</td><td>f64</td><td>f64</td><td>f64</td><td>f64</td><td>f64</td><td>f64</td><td>f64</td><td>f64</td><td>f64</td><td>f64</td><td>f64</td><td>f64</td><td>f64</td><td>i32</td></tr></thead><tbody><tr><td>&quot;EMD_LAB_188432683_255587897&quot;</td><td>&quot;Мужской&quot;</td><td>1955-11-14</td><td>2023-08-28</td><td>148.0</td><td>45.5</td><td>&quot;[&#x27;21&#x27; &#x27;45.6&#x27; &#x27;16.1&#x27;]&quot;</td><td>13.0</td><td>30.9</td><td>113.0</td><td>5.5</td><td>136.0</td><td>7.458</td><td>-1.7</td><td>-0.8</td><td>0.7</td><td>36.6</td><td>21.6</td><td>28.72</td><td>4.2</td><td>0.6</td><td>78.3</td><td>77.3</td><td>4.0</td><td>1.0</td><td>68</td></tr><tr><td>&quot;EMD_LAB_188204627_255578735&quot;</td><td>&quot;Женский&quot;</td><td>1979-07-02</td><td>2023-08-16</td><td>137.0</td><td>42.2</td><td>&quot;[&#x27;21&#x27; &#x27;45.7&#x27; &#x27;15&#x27;]&quot;</td><td>12.0</td><td>39.9</td><td>107.0</td><td>6.2</td><td>136.0</td><td>7.399</td><td>-0.1</td><td>-0.1</td><td>1.3</td><td>36.6</td><td>24.1</td><td>27.76</td><td>2.1</td><td>1.1</td><td>79.8</td><td>77.9</td><td>3.9</td><td>0.93</td><td>44</td></tr><tr><td>&quot;EMD_LAB_187351453_255545541&quot;</td><td>&quot;Мужской&quot;</td><td>1978-06-26</td><td>2023-07-02</td><td>150.0</td><td>46.0</td><td>&quot;[&#x27;21&#x27; &#x27;25.1&#x27; &#x27;8.6&#x27;]&quot;</td><td>11.0</td><td>53.7</td><td>110.0</td><td>6.8</td><td>141.0</td><td>7.288</td><td>-0.9</td><td>-2.1</td><td>2.3</td><td>36.6</td><td>24.9</td><td>28.34</td><td>2.0</td><td>1.0</td><td>42.2</td><td>40.8</td><td>3.5</td><td>0.92</td><td>45</td></tr></tbody></table></div>"
      ],
      "text/plain": [
       "shape: (3, 26)\n",
       "┌─────────────┬─────────┬────────────┬────────────┬───┬────────────┬────────────┬────────────┬─────┐\n",
       "│ record      ┆ gender  ┆ birthday   ┆ lab_date   ┆ … ┆ Оксигемогл ┆ Калий,     ┆ Кальций    ┆ age │\n",
       "│ ---         ┆ ---     ┆ ---        ┆ ---        ┆   ┆ обин,      ┆ молярная   ┆ ионизирова ┆ --- │\n",
       "│ str         ┆ str     ┆ date       ┆ date       ┆   ┆ массовая   ┆ концентрац ┆ нный,      ┆ i32 │\n",
       "│             ┆         ┆            ┆            ┆   ┆ фракц…     ┆ ия в…      ┆ молярн…    ┆     │\n",
       "│             ┆         ┆            ┆            ┆   ┆ ---        ┆ ---        ┆ ---        ┆     │\n",
       "│             ┆         ┆            ┆            ┆   ┆ f64        ┆ f64        ┆ f64        ┆     │\n",
       "╞═════════════╪═════════╪════════════╪════════════╪═══╪════════════╪════════════╪════════════╪═════╡\n",
       "│ EMD_LAB_188 ┆ Мужской ┆ 1955-11-14 ┆ 2023-08-28 ┆ … ┆ 77.3       ┆ 4.0        ┆ 1.0        ┆ 68  │\n",
       "│ 432683_2555 ┆         ┆            ┆            ┆   ┆            ┆            ┆            ┆     │\n",
       "│ 87897       ┆         ┆            ┆            ┆   ┆            ┆            ┆            ┆     │\n",
       "│ EMD_LAB_188 ┆ Женский ┆ 1979-07-02 ┆ 2023-08-16 ┆ … ┆ 77.9       ┆ 3.9        ┆ 0.93       ┆ 44  │\n",
       "│ 204627_2555 ┆         ┆            ┆            ┆   ┆            ┆            ┆            ┆     │\n",
       "│ 78735       ┆         ┆            ┆            ┆   ┆            ┆            ┆            ┆     │\n",
       "│ EMD_LAB_187 ┆ Мужской ┆ 1978-06-26 ┆ 2023-07-02 ┆ … ┆ 40.8       ┆ 3.5        ┆ 0.92       ┆ 45  │\n",
       "│ 351453_2555 ┆         ┆            ┆            ┆   ┆            ┆            ┆            ┆     │\n",
       "│ 45541       ┆         ┆            ┆            ┆   ┆            ┆            ┆            ┆     │\n",
       "└─────────────┴─────────┴────────────┴────────────┴───┴────────────┴────────────┴────────────┴─────┘"
      ]
     },
     "execution_count": 28,
     "metadata": {},
     "output_type": "execute_result"
    }
   ],
   "source": [
    "filtered_lab_records = (\n",
    "    pl.from_pandas(lab_records)\n",
    "    .select(features_without_nans)\n",
    "    .with_columns(\n",
    "        c(\"birthday\").cast(pl.String).str.to_datetime(\"%Y%m%d\").dt.date(),\n",
    "        c(\"lab_date\").cast(pl.String).str.to_datetime(\"%d.%m.%Y %H:%M\").dt.date(),\n",
    "    )\n",
    "    .with_columns((c(\"lab_date\").dt.year() - c(\"birthday\").dt.year()).alias(\"age\"))\n",
    "    # [\"Кристаллы оксалата кальция, обнаружение в моче методом компьютер-ассистированной микроскопии\"]\n",
    "    # .unique()\n",
    "    .filter(\n",
    "        c(\"Гемоглобин общий, массовая концентрация в крови\").is_not_null(),\n",
    "        c(\n",
    "            \"Кальций ионизированный, молярная концентрация в венозной крови\"\n",
    "        ).is_not_null(),\n",
    "    )\n",
    "    # .null_count()\n",
    "    # .shape\n",
    "    # .head(3)\n",
    ")\n",
    "filtered_lab_records.head(3)"
   ]
  },
  {
   "cell_type": "code",
   "execution_count": 55,
   "metadata": {},
   "outputs": [],
   "source": [
    "filtered_lab_records = filtered_lab_records.with_columns(\n",
    "    c(\"Кислород общий, молярная концентрация в венозной крови\").map_elements(\n",
    "        lambda x: [float(number) for number in x.strip(\"[]'\").split(\"' '\")],\n",
    "        return_dtype=list[float],\n",
    "    )\n",
    ")"
   ]
  },
  {
   "cell_type": "code",
   "execution_count": 56,
   "metadata": {},
   "outputs": [
    {
     "data": {
      "text/html": [
       "<div><style>\n",
       ".dataframe > thead > tr,\n",
       ".dataframe > tbody > tr {\n",
       "  text-align: right;\n",
       "  white-space: pre-wrap;\n",
       "}\n",
       "</style>\n",
       "<small>shape: (3, 26)</small><table border=\"1\" class=\"dataframe\"><thead><tr><th>record</th><th>gender</th><th>birthday</th><th>lab_date</th><th>Гемоглобин общий, массовая концентрация в крови</th><th>Гематокрит крови методом автоматизированного подсчёта</th><th>Кислород общий, молярная концентрация в венозной крови</th><th>Билирубин общий, молярная концентрация в венозной крови</th><th>Диоксид углерода, парциальное давление в венозной крови</th><th>Хлориды, молярная концентрация в венозной крови</th><th>Глюкоза, молярная концентрация в венозной крови</th><th>Натрий, молярная концентрация в венозной крови</th><th>Водородный показатель (pH) венозной крови</th><th>Избыток оснований стандартный, расчетная молярная концентрация в венозной крови</th><th>Избыток оснований истинный, расчетная молярная концентрация в венозной крови</th><th>Карбоксигемоглобин, массовая фракция в венозной крови</th><th>Водородный показатель (pH) венозной крови, откорректированный по температуре пациента</th><th>Бикарбонат стандартный, молярная концентрация в венозной крови</th><th>Кислород, парциальное давление при 50% сатурации в венозной крови</th><th>Лактат, молярная концентрация в венозной крови</th><th>Метгемоглобин, массовая фракция в венозной крови</th><th>Насыщение гемоглобина кислородом, массовая фракция в венозной крови</th><th>Оксигемоглобин, массовая фракция в венозной крови</th><th>Калий, молярная концентрация в венозной крови</th><th>Кальций ионизированный, молярная концентрация в венозной крови</th><th>age</th></tr><tr><td>str</td><td>str</td><td>date</td><td>date</td><td>f64</td><td>f64</td><td>list[f64]</td><td>f64</td><td>f64</td><td>f64</td><td>f64</td><td>f64</td><td>f64</td><td>f64</td><td>f64</td><td>f64</td><td>f64</td><td>f64</td><td>f64</td><td>f64</td><td>f64</td><td>f64</td><td>f64</td><td>f64</td><td>f64</td><td>i32</td></tr></thead><tbody><tr><td>&quot;EMD_LAB_188432683_255587897&quot;</td><td>&quot;Мужской&quot;</td><td>1955-11-14</td><td>2023-08-28</td><td>148.0</td><td>45.5</td><td>[21.0, 45.6, 16.1]</td><td>13.0</td><td>30.9</td><td>113.0</td><td>5.5</td><td>136.0</td><td>7.458</td><td>-1.7</td><td>-0.8</td><td>0.7</td><td>36.6</td><td>21.6</td><td>28.72</td><td>4.2</td><td>0.6</td><td>78.3</td><td>77.3</td><td>4.0</td><td>1.0</td><td>68</td></tr><tr><td>&quot;EMD_LAB_188204627_255578735&quot;</td><td>&quot;Женский&quot;</td><td>1979-07-02</td><td>2023-08-16</td><td>137.0</td><td>42.2</td><td>[21.0, 45.7, 15.0]</td><td>12.0</td><td>39.9</td><td>107.0</td><td>6.2</td><td>136.0</td><td>7.399</td><td>-0.1</td><td>-0.1</td><td>1.3</td><td>36.6</td><td>24.1</td><td>27.76</td><td>2.1</td><td>1.1</td><td>79.8</td><td>77.9</td><td>3.9</td><td>0.93</td><td>44</td></tr><tr><td>&quot;EMD_LAB_187351453_255545541&quot;</td><td>&quot;Мужской&quot;</td><td>1978-06-26</td><td>2023-07-02</td><td>150.0</td><td>46.0</td><td>[21.0, 25.1, 8.6]</td><td>11.0</td><td>53.7</td><td>110.0</td><td>6.8</td><td>141.0</td><td>7.288</td><td>-0.9</td><td>-2.1</td><td>2.3</td><td>36.6</td><td>24.9</td><td>28.34</td><td>2.0</td><td>1.0</td><td>42.2</td><td>40.8</td><td>3.5</td><td>0.92</td><td>45</td></tr></tbody></table></div>"
      ],
      "text/plain": [
       "shape: (3, 26)\n",
       "┌─────────────┬─────────┬────────────┬────────────┬───┬────────────┬────────────┬────────────┬─────┐\n",
       "│ record      ┆ gender  ┆ birthday   ┆ lab_date   ┆ … ┆ Оксигемогл ┆ Калий,     ┆ Кальций    ┆ age │\n",
       "│ ---         ┆ ---     ┆ ---        ┆ ---        ┆   ┆ обин,      ┆ молярная   ┆ ионизирова ┆ --- │\n",
       "│ str         ┆ str     ┆ date       ┆ date       ┆   ┆ массовая   ┆ концентрац ┆ нный,      ┆ i32 │\n",
       "│             ┆         ┆            ┆            ┆   ┆ фракц…     ┆ ия в…      ┆ молярн…    ┆     │\n",
       "│             ┆         ┆            ┆            ┆   ┆ ---        ┆ ---        ┆ ---        ┆     │\n",
       "│             ┆         ┆            ┆            ┆   ┆ f64        ┆ f64        ┆ f64        ┆     │\n",
       "╞═════════════╪═════════╪════════════╪════════════╪═══╪════════════╪════════════╪════════════╪═════╡\n",
       "│ EMD_LAB_188 ┆ Мужской ┆ 1955-11-14 ┆ 2023-08-28 ┆ … ┆ 77.3       ┆ 4.0        ┆ 1.0        ┆ 68  │\n",
       "│ 432683_2555 ┆         ┆            ┆            ┆   ┆            ┆            ┆            ┆     │\n",
       "│ 87897       ┆         ┆            ┆            ┆   ┆            ┆            ┆            ┆     │\n",
       "│ EMD_LAB_188 ┆ Женский ┆ 1979-07-02 ┆ 2023-08-16 ┆ … ┆ 77.9       ┆ 3.9        ┆ 0.93       ┆ 44  │\n",
       "│ 204627_2555 ┆         ┆            ┆            ┆   ┆            ┆            ┆            ┆     │\n",
       "│ 78735       ┆         ┆            ┆            ┆   ┆            ┆            ┆            ┆     │\n",
       "│ EMD_LAB_187 ┆ Мужской ┆ 1978-06-26 ┆ 2023-07-02 ┆ … ┆ 40.8       ┆ 3.5        ┆ 0.92       ┆ 45  │\n",
       "│ 351453_2555 ┆         ┆            ┆            ┆   ┆            ┆            ┆            ┆     │\n",
       "│ 45541       ┆         ┆            ┆            ┆   ┆            ┆            ┆            ┆     │\n",
       "└─────────────┴─────────┴────────────┴────────────┴───┴────────────┴────────────┴────────────┴─────┘"
      ]
     },
     "execution_count": 56,
     "metadata": {},
     "output_type": "execute_result"
    }
   ],
   "source": [
    "filtered_lab_records.head(3)"
   ]
  },
  {
   "cell_type": "code",
   "execution_count": 60,
   "metadata": {},
   "outputs": [
    {
     "data": {
      "text/plain": [
       "(892, 26)"
      ]
     },
     "execution_count": 60,
     "metadata": {},
     "output_type": "execute_result"
    }
   ],
   "source": [
    "filtered_lab_records.shape"
   ]
  },
  {
   "cell_type": "code",
   "execution_count": 61,
   "metadata": {},
   "outputs": [
    {
     "data": {
      "text/html": [
       "<div><style>\n",
       ".dataframe > thead > tr,\n",
       ".dataframe > tbody > tr {\n",
       "  text-align: right;\n",
       "  white-space: pre-wrap;\n",
       "}\n",
       "</style>\n",
       "<small>shape: (1, 26)</small><table border=\"1\" class=\"dataframe\"><thead><tr><th>record</th><th>gender</th><th>birthday</th><th>lab_date</th><th>Гемоглобин общий, массовая концентрация в крови</th><th>Гематокрит крови методом автоматизированного подсчёта</th><th>Кислород общий, молярная концентрация в венозной крови</th><th>Билирубин общий, молярная концентрация в венозной крови</th><th>Диоксид углерода, парциальное давление в венозной крови</th><th>Хлориды, молярная концентрация в венозной крови</th><th>Глюкоза, молярная концентрация в венозной крови</th><th>Натрий, молярная концентрация в венозной крови</th><th>Водородный показатель (pH) венозной крови</th><th>Избыток оснований стандартный, расчетная молярная концентрация в венозной крови</th><th>Избыток оснований истинный, расчетная молярная концентрация в венозной крови</th><th>Карбоксигемоглобин, массовая фракция в венозной крови</th><th>Водородный показатель (pH) венозной крови, откорректированный по температуре пациента</th><th>Бикарбонат стандартный, молярная концентрация в венозной крови</th><th>Кислород, парциальное давление при 50% сатурации в венозной крови</th><th>Лактат, молярная концентрация в венозной крови</th><th>Метгемоглобин, массовая фракция в венозной крови</th><th>Насыщение гемоглобина кислородом, массовая фракция в венозной крови</th><th>Оксигемоглобин, массовая фракция в венозной крови</th><th>Калий, молярная концентрация в венозной крови</th><th>Кальций ионизированный, молярная концентрация в венозной крови</th><th>age</th></tr><tr><td>u32</td><td>u32</td><td>u32</td><td>u32</td><td>u32</td><td>u32</td><td>u32</td><td>u32</td><td>u32</td><td>u32</td><td>u32</td><td>u32</td><td>u32</td><td>u32</td><td>u32</td><td>u32</td><td>u32</td><td>u32</td><td>u32</td><td>u32</td><td>u32</td><td>u32</td><td>u32</td><td>u32</td><td>u32</td><td>u32</td></tr></thead><tbody><tr><td>0</td><td>0</td><td>0</td><td>0</td><td>0</td><td>0</td><td>0</td><td>0</td><td>0</td><td>0</td><td>0</td><td>0</td><td>0</td><td>0</td><td>0</td><td>0</td><td>0</td><td>0</td><td>0</td><td>0</td><td>0</td><td>0</td><td>0</td><td>0</td><td>0</td><td>0</td></tr></tbody></table></div>"
      ],
      "text/plain": [
       "shape: (1, 26)\n",
       "┌────────┬────────┬──────────┬──────────┬───┬────────────────┬───────────────┬───────────────┬─────┐\n",
       "│ record ┆ gender ┆ birthday ┆ lab_date ┆ … ┆ Оксигемоглобин ┆ Калий,        ┆ Кальций иониз ┆ age │\n",
       "│ ---    ┆ ---    ┆ ---      ┆ ---      ┆   ┆ , массовая     ┆ молярная      ┆ ированный,    ┆ --- │\n",
       "│ u32    ┆ u32    ┆ u32      ┆ u32      ┆   ┆ фракц…         ┆ концентрация  ┆ молярн…       ┆ u32 │\n",
       "│        ┆        ┆          ┆          ┆   ┆ ---            ┆ в…            ┆ ---           ┆     │\n",
       "│        ┆        ┆          ┆          ┆   ┆ u32            ┆ ---           ┆ u32           ┆     │\n",
       "│        ┆        ┆          ┆          ┆   ┆                ┆ u32           ┆               ┆     │\n",
       "╞════════╪════════╪══════════╪══════════╪═══╪════════════════╪═══════════════╪═══════════════╪═════╡\n",
       "│ 0      ┆ 0      ┆ 0        ┆ 0        ┆ … ┆ 0              ┆ 0             ┆ 0             ┆ 0   │\n",
       "└────────┴────────┴──────────┴──────────┴───┴────────────────┴───────────────┴───────────────┴─────┘"
      ]
     },
     "execution_count": 61,
     "metadata": {},
     "output_type": "execute_result"
    }
   ],
   "source": [
    "filtered_lab_records.null_count()"
   ]
  }
 ],
 "metadata": {
  "kernelspec": {
   "display_name": ".venv",
   "language": "python",
   "name": "python3"
  },
  "language_info": {
   "codemirror_mode": {
    "name": "ipython",
    "version": 3
   },
   "file_extension": ".py",
   "mimetype": "text/x-python",
   "name": "python",
   "nbconvert_exporter": "python",
   "pygments_lexer": "ipython3",
   "version": "3.12.6"
  }
 },
 "nbformat": 4,
 "nbformat_minor": 2
}
