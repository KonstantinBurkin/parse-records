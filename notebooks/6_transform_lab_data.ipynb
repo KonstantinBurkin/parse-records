{
 "cells": [
  {
   "cell_type": "markdown",
   "metadata": {},
   "source": [
    "### Imports"
   ]
  },
  {
   "cell_type": "code",
   "execution_count": 1,
   "metadata": {},
   "outputs": [],
   "source": [
    "import pandas as pd\n",
    "import json\n",
    "import os, sys\n",
    "from tqdm import tqdm\n",
    "import numpy as np\n",
    "import polars as pl\n",
    "from polars import col as c\n",
    "\n",
    "sys.path.append(\"../\")"
   ]
  },
  {
   "cell_type": "markdown",
   "metadata": {},
   "source": [
    "### table creation"
   ]
  },
  {
   "cell_type": "code",
   "execution_count": 19,
   "metadata": {},
   "outputs": [],
   "source": [
    "dir_path = \"../data/parsed_dataframes\"\n",
    "file_name = \"lab_records.parquet\"\n",
    "file_path = os.path.join(dir_path, file_name)\n",
    "lab_records = pd.read_parquet(file_path)"
   ]
  },
  {
   "cell_type": "code",
   "execution_count": 20,
   "metadata": {},
   "outputs": [
    {
     "name": "stderr",
     "output_type": "stream",
     "text": [
      "/var/folders/v_/vqhfnf3s4sb7g6nfby7hc9sr0000gn/T/ipykernel_87876/1777949469.py:3: FutureWarning: errors='ignore' is deprecated and will raise in a future version. Use to_numeric without passing `errors` and catch exceptions explicitly instead\n",
      "  lab_records[column] = pd.to_numeric(lab_records[column], errors=\"ignore\")\n"
     ]
    }
   ],
   "source": [
    "for column in lab_records.columns:\n",
    "    lab_records[column] = lab_records[column].replace(to_replace=\"nan\", value=np.nan)\n",
    "    lab_records[column] = pd.to_numeric(lab_records[column], errors=\"ignore\")"
   ]
  },
  {
   "cell_type": "code",
   "execution_count": 23,
   "metadata": {},
   "outputs": [
    {
     "data": {
      "text/html": [
       "<div>\n",
       "<style scoped>\n",
       "    .dataframe tbody tr th:only-of-type {\n",
       "        vertical-align: middle;\n",
       "    }\n",
       "\n",
       "    .dataframe tbody tr th {\n",
       "        vertical-align: top;\n",
       "    }\n",
       "\n",
       "    .dataframe thead th {\n",
       "        text-align: right;\n",
       "    }\n",
       "</style>\n",
       "<table border=\"1\" class=\"dataframe\">\n",
       "  <thead>\n",
       "    <tr style=\"text-align: right;\">\n",
       "      <th></th>\n",
       "      <th>count_nans</th>\n",
       "    </tr>\n",
       "  </thead>\n",
       "  <tbody>\n",
       "    <tr>\n",
       "      <th>record</th>\n",
       "      <td>0</td>\n",
       "    </tr>\n",
       "    <tr>\n",
       "      <th>gender</th>\n",
       "      <td>0</td>\n",
       "    </tr>\n",
       "    <tr>\n",
       "      <th>birthday</th>\n",
       "      <td>0</td>\n",
       "    </tr>\n",
       "    <tr>\n",
       "      <th>lab_date</th>\n",
       "      <td>0</td>\n",
       "    </tr>\n",
       "    <tr>\n",
       "      <th>Гемоглобин общий, массовая концентрация в крови</th>\n",
       "      <td>2819</td>\n",
       "    </tr>\n",
       "    <tr>\n",
       "      <th>Гематокрит крови методом автоматизированного подсчёта</th>\n",
       "      <td>2819</td>\n",
       "    </tr>\n",
       "    <tr>\n",
       "      <th>Кислород общий, молярная концентрация в венозной крови</th>\n",
       "      <td>3177</td>\n",
       "    </tr>\n",
       "    <tr>\n",
       "      <th>Билирубин общий, молярная концентрация в венозной крови</th>\n",
       "      <td>3177</td>\n",
       "    </tr>\n",
       "    <tr>\n",
       "      <th>Диоксид углерода, парциальное давление в венозной крови</th>\n",
       "      <td>3316</td>\n",
       "    </tr>\n",
       "    <tr>\n",
       "      <th>Хлориды, молярная концентрация в венозной крови</th>\n",
       "      <td>3316</td>\n",
       "    </tr>\n",
       "  </tbody>\n",
       "</table>\n",
       "</div>"
      ],
      "text/plain": [
       "                                                    count_nans\n",
       "record                                                       0\n",
       "gender                                                       0\n",
       "birthday                                                     0\n",
       "lab_date                                                     0\n",
       "Гемоглобин общий, массовая концентрация в крови           2819\n",
       "Гематокрит крови методом автоматизированного по...        2819\n",
       "Кислород общий, молярная концентрация в венозно...        3177\n",
       "Билирубин общий, молярная концентрация в венозн...        3177\n",
       "Диоксид углерода, парциальное давление в венозн...        3316\n",
       "Хлориды, молярная концентрация в венозной крови           3316"
      ]
     },
     "execution_count": 23,
     "metadata": {},
     "output_type": "execute_result"
    }
   ],
   "source": [
    "pd.DataFrame(lab_records.isna().sum(), columns=[\"count_nans\"]).sort_values(\n",
    "    \"count_nans\"\n",
    ").head(10)"
   ]
  },
  {
   "cell_type": "code",
   "execution_count": 22,
   "metadata": {},
   "outputs": [
    {
     "data": {
      "text/html": [
       "<div><style>\n",
       ".dataframe > thead > tr,\n",
       ".dataframe > tbody > tr {\n",
       "  text-align: right;\n",
       "  white-space: pre-wrap;\n",
       "}\n",
       "</style>\n",
       "<small>shape: (3, 202)</small><table border=\"1\" class=\"dataframe\"><thead><tr><th>record</th><th>gender</th><th>birthday</th><th>Тропонин Т сердечный, обнаружение в крови</th><th>lab_date</th><th>Белок, обнаружение в моче с помощью автоматизированного определения тест-полоской</th><th>Билирубин общий, обнаружение в моче с помощью автоматизированного определения тест-полоской</th><th>Водородный показатель (pH) мочи с помощью автоматизированного определения тест-полоской</th><th>Глюкоза, обнаружение в моче</th><th>Кетоновые тела, обнаружение в моче с помощью автоматизированного определения тест-полоской</th><th>Лейкоциты, обнаружение в моче методом автоматизированного определения</th><th>Нитриты, обнаружение в моче с помощью автоматизированного определения тест-полоской</th><th>Относительная плотность мочи в тесте с водной нагрузкой</th><th>Прозрачность мочи</th><th>Уробилиноген, массовая концентрация в моче с помощью тест-полоски</th><th>Цвет мочи</th><th>Эритроциты, обнаружение в моче методом автоматизированного определения</th><th>Бикарбонат стандартный, молярная концентрация в венозной крови</th><th>Билирубин общий, молярная концентрация в венозной крови</th><th>Водородный показатель (pH) венозной крови</th><th>Водородный показатель (pH) венозной крови, откорректированный по температуре пациента</th><th>Гематокрит крови методом автоматизированного подсчёта</th><th>Гемоглобин общий, массовая концентрация в крови</th><th>Глюкоза, молярная концентрация в венозной крови</th><th>Диоксид углерода, парциальное давление в венозной крови</th><th>Избыток оснований истинный, расчетная молярная концентрация в венозной крови</th><th>Избыток оснований стандартный, расчетная молярная концентрация в венозной крови</th><th>Калий, молярная концентрация в венозной крови</th><th>Кальций ионизированный, молярная концентрация в венозной крови</th><th>Карбоксигемоглобин, массовая фракция в венозной крови</th><th>Кислород общий, молярная концентрация в венозной крови</th><th>Кислород, парциальное давление при 50% сатурации в венозной крови</th><th>Лактат, молярная концентрация в венозной крови</th><th>Метгемоглобин, массовая фракция в венозной крови</th><th>Насыщение гемоглобина кислородом, массовая фракция в венозной крови</th><th>Натрий, молярная концентрация в венозной крови</th><th>Оксигемоглобин, массовая фракция в венозной крови</th><th>&hellip;</th><th>Избыток оснований стандартный, расчетная молярная концентрация в капиллярной крови</th><th>Калий, молярная концентрация в капиллярной крови</th><th>Кальций ионизированный, молярная концентрация в капиллярной крови</th><th>Карбоксигемоглобин, массовая фракция в капиллярной крови</th><th>Кислород общий, молярная концетрация в капиллярной крови</th><th>Кислород, парциальное давление в капиллярной крови</th><th>Кислород, парциальное давление при 50% сатурации в капиллярной крови</th><th>Лактат, молярная концентрация в капиллярной крови</th><th>Метгемоглобин, массовая фракция в капиллярной крови</th><th>Насыщение гемоглобина кислородом, массовая фракция в капиллярной крови</th><th>Натрий, молярная концентрация в капиллярной крови</th><th>Оксигемоглобин, массовая фракция в капиллярной крови</th><th>Хлориды, молярная концентрация в капиллярной крови</th><th>Ферритин, массовая концентрация в сыворотке или плазме крови</th><th>Агрегационная активность тромбоцитов</th><th>Молярная разница концентраций ионов натрия с гидрокарбонатом и хлором в артериальной крови</th><th>Эритроциты, обнаружение в кале</th><th>D-димер, массовая концентрация в бедной тромбоцитами плазме в собственных единицах иммунологическим методом</th><th>Железосвязывающая способность общая, молярная концентрация в сыворотке или плазме крови</th><th>Цилиндры гиалиновые, количество в моче методом автоматизированного подсчёта</th><th>Бласты, относительное количество в крови методом ручного подсчёта</th><th>Дрожжевые клетки, количество в поле зрения в осадке мочи методом световой микроскопии c большим увеличением</th><th>Гамма-глутамилтрасфераза, каталитическая концентрация в сыворотке или плазме крови</th><th>Щелочная фосфатаза, каталитическая концентрация в сыворотке или плазме крови</th><th>Лютеинизирующий гормон, концентрация в условных единицах в сыворотке или плазме крови</th><th>Прогестерон, молярная концентрация в сыворотке или плазме крови</th><th>Фолликулостимулирующий гормон, концентрация в условных единицах в сыворотке или плазме крови</th><th>Эстрадиол, массовая концентрация в биологических жидкостях</th><th>Кальций ионизированный, молярная концентрация в сыворотке или плазме крови</th><th>Цилиндры зернистые, количество в моче методом компьютер-ассистированной микроскопии</th><th>Кристаллы солей мочевой кислоты, обнаружение в моче методом компьютер-ассистированной микроскопии</th><th>Креатинкиназа МВ, массовая концентрация в сыворотке или плазме крови</th><th>Кристаллы оксалата кальция, обнаружение в моче методом компьютер-ассистированной микроскопии</th><th>Альфа-амилаза панкреатическая, каталитическая концентрация в сыворотке или плазме крови</th><th>Простатический специфический антиген свободный, массовая концентрация в сыворотке или плазме крови</th><th>Кристаллы уратов, обнаружение в синовиальной жидкости методом световой микроскопии</th><th>age</th></tr><tr><td>str</td><td>str</td><td>date</td><td>f64</td><td>date</td><td>f64</td><td>str</td><td>f64</td><td>f64</td><td>str</td><td>str</td><td>str</td><td>f64</td><td>str</td><td>str</td><td>str</td><td>str</td><td>f64</td><td>f64</td><td>f64</td><td>f64</td><td>f64</td><td>f64</td><td>f64</td><td>f64</td><td>f64</td><td>f64</td><td>f64</td><td>f64</td><td>f64</td><td>str</td><td>f64</td><td>f64</td><td>f64</td><td>f64</td><td>f64</td><td>f64</td><td>&hellip;</td><td>f64</td><td>f64</td><td>f64</td><td>f64</td><td>f64</td><td>f64</td><td>f64</td><td>f64</td><td>f64</td><td>f64</td><td>f64</td><td>f64</td><td>f64</td><td>f64</td><td>f64</td><td>f64</td><td>str</td><td>f64</td><td>f64</td><td>str</td><td>f64</td><td>str</td><td>f64</td><td>f64</td><td>f64</td><td>f64</td><td>f64</td><td>f64</td><td>f64</td><td>str</td><td>str</td><td>f64</td><td>str</td><td>f64</td><td>f64</td><td>str</td><td>i32</td></tr></thead><tbody><tr><td>&quot;EMD_LAB_187699385_255558719&quot;</td><td>&quot;Женский&quot;</td><td>1949-07-15</td><td>400.7</td><td>2023-07-19</td><td>null</td><td>null</td><td>null</td><td>null</td><td>null</td><td>null</td><td>null</td><td>null</td><td>null</td><td>null</td><td>null</td><td>null</td><td>null</td><td>null</td><td>null</td><td>null</td><td>null</td><td>null</td><td>null</td><td>null</td><td>null</td><td>null</td><td>null</td><td>null</td><td>null</td><td>null</td><td>null</td><td>null</td><td>null</td><td>null</td><td>null</td><td>null</td><td>&hellip;</td><td>null</td><td>null</td><td>null</td><td>null</td><td>null</td><td>null</td><td>null</td><td>null</td><td>null</td><td>null</td><td>null</td><td>null</td><td>null</td><td>null</td><td>null</td><td>null</td><td>null</td><td>null</td><td>null</td><td>null</td><td>null</td><td>null</td><td>null</td><td>null</td><td>null</td><td>null</td><td>null</td><td>null</td><td>null</td><td>null</td><td>null</td><td>null</td><td>null</td><td>null</td><td>null</td><td>null</td><td>74</td></tr><tr><td>&quot;EMD_LAB_188587181_255592950&quot;</td><td>&quot;Женский&quot;</td><td>1957-12-26</td><td>null</td><td>2023-09-02</td><td>0.0</td><td>&quot;neg&quot;</td><td>5.0</td><td>0.0</td><td>&quot;neg&quot;</td><td>&quot;0&quot;</td><td>&quot;neg&quot;</td><td>1.01</td><td>&quot;прозрачная&quot;</td><td>&quot;norm&quot;</td><td>&quot;с желтый&quot;</td><td>&quot;neg&quot;</td><td>null</td><td>null</td><td>null</td><td>null</td><td>null</td><td>null</td><td>null</td><td>null</td><td>null</td><td>null</td><td>null</td><td>null</td><td>null</td><td>null</td><td>null</td><td>null</td><td>null</td><td>null</td><td>null</td><td>null</td><td>&hellip;</td><td>null</td><td>null</td><td>null</td><td>null</td><td>null</td><td>null</td><td>null</td><td>null</td><td>null</td><td>null</td><td>null</td><td>null</td><td>null</td><td>null</td><td>null</td><td>null</td><td>null</td><td>null</td><td>null</td><td>null</td><td>null</td><td>null</td><td>null</td><td>null</td><td>null</td><td>null</td><td>null</td><td>null</td><td>null</td><td>null</td><td>null</td><td>null</td><td>null</td><td>null</td><td>null</td><td>null</td><td>66</td></tr><tr><td>&quot;EMD_LAB_188432683_255587897&quot;</td><td>&quot;Мужской&quot;</td><td>1955-11-14</td><td>null</td><td>2023-08-28</td><td>null</td><td>null</td><td>null</td><td>null</td><td>null</td><td>null</td><td>null</td><td>null</td><td>null</td><td>null</td><td>null</td><td>null</td><td>21.6</td><td>13.0</td><td>7.458</td><td>36.6</td><td>45.5</td><td>148.0</td><td>5.5</td><td>30.9</td><td>-0.8</td><td>-1.7</td><td>4.0</td><td>1.0</td><td>0.7</td><td>&quot;[&#x27;21&#x27; &#x27;45.6&#x27; &#x27;16.1&#x27;]&quot;</td><td>28.72</td><td>4.2</td><td>0.6</td><td>78.3</td><td>136.0</td><td>77.3</td><td>&hellip;</td><td>null</td><td>null</td><td>null</td><td>null</td><td>null</td><td>null</td><td>null</td><td>null</td><td>null</td><td>null</td><td>null</td><td>null</td><td>null</td><td>null</td><td>null</td><td>null</td><td>null</td><td>null</td><td>null</td><td>null</td><td>null</td><td>null</td><td>null</td><td>null</td><td>null</td><td>null</td><td>null</td><td>null</td><td>null</td><td>null</td><td>null</td><td>null</td><td>null</td><td>null</td><td>null</td><td>null</td><td>68</td></tr></tbody></table></div>"
      ],
      "text/plain": [
       "shape: (3, 202)\n",
       "┌─────────────┬─────────┬────────────┬────────────┬───┬────────────┬────────────┬────────────┬─────┐\n",
       "│ record      ┆ gender  ┆ birthday   ┆ Тропонин Т ┆ … ┆ Альфа-амил ┆ Простатиче ┆ Кристаллы  ┆ age │\n",
       "│ ---         ┆ ---     ┆ ---        ┆ сердечный, ┆   ┆ аза панкре ┆ ский специ ┆ уратов,    ┆ --- │\n",
       "│ str         ┆ str     ┆ date       ┆ обнаруже…  ┆   ┆ атическая, ┆ фический   ┆ обнаружени ┆ i32 │\n",
       "│             ┆         ┆            ┆ ---        ┆   ┆ …          ┆ а…         ┆ е …        ┆     │\n",
       "│             ┆         ┆            ┆ f64        ┆   ┆ ---        ┆ ---        ┆ ---        ┆     │\n",
       "│             ┆         ┆            ┆            ┆   ┆ f64        ┆ f64        ┆ str        ┆     │\n",
       "╞═════════════╪═════════╪════════════╪════════════╪═══╪════════════╪════════════╪════════════╪═════╡\n",
       "│ EMD_LAB_187 ┆ Женский ┆ 1949-07-15 ┆ 400.7      ┆ … ┆ null       ┆ null       ┆ null       ┆ 74  │\n",
       "│ 699385_2555 ┆         ┆            ┆            ┆   ┆            ┆            ┆            ┆     │\n",
       "│ 58719       ┆         ┆            ┆            ┆   ┆            ┆            ┆            ┆     │\n",
       "│ EMD_LAB_188 ┆ Женский ┆ 1957-12-26 ┆ null       ┆ … ┆ null       ┆ null       ┆ null       ┆ 66  │\n",
       "│ 587181_2555 ┆         ┆            ┆            ┆   ┆            ┆            ┆            ┆     │\n",
       "│ 92950       ┆         ┆            ┆            ┆   ┆            ┆            ┆            ┆     │\n",
       "│ EMD_LAB_188 ┆ Мужской ┆ 1955-11-14 ┆ null       ┆ … ┆ null       ┆ null       ┆ null       ┆ 68  │\n",
       "│ 432683_2555 ┆         ┆            ┆            ┆   ┆            ┆            ┆            ┆     │\n",
       "│ 87897       ┆         ┆            ┆            ┆   ┆            ┆            ┆            ┆     │\n",
       "└─────────────┴─────────┴────────────┴────────────┴───┴────────────┴────────────┴────────────┴─────┘"
      ]
     },
     "execution_count": 22,
     "metadata": {},
     "output_type": "execute_result"
    }
   ],
   "source": [
    "(\n",
    "    pl.from_pandas(lab_records)\n",
    "    .with_columns(\n",
    "        c(\"birthday\").cast(pl.String).str.to_datetime(\"%Y%m%d\").dt.date(),\n",
    "        c(\"lab_date\").cast(pl.String).str.to_datetime(\"%d.%m.%Y %H:%M\").dt.date(),\n",
    "    )\n",
    "    .with_columns((c(\"lab_date\").dt.year() - c(\"birthday\").dt.year()).alias(\"age\"))\n",
    "    # [\"Кристаллы оксалата кальция, обнаружение в моче методом компьютер-ассистированной микроскопии\"]\n",
    "    # .unique()\n",
    "    # .null_count()\n",
    "    .head(3)\n",
    ")"
   ]
  }
 ],
 "metadata": {
  "kernelspec": {
   "display_name": ".venv",
   "language": "python",
   "name": "python3"
  },
  "language_info": {
   "codemirror_mode": {
    "name": "ipython",
    "version": 3
   },
   "file_extension": ".py",
   "mimetype": "text/x-python",
   "name": "python",
   "nbconvert_exporter": "python",
   "pygments_lexer": "ipython3",
   "version": "3.12.6"
  }
 },
 "nbformat": 4,
 "nbformat_minor": 2
}
