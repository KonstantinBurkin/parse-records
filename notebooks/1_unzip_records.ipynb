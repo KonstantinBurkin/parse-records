{
 "cells": [
  {
   "cell_type": "markdown",
   "metadata": {},
   "source": [
    "### imports"
   ]
  },
  {
   "cell_type": "code",
   "execution_count": 15,
   "metadata": {},
   "outputs": [],
   "source": [
    "from pyunpack import Archive\n",
    "import patoolib\n",
    "from dotenv import load_dotenv, find_dotenv\n",
    "\n",
    "load_dotenv(find_dotenv())\n",
    "import os"
   ]
  },
  {
   "cell_type": "markdown",
   "metadata": {},
   "source": [
    "### constants"
   ]
  },
  {
   "cell_type": "code",
   "execution_count": 16,
   "metadata": {},
   "outputs": [],
   "source": [
    "ZIP_PASSWORD = os.environ.get(\"ZIP_PASSWORD\")"
   ]
  },
  {
   "cell_type": "markdown",
   "metadata": {},
   "source": [
    "### epic"
   ]
  },
  {
   "cell_type": "code",
   "execution_count": 5,
   "metadata": {},
   "outputs": [
    {
     "name": "stderr",
     "output_type": "stream",
     "text": [
      "INFO patool: Extracting ../data/med_records_8k.zip ...\n",
      "INFO patool: ... ../data/med_records_8k.zip extracted to `../data'.\n"
     ]
    },
    {
     "data": {
      "text/plain": [
       "'../data'"
      ]
     },
     "execution_count": 5,
     "metadata": {},
     "output_type": "execute_result"
    }
   ],
   "source": [
    "patoolib.extract_archive(\n",
    "    \"../data/med_records_8k.zip\",\n",
    "    outdir=\"../data\",\n",
    "    password=ZIP_PASSWORD,\n",
    ")"
   ]
  },
  {
   "cell_type": "code",
   "execution_count": 20,
   "metadata": {},
   "outputs": [
    {
     "name": "stdout",
     "output_type": "stream",
     "text": [
      "drwxr-xr-x  8520 hq-n2y0j7g2k4  staff   266K Nov 11 19:25 \u001b[34mmed_records_8500\u001b[m\u001b[m\n",
      "-rw-r--r--@    1 hq-n2y0j7g2k4  staff   182M Nov 11 16:19 med_records_8k.zip\n"
     ]
    }
   ],
   "source": [
    "!ls -lh ../data | grep med_records"
   ]
  },
  {
   "cell_type": "code",
   "execution_count": 21,
   "metadata": {},
   "outputs": [
    {
     "name": "stdout",
     "output_type": "stream",
     "text": [
      "2.3G\t../data/med_records_8500\n"
     ]
    }
   ],
   "source": [
    "!du -sh ../data/med_records_8500"
   ]
  },
  {
   "cell_type": "code",
   "execution_count": 28,
   "metadata": {},
   "outputs": [
    {
     "name": "stdout",
     "output_type": "stream",
     "text": [
      "EMD_EPIC_DISCHARGE_144917141_144917141.xml\n",
      "EMD_EPIC_DISCHARGE_144917994_144917994.xml\n",
      "EMD_EPIC_DISCHARGE_144919331_144919331.xml\n",
      "EMD_EPIC_DISCHARGE_144920127_144920127.xml\n",
      "EMD_EPIC_DISCHARGE_144920608_144920608.xml\n",
      "ls: stdout: Undefined error: 0\n"
     ]
    }
   ],
   "source": [
    "!ls ../data/med_records_8500 | head -5"
   ]
  },
  {
   "cell_type": "code",
   "execution_count": 29,
   "metadata": {},
   "outputs": [
    {
     "name": "stdout",
     "output_type": "stream",
     "text": [
      "    8518\n"
     ]
    }
   ],
   "source": [
    "!ls ../data/med_records_8500 | wc -l"
   ]
  },
  {
   "cell_type": "markdown",
   "metadata": {},
   "source": [
    "### lab"
   ]
  },
  {
   "cell_type": "code",
   "execution_count": null,
   "metadata": {},
   "outputs": [],
   "source": [
    "Archive(\"../data/Medical_records.rar\").extractall(\"../data\")"
   ]
  },
  {
   "cell_type": "code",
   "execution_count": 7,
   "metadata": {},
   "outputs": [
    {
     "name": "stdout",
     "output_type": "stream",
     "text": [
      "total 66304\n",
      "drwxr-xr-x@ 5 hq-n2y0j7g2k4  staff   160B Sep 17 17:01 \u001b[34mMedical_records\u001b[m\u001b[m\n",
      "-rw-r--r--@ 1 hq-n2y0j7g2k4  staff    32M Sep 17 16:59 Medical_records.rar\n"
     ]
    }
   ],
   "source": [
    "!ls -lh ../data | grep Medical_records"
   ]
  },
  {
   "cell_type": "code",
   "execution_count": 10,
   "metadata": {},
   "outputs": [
    {
     "name": "stdout",
     "output_type": "stream",
     "text": [
      "419M\t../data/Medical_records\n"
     ]
    }
   ],
   "source": [
    "!du -sh ../data/Medical_records"
   ]
  },
  {
   "cell_type": "code",
   "execution_count": 2,
   "metadata": {},
   "outputs": [
    {
     "name": "stdout",
     "output_type": "stream",
     "text": [
      "\u001b[34mDocsNew1\u001b[m\u001b[m \u001b[34mDocsNew2\u001b[m\u001b[m \u001b[34mDocsNew3\u001b[m\u001b[m\n"
     ]
    }
   ],
   "source": [
    "!ls ../data/Medical_records/DocsNew1"
   ]
  },
  {
   "cell_type": "code",
   "execution_count": 4,
   "metadata": {},
   "outputs": [
    {
     "name": "stdout",
     "output_type": "stream",
     "text": [
      "     137\n"
     ]
    }
   ],
   "source": [
    "!ls ../data/Medical_records/DocsNew1 | wc -l"
   ]
  },
  {
   "cell_type": "code",
   "execution_count": 5,
   "metadata": {},
   "outputs": [
    {
     "name": "stdout",
     "output_type": "stream",
     "text": [
      "     426\n"
     ]
    }
   ],
   "source": [
    "!ls ../data/Medical_records/DocsNew2 | wc -l"
   ]
  },
  {
   "cell_type": "code",
   "execution_count": 6,
   "metadata": {},
   "outputs": [
    {
     "name": "stdout",
     "output_type": "stream",
     "text": [
      "    4211\n"
     ]
    }
   ],
   "source": [
    "!ls ../data/Medical_records/DocsNew3 | wc -l"
   ]
  }
 ],
 "metadata": {
  "kernelspec": {
   "display_name": ".venv",
   "language": "python",
   "name": "python3"
  },
  "language_info": {
   "codemirror_mode": {
    "name": "ipython",
    "version": 3
   },
   "file_extension": ".py",
   "mimetype": "text/x-python",
   "name": "python",
   "nbconvert_exporter": "python",
   "pygments_lexer": "ipython3",
   "version": "3.12.7"
  }
 },
 "nbformat": 4,
 "nbformat_minor": 2
}
