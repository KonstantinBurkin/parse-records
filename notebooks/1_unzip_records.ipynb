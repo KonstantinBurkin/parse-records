{
 "cells": [
  {
   "cell_type": "code",
   "execution_count": 5,
   "metadata": {},
   "outputs": [],
   "source": [
    "from pyunpack import Archive\n",
    "\n",
    "Archive(\"../data/Medical_records.rar\").extractall(\"../data\")"
   ]
  },
  {
   "cell_type": "code",
   "execution_count": 7,
   "metadata": {},
   "outputs": [
    {
     "name": "stdout",
     "output_type": "stream",
     "text": [
      "total 66304\n",
      "drwxr-xr-x@ 5 hq-n2y0j7g2k4  staff   160B Sep 17 17:01 \u001b[34mMedical_records\u001b[m\u001b[m\n",
      "-rw-r--r--@ 1 hq-n2y0j7g2k4  staff    32M Sep 17 16:59 Medical_records.rar\n"
     ]
    }
   ],
   "source": [
    "!ls -lh ../data "
   ]
  },
  {
   "cell_type": "code",
   "execution_count": 10,
   "metadata": {},
   "outputs": [
    {
     "name": "stdout",
     "output_type": "stream",
     "text": [
      "419M\t../data/Medical_records\n"
     ]
    }
   ],
   "source": [
    "!du -sh ../data/Medical_records"
   ]
  },
  {
   "cell_type": "code",
   "execution_count": 2,
   "metadata": {},
   "outputs": [
    {
     "name": "stdout",
     "output_type": "stream",
     "text": [
      "\u001b[34mDocsNew1\u001b[m\u001b[m \u001b[34mDocsNew2\u001b[m\u001b[m \u001b[34mDocsNew3\u001b[m\u001b[m\n"
     ]
    }
   ],
   "source": [
    "!ls ../data/Medical_records/DocsNew1"
   ]
  },
  {
   "cell_type": "code",
   "execution_count": 4,
   "metadata": {},
   "outputs": [
    {
     "name": "stdout",
     "output_type": "stream",
     "text": [
      "     137\n"
     ]
    }
   ],
   "source": [
    "!ls ../data/Medical_records/DocsNew1 | wc -l"
   ]
  },
  {
   "cell_type": "code",
   "execution_count": 5,
   "metadata": {},
   "outputs": [
    {
     "name": "stdout",
     "output_type": "stream",
     "text": [
      "     426\n"
     ]
    }
   ],
   "source": [
    "!ls ../data/Medical_records/DocsNew2 | wc -l"
   ]
  },
  {
   "cell_type": "code",
   "execution_count": 6,
   "metadata": {},
   "outputs": [
    {
     "name": "stdout",
     "output_type": "stream",
     "text": [
      "    4211\n"
     ]
    }
   ],
   "source": [
    "!ls ../data/Medical_records/DocsNew3 | wc -l"
   ]
  }
 ],
 "metadata": {
  "kernelspec": {
   "display_name": ".venv",
   "language": "python",
   "name": "python3"
  },
  "language_info": {
   "codemirror_mode": {
    "name": "ipython",
    "version": 3
   },
   "file_extension": ".py",
   "mimetype": "text/x-python",
   "name": "python",
   "nbconvert_exporter": "python",
   "pygments_lexer": "ipython3",
   "version": "3.12.5"
  }
 },
 "nbformat": 4,
 "nbformat_minor": 2
}
