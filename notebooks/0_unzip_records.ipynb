{
 "cells": [
  {
   "cell_type": "code",
   "execution_count": 5,
   "metadata": {},
   "outputs": [],
   "source": [
    "from pyunpack import Archive\n",
    "\n",
    "Archive(\"../data/Medical_records.rar\").extractall(\"../data\")"
   ]
  },
  {
   "cell_type": "code",
   "execution_count": 7,
   "metadata": {},
   "outputs": [
    {
     "name": "stdout",
     "output_type": "stream",
     "text": [
      "total 66304\n",
      "drwxr-xr-x@ 5 hq-n2y0j7g2k4  staff   160B Sep 17 17:01 \u001b[34mMedical_records\u001b[m\u001b[m\n",
      "-rw-r--r--@ 1 hq-n2y0j7g2k4  staff    32M Sep 17 16:59 Medical_records.rar\n"
     ]
    }
   ],
   "source": [
    "!ls -lh ../data "
   ]
  },
  {
   "cell_type": "code",
   "execution_count": 10,
   "metadata": {},
   "outputs": [
    {
     "name": "stdout",
     "output_type": "stream",
     "text": [
      "419M\t../data/Medical_records\n"
     ]
    }
   ],
   "source": [
    "!du -sh ../data/Medical_records"
   ]
  }
 ],
 "metadata": {
  "kernelspec": {
   "display_name": ".venv",
   "language": "python",
   "name": "python3"
  },
  "language_info": {
   "codemirror_mode": {
    "name": "ipython",
    "version": 3
   },
   "file_extension": ".py",
   "mimetype": "text/x-python",
   "name": "python",
   "nbconvert_exporter": "python",
   "pygments_lexer": "ipython3",
   "version": "3.12.5"
  }
 },
 "nbformat": 4,
 "nbformat_minor": 2
}
