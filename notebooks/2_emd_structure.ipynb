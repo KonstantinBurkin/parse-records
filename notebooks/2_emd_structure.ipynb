{
 "cells": [
  {
   "cell_type": "code",
   "execution_count": 1,
   "metadata": {},
   "outputs": [],
   "source": [
    "import graphviz\n",
    "import os, sys\n",
    "import xml.etree.ElementTree as ET\n",
    "\n",
    "sys.path.append(\"../\")"
   ]
  },
  {
   "cell_type": "markdown",
   "metadata": {},
   "source": [
    "### epic"
   ]
  },
  {
   "cell_type": "code",
   "execution_count": 2,
   "metadata": {},
   "outputs": [],
   "source": [
    "xml_dir = os.path.join(\"../\", \"data\", \"med_records_8500\")\n",
    "xml_file = os.listdir(xml_dir)[0]\n",
    "path_xml = os.path.join(xml_dir, xml_file)"
   ]
  },
  {
   "cell_type": "code",
   "execution_count": 3,
   "metadata": {},
   "outputs": [],
   "source": [
    "with open(path_xml, \"r\", encoding=\"utf-8\") as xml_file:\n",
    "    xml_data = xml_file.read()\n",
    "root = ET.fromstring(xml_data)"
   ]
  },
  {
   "cell_type": "code",
   "execution_count": 4,
   "metadata": {},
   "outputs": [
    {
     "name": "stderr",
     "output_type": "stream",
     "text": [
      "/var/folders/v_/vqhfnf3s4sb7g6nfby7hc9sr0000gn/T/ipykernel_30849/2885924438.py:8: DeprecationWarning: Testing an element's truth value will always return True in future versions.  Use specific 'len(elem)' or 'elem is not None' test instead.\n",
      "  if parent:\n"
     ]
    },
    {
     "data": {
      "text/plain": [
       "'../data/emd_epic_structure_8500/graph.pdf'"
      ]
     },
     "execution_count": 4,
     "metadata": {},
     "output_type": "execute_result"
    }
   ],
   "source": [
    "# Создаем граф в формате DOT\n",
    "dot = graphviz.Digraph()\n",
    "\n",
    "\n",
    "# Функция для рекурсивного обхода дерева и добавления узлов в граф\n",
    "def add_nodes(node, parent=None):\n",
    "    dot.node(str(id(node)), label=node.tag.split(\"}\")[-1])\n",
    "    if parent:\n",
    "        dot.edge(str(id(parent)).split(\"}\")[-1], str(id(node)).split(\"}\")[-1])\n",
    "    for child in node:\n",
    "        add_nodes(child, node)\n",
    "\n",
    "\n",
    "# Начинаем обход дерева с корневого элемента\n",
    "add_nodes(root)\n",
    "\n",
    "# Сохраняем граф в файл\n",
    "dot.render(\n",
    "    directory=\"../data/emd_epic_structure_8500\",\n",
    "    filename=\"graph\",\n",
    "    cleanup=True,\n",
    "    view=True,\n",
    ")"
   ]
  },
  {
   "cell_type": "markdown",
   "metadata": {},
   "source": [
    "### lab"
   ]
  },
  {
   "cell_type": "code",
   "execution_count": 3,
   "metadata": {},
   "outputs": [],
   "source": [
    "xml_dir = os.path.join(\"../\", \"data\", \"Medical_records\", \"DocsNew1\")\n",
    "xml_file = os.listdir(xml_dir)[0]\n",
    "path_xml = os.path.join(xml_dir, xml_file)"
   ]
  },
  {
   "cell_type": "code",
   "execution_count": 4,
   "metadata": {},
   "outputs": [],
   "source": [
    "with open(path_xml, \"r\", encoding=\"utf-8\") as xml_file:\n",
    "    xml_data = xml_file.read()\n",
    "root = ET.fromstring(xml_data)"
   ]
  },
  {
   "cell_type": "code",
   "execution_count": 11,
   "metadata": {},
   "outputs": [
    {
     "name": "stderr",
     "output_type": "stream",
     "text": [
      "/var/folders/v_/vqhfnf3s4sb7g6nfby7hc9sr0000gn/T/ipykernel_1793/2169043592.py:8: DeprecationWarning: Testing an element's truth value will always return True in future versions.  Use specific 'len(elem)' or 'elem is not None' test instead.\n",
      "  if parent:\n"
     ]
    },
    {
     "data": {
      "text/plain": [
       "'../data/emd_epic_structure/graph.pdf'"
      ]
     },
     "execution_count": 11,
     "metadata": {},
     "output_type": "execute_result"
    }
   ],
   "source": [
    "# Создаем граф в формате DOT\n",
    "dot = graphviz.Digraph()\n",
    "\n",
    "\n",
    "# Функция для рекурсивного обхода дерева и добавления узлов в граф\n",
    "def add_nodes(node, parent=None):\n",
    "    dot.node(str(id(node)), label=node.tag.split(\"}\")[-1])\n",
    "    if parent:\n",
    "        dot.edge(str(id(parent)).split(\"}\")[-1], str(id(node)).split(\"}\")[-1])\n",
    "    for child in node:\n",
    "        add_nodes(child, node)\n",
    "\n",
    "\n",
    "# Начинаем обход дерева с корневого элемента\n",
    "add_nodes(root)\n",
    "\n",
    "# Сохраняем граф в файл\n",
    "dot.render(\n",
    "    directory=\"../data/emd_epic_structure\",\n",
    "    filename=\"graph\",\n",
    "    cleanup=True,\n",
    "    view=True,\n",
    ")"
   ]
  },
  {
   "cell_type": "code",
   "execution_count": 5,
   "metadata": {},
   "outputs": [
    {
     "name": "stderr",
     "output_type": "stream",
     "text": [
      "/var/folders/v_/vqhfnf3s4sb7g6nfby7hc9sr0000gn/T/ipykernel_2796/1039900747.py:8: DeprecationWarning: Testing an element's truth value will always return True in future versions.  Use specific 'len(elem)' or 'elem is not None' test instead.\n",
      "  if parent:\n"
     ]
    },
    {
     "data": {
      "text/plain": [
       "'../data/emd_epic_structure/raw_graph.pdf'"
      ]
     },
     "execution_count": 5,
     "metadata": {},
     "output_type": "execute_result"
    }
   ],
   "source": [
    "# Создаем граф в формате DOT\n",
    "dot = graphviz.Digraph()\n",
    "\n",
    "\n",
    "# Функция для рекурсивного обхода дерева и добавления узлов в граф\n",
    "def add_nodes(node, parent=None):\n",
    "    dot.node(str(id(node)), label=node.tag)\n",
    "    if parent:\n",
    "        dot.edge(str(id(parent)).split(\"}\")[-1], str(id(node)).split(\"}\")[-1])\n",
    "    for child in node:\n",
    "        add_nodes(child, node)\n",
    "\n",
    "\n",
    "# Начинаем обход дерева с корневого элемента\n",
    "add_nodes(root)\n",
    "\n",
    "# Сохраняем граф в файл\n",
    "dot.render(\n",
    "    directory=\"../data/emd_epic_structure\",\n",
    "    filename=\"raw_graph\",\n",
    "    cleanup=True,\n",
    "    view=True,\n",
    ")"
   ]
  }
 ],
 "metadata": {
  "kernelspec": {
   "display_name": ".venv",
   "language": "python",
   "name": "python3"
  },
  "language_info": {
   "codemirror_mode": {
    "name": "ipython",
    "version": 3
   },
   "file_extension": ".py",
   "mimetype": "text/x-python",
   "name": "python",
   "nbconvert_exporter": "python",
   "pygments_lexer": "ipython3",
   "version": "3.12.7"
  }
 },
 "nbformat": 4,
 "nbformat_minor": 2
}
