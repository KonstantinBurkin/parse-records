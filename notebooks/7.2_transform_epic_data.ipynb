{
 "cells": [
  {
   "cell_type": "markdown",
   "metadata": {},
   "source": [
    "### Imports"
   ]
  },
  {
   "cell_type": "code",
   "execution_count": 1,
   "metadata": {},
   "outputs": [],
   "source": [
    "import pandas as pd\n",
    "import json\n",
    "import pickle\n",
    "import os, sys\n",
    "from tqdm import tqdm\n",
    "import numpy as np\n",
    "import polars as pl\n",
    "from polars import col as c\n",
    "from pprint import pprint\n",
    "import matplotlib.pyplot as plt\n",
    "import re\n",
    "from sklearn.experimental import enable_iterative_imputer\n",
    "from sklearn.impute import IterativeImputer\n",
    "import pandas as pd\n",
    "from sklearn.linear_model import LogisticRegression\n",
    "\n",
    "sys.path.append(\"../\")\n",
    "pl.Config.set_tbl_rows(50)\n",
    "\n",
    "from scripts.regex import regex_search"
   ]
  },
  {
   "cell_type": "markdown",
   "metadata": {},
   "source": [
    "### constants"
   ]
  },
  {
   "cell_type": "code",
   "execution_count": 2,
   "metadata": {},
   "outputs": [],
   "source": [
    "PROCESSED_COLS = []"
   ]
  },
  {
   "cell_type": "markdown",
   "metadata": {},
   "source": [
    "### table creation"
   ]
  },
  {
   "cell_type": "code",
   "execution_count": 3,
   "metadata": {},
   "outputs": [],
   "source": [
    "dir_path = \"../data/parsed_dataframes\"\n",
    "file_name = \"epic_records_8500.parquet\"\n",
    "file_path = os.path.join(dir_path, file_name)\n",
    "epic_records = pd.read_parquet(file_path)"
   ]
  },
  {
   "cell_type": "code",
   "execution_count": 4,
   "metadata": {},
   "outputs": [
    {
     "name": "stderr",
     "output_type": "stream",
     "text": [
      "/var/folders/yt/5rqq39t16xs0vjb7z99vs0cw0000gn/T/ipykernel_19181/633498768.py:3: FutureWarning: errors='ignore' is deprecated and will raise in a future version. Use to_numeric without passing `errors` and catch exceptions explicitly instead\n",
      "  epic_records[column] = pd.to_numeric(epic_records[column], errors=\"ignore\")\n"
     ]
    }
   ],
   "source": [
    "for column in epic_records.columns:\n",
    "    epic_records[column] = epic_records[column].replace(to_replace=\"nan\", value=np.nan)\n",
    "    epic_records[column] = pd.to_numeric(epic_records[column], errors=\"ignore\")"
   ]
  },
  {
   "cell_type": "code",
   "execution_count": 5,
   "metadata": {},
   "outputs": [],
   "source": [
    "epic_records = (\n",
    "    pl.from_pandas(epic_records)\n",
    "    .with_columns(\n",
    "        c(\"Дата поступления\")\n",
    "        .cast(pl.String)\n",
    "        .str.to_datetime(\"%d.%m.%Y %H:%M\")\n",
    "        .dt.date(),\n",
    "        # c(\"lab_date\").cast(pl.String).str.to_datetime(\"%d.%m.%Y %H:%M\").dt.date(),\n",
    "    )\n",
    "    .rename({\"Дата поступления\": \"admission_datetime\"})\n",
    "    .drop([\"birthday\", \"record\"])\n",
    "    # .head(2)\n",
    ")"
   ]
  },
  {
   "cell_type": "code",
   "execution_count": 6,
   "metadata": {},
   "outputs": [],
   "source": [
    "epic_records = epic_records.with_columns(\n",
    "    c(\"gender\")\n",
    "    .replace(\n",
    "        {\n",
    "            \"Мужской\": 1,\n",
    "            \"Женский\": 0,\n",
    "        }\n",
    "    )\n",
    "    .cast(pl.Int64),\n",
    "    c(\"gospitalisation_delivery\")\n",
    "    .replace(\n",
    "        {\n",
    "            \"Плановая госпитализация\": 1,\n",
    "            \"Доставлен бригадой скорой помощи\": 0,\n",
    "        }\n",
    "    )\n",
    "    .cast(pl.Int64),\n",
    "    c(\"gospitalisation_type\")\n",
    "    .replace(\n",
    "        {\n",
    "            \"Повторный\": 1,\n",
    "            \"Первичный\": 0,\n",
    "        }\n",
    "    )\n",
    "    .cast(pl.Int64),\n",
    ")"
   ]
  },
  {
   "cell_type": "code",
   "execution_count": 7,
   "metadata": {},
   "outputs": [],
   "source": [
    "PROCESSED_COLS.append(\"admission_datetime\")\n",
    "PROCESSED_COLS.append(\"gender\")\n",
    "PROCESSED_COLS.append(\"patient_id\")\n",
    "PROCESSED_COLS.append(\"gospitalisation_type\")\n",
    "PROCESSED_COLS.append(\"gospitalisation_delivery\")"
   ]
  },
  {
   "cell_type": "code",
   "execution_count": 8,
   "metadata": {},
   "outputs": [
    {
     "data": {
      "text/html": [
       "<div><style>\n",
       ".dataframe > thead > tr,\n",
       ".dataframe > tbody > tr {\n",
       "  text-align: right;\n",
       "  white-space: pre-wrap;\n",
       "}\n",
       "</style>\n",
       "<small>shape: (2, 21)</small><table border=\"1\" class=\"dataframe\"><thead><tr><th>patient_id</th><th>gender</th><th>amnez_life</th><th>amnez_disease</th><th>condition</th><th>ward_table</th><th>full_wards</th><th>final_table1</th><th>final_table2</th><th>complication_of_main_disease_desc</th><th>main_disease_desc</th><th>secondary_disease_desc</th><th>complication_of_main_disease_code</th><th>main_disease_code</th><th>secondary_disease_code</th><th>admission_datetime</th><th>gospitalisation_type</th><th>gospitalisation_delivery</th><th>background_disease_desc</th><th>background_disease_code</th><th>Конкурирующее заболевание</th></tr><tr><td>str</td><td>i64</td><td>str</td><td>str</td><td>str</td><td>str</td><td>str</td><td>str</td><td>str</td><td>str</td><td>str</td><td>str</td><td>str</td><td>str</td><td>str</td><td>date</td><td>i64</td><td>i64</td><td>str</td><td>str</td><td>str</td></tr></thead><tbody><tr><td>&quot;75DB9BE5-92BE-432F-AA97-2CC5A5…</td><td>1</td><td>&quot;ОБЩЕБИОГРАФИЧЕСКИЕ СВЕДЕНИЯ&nbsp;&nbsp;Н…</td><td>&quot;АНАМНЕЗ ИБС С 2016Г., КОГДА ПЕ…</td><td>&quot;[&#x27;Состояние: Средней тяжести&#x27;,…</td><td>&quot;{&#x27;Название&#x27;: {0: &#x27;Приемное отд…</td><td>&quot;{&#x27;Сведения о пребывании пациен…</td><td>&quot;{&#x27;Характер основного заболеван…</td><td>&quot;{&#x27;Вид нозологической единицы&#x27;:…</td><td>&quot;ОСН I по Killip.&quot;</td><td>&quot;ИБС. Прогрессирующая стенокард…</td><td>&quot;Гипертоническая болезнь 3 стад…</td><td>&quot;[&#x27;I50.9&#x27;]&quot;</td><td>&quot;[&#x27;I20.0&#x27;]&quot;</td><td>&quot;[&#x27;E11.8&#x27;, &#x27;I10&#x27;, &#x27;E66.9&#x27;]&quot;</td><td>2023-04-03</td><td>0</td><td>1</td><td>null</td><td>null</td><td>null</td></tr><tr><td>&quot;55218D18-4928-6138-E055-000000…</td><td>1</td><td>&quot;АНАМНЕЗ ЖИЗНИ:&quot;</td><td>&quot;АНАМНЕЗ ЗАБОЛЕВАНИЯ&nbsp;&nbsp;ИБС С 198…</td><td>&quot;[&#x27;Состояние: Удовлетворительно…</td><td>&quot;{&#x27;Название&#x27;: {0: &#x27;Приемное отд…</td><td>&quot;{&#x27;Сведения о пребывании пациен…</td><td>&quot;{&#x27;Характер основного заболеван…</td><td>&quot;{&#x27;Вид нозологической единицы&#x27;:…</td><td>&quot;ОСН I по KillipПароксизмальная…</td><td>&quot;ИБС.Острый инфаркт миокарда пе…</td><td>&quot;Варикозно расширенные вены пищ…</td><td>&quot;[&#x27;I48.0&#x27;, &#x27;I50.1&#x27;]&quot;</td><td>&quot;[&#x27;I21.0&#x27;]&quot;</td><td>&quot;[&#x27;B18.0&#x27;, &#x27;I85.9&#x27;, &#x27;I69.4&#x27;]&quot;</td><td>2019-01-19</td><td>0</td><td>0</td><td>&quot;Гипертоническая болезнь III ст…</td><td>&quot;[&#x27;I11.9&#x27;]&quot;</td><td>null</td></tr></tbody></table></div>"
      ],
      "text/plain": [
       "shape: (2, 21)\n",
       "┌────────────┬────────┬────────────┬───────────┬───┬───────────┬───────────┬───────────┬───────────┐\n",
       "│ patient_id ┆ gender ┆ amnez_life ┆ amnez_dis ┆ … ┆ gospitali ┆ backgroun ┆ backgroun ┆ Конкуриру │\n",
       "│ ---        ┆ ---    ┆ ---        ┆ ease      ┆   ┆ sation_de ┆ d_disease ┆ d_disease ┆ ющее забо │\n",
       "│ str        ┆ i64    ┆ str        ┆ ---       ┆   ┆ livery    ┆ _desc     ┆ _code     ┆ левание   │\n",
       "│            ┆        ┆            ┆ str       ┆   ┆ ---       ┆ ---       ┆ ---       ┆ ---       │\n",
       "│            ┆        ┆            ┆           ┆   ┆ i64       ┆ str       ┆ str       ┆ str       │\n",
       "╞════════════╪════════╪════════════╪═══════════╪═══╪═══════════╪═══════════╪═══════════╪═══════════╡\n",
       "│ 75DB9BE5-9 ┆ 1      ┆ ОБЩЕБИОГРА ┆ АНАМНЕЗ   ┆ … ┆ 1         ┆ null      ┆ null      ┆ null      │\n",
       "│ 2BE-432F-A ┆        ┆ ФИЧЕСКИЕ   ┆ ИБС С     ┆   ┆           ┆           ┆           ┆           │\n",
       "│ A97-2CC5A5 ┆        ┆ СВЕДЕНИЯ   ┆ 2016Г.,   ┆   ┆           ┆           ┆           ┆           │\n",
       "│ …          ┆        ┆ Н…         ┆ КОГДА ПЕ… ┆   ┆           ┆           ┆           ┆           │\n",
       "│ 55218D18-4 ┆ 1      ┆ АНАМНЕЗ    ┆ АНАМНЕЗ   ┆ … ┆ 0         ┆ Гипертони ┆ ['I11.9'] ┆ null      │\n",
       "│ 928-6138-E ┆        ┆ ЖИЗНИ:     ┆ ЗАБОЛЕВАН ┆   ┆           ┆ ческая    ┆           ┆           │\n",
       "│ 055-000000 ┆        ┆            ┆ ИЯ  ИБС С ┆   ┆           ┆ болезнь   ┆           ┆           │\n",
       "│ …          ┆        ┆            ┆ 198…      ┆   ┆           ┆ III ст…   ┆           ┆           │\n",
       "└────────────┴────────┴────────────┴───────────┴───┴───────────┴───────────┴───────────┴───────────┘"
      ]
     },
     "execution_count": 8,
     "metadata": {},
     "output_type": "execute_result"
    }
   ],
   "source": [
    "epic_records.head(2)"
   ]
  },
  {
   "cell_type": "code",
   "execution_count": 9,
   "metadata": {},
   "outputs": [
    {
     "data": {
      "text/plain": [
       "(8506, 21)"
      ]
     },
     "execution_count": 9,
     "metadata": {},
     "output_type": "execute_result"
    }
   ],
   "source": [
    "epic_records.shape"
   ]
  },
  {
   "cell_type": "markdown",
   "metadata": {},
   "source": [
    "### create target"
   ]
  },
  {
   "cell_type": "code",
   "execution_count": 10,
   "metadata": {},
   "outputs": [
    {
     "data": {
      "text/html": [
       "<div><style>\n",
       ".dataframe > thead > tr,\n",
       ".dataframe > tbody > tr {\n",
       "  text-align: right;\n",
       "  white-space: pre-wrap;\n",
       "}\n",
       "</style>\n",
       "<small>shape: (5, 2)</small><table border=\"1\" class=\"dataframe\"><thead><tr><th>main_disease_code</th><th>count</th></tr><tr><td>str</td><td>u32</td></tr></thead><tbody><tr><td>&quot;I21&quot;</td><td>4348</td></tr><tr><td>&quot;I20&quot;</td><td>4058</td></tr><tr><td>&quot;I50&quot;</td><td>22</td></tr><tr><td>&quot;I25&quot;</td><td>17</td></tr><tr><td>&quot;I11&quot;</td><td>17</td></tr></tbody></table></div>"
      ],
      "text/plain": [
       "shape: (5, 2)\n",
       "┌───────────────────┬───────┐\n",
       "│ main_disease_code ┆ count │\n",
       "│ ---               ┆ ---   │\n",
       "│ str               ┆ u32   │\n",
       "╞═══════════════════╪═══════╡\n",
       "│ I21               ┆ 4348  │\n",
       "│ I20               ┆ 4058  │\n",
       "│ I50               ┆ 22    │\n",
       "│ I25               ┆ 17    │\n",
       "│ I11               ┆ 17    │\n",
       "└───────────────────┴───────┘"
      ]
     },
     "execution_count": 10,
     "metadata": {},
     "output_type": "execute_result"
    }
   ],
   "source": [
    "# all desease codes\n",
    "(\n",
    "    epic_records\n",
    "    # .filter(\n",
    "    #     epic_records.select(\"patient_id\").is_duplicated(),\n",
    "    # )\n",
    "    .select([\"main_disease_desc\", \"main_disease_code\"])\n",
    "    .with_columns(c(\"main_disease_code\").str.slice(offset=2, length=3))[\n",
    "        \"main_disease_code\"\n",
    "    ]\n",
    "    .value_counts()\n",
    "    .sort(\n",
    "        \"count\",\n",
    "        descending=True,\n",
    "    )\n",
    "    .head()\n",
    ")"
   ]
  },
  {
   "cell_type": "code",
   "execution_count": 11,
   "metadata": {},
   "outputs": [],
   "source": [
    "labeled_data = (\n",
    "    epic_records\n",
    "    # .filter(\n",
    "    #     epic_records.select(\"patient_id\").is_duplicated(),\n",
    "    # )\n",
    "    .with_columns(\n",
    "        c(\"main_disease_code\").str.slice(\n",
    "            offset=2,\n",
    "            length=3,\n",
    "        )\n",
    "    )\n",
    "    .group_by(\"patient_id\")\n",
    "    .agg(\n",
    "        pl.all().sort_by(\"admission_datetime\").first(),\n",
    "        c(\"admission_datetime\")\n",
    "        .sort_by(\"admission_datetime\")\n",
    "        .alias(\"following_admission_datetimes\"),\n",
    "        c(\"main_disease_code\")\n",
    "        .sort_by(\"admission_datetime\")\n",
    "        .alias(\"following_main_disease_codes\"),\n",
    "    )\n",
    "    .with_columns(\n",
    "        c(\"following_admission_datetimes\").list.slice(offset=1),\n",
    "        c(\"following_main_disease_codes\").list.slice(offset=1),\n",
    "    )\n",
    "    .with_columns(\n",
    "        pl.when(c(\"following_main_disease_codes\").list.contains(\"I21\"))\n",
    "        .then(1)\n",
    "        .when(c(\"following_main_disease_codes\").list.contains(\"I22\"))\n",
    "        .then(1)\n",
    "        .when(c(\"following_main_disease_codes\").list.len().eq(0))\n",
    "        .then(-1)\n",
    "        .otherwise(0)\n",
    "        .alias(\"target\")\n",
    "    )\n",
    ")"
   ]
  },
  {
   "cell_type": "code",
   "execution_count": 12,
   "metadata": {},
   "outputs": [
    {
     "data": {
      "text/html": [
       "<div><style>\n",
       ".dataframe > thead > tr,\n",
       ".dataframe > tbody > tr {\n",
       "  text-align: right;\n",
       "  white-space: pre-wrap;\n",
       "}\n",
       "</style>\n",
       "<small>shape: (3, 2)</small><table border=\"1\" class=\"dataframe\"><thead><tr><th>target</th><th>count</th></tr><tr><td>i32</td><td>u32</td></tr></thead><tbody><tr><td>-1</td><td>6289</td></tr><tr><td>0</td><td>518</td></tr><tr><td>1</td><td>473</td></tr></tbody></table></div>"
      ],
      "text/plain": [
       "shape: (3, 2)\n",
       "┌────────┬───────┐\n",
       "│ target ┆ count │\n",
       "│ ---    ┆ ---   │\n",
       "│ i32    ┆ u32   │\n",
       "╞════════╪═══════╡\n",
       "│ -1     ┆ 6289  │\n",
       "│ 0      ┆ 518   │\n",
       "│ 1      ┆ 473   │\n",
       "└────────┴───────┘"
      ]
     },
     "execution_count": 12,
     "metadata": {},
     "output_type": "execute_result"
    }
   ],
   "source": [
    "labeled_data[\"target\"].value_counts().sort(\"target\")\n",
    "# 1 - has IM\n",
    "# 0 - no IM\n",
    "# -1 - no info about outcome"
   ]
  },
  {
   "cell_type": "code",
   "execution_count": 13,
   "metadata": {},
   "outputs": [
    {
     "data": {
      "text/plain": [
       "(7280, 24)"
      ]
     },
     "execution_count": 13,
     "metadata": {},
     "output_type": "execute_result"
    }
   ],
   "source": [
    "labeled_data.shape"
   ]
  },
  {
   "cell_type": "code",
   "execution_count": 14,
   "metadata": {},
   "outputs": [],
   "source": [
    "PROCESSED_COLS.append(\"target\")"
   ]
  },
  {
   "cell_type": "markdown",
   "metadata": {},
   "source": [
    "### make features"
   ]
  },
  {
   "cell_type": "markdown",
   "metadata": {},
   "source": [
    "#### final_table2\n",
    "- useless"
   ]
  },
  {
   "cell_type": "code",
   "execution_count": 15,
   "metadata": {},
   "outputs": [
    {
     "data": {
      "text/html": [
       "<div>\n",
       "<style scoped>\n",
       "    .dataframe tbody tr th:only-of-type {\n",
       "        vertical-align: middle;\n",
       "    }\n",
       "\n",
       "    .dataframe tbody tr th {\n",
       "        vertical-align: top;\n",
       "    }\n",
       "\n",
       "    .dataframe thead th {\n",
       "        text-align: right;\n",
       "    }\n",
       "</style>\n",
       "<table border=\"1\" class=\"dataframe\">\n",
       "  <thead>\n",
       "    <tr style=\"text-align: right;\">\n",
       "      <th></th>\n",
       "      <th>Вид нозологической единицы</th>\n",
       "      <th>Врачебное описание нозологической единицы</th>\n",
       "      <th>Код по МКБ-10</th>\n",
       "    </tr>\n",
       "  </thead>\n",
       "  <tbody>\n",
       "    <tr>\n",
       "      <th>0</th>\n",
       "      <td>Основное заболевание</td>\n",
       "      <td>ИБС. Острый инфаркт миокарда без з.Q нижне-бок...</td>\n",
       "      <td>I21.4</td>\n",
       "    </tr>\n",
       "    <tr>\n",
       "      <th>1</th>\n",
       "      <td>Основное заболевание</td>\n",
       "      <td>ИБС. Острый инфаркт миокарда без з.Q нижне-бок...</td>\n",
       "      <td>I21.4</td>\n",
       "    </tr>\n",
       "    <tr>\n",
       "      <th>2</th>\n",
       "      <td>Основное заболевание</td>\n",
       "      <td>ИБС. Острый инфаркт миокарда без з.Q нижне-бок...</td>\n",
       "      <td>I21.4</td>\n",
       "    </tr>\n",
       "    <tr>\n",
       "      <th>3</th>\n",
       "      <td>Осложнение основного заболевания</td>\n",
       "      <td>ОСН 1  по Killip</td>\n",
       "      <td>I50.1</td>\n",
       "    </tr>\n",
       "    <tr>\n",
       "      <th>4</th>\n",
       "      <td>Сопутствующее заболевание</td>\n",
       "      <td>Ожирение 2 степени. (ИМТ 39 кг/м2).</td>\n",
       "      <td>E66.9</td>\n",
       "    </tr>\n",
       "  </tbody>\n",
       "</table>\n",
       "</div>"
      ],
      "text/plain": [
       "         Вид нозологической единицы  \\\n",
       "0              Основное заболевание   \n",
       "1              Основное заболевание   \n",
       "2              Основное заболевание   \n",
       "3  Осложнение основного заболевания   \n",
       "4         Сопутствующее заболевание   \n",
       "\n",
       "           Врачебное описание нозологической единицы Код по МКБ-10  \n",
       "0  ИБС. Острый инфаркт миокарда без з.Q нижне-бок...         I21.4  \n",
       "1  ИБС. Острый инфаркт миокарда без з.Q нижне-бок...         I21.4  \n",
       "2  ИБС. Острый инфаркт миокарда без з.Q нижне-бок...         I21.4  \n",
       "3                                   ОСН 1  по Killip         I50.1  \n",
       "4                Ожирение 2 степени. (ИМТ 39 кг/м2).         E66.9  "
      ]
     },
     "execution_count": 15,
     "metadata": {},
     "output_type": "execute_result"
    }
   ],
   "source": [
    "pd.DataFrame(eval(labeled_data[\"final_table2\"].to_numpy()[0]))"
   ]
  },
  {
   "cell_type": "code",
   "execution_count": 16,
   "metadata": {},
   "outputs": [],
   "source": [
    "# same values that are already in table"
   ]
  },
  {
   "cell_type": "markdown",
   "metadata": {},
   "source": [
    "#### final_table1 -> first gospitalization results\n",
    "- Характер основного заболевания\n",
    "- Результат обращения"
   ]
  },
  {
   "cell_type": "code",
   "execution_count": 17,
   "metadata": {},
   "outputs": [
    {
     "data": {
      "text/html": [
       "<div><style>\n",
       ".dataframe > thead > tr,\n",
       ".dataframe > tbody > tr {\n",
       "  text-align: right;\n",
       "  white-space: pre-wrap;\n",
       "}\n",
       "</style>\n",
       "<small>shape: (1, 5)</small><table border=\"1\" class=\"dataframe\"><thead><tr><th>Характер основного заболевания</th><th>Исход госпитализации</th><th>Результат обращения</th><th>Признак подозрения на злокачественное новообразование</th><th>Признак развертывания индивидуального поста</th></tr><tr><td>str</td><td>str</td><td>str</td><td>str</td><td>str</td></tr></thead><tbody><tr><td>&quot;Острое&quot;</td><td>&quot;None&quot;</td><td>&quot;Улучшение&quot;</td><td>&quot;Нет&quot;</td><td>&quot;Нет&quot;</td></tr></tbody></table></div>"
      ],
      "text/plain": [
       "shape: (1, 5)\n",
       "┌─────────────┬────────────────┬─────────────────────┬───────────────────────┬───────────────┐\n",
       "│ Характер    ┆ Исход          ┆ Результат обращения ┆ Признак подозрения на ┆ Признак       │\n",
       "│ основного   ┆ госпитализации ┆ ---                 ┆ злокачес…             ┆ развертывания │\n",
       "│ заболевания ┆ ---            ┆ str                 ┆ ---                   ┆ индивиду…     │\n",
       "│ ---         ┆ str            ┆                     ┆ str                   ┆ ---           │\n",
       "│ str         ┆                ┆                     ┆                       ┆ str           │\n",
       "╞═════════════╪════════════════╪═════════════════════╪═══════════════════════╪═══════════════╡\n",
       "│ Острое      ┆ None           ┆ Улучшение           ┆ Нет                   ┆ Нет           │\n",
       "└─────────────┴────────────────┴─────────────────────┴───────────────────────┴───────────────┘"
      ]
     },
     "execution_count": 17,
     "metadata": {},
     "output_type": "execute_result"
    }
   ],
   "source": [
    "# plt.hist\n",
    "pl.from_pandas(\n",
    "    pd.DataFrame(\n",
    "        eval(\n",
    "            labeled_data.with_columns(c(\"final_table1\").str.len_chars().alias(\"fdsa\"))\n",
    "            .sort([\"fdsa\"])[\"final_table1\"]\n",
    "            .to_numpy()[241]\n",
    "        )\n",
    "    )\n",
    ")"
   ]
  },
  {
   "cell_type": "code",
   "execution_count": 18,
   "metadata": {},
   "outputs": [
    {
     "data": {
      "text/html": [
       "<div><style>\n",
       ".dataframe > thead > tr,\n",
       ".dataframe > tbody > tr {\n",
       "  text-align: right;\n",
       "  white-space: pre-wrap;\n",
       "}\n",
       "</style>\n",
       "<small>shape: (1, 2)</small><table border=\"1\" class=\"dataframe\"><thead><tr><th>new_column</th><th>count</th></tr><tr><td>str</td><td>u32</td></tr></thead><tbody><tr><td>&quot;Нет&quot;</td><td>7280</td></tr></tbody></table></div>"
      ],
      "text/plain": [
       "shape: (1, 2)\n",
       "┌────────────┬───────┐\n",
       "│ new_column ┆ count │\n",
       "│ ---        ┆ ---   │\n",
       "│ str        ┆ u32   │\n",
       "╞════════════╪═══════╡\n",
       "│ Нет        ┆ 7280  │\n",
       "└────────────┴───────┘"
      ]
     },
     "execution_count": 18,
     "metadata": {},
     "output_type": "execute_result"
    }
   ],
   "source": [
    "(\n",
    "    regex_search(\n",
    "        regex_string=r\"Признак развертывания индивидуального поста\\':\\s{0:\\s\\'(\\D*)\\'}\",\n",
    "        column=\"final_table1\",\n",
    "        dataframe=labeled_data,\n",
    "    )\n",
    "    .value_counts()\n",
    "    .sort(\"count\", descending=True)\n",
    "    .head(10)\n",
    ")"
   ]
  },
  {
   "cell_type": "code",
   "execution_count": 19,
   "metadata": {},
   "outputs": [
    {
     "data": {
      "text/html": [
       "<div><style>\n",
       ".dataframe > thead > tr,\n",
       ".dataframe > tbody > tr {\n",
       "  text-align: right;\n",
       "  white-space: pre-wrap;\n",
       "}\n",
       "</style>\n",
       "<small>shape: (1, 2)</small><table border=\"1\" class=\"dataframe\"><thead><tr><th>new_column</th><th>count</th></tr><tr><td>str</td><td>u32</td></tr></thead><tbody><tr><td>&quot;Нет&quot;</td><td>7280</td></tr></tbody></table></div>"
      ],
      "text/plain": [
       "shape: (1, 2)\n",
       "┌────────────┬───────┐\n",
       "│ new_column ┆ count │\n",
       "│ ---        ┆ ---   │\n",
       "│ str        ┆ u32   │\n",
       "╞════════════╪═══════╡\n",
       "│ Нет        ┆ 7280  │\n",
       "└────────────┴───────┘"
      ]
     },
     "execution_count": 19,
     "metadata": {},
     "output_type": "execute_result"
    }
   ],
   "source": [
    "(\n",
    "    regex_search(\n",
    "        regex_string=r\"Признак подозрения на злокачественное новообразование\\':\\s{0:\\s\\'(\\D*)\\'}\",\n",
    "        column=\"final_table1\",\n",
    "        dataframe=labeled_data,\n",
    "    )\n",
    "    .value_counts()\n",
    "    .sort(\"count\", descending=True)\n",
    "    .head(10)\n",
    ")"
   ]
  },
  {
   "cell_type": "code",
   "execution_count": 20,
   "metadata": {},
   "outputs": [
    {
     "data": {
      "text/html": [
       "<div><style>\n",
       ".dataframe > thead > tr,\n",
       ".dataframe > tbody > tr {\n",
       "  text-align: right;\n",
       "  white-space: pre-wrap;\n",
       "}\n",
       "</style>\n",
       "<small>shape: (4, 2)</small><table border=\"1\" class=\"dataframe\"><thead><tr><th>new_column</th><th>count</th></tr><tr><td>str</td><td>u32</td></tr></thead><tbody><tr><td>&quot;Улучшение&quot;</td><td>6899</td></tr><tr><td>&quot;Летальный исход&quot;</td><td>217</td></tr><tr><td>&quot;Без изменения&quot;</td><td>156</td></tr><tr><td>&quot;Ухудшение&quot;</td><td>8</td></tr></tbody></table></div>"
      ],
      "text/plain": [
       "shape: (4, 2)\n",
       "┌─────────────────┬───────┐\n",
       "│ new_column      ┆ count │\n",
       "│ ---             ┆ ---   │\n",
       "│ str             ┆ u32   │\n",
       "╞═════════════════╪═══════╡\n",
       "│ Улучшение       ┆ 6899  │\n",
       "│ Летальный исход ┆ 217   │\n",
       "│ Без изменения   ┆ 156   │\n",
       "│ Ухудшение       ┆ 8     │\n",
       "└─────────────────┴───────┘"
      ]
     },
     "execution_count": 20,
     "metadata": {},
     "output_type": "execute_result"
    }
   ],
   "source": [
    "(\n",
    "    regex_search(\n",
    "        regex_string=r\"Результат обращения\\':\\s{0:\\s\\'(\\D*)\\'}\",\n",
    "        column=\"final_table1\",\n",
    "        dataframe=labeled_data,\n",
    "    )\n",
    "    .value_counts()\n",
    "    .sort(\"count\", descending=True)\n",
    "    .head(10)\n",
    ")"
   ]
  },
  {
   "cell_type": "code",
   "execution_count": 21,
   "metadata": {},
   "outputs": [
    {
     "data": {
      "text/html": [
       "<div><style>\n",
       ".dataframe > thead > tr,\n",
       ".dataframe > tbody > tr {\n",
       "  text-align: right;\n",
       "  white-space: pre-wrap;\n",
       "}\n",
       "</style>\n",
       "<small>shape: (1, 2)</small><table border=\"1\" class=\"dataframe\"><thead><tr><th>new_column</th><th>count</th></tr><tr><td>str</td><td>u32</td></tr></thead><tbody><tr><td>&quot;None&quot;</td><td>7280</td></tr></tbody></table></div>"
      ],
      "text/plain": [
       "shape: (1, 2)\n",
       "┌────────────┬───────┐\n",
       "│ new_column ┆ count │\n",
       "│ ---        ┆ ---   │\n",
       "│ str        ┆ u32   │\n",
       "╞════════════╪═══════╡\n",
       "│ None       ┆ 7280  │\n",
       "└────────────┴───────┘"
      ]
     },
     "execution_count": 21,
     "metadata": {},
     "output_type": "execute_result"
    }
   ],
   "source": [
    "(\n",
    "    regex_search(\n",
    "        regex_string=r\"Исход госпитализации\\':\\s{0:\\s\\'(\\D*)\\'}\",\n",
    "        column=\"final_table1\",\n",
    "        dataframe=labeled_data,\n",
    "    )\n",
    "    .value_counts()\n",
    "    .sort(\"count\", descending=True)\n",
    "    .head(10)\n",
    ")"
   ]
  },
  {
   "cell_type": "code",
   "execution_count": 22,
   "metadata": {},
   "outputs": [
    {
     "data": {
      "text/html": [
       "<div><style>\n",
       ".dataframe > thead > tr,\n",
       ".dataframe > tbody > tr {\n",
       "  text-align: right;\n",
       "  white-space: pre-wrap;\n",
       "}\n",
       "</style>\n",
       "<small>shape: (4, 2)</small><table border=\"1\" class=\"dataframe\"><thead><tr><th>new_column</th><th>count</th></tr><tr><td>str</td><td>u32</td></tr></thead><tbody><tr><td>&quot;Острое&quot;</td><td>7002</td></tr><tr><td>&quot;Ранее установленное хроническо…</td><td>204</td></tr><tr><td>&quot;None&quot;</td><td>69</td></tr><tr><td>&quot;Впервые в жизни установленное …</td><td>5</td></tr></tbody></table></div>"
      ],
      "text/plain": [
       "shape: (4, 2)\n",
       "┌─────────────────────────────────┬───────┐\n",
       "│ new_column                      ┆ count │\n",
       "│ ---                             ┆ ---   │\n",
       "│ str                             ┆ u32   │\n",
       "╞═════════════════════════════════╪═══════╡\n",
       "│ Острое                          ┆ 7002  │\n",
       "│ Ранее установленное хроническо… ┆ 204   │\n",
       "│ None                            ┆ 69    │\n",
       "│ Впервые в жизни установленное … ┆ 5     │\n",
       "└─────────────────────────────────┴───────┘"
      ]
     },
     "execution_count": 22,
     "metadata": {},
     "output_type": "execute_result"
    }
   ],
   "source": [
    "(\n",
    "    regex_search(\n",
    "        regex_string=r\"Характер основного заболевания\\':\\s{0:\\s\\'(\\D*)\\'}\",\n",
    "        column=\"final_table1\",\n",
    "        dataframe=labeled_data,\n",
    "    )\n",
    "    .value_counts()\n",
    "    .sort(\"count\", descending=True)\n",
    "    .head(10)\n",
    ")"
   ]
  },
  {
   "cell_type": "code",
   "execution_count": 23,
   "metadata": {},
   "outputs": [],
   "source": [
    "new_columns_regex_final_table1 = {\n",
    "    \"main_desease_status\": r\"Характер основного заболевания\\':\\s{0:\\s\\'(\\D*)\\'}\",\n",
    "    \"gospitalization_result\": r\"Результат обращения\\':\\s{0:\\s\\'(\\D*)\\'}\",\n",
    "}"
   ]
  },
  {
   "cell_type": "code",
   "execution_count": 24,
   "metadata": {},
   "outputs": [],
   "source": [
    "section = \"final_table1\"\n",
    "for column_name, regex_string in new_columns_regex_final_table1.items():\n",
    "    new_column = regex_search(\n",
    "        regex_string=regex_string,\n",
    "        column=section,\n",
    "        dataframe=labeled_data,\n",
    "    )\n",
    "    labeled_data = labeled_data.with_columns(\n",
    "        new_column.replace({\"\": None}).alias(section + \"_\" + column_name)\n",
    "    )\n",
    "\n",
    "    PROCESSED_COLS.append(section + \"_\" + column_name)"
   ]
  },
  {
   "cell_type": "markdown",
   "metadata": {},
   "source": [
    "#### condition\n",
    "- Состояние/статус\n",
    "- у доли пациентов проводили начальное обследование. можно достать рост, вес и тд"
   ]
  },
  {
   "cell_type": "code",
   "execution_count": 25,
   "metadata": {},
   "outputs": [
    {
     "name": "stdout",
     "output_type": "stream",
     "text": [
      "Объективный статус: \n",
      "ФИЗИКАЛЬНОЕ ИССЛЕДОВАНИЕ: \n",
      "СТЕПЕНЬ ТЯЖЕСТИ СРЕДНЕЙ ТЯЖЕСТИ СОЗНАНИЕ: ЯСНОЕ УРОВЕНЬ СОЗНАНИЯ ПО ШКАЛЕ ГЛАЗГО  15 \n",
      "СОСТОЯНИЕ ПОДКОЖНО-ЖИРОВОЙ КЛЕТЧАТКИ: ТЕЛОСЛОЖЕНИЕ НОРМОСТЕНИК ПИТАНИЕ: НОРМАЛЬНОЕ \n",
      "ОЦЕНКА СОСТОЯНИЯ КОЖНЫХ ПОКРОВОВ: ФИЗИОЛОГИЧЕСКОЙ ОКРАСКИ, НОРМАЛЬНОЙ ВЛАЖНОСТИ ОЦЕНКА СОСТОЯНИЯ ВИДИМЫХ СЛИЗИСТЫХ ОБОЛОЧЕК: БЕЗ ПАТОЛОГИЧЕСКИХ ВЫСЫПАНИЙ ЗЕВ ЧИСТЫЙ, НЕ ГИПЕРЕМИРОВАН ЯЗЫК ВЛАЖНЫЙ ЧИСТЫЙ\n",
      "ОТЕКИ: ОТСУТСТВУЮТ \n",
      "ЛИМФОУЗЛЫ ПРИ ПАЛЬПАЦИИ: НЕ УВЕЛИЧЕНЫ, НЕ ПАЛЬПИРУЮТСЯ \n",
      "ОЦЕНКА КОСТНО-МЫШЕЧНОЙ СИСТЕМЫ: БЕЗ ПАТОЛОГИЧЕСКИХ ИЗМЕНЕНИЙ; НИЖНИЕ КОНЕЧНОСТИ: ФИЗИОЛОГИЧЕСКОЙ ОКРАСКИ  НЕ ГИПЕРЕМИРОВАНЫ ОБЕ НИЖНИЕ КОНЕЧНОСТИ НА ОЩУПЬ ТЕПЛЫЕ ПУЛЬСАЦИЯ ОТЧЕТЛИВАЯ ПРИ ПАЛЬПАЦИИ БЕЗБОЛЕЗНЕННЫ \n",
      "РЕЗУЛЬТАТЫ ПЕРКУССИИ И АУСКУЛЬТАЦИИ ЛЕГКИХ:  ДЫХАНИЕ: ВЕЗИКУЛЯРНОЕ  ХРИПЫ: НЕ ВЫСЛУШИВАЮТСЯ  ПЕРКУССИЯ ЛЕГКИХ: ПРИ СРАВНИТЕЛЬНОЙ ПЕРКУССИИ ЛЕГКИЙ НАД ВСЕЙ ПОВЕРХНОСТЬЮ ЛЕГОЧНЫХ ПОЛЕЙ ОПРЕДЕЛЯЕТСЯ ЯСНЫЙ ЛЕГОЧНЫЙ ЗВУК. \n",
      "РЕЗУЛЬТАТЫ ПЕРКУССИИ И АУСКУЛЬТАЦИИ СЕРДЦА:  ОБЛАСТЬ СЕРДЦА И КРУПНЫХ СОСУДОВ НЕ ИЗМЕНЕНА ДРУГИЕ ПУЛЬСАЦИИ В ОБЛАСТИ СЕРДЦА: НЕТ. ВЕРХУШЕЧНЫЙ ТОЛЧОК  НЕ УШИРЕН  В V МЕЖРЕБЕРЬЕ КНУТРИ ОТ СКЛ НА 2 СМ., S-ДО 2 КВ.СМ. ГРАНИЦЫ ОТНОСИТЕЛЬНОЙ СЕРДЕЧНОСТИ ТУПОСТИ: НЕ ИЗМЕНЕНЫ  ТОНЫ СЕРДЦА: ПРИГЛУШЕНЫ  РИТМ: ПРАВИЛЬНЫЙ  ШУМЫ - НЕ ВЫСЛУШИВАЮТСЯ.  \n",
      "РЕЗУЛЬТАТЫ ПАЛЬПАЦИИ ОРГАНОВ БРЮШНОЙ ПОЛОСТИ: ЖИВОТ: МЯГКИЙ   БЕЗБОЛЕЗНЕННЫЙ ПЕЧЕНЬ: НЕ УВЕЛИЧЕНА. СЕЛЕЗЕНКА НЕ ПАЛЬПИРУЕТСЯ. \n",
      "ОЦЕНКА ХАРАКТЕРА СТУЛА И КРАТНОСТЬ ДЕФЕКАЦИИ: СТУЛ (СО СЛОВ) НОРМАЛЬНЫЙ, ОФОРМЛЕННЫЙ; БЕЗ ПАТОЛОГИЧЕСКИХ ВКЛЮЧЕНИЙ; 1-2 РАЗА В ДЕНЬ; \n",
      "НАЛИЧИЕ СИМПТОМОВ РАЗДРАЖЕНИЯ БРЮШИНЫ: НЕ ОПРЕДЕЛЯЮТСЯ\n",
      "РЕЗУЛЬТАТ ПАЛЬЦЕВОГО РЕКТАЛЬНОГО ИССЛЕДОВАНИЯ (ПО ПОКАЗАНИЯМ): ИССЛЕДОВАНИЕ НЕ ПРОВОДИЛОСЬ; \n",
      "РЕЗУЛЬТАТЫ ИССЛЕДОВАНИЯ МОЧЕПОЛОВОЙ СИСТЕМЫ: ПАТОЛОГИЧЕСКИХ ИЗМЕНЕНИЙ НЕ ОПРЕДЕЛЯЕТСЯ; ОБЛАСТЬ ПРОЕКЦИИ ПОЧЕК ВНЕШНЕ НЕ ИЗМЕНЕНА. СИМПОТОМ ПОКАЛАЧИВАНИЯ: ОТРИЦАТЕЛЬНЫЙ. \n",
      "ОЦЕНКА ХАРАКТЕРА МОЧЕИСПУСКАНИЯ: ДИУРЕЗ АДЕКВАТНЫЙ; \n",
      "НАЛИЧИЕ МЕНИНГИАЛЬНЫХ СИМПТОМОВ: НЕ ОПРЕДЕЛЯЮТСЯ\n",
      " ТЕРМОМЕТРИЯ:  36,5 (С)   ЧАСТОТА СЕРДЕЧНЫХ СОКРАЩЕНИЙ (УД.В МИН.)  85  ; АРТЕРИАЛЬНОЕ ДАВЛЕНИЕ (ММ.РТ.СТ.)  110/70  ; ЧАСТОТА ДЫХАТЕЛЬНЫХ ДВИЖЕНИЙ (В МИН.)  17  ;НАСЫЩЕНИЕ КРОВИ КИСЛОРОДОМ (САТУРАЦИЯ, %)  97  ; \n",
      "  РОСТ  172  ВЕС  78  ИМТ 26\n"
     ]
    }
   ],
   "source": [
    "print(eval(labeled_data[\"condition\"][327])[-1])"
   ]
  },
  {
   "cell_type": "code",
   "execution_count": 204,
   "metadata": {},
   "outputs": [
    {
     "name": "stdout",
     "output_type": "stream",
     "text": [
      "17\n",
      "18\n",
      "20\n",
      "27\n",
      "29\n",
      "37\n",
      "40\n",
      "42\n",
      "43\n",
      "44\n",
      "47\n",
      "49\n",
      "50\n",
      "52\n",
      "62\n",
      "66\n",
      "69\n"
     ]
    }
   ],
   "source": [
    "for i in range(70):\n",
    "    if \"стентирование ка\".upper() in labeled_data[\"full_wards\"][i]:\n",
    "        print(i)"
   ]
  },
  {
   "cell_type": "code",
   "execution_count": 196,
   "metadata": {},
   "outputs": [
    {
     "data": {
      "text/plain": [
       "'{\\'Сведения о пребывании пациента в Приемное отделение\\': {\\'Компьютерная томография ангиография грудного отдела аорты (16.10.2023 14:00)\\': {\\'{urn:hl7-org:v3}table\\': {\\'{urn:hl7-org:v3}col\\': [{\\'width\\': \\'12%\\'}, {\\'width\\': \\'88%\\'}], \\'{urn:hl7-org:v3}tbody\\': {\\'{urn:hl7-org:v3}tr\\': [{\\'{urn:hl7-org:v3}td\\': [{\\'{urn:hl7-org:v3}content\\': {\\'text\\': \\'Эффективная доза\\'}}, {\\'{urn:hl7-org:v3}content\\': {}}]}, {\\'{urn:hl7-org:v3}td\\': [{\\'{urn:hl7-org:v3}content\\': {\\'text\\': \\'Протокол\\'}}, {\\'{urn:hl7-org:v3}content\\': {\\'text\\': \\'ПРИ КТ-ИССЛЕДОВАНИИ ГРУДНОГО ОТДЕЛА АОРТЫ С КОНТРАСТНЫМ УСИЛЕНИЕМ:\\\\nКОНТУРЫ АОРТЫ РОВНЫЕ, ЧЕТКИЕ, ПРОСВЕТ КОНТРАСТИРОВАН, С ПРИСТЕНОЧНЫМИ ГЕТЕРОГЕННЫМИ АТЕРОМАТОЗНЫМИ НАЛОЖЕНИЯМИ В ДИСТАЛЬНОЙ ДУГЕ И НИСХОДЯЩЕМ ОТДЕЛЕ. ВОСХОДЯЩИЙ ОТДЕЛ ВЕРЕТЕНООБРАЗНО РАСШИРЕН.\\\\nАОРТАЛЬНЫЙ КЛАПАН - ТРЕХСТВОРЧАТЫЙ.\\\\nЛОКАЛЬНЫХ НАДРЫВОВ ИНТИМЫ, ИНТРАМУРАЛЬНЫХ ГЕМАТОМ, ПЕНЕТРИРУЮЩИХ ЯЗВ НЕ ОТМЕЧАЕТСЯ.\\\\n\\\\nДИАМЕТР ГРУДНОГО ОТДЕЛА АОРТЫ:\\\\nФИБРОЗНОЕ КОЛЬЦО АОРТАЛЬНОГО КЛАПАНА - 24 ММ \\\\nНА УРОВНЕ СИНУСОВ ВАЛЬСАЛЬВЫ - ДО 40 ММ \\\\nВ СИНОТУБУЛЯРНОМ СОЕДИНЕНИИ - 41 ММ\\\\nВОСХОДЯЩИЙ ОТДЕЛ АОРТЫ - МАКСИМАЛЬНО ДО 53 ММ\\\\nДИАМЕТР ДУГИ АОРТЫ: \\\\nНА УРОВНЕ УСТЬЯ ОБЩЕГО УСТЬЯ БРАХИОЦЕФАЛЬНОГО СТВОЛА (БЦС) И ЛЕВОЙ ОБЩЕЙ СОННОЙ АРТЕРИИ (ОСА) - 37 ММ \\\\nНА УРОВНЕ ОТДЕЛЬНОГО УСТЬЯ ЛЕВОЙ ПОЗВОНОЧНОЙ АРТЕРИИ (ПЗА) - 29 ММ\\\\nНА УРОВНЕ УСТЬЯ ЛЕВОЙ ПОДКЛЮЧИЧНОЙ АРТЕРИИ (ПКА) - 28 ММ\\\\nПЕРЕШЕЕК АОРТЫ - 27 ММ, СРАЗУ ЗА ПЕРЕШЕЙКОМ - ДО 30 ММ\\\\nНИСХОДЯЩИЙ ОТДЕЛ АОРТЫ НА УРОВНЕ ЛП - 26 ММ \\\\n\\\\nЗАКЛЮЧЕНИЕ:\\\\nКТ-КАРТИНА ВЕРЕТЕНООБРАЗНОЙ АНЕВРИЗМЫ ВОСХОДЯЩЕГО ОТДЕЛА АОРТЫ.\\\\nКТ-КАРТИНА АТЕРОСКЛЕРОТИЧЕСКОГО ПОРАЖЕНИЯ ГРУДНОГО ОТДЕЛА АОРТЫ.\\'}}]}, {\\'{urn:hl7-org:v3}td\\': [{\\'{urn:hl7-org:v3}content\\': {\\'text\\': \\'Заключение\\'}}, {\\'{urn:hl7-org:v3}content\\': {\\'text\\': \\'КТ-картина веретенообразной аневризмы восходящего отдела аорты.\\\\nКТ-картина атеросклеротического поражения грудного отдела аорты.\\'}}]}, {\\'{urn:hl7-org:v3}td\\': [{\\'{urn:hl7-org:v3}content\\': {\\'text\\': \\'Выявленная патология\\'}}, {\\'{urn:hl7-org:v3}content\\': {}}]}, {\\'{urn:hl7-org:v3}td\\': [{\\'{urn:hl7-org:v3}content\\': {\\'text\\': \\'Диагноз\\'}}, {\\'{urn:hl7-org:v3}content\\': {\\'text\\': \\'I21.4 Острый субэндокардиальный инфаркт миокарда\\'}}]}, {\\'{urn:hl7-org:v3}td\\': [{\\'{urn:hl7-org:v3}content\\': {\\'text\\': \\'Услуги\\'}}, {\\'{urn:hl7-org:v3}content\\': {\\'text\\': \\'Компьютерно-томографическая ангиография грудной аорты (A06.12.001.001)\\'}}]}, {\\'{urn:hl7-org:v3}td\\': [{\\'{urn:hl7-org:v3}content\\': {\\'text\\': \\'Врач\\'}}, {\\'{urn:hl7-org:v3}content\\': {\\'text\\': \\'!!!!!!!!!!!!! !!!!!!!!!!!!! !!!!!!!!!!!!! (Врач-рентгенолог)\\'}}]}]}, \\'width\\': \\'100%\\'}}}, \\'Сведения о пребывании пациента в Кардиологическое отделение с ПРиИТ для лечения больных с ОКС (ПСО) №2\\': {\\'Прием (осмотр, консультация) врача по медицинской профилактике первичный (18.10.2023 10:13)\\': {\\'{urn:hl7-org:v3}table\\': {\\'{urn:hl7-org:v3}col\\': [{\\'width\\': \\'12%\\'}, {\\'width\\': \\'88%\\'}], \\'{urn:hl7-org:v3}tbody\\': {\\'{urn:hl7-org:v3}tr\\': [{\\'{urn:hl7-org:v3}td\\': [{\\'{urn:hl7-org:v3}content\\': {\\'text\\': \\'Объективно\\'}}, {\\'{urn:hl7-org:v3}content\\': {\\'text\\': \\'\"\"\\\\n\"\"\\\\n!\\\\nОСМОТР МУЛЬТИДИСЦИПЛИНАРНОЙ РЕАБИЛИТАЦИОННОЙ КОМАНДЫ \\\\nФ.И.О.: А Л Н \\\\nВОЗРАСТ (ДАТА РОЖДЕНИЯ): 76 ( 01.01.1698!)\\\\nНОМЕР ИСТОРИИ БОЛЕЗНИ:!!!!!!!!!!!!!\\\\nДАТА ПОСТУПЛЕНИЯ: 16.10.2023 13:30\\\\nОТДЕЛЕНИЕ: КАРДИОЛОГИЧЕСКОЕ ОТДЕЛЕНИЕ №2 \\\\nЭТАП МЕДИЦИНСКОЙ РЕАБИЛИТАЦИИ: I \\\\n ЖАЛОБЫ  :  НА БЫСТРУЮ УТОМЛЯЕМОСТЬ ПРИ УМЕРЕННОЙ ФН (В ПРЕДЕЛАХ ПАЛАТЫ).  \\\\n АНАМНЕЗ ЗАБОЛЕВАНИЯ  :  С АНАМНЕЗОМ ЗАБОЛЕВАНИЯ И ЖИЗНИ ОЗНАКОМЛЕНА ПО МЕДИЦИНСКОЙ ДОКУМЕНТАЦИИ.   \\\\nПО РЕШЕНИЮ КОНСИЛИУМА ОТ 16.10.23Г. ПЛАНИРУЕТСЯ ОПЕРАТИВНОЕ ЛЕЧЕНИЕ В ОБЪЕМЕ АКШ С ПРОТЕЗИРОВАНИЕМ ВОСХОДЯЩЕГО ОТДЕЛА АОРТЫ В ОТСРОЧЕНОМ ПОРЯДКЕ.\\\\n\\\\n ОБЪЕКТИВНЫЙ СТАТУС  :  РОСТ 160 ВЕС 91 ИМТ 36 КГ/СМ2 СОСТОЯНИЕ СРЕДНЕЙ СТЕПЕНИ ТЯЖЕСТИ, СТАБИЛЬНОЕ. СОЗНАНИЕ ЯСНОЕ. КОЖНЫЕ ПОКРОВЫ ФИЗИОЛОГИЧНОЙ ОКРАСКИ, ТЁПЛЫЕ, ФИЗИОЛОГИЧНОЙ ВЛАЖНОСТИ. T= 36,5 СО. ОПОРНО-ДВИГАТЕЛЬНЫЙ АППАРАТ: БЕЗ ВИДИМОЙ ПАТОЛОГИИ, СИЛА В КОНЕЧНОЯТЯХ УДОВЛЕТВОРИТЕЛЬНАЯ, АМПЛИТУДА ДВИЖЕНИЙ В СУСТАВАХ ПОЛНАЯ, ДОСТАТОЧНАЯ. В ЛЕГКИХ ДЫХАНИЕ ПРОВОДИТСЯ ПО ВСЕМ ПОЛЯМ БЕЗ ОСЛАБЛЕНИЙ, ВЕЗИКУЛЯРНОЕ, ХРИПЫ НЕ ВЫСЛУШИВАЮТСЯ, ЧД = 14 В МИН. SPO2=96% НА АТМОСФЕРНОМ О2.  АД = 118/70 ММHG. ЧСС 60 В МИН. РИТМ ПРАВИЛЬНЫЙ. ПЕЧЕНЬ НЕ УВЕЛИЧЕННАЯ. ЖИВОТ НЕ ВЗДУТ, МЯГКИЙ, БЕЗБОЛЕЗНЕННЫЙ ПРИ ПАЛЬПАЦИИ, ПЕРИСТАЛЬТИКА ВЫСЛУШИВАЕТСЯ. ПЕРИТОНЕАЛЬНЫЕ СИМПТОМЫ ОТРИЦАТЕЛЬНЫЕ. ДИУРЕЗ СОХРАНЕН, ТЕМП МОЧЕОТДЕЛЕНИЯ ДОСТАТОЧНЫЙ. ОТЁКОВ НЕТ.\\\\nРЕЗУЛЬТАТЫ СПЕЦИАЛЬНЫХ МЕТОДОВ ИССЛЕДОВАНИЯ: 17.10.2023 ЭХОКАРДИОГРАФИЯ: ПРАВОЕ ПРЕДСЕРДИЕ: 3,4 СМ.; ПРАВЫЙ ЖЕЛУДОЧЕК: 2,8 СМ.; ЛЕВОЕ ПРЕДСЕРДИЕ: 3,6 СМ.; В ДЛИНУ: СМ.; ОБЪЕМ МЛ.ЛЕВЫЙ ЖЕЛУДОЧЕК: КДР: 5,1 СМ.; КСР: 3,5 СМ.;КДО: 124 МЛ.; КСО: 51 МЛ.; УО: 73 МЛ.;ФВ: 59 % ФУ: %ФВ В «В РЕЖИМЕ» %МЖП: 1,3 СМ ; НОРМОКИНЕЗ ЗАДНЯЯ СТЕНКА: 1,1 СМ.; НОРМОКИНЕЗ МИТРАЛЬНЫЙ КЛАПАН: СТВОРКИ УПЛОТНЕНЫ, ПРОТИВОФАЗА СОХРАНЕНА РСМК - СМ.;ФК В ДИАСТОЛУ - СМ.;МИТРАЛЬНОЕ ОТВЕРСТИЕ: СМ2.; Д - СМ2ГРАДИЕНТ ДАВЛЕНИЯ ПИК: ММ. РТ. СТ. СРЕДНИЙ: 0,8 ММ. РТ. СТ.СКОРОСТЬ КРОВОТОКА: М/С.; СТЕПЕНЬ РЕГУРГИТАЦИИ: 1Е/А ВИР МС, DT МС, ПС МС.АОРТА: СТЕНКИ УПЛОТНЕНЫ, АМПЛИТУДА ИХ ДВИЖЕНИЯ СОХРАНЕНА ФИБРОЗНОЕ КОЛЬЦО: СМ.; НЕ УПЛОТНЕНО;ДИАМЕТР АО НА УРОВНЕ СИНУСОВ ВАЛЬСАЛЬВЫ: 3,9 СМ. ВОСХОДЯЩАЯ АОРТА: 5,4 СМ..;ДУГА АОРТЫ 3,7 СМ ПЕРЕШЕЕК СМ. НИСХОДЯЩАЯ АОРТА СМ. АОРТАЛЬНЫЙ КЛАПАН: СТВОРКИ УПЛОТНЕНЫ ОТКРЫТИЕ 1 СМ.ГРАДИЕНТ ДАВЛЕНИЯ ПИК: 5,8 ММ. РТ. СТ.; СРЕДНИЙ: ММ. РТ. СТ.СКОРОСТЬ КРОВОТОКА: 1,2 М/С. СТЕПЕНЬ РЕГУРГИТАЦИИ:1ТРИКУСПИДАЛЬНЫЙ КЛАПАН: ИНТАКТНЫЙ ГРАДИЕНТ ДАВЛЕНИЯ ПИК: ММ. РТ. СТ.; СРЕДНИЙ: ММ. РТ. СТ.СКОРОСТЬ КРОВОТОКА: М/С. СТЕПЕНЬ РЕГУРГИТАЦИИ: 1ЛЕГОЧНАЯ АРТЕРИЯ: ФК СМ, СТВОЛ: СМ, ПРАВАЯ ВЕТВЬ СМ, ЛЕВАЯ: СМ.ГРАДИЕНТ ДАВЛЕНИЯ ПИК: 2,6 ММ. РТ. СТ.; СРЕДНИЙ: ММ. РТ. СТ.СКОРОСТЬ КРОВОТОКА: 0,8 М/С.; СТЕПЕНЬ РЕГУРГИТАЦИИ: СИСТ. ДАВЛЕНИЕ В ЛЕГОЧНОЙ АРТЕРИИ: ММ. РТ. СТ. ПО ПОТОКУ TR ММ. РТ. СТ.ДИАСТОЛИЧЕСКОЕ ММ. РТ. СТ. ПЕРИКАРД: ЖИДКОСТИ НЕ ВЫЯВЛЕНОЗАКЛЮЧЕНИЕ:ПРИЗНАКИ АНЕВРИЗМЫ ВОСХОДЯЩЕГО ОТДЕЛА АОРТЫ. АОРТАЛЬНАЯ РЕГУРГИТАЦИЯ 1 СТ.ПОЛОСТИ СЕРДЦА НЕ РАСШИРЕНЫ. ГИПЕРТРОФИЯ МЖП.СИСТОЛИЧЕСКАЯ ФУНКЦИЯ ЛЖ СОХРАНЕНА.\\\\nКАГ ОТ 16.10.2023Г.: ТИП КОРОНАРНОГО КРОВООБРАЩЕНИЯ: ПРАВЫЙ СТВОЛ ЛКА: КАЛЬЦИНОЗ ПМЖВ: КАЛЬЦИНОЗ, СТЕНОЗ В ПР\\\\\\\\3 ДО 85-90% ДИАМЕТРА, В СР\\\\\\\\3 ДО 80-85%ДИАМЕТРА ДВ: КАЛЬЦИНОЗ ,СТЕНОЗ В УСТЬЕ-ПР\\\\\\\\3 ДО 80-85% ОВ: КАЛЬЦИНОЗ ,ОККЛЮЗИРОВАНА ОТ УСТЬЯ, TIMI-0 ВТК ОККЛЮЗИРОВАНА. ПКА: С НЕРОВНЫМИ КОНТУРАМИ ЗМЖВ: С НЕРОВНЫМИ КОНТУРАМИ ЗЛЖВ С НЕРОВНЫМИ КОНТУРАМИ.\\\\n\\\\n ЗАКЛЮЧЕНИЕ  :  ДИАГНОЗ КЛИНИЧЕСКИЙ \\\\nОСНОВНОЙ:\\\\nИБС. ОСТРЫЙ ИНФАРКТ МИОКАРДА БЕЗ ЗУБЦА Q ПЕРЕДНЕЙ СТЕНКИ ЛЖ ОТ 15.10.2023Г (I21.4) \\\\nОСЛОЖНЕНИЕ:\\\\nОСН I ПО KILLIP. (I50.1) \\\\nФОНОВЫЙ:\\\\nГИПЕРТОНИЧЕСКАЯ БОЛЕЗНЬ 3 СТАДИИ, НЕКОНТРОЛИРУЕМАЯ АГ. РИСК - 4 ( ОЧЕНЬ ВЫСОКИЙ). ЦЕЛЕВОЙ УРОВЕНЬ АГ МЕНЕЕ 130/80 ММ.РТ.СТ. (I11.9) \\\\nСОПУТСТВУЮЩИЙ: \\\\nХБП, СТАДИЯ 3А (N18.3) \\\\nОЖИРЕНИЕ 2 СТЕПЕНИ(ИМТ-36). (E66.0) \\\\nВЕРЕТЕНООБРАЗНА АНЕВРИЗМА ВОСХОДЯЩЕГО ОТДЕЛА АОРТЫ (I71.2) \\\\n\\\\nОЦЕНКА РЕАБИЛИТАЦИОННОГО СТАТУСА ПАЦИЕНТА:\\\\nШКАЛЫ ОЦЕНКИ\\\\nРЕЗУЛЬТАТ\\\\nШКАЛА ДВИГАТЕЛЬНОГО ДЕФИЦИТА\\\\n20 Б\\\\nИНДЕКС МОБИЛЬНОСТИ РИВЕРМИД \\\\n7 Б\\\\nШКАЛА ХОДКИНСОНА\\\\n10 Б\\\\nШКАЛА ИНТЕНСИВНОСТИ БОЛИ (ВАШ) \\\\n0 Б\\\\nШКАЛА ФУНКЦИОНАЛЬНОЙ НЕЗАВИСИМОСТИ FIM\\\\n104 Б\\\\nШКАЛА РИСКА ПАДЕНИЙ МОРЗЕ\\\\n20 Б (НИЗКИЙ РИСК)\\\\nШРМ\\\\n4\\\\nСТУПЕНЬ ДВИГАТЕЛЬНОЙ АКТИВНОСТИ ПО Д.М.АРОНОВУ\\\\nII\\\\n\\\\nФАКТОРЫ, ОГРАНИЧИВАЮЩИЕ ПРОВЕДЕНИЕ РЕАБИЛИТАЦИОННЫХ МЕРОПРИЯТИИ?: ОТСУТСТВУЮТ.\\\\n\\\\nРЕАБИЛИТАЦИОННЫЙ ДИАГНОЗ (В КАТЕГОРИЯХ МКФ):\\\\nМКФ КАТЕГОРИИ\\\\n\\\\nНАИМЕНОВАНИЕ ДОМЕНА МКФ\\\\nКОД МКФ\\\\nФУНКЦИИ\\\\n\\\\nФУНКЦИ СЕРДЦА: КРОВОСНАБЖЕНИЕ СЕРДЦА:\\\\nB4103.3\\\\nФУНКЦИЯ СЕРДЦА: ФРАКЦИЯ ВЫБРОСА ЛЖ 59 %: \\\\nB4102.0\\\\nФУНКЦИИ АД: ПОВЫШЕННОЕ АД\\\\nB 4200.3\\\\nФУНКЦИИ АД: ПОДДЕРЖАНИЕ АД\\\\nB 4202.1\\\\nФУНКЦИИ СЕРДЦА: РИТМ СЕРДЦА: \\\\nB4101.0\\\\nФУНКЦИИ СЕРДЦА: ТЕМП СЕРДЕЧНЫХ СОКРАШЕНИЙ:\\\\nB4100.0\\\\nФУНКЦИИ СОЗНАНИЯ: ЯСНОСТЬ СОЗНАНИЯ:\\\\nB 1100.0\\\\nОБЩИЕ ОБМЕННЫЕ ФУНКЦИИ: ОБМЕН ЛИПИДОВ КРОВИ: \\\\nB5403.2\\\\nФУНКЦИИ ТОЛЕРАНТНОСТИ К ФН: УТОМЛЯЕМОСТЬ\\\\nB4550.2\\\\nСЕНСОРНЫЕ ФУНКЦИИ И БОЛЬ: БОЛЬ В ГРУДНОЙ КЛЕТКЕ\\\\nB28011.0\\\\nФУНКЦИИ СОХРАНЕНИЯ МАССЫ ТЕЛА: ИНДЕКС МАССЫ ТЕЛА 36 КГ/М2: \\\\nB530.2\\\\nСТРУКТУРЫ\\\\n\\\\nСТРУКТУРЫ СЕРДЦА: ЖЕЛУДОЧКИ: \\\\nS41001.3.5.0\\\\nСТРУКТУРЫ ССС: АРТЕРИИ\\\\nS4101.1.4.0\\\\nАКТИВНОСТЬ \\\\\\\\ УЧАСТИЕ\\\\n\\\\nАКТИВНОСТЬ И УЧАСТИЕ: ОБЩЕНИЕ: ВОСПРИЯТИЕ:\\\\nD310.0\\\\nАКТИВНОСТЬ И УЧАСТИЕ: РЕЧЬ: \\\\nD330.0\\\\nАКТИВНОСТЬ И УЧАСТИЕ: ПЕРЕМЕЩЕНИЕ ТЕЛА В ПОЛОЖЕНИИ ЛЕЖА\\\\nD4201.0\\\\nАКТИВНОСТЬ И УЧАСТИЕ: ПЕРЕМЕЩЕНИЕ ТЕЛА В ПОЛОЖЕНИИ СИДЯ\\\\nD4200.0\\\\nХОДЬБА: НА КОРОТКИЕ РАССТОЯНИЯ\\\\nD4500.1\\\\nХОДЬБА: НА ДАЛЬНИЕ РАССТОЯНИЯ\\\\nD4501.3\\\\nПРЕОДОЛЕНИЕ ПРЕПЯТСТВИЙ\\\\nD4511.2.1\\\\nЗАБОТА О СВОЕМ ЗДОРОВЬЕ\\\\nD5702.2\\\\nФАКТОРЫ ОКРУЖАЮЩЕЙ СРЕДЫ\\\\n\\\\nПРОДУКТЫ ИЛИ ВЕЩЕСТВА ДЛЯ ПЕРСОНАЛЬНОГО ПОТРЕБЛЕНИЯ: ВЫРАЖЕННОЕ ОБЛЕГЧЕНИЕ НА ЛЕКАРСТВЕННЫХ ПРЕПАРАТАХ (СТАБИЛИЗАЦИЯ АД, ЧСС)\\\\nЕ1101+4\\\\n\\\\nЦЕЛЬ РЕАБИЛИТАЦИИ ДОЛГОСРОЧНЫЕ: ПРОФИЛАКТИКА И КОРРЕКЦИЯ МОДИФИЦИРУЕМЫХ СЕРДЕЧНО-СОСУДИСТЫХ ФАКТОРОВ РИСКА; КОРРЕКЦИЯ ЛИПИДНОГО ПРОФИЛЯ (ДОСТИЖЕНИЕ ЦЕЛЕВЫХ ЗНАЧЕНИЙ ЛПНП ? 1,4 ММОЛЬ/Л, ОБЩ.ХОЛЕТЕРИНА ? 4 ММОЛЬ/Л, ТГ ? 1,7 ММОЛЬ/Л), УЛУЧШЕНИЕ КАЧЕСТВА ЖИЗНИ, ВОССТАНОВЛЕНИЕ УРОВНЯ ЖИЗНИ ПАЦИЕНТА.\\\\nЦЕЛИ РЕАБИЛИТАЦИИ КРАТКОСРОЧНЫЕ: ПОВЫШЕНИЕ ТОЛЕРАНТНОСТИ К ФН (ХОДЬБА ДО 500 М, ПРЕОДОЛЕНИЕ ОДНОГО ЭТАЖА ЛЕСТНИЦЫ); УВЕЛИЧЕНИЕ ФУНКЦИОНАЛЬНОЙ НЕЗАВИСИМОСТИ ПАЦИЕНТА (ПО ШКАЛЕ FIM); УВЕЛИЧЕНИЕ МОБИЛЬНОСТИ ПАЦИЕНТА (ДО 13 Б ПО РИВЕРМИД), ДОСТИЖЕНИЕ IV СТУПЕНИ ДВИГАТЕЛЬНОЙ АКТИВНОСТИ ЗА 8-10 ДНЕЙ.\\\\nЗАДАЧИ РЕАБИЛИТАЦИИ: НОРМАЛИЗАЦИЯ УРОВНЯ ЛАБОРАТОРНЫХ ПОКАЗАТЕЛЕЙ, НОРМАЛИЗАЦИЯ ГЕМОДИНАМИЧЕСКИХ ПОКАЗАТЕЛЕЙ (ЧСС, АД). \\\\nРЕАБИЛИТАЦИОННЫЙ ПОТЕНЦИАЛ: СРЕДНИЙ.\\\\n РЕКОМЕНДАЦИИ  :  ИНДИВИДУАЛЬНАЯ ПРОГРАММА РЕАБИЛИТАЦИИ: ДОПОЛНЕНО!\\\\n1. РЕЖИМ ДВИГАТЕЛЬНОЙ АКТИВНОСТИ: ПАЛАТНЫЙ, В ДАЛЬНЕЙШЕМ С РАСШИРЕНИЕМ ДО РЕЖИМА -СВОБОДНЫЙ (ЩАДЯЩИЙ).\\\\n2. ДИЕТА НКД, ГИПОХОЛЕСТЕРИНОВАЯ ДИЕТА, ЛИПИДСНИЖАЩАЯ ТЕРАПИЯ. НОРМАЛИЗАЦИЯ МАССЫ ТЕЛА: ИМТ 18-25 КГ/М2. \\\\n3. ПРИСАЖИВАНИЯ В ПОСТЕЛИ. СИДЕНИЕ НА КРАЮ КРОВАТИ СО СВЕШЕННЫМИ НОГАМИ 3Р/Д ПО 30 МИН. ПРИЕМ ПИЩИ СИДЯ. ПЕРЕСАЖИВАНИЕ НА ПРИКРОВАТНЫЙ СТУЛ 2 Р/Д ПО 20 МИН.\\\\n4. ИНДИВИДУАЛЬНЫЕ ЗАНЯТИЯ ЛФК (КОМПЛЕКС ЛФК №1,2, КОМПЛЕКС УПРАЖНЕНИЙ ЛЕЧЕБНОЙ ГИМНАСТИКИ П/О ПЕРИОДА  + ДЫХАТЕЛЬНАЯ ГИМНАСТИКА) - 30 МИНУТ № 10. ВИД ЗАНЯТИЙ: ИНДИВИДУАЛЬНЫЕ. МЕСТО ПРОВЕДЕНИЯ: ПАЛАТА.\\\\n5. ИНСТРУКТАЖ ПО НОШЕНИЮ БАНДАЖА, ЭЛАСТИЧНОМУ БИНТОВАНИЮ НИЖНИХ КОНЕЧНОСТЕЙ.\\\\n6. ХОДЬБА ПО КОРИДОРУ ДО 200 М В 2-3 ПРИЕМА, ТЕМП ХОДЬБЫ 40-50 ШАГОВ В МИНУТУ С ПОСТЕПЕННЫМ УВЕЛИЧЕНИЕМ ПРОЙДЕННОГО РАССТОЯНИЯ НА 150-200 М ПОД КОНТРОЛЕМ ЧСС И САМОЧУВСТВИЯ. ИНТЕНСИВНОСТЬ НАГРУЗКИ ПО ШКОЛЕ БОРГА НЕ БОЛЕЕ 11-13 БАЛЛОВ. КОНТРОЛИРУЕМЫЕ ПОКАЗАТЕЛИ: ЧСС, АД, ЧДД.\\\\nЛЕЧАЩИЙ КАРДИОЛОГ !!!!!!!!!!!!! И. В.\\\\nИНСТРУКТОР МЕТОДИСТ ПО ЛЕЧЕБНОЙ ФИЗКУЛЬТУРЕ !!!!!!!!!!!!! В. М.\\'}}]}, {\\'{urn:hl7-org:v3}td\\': [{\\'{urn:hl7-org:v3}content\\': {\\'text\\': \\'Заключение\\'}}, {\\'{urn:hl7-org:v3}content\\': {\\'text\\': \\'ДИАГНОЗ КЛИНИЧЕСКИЙ \\\\nОСНОВНОЙ:\\\\nИБС. ОСТРЫЙ ИНФАРКТ МИОКАРДА БЕЗ ЗУБЦА Q ПЕРЕДНЕЙ СТЕНКИ ЛЖ ОТ 15.10.2023Г (I21.4) \\\\nОСЛОЖНЕНИЕ:\\\\nОСН I ПО KILLIP. (I50.1) \\\\nФОНОВЫЙ:\\\\nГИПЕРТОНИЧЕСКАЯ БОЛЕЗНЬ 3 СТАДИИ, НЕКОНТРОЛИРУЕМАЯ АГ. РИСК - 4 ( ОЧЕНЬ ВЫСОКИЙ). ЦЕЛЕВОЙ УРОВЕНЬ АГ МЕНЕЕ 130/80 ММ.РТ.СТ. (I11.9) \\\\nСОПУТСТВУЮЩИЙ: \\\\nХБП, СТАДИЯ 3А (N18.3) \\\\nОЖИРЕНИЕ 2 СТЕПЕНИ(ИМТ-36). (E66.0) \\\\nВЕРЕТЕНООБРАЗНА АНЕВРИЗМА ВОСХОДЯЩЕГО ОТДЕЛА АОРТЫ (I71.2) \\\\n\\\\nОЦЕНКА РЕАБИЛИТАЦИОННОГО СТАТУСА ПАЦИЕНТА:\\\\nШКАЛЫ ОЦЕНКИ\\\\nРЕЗУЛЬТАТ\\\\nШКАЛА ДВИГАТЕЛЬНОГО ДЕФИЦИТА\\\\n20 Б\\\\nИНДЕКС МОБИЛЬНОСТИ РИВЕРМИД \\\\n7 Б\\\\nШКАЛА ХОДКИНСОНА\\\\n10 Б\\\\nШКАЛА ИНТЕНСИВНОСТИ БОЛИ (ВАШ) \\\\n0 Б\\\\nШКАЛА ФУНКЦИОНАЛЬНОЙ НЕЗАВИСИМОСТИ FIM\\\\n104 Б\\\\nШКАЛА РИСКА ПАДЕНИЙ МОРЗЕ\\\\n20 Б (НИЗКИЙ РИСК)\\\\nШРМ\\\\n4\\\\nСТУПЕНЬ ДВИГАТЕЛЬНОЙ АКТИВНОСТИ ПО Д.М.АРОНОВУ\\\\nII\\\\n\\\\nФАКТОРЫ, ОГРАНИЧИВАЮЩИЕ ПРОВЕДЕНИЕ РЕАБИЛИТАЦИОННЫХ МЕРОПРИЯТИИ?: ОТСУТСТВУЮТ.\\\\n\\\\nРЕАБИЛИТАЦИОННЫЙ ДИАГНОЗ (В КАТЕГОРИЯХ МКФ):\\\\nМКФ КАТЕГОРИИ\\\\n\\\\nНАИМЕНОВАНИЕ ДОМЕНА МКФ\\\\nКОД МКФ\\\\nФУНКЦИИ\\\\n\\\\nФУНКЦИ СЕРДЦА: КРОВОСНАБЖЕНИЕ СЕРДЦА:\\\\nB4103.3\\\\nФУНКЦИЯ СЕРДЦА: ФРАКЦИЯ ВЫБРОСА ЛЖ 59 %: \\\\nB4102.0\\\\nФУНКЦИИ АД: ПОВЫШЕННОЕ АД\\\\nB 4200.3\\\\nФУНКЦИИ АД: ПОДДЕРЖАНИЕ АД\\\\nB 4202.1\\\\nФУНКЦИИ СЕРДЦА: РИТМ СЕРДЦА: \\\\nB4101.0\\\\nФУНКЦИИ СЕРДЦА: ТЕМП СЕРДЕЧНЫХ СОКРАШЕНИЙ:\\\\nB4100.0\\\\nФУНКЦИИ СОЗНАНИЯ: ЯСНОСТЬ СОЗНАНИЯ:\\\\nB 1100.0\\\\nОБЩИЕ ОБМЕННЫЕ ФУНКЦИИ: ОБМЕН ЛИПИДОВ КРОВИ: \\\\nB5403.2\\\\nФУНКЦИИ ТОЛЕРАНТНОСТИ К ФН: УТОМЛЯЕМОСТЬ\\\\nB4550.2\\\\nСЕНСОРНЫЕ ФУНКЦИИ И БОЛЬ: БОЛЬ В ГРУДНОЙ КЛЕТКЕ\\\\nB28011.0\\\\nФУНКЦИИ СОХРАНЕНИЯ МАССЫ ТЕЛА: ИНДЕКС МАССЫ ТЕЛА 36 КГ/М2: \\\\nB530.2\\\\nСТРУКТУРЫ\\\\n\\\\nСТРУКТУРЫ СЕРДЦА: ЖЕЛУДОЧКИ: \\\\nS41001.3.5.0\\\\nСТРУКТУРЫ ССС: АРТЕРИИ\\\\nS4101.1.4.0\\\\nАКТИВНОСТЬ \\\\\\\\ УЧАСТИЕ\\\\n\\\\nАКТИВНОСТЬ И УЧАСТИЕ: ОБЩЕНИЕ: ВОСПРИЯТИЕ:\\\\nD310.0\\\\nАКТИВНОСТЬ И УЧАСТИЕ: РЕЧЬ: \\\\nD330.0\\\\nАКТИВНОСТЬ И УЧАСТИЕ: ПЕРЕМЕЩЕНИЕ ТЕЛА В ПОЛОЖЕНИИ ЛЕЖА\\\\nD4201.0\\\\nАКТИВНОСТЬ И УЧАСТИЕ: ПЕРЕМЕЩЕНИЕ ТЕЛА В ПОЛОЖЕНИИ СИДЯ\\\\nD4200.0\\\\nХОДЬБА: НА КОРОТКИЕ РАССТОЯНИЯ\\\\nD4500.1\\\\nХОДЬБА: НА ДАЛЬНИЕ РАССТОЯНИЯ\\\\nD4501.3\\\\nПРЕОДОЛЕНИЕ ПРЕПЯТСТВИЙ\\\\nD4511.2.1\\\\nЗАБОТА О СВОЕМ ЗДОРОВЬЕ\\\\nD5702.2\\\\nФАКТОРЫ ОКРУЖАЮЩЕЙ СРЕДЫ\\\\n\\\\nПРОДУКТЫ ИЛИ ВЕЩЕСТВА ДЛЯ ПЕРСОНАЛЬНОГО ПОТРЕБЛЕНИЯ: ВЫРАЖЕННОЕ ОБЛЕГЧЕНИЕ НА ЛЕКАРСТВЕННЫХ ПРЕПАРАТАХ (СТАБИЛИЗАЦИЯ АД, ЧСС)\\\\nЕ1101+4\\\\n\\\\nЦЕЛЬ РЕАБИЛИТАЦИИ ДОЛГОСРОЧНЫЕ: ПРОФИЛАКТИКА И КОРРЕКЦИЯ МОДИФИЦИРУЕМЫХ СЕРДЕЧНО-СОСУДИСТЫХ ФАКТОРОВ РИСКА; КОРРЕКЦИЯ ЛИПИДНОГО ПРОФИЛЯ (ДОСТИЖЕНИЕ ЦЕЛЕВЫХ ЗНАЧЕНИЙ ЛПНП ? 1,4 ММОЛЬ/Л, ОБЩ.ХОЛЕТЕРИНА ? 4 ММОЛЬ/Л, ТГ ? 1,7 ММОЛЬ/Л), УЛУЧШЕНИЕ КАЧЕСТВА ЖИЗНИ, ВОССТАНОВЛЕНИЕ УРОВНЯ ЖИЗНИ ПАЦИЕНТА.\\\\nЦЕЛИ РЕАБИЛИТАЦИИ КРАТКОСРОЧНЫЕ: ПОВЫШЕНИЕ ТОЛЕРАНТНОСТИ К ФН (ХОДЬБА ДО 500 М, ПРЕОДОЛЕНИЕ ОДНОГО ЭТАЖА ЛЕСТНИЦЫ); УВЕЛИЧЕНИЕ ФУНКЦИОНАЛЬНОЙ НЕЗАВИСИМОСТИ ПАЦИЕНТА (ПО ШКАЛЕ FIM); УВЕЛИЧЕНИЕ МОБИЛЬНОСТИ ПАЦИЕНТА (ДО 13 Б ПО РИВЕРМИД), ДОСТИЖЕНИЕ IV СТУПЕНИ ДВИГАТЕЛЬНОЙ АКТИВНОСТИ ЗА 8-10 ДНЕЙ.\\\\nЗАДАЧИ РЕАБИЛИТАЦИИ: НОРМАЛИЗАЦИЯ УРОВНЯ ЛАБОРАТОРНЫХ ПОКАЗАТЕЛЕЙ, НОРМАЛИЗАЦИЯ ГЕМОДИНАМИЧЕСКИХ ПОКАЗАТЕЛЕЙ (ЧСС, АД). \\\\nРЕАБИЛИТАЦИОННЫЙ ПОТЕНЦИАЛ: СРЕДНИЙ.\\'}}]}, {\\'{urn:hl7-org:v3}td\\': [{\\'{urn:hl7-org:v3}content\\': {\\'text\\': \\'Диагноз\\'}}, {\\'{urn:hl7-org:v3}content\\': {\\'text\\': \\'I21.4 Острый субэндокардиальный инфаркт миокарда\\'}}]}, {\\'{urn:hl7-org:v3}td\\': [{\\'{urn:hl7-org:v3}content\\': {\\'text\\': \\'Рекомендации\\'}}, {\\'{urn:hl7-org:v3}content\\': {\\'text\\': \\'ИНДИВИДУАЛЬНАЯ ПРОГРАММА РЕАБИЛИТАЦИИ: ДОПОЛНЕНО!\\\\n1. РЕЖИМ ДВИГАТЕЛЬНОЙ АКТИВНОСТИ: ПАЛАТНЫЙ, В ДАЛЬНЕЙШЕМ С РАСШИРЕНИЕМ ДО РЕЖИМА -СВОБОДНЫЙ (ЩАДЯЩИЙ).\\\\n2. ДИЕТА НКД, ГИПОХОЛЕСТЕРИНОВАЯ ДИЕТА, ЛИПИДСНИЖАЩАЯ ТЕРАПИЯ. НОРМАЛИЗАЦИЯ МАССЫ ТЕЛА: ИМТ 18-25 КГ/М2. \\\\n3. ПРИСАЖИВАНИЯ В ПОСТЕЛИ. СИДЕНИЕ НА КРАЮ КРОВАТИ СО СВЕШЕННЫМИ НОГАМИ 3Р/Д ПО 30 МИН. ПРИЕМ ПИЩИ СИДЯ. ПЕРЕСАЖИВАНИЕ НА ПРИКРОВАТНЫЙ СТУЛ 2 Р/Д ПО 20 МИН.\\\\n4. ИНДИВИДУАЛЬНЫЕ ЗАНЯТИЯ ЛФК (КОМПЛЕКС ЛФК №1,2, КОМПЛЕКС УПРАЖНЕНИЙ ЛЕЧЕБНОЙ ГИМНАСТИКИ П/О ПЕРИОДА  + ДЫХАТЕЛЬНАЯ ГИМНАСТИКА) - 30 МИНУТ № 10. ВИД ЗАНЯТИЙ: ИНДИВИДУАЛЬНЫЕ. МЕСТО ПРОВЕДЕНИЯ: ПАЛАТА.\\\\n5. ИНСТРУКТАЖ ПО НОШЕНИЮ БАНДАЖА, ЭЛАСТИЧНОМУ БИНТОВАНИЮ НИЖНИХ КОНЕЧНОСТЕЙ.\\\\n6. ХОДЬБА ПО КОРИДОРУ ДО 200 М В 2-3 ПРИЕМА, ТЕМП ХОДЬБЫ 40-50 ШАГОВ В МИНУТУ С ПОСТЕПЕННЫМ УВЕЛИЧЕНИЕМ ПРОЙДЕННОГО РАССТОЯНИЯ НА 150-200 М ПОД КОНТРОЛЕМ ЧСС И САМОЧУВСТВИЯ. ИНТЕНСИВНОСТЬ НАГРУЗКИ ПО ШКОЛЕ БОРГА НЕ БОЛЕЕ 11-13 БАЛЛОВ. КОНТРОЛИРУЕМЫЕ ПОКАЗАТЕЛИ: ЧСС, АД, ЧДД.\\\\nЛЕЧАЩИЙ КАРДИОЛОГ !!!!!!!!!!!!! И. В.\\\\nИНСТРУКТОР МЕТОДИСТ ПО ЛЕЧЕБНОЙ ФИЗКУЛЬТУРЕ !!!!!!!!!!!!! В. М.\\'}}]}, {\\'{urn:hl7-org:v3}td\\': [{\\'{urn:hl7-org:v3}content\\': {\\'text\\': \\'Услуги\\'}}, {\\'{urn:hl7-org:v3}content\\': {\\'text\\': \\'Прием (осмотр, консультация) врача по медицинской профилактике первичный (B01.070.002)\\'}}]}, {\\'{urn:hl7-org:v3}td\\': [{\\'{urn:hl7-org:v3}content\\': {\\'text\\': \\'Автор документа\\'}}, {\\'{urn:hl7-org:v3}content\\': {\\'text\\': \\'!!!!!!!!!!!!! !!!!!!!!!!!!! !!!!!!!!!!!!! (Врач физической и реабилитационной медицины)\\'}}]}]}, \\'width\\': \\'100%\\'}}, \\'Прием (осмотр, консультация) врача-невролога повторный (25.10.2023 15:20)\\': {\\'{urn:hl7-org:v3}table\\': {\\'{urn:hl7-org:v3}col\\': [{\\'width\\': \\'12%\\'}, {\\'width\\': \\'88%\\'}], \\'{urn:hl7-org:v3}tbody\\': {\\'{urn:hl7-org:v3}tr\\': [{\\'{urn:hl7-org:v3}td\\': [{\\'{urn:hl7-org:v3}content\\': {\\'text\\': \\'Объективно\\'}}, {\\'{urn:hl7-org:v3}content\\': {\\'text\\': \\'\"\" \\\\n\"\"\\\\n!\\\\nКОНСУЛЬТАТИВНЫЙ ОСМОТР ВРАЧА - НЕВРОЛОГА\\\\n\\\\nВИД ОПЛАТЫ БЮДЖЕТ  \\\\nФ.И.О.:  А Л Н ВОЗРАСТ (ДАТА РОЖДЕНИЯ):  76 ( 01.01.1698!)\\\\n\\\\n ЖАЛОБЫ  :  ЧАСТОЕ ГОЛОВОКРУЖЕНИЕ НЕСИСТЕМНОГО ХАРАКТЕРА, ШАТКОСТЬ ПРИ ХОДЬБЕ, ШУМ В ГОЛОВЕ. \\\\n\\\\n АНАМНЕЗ ЗАБОЛЕВАНИЯ  :  В ТЕЧЕНИЕ ДЛИТЕЛЬНОГО ВРЕМЕНИ. ЛЕЧЕНИЕ НЕТ,ЖАЛОБЫ СОХРАНЯЮТСЯ. \\\\n\\\\n ПОЛУЧАЕМОЕ ЛЕЧЕНИЕ  :  0\\\\n\\\\n АНАМНЕЗ ЖИЗНИ  :  ЧМТ, ТБС, ВН.ЗАБОЛЕВАНИЯ, ГЕПАТИТ А- ОТР, АЛЛЕРГИЧЕСКИЕ РЕАКЦИИ - ОТР АГС 2023 Г.\\\\n ОБЩЕБИОГРАФИЧЕСКИЕ СВЕДЕНИЯ  НА СЕВЕРЕ МНОГО ЛЕТ \\\\n СОЦИАЛЬНЫЙ АНАМНЕЗ  НЕ РАБ, ПЕН \\\\n СЕМЕЙНЫЙ АНАМНЕЗ  ОТР. \\\\n ФАКТОРЫ РИСКА  ОТР. \\\\nАЛЛЕРГОЛОГИЧЕСКИЙ АНАМНЕЗ: НЕ БЫЛО  \\\\nЭПИД.АНАМНЕЗ: ЗА ПОСЛЕДНИЙ МЕСЯЦ ЗА ПРЕДЕЛЫ ХМАО НЕ ВЫЕЗЖАЛ. ПАЦИЕНТ НА САМОИЗОЛЯЦИИ НЕ НАХОДИТСЯ, КОНТАКТ С ЛИЦАМИ С ПОДОЗРЕНИЕМ ИЛИ ПОДТВЕРЖДЁННЫМ COVID-19 ОТРИЦАЕТ. СВЕРКА С ОТЧЕТОМ (БАЗА COVID-19) ПО НАБЛЮДАЕМЫМ (\"Город\", !!!!!!!!!!!!! РАЙОН) ПРОВЕДЕНА, В БАЗЕ ОТСУТСТВУЕТ. БОЛЕЛ РАНЕЕ COVID-19 НЕТ. ВАКЦИНАЦИЯ.\\\\nКЛИНИЧЕСКИЕ ПРИЗНАКИ ОРВИ (ПОВЫШЕНИЕ ТЕМПЕРАТУРЫ ВЫШЕ 37,5, КАШЕЛЬ, ОДЫШКА, БОЛЬ В ГОРЛЕ, НАСМОРК, СНИЖЕНИЕ ОБОНЯНИЯ И ВКУСА) ОТРИЦАЕТ.\\\\n ОБЪЕКТИВНЫЙ СТАТУС  : \\\\n РОСТ  160   ВЕС  91  ИМТ 36\\\\nОБЩЕЕ СОСТОЯНИЕ СРЕДНЕЙ ТЯЖЕСТИ . КОЖНЫЕ ПОКРОВЫ ЧИСТЫЕ, ОБЫЧНОЙ ОКРАСКИ. \\\\nАД  100\\\\\\\\76  ММ.РТ.СТ. ЧСС  66  УД. В МИН, РИТМИЧНЫЙ. ОТЕКИ  НЕТ \\\\nНЕВРОЛОГИЧЕСКИЙ СТАТУС:\\\\nСОЗНАНИЕ ЯСНОЕ. МЫШЛЕНИЕ В ОБЫЧНОМ ТЕМПЕ. ПАМЯТЬ СОХРАНЕНА. \\\\nОБЩЕМОЗГОВАЯ СИМПТОМАТИКА СМ. ЖАЛОБЫ \\\\nМЕНИНГЕАЛЬНЫЕ ЗНАКИ ABS \\\\nЧМН: ОБОНЯНИЕ В НОРМЕ, ЗРАЧКИ D=S, ФОТОРЕАКЦИЯ ЗРАЧКОВ НА СВЕТ ПРЯМАЯ И СОДРУЖЕСТВЕННАЯ, ДВИЖЕНИЯ ГЛАЗНЫХ ЯБЛОК В ПОЛНОМ ОБЪЕМЕ. \\\\nNG: НЕТ \\\\nТОЧКИ ВЫХОДА ТРОЙНИЧНОГО НЕРВА БЕЗБОЛЕЗНЕННЫ.\\\\nЛИЦО СИММЕТРИЧНО, ЯЗЫК В ПОЛОСТИ РТА ПО ЦЕНТРУ, ГЛОТОЧНЫЕ РЕФЛЕКСЫ ЖИВЫЕ, ФОНАЦИЯ И АРТИКУЛЯЦИЯ НЕ НАРУШЕНА. \\\\nСУХОЖИЛЬНЫЕ РЕФЛЕКСЫ ЖИВЫЕ, D=S \\\\nПАТОЛОГИЧЕСКИЕ РЕФЛЕКСЫ ABS \\\\nЧУВСТВИТЕЛЬНОСТЬ СОХРАНЕНА. \\\\nВ ПОЗЕ РОМБЕРГА УСТОЙЧИВ(А). КП ВЫПОЛНЯЕТ УДОВЛЕТВОРИТЕЛЬНО УДОВЛЕТВОРИТЕЛЬНО. \\\\nОСМОТР ШЕЙНОГО, ПОЯСНИЧНО-КРЕСТЦОВОГО ОТДЕЛА ПОЗВОНОЧНИКА УПЛОЩЕН ШЕЙНЫЙ ЛОРДОЗ ПАЛЬПАЦИЯ ПАРАВЕРТЕБРАЛНО БЕЗБОЛЕЗНЕННА. ОГРАНИЧЕНИЙ ДВИЖЕНИЙ НЕТ. СИМ-МЫ НАТЯЖЕНИЯ- ОТР.\\\\nОЦЕНКА КОГНИТИВНЫХ ФУНКЦИЙ С ПОМОЩЬЮ\\\\xa0ШКАЛ МОСА, MMSE, ТЕСТ РИСОВАНИЯ ЧАСОВ, MINICOG НЕ ВЫЯВЛЯЕТ КОГНИТИВНЫХ НАРУШЕНИЙ.\\\\nРЕЗУЛЬТАТЫ СПЕЦИАЛЬНЫХ МЕТОДОВ ИССЛЕДОВАНИЯ:\\\\n\\\\n 23.10.2023 13:20:03 КОМПЬЮТЕРНАЯ ТОМОГРАФИЯ ГОЛОВНОГО МОЗГА: НА СЕРИИ ТОМОГРАММ ПОЛУЧЕНЫ ИЗОБРАЖЕНИЯ СУБ- И СУПРАТЕНТОРИАЛЬНЫХ ОТДЕЛОВ ГОЛОВНОГО МОЗГА.ДИФФЕРЕНЦИРОВКА СЕРОГО И БЕЛОГО ВЕЩЕСТВА НЕ НАРУШЕНА.СУБАРАХНОИДАЛЬНОЕ ПРОСТРАНСТВО ПО КОНВЕКСИТАЛЬНОЙ ПОВЕРХНОСТИ ГОЛОВНОГО МОЗГА НЕ РАСШИРЕНО, МОЗГОВЫЕ ИЗВИЛИНЫ В ЛОБНЫХ,ТЕМЕННЫХ ДОЛЯХ УГЛУБЛЕНЫ,УМЕРЕННО РАСШИРЕНЫ.СРЕДИННЫЕ СТРУКТУРЫ НЕ СМЕЩЕНЫ.СИЛЬВИЕВЫ ЩЕЛИ СИММЕТРИЧНЫ,РАСШИРЕНЫ.ОБЛАСТЬ ТУРЕЦКОГО СЕДЛА БЕЗ ВИДИМЫХ ПАТОЛОГИЧЕСКИХ ИЗМЕНЕНИЙ.БОКОВЫЕ ЖЕЛУДОЧКИ МОЗГА СЛЕГКА АСИММЕТРИЧНЫ, РАСШИРЕНЫ: ПЕРЕДНИЕ РОГА D=S 12 ММ,III-ЖЕЛУДОЧЕК ДО 14 ММ,IV-ЖЕЛУДОЧЕК НЕ ИЗМЕНЕН.ДОПОЛНИТЕЛЬНЫХ ОБРАЗОВАНИЙ В ОБЛАСТИ МОСТО-МОЗЖЕЧКОВЫХ УГЛОВ НЕ ВЫЯВЛЕНО.МИНДАЛИНЫ МОЗЖЕЧКА НА УРОВНЕ БОЛЬШОГО ЗАТЫЛОЧНОГО ОТВЕРСТИЯ.КРАНИОВЕРТЕБРАЛЬНЫЙ ПЕРЕХОД НЕ ИЗМЕНЕН.В ПРОЕКЦИИ СТЕНОК ВНУТРЕННИХ СОННЫХ АРТЕРИЙ НА УРОВНЕ СИФОНА ВИЗУАЛИЗИРУЮТСЯ  ОЧАГИ КАЛЬЦИНОЗА.ВИДИМЫЙ СЕГМЕНТ ПРАВОЙ ВЕРТЕБРАЛЬНОЙ АРТЕРИИ БОЛЬШЕ ОТНОСИТЕЛЬНО ЛЕВОЙ.ОПРЕДЕЛЯЕТСЯ ГИПЕРОСТОЗ ВНУТРЕННЕЙ ПЛАСТИНКИ ЛОБНОЙ КОСТИ ТОЛЩИНОЙ ДО 6,5ММ.ДОПОЛНИТЕЛЬНО: НЕ ИСКЛЮЧИТЬ ДОПОЛНИТЕЛЬНЫЕ ПРИСТЕНОЧНЫЕ ОБРАЗОВАНИЯ - КИСТЫ? ПОЛИПЫ? ПРИЗНАКИ РИНИТА,БОЛЬШЕ СПРАВА.ДАННОЕ ЗАКЛЮЧЕНИЕ НЕ ЯВЛЯЕТСЯ ДИАГНОЗОМДИАГНОЗ УСТАНАВЛИВАЕТ ЛЕЧАЩИЙ ВРАЧ ЗАКЛЮЧЕНИЕ: МСКТ-ПРИЗНАКИ СУБАТРОФИЧЕСКИХ ИЗМЕНЕНИЙ ГОЛОВНОГО МОЗГА,С ЗАМЕСТИТЕЛЬНЫМ РАСШИРЕНИЕМ ЛИКВОРНЫХ ПРОСТРАНСТВ.\\\\nМСКТ-ПРИЗНАКИ АТЕРОСКЛЕРОТИЧЕСКОГО ПОРАЖЕНИЯ ИНТРАКРАНИАЛЬНЫХ СОСУДОВ.\\\\n ЗАКЛЮЧЕНИЕ  : \\\\nКЛИНИЧЕСКИЙ ДИАГНОЗ:\\\\nОСНОВНОЙ: I67.8  ДИСЦИРКУЛЯТОРНАЯ ЭНЦЕФАЛОПАТИЯ 1 СТ,СУБКОМПЕНСАЦИЯ, ПРЕИМУЩЕСТВЕННО В ВБС, НА ФОНЕ АГ. СУБЪЕКТИВНЫЙ ШУМ.УМЕРЕННАЯ ВЕСТИБУЛОПАТИЯ.    \\\\nСОПУТСТВУЮЩИЙ: - ИБС. ОСТРЫЙ ИНФАРКТ МИОКАРДА ПО ПЕРЕДНЕЙ СТЕНКЕ, БЕЗ ПОДЪЕМА ST ОТ 15.10.2023Г(I21.4) ОСН I ПО KILLIP.(I50.1)\\\\n ХБП, СТАДИЯ 3А(N18.3)\\\\n\\\\xa0 ОЖИРЕНИЕ 2 СТЕПЕНИ(ИМТ-36).(E66.0)ВЕРЕТЕНООБРАЗНА АНЕВРИЗМА ВОСХОДЯЩЕГО ОТДЕЛА АОРТЫ(I71.2)\\\\nГИПЕРТОНИЧЕСКАЯ БОЛЕЗНЬ 3 СТАДИИ, НЕКОНТРОЛИРУЕМАЯ АГ. РИСК - 4 ( ОЧЕНЬ ВЫСОКИЙ). ЦЕЛЕВОЙ УРОВЕНЬ АГ МЕНЕЕ 130/80 ММ.РТ.СТ.(I11.9)\\\\n РЕКОМЕНДАЦИИ  :  НАБЛЮДЕНИЕ КАРДИОЛОГА, ТЕРАПЕВТА ПО МЕСТУ ЖИТЕЛЬСТВА (ВЕДЕНИЕ ПО СТАНДАРТАМ НОЗОЛОГИИ)  \\\\nЛЕЧЕНИЕ: ТАB.BETAHISTINI (БЕТАСЕРК) 0,024 *2 РАЗА В ДЕНЬ В ТЕЧЕНИИ 3-Х МЕСЯЦЕВ.  У/В ПОСЛЕ ЕДЫ( АМБ ).\\\\nКОНСУЛЬТАЦИЯ СУРДОЛОГА ( НАПРАВЛЕНИЕ С ЛПУ ПО М/Ж ).\\\\nПОВТОРНЫЙ ОСМОТР: НАБЛЮДЕНИЕ НЕВРОЛОГА ПО МЕСТУ ЖИТЕЛЬСТВА \\\\nС ПЛАНОМ ОБСЛЕДОВАНИЯ И ЛЕЧЕНИЯ ОЗНАКОМЛЕН(А) ____________________________\\'}}]}, {\\'{urn:hl7-org:v3}td\\': [{\\'{urn:hl7-org:v3}content\\': {\\'text\\': \\'Заключение\\'}}, {\\'{urn:hl7-org:v3}content\\': {\\'text\\': \\'КЛИНИЧЕСКИЙ ДИАГНОЗ:\\\\nОСНОВНОЙ: I67.8  ДИСЦИРКУЛЯТОРНАЯ ЭНЦЕФАЛОПАТИЯ 1 СТ,СУБКОМПЕНСАЦИЯ, ПРЕИМУЩЕСТВЕННО В ВБС, НА ФОНЕ АГ. СУБЪЕКТИВНЫЙ ШУМ.УМЕРЕННАЯ ВЕСТИБУЛОПАТИЯ.    \\\\nСОПУТСТВУЮЩИЙ: - ИБС. ОСТРЫЙ ИНФАРКТ МИОКАРДА ПО ПЕРЕДНЕЙ СТЕНКЕ, БЕЗ ПОДЪЕМА ST ОТ 15.10.2023Г(I21.4) ОСН I ПО KILLIP.(I50.1)\\\\n ХБП, СТАДИЯ 3А(N18.3)\\\\n\\\\xa0 ОЖИРЕНИЕ 2 СТЕПЕНИ(ИМТ-36).(E66.0)ВЕРЕТЕНООБРАЗНА АНЕВРИЗМА ВОСХОДЯЩЕГО ОТДЕЛА АОРТЫ(I71.2)\\\\nГИПЕРТОНИЧЕСКАЯ БОЛЕЗНЬ 3 СТАДИИ, НЕКОНТРОЛИРУЕМАЯ АГ. РИСК - 4 ( ОЧЕНЬ ВЫСОКИЙ). ЦЕЛЕВОЙ УРОВЕНЬ АГ МЕНЕЕ 130/80 ММ.РТ.СТ.(I11.9)\\'}}]}, {\\'{urn:hl7-org:v3}td\\': [{\\'{urn:hl7-org:v3}content\\': {\\'text\\': \\'Диагноз\\'}}, {\\'{urn:hl7-org:v3}content\\': {\\'text\\': \\'I21.4 Острый субэндокардиальный инфаркт миокарда\\'}}]}, {\\'{urn:hl7-org:v3}td\\': [{\\'{urn:hl7-org:v3}content\\': {\\'text\\': \\'Рекомендации\\'}}, {\\'{urn:hl7-org:v3}content\\': {\\'text\\': \\'НАБЛЮДЕНИЕ КАРДИОЛОГА, ТЕРАПЕВТА ПО МЕСТУ ЖИТЕЛЬСТВА (ВЕДЕНИЕ ПО СТАНДАРТАМ НОЗОЛОГИИ)  \\\\nЛЕЧЕНИЕ: ТАB.BETAHISTINI (БЕТАСЕРК) 0,024 *2 РАЗА В ДЕНЬ В ТЕЧЕНИИ 3-Х МЕСЯЦЕВ.  У/В ПОСЛЕ ЕДЫ( АМБ ).\\\\nКОНСУЛЬТАЦИЯ СУРДОЛОГА ( НАПРАВЛЕНИЕ С ЛПУ ПО М/Ж ).\\\\nПОВТОРНЫЙ ОСМОТР: НАБЛЮДЕНИЕ НЕВРОЛОГА ПО МЕСТУ ЖИТЕЛЬСТВА \\\\nС ПЛАНОМ ОБСЛЕДОВАНИЯ И ЛЕЧЕНИЯ ОЗНАКОМЛЕН(А) ____________________________\\'}}]}, {\\'{urn:hl7-org:v3}td\\': [{\\'{urn:hl7-org:v3}content\\': {\\'text\\': \\'Услуги\\'}}, {\\'{urn:hl7-org:v3}content\\': {\\'text\\': \\'Прием (осмотр, консультация) врача-невролога повторный (B01.023.002)\\'}}]}, {\\'{urn:hl7-org:v3}td\\': [{\\'{urn:hl7-org:v3}content\\': {\\'text\\': \\'Автор документа\\'}}, {\\'{urn:hl7-org:v3}content\\': {\\'text\\': \\'!!!!!!!!!!!!! !!!!!!!!!!!!! !!!!!!!!!!!!! (Врач-невролог)\\'}}]}]}, \\'width\\': \\'100%\\'}}, \\'Электрокардиография (18.10.2023 14:07)\\': {\\'{urn:hl7-org:v3}table\\': {\\'{urn:hl7-org:v3}col\\': [{\\'width\\': \\'12%\\'}, {\\'width\\': \\'88%\\'}], \\'{urn:hl7-org:v3}tbody\\': {\\'{urn:hl7-org:v3}tr\\': [{\\'{urn:hl7-org:v3}td\\': [{\\'{urn:hl7-org:v3}content\\': {\\'text\\': \\'Эффективная доза\\'}}, {\\'{urn:hl7-org:v3}content\\': {}}]}, {\\'{urn:hl7-org:v3}td\\': [{\\'{urn:hl7-org:v3}content\\': {\\'text\\': \\'Протокол\\'}}, {\\'{urn:hl7-org:v3}content\\': {\\'text\\': \\'БЮДЖЕТНОЕ УЧРЕЖДЕНИЕ ХМАО-ЮГРЫ \"! \\\\n\"\"\\\\n!\\\\n\\\\nПРОТОКОЛ ОБСЛЕДОВАНИЯ № !!!!!!!!!!!!!\\\\n\\\\n\\\\nФ.И.О.: А Л Н\\\\nВОЗРАСТ (ДАТА РОЖДЕНИЯ): 76 ( 01.01.1698!)\\\\nПРЕДВАРИТЕЛЬНЫЙ ДИАГНОЗ: \\\\n\\\\n ЗАКЛЮЧЕНИЕ  : \\\\n16.10.23 16:43 РАО 2\\\\nРИТМ СИНУСОВЫЙ С ЧСС 58, ЭОС РАСПОЛОЖЕНА ГОРИЗОНТАЛЬНО. \\\\n\"СЛАБЫЙ\" ПРИРОСТ З. R В ОТВ. V1-V2.\\\\nНАРУШЕНИЕ ПРОЦЕССОВ РЕПОЛЯРИЗАЦИИ ПЕРЕДНЕ - ПЕРЕГОРОДОЧНОЙ ОБЛАСТИ, ВЫСОКИХ БОКОВЫХ ОТДЕЛОВ В ВИДЕ УПЛОЩЕНИЯ З. Т В ПРАВЫХ ГРУДНЫХ ОТВЕДЕНИЯХ И СЛАБО - ОТРИЦАТЕЛЬНЫХ З. Т В ВЫСОКИХ БОКОВЫХ ОТВЕДЕНИЯХ. \\\\nПОЛИФАЗНОСТЬ К. QRS В НИЖНИХ ОТВЕДЕНИЯХ. \\\\nСДВИГ ПЕРЕХОДНОЙ ЗОНЫ ВЛЕВО.\\'}}]}, {\\'{urn:hl7-org:v3}td\\': [{\\'{urn:hl7-org:v3}content\\': {\\'text\\': \\'Заключение\\'}}, {\\'{urn:hl7-org:v3}content\\': {\\'text\\': \\'ЗАКЛЮЧЕНИЕ  : \\\\n16.10.23 16:43 РАО 2\\\\nРИТМ СИНУСОВЫЙ С ЧСС 58, ЭОС РАСПОЛОЖЕНА ГОРИЗОНТАЛЬНО. \\\\n\"СЛАБЫЙ\" ПРИРОСТ З. R В ОТВ. V1-V2.\\\\nНАРУШЕНИЕ ПРОЦЕССОВ РЕПОЛЯРИЗАЦИИ ПЕРЕДНЕ - ПЕРЕГОРОДОЧНОЙ ОБЛАСТИ, ВЫСОКИХ БОКОВЫХ ОТДЕЛОВ В ВИДЕ УПЛОЩЕНИЯ З. Т В ПРАВЫХ ГРУДНЫХ ОТВЕДЕНИЯХ И СЛАБО - ОТРИЦАТЕЛЬНЫХ З. Т В ВЫСОКИХ БОКОВЫХ ОТВЕДЕНИЯХ. \\\\nПОЛИФАЗНОСТЬ К. QRS В НИЖНИХ ОТВЕДЕНИЯХ. \\\\nСДВИГ ПЕРЕХОДНОЙ ЗОНЫ ВЛЕВО.\\'}}]}, {\\'{urn:hl7-org:v3}td\\': [{\\'{urn:hl7-org:v3}content\\': {\\'text\\': \\'Выявленная патология\\'}}, {\\'{urn:hl7-org:v3}content\\': {}}]}, {\\'{urn:hl7-org:v3}td\\': [{\\'{urn:hl7-org:v3}content\\': {\\'text\\': \\'Диагноз\\'}}, {\\'{urn:hl7-org:v3}content\\': {\\'text\\': \\'I21.4 Острый субэндокардиальный инфаркт миокарда\\'}}]}, {\\'{urn:hl7-org:v3}td\\': [{\\'{urn:hl7-org:v3}content\\': {\\'text\\': \\'Услуги\\'}}, {\\'{urn:hl7-org:v3}content\\': {\\'text\\': \\'Регистрация электрокардиограммы (A05.10.006)\\'}}]}, {\\'{urn:hl7-org:v3}td\\': [{\\'{urn:hl7-org:v3}content\\': {\\'text\\': \\'Врач\\'}}, {\\'{urn:hl7-org:v3}content\\': {\\'text\\': \\'!!!!!!!!!!!!! !!!!!!!!!!!!! !!!!!!!!!!!!! (Врач функциональной диагностики)\\'}}]}]}, \\'width\\': \\'100%\\'}}, \\'Электрокардиография (18.10.2023 14:12)\\': {\\'{urn:hl7-org:v3}table\\': {\\'{urn:hl7-org:v3}col\\': [{\\'width\\': \\'12%\\'}, {\\'width\\': \\'88%\\'}], \\'{urn:hl7-org:v3}tbody\\': {\\'{urn:hl7-org:v3}tr\\': [{\\'{urn:hl7-org:v3}td\\': [{\\'{urn:hl7-org:v3}content\\': {\\'text\\': \\'Эффективная доза\\'}}, {\\'{urn:hl7-org:v3}content\\': {}}]}, {\\'{urn:hl7-org:v3}td\\': [{\\'{urn:hl7-org:v3}content\\': {\\'text\\': \\'Протокол\\'}}, {\\'{urn:hl7-org:v3}content\\': {\\'text\\': \\'БЮДЖЕТНОЕ УЧРЕЖДЕНИЕ ХМАО-ЮГРЫ \"! \\\\n\"\"\\\\n!\\\\n\\\\nПРОТОКОЛ ОБСЛЕДОВАНИЯ № !!!!!!!!!!!!!\\\\n\\\\n\\\\nФ.И.О.: А Л Н\\\\nВОЗРАСТ (ДАТА РОЖДЕНИЯ): 76 ( 01.01.1698!)\\\\nПРЕДВАРИТЕЛЬНЫЙ ДИАГНОЗ: \\\\n\\\\n ЗАКЛЮЧЕНИЕ  : \\\\n17.10.23 07:00 РАО 2\\\\nСИНУСОВАЯ БРАДИКАРДИЯ С ЧСС 52, ЭОС РАСПОЛОЖЕНА ГОРИЗОНТАЛЬНО. \\\\nПРИРОСТ З. R В ОТВ. V1-V2 АДЕКВАТНЫЙ.\\\\nНАРУШЕНИЕ ПРОЦЕССОВ РЕПОЛЯРИЗАЦИИ  ПЕРЕДНЕ - ПЕРЕГОРОДОЧНОЙ ОБЛАСТИ, ВЫСОКИХ БОКОВЫХ ОТДЕЛОВ В ВИДЕ УПЛОЩЕНИЯ З. Т В ПРАВЫХ ГРУДНЫХ ОТВЕДЕНИЯХ И СЛАБО - ОТРИЦАТЕЛЬНЫХ З. Т В ВЫСОКИХ БОКОВЫХ ОТВЕДЕНИЯХ. \\\\nПОЛИФАЗНОСТЬ К. QRS В НИЖНИХ ОТВЕДЕНИЯХ. \\\\nСДВИГ ПЕРЕХОДНОЙ ЗОНЫ ВЛЕВО. \\\\nНАЛОЖЕНИЕ ПРАВЫХ ГРУДНЫХ ЭЛЕКТРОДОВ НЕ СООТВЕТСТВУЕТ ИХ УСТАНОВКЕ НА ПРЕДЫДУЩЕЙ ЭКГ.\\'}}]}, {\\'{urn:hl7-org:v3}td\\': [{\\'{urn:hl7-org:v3}content\\': {\\'text\\': \\'Заключение\\'}}, {\\'{urn:hl7-org:v3}content\\': {\\'text\\': \\'ЗАКЛЮЧЕНИЕ  : \\\\n17.10.23 07:00 РАО 2\\\\nСИНУСОВАЯ БРАДИКАРДИЯ С ЧСС 52, ЭОС РАСПОЛОЖЕНА ГОРИЗОНТАЛЬНО. \\\\nПРИРОСТ З. R В ОТВ. V1-V2 АДЕКВАТНЫЙ.\\\\nНАРУШЕНИЕ ПРОЦЕССОВ РЕПОЛЯРИЗАЦИИ  ПЕРЕДНЕ - ПЕРЕГОРОДОЧНОЙ ОБЛАСТИ, ВЫСОКИХ БОКОВЫХ ОТДЕЛОВ В ВИДЕ УПЛОЩЕНИЯ З. Т В ПРАВЫХ ГРУДНЫХ ОТВЕДЕНИЯХ И СЛАБО - ОТРИЦАТЕЛЬНЫХ З. Т В ВЫСОКИХ БОКОВЫХ ОТВЕДЕНИЯХ. \\\\nПОЛИФАЗНОСТЬ К. QRS В НИЖНИХ ОТВЕДЕНИЯХ. \\\\nСДВИГ ПЕРЕХОДНОЙ ЗОНЫ ВЛЕВО. \\\\nНАЛОЖЕНИЕ ПРАВЫХ ГРУДНЫХ ЭЛЕКТРОДОВ НЕ СООТВЕТСТВУЕТ ИХ УСТАНОВКЕ НА ПРЕДЫДУЩЕЙ ЭКГ.\\'}}]}, {\\'{urn:hl7-org:v3}td\\': [{\\'{urn:hl7-org:v3}content\\': {\\'text\\': \\'Выявленная патология\\'}}, {\\'{urn:hl7-org:v3}content\\': {}}]}, {\\'{urn:hl7-org:v3}td\\': [{\\'{urn:hl7-org:v3}content\\': {\\'text\\': \\'Диагноз\\'}}, {\\'{urn:hl7-org:v3}content\\': {\\'text\\': \\'I21.4 Острый субэндокардиальный инфаркт миокарда\\'}}]}, {\\'{urn:hl7-org:v3}td\\': [{\\'{urn:hl7-org:v3}content\\': {\\'text\\': \\'Услуги\\'}}, {\\'{urn:hl7-org:v3}content\\': {\\'text\\': \\'Регистрация электрокардиограммы (A05.10.006)\\'}}]}, {\\'{urn:hl7-org:v3}td\\': [{\\'{urn:hl7-org:v3}content\\': {\\'text\\': \\'Врач\\'}}, {\\'{urn:hl7-org:v3}content\\': {\\'text\\': \\'!!!!!!!!!!!!! !!!!!!!!!!!!! !!!!!!!!!!!!! (Врач функциональной диагностики)\\'}}]}]}, \\'width\\': \\'100%\\'}}, \\'Электрокардиография (20.10.2023 14:07)\\': {\\'{urn:hl7-org:v3}table\\': {\\'{urn:hl7-org:v3}col\\': [{\\'width\\': \\'12%\\'}, {\\'width\\': \\'88%\\'}], \\'{urn:hl7-org:v3}tbody\\': {\\'{urn:hl7-org:v3}tr\\': [{\\'{urn:hl7-org:v3}td\\': [{\\'{urn:hl7-org:v3}content\\': {\\'text\\': \\'Эффективная доза\\'}}, {\\'{urn:hl7-org:v3}content\\': {}}]}, {\\'{urn:hl7-org:v3}td\\': [{\\'{urn:hl7-org:v3}content\\': {\\'text\\': \\'Протокол\\'}}, {\\'{urn:hl7-org:v3}content\\': {\\'text\\': \\'БЮДЖЕТНОЕ УЧРЕЖДЕНИЕ ХМАО-ЮГРЫ \"! \\\\n\"\"\\\\n!\\\\n\\\\nПРОТОКОЛ ОБСЛЕДОВАНИЯ № !!!!!!!!!!!!!\\\\n\\\\n\\\\nФ.И.О.: А Л Н\\\\nВОЗРАСТ (ДАТА РОЖДЕНИЯ): 76 ( 01.01.1698!)\\\\nПРЕДВАРИТЕЛЬНЫЙ ДИАГНОЗ: \\\\n19.10.2023Г  12:43 \\\\n ЗАКЛЮЧЕНИЕ  : \\\\nСИНУСОВАЯ БРАДИКАРДИЯ С ЧСС 54 В МИН. ЭОС ГОРИЗОНТАЛЬНАЯ \\\\nУГЛУБЛЕНЫ З. Q В III ОТВ. \\\\nНАРУШЕНИЕ ПРОЦЕССОВ РЕПОЛЯРИЗАЦИИ ПЕРЕДНЕ-ПЕРЕГОРОДОЧНОЙ, АПИКАЛЬНОЙ ОБЛАСТИ, ВЫСОКИХ БОКОВЫХ ОТДЕЛОВ \\\\nНЕ ИСКЛЮЧАЕТСЯ ГИПЕРТРОФИЯ ЛЖ; ПРИЗНАКИ НАГРУЗКИ НА ЛЕВОЕ ПРЕДСЕРДИЕ\\'}}]}, {\\'{urn:hl7-org:v3}td\\': [{\\'{urn:hl7-org:v3}content\\': {\\'text\\': \\'Заключение\\'}}, {\\'{urn:hl7-org:v3}content\\': {\\'text\\': \\'ЗАКЛЮЧЕНИЕ  : \\\\nСИНУСОВАЯ БРАДИКАРДИЯ С ЧСС 54 В МИН. ЭОС ГОРИЗОНТАЛЬНАЯ \\\\nУГЛУБЛЕНЫ З. Q В III ОТВ. \\\\nНАРУШЕНИЕ ПРОЦЕССОВ РЕПОЛЯРИЗАЦИИ ПЕРЕДНЕ-ПЕРЕГОРОДОЧНОЙ, АПИКАЛЬНОЙ ОБЛАСТИ, ВЫСОКИХ БОКОВЫХ ОТДЕЛОВ \\\\nНЕ ИСКЛЮЧАЕТСЯ ГИПЕРТРОФИЯ ЛЖ; ПРИЗНАКИ НАГРУЗКИ НА ЛЕВОЕ ПРЕДСЕРДИЕ\\'}}]}, {\\'{urn:hl7-org:v3}td\\': [{\\'{urn:hl7-org:v3}content\\': {\\'text\\': \\'Выявленная патология\\'}}, {\\'{urn:hl7-org:v3}content\\': {}}]}, {\\'{urn:hl7-org:v3}td\\': [{\\'{urn:hl7-org:v3}content\\': {\\'text\\': \\'Диагноз\\'}}, {\\'{urn:hl7-org:v3}content\\': {\\'text\\': \\'I21.4 Острый субэндокардиальный инфаркт миокарда\\'}}]}, {\\'{urn:hl7-org:v3}td\\': [{\\'{urn:hl7-org:v3}content\\': {\\'text\\': \\'Услуги\\'}}, {\\'{urn:hl7-org:v3}content\\': {\\'text\\': \\'Регистрация электрокардиограммы (A05.10.006)\\'}}]}, {\\'{urn:hl7-org:v3}td\\': [{\\'{urn:hl7-org:v3}content\\': {\\'text\\': \\'Врач\\'}}, {\\'{urn:hl7-org:v3}content\\': {\\'text\\': \\'!!!!!!!!!!!!! !!!!!!!!!!!!! !!!!!!!!!!!!! (Врач функциональной диагностики)\\'}}]}]}, \\'width\\': \\'100%\\'}}, \\'Эндоскопическое исследование верхних отделов желудочно-кишечного тракта (21.10.2023 08:12)\\': {\\'{urn:hl7-org:v3}table\\': {\\'{urn:hl7-org:v3}col\\': [{\\'width\\': \\'12%\\'}, {\\'width\\': \\'88%\\'}], \\'{urn:hl7-org:v3}tbody\\': {\\'{urn:hl7-org:v3}tr\\': [{\\'{urn:hl7-org:v3}td\\': [{\\'{urn:hl7-org:v3}content\\': {\\'text\\': \\'Эффективная доза\\'}}, {\\'{urn:hl7-org:v3}content\\': {}}]}, {\\'{urn:hl7-org:v3}td\\': [{\\'{urn:hl7-org:v3}content\\': {\\'text\\': \\'Протокол\\'}}, {\\'{urn:hl7-org:v3}content\\': {\\'text\\': \\'БЮДЖЕТНОЕ УЧРЕЖДЕНИЕ ХМАО-ЮГРЫ \"! \\\\n\"\"\\\\n!,\\\\xa0\\\\xa0\\\\xa0\\\\xa0\\\\xa0\\\\nПРОТОКОЛ ОБСЛЕДОВАНИЯ № !!!!!!!!!!!!!\\\\n\\\\nНАПРАВИВШЕЕ ЛПУ: <КО№2>\\\\nВРАЧ НАПРАВИВШЕГО ЛПУ:!!!!!!!!!!!!!\\\\nФ.И.О.: А Л Н ВОЗРАСТ (ДАТА РОЖДЕНИЯ): 76 ( 01.01.1698!)\\\\nЭНДОСКОП ИК  EG-2990K H 122308 \\\\nСО СЛОВ ПАЦИЕНТА (КИ) АЛЛЕРГИЯ НА АНЕСТЕТИКИ НЕТ. ИССЛЕДОВАНИЕ ВЫПОЛНЕНО ПОД МЕСТНОЙ АНЕСТЕЗИЕЙ 10% СПРЕЙ ЛИДОКАИН.\\\\n ПОД ВИЗУАЛЬНЫМ КОНТРОЛЕМ ВВЕДЕН ВИДЕОГАСТРОСКОП (EG-2990K H 122308 ) В ПИЩЕВОД: ПРОСВЕТ ПИЩЕВОДА НЕ ДЕФОРМИРОВАН, ПЕРИСТАЛЬТИКА ПРОСЛЕЖИВАЕТСЯ ПО ВСЕМ СТЕНКАМ. СЛИЗИСТАЯ БЛЕДНО-РОЗОВАЯ, ГЛАДКАЯ, БЛЕСТЯЩАЯ. СОСУДИСТЫЙ РИСУНОК НЕ ИЗМЕНЕН. КАРДИЯ СМЫКАЕТСЯ НЕ ПОЛНОСТЬЮ. Z ЛИНИЯ РАСПОЛОЖЕНА НА РАССТОЯНИИ 36 СМ ОТ РЕЗЦОВ, НА УРОВНЕ ДИАФРАГМАЛЬНОГО СУЖЕНИЯ, КОНТУР ЧЕТКИЙ. \\\\nЖЕЛУДОК: В ЖЕЛУДКЕ УМЕРЕННОЕ КОЛИЧЕСТВО ПРОЗРАЧНОЙ ЖИДКОСТИ. СКЛАДКИ СРЕДНЕЙ ВЕЛИЧИНЫ, ЭЛАСТИЧНЫЕ, ХОРОШО РАСПРАВЛЯЮТСЯ ВОЗДУХОМ. СОСУДЫ ПОДСЛИЗИСТОГО СЛОЯ ВИДНЫ В ОБЛАСТИ ДНА. ПЕРИСТАЛЬТИКА ПРОСЛЕЖИВАЕТСЯ ВО ВСЕХ ОТДЕЛА, СИММЕТРИЧНА. СЛИЗИСТАЯ ОБОЛОЧКА В АНТРАЛЬНОМ И Н/3 ТЕЛА ЖЕЛУДКА ОЧАГОВО ЯРКО ГИПЕРЕМИРОВАНА, ОТЕЧНА. ДЕФЕКТОВ СЛИЗИСТОЙ НЕТ. ПРИВРАТНИК ЦЕНТРАЛЬНО РАСПОЛОЖЕН, ФУНКЦИЯ ЕГО СОХРАНЕНА. 9ММ АППАРТОМ СВОБОДНО ПРОХОДИМА.\\\\nДВЕНАДЦАТИПЕРСТНАЯ КИШКА: ЛУКОВИЦА ДВЕНАДЦАТИПЕРСТНОЙ КИШКИ ОБЫЧНОЙ ФОРМЫ, СЛИЗИСТАЯ ОБОЛОЧКА ЕЕ УМЕРЕНО ОТЕЧНА, ГИПЕРЕМИРОВАНА, ДЕФЕКТОВ СЛИЗИСТОЙ НЕТ. СКЛАДКИ НЕВЫСОКИЕ, СЛИЗИСТАЯ ОБОЛОЧКА РОЗОВАЯ, БАРХАТИСТАЯ. ПОСТБУЛЬБАРНЫЙ ОТДЕЛ СЛИЗИСТАЯ ОБОЛОЧКА ЕЕ УМЕРЕНО ОТЕЧНА, ГИПЕРЕМИРОВАНА, БДС В ТИПИЧНОМ МЕСТЕ НЕ ИЗМЕНЕН. В ДПК СВЕТЛАЯ ЖЕЛЧЬ\\\\n ЗАКЛЮЧЕНИЕ  : \\\\nПОВЕРХНОСТНЫЙ ГАСТРОДУОДЕНИТ.\\'}}]}, {\\'{urn:hl7-org:v3}td\\': [{\\'{urn:hl7-org:v3}content\\': {\\'text\\': \\'Заключение\\'}}, {\\'{urn:hl7-org:v3}content\\': {\\'text\\': \\'ЗАКЛЮЧЕНИЕ  : \\\\nПОВЕРХНОСТНЫЙ ГАСТРОДУОДЕНИТ.\\'}}]}, {\\'{urn:hl7-org:v3}td\\': [{\\'{urn:hl7-org:v3}content\\': {\\'text\\': \\'Выявленная патология\\'}}, {\\'{urn:hl7-org:v3}content\\': {}}]}, {\\'{urn:hl7-org:v3}td\\': [{\\'{urn:hl7-org:v3}content\\': {\\'text\\': \\'Диагноз\\'}}, {\\'{urn:hl7-org:v3}content\\': {\\'text\\': \\'I21.4 Острый субэндокардиальный инфаркт миокарда\\'}}]}, {\\'{urn:hl7-org:v3}td\\': [{\\'{urn:hl7-org:v3}content\\': {\\'text\\': \\'Услуги\\'}}, {\\'{urn:hl7-org:v3}content\\': {\\'text\\': \\'Эзофагогастродуоденоскопия (A03.16.001)\\'}}]}, {\\'{urn:hl7-org:v3}td\\': [{\\'{urn:hl7-org:v3}content\\': {\\'text\\': \\'Врач\\'}}, {\\'{urn:hl7-org:v3}content\\': {\\'text\\': \\'!!!!!!!!!!!!! !!!!!!!!!!!!! ! (Врач-эндоскопист)\\'}}]}]}, \\'width\\': \\'100%\\'}}, \\'Компьютерная томография головного мозга (23.10.2023 13:20)\\': {\\'{urn:hl7-org:v3}table\\': {\\'{urn:hl7-org:v3}col\\': [{\\'width\\': \\'12%\\'}, {\\'width\\': \\'88%\\'}], \\'{urn:hl7-org:v3}tbody\\': {\\'{urn:hl7-org:v3}tr\\': [{\\'{urn:hl7-org:v3}td\\': [{\\'{urn:hl7-org:v3}content\\': {\\'text\\': \\'Эффективная доза\\'}}, {\\'{urn:hl7-org:v3}content\\': {}}]}, {\\'{urn:hl7-org:v3}td\\': [{\\'{urn:hl7-org:v3}content\\': {\\'text\\': \\'Протокол\\'}}, {\\'{urn:hl7-org:v3}content\\': {\\'text\\': \\'НА СЕРИИ ТОМОГРАММ ПОЛУЧЕНЫ ИЗОБРАЖЕНИЯ СУБ- И СУПРАТЕНТОРИАЛЬНЫХ ОТДЕЛОВ ГОЛОВНОГО МОЗГА.\\\\nДИФФЕРЕНЦИРОВКА СЕРОГО И БЕЛОГО ВЕЩЕСТВА НЕ НАРУШЕНА.\\\\nСУБАРАХНОИДАЛЬНОЕ ПРОСТРАНСТВО ПО КОНВЕКСИТАЛЬНОЙ ПОВЕРХНОСТИ ГОЛОВНОГО МОЗГА НЕ РАСШИРЕНО, МОЗГОВЫЕ ИЗВИЛИНЫ В ЛОБНЫХ,ТЕМЕННЫХ ДОЛЯХ УГЛУБЛЕНЫ,УМЕРЕННО РАСШИРЕНЫ.\\\\nСРЕДИННЫЕ СТРУКТУРЫ НЕ СМЕЩЕНЫ.\\\\nСИЛЬВИЕВЫ ЩЕЛИ СИММЕТРИЧНЫ,РАСШИРЕНЫ.\\\\nОБЛАСТЬ ТУРЕЦКОГО СЕДЛА БЕЗ ВИДИМЫХ ПАТОЛОГИЧЕСКИХ ИЗМЕНЕНИЙ.\\\\nБОКОВЫЕ ЖЕЛУДОЧКИ МОЗГА СЛЕГКА АСИММЕТРИЧНЫ, РАСШИРЕНЫ: ПЕРЕДНИЕ РОГА D=S 12 ММ,\\\\nIII-ЖЕЛУДОЧЕК ДО 14 ММ,IV-ЖЕЛУДОЧЕК НЕ ИЗМЕНЕН.\\\\nДОПОЛНИТЕЛЬНЫХ ОБРАЗОВАНИЙ В ОБЛАСТИ МОСТО-МОЗЖЕЧКОВЫХ УГЛОВ НЕ ВЫЯВЛЕНО.\\\\nМИНДАЛИНЫ МОЗЖЕЧКА НА УРОВНЕ БОЛЬШОГО ЗАТЫЛОЧНОГО ОТВЕРСТИЯ.\\\\nКРАНИОВЕРТЕБРАЛЬНЫЙ ПЕРЕХОД НЕ ИЗМЕНЕН.\\\\nВ ПРОЕКЦИИ СТЕНОК ВНУТРЕННИХ СОННЫХ АРТЕРИЙ НА УРОВНЕ СИФОНА ВИЗУАЛИЗИРУЮТСЯ  ОЧАГИ КАЛЬЦИНОЗА.\\\\nВИДИМЫЙ СЕГМЕНТ ПРАВОЙ ВЕРТЕБРАЛЬНОЙ АРТЕРИИ БОЛЬШЕ ОТНОСИТЕЛЬНО ЛЕВОЙ.\\\\nОПРЕДЕЛЯЕТСЯ ГИПЕРОСТОЗ ВНУТРЕННЕЙ ПЛАСТИНКИ ЛОБНОЙ КОСТИ ТОЛЩИНОЙ ДО 6,5ММ.\\\\n\\\\n\\\\nДОПОЛНИТЕЛЬНО: НЕ ИСКЛЮЧИТЬ ДОПОЛНИТЕЛЬНЫЕ ПРИСТЕНОЧНЫЕ ОБРАЗОВАНИЯ - КИСТЫ? ПОЛИПЫ? ПРИЗНАКИ РИНИТА,БОЛЬШЕ СПРАВА.\\\\n\\\\n\\\\nДАННОЕ ЗАКЛЮЧЕНИЕ НЕ ЯВЛЯЕТСЯ ДИАГНОЗОМ\\\\nДИАГНОЗ УСТАНАВЛИВАЕТ ЛЕЧАЩИЙ ВРАЧ\\\\nЗАКЛЮЧЕНИЕ:МСКТ-ПРИЗНАКИ СУБАТРОФИЧЕСКИХ ИЗМЕНЕНИЙ ГОЛОВНОГО МОЗГА,С ЗАМЕСТИТЕЛЬНЫМ РАСШИРЕНИЕМ ЛИКВОРНЫХ ПРОСТРАНСТВ.\\\\nМСКТ-ПРИЗНАКИ АТЕРОСКЛЕРОТИЧЕСКОГО ПОРАЖЕНИЯ ИНТРАКРАНИАЛЬНЫХ СОСУДОВ.\\'}}]}, {\\'{urn:hl7-org:v3}td\\': [{\\'{urn:hl7-org:v3}content\\': {\\'text\\': \\'Заключение\\'}}, {\\'{urn:hl7-org:v3}content\\': {\\'text\\': \\'МСКТ-признаки субатрофических изменений головного мозга,с заместительным расширением ликворных пространств.\\\\nМСКТ-признаки атеросклеротического поражения интракраниальных сосудов.\\'}}]}, {\\'{urn:hl7-org:v3}td\\': [{\\'{urn:hl7-org:v3}content\\': {\\'text\\': \\'Выявленная патология\\'}}, {\\'{urn:hl7-org:v3}content\\': {}}]}, {\\'{urn:hl7-org:v3}td\\': [{\\'{urn:hl7-org:v3}content\\': {\\'text\\': \\'Диагноз\\'}}, {\\'{urn:hl7-org:v3}content\\': {\\'text\\': \\'I21.4 Острый субэндокардиальный инфаркт миокарда\\'}}]}, {\\'{urn:hl7-org:v3}td\\': [{\\'{urn:hl7-org:v3}content\\': {\\'text\\': \\'Услуги\\'}}, {\\'{urn:hl7-org:v3}content\\': {\\'text\\': \\'Компьютерная томография головного мозга (A06.23.004)\\'}}]}, {\\'{urn:hl7-org:v3}td\\': [{\\'{urn:hl7-org:v3}content\\': {\\'text\\': \\'Врач\\'}}, {\\'{urn:hl7-org:v3}content\\': {\\'text\\': \\'!!!!!!!!!!!!! !!!!!!!!!!!!! !!!!!!!!!!!!! (Врач-рентгенолог)\\'}}]}]}, \\'width\\': \\'100%\\'}}, \\'Ультразвуковое исследование экстракраниального отдела брахиоцефальных артерий с функциональными пробами (25.10.2023 16:44)\\': {\\'{urn:hl7-org:v3}table\\': {\\'{urn:hl7-org:v3}col\\': [{\\'width\\': \\'12%\\'}, {\\'width\\': \\'88%\\'}], \\'{urn:hl7-org:v3}tbody\\': {\\'{urn:hl7-org:v3}tr\\': [{\\'{urn:hl7-org:v3}td\\': [{\\'{urn:hl7-org:v3}content\\': {\\'text\\': \\'Эффективная доза\\'}}, {\\'{urn:hl7-org:v3}content\\': {}}]}, {\\'{urn:hl7-org:v3}td\\': [{\\'{urn:hl7-org:v3}content\\': {\\'text\\': \\'Протокол\\'}}, {\\'{urn:hl7-org:v3}content\\': {\\'text\\': \\'БЮДЖЕТНОЕ УЧРЕЖДЕНИЕ ХМАО-ЮГРЫ \"! \\\\n\"\"\\\\n!\\\\nПРОТОКОЛ ОБСЛЕДОВАНИЯ № !!!!!!!!!!!!!\\\\n\\\\nПАЦИЕНТ: А Л Н\\\\nВОЗРАСТ: 76\\\\nПОДКЛЮЧИЧНЫЕ АРТЕРИИ:\\\\nКОНТУРЫ СОСУДИСТОЙ СТЕНКИ: РОВНЫЕ, ЧЕТКИЕ  \\\\nИНТИМА:  УТОЛЩЕНА \\\\nШИРИНА СОСУДА: (ДИАМЕТР ММ)   \\\\n  D:   11 \\\\n S:   7,0 \\\\nТИП КРОВОТОКА:  МАГИСТРАЛЬНЫЙ \\\\nСКОРОСТНЫЕ ПОКАЗАТЕЛИ КРОВОТОКА (М/С): \\\\n  D:   0,5  \\\\n S:   1,2 \\\\nАТЕРОСКЛЕРОТИЧЕСКАЯ БЛЯШКА  В БАССЕЙНЕ   , СУЖИВАЮЩАЯ ПРОСВЕТ НА % \\\\nОБЩИЕ СОННЫЕ АРТЕРИИ:\\\\nКОНТУРЫ СОСУДИСТОЙ СТЕНКИ: РОВНЫЕ, ЧЕТКИЕ \\\\nИНТИМА:   УТОЛЩЕНА \\\\nШИРИНА СОСУДА: (ДИАМЕТР ММ) \\\\n  D:  8,7  \\\\nS:  8,0 \\\\nТИП КРОВОТОКА:  МАГИСТРАЛЬНЫЙ \\\\nСКОРОСТНЫЕ ПОКАЗАТЕЛИ КРОВОТОКА (М/С): \\\\n  D:  0,6 \\\\nS:  0,5 \\\\nАТЕРОСКЛЕРОТИЧЕСКАЯ БЛЯШКА ПО ПЕРЕДНЕЙ И ЗАДНЕЙ СТЕНКАМ, ПОЛУКОНЦЕНТРИЧЕСКАЯ  В БИФУРКАЦИИ ПОСА   , СУЖИВАЮЩАЯ ПРОСВЕТ ДО 33-35% %  \\\\nВНУТРЕННИЕ СОННЫЕ АРТЕРИИ:\\\\nКОНТУРЫ СОСУДИСТОЙ СТЕНКИ:  РОВНЫЕ, ЧЕТКИЕ \\\\nИНТИМА:  УТОЛЩЕНА \\\\nШИРИНА СОСУДА: (ДИАМЕТР ММ) \\\\n  D:  6,0  \\\\nS:  5,5 \\\\nТИП КРОВОТОКА:  МАГИСТРАЛЬНЫЙ \\\\nСКОРОСТНЫЕ ПОКАЗАТЕЛИ КРОВОТОКА (М/С): \\\\n  D:  0,5  \\\\nS:  0,35 \\\\nАТЕРОСКЛЕРОТИЧЕСКИЕ БЛЯШКИ ЛОКАЛЬНЫЕ  В УСТЬЕ ОБЕИХ ВСА  ПО ПЕРЕДНЕЙ И ЗАДНЕЙ СТЕНКАМ, СУЖИВАЮЩИЕ ПРОСВЕТ ДО 20 _% \\\\nПОЗВОНОЧНЫЕ АРТЕРИИ:\\\\nУСТЬЕ ПОЗВОНОЧНОЙ АРТЕРИИ: НЕ ВИЗУАЛИЗИРУЮТСЯ  СПРАВА И СЛЕВА \\\\nКОНТУРЫ СОСУДИСТОЙ СТЕНКИ:  РОВНЫЕ, ЧЕТКИЕ \\\\nДИАМЕТР, ММ: \\\\n  D:  4,2  \\\\n  S: 4,0\\\\nСКОРОСТНЫЕ ПОКАЗАТЕЛИ КРОВОТОКА (СМ/С): \\\\nВ СЕГМЕНТЕ V1 \\\\n  D:  44  \\\\n  S: НЕ ЛОЦИР\\\\nВ СЕГМЕНТЕ V2 \\\\n  D:  33  \\\\n  S:  44 \\\\n\\\\n ЗАКЛЮЧЕНИЕ  : \\\\n  ВИЗУАЛИЗАЦИЯ СНИЖЕНА.\\\\n УЗ ПРИЗНАКИ ГЕМОДИНАМИЧЕСКИ  НЕЗНАЧИМЫХ АТЕРОСКЛЕРОТИЧЕСКИХ ИЗМЕНЕНИЙ ПО АРТЕРИЯМ КАРОТИДНОГО БАССЕЙНА\\\\nУЗ ПРИЗНАКИ ГЕМОДИНАМИЧЕСКИ НЕЗНАЧИМОЙ \"S\" - ОБРАЗНОЙ ИЗВИТОСТИ\\\\nУЗ ПРИЗНАКИ ГЕМОДИНАМИЧЕСКИ НЕЗНАЧИМОЙ \"С\" ОБРАЗНОЙ ИЗВИТОСТИ ЛВСА, ППКА.\\'}}]}, {\\'{urn:hl7-org:v3}td\\': [{\\'{urn:hl7-org:v3}content\\': {\\'text\\': \\'Заключение\\'}}, {\\'{urn:hl7-org:v3}content\\': {\\'text\\': \\'ЗАКЛЮЧЕНИЕ  : \\\\n  ВИЗУАЛИЗАЦИЯ СНИЖЕНА.\\\\n УЗ ПРИЗНАКИ ГЕМОДИНАМИЧЕСКИ  НЕЗНАЧИМЫХ АТЕРОСКЛЕРОТИЧЕСКИХ ИЗМЕНЕНИЙ ПО АРТЕРИЯМ КАРОТИДНОГО БАССЕЙНА\\\\nУЗ ПРИЗНАКИ ГЕМОДИНАМИЧЕСКИ НЕЗНАЧИМОЙ \"S\" - ОБРАЗНОЙ ИЗВИТОСТИ\\\\nУЗ ПРИЗНАКИ ГЕМОДИНАМИЧЕСКИ НЕЗНАЧИМОЙ \"С\" ОБРАЗНОЙ ИЗВИТОСТИ ЛВСА, ППКА.\\'}}]}, {\\'{urn:hl7-org:v3}td\\': [{\\'{urn:hl7-org:v3}content\\': {\\'text\\': \\'Выявленная патология\\'}}, {\\'{urn:hl7-org:v3}content\\': {}}]}, {\\'{urn:hl7-org:v3}td\\': [{\\'{urn:hl7-org:v3}content\\': {\\'text\\': \\'Диагноз\\'}}, {\\'{urn:hl7-org:v3}content\\': {\\'text\\': \\'I21.4 Острый субэндокардиальный инфаркт миокарда\\'}}]}, {\\'{urn:hl7-org:v3}td\\': [{\\'{urn:hl7-org:v3}content\\': {\\'text\\': \\'Услуги\\'}}, {\\'{urn:hl7-org:v3}content\\': {\\'text\\': \\'Дуплексное сканирование брахиоцефальных артерий с цветным допплеровским картированием кровотока (A04.12.005.003)\\'}}]}, {\\'{urn:hl7-org:v3}td\\': [{\\'{urn:hl7-org:v3}content\\': {\\'text\\': \\'Врач\\'}}, {\\'{urn:hl7-org:v3}content\\': {\\'text\\': \\'!!!!!!!!!!!!! !!!!!!!!!!!!! !!!!!!!!!!!!!на (Врач ультразвуковой диагностики)\\'}}]}]}, \\'width\\': \\'100%\\'}}, \\'Электрокардиография (26.10.2023 15:39)\\': {\\'{urn:hl7-org:v3}table\\': {\\'{urn:hl7-org:v3}col\\': [{\\'width\\': \\'12%\\'}, {\\'width\\': \\'88%\\'}], \\'{urn:hl7-org:v3}tbody\\': {\\'{urn:hl7-org:v3}tr\\': [{\\'{urn:hl7-org:v3}td\\': [{\\'{urn:hl7-org:v3}content\\': {\\'text\\': \\'Эффективная доза\\'}}, {\\'{urn:hl7-org:v3}content\\': {}}]}, {\\'{urn:hl7-org:v3}td\\': [{\\'{urn:hl7-org:v3}content\\': {\\'text\\': \\'Протокол\\'}}, {\\'{urn:hl7-org:v3}content\\': {\\'text\\': \\'БЮДЖЕТНОЕ УЧРЕЖДЕНИЕ ХМАО-ЮГРЫ \"! \\\\n\"\"\\\\n!\\\\n\\\\nПРОТОКОЛ ОБСЛЕДОВАНИЯ № !!!!!!!!!!!!!\\\\n\\\\n\\\\nФ.И.О.: А Л Н\\\\nВОЗРАСТ (ДАТА РОЖДЕНИЯ): 76 ( 01.01.1698!)\\\\nПРЕДВАРИТЕЛЬНЫЙ ДИАГНОЗ: \\\\n\\\\n ЗАКЛЮЧЕНИЕ  : \\\\n23.10.2023 12:1 КО-2\\\\nРИТМ СИНУСОВЫЙ С ЧСС 70 В МИНУТУ. \\\\nЭОС ОТКЛОНЕНА ВЛЕВО.\\\\nНАРУШЕНИЕ ПРОЦЕССОВ РЕПОЛЯРИЗАЦИИ ВЫСОКО БОКОВОЙ СТЕНКИ.\\\\nПОЛИФАЗНОСТЬ QRS В НИЖНИХ ОТВЕДЕНИЯХ.\\'}}]}, {\\'{urn:hl7-org:v3}td\\': [{\\'{urn:hl7-org:v3}content\\': {\\'text\\': \\'Заключение\\'}}, {\\'{urn:hl7-org:v3}content\\': {\\'text\\': \\'ЗАКЛЮЧЕНИЕ  : \\\\n23.10.2023 12:1 КО-2\\\\nРИТМ СИНУСОВЫЙ С ЧСС 70 В МИНУТУ. \\\\nЭОС ОТКЛОНЕНА ВЛЕВО.\\\\nНАРУШЕНИЕ ПРОЦЕССОВ РЕПОЛЯРИЗАЦИИ ВЫСОКО БОКОВОЙ СТЕНКИ.\\\\nПОЛИФАЗНОСТЬ QRS В НИЖНИХ ОТВЕДЕНИЯХ.\\'}}]}, {\\'{urn:hl7-org:v3}td\\': [{\\'{urn:hl7-org:v3}content\\': {\\'text\\': \\'Выявленная патология\\'}}, {\\'{urn:hl7-org:v3}content\\': {}}]}, {\\'{urn:hl7-org:v3}td\\': [{\\'{urn:hl7-org:v3}content\\': {\\'text\\': \\'Диагноз\\'}}, {\\'{urn:hl7-org:v3}content\\': {\\'text\\': \\'I21.4 Острый субэндокардиальный инфаркт миокарда\\'}}]}, {\\'{urn:hl7-org:v3}td\\': [{\\'{urn:hl7-org:v3}content\\': {\\'text\\': \\'Услуги\\'}}, {\\'{urn:hl7-org:v3}content\\': {\\'text\\': \\'Регистрация электрокардиограммы (A05.10.006)\\'}}]}, {\\'{urn:hl7-org:v3}td\\': [{\\'{urn:hl7-org:v3}content\\': {\\'text\\': \\'Врач\\'}}, {\\'{urn:hl7-org:v3}content\\': {\\'text\\': \\'!!!!!!!!!!!!! !!!!!!!!!!!!! !!!!!!!!!!!!! (Врач функциональной диагностики)\\'}}]}]}, \\'width\\': \\'100%\\'}}}, \\'Сведения о пребывании пациента в Отделение анестезиологии-реанимации с палатами реанимации и интенсивной терапии №2\\': {\\'Прием (осмотр, консультация) врача по медицинской профилактике первичный (17.10.2023 11:07)\\': {\\'{urn:hl7-org:v3}table\\': {\\'{urn:hl7-org:v3}col\\': [{\\'width\\': \\'12%\\'}, {\\'width\\': \\'88%\\'}], \\'{urn:hl7-org:v3}tbody\\': {\\'{urn:hl7-org:v3}tr\\': [{\\'{urn:hl7-org:v3}td\\': [{\\'{urn:hl7-org:v3}content\\': {\\'text\\': \\'Объективно\\'}}, {\\'{urn:hl7-org:v3}content\\': {\\'text\\': \\'\"\"\\\\n\"\"\\\\n!\\\\nПЕРВИЧНЫЙ ОСМОТР ВРАЧА ОРМЕДР\\\\nФ.И.О.:  А Л Н\\\\nВОЗРАСТ (ДАТА РОЖДЕНИЯ): 76 ( 01.01.1698!)\\\\nНАПРАВЛЕН: КО №2\\\\nЖАЛОБЫ НА ОБЩУЮ СЛАБОСТЬ. \\\\nАНАМНЕЗ ЗАБОЛЕВАНИЯ \\\\nС АНАМНЕЗОМ ЖИЗНИ И ЗАБОЛЕВАНИЯ ОЗНАКОМЛЕН(А). ФИЗИЧЕСКАЯ АКТИВНОСТЬ ДО ГОСПИТАЛИЗАЦИИ НА БЫТОВОМ УРОВНЕ. \\\\nЗАНЯТИЯ ФИЗИЧЕСКИМИ ТРЕНИРОВКАМИ ДО ГОСПИТАЛИЗАЦИИ ОТСУТСТВУЮТ. \\\\nПО РЕШЕНИЮ КОНСИЛИУМА ОТ 16.10.23Г. ПЛАНИРУЕТСЯ ОПЕРАТИВНОЕ ЛЕЧЕНИЕ В ОБЪЕМЕ АКШ С ПРОТЕЗИРОВАНИЕМ ВОСХОДЯЩЕГО ОТДЕЛА АОРТЫ В ОТСРОЧЕНОМ ПОРЯДКЕ.\\\\nОБЪЕКТИВНЫЙ СТАТУС: РОСТ 160 ВЕС 91 ИМТ 36 КГ/СМ2 СОСТОЯНИЕ ТЯЖЁЛОЕ, СТАБИЛЬНОЕ. СОЗНАНИЕ ЯСНОЕ. КОЖНЫЕ ПОКРОВЫ ФИЗИОЛОГИЧНОЙ ОКРАСКИ, ТЁПЛЫЕ, ФИЗИОЛОГИЧНОЙ ВЛАЖНОСТИ. T= 36,5 СО. ОПОРНО-ДВИГАТЕЛЬНЫЙ АППАРАТ: БЕЗ ВИДИМОЙ ПАТОЛОГИИ, СИЛА В КОНЕЧНОЯТЯХ УДОВЛЕТВОРИТЕЛЬНАЯ, АМПЛИТУДА ДВИЖЕНИЙ В СУСТАВАХ ПОЛНАЯ, ДОСТАТОЧНАЯ. В ЛЕГКИХ ДЫХАНИЕ ПРОВОДИТСЯ ПО ВСЕМ ПОЛЯМ БЕЗ ОСЛАБЛЕНИЙ, ВЕЗИКУЛЯРНОЕ, ХРИПЫ НЕ ВЫСЛУШИВАЮТСЯ, ЧД = 15 В МИН. SPO2=96% НА АТМОСФЕРНОМ О2. ГЕМОДИНАМИКА СТАБИЛЬНАЯ, БЕЗ ИНОТРОПНОЙ ПОДДЕРЖКИ. АД = 132/80 ММHG. ЧСС 60 В МИН. РИТМ ПРАВИЛЬНЫЙ. ПЕЧЕНЬ НЕ УВЕЛИЧЕННАЯ. ЖИВОТ НЕ ВЗДУТ, МЯГКИЙ, БЕЗБОЛЕЗНЕННЫЙ ПРИ ПАЛЬПАЦИИ, ПЕРИСТАЛЬТИКА ВЫСЛУШИВАЕТСЯ. ПЕРИТОНЕАЛЬНЫЕ СИМПТОМЫ ОТРИЦАТЕЛЬНЫЕ. ДИУРЕЗ СОХРАНЕН, ТЕМП МОЧЕОТДЕЛЕНИЯ ДОСТАТОЧНЫЙ. ОТЁКОВ НЕТ. \\\\n\\\\nРЕЗУЛЬТАТЫ СПЕЦИАЛЬНЫХ МЕТОДОВ ИССЛЕДОВАНИЯ: 16.10.2023 13:55:00   ИССЛЕДОВАНИЕ УРОВНЯ ТРОПОНИНА T В КРОВИ: ИССЛЕДОВАНИЕ УРОВНЯ ТРОПОНИНА T В КРОВИ - 710.6 PG/ML;\\\\n16.10.2023 14:15:00   ИССЛЕДОВАНИЕ УРОВНЯ ХОЛЕСТЕРИНА В КРОВИ:  - 7.81 MMOL/L;ИССЛЕДОВАНИЕ УРОВНЯ ХОЛЕСТЕРИНА ЛИПОПРОТЕИНОВ НИЗКОЙ ПЛОТНОСТИ:  - 5.87 ММОЛЬ/Л;\\\\n16.10.2023 19:45:00   ИССЛЕДОВАНИЕ УРОВНЯ ТРОПОНИНА T В КРОВИ: ИССЛЕДОВАНИЕ УРОВНЯ ТРОПОНИНА T В КРОВИ - 687.8 PG/ML;\\\\n16.10.2023 РЕНТГЕНОГРАФИЯ ЛЕГКИХ:  ЗАКЛЮЧЕНИЕ: Р-ПРИЗНАКИ ДИЛАТАЦИИ ВОСХОДЯЩЕЙ АОРТЫ. Р-КАРТИНА НЕ ИСКЛЮЧАЕТ ЗАСТОЯ В МАЛОМ КРУГЕ КРОВООБРАЩЕНИЯ.\\\\n17.10.2023 ЭХОКАРДИОГРАФИЯ: ПРАВОЕ ПРЕДСЕРДИЕ:   3,4  СМ.; ПРАВЫЙ ЖЕЛУДОЧЕК:  2,8  СМ.; ЛЕВОЕ ПРЕДСЕРДИЕ:  3,6  СМ.; В ДЛИНУ: СМ.; ОБЪЕМ МЛ.ЛЕВЫЙ ЖЕЛУДОЧЕК: КДР:  5,1  СМ.; КСР:  3,5 СМ.;КДО:  124  МЛ.; КСО:  51  МЛ.; УО:  73  МЛ.;ФВ:  59  % ФУ: %ФВ В «В РЕЖИМЕ» %МЖП:  1,3  СМ ; НОРМОКИНЕЗ ЗАДНЯЯ СТЕНКА:  1,1  СМ.; НОРМОКИНЕЗ МИТРАЛЬНЫЙ КЛАПАН: СТВОРКИ УПЛОТНЕНЫ, ПРОТИВОФАЗА СОХРАНЕНА РСМК - СМ.;ФК В ДИАСТОЛУ - СМ.;МИТРАЛЬНОЕ ОТВЕРСТИЕ: СМ2.; Д - СМ2ГРАДИЕНТ ДАВЛЕНИЯ ПИК: ММ. РТ. СТ. СРЕДНИЙ:  0,8  ММ. РТ. СТ.СКОРОСТЬ КРОВОТОКА: М/С.; СТЕПЕНЬ РЕГУРГИТАЦИИ: 1Е/А ВИР МС, DT МС, ПС МС.АОРТА: СТЕНКИ УПЛОТНЕНЫ, АМПЛИТУДА ИХ ДВИЖЕНИЯ СОХРАНЕНА ФИБРОЗНОЕ КОЛЬЦО: СМ.; НЕ УПЛОТНЕНО;ДИАМЕТР АО НА УРОВНЕ СИНУСОВ ВАЛЬСАЛЬВЫ:  3,9  СМ. ВОСХОДЯЩАЯ АОРТА:  5,4  СМ..;ДУГА АОРТЫ  3,7  СМ ПЕРЕШЕЕК СМ. НИСХОДЯЩАЯ АОРТА СМ. АОРТАЛЬНЫЙ КЛАПАН: СТВОРКИ УПЛОТНЕНЫ ОТКРЫТИЕ  1  СМ.ГРАДИЕНТ ДАВЛЕНИЯ ПИК:  5,8  ММ. РТ. СТ.; СРЕДНИЙ: ММ. РТ. СТ.СКОРОСТЬ КРОВОТОКА:  1,2  М/С. СТЕПЕНЬ РЕГУРГИТАЦИИ:1ТРИКУСПИДАЛЬНЫЙ КЛАПАН: ИНТАКТНЫЙ ГРАДИЕНТ ДАВЛЕНИЯ ПИК: ММ. РТ. СТ.; СРЕДНИЙ: ММ. РТ. СТ.СКОРОСТЬ КРОВОТОКА: М/С. СТЕПЕНЬ РЕГУРГИТАЦИИ: 1ЛЕГОЧНАЯ АРТЕРИЯ: ФК СМ, СТВОЛ: СМ, ПРАВАЯ ВЕТВЬ СМ, ЛЕВАЯ: СМ.ГРАДИЕНТ ДАВЛЕНИЯ ПИК:  2,6  ММ. РТ. СТ.; СРЕДНИЙ: ММ. РТ. СТ.СКОРОСТЬ КРОВОТОКА:  0,8  М/С.; СТЕПЕНЬ РЕГУРГИТАЦИИ: СИСТ. ДАВЛЕНИЕ В ЛЕГОЧНОЙ АРТЕРИИ: ММ. РТ. СТ. ПО ПОТОКУ TR ММ. РТ. СТ.ДИАСТОЛИЧЕСКОЕ ММ. РТ. СТ. ПЕРИКАРД: ЖИДКОСТИ НЕ ВЫЯВЛЕНОЗАКЛЮЧЕНИЕ:ПРИЗНАКИ АНЕВРИЗМЫ ВОСХОДЯЩЕГО ОТДЕЛА АОРТЫ. АОРТАЛЬНАЯ РЕГУРГИТАЦИЯ 1 СТ.ПОЛОСТИ СЕРДЦА НЕ РАСШИРЕНЫ. ГИПЕРТРОФИЯ МЖП.СИСТОЛИЧЕСКАЯ ФУНКЦИЯ ЛЖ СОХРАНЕНА.\\\\nКАГ ОТ 16.10.2023Г.: ТИП КОРОНАРНОГО КРОВООБРАЩЕНИЯ: ПРАВЫЙ СТВОЛ ЛКА: КАЛЬЦИНОЗ ПМЖВ: КАЛЬЦИНОЗ, СТЕНОЗ В ПР\\\\\\\\3 ДО 85-90% ДИАМЕТРА, В СР\\\\\\\\3 ДО 80-85%ДИАМЕТРА ДВ: КАЛЬЦИНОЗ ,СТЕНОЗ В УСТЬЕ-ПР\\\\\\\\3 ДО 80-85% ОВ: КАЛЬЦИНОЗ ,ОККЛЮЗИРОВАНА ОТ УСТЬЯ, TIMI-0 ВТК ОККЛЮЗИРОВАНА. ПКА: С НЕРОВНЫМИ КОНТУРАМИ ЗМЖВ: С НЕРОВНЫМИ КОНТУРАМИ ЗЛЖВ С НЕРОВНЫМИ КОНТУРАМИ.\\\\n\\\\nДИАГНОЗ КЛИНИЧЕСКИЙ \\\\nОСНОВНОЙ:\\\\nИБС. ОСТРЫЙ ИНФАРКТ МИОКАРДА БЕЗ ЗУБЦА Q ПЕРЕДНЕЙ СТЕНКИ ЛЖ ОТ 15.10.2023Г (I21.4) \\\\nОСЛОЖНЕНИЕ:\\\\nОСН I ПО KILLIP. (I50.1) \\\\nФОНОВЫЙ:\\\\nГИПЕРТОНИЧЕСКАЯ БОЛЕЗНЬ 3 СТАДИИ, НЕКОНТРОЛИРУЕМАЯ АГ. РИСК - 4 ( ОЧЕНЬ ВЫСОКИЙ). ЦЕЛЕВОЙ УРОВЕНЬ АГ МЕНЕЕ 130/80 ММ.РТ.СТ. (I11.9) \\\\nСОПУТСТВУЮЩИЙ: \\\\nХБП, СТАДИЯ 3А (N18.3) \\\\nОЖИРЕНИЕ 2 СТЕПЕНИ(ИМТ-36). (E66.0) \\\\nВЕРЕТЕНООБРАЗНА АНЕВРИЗМА ВОСХОДЯЩЕГО ОТДЕЛА АОРТЫ (I71.2) \\\\nРЕКОМЕНДАЦИИ:\\\\nРЕЖИМ ДВИГАТЕЛЬНОЙ АКТИВНОСТИ: ПОСТЕЛЬНЫЙ. \\\\nКОГНИТИВНО-ПОВЕДЕНЧЕСКИЕ ТРЕНИНГИ С ПСИХОЛОГОМ. \\\\nИНСТРУКТАЖ ПО НОШЕНИЮ БАНДАЖА, ЭЛАСТИЧНОМУ БИНТОВАНИЮ НИЖНИХ КОНЕЧНОСТЕЙ.\\\\nИНДИВИДУАЛЬНЫЕ ЗАНЯТИЯ ЛФК (КОМПЛЕКС УПРАЖНЕНИЙ ЛЕЧЕБНОЙ ГИМНАСТИКИ П/О ПЕРИОДА + ДЫХАТЕЛЬНАЯ ГИМНАСТИКА) 30 МИНУТ № 5. \\\\nКОНТРОЛИРУЕМЫЕ ПОКАЗАТЕЛИ: ЧСС, АД, ЧДД.\\'}}]}, {\\'{urn:hl7-org:v3}td\\': [{\\'{urn:hl7-org:v3}content\\': {\\'text\\': \\'Заключение\\'}}, {\\'{urn:hl7-org:v3}content\\': {\\'text\\': \\'Нет данных\\'}}]}, {\\'{urn:hl7-org:v3}td\\': [{\\'{urn:hl7-org:v3}content\\': {\\'text\\': \\'Диагноз\\'}}, {\\'{urn:hl7-org:v3}content\\': {\\'text\\': \\'I21.4 Острый субэндокардиальный инфаркт миокарда\\'}}]}, {\\'{urn:hl7-org:v3}td\\': [{\\'{urn:hl7-org:v3}content\\': {\\'text\\': \\'Рекомендации\\'}}, {\\'{urn:hl7-org:v3}content\\': {\\'text\\': \\'Нет данных\\'}}]}, {\\'{urn:hl7-org:v3}td\\': [{\\'{urn:hl7-org:v3}content\\': {\\'text\\': \\'Услуги\\'}}, {\\'{urn:hl7-org:v3}content\\': {\\'text\\': \\'Прием (осмотр, консультация) врача по медицинской профилактике первичный (B01.070.002)\\'}}]}, {\\'{urn:hl7-org:v3}td\\': [{\\'{urn:hl7-org:v3}content\\': {\\'text\\': \\'Автор документа\\'}}, {\\'{urn:hl7-org:v3}content\\': {\\'text\\': \\'!!!!!!!!!!!!! !!!!!!!!!!!!! !!!!!!!!!!!!! (Врач физической и реабилитационной медицины)\\'}}]}]}, \\'width\\': \\'100%\\'}}, \\'Рентгеноскопия грудной клетки (16.10.2023 18:37)\\': {\\'{urn:hl7-org:v3}table\\': {\\'{urn:hl7-org:v3}col\\': [{\\'width\\': \\'12%\\'}, {\\'width\\': \\'88%\\'}], \\'{urn:hl7-org:v3}tbody\\': {\\'{urn:hl7-org:v3}tr\\': [{\\'{urn:hl7-org:v3}td\\': [{\\'{urn:hl7-org:v3}content\\': {\\'text\\': \\'Эффективная доза\\'}}, {\\'{urn:hl7-org:v3}content\\': {}}]}, {\\'{urn:hl7-org:v3}td\\': [{\\'{urn:hl7-org:v3}content\\': {\\'text\\': \\'Протокол\\'}}, {\\'{urn:hl7-org:v3}content\\': {\\'text\\': \\'С ПАЦИЕНТОМ (ЕГО ЗАКОННЫМ ПРЕДСТАВИТЕЛЕМ) ПРОВЕДЕНО СОБЕСЕДОВАНИЕ О \\\\nПРЕДСТОЯЩЕМ ИССЛЕДОВАНИИ. ДОБРОВОЛЬНОЕ ИНФОРМИРОВАННОЕ СОГЛАСИЕ ПОЛУЧЕНО.\\\\n\\\\nНА ПРЕДСТАВЛЕННОЙ РЕНТГЕНОГРАММЕ ЛЕГКИХ В ПОЛОЖЕНИИ ЛЕЖА,\\\\nРЕНТГЕНОЛОГИЧЕСКАЯ НЕРЕЗКОСТЬ:\\\\nВИДИМЫЕ ЛЕГОЧНЫЕ ПОЛЯ- ПРОЗРАЧНОСТЬ СЛЕВА СНИЖЕНА. \\\\nОЧАГОВЫХ И ИНФИЛЬТРАТИВНЫХ ИЗМЕНЕНИЙ НЕ ОПРЕДЕЛЯЕТСЯ.\\\\nЛЕГОЧНОЙ РИСУНОК РАЗМЫТ.\\\\nКОРНИ ЗА СРЕДИННОЙ ТЕНЬЮ. СРЕДИННАЯ ТЕНЬ НЕ СМЕЩЕНА, \\\\nРАСШИРЕНА НА УРОВНЕ ВЕРХНЕГО ЭТАЖА ВПРАВО.\\\\nСЕРДЦЕ ВИЗУАЛЬНО РАСШИРЕНО. ДУГА АОРТЫ ДИФФЕРЕНЦИРУЕТСЯ,\\\\nДИАМЕТР АОРТЫ РАСШИРЕН.\\\\nКУПОЛА ДИАФРАГМЫ ЧЕТКИЕ, РОВНЫЕ.\\\\nНАРУЖНЫЕ СИНУСЫ СВОБОДНЫЕ.  \\\\nЗАКЛЮЧЕНИЕ:Р-ПРИЗНАКИ ДИЛАТАЦИИ ВОСХОДЯЩЕЙ АОРТЫ. \\\\nР-КАРТИНА НЕ ИСКЛЮЧАЕТ ЗАСТОЯ В МАЛОМ КРУГЕ КРОВООБРАЩЕНИЯ.\\'}}]}, {\\'{urn:hl7-org:v3}td\\': [{\\'{urn:hl7-org:v3}content\\': {\\'text\\': \\'Заключение\\'}}, {\\'{urn:hl7-org:v3}content\\': {\\'text\\': \\'Р-признаки дилатации восходящей аорты. \\\\nР-картина не исключает застоя в малом круге кровообращения.\\'}}]}, {\\'{urn:hl7-org:v3}td\\': [{\\'{urn:hl7-org:v3}content\\': {\\'text\\': \\'Выявленная патология\\'}}, {\\'{urn:hl7-org:v3}content\\': {}}]}, {\\'{urn:hl7-org:v3}td\\': [{\\'{urn:hl7-org:v3}content\\': {\\'text\\': \\'Диагноз\\'}}, {\\'{urn:hl7-org:v3}content\\': {\\'text\\': \\'I21.4 Острый субэндокардиальный инфаркт миокарда\\'}}]}, {\\'{urn:hl7-org:v3}td\\': [{\\'{urn:hl7-org:v3}content\\': {\\'text\\': \\'Услуги\\'}}, {\\'{urn:hl7-org:v3}content\\': {\\'text\\': \\'Прицельная рентгенография органов грудной клетки (A06.09.007.001)\\'}}]}, {\\'{urn:hl7-org:v3}td\\': [{\\'{urn:hl7-org:v3}content\\': {\\'text\\': \\'Врач\\'}}, {\\'{urn:hl7-org:v3}content\\': {\\'text\\': \\'! !!!!!!!!!!!!! ! (Врач-рентгенолог)\\'}}]}]}, \\'width\\': \\'100%\\'}}, \\'Электрокардиография (17.10.2023 04:07)\\': {\\'{urn:hl7-org:v3}table\\': {\\'{urn:hl7-org:v3}col\\': [{\\'width\\': \\'12%\\'}, {\\'width\\': \\'88%\\'}], \\'{urn:hl7-org:v3}tbody\\': {\\'{urn:hl7-org:v3}tr\\': [{\\'{urn:hl7-org:v3}td\\': [{\\'{urn:hl7-org:v3}content\\': {\\'text\\': \\'Эффективная доза\\'}}, {\\'{urn:hl7-org:v3}content\\': {}}]}, {\\'{urn:hl7-org:v3}td\\': [{\\'{urn:hl7-org:v3}content\\': {\\'text\\': \\'Протокол\\'}}, {\\'{urn:hl7-org:v3}content\\': {\\'text\\': \\'!\\\\n!\\\\nПРОТОКОЛ ОБСЛЕДОВАНИЯ № !!!!!!!!!!!!!\\\\n\\\\n\\\\nФ.И.О.: А Л Н\\\\nВОЗРАСТ (ДАТА РОЖДЕНИЯ): 76 ( 01.01.1698!) \\\\nПРЕДВАРИТЕЛЬНЫЙ ДИАГНОЗ: <КЛИНИЧЕСКИЙ ДИАГНОЗ>\\\\nРЕЗУЛЬТАТЫ ОБСЛЕДОВАНИЯ:\\\\nПРАВОЕ ПРЕДСЕРДИЕ:   3,4  СМ.; \\\\tПРАВЫЙ ЖЕЛУДОЧЕК:  2,8  СМ.; \\\\nЛЕВОЕ ПРЕДСЕРДИЕ:  3,6  СМ.; В ДЛИНУ: СМ.; ОБЪЕМ МЛ.\\\\nЛЕВЫЙ ЖЕЛУДОЧЕК: КДР:  5,1  СМ.; КСР:  3,5 СМ.;\\\\nКДО:  124  МЛ.; КСО:  51  МЛ.; УО:  73  МЛ.;\\\\nФВ:  59  % ФУ: %\\\\tФВ В «В РЕЖИМЕ» %\\\\nМЖП:  1,3  СМ ; НОРМОКИНЕЗ \\\\nЗАДНЯЯ СТЕНКА:  1,1  СМ.; НОРМОКИНЕЗ \\\\n\\\\nМИТРАЛЬНЫЙ КЛАПАН: СТВОРКИ УПЛОТНЕНЫ, ПРОТИВОФАЗА СОХРАНЕНА \\\\n\\\\tРСМК - СМ.;\\\\tФК В ДИАСТОЛУ - СМ.;\\\\nМИТРАЛЬНОЕ ОТВЕРСТИЕ: СМ2.; Д - СМ2\\\\nГРАДИЕНТ ДАВЛЕНИЯ ПИК: ММ. РТ. СТ. СРЕДНИЙ:  0,8  ММ. РТ. СТ.\\\\nСКОРОСТЬ КРОВОТОКА: М/С.; СТЕПЕНЬ РЕГУРГИТАЦИИ: 1\\\\nЕ/А ВИР МС, DT МС, ПС МС.\\\\nАОРТА: СТЕНКИ УПЛОТНЕНЫ, АМПЛИТУДА ИХ ДВИЖЕНИЯ СОХРАНЕНА \\\\nФИБРОЗНОЕ КОЛЬЦО: СМ.; НЕ УПЛОТНЕНО;\\\\nДИАМЕТР АО НА УРОВНЕ СИНУСОВ ВАЛЬСАЛЬВЫ:  3,9  СМ. ВОСХОДЯЩАЯ АОРТА:  5,4  СМ..;\\\\nДУГА АОРТЫ  3,7  СМ ПЕРЕШЕЕК СМ. НИСХОДЯЩАЯ АОРТА СМ. \\\\nАОРТАЛЬНЫЙ КЛАПАН: СТВОРКИ УПЛОТНЕНЫ ОТКРЫТИЕ  1  СМ.\\\\nГРАДИЕНТ ДАВЛЕНИЯ ПИК:  5,8  ММ. РТ. СТ.; СРЕДНИЙ: ММ. РТ. СТ.\\\\nСКОРОСТЬ КРОВОТОКА:  1,2  М/С. СТЕПЕНЬ РЕГУРГИТАЦИИ:1\\\\nТРИКУСПИДАЛЬНЫЙ КЛАПАН: ИНТАКТНЫЙ \\\\nГРАДИЕНТ ДАВЛЕНИЯ ПИК: ММ. РТ. СТ.; СРЕДНИЙ: ММ. РТ. СТ.\\\\nСКОРОСТЬ КРОВОТОКА: М/С. СТЕПЕНЬ РЕГУРГИТАЦИИ: 1\\\\nЛЕГОЧНАЯ АРТЕРИЯ: ФК СМ, СТВОЛ: СМ, ПРАВАЯ ВЕТВЬ СМ, ЛЕВАЯ: СМ.\\\\nГРАДИЕНТ ДАВЛЕНИЯ ПИК:  2,6  ММ. РТ. СТ.; СРЕДНИЙ: ММ. РТ. СТ.\\\\nСКОРОСТЬ КРОВОТОКА:  0,8  М/С.; СТЕПЕНЬ РЕГУРГИТАЦИИ: \\\\nСИСТ. ДАВЛЕНИЕ В ЛЕГОЧНОЙ АРТЕРИИ: ММ. РТ. СТ. ПО ПОТОКУ TR ММ. РТ. СТ.\\\\nДИАСТОЛИЧЕСКОЕ ММ. РТ. СТ. \\\\nПЕРИКАРД: ЖИДКОСТИ НЕ ВЫЯВЛЕНО\\\\n\\\\nЗАКЛЮЧЕНИЕ:\\\\nПРИЗНАКИ АНЕВРИЗМЫ ВОСХОДЯЩЕГО ОТДЕЛА АОРТЫ. \\\\nАОРТАЛЬНАЯ РЕГУРГИТАЦИЯ 1 СТ.\\\\nПОЛОСТИ СЕРДЦА НЕ РАСШИРЕНЫ. ГИПЕРТРОФИЯ МЖП.\\\\nСИСТОЛИЧЕСКАЯ ФУНКЦИЯ ЛЖ СОХРАНЕНА.\\'}}]}, {\\'{urn:hl7-org:v3}td\\': [{\\'{urn:hl7-org:v3}content\\': {\\'text\\': \\'Заключение\\'}}, {\\'{urn:hl7-org:v3}content\\': {\\'text\\': \\'ЗАКЛЮЧЕНИЕ:\\\\nПРИЗНАКИ АНЕВРИЗМЫ ВОСХОДЯЩЕГО ОТДЕЛА АОРТЫ. \\\\nАОРТАЛЬНАЯ РЕГУРГИТАЦИЯ 1 СТ.\\\\nПОЛОСТИ СЕРДЦА НЕ РАСШИРЕНЫ. ГИПЕРТРОФИЯ МЖП.\\\\nСИСТОЛИЧЕСКАЯ ФУНКЦИЯ ЛЖ СОХРАНЕНА.\\'}}]}, {\\'{urn:hl7-org:v3}td\\': [{\\'{urn:hl7-org:v3}content\\': {\\'text\\': \\'Выявленная патология\\'}}, {\\'{urn:hl7-org:v3}content\\': {}}]}, {\\'{urn:hl7-org:v3}td\\': [{\\'{urn:hl7-org:v3}content\\': {\\'text\\': \\'Диагноз\\'}}, {\\'{urn:hl7-org:v3}content\\': {\\'text\\': \\'I21.4 Острый субэндокардиальный инфаркт миокарда\\'}}]}, {\\'{urn:hl7-org:v3}td\\': [{\\'{urn:hl7-org:v3}content\\': {\\'text\\': \\'Услуги\\'}}, {\\'{urn:hl7-org:v3}content\\': {\\'text\\': \\'Эхокардиография (A04.10.002)\\'}}]}, {\\'{urn:hl7-org:v3}td\\': [{\\'{urn:hl7-org:v3}content\\': {\\'text\\': \\'Врач\\'}}, {\\'{urn:hl7-org:v3}content\\': {\\'text\\': \\'!!!!!!!!!!!!! !!!!!!!!!!!!! !!!!!!!!!!!!! (Врач функциональной диагностики)\\'}}]}]}, \\'width\\': \\'100%\\'}}}, \\'Сведения о пребывании пациента в Кардиохирургическое отделение №1\\': {\\'Прием (осмотр, консультация) врача по медицинской профилактике первичный (11.11.2023 09:53)\\': {\\'{urn:hl7-org:v3}table\\': {\\'{urn:hl7-org:v3}col\\': [{\\'width\\': \\'12%\\'}, {\\'width\\': \\'88%\\'}], \\'{urn:hl7-org:v3}tbody\\': {\\'{urn:hl7-org:v3}tr\\': [{\\'{urn:hl7-org:v3}td\\': [{\\'{urn:hl7-org:v3}content\\': {\\'text\\': \\'Объективно\\'}}, {\\'{urn:hl7-org:v3}content\\': {\\'text\\': \\'БЮДЖЕТНОЕ УЧРЕЖДЕНИЕ ХМАО-ЮГРЫ \"!\\\\n\"\"\\\\n!\\\\n\\\\nПОВТОРНЫЙ ОСМОТР \\\\nМУЛЬТИДИСЦИПЛИНАРНОЙ РЕАБИЛИТАЦИОННОЙ КОМАНДЫ \\\\nРЕАБИЛИТАЦИОННЫЙ ЭПИКРИЗ\\\\n\\\\nФ.И.О.: А Л Н \\\\nВОЗРАСТ (ДАТА РОЖДЕНИЯ): 76 ( 01.01.1698!)\\\\nНОМЕР ИСТОРИИ БОЛЕЗНИ:!!!!!!!!!!!!!\\\\nДАТА ПОСТУПЛЕНИЯ: 16.10.2023 13:30\\\\nОТДЕЛЕНИЕ: КАРДИОХИРУРГИЧЕСКОЕ ОТДЕЛЕНИЕ1 \\\\nЭТАП МЕДИЦИНСКОЙ РЕАБИЛИТАЦИИ: I \\\\n\\\\n ЖАЛОБЫ  :  НА ОБЩУЮ СЛАБОСТЬ, БЫСТРУЮ УТОМЛЯЕМОСТЬ, НЕЗНАЧИТЕЛЬНЫЕ НОЮЩИЕ БОЛИ В ОБЛАСТИ П/О РАНЫ ГРУДИНЫ. \\\\n АНАМНЕЗ ЗАБОЛЕВАНИЯ  :  С АНАМНЕЗОМ ЗАБОЛЕВАНИЯ И ЖИЗНИ ОЗНАКОМЛЕНА ПО МЕДИЦИНСКОЙ ДОКУМЕНТАЦИИ.   \\\\nФИЗИЧЕСКАЯ АКТИВНОСТЬ ДО ГОСПИТАЛИЗАЦИИ НА БЫТОВОМ УРОВНЕ. \\\\nЗАНЯТИЯ ФИЗИЧЕСКИМИ ТРЕНИРОВКАМИ ДО ГОСПИТАЛИЗАЦИИ ОТСУТСТВУЮТ. \\\\nОПЕРАТИВНОЕ ЛЕЧЕНИЕ: МАММАРОКОРОНАРНОЕ ШУНТИОРВАНИЕ ВГА С ДВ ПРОТЕЗИРОВАНИЕ ВОСХОДЯЩЕГО ОТДЕЛА АОРТЫ ЛИНЕЙНЫМ ПРОТЕЗОМ №32 ОТ 31.10.2023Г.\\\\n\\\\n ОБЪЕКТИВНЫЙ СТАТУС  :  ВЕС  90  КГ РОСТ  160  СМ ИМТ 35,16 КГ/СМ2 \\\\nВ СОЗНАНИИ, ЯВЛЕНИЯ ДЭП. ПРОДУКТИВНЫЙ (ВЕРБАЛЬНЫЙ) КОНТАКТ ДОСТУПЕН. ИНСТРУКЦИИ ВЫПОЛНЯЕТ. КОГНИТИВНЫЕ НАРУШЕНИЯ: ЕСТЬ. ПАЦИЕНТКА ОРИЕНТИРОВАНА В ЛИЧНОСТИ, ПРОСТРАНСТВЕ, ЧАСТИЧНО ДЕЗОРИЕНТИРОВАНА ВО ВРЕМЕНИ.\\\\nОБЩЕЕ СОСТОЯНИЕ: СРЕДНЕЙ СТЕПЕНИ ТЯЖЕСТИ. КОЖНЫЕ ПОКРОВЫ: БЛЕДНЫЕ, ЧИСТЫЕ. П/ОПЕРАЦИОННЫЕ РАНЫ ПОД ПОВЯЗКОЙ, ПОВЯЗКИ СУХИЕ, ЧИСТЫЕ. ОПОРНО-ДВИГАТЕЛЬНЫЙ АППАРАТ: БЕЗ ВИДИМОЙ ПАТОЛОГИИ. ДВИЖЕНИЯ В СУСТАВАХ В ПОЛНОМ ОБЪЕМЕ. МЫШЕЧНАЯ СИЛА В КОНЕЧНОСТЯХ ДОСТАТОЧНАЯ. В ЛЕГКИХ ДЫХАНИЕ: ЖЕСТКОЕ, ОСЛАБЛЕНО В НИЖНИХ ОТДЕЛАХ . ХРИПЫ: ОТСУТСТВУЮТ. ЧДД 16 В МИН. ТОНЫ СЕРДЦА: ПРИГЛУШЕНЫ. РИТМ ПРАВИЛЬНЫЙ. ДЕФИЦИТ ПУЛЬСА: НЕТ. АД 125/70 ММ РТ. СТ. ЧСС 74 В МИН. САТУРАЦИЯ 96 % НА ВОЗДУХЕ. ЯЗЫК ЧИСТЫЙ, ВЛАЖНЫЙ . ЖИВОТ МЯГКИЙ, БЕЗБОЛЕЗНЕННЫЙ. ОТЕКОВ НЕТ. ДИУРЕЗ ДОСТАТОЧНЫЙ. ЭЛАСТИЧНЫЕ БИНТЫ НА Н/К.\\\\n\\\\nРЕЗУЛЬТАТЫ СПЕЦИАЛЬНЫХ МЕТОДОВ ИССЛЕДОВАНИЯ: \\\\n 10.11.2023 ОБЩИЙ (КЛИНИЧЕСКИЙ) АНАЛИЗ КРОВИ РАЗВЕРНУТЫЙ: ЛЕЙКОЦИТЫ - 9.58 10^9/Л;НЕЙТРОФИЛЫ АБС. - 8.63 ;НЕЙТРОФИЛЫ - 90.0 %;ЛИМФОЦИТЫ АБС. - 0.6 ;ЛИМФОЦИТЫ - 6.3 %;МОНОЦИТЫ АБС. - 0.35 ;МОНОЦИТЫ - 3.7 %;ЭОЗИНОФИЛЫ АБС. - 0.0 ;ЭОЗИНОФИЛЫ - 0.0 %;БАЗОФИЛЫ АБС. - 0.0 ;БАЗОФИЛЫ - 0.0 %;ЭРИТРОЦИТЫ - 2.84 10^12/Л;ГЕМОГЛОБИН - 84.0 Г/Л;ГЕМАТОКРИТ - 25.8 %;MCV - 90.8 ;MCH - 29.6 ;MCHC - 326.0 ;RDW - 16.0 ;ТРОМБОЦИТЫ - 347.0 10^9/Л;MPV - 9.6 ;PCT - 0.33 ;PDW - 9.6 ;\\\\n 02.11.2023  ЭХОКАРДИОГРАФИЯ: ПРАВОЕ ПРЕДСЕРДИЕ:   3,4  СМ.; ПРАВЫЙ ЖЕЛУДОЧЕК:  2,8  СМ.; ЛЕВОЕ ПРЕДСЕРДИЕ:  3,6  СМ.; В ДЛИНУ: СМ.; ОБЪЕМ МЛ.ЛЕВЫЙ ЖЕЛУДОЧЕК В РЕЖИМЕ БИПЛАНОВЫМ МЕТОДОМ : КДР:  5,2  СМ.; КСР:  3,6  СМ.;КДО:  110  МЛ.; КСО:  45  МЛ.; УО:   65  МЛ.;ФВ:  60  %МЖП:  1,3  СМ ; НЕОПРЕДЕЛЕННЫЙ ТИП ДВИЖЕНИЯ. ЗАДНЯЯ СТЕНКА:  1,1  СМ.; НОРМОКИНЕЗ.ВТЛЖ : ПИК.ГРАДИЕНТ 9 ММ.РТ.СТ. МИТРАЛЬНЫЙ КЛАПАН: СТВОРКИ УПЛОТНЕНЫ, ПРОТИВОФАЗА СОХРАНЕНА РСМК - СМ.;ФК В ДИАСТОЛУ - СМ.;МИТРАЛЬНОЕ ОТВЕРСТИЕ: СМ2.; Д - СМ2ГРАДИЕНТ ДАВЛЕНИЯ ПИК: 2,4 ММ. РТ. СТ. СРЕДНИЙ: ММ. РТ. СТ.СКОРОСТЬ КРОВОТОКА: 0,8 М/С.; СТЕПЕНЬ РЕГУРГИТАЦИИ: 1АОРТА: СТЕНКИ УПЛОТНЕНЫ, АМПЛИТУДА ИХ ДВИЖЕНИЯ СОХРАНЕНА ФИБРОЗНОЕ КОЛЬЦО: СМ.; НЕ УПЛОТНЕНО;ДИАМЕТР АО НА УРОВНЕ СИНУСОВ ВАЛЬСАЛЬВЫ:    СМ. ВОСХОДЯЩАЯ АОРТА: ПРОТЕЗ СМ..ДУГА АОРТЫ СМ ПЕРЕШЕЕК СМ. НИСХОДЯЩАЯ АОРТА СМ. АОРТАЛЬНЫЙ КЛАПАН: СТВОРКИ УПЛОТНЕНЫ ОТКРЫТИЕ  1  СМ.ГРАДИЕНТ ДАВЛЕНИЯ ПИК:  6  ММ. РТ. СТ.; СРЕДНИЙ: ММ. РТ. СТ.СКОРОСТЬ КРОВОТОКА:  1,2  М/С. СТЕПЕНЬ РЕГУРГИТАЦИИ:1ТРИКУСПИДАЛЬНЫЙ КЛАПАН: ИНТАКТНЫЙ ГРАДИЕНТ ДАВЛЕНИЯ ПИК: ММ. РТ. СТ.; СРЕДНИЙ: ММ. РТ. СТ.СКОРОСТЬ КРОВОТОКА: М/С. СТЕПЕНЬ РЕГУРГИТАЦИИ: 1ЛЕГОЧНАЯ АРТЕРИЯ: ФК СМ, СТВОЛ: СМ, ПРАВАЯ ВЕТВЬ СМ, ЛЕВАЯ: СМ.ГРАДИЕНТ ДАВЛЕНИЯ ПИК:  2,6  ММ. РТ. СТ.; СРЕДНИЙ: ММ. РТ. СТ.СКОРОСТЬ КРОВОТОКА:  0,8  М/С.; СТЕПЕНЬ РЕГУРГИТАЦИИ: СИСТ. ДАВЛЕНИЕ В ЛЕГОЧНОЙ АРТЕРИИ: ММ. РТ. СТ. ПО ПОТОКУ TR 29 ММ. РТ. СТ.ПЕРИКАРД: ЖИДКОСТИ НЕТ  ЗАКЛЮЧЕНИЕ  : МКШ, ПРОТЕЗИРОВАНИЕ ВОСХОДЯЩЕГО ОТДЕЛА АОРТЫ (31.10.23Г)КАМЕРЫ СЕРДЦА НЕ УВЕЛИЧЕНЫ.СИСТОЛИЧЕСКАЯ ФУНКЦИЯ МИОКАРДА ЛЖ УДОВЛЕТВОРИТЕЛЬНАЯ.ДАННЫХ ЗА ЖИДКОСТЬ В ПОЛОСТИ ПЕРИКАРДА НЕТ.\\\\n 03.11.2023 РЕГИСТРАЦИЯ ЭЛЕКТРОКАРДИОГРАММЫ: СИНУСОВАЯ ТАХИКАРДИЯ С ЧСС 104 В МИН. ЭОС ОТКЛОНЕНА ВЛЕВО НЕПОЛНАЯ БЛОКАДА ПНПГ ПРИЗНАКИ ПЕРЕНЕСЁННОГО Q -ИМ НИЖНЕЙ СТЕНКИ НАРУШЕНИЕ ПРОЦЕССОВ РЕПОЛЯРИЗАЦИИ ПЕРЕДНЕ-ПЕРЕГОРОДОЧНОЙ, ВЕРХУШЕЧНО-БОКОВОЙ ОБЛАСТИ \\\\n 08.11.2023 БРОНХОСКОПИЯ: ЭРОЗИВНО-ФИБРИНОЗНЫЙ ТРАХЕИТ. ДИФФУЗНЫЙ ДВУСТРОННИЙ БРОНХИТ 2 СТ.\\\\n 08.11.2023 ЭЗОФАГОГАСТРОДУОДЕНОСКОПИЯ: МСКТ-ПРИЗНАКОВ ПАТОЛОГИИ ГОРТАНИ НЕ ОТМЕЧАЕТСЯ. СОСТОЯНИЕ ПОСЛЕ УСТАНОВКИ ИНТУБАЦИОННОЙ ТРУБКИ, ДИСТАЛЬНЫЙ ОТДЕЛ В УСТЬЕ ПРАВОГО ГЛАВНОГО БРОНХА.\\\\n 09.11.2023 КОМПЬЮТЕРНАЯ ТОМОГРАФИЯ ОРГАНОВ ГРУДНОЙ ПОЛОСТИ: МСКТ-КАРТИНА ДВУСТОРОННЕГО ГИДРОТОРАКСА, С КОМПРЕССИОННЫМИ АТЕЛЕКТАЗАМИ ПРИЛЕЖАЩЕЙ ЛЕГОЧНОЙ ТКАНИ, БОЛЬШЕ СЛЕВА. СОСТОЯНИЕ ПОСЛЕ УСТАНОВКЕ ИНТУБАЦИОННОЙ ТРУБКИ, ДИСТАЛЬНЫЙ ОТДЕЛ В УСТЬЕ ПРАВОГО ГЛАВНОГО БРОНХА.  МСКТ-КАРТИНА АТЕРОСКЛЕРОТИЧЕСКОГО ПОРАЖЕНИЯ АОРТЫ И КОРОНАРНЫХ АРТЕРИЙ. СОСТОЯНИЕ ПОСЛЕ МКШ И ПРОТЕЗИРОВАНИЯ ВОСХОДЯЩЕГО ОТДЕЛА АОРТЫ ОТ 31.10.2023Г. ПОСТОПЕРАЦИОННЫЕ ИЗМЕНЕНИЯ В ПЕРЕДНЕМ СРЕДОСТЕНИИ, С ПРИЗНАКАМИ ГЕМАТОМЫ.\\\\n\\\\n ЗАКЛЮЧЕНИЕ  :  \\\\nКЛИНИЧЕСКИЙ ДИАГНОЗ:  \\\\nОСНОВНОЕ ЗАБОЛЕВАНИЕ: ИБС. ОСТРЫЙ ИНФАРКТ МИОКАРДА БЕЗ ЗУБЦА Q ПЕРЕДНЕЙ СТЕНКИ ЛЖ ОТ 15.10.2023Г.МАММАРОКОРОНАРНОЕ ШУНТИОРВАНИЕ ВГА С ДВ ПРОТЕЗИРОВАНИЕ ВОСХОДЯЩЕГО ОТДЕЛА АОРТЫ ЛИНЕЙНЫМ ПРОТЕЗОМ №32 В УСЛОВИЯХ ИК ОТ 31.10.2023Г. (I21.4) \\\\nОСЛОЖНЕНИЯ ОСНОВНОГО ЗАБОЛЕВАНИЯ: ОСН I ПО KILLIP.(I50.1) \\\\nСОПУТСТВУЮЩИЕ ЗАБОЛЕВАНИЯ: СОПУТСТВУЮЩИЙ: ХБП, СТАДИЯ 3А(N18.3) ОЖИРЕНИЕ 2 СТЕПЕНИ(ИМТ-36).(E66.0) ДИСЦИРКУЛЯТОРНАЯ ЭНЦЕФАЛОПАТИЯ 1 СТ,СУБКОМПЕНСАЦИЯ, ПРЕИМУЩЕСТВЕННО В ВБС, НА ФОНЕ АГ. СУБЪЕКТИВНЫЙ ШУМ.УМЕРЕННАЯ ВЕСТИБУЛОПАТИЯ. (I67.8) ВЕРЕТЕНООБРАЗНА АНЕВРИЗМА ВОСХОДЯЩЕГО ОТДЕЛА АОРТЫ(I71.2) \\\\nФОНОВЫЙ: ГИПЕРТОНИЧЕСКАЯ БОЛЕЗНЬ 3 СТАДИИ, НЕКОНТРОЛИРУЕМАЯ АГ. РИСК - 4 ( ОЧЕНЬ ВЫСОКИЙ). ЦЕЛЕВОЙ УРОВЕНЬ АГ МЕНЕЕ 130/80 ММ.РТ.СТ.(I11.9) ЭНЦЕФАЛОПАТИЯ СМЕШАННОГО ГЕНЕЗА ( СОСУДИСТАЯ + МЕТАБОЛИЧЕСКАЯ ), УХУДШЕНИЕ, НА ФОНЕ АГ.\\\\n\\\\nОЦЕНКА РЕАБИЛИТАЦИОННОГО СТАТУСА ПАЦИЕНТА:\\\\nШКАЛЫ ОЦЕНКИ\\\\nРЕЗУЛЬТАТ ИСХОД\\\\nРЕЗУЛЬТАТ ПОВТОР\\\\nШКАЛА ДВИГАТЕЛЬНОГО ДЕФИЦИТА\\\\n3\\\\n20 Б\\\\nИНДЕКС МОБИЛЬНОСТИ РИВЕРМИД \\\\n1\\\\n7 Б\\\\nШКАЛА ХОДКИНСОНА\\\\nОТРИЦАТЕЛЬНЫЙ\\\\n10 Б\\\\nШКАЛА ИНТЕНСИВНОСТИ БОЛИ (ВАШ) \\\\n4Б\\\\n2 Б\\\\nШКАЛА ФУНКЦИОНАЛЬНОЙ НЕЗАВИСИМОСТИ FIM\\\\n18Б\\\\n87 Б\\\\nШКАЛА НОРТОН (ОЦЕНКА РИСКА ВОЗНИКНОВЕНИЯ ПРОЛЕЖНЕЙ)\\\\n9Б\\\\n16 Б (НЕТ РИСКА)\\\\nШКАЛА ОЦЕНКИ НУТРИТВНОГО СТАТУСА NRS\\\\n1Б\\\\nНЕТ\\\\nPTL - ТЕСТ\\\\nПОЛОЖИТЕЛЬНЫЙ\\\\nОТРИЦАТЕЛЬНЫЙ\\\\nПИТ - СИНДРОМ\\\\n1Б\\\\nНЕТ\\\\nШРМ\\\\n6Б\\\\n5 Б\\\\nСТУПЕНЬ ДВИГАТЕЛЬНОЙ АКТИВНОСТИ ПО Д.М.АРОНОВУ\\\\n1\\\\nII\\\\n\\\\nФАКТОРЫ, ОГРАНИЧИВАЮЩИЕ ПРОВЕДЕНИЕ РЕАБИЛИТАЦИОННЫХ МЕРОПРИЯТИИ?: ОТСУТСТВУЮТ \\\\nПРОТИВОПОКАЗАНИЯ К НАЧАЛУ ПРОВЕДЕНИЯ РЕАБИЛИТАЦИИ: ОТСУТСТВУЮТ \\\\n\\\\nРЕАБИЛИТАЦИОННЫЙ ДИАГНОЗ (В КАТЕГОРИЯХ МКФ):\\\\nМКФ КАТЕГОРИИ\\\\n\\\\n\\\\nНАИМЕНОВАНИЕ ДОМЕНА МКФ\\\\nКОД МКФ ИСХОД\\\\nКОД МКФ ПОВТОР\\\\nФУНКЦИИ\\\\n\\\\n\\\\nФУНКЦИ СЕРДЦА: КРОВОСНАБЖЕНИЕ СЕРДЦА:\\\\nB4103.2\\\\nB4103.2\\\\nФУНКЦИЯ СЕРДЦА: ФРАКЦИЯ ВЫБРОСА ЛЖ _55__%: - 60%\\\\nB4102.0\\\\nB4102.0\\\\nФУНКЦИИ АД: ПОВЫШЕННОЕ АД\\\\nB 4200.2\\\\nB 4200.2\\\\nФУНКЦИИ АД: ПОДДЕРЖАНИЕ АД\\\\nB 4202.2\\\\nB 4202.0\\\\nФУНКЦИИ СЕРДЦА: РИТМ СЕРДЦА: \\\\nB4101.2\\\\nB4101.2\\\\nФУНКЦИИ СЕРДЦА: ТЕМП СЕРДЕЧНЫХ СОКРАШЕНИЙ:\\\\nB4100.2\\\\nB4100.0\\\\nФУНКЦИИ СИСТЕМЫ КРОВИ: УРОВЕНЬ ГЕМОГЛОБИНА - __93_ Г/Л- 84 Г/Л\\\\nB4300.2\\\\nB4300.2\\\\nФУНКЦИИ СОЗНАНИЯ: ЯСНОСТЬ СОЗНАНИЯ:\\\\nB 1100.1\\\\nB 1100.1\\\\nОБЩИЕ МЕТАБОЛИЧЕСКИЕ ФУНКЦИИ: УГЛЕВОДНЫЙ ОБМЕН: \\\\nB5401.2\\\\nB5401.2\\\\nОБЩИЕ ОБМЕННЫЕ ФУНКЦИИ: ОБМЕН ЛИПИДОВ КРОВИ: \\\\nB5403.2\\\\nB5403.2\\\\nФУНКЦИИ ТОЛЕРАНТНОСТИ К ФН: УТОМЛЯЕМОСТЬ\\\\nB4550.2\\\\nB4550.2\\\\nСЕНСОРНЫЕ ФУНКЦИИ И БОЛЬ: БОЛЬ В ГРУДНОЙ КЛЕТКЕ\\\\nB28011.1\\\\nB28011.1\\\\nФУНКЦИИ СОХРАНЕНИЯ МАССЫ ТЕЛА: ИНДЕКС МАССЫ ТЕЛА _35,16_КГ/М2: \\\\nB530.2\\\\nB530.2\\\\nСТРУКТУРЫ\\\\n\\\\n\\\\nСТРУКТУРЫ СЕРДЦА: ЖЕЛУДОЧКИ: \\\\nS41001.3.5.0\\\\nS41001.3.5.0\\\\nАКТИВНОСТЬ \\\\\\\\ УЧАСТИЕ\\\\n\\\\n\\\\nАКТИВНОСТЬ И УЧАСТИЕ: ОБЩЕНИЕ: ВОСПРИЯТИЕ:\\\\nD310.1\\\\nD310.1\\\\nАКТИВНОСТЬ И УЧАСТИЕ: РЕЧЬ: \\\\nD330.1\\\\nD330.0\\\\nАКТИВНОСТЬ И УЧАСТИЕ: ПЕРЕМЕЩЕНИЕ ТЕЛА В ПОЛОЖЕНИИ ЛЕЖА\\\\nD4201.2\\\\nD4201.1\\\\nАКТИВНОСТЬ И УЧАСТИЕ: ПЕРЕМЕЩЕНИЕ ТЕЛА В ПОЛОЖЕНИИ СИДЯ\\\\nD4200.3\\\\nD4200.2\\\\nХОДЬБА: НА КОРОТКИЕ РАССТОЯНИЯ\\\\n\\\\nD4500.3\\\\nХОДЬБА: НА ДАЛЬНИЕ РАССТОЯНИЯ\\\\n\\\\nD4501.4\\\\nПРЕОДОЛЕНИЕ ПРЕПЯТСТВИЙ\\\\n\\\\nD4511.3.2\\\\nЗАБОТА О СВОЕМ ЗДОРОВЬЕ\\\\n\\\\nD5702.3\\\\nФАКТОРЫ ОКРУЖАЮЩЕЙ СРЕДЫ\\\\n\\\\n\\\\nПРОДУКТЫ ИЛИ ВЕЩЕСТВА ДЛЯ ПЕРСОНАЛЬНОГО ПОТРЕБЛЕНИЯ: ВЫРАЖЕННОЕ ОБЛЕГЧЕНИЕ НА ЛЕКАРСТВЕННЫХ ПРЕПАРАТАХ (СТАБИЛИЗАЦИЯ АД, ЧСС)\\\\nЕ1101+4\\\\nЕ1101+4\\\\n\\\\nРЕАБИЛИТАЦИОННАЯ ЦЕЛЬ ДОСТИГНУТА.\\\\nИТОГИ РЕАЛИЗАЦИИ ИНДИВИДУАЛЬНОГО ПЛАНА: ПАЦИЕНТКА ПЕРЕВЕДЕНА НА САМОСТОЯТЕЛЬНОЕ ДЫХАНИЕ, ВЕРТИКАЛИЗИРОВАНА, МОБИЛИЗИРОВАНА ДО УРОВНЯ ШАГОВ У ПОСТЕЛИ, БЕЗ ДИСФАГИИ.\\\\nПРОДОЛЖИТЬ РЕАБИЛИТАЦИОННЫЕ МЕРОПРИЯТИЯ В УСЛОВИЯХ ПРОФИЛЬНОГО ОТДЕЛЕНИЯ.\\\\n\\\\nЦЕЛЬ РЕАБИЛИТАЦИИ ДОЛГОСРОЧНЫЕ: ПРОФИЛАКТИКА И КОРРЕКЦИЯ МОДИФИЦИРУЕМЫХ СЕРДЕЧНО-СОСУДИСТЫХ ФАКТОРОВ РИСКА; КОРРЕКЦИЯ ЛИПИДНОГО ПРОФИЛЯ (ДОСТИЖЕНИЕ ЦЕЛЕВЫХ ЗНАЧЕНИЙ ЛПНП ? 1,4 ММОЛЬ/Л, ОБЩ.ХОЛЕТЕРИНА ? 4 ММОЛЬ/Л, ТГ ? 1,7 ММОЛЬ/Л), УЛУЧШЕНИЕ КАЧЕСТВА ЖИЗНИ, ВОССТАНОВЛЕНИЕ УРОВНЯ ЖИЗНИ ПАЦИЕНТА.\\\\nЦЕЛИ РЕАБИЛИТАЦИИ КРАТКОСРОЧНЫЕ: УМЕНЬШЕНИЕ/КУПИРОВАНИЕ БОЛЕВОГО СИНДРОМА (0-1 Б ПО ВАШ), ПОВЫШЕНИЕ ТОЛЕРАНТНОСТИ К ФН (ХОДЬБА ДО 500 М, ПОДЪЕМ ПО ЛЕСТНИЦЕ НА 1 ПРОЛЕТ САМОСТОЯТЕЛЬНО); УВЕЛИЧЕНИЕ ФУНКЦИОНАЛЬНОЙ НЕЗАВИСИМОСТИ ПАЦИЕНТА (ПО ШКАЛЕ FIM); УВЕЛИЧЕНИЕ МОБИЛЬНОСТИ (ДО 13 Б ПО РИВЕРМИД), ДОСТИЖЕНИЕ III СТУПЕНИ ДВИГАТЕЛЬНОЙ АКТИВНОСТИ ЗА 8-10 ДНЕЙ.\\\\nЗАДАЧИ РЕАБИЛИТАЦИИ: УСКОРЕНИЕ ЗАЖИВЛЕНИЯ ПОСЛЕОПЕРАЦИОННЫХ РАН, ПРОФИЛАКТИКА/РЕГРЕСС ГИДРОТОРАКСА, НОРМАЛИЗАЦИЯ УРОВНЯ ЛАБОРАТОРНЫХ ПОКАЗАТЕЛЕЙ, НОРМАЛИЗАЦИЯ ГЕМОДИНАМИЧЕСКИХ ПОКАЗАТЕЛЕЙ (ЧСС, АД). \\\\nРЕАБИЛИТАЦИОННЫЙ ПОТЕНЦИАЛ: СРЕДНИЙ  \\\\n РЕКОМЕНДАЦИИ  :  ИНДИВИДУАЛЬНАЯ ПРОГРАММА РЕАБИЛИТАЦИИ:\\\\nРЕЖИМ ДВИГАТЕЛЬНОЙ АКТИВНОСТИ: ПАЛАТНЫЙ, В ДАЛЬНЕЙШЕМ С РАСШИРЕНИЕМ ДО РЕЖИМА -СВОБОДНЫЙ (ЩАДЯЩИЙ). \\\\nДИЕТА НКД (9), ГИПОХОЛЕСТЕРИНОВАЯ ДИЕТА, ЛИПИДСНИЖАЩАЯ ТЕРАПИЯ. НОРМАЛИЗАЦИЯ МАССЫ ТЕЛА (ИМТ 18-25 КГ/М2).\\\\nНОШЕНИЕ ПОСЛЕОПЕРАЦИОННОГО БАНДАЖА. \\\\nЭЛАСТИЧНОЕ БИНТОВАНИЕ Н/К.\\\\nИНДИВИДУАЛЬНОЕ ЗАНЯТИЕ ЛЕЧЕБНОЙ ФИЗКУЛЬТУРОЙ (КОМПЛЕКС ЛФК №1,2 + ДЫХАТЕЛЬНАЯ ГИМНАСТИКА) 30 МИНУТ № 10. ИНТЕНСИВНОСТЬ ОДЫШКИ ПО ШКАЛЕ БОРГА НЕ БОЛЕЕ 13 БАЛЛОВ. \\\\nИНГАЛЯТОРНОЕ ВВЕДЕНИЕ ЛЕКАРСТВЕННЫХ ПРЕПАРАТОВ ЧЕРЕЗ НЕБУЛАЙЗЕР (0,9% ХЛОРИД НАТРИЯ) 1 РАЗ В ДЕНЬ №7. \\\\nМАССАЖ ГРУДНОЙ КЛЕТКИ МЕДИЦИНСКИЙ - 5 ПРОЦЕДУР. \\\\nДОЗИРОВАННАЯ ХОДЬБА ДО 50 М С ПАУЗАМИ С ПОСТЕПЕННЫМ УВЕЛИЧЕНИЕМ ПРОЙДЕННОГО РАССТОЯНИЯ НА 50-100 М ПОД КОНТРОЛЕМ ЧСС И САМОЧУВСТВИЯ. ИНТЕНСИВНОСТЬ НАГРУЗКИ ПО ШКОЛЕ БОРГА НЕ БОЛЕЕ 11-13 БАЛЛОВ. \\\\nИСКЛЮЧИТЬ ПОДНЯТИЕ ТЯЖЕСТЕЙ, ИНТЕНСИВНОГО ТОЛКАНИЯ, ВЫТЯГИВАНИЯ И НАПРЯЖЕНИЯ.\\\\nИСКЛЮЧИТЬ НАГРУЗКУ НА ВЕРХНИЙ ПЛЕЧЕВОЙ ПОЯС, АКТИВНЫЕ ДВИЖЕНИЯ В ПЛЕЧЕВЫХ СУСТАВАХ (ОТВЕДЕНИЕ, РАЗГИБАНИЕ БОЛЕЕ 90°).\\\\n\\\\nВРАЧ СЕРДЕЧНО-СОСУДИСТЫЙ ХИРУРГ\\\\n!!!!!!!!!!!!! Н.И.\\\\nИНСТРУКТОР МЕТОДИСТ ПО ЛЕЧЕБНОЙ ФИЗКУЛЬТУРЕ \\\\n!!!!!!!!!!!!! С.С.\\'}}]}, {\\'{urn:hl7-org:v3}td\\': [{\\'{urn:hl7-org:v3}content\\': {\\'text\\': \\'Заключение\\'}}, {\\'{urn:hl7-org:v3}content\\': {\\'text\\': \\'Нет данных\\'}}]}, {\\'{urn:hl7-org:v3}td\\': [{\\'{urn:hl7-org:v3}content\\': {\\'text\\': \\'Диагноз\\'}}, {\\'{urn:hl7-org:v3}content\\': {\\'text\\': \\'I21.4 Острый субэндокардиальный инфаркт миокарда\\'}}]}, {\\'{urn:hl7-org:v3}td\\': [{\\'{urn:hl7-org:v3}content\\': {\\'text\\': \\'Рекомендации\\'}}, {\\'{urn:hl7-org:v3}content\\': {\\'text\\': \\'ИНДИВИДУАЛЬНАЯ ПРОГРАММА РЕАБИЛИТАЦИИ:\\\\nРЕЖИМ ДВИГАТЕЛЬНОЙ АКТИВНОСТИ: ПАЛАТНЫЙ, В ДАЛЬНЕЙШЕМ С РАСШИРЕНИЕМ ДО РЕЖИМА -СВОБОДНЫЙ (ЩАДЯЩИЙ). \\\\nДИЕТА НКД (9), ГИПОХОЛЕСТЕРИНОВАЯ ДИЕТА, ЛИПИДСНИЖАЩАЯ ТЕРАПИЯ. НОРМАЛИЗАЦИЯ МАССЫ ТЕЛА (ИМТ 18-25 КГ/М2).\\\\nНОШЕНИЕ ПОСЛЕОПЕРАЦИОННОГО БАНДАЖА. \\\\nЭЛАСТИЧНОЕ БИНТОВАНИЕ Н/К.\\\\nИНДИВИДУАЛЬНОЕ ЗАНЯТИЕ ЛЕЧЕБНОЙ ФИЗКУЛЬТУРОЙ (КОМПЛЕКС ЛФК №1,2 + ДЫХАТЕЛЬНАЯ ГИМНАСТИКА) 30 МИНУТ № 10. ИНТЕНСИВНОСТЬ ОДЫШКИ ПО ШКАЛЕ БОРГА НЕ БОЛЕЕ 13 БАЛЛОВ. \\\\nИНГАЛЯТОРНОЕ ВВЕДЕНИЕ ЛЕКАРСТВЕННЫХ ПРЕПАРАТОВ ЧЕРЕЗ НЕБУЛАЙЗЕР (0,9% ХЛОРИД НАТРИЯ) 1 РАЗ В ДЕНЬ №7. \\\\nМАССАЖ ГРУДНОЙ КЛЕТКИ МЕДИЦИНСКИЙ - 5 ПРОЦЕДУР. \\\\nДОЗИРОВАННАЯ ХОДЬБА ДО 50 М С ПАУЗАМИ С ПОСТЕПЕННЫМ УВЕЛИЧЕНИЕМ ПРОЙДЕННОГО РАССТОЯНИЯ НА 50-100 М ПОД КОНТРОЛЕМ ЧСС И САМОЧУВСТВИЯ. ИНТЕНСИВНОСТЬ НАГРУЗКИ ПО ШКОЛЕ БОРГА НЕ БОЛЕЕ 11-13 БАЛЛОВ. \\\\nИСКЛЮЧИТЬ ПОДНЯТИЕ ТЯЖЕСТЕЙ, ИНТЕНСИВНОГО ТОЛКАНИЯ, ВЫТЯГИВАНИЯ И НАПРЯЖЕНИЯ.\\\\nИСКЛЮЧИТЬ НАГРУЗКУ НА ВЕРХНИЙ ПЛЕЧЕВОЙ ПОЯС, АКТИВНЫЕ ДВИЖЕНИЯ В ПЛЕЧЕВЫХ СУСТАВАХ (ОТВЕДЕНИЕ, РАЗГИБАНИЕ БОЛЕЕ 90°).\\\\n\\\\nВРАЧ СЕРДЕЧНО-СОСУДИСТЫЙ ХИРУРГ\\\\n!!!!!!!!!!!!! Н.И.\\\\nИНСТРУКТОР МЕТОДИСТ ПО ЛЕЧЕБНОЙ ФИЗКУЛЬТУРЕ \\\\n!!!!!!!!!!!!! С.С.\\'}}]}, {\\'{urn:hl7-org:v3}td\\': [{\\'{urn:hl7-org:v3}content\\': {\\'text\\': \\'Услуги\\'}}, {\\'{urn:hl7-org:v3}content\\': {\\'text\\': \\'Прием (осмотр, консультация) врача по медицинской профилактике первичный (B01.070.002)\\'}}]}, {\\'{urn:hl7-org:v3}td\\': [{\\'{urn:hl7-org:v3}content\\': {\\'text\\': \\'Автор документа\\'}}, {\\'{urn:hl7-org:v3}content\\': {\\'text\\': \\'!!!!!!!!!!!!! !!!!!!!!!!!!! !!!!!!!!!!!!! (Врач физической и реабилитационной медицины)\\'}}]}]}, \\'width\\': \\'100%\\'}}, \\'Прием (осмотр, консультация) врача-эндокринолога повторный (14.11.2023 09:44)\\': {\\'{urn:hl7-org:v3}table\\': {\\'{urn:hl7-org:v3}col\\': [{\\'width\\': \\'12%\\'}, {\\'width\\': \\'88%\\'}], \\'{urn:hl7-org:v3}tbody\\': {\\'{urn:hl7-org:v3}tr\\': [{\\'{urn:hl7-org:v3}td\\': [{\\'{urn:hl7-org:v3}content\\': {\\'text\\': \\'Объективно\\'}}, {\\'{urn:hl7-org:v3}content\\': {\\'text\\': \\'БЮДЖЕТНОЕ УЧРЕЖДЕНИЕ ХМАО-ЮГРЫ \"! \\\\n\"\"\\\\n!\\\\n\\\\nПРОТОКОЛ ОБСЛЕДОВАНИЯ № !!!!!!!!!!!!!\\\\n\\\\n\\\\nВИД ОПЛАТЫ\\\\nФ.И.О.: А Л Н\\\\nВОЗРАСТ (ДАТА РОЖДЕНИЯ): 76 ( 01.01.1698!)\\\\n\\\\nЖАЛОБЫ: НА СЛПБОСТЬ\\\\nАНАМНЕЗ ЗАБОЛЕВАНИЯ. С АНАМНЕЗОМ ОЗНАКОМЛЕНА. ДОПОЛНЕНИЙ НЕТ\\\\nОБЪЕКТИВНЫЙ СТАТУС\\\\nСОСТОЯНИЕ СРЕДНЕЙ СТЕПЕНИ ТЯЖЕСТИ ПО ОСНОВНОМУ ЗАБОЛЕВАНИЮ. ВЕС 91 КГ, РОСТ 160 СМ, ИМТ_35,5 КГ/М2_ТЕМПЕРАТУРА ТЕЛА 36,3 \\\\nКОЖНЫЕ ПОКРОВЫ ЧИСТЫЕ, УМЕРЕННО ВЛАЖНЫЕ , П/К РАЗВИТ ИЗБЫТОЧНО\\\\nЯЗЫК НЕ УВЕЛИЧЕН. ЛИМФОУЗЛЫ НЕ ПАЛЬПИРУЮТСЯ \\\\nЩИТОВИДНАЯ ЖЕЛЕЗА НЕ УВЕЛИЧИНА, ЭЛАСТИЧНАЯ, НЕ ОДНОРОДНАЯ. УЗЛОВЫЕ ОБРАЗВАНИЯ НЕ ПАЛЬПИРУЮ. \\\\nОВОЛОСЕНИЕ ПО МУЖСКОМУ, ЖЕНСКОМУ ТИПУ. ГАЛАКТОРЕЯ НЕТ.\\\\nВ ЛЕГКИХ ДЫХАНИЕ ВЕЗИКУЛЯРНОЕ, БРОНХИАЛЬНОЕ. ЧДД 16 В МИН.\\\\nТОНЫ СЕРДЦА ПРИГЛУШЕННЫЕ. ЧСС _74_ В МИН. АД _130/80_ ММ.РТ.СТ.\\\\nЖИВОТ МЯГКИЙ, БЕЗБОЛЕЗНЕННЫЙ ПЕЧЕНЬ: НЕ УВЕЛИЧЕНА \\\\nСТУЛ РЕГУЛЯРНЫЙ ДИУРЕЗ НЕ УЧАЩЕН ОТЕКИ ГОЛЕНЕЙ \\\\nРЕЗУЛЬТАТЫ ОБСЛЕДОВАНИЯ:\\\\n\\\\nЗАКЛЮЧЕНИЕ: \\\\n 19.10.2023 11:52:00   ГЛИКОЗИЛИРОВАННЫЙ ГЕМОГЛОБИН:  - 5.73 %;\\\\nЗАКЛЮЧЕНИЕ: В ПРЕДЕЛАХ РЕФЕРЕНСНЫХ ЗНАЧЕНИЙ.\\\\n 03.11.2023 9:30:00   ИССЛЕДОВАНИЕ УРОВНЯ СВОБОДНОГО ТИРОКСИНА (СТ4) СЫВОРОТКИ КРОВИ:  - 0.66 NG\\\\\\\\DL;\\\\n 03.11.2023 9:30:00   ИССЛЕДОВАНИЕ УРОВНЯ ТИРЕОТРОПНОГО ГОРМОНА (ТТГ) В КРОВИ: ИССЛЕДОВАНИЕ УРОВНЯ ТИРЕОТРОПНОГО ГОРМОНА (ТТГ) В КРОВИ - 3.31 MIU\\\\\\\\ML;\\\\nЗАКЛЮЧЕНИЕ: КОНСУЛЬТАЦИЯ ЭНДОКРИНОЛОГА\\\\n 13.11.2023 10:10:00   ОБЩИЙ (КЛИНИЧЕСКИЙ) АНАЛИЗ КРОВИ РАЗВЕРНУТЫЙ: ЛЕЙКОЦИТЫ - 10.62 10^9/Л;НЕЙТРОФИЛЫ АБС. - 9.05 ;НЕЙТРОФИЛЫ - 77.0 %;ЛИМФОЦИТЫ АБС. - 0.82 ;ЛИМФОЦИТЫ - 8.0 %;МОНОЦИТЫ АБС. - 0.58 ;МОНОЦИТЫ - 6.0 %;ЭОЗИНОФИЛЫ АБС. - 0.14 ;ЭОЗИНОФИЛЫ - 1.0 %;БАЗОФИЛЫ АБС. - 0.03 ;БАЗОФИЛЫ - 0.0 %;ЭРИТРОЦИТЫ - 3.58 10^12/Л;ГЕМОГЛОБИН - 101.0 Г/Л;ГЕМАТОКРИТ - 32.4 %;MCV - 90.5 ;MCH - 28.2 ;MCHC - 312.0 ;RDW - 16.9 ;ТРОМБОЦИТЫ - 339.0 10^9/Л;MPV - 8.9 ;PCT - 0.3 ;PDW - 10.0 ;СОЭ - 34.0 ММ/Ч;ПАЛОЧКОЯДЕРНЫЕ НЕЙТРОФИЛЫ - 3.0 ;МИЕЛОЦИТЫ - 2.0 ;МЕТАМИЕЛОЦИТЫ - 3.0 ;\\\\nЗАКЛЮЧЕНИЕ: УВЕЛИЧЕНИЕ СОЭ, АНЕМИЯ,  ЛЕЙКОЦИТОЗ, НЕЙТРОФИЛИЯ, ЛИМФОПЕНИЯ, СДВИГ ВЛЕВО ДО МИЕЛОЦИТОВ.\\\\n 13.11.2023 10:50:00   ИССЛЕДОВАНИЕ УРОВНЯ НАТРИЯ В КРОВИ:  - 139.0 ММОЛЬ/Л;\\\\n 13.11.2023 10:50:00   ИССЛЕДОВАНИЕ УРОВНЯ КАЛИЯ В КРОВИ:  - 3.96 ММОЛ/Л;\\\\n 13.11.2023 10:50:00   ИССЛЕДОВАНИЕ УРОВНЯ КРЕАТИНИНА В КРОВИ:  - 52.0 МКМОЛЬ/Л;\\\\n 13.11.2023 10:50:00   ИССЛЕДОВАНИЕ УРОВНЯ МОЧЕВИНЫ В КРОВИ:  - 5.3 ММОЛЬ/Л;\\\\n 13.11.2023 10:50:00   ОПРЕДЕЛЕНИЕ АКТИВНОСТИ АСПАРТАТАМИНОТРАНСФЕРАЗЫ В КРОВИ:  - 24.0 U/L;\\\\n 13.11.2023 10:50:00   ОПРЕДЕЛЕНИЕ АКТИВНОСТИ АЛАНИНАМИНОТРАНСФЕРАЗЫ В КРОВИ:  - 23.0 U/L;\\\\nЗАКЛЮЧЕНИЕ: В ПРЕДЕЛАХ РЕФЕРЕНСНЫХ ЗНАЧЕНИЙ\\\\n\\\\n\\\\nДИАГНОЗ СПЕЦИАЛИСТА:\\\\nСТРЕССОВАЯ ГИПЕРГЛИКЕМИЯ\\\\nЭКЗОГЕННО-КОНСТИТУИЦОНАЛЬНОЕ ОЖИРЕНИЕ II СТ (ВОЗ) (Е66.0)\\\\nРЕКОМЕНДАЦИИ:\\\\n - СБАЛАНСИРОВАННОЕ ПИТАНИЕ\\\\nГЛЮКОЗА КРОВИ, ГЛИКИРОВАННЫЙ ГЕМОГЛОБИН ЧЕРЕЗ 6 МЕС\\\\nОСМОТР ЭНДОКРИНОЛОГА ЧЕРЕЗ 6 МЕС ПО М/Ж\\'}}]}, {\\'{urn:hl7-org:v3}td\\': [{\\'{urn:hl7-org:v3}content\\': {\\'text\\': \\'Заключение\\'}}, {\\'{urn:hl7-org:v3}content\\': {\\'text\\': \\'Нет данных\\'}}]}, {\\'{urn:hl7-org:v3}td\\': [{\\'{urn:hl7-org:v3}content\\': {\\'text\\': \\'Диагноз\\'}}, {\\'{urn:hl7-org:v3}content\\': {\\'text\\': \\'I21.4 Острый субэндокардиальный инфаркт миокарда\\'}}]}, {\\'{urn:hl7-org:v3}td\\': [{\\'{urn:hl7-org:v3}content\\': {\\'text\\': \\'Рекомендации\\'}}, {\\'{urn:hl7-org:v3}content\\': {\\'text\\': \\'Нет данных\\'}}]}, {\\'{urn:hl7-org:v3}td\\': [{\\'{urn:hl7-org:v3}content\\': {\\'text\\': \\'Услуги\\'}}, {\\'{urn:hl7-org:v3}content\\': {\\'text\\': \\'Прием (осмотр, консультация) врача-эндокринолога повторный (B01.058.002)\\'}}]}, {\\'{urn:hl7-org:v3}td\\': [{\\'{urn:hl7-org:v3}content\\': {\\'text\\': \\'Автор документа\\'}}, {\\'{urn:hl7-org:v3}content\\': {\\'text\\': \\'!!!!!!!!!!!!! !!!!!!!!!!!!! !!!!!!!!!!!!! (Врач-эндокринолог)\\'}}]}]}, \\'width\\': \\'100%\\'}}, \\'Электрокардиография (13.11.2023 08:56)\\': {\\'{urn:hl7-org:v3}table\\': {\\'{urn:hl7-org:v3}col\\': [{\\'width\\': \\'12%\\'}, {\\'width\\': \\'88%\\'}], \\'{urn:hl7-org:v3}tbody\\': {\\'{urn:hl7-org:v3}tr\\': [{\\'{urn:hl7-org:v3}td\\': [{\\'{urn:hl7-org:v3}content\\': {\\'text\\': \\'Эффективная доза\\'}}, {\\'{urn:hl7-org:v3}content\\': {}}]}, {\\'{urn:hl7-org:v3}td\\': [{\\'{urn:hl7-org:v3}content\\': {\\'text\\': \\'Протокол\\'}}, {\\'{urn:hl7-org:v3}content\\': {\\'text\\': \\'БЮДЖЕТНОЕ УЧРЕЖДЕНИЕ ХМАО-ЮГРЫ \"! \\\\n\"\"\\\\n!\\\\n\\\\nПРОТОКОЛ ОБСЛЕДОВАНИЯ № !!!!!!!!!!!!!\\\\n\\\\n\\\\nФ.И.О.: А Л Н\\\\nВОЗРАСТ (ДАТА РОЖДЕНИЯ): 76 ( 01.01.1698!)\\\\nПРЕДВАРИТЕЛЬНЫЙ ДИАГНОЗ: \\\\n11.11.2023Г  06:21  \\\\n ЗАКЛЮЧЕНИЕ  : \\\\nСИНУСОВЫЙ РИТМ С ЧСС 62 В МИН. ЭОС ОТКЛОНЕНА ВЛЕВО \\\\nНЕПОЛНАЯ БЛОКАДА ПНПГ \\\\nПРИЗНАКИ ПЕРЕНЕСЁННОГО Q -ИМ НИЖНЕЙ СТЕНКИ \\\\nНЕВЫРАЖЕННЫЙ НЕСПЕЦИФИЧЕСКИЙ КОСОВОСХОДЯЩИЙ ПОДЪЁМ С. ST В V2-V6\\'}}]}, {\\'{urn:hl7-org:v3}td\\': [{\\'{urn:hl7-org:v3}content\\': {\\'text\\': \\'Заключение\\'}}, {\\'{urn:hl7-org:v3}content\\': {\\'text\\': \\'ЗАКЛЮЧЕНИЕ  : \\\\nСИНУСОВЫЙ РИТМ С ЧСС 62 В МИН. ЭОС ОТКЛОНЕНА ВЛЕВО \\\\nНЕПОЛНАЯ БЛОКАДА ПНПГ \\\\nПРИЗНАКИ ПЕРЕНЕСЁННОГО Q -ИМ НИЖНЕЙ СТЕНКИ \\\\nНЕВЫРАЖЕННЫЙ НЕСПЕЦИФИЧЕСКИЙ КОСОВОСХОДЯЩИЙ ПОДЪЁМ С. ST В V2-V6\\'}}]}, {\\'{urn:hl7-org:v3}td\\': [{\\'{urn:hl7-org:v3}content\\': {\\'text\\': \\'Выявленная патология\\'}}, {\\'{urn:hl7-org:v3}content\\': {}}]}, {\\'{urn:hl7-org:v3}td\\': [{\\'{urn:hl7-org:v3}content\\': {\\'text\\': \\'Диагноз\\'}}, {\\'{urn:hl7-org:v3}content\\': {\\'text\\': \\'I21.4 Острый субэндокардиальный инфаркт миокарда\\'}}]}, {\\'{urn:hl7-org:v3}td\\': [{\\'{urn:hl7-org:v3}content\\': {\\'text\\': \\'Услуги\\'}}, {\\'{urn:hl7-org:v3}content\\': {\\'text\\': \\'Регистрация электрокардиограммы (A05.10.006)\\'}}]}, {\\'{urn:hl7-org:v3}td\\': [{\\'{urn:hl7-org:v3}content\\': {\\'text\\': \\'Врач\\'}}, {\\'{urn:hl7-org:v3}content\\': {\\'text\\': \\'!!!!!!!!!!!!! !!!!!!!!!!!!! !!!!!!!!!!!!! (Врач функциональной диагностики)\\'}}]}]}, \\'width\\': \\'100%\\'}}, \\'Рентгеноскопия грудной клетки (14.11.2023 11:24)\\': {\\'{urn:hl7-org:v3}table\\': {\\'{urn:hl7-org:v3}col\\': [{\\'width\\': \\'12%\\'}, {\\'width\\': \\'88%\\'}], \\'{urn:hl7-org:v3}tbody\\': {\\'{urn:hl7-org:v3}tr\\': [{\\'{urn:hl7-org:v3}td\\': [{\\'{urn:hl7-org:v3}content\\': {\\'text\\': \\'Эффективная доза\\'}}, {\\'{urn:hl7-org:v3}content\\': {}}]}, {\\'{urn:hl7-org:v3}td\\': [{\\'{urn:hl7-org:v3}content\\': {\\'text\\': \\'Протокол\\'}}, {\\'{urn:hl7-org:v3}content\\': {\\'text\\': \\'С ПАЦИЕНТОМ (ЕГО ЗАКОННЫМ ПРЕДСТАВИТЕЛЕМ) ПРОВЕДЕНО СОБЕСЕДОВАНИЕ О \\\\nПРЕДСТОЯЩЕМ ИССЛЕДОВАНИИ. ДОБРОВОЛЬНОЕ ИНФОРМИРОВАННОЕ СОГЛАСИЕ ПОЛУЧЕНО.\\\\n\\\\nНА ПРЕДСТАВЛЕННОЙ РЕНТГЕНОГРАММЕ В ПОЛОЖЕНИИ СИДЯ:\\\\nВИДИМЫЕ ЛЕГОЧНЫЕ ПОЛЯ -ПРОЗРАЧНОСТЬ СНИЖЕНА. \\\\nОЧАГОВЫХ И ИНФИЛЬТРАТИВНЫХ ИЗМЕНЕНИЙ НЕ ОПРЕДЕЛЯЕТСЯ.\\\\nЛЕГОЧНОЙ РИСУНОК ВЫРАЖЕН УМЕРЕННО.\\\\nКОРНИ - ЗА СРЕДИННОЙ ТЕНЬЮ. \\\\nСРЕДИННАЯ ТЕНЬ СМЕЩЕНА, РАСШИРЕНА НА УРОВНЕ ВЕРХНЕГО ЭТАЖА.\\\\nСЕРДЦЕ ВИЗУАЛЬНО НЕ РАСШИРЕНО.\\\\nДУГА АОРТЫ ДИФФЕРЕНЦИРУЕТСЯ, ДИАМЕР АОРТЫ РАСШИРЕН.\\\\nКУПОЛА ДИАФРАГМЫ ЧЕТКИЕ, РОВНЫЕ.\\\\nНАРУЖНЫЕ СИНУСЫ СВОБОДНЫЕ.  \\\\nВ ВЕРХНЕЙ ПОЛОЙ ВЕНЕ КАТЕТЕР. \\\\nГРУДИНА С ПРОВОЛОЧНЫМИ ШВАМИ.\\\\nЗАКЛЮЧЕНИЕ:РЕНТГЕН-КАРТИНА СОСТОЯНИЯ ПОСЛЕ ОПЕРАТИВНОГО ВМЕШАТЕЛЬСТВА.\\'}}]}, {\\'{urn:hl7-org:v3}td\\': [{\\'{urn:hl7-org:v3}content\\': {\\'text\\': \\'Заключение\\'}}, {\\'{urn:hl7-org:v3}content\\': {\\'text\\': \\'Рентген-картина состояния после оперативного вмешательства.\\'}}]}, {\\'{urn:hl7-org:v3}td\\': [{\\'{urn:hl7-org:v3}content\\': {\\'text\\': \\'Выявленная патология\\'}}, {\\'{urn:hl7-org:v3}content\\': {}}]}, {\\'{urn:hl7-org:v3}td\\': [{\\'{urn:hl7-org:v3}content\\': {\\'text\\': \\'Диагноз\\'}}, {\\'{urn:hl7-org:v3}content\\': {\\'text\\': \\'I21.4 Острый субэндокардиальный инфаркт миокарда\\'}}]}, {\\'{urn:hl7-org:v3}td\\': [{\\'{urn:hl7-org:v3}content\\': {\\'text\\': \\'Услуги\\'}}, {\\'{urn:hl7-org:v3}content\\': {\\'text\\': \\'Рентгенография легких цифровая (A06.09.007.002)\\'}}]}, {\\'{urn:hl7-org:v3}td\\': [{\\'{urn:hl7-org:v3}content\\': {\\'text\\': \\'Врач\\'}}, {\\'{urn:hl7-org:v3}content\\': {\\'text\\': \\'! !!!!!!!!!!!!! ! (Врач-рентгенолог)\\'}}]}]}, \\'width\\': \\'100%\\'}}, \\'Электрокардиография (14.11.2023 12:17)\\': {\\'{urn:hl7-org:v3}table\\': {\\'{urn:hl7-org:v3}col\\': [{\\'width\\': \\'12%\\'}, {\\'width\\': \\'88%\\'}], \\'{urn:hl7-org:v3}tbody\\': {\\'{urn:hl7-org:v3}tr\\': [{\\'{urn:hl7-org:v3}td\\': [{\\'{urn:hl7-org:v3}content\\': {\\'text\\': \\'Эффективная доза\\'}}, {\\'{urn:hl7-org:v3}content\\': {}}]}, {\\'{urn:hl7-org:v3}td\\': [{\\'{urn:hl7-org:v3}content\\': {\\'text\\': \\'Протокол\\'}}, {\\'{urn:hl7-org:v3}content\\': {\\'text\\': \\'!\\\\n!\\\\nПРОТОКОЛ ОБСЛЕДОВАНИЯ № !!!!!!!!!!!!!\\\\n\\\\nФ.И.О.: А Л Н\\\\nВОЗРАСТ (ДАТА РОЖДЕНИЯ): 76 ( 01.01.1698!) \\\\nРЕЗУЛЬТАТЫ ОБСЛЕДОВАНИЯ:\\\\nПРАВОЕ ПРЕДСЕРДИЕ:   3,4  СМ.; \\\\tПРАВЫЙ ЖЕЛУДОЧЕК:  2,7  СМ.; \\\\nЛЕВОЕ ПРЕДСЕРДИЕ:  3,6  СМ.; В ДЛИНУ: СМ.; ОБЪЕМ МЛ.\\\\nЛЕВЫЙ ЖЕЛУДОЧЕК: КДР:  5,0  СМ.; КСР:  3,4  СМ.;\\\\nКДО:  126  МЛ.; КСО:  56  МЛ.; УО:  70  МЛ.;\\\\nФВ:  56  % ФУ: %\\\\tФВ В «В РЕЖИМЕ» %\\\\nМЖП:  1,3  СМ ; НЕОПРЕДЕЛЕННЫЙ ТИП ДВИЖЕНИЯ \\\\nЗАДНЯЯ СТЕНКА:  1,1  СМ.; НОРМОКИНЕЗ\\\\nМИТРАЛЬНЫЙ КЛАПАН: СТВОРКИ УПЛОТНЕНЫ, ПРОТИВОФАЗА СОХРАНЕНА \\\\n\\\\tРСМК - СМ.;\\\\tФК В ДИАСТОЛУ - СМ.;\\\\nМИТРАЛЬНОЕ ОТВЕРСТИЕ: СМ2.; Д - СМ2\\\\nГРАДИЕНТ ДАВЛЕНИЯ ПИК: 2,4 ММ. РТ. СТ. СРЕДНИЙ: ММ. РТ. СТ.\\\\nСКОРОСТЬ КРОВОТОКА: 0,8 М/С.; СТЕПЕНЬ РЕГУРГИТАЦИИ: 1\\\\nАОРТА: СТЕНКИ УПЛОТНЕНЫ, АМПЛИТУДА ИХ ДВИЖЕНИЯ СОХРАНЕНА \\\\nФИБРОЗНОЕ КОЛЬЦО: СМ.; НЕ УПЛОТНЕНО;\\\\nДИАМЕТР АО НА УРОВНЕ СИНУСОВ ВАЛЬСАЛЬВЫ:    СМ. ВОСХОДЯЩАЯ АОРТА: ПРОТЕЗ СМ..\\\\nДУГА АОРТЫ СМ ПЕРЕШЕЕК СМ. НИСХОДЯЩАЯ АОРТА СМ. \\\\nАОРТАЛЬНЫЙ КЛАПАН: СТВОРКИ УПЛОТНЕНЫ, ОТКРЫТИЕ СМ.\\\\nГРАДИЕНТ ДАВЛЕНИЯ ПИК:  6,0  ММ. РТ. СТ.; СРЕДНИЙ: ММ. РТ. СТ.\\\\nСКОРОСТЬ КРОВОТОКА:  1,2  М/С. СТЕПЕНЬ РЕГУРГИТАЦИИ:1\\\\nТРИКУСПИДАЛЬНЫЙ КЛАПАН: ИНТАКТНЫЙ \\\\nГРАДИЕНТ ДАВЛЕНИЯ ПИК: ММ. РТ. СТ.; СРЕДНИЙ: ММ. РТ. СТ.\\\\nСКОРОСТЬ КРОВОТОКА: М/С. СТЕПЕНЬ РЕГУРГИТАЦИИ: 1\\\\nЛЕГОЧНАЯ АРТЕРИЯ: ФК СМ, СТВОЛ: СМ, ПРАВАЯ ВЕТВЬ СМ, ЛЕВАЯ: СМ.\\\\nГРАДИЕНТ ДАВЛЕНИЯ ПИК:  2,6  ММ. РТ. СТ.; СРЕДНИЙ: ММ. РТ. СТ.\\\\nСКОРОСТЬ КРОВОТОКА:  0,8  М/С.; СТЕПЕНЬ РЕГУРГИТАЦИИ: 1\\\\nСИСТ. ДАВЛЕНИЕ В ЛЕГОЧНОЙ АРТЕРИИ: ММ. РТ. СТ. ПО ПОТОКУ TR 27 ММ. РТ. СТ.\\\\nПЕРИКАРД: СЕПАРАЦИЯ ЛИСТКОВ ПЕРИКАРДА НАД ПЖ, ВЕРХУШКОЙ ДО 1,0 СМ, ЗА ОСТАЛЬНЫМИ СТЕНКАМИ ДО 0,5 СМ БЕЗ СДАВЛЕНИЯ СТЕНОК СЕРДЦА.\\\\n ЗАКЛЮЧЕНИЕ  : \\\\nМКШ, ПРОТЕЗИРОВАНИЕ ВОСХОДЯЩЕГО ОТДЕЛА АОРТЫ (31.10.23Г)\\\\nКАМЕРЫ СЕРДЦА НЕ УВЕЛИЧЕНЫ.\\\\nСИСТОЛИЧЕСКАЯ ФУНКЦИЯ МИОКАРДА ЛЖ УДОВЛЕТВОРИТЕЛЬНАЯ.\\\\nНАЛИЧИЕ НЕБОЛЬШОГО КОЛИЧЕСТВА ЖИДКОСТИ 50 МЛ В ПОЛОСТИ ПЕРИКАРДА, БЕЗ СДАВЛЕНИЯ СТЕНОК СЕРДЦА.\\'}}]}, {\\'{urn:hl7-org:v3}td\\': [{\\'{urn:hl7-org:v3}content\\': {\\'text\\': \\'Заключение\\'}}, {\\'{urn:hl7-org:v3}content\\': {\\'text\\': \\'ЗАКЛЮЧЕНИЕ  : \\\\nМКШ, ПРОТЕЗИРОВАНИЕ ВОСХОДЯЩЕГО ОТДЕЛА АОРТЫ (31.10.23Г)\\\\nКАМЕРЫ СЕРДЦА НЕ УВЕЛИЧЕНЫ.\\\\nСИСТОЛИЧЕСКАЯ ФУНКЦИЯ МИОКАРДА ЛЖ УДОВЛЕТВОРИТЕЛЬНАЯ.\\\\nНАЛИЧИЕ НЕБОЛЬШОГО КОЛИЧЕСТВА ЖИДКОСТИ 50 МЛ В ПОЛОСТИ ПЕРИКАРДА, БЕЗ СДАВЛЕНИЯ СТЕНОК СЕРДЦА.\\'}}]}, {\\'{urn:hl7-org:v3}td\\': [{\\'{urn:hl7-org:v3}content\\': {\\'text\\': \\'Выявленная патология\\'}}, {\\'{urn:hl7-org:v3}content\\': {}}]}, {\\'{urn:hl7-org:v3}td\\': [{\\'{urn:hl7-org:v3}content\\': {\\'text\\': \\'Диагноз\\'}}, {\\'{urn:hl7-org:v3}content\\': {\\'text\\': \\'I21.4 Острый субэндокардиальный инфаркт миокарда\\'}}]}, {\\'{urn:hl7-org:v3}td\\': [{\\'{urn:hl7-org:v3}content\\': {\\'text\\': \\'Услуги\\'}}, {\\'{urn:hl7-org:v3}content\\': {\\'text\\': \\'Эхокардиография (A04.10.002)\\'}}]}, {\\'{urn:hl7-org:v3}td\\': [{\\'{urn:hl7-org:v3}content\\': {\\'text\\': \\'Врач\\'}}, {\\'{urn:hl7-org:v3}content\\': {\\'text\\': \\'!!!!!!!!!!!!! !!!!!!!!!!!!! !!!!!!!!!!!!! (Врач функциональной диагностики)\\'}}]}]}, \\'width\\': \\'100%\\'}}, \\'Ультразвуковое исследование плевральных полостей (14.11.2023 12:23)\\': {\\'{urn:hl7-org:v3}table\\': {\\'{urn:hl7-org:v3}col\\': [{\\'width\\': \\'12%\\'}, {\\'width\\': \\'88%\\'}], \\'{urn:hl7-org:v3}tbody\\': {\\'{urn:hl7-org:v3}tr\\': [{\\'{urn:hl7-org:v3}td\\': [{\\'{urn:hl7-org:v3}content\\': {\\'text\\': \\'Эффективная доза\\'}}, {\\'{urn:hl7-org:v3}content\\': {}}]}, {\\'{urn:hl7-org:v3}td\\': [{\\'{urn:hl7-org:v3}content\\': {\\'text\\': \\'Протокол\\'}}, {\\'{urn:hl7-org:v3}content\\': {\\'text\\': \\'БЮДЖЕТНОЕ УЧРЕЖДЕНИЕ ХМАО-ЮГРЫ \"! \\\\n\"\"\\\\n!\\\\nПРОТОКОЛ ОБСЛЕДОВАНИЯ № !!!!!!!!!!!!!\\\\n\\\\n\\\\nФ.И.О.: А Л Н\\\\nВОЗРАСТ (ДАТА РОЖДЕНИЯ): 76 ( 01.01.1698!)\\\\nДИАГНОЗ: ИБС. ОСТРЫЙ ИНФАРКТ МИОКАРДА БЕЗ ЗУБЦА Q ПЕРЕДНЕЙ СТЕНКИ ЛЖ ОТ 15.10.2023Г\\\\n\\\\n ЗАКЛЮЧЕНИЕ  : \\\\nНАЛИЧИЕ СВОБОДНОЙ ЖИДКОСТИ В ЛЕВОМ ДИАФРАГМАЛЬНОМ СИНУСЕ 140 МЛ.\\\\nНАЛИЧИЕ СВОБОДНОЙ ЖИДКОСТИ В ПРАВОМ ДИАФРАГМАЛЬНОМ СИНУСЕ 140 МЛ.\\'}}]}, {\\'{urn:hl7-org:v3}td\\': [{\\'{urn:hl7-org:v3}content\\': {\\'text\\': \\'Заключение\\'}}, {\\'{urn:hl7-org:v3}content\\': {\\'text\\': \\'ЗАКЛЮЧЕНИЕ  : \\\\nНАЛИЧИЕ СВОБОДНОЙ ЖИДКОСТИ В ЛЕВОМ ДИАФРАГМАЛЬНОМ СИНУСЕ 140 МЛ.\\\\nНАЛИЧИЕ СВОБОДНОЙ ЖИДКОСТИ В ПРАВОМ ДИАФРАГМАЛЬНОМ СИНУСЕ 140 МЛ.\\'}}]}, {\\'{urn:hl7-org:v3}td\\': [{\\'{urn:hl7-org:v3}content\\': {\\'text\\': \\'Выявленная патология\\'}}, {\\'{urn:hl7-org:v3}content\\': {}}]}, {\\'{urn:hl7-org:v3}td\\': [{\\'{urn:hl7-org:v3}content\\': {\\'text\\': \\'Диагноз\\'}}, {\\'{urn:hl7-org:v3}content\\': {\\'text\\': \\'I21.4 Острый субэндокардиальный инфаркт миокарда\\'}}]}, {\\'{urn:hl7-org:v3}td\\': [{\\'{urn:hl7-org:v3}content\\': {\\'text\\': \\'Услуги\\'}}, {\\'{urn:hl7-org:v3}content\\': {\\'text\\': \\'Ультразвуковое исследование плевральной полости (A04.09.001)\\'}}]}, {\\'{urn:hl7-org:v3}td\\': [{\\'{urn:hl7-org:v3}content\\': {\\'text\\': \\'Врач\\'}}, {\\'{urn:hl7-org:v3}content\\': {\\'text\\': \\'!!!!!!!!!!!!! !!!!!!!!!!!!! !!!!!!!!!!!!! (Врач функциональной диагностики)\\'}}]}]}, \\'width\\': \\'100%\\'}}, \\'Электрокардиография (16.11.2023 14:47)\\': {\\'{urn:hl7-org:v3}table\\': {\\'{urn:hl7-org:v3}col\\': [{\\'width\\': \\'12%\\'}, {\\'width\\': \\'88%\\'}], \\'{urn:hl7-org:v3}tbody\\': {\\'{urn:hl7-org:v3}tr\\': [{\\'{urn:hl7-org:v3}td\\': [{\\'{urn:hl7-org:v3}content\\': {\\'text\\': \\'Эффективная доза\\'}}, {\\'{urn:hl7-org:v3}content\\': {}}]}, {\\'{urn:hl7-org:v3}td\\': [{\\'{urn:hl7-org:v3}content\\': {\\'text\\': \\'Протокол\\'}}, {\\'{urn:hl7-org:v3}content\\': {\\'text\\': \\'БЮДЖЕТНОЕ УЧРЕЖДЕНИЕ ХМАО-ЮГРЫ \"! \\\\n\"\"\\\\n!\\\\n\\\\nПРОТОКОЛ ОБСЛЕДОВАНИЯ № !!!!!!!!!!!!!\\\\n\\\\n\\\\nФ.И.О.: А Л Н\\\\nВОЗРАСТ (ДАТА РОЖДЕНИЯ): 76 ( 01.01.1698!)\\\\nПРЕДВАРИТЕЛЬНЫЙ ДИАГНОЗ: \\\\n12.11.2023Г  06:50 \\\\n ЗАКЛЮЧЕНИЕ  : \\\\nСИНУСОВЫЙ РИТМ С ЧСС 82 В МИН. ЭОС ГОРИЗОНТАЛЬНАЯ \\\\nОСОБЕННОСТИ ПРОВЕДЕНИЯ ПО ПРАВОЙ Н.П. ГИСА \\\\nПРИЗНАКИ ПЕРЕНЕСЁННОГО Q -ИМ НИЖНЕЙ СТЕНКИ \\\\nНЕВЫРАЖЕННЫЙ НЕСПЕЦИФИЧЕСКИЙ КОСОВОСХОДЯЩИЙ ПОДЪЁМ С. ST В V2-V6\\'}}]}, {\\'{urn:hl7-org:v3}td\\': [{\\'{urn:hl7-org:v3}content\\': {\\'text\\': \\'Заключение\\'}}, {\\'{urn:hl7-org:v3}content\\': {\\'text\\': \\'ЗАКЛЮЧЕНИЕ  : \\\\nСИНУСОВЫЙ РИТМ С ЧСС 82 В МИН. ЭОС ГОРИЗОНТАЛЬНАЯ \\\\nОСОБЕННОСТИ ПРОВЕДЕНИЯ ПО ПРАВОЙ Н.П. ГИСА \\\\nПРИЗНАКИ ПЕРЕНЕСЁННОГО Q -ИМ НИЖНЕЙ СТЕНКИ \\\\nНЕВЫРАЖЕННЫЙ НЕСПЕЦИФИЧЕСКИЙ КОСОВОСХОДЯЩИЙ ПОДЪЁМ С. ST В V2-V6\\'}}]}, {\\'{urn:hl7-org:v3}td\\': [{\\'{urn:hl7-org:v3}content\\': {\\'text\\': \\'Выявленная патология\\'}}, {\\'{urn:hl7-org:v3}content\\': {}}]}, {\\'{urn:hl7-org:v3}td\\': [{\\'{urn:hl7-org:v3}content\\': {\\'text\\': \\'Диагноз\\'}}, {\\'{urn:hl7-org:v3}content\\': {\\'text\\': \\'I21.4 Острый субэндокардиальный инфаркт миокарда\\'}}]}, {\\'{urn:hl7-org:v3}td\\': [{\\'{urn:hl7-org:v3}content\\': {\\'text\\': \\'Услуги\\'}}, {\\'{urn:hl7-org:v3}content\\': {\\'text\\': \\'Регистрация электрокардиограммы (A05.10.006)\\'}}]}, {\\'{urn:hl7-org:v3}td\\': [{\\'{urn:hl7-org:v3}content\\': {\\'text\\': \\'Врач\\'}}, {\\'{urn:hl7-org:v3}content\\': {\\'text\\': \\'!!!!!!!!!!!!! !!!!!!!!!!!!! !!!!!!!!!!!!! (Врач функциональной диагностики)\\'}}]}]}, \\'width\\': \\'100%\\'}}}, \\'Сведения о пребывании пациента в Отделение анестезиологии-реанимации с палатами реанимации и интенсивной терапии №1\\': {\\'Прием (осмотр, консультация) врача-невролога повторный (01.11.2023 10:15)\\': {\\'{urn:hl7-org:v3}table\\': {\\'{urn:hl7-org:v3}col\\': [{\\'width\\': \\'12%\\'}, {\\'width\\': \\'88%\\'}], \\'{urn:hl7-org:v3}tbody\\': {\\'{urn:hl7-org:v3}tr\\': [{\\'{urn:hl7-org:v3}td\\': [{\\'{urn:hl7-org:v3}content\\': {\\'text\\': \\'Объективно\\'}}, {\\'{urn:hl7-org:v3}content\\': {\\'text\\': \\'БЮДЖЕТНОЕ УЧРЕЖДЕНИЕ ХМАО-ЮГРЫ \"! \\\\n\"\"\\\\n!\\\\nКОНСУЛЬТАТИВНЫЙ ОСМОТР ВРАЧА - НЕВРОЛОГА\\\\n\\\\nВИД ОПЛАТЫ БЮДЖЕТ  \\\\nФ.И.О.:  А Л Н ВОЗРАСТ (ДАТА РОЖДЕНИЯ):  76 ( 01.01.1698!)\\\\n\\\\n ЖАЛОБЫ  :  КОНТАКТ ЗАТРУДНЕН ( ИВЛ ). \\\\n\\\\n АНАМНЕЗ ЗАБОЛЕВАНИЯ  :  ОЗНАКОМЛЕНА. \\\\n\\\\n ПОЛУЧАЕМОЕ ЛЕЧЕНИЕ  :  0\\\\n\\\\n АНАМНЕЗ ЖИЗНИ  :  ЧМТ, ТБС, ВЕН.ЗАБОЛЕВАНИЯ, ГЕПАТИТ А- ОТР, АЛЛЕРГИЧЕСКИЕ РЕАКЦИИ - ОТР АГС 2023 Г.\\\\n ОБЩЕБИОГРАФИЧЕСКИЕ СВЕДЕНИЯ  НА СЕВЕРЕ МНОГО ЛЕТ  \\\\n СОЦИАЛЬНЫЙ АНАМНЕЗ  НЕ РАБ, ПЕН. \\\\n СЕМЕЙНЫЙ АНАМНЕЗ  ОТР. \\\\n ФАКТОРЫ РИСКА  ОТР. \\\\nАЛЛЕРГОЛОГИЧЕСКИЙ АНАМНЕЗ: НЕ БЫЛО  \\\\nЭПИД.АНАМНЕЗ: ЗА ПОСЛЕДНИЙ МЕСЯЦ ЗА ПРЕДЕЛЫ ХМАО НЕ ВЫЕЗЖАЛ. ПАЦИЕНТ НА САМОИЗОЛЯЦИИ НЕ НАХОДИТСЯ, КОНТАКТ С ЛИЦАМИ С ПОДОЗРЕНИЕМ ИЛИ ПОДТВЕРЖДЁННЫМ COVID-19 ОТРИЦАЕТ. СВЕРКА С ОТЧЕТОМ (БАЗА COVID-19) ПО НАБЛЮДАЕМЫМ (\"Город\", !!!!!!!!!!!!! РАЙОН) ПРОВЕДЕНА, В БАЗЕ ОТСУТСТВУЕТ. БОЛЕЛ РАНЕЕ COVID-19 НЕТ. ВАКЦИНАЦИЯ.\\\\nКЛИНИЧЕСКИЕ ПРИЗНАКИ ОРВИ (ПОВЫШЕНИЕ ТЕМПЕРАТУРЫ ВЫШЕ 37,5, КАШЕЛЬ, ОДЫШКА, БОЛЬ В ГОРЛЕ, НАСМОРК, СНИЖЕНИЕ ОБОНЯНИЯ И ВКУСА) ОТРИЦАЕТ.\\\\n ОБЪЕКТИВНЫЙ СТАТУС  : \\\\n РОСТ  160   ВЕС  96  ИМТ 38\\\\nОБЩЕЕ СОСТОЯНИЕ ТЯЖЕЛОЕ . КОЖНЫЕ ПОКРОВЫ ЧИСТЫЕ, ОБЫЧНОЙ ОКРАСКИ. \\\\nАД  90/60  ММ.РТ.СТ. ЧСС  67  УД. В МИН, РИТМИЧНЫЙ. ОТЕКИ  НЕТ \\\\nНЕВРОЛОГИЧЕСКИЙ СТАТУС:\\\\nСОЗНАНИЕ ЯСНОЕ. МЫШЛЕНИЕ И ПАМЯТЬ НЕ ОЦЕНИВАЛИСЬ. ИНСТРУКЦИИ ВЫПОЛНЯЕТ ЧАСТИЧНО. \\\\nОБЩЕМОЗГОВАЯ СИМПТОМАТИКА ABS  \\\\nМЕНИНГЕАЛЬНЫЕ ЗНАКИ ABS \\\\nЧМН: ОБОНЯНИЕ В НОРМЕ, ЗРАЧКИ D=S, ФОТОРЕАКЦИЯ ЗРАЧКОВ НА СВЕТ ПРЯМАЯ И СОДРУЖЕСТВЕННАЯ, ДВИЖЕНИЯ ГЛАЗНЫХ ЯБЛОК В ПОЛНОМ ОБЪЕМЕ. \\\\nNG: НЕТ \\\\nТОЧКИ ВЫХОДА ТРОЙНИЧНОГО НЕРВА БЕЗБОЛЕЗНЕННЫ.\\\\nЛИЦО СИММЕТРИЧНО, ЯЗЫК В ПОЛОСТИ РТА ПО ЦЕНТРУ, ГЛОТОЧНЫЕ РЕФЛЕКСЫ ЖИВЫЕ, ФОНАЦИЯ И АРТИКУЛЯЦИЯ НЕ НАРУШЕНА. \\\\nСУХОЖИЛЬНЫЕ РЕФЛЕКСЫ ВЯЛЫЕ , D=S. МЫШЕЧНЫЙ ТОНУС ДОСТАТОЧНЫЙ. \\\\nПАТОЛОГИЧЕСКИЕ РЕФЛЕКСЫ ABS \\\\nЧУВСТВИТЕЛЬНОСТЬ : НА БОЛЕВЫЕ РАЗДРАЖИТЕЛИ РЕАГИРУЕТ. \\\\nВ ПОЗЕ РОМБЕРГА: НЕ СТАВЛЕНА . КП НЕ ВЫПОЛНЯЕТ \\\\nОСМОТР ШЕЙНОГО, ПОЯСНИЧНО-КРЕСТЦОВОГО ОТДЕЛА ПОЗВОНОЧНИКА УПЛОЩЕН ШЕЙНЫЙ ЛОРДОЗ \\\\nОЦЕНКА КОГНИТИВНЫХ ФУНКЦИЙ С ПОМОЩЬЮ\\\\xa0ШКАЛ МОСА, MMSE, ТЕСТ РИСОВАНИЯ ЧАСОВ, MINICOG НЕ ПРОВОДИЛИСЬ.\\\\nРЕЗУЛЬТАТЫ СПЕЦИАЛЬНЫХ МЕТОДОВ ИССЛЕДОВАНИЯ:\\\\n\\\\nЗАКЛЮЧЕНИЕ: \\\\n 01.11.2023 8:08:00   ИССЛЕДОВАНИЕ УРОВНЯ КРЕАТИНИНА В КРОВИ:  - 97.0 МКМОЛЬ/Л;\\\\n 01.11.2023 8:08:00   ИССЛЕДОВАНИЕ УРОВНЯ БИЛИРУБИНА СВЯЗАННОГО (КОНЪЮГИРОВАННОГО) В КРОВИ:  - 64.7 МКМОЛЬ/Л;\\\\nЗАКЛЮЧЕНИЕ: ГИПОПРОТЕИНЕМИЯ. ГИПЕРБИЛИРУБИНЕМИЯ. ГИПЕРКРЕАТИНИНЕМИЯ. УСИЛЕНА АКТИВНОСТЬ АСТ.\\\\n 01.11.2023 8:09:00   ОБЩИЙ (КЛИНИЧЕСКИЙ) АНАЛИЗ КРОВИ РАЗВЕРНУТЫЙ: ЛЕЙКОЦИТЫ - 17.68 10^9/Л;НЕЙТРОФИЛЫ АБС. - 16.48 ;НЕЙТРОФИЛЫ - 81.0 %;ЛИМФОЦИТЫ АБС. - 0.61 ;ЛИМФОЦИТЫ - 4.0 %;МОНОЦИТЫ АБС. - 0.58 ;МОНОЦИТЫ - 3.0 %;ЭОЗИНОФИЛЫ АБС. - 0.0 ;ЭОЗИНОФИЛЫ - 0.0 %;БАЗОФИЛЫ АБС. - 0.0 ;БАЗОФИЛЫ - 0.0 %;ЭРИТРОЦИТЫ - 3.36 10^12/Л;ГЕМОГЛОБИН - 97.0 Г/Л;ГЕМАТОКРИТ - 29.4 %;MCV - 87.5 ;MCH - 28.9 ;MCHC - 330.0 ;RDW - 17.6 ;ТРОМБОЦИТЫ - 260.0 10^9/Л;MPV - 9.9 ;PCT - 0.26 ;PDW - 11.3 ;ПАЛОЧКОЯДЕРНЫЕ НЕЙТРОФИЛЫ - 11.0 ;МЕТАМИЕЛОЦИТЫ - 1.0 ;\\\\nЗАКЛЮЧЕНИЕ: ЛЕЙКОЦИТОЗ, НЕЙТРОФИЛИЯ,  СДВИГ ФОРМУЛЫ ВЛЕВО ДО МЕТАМИЕЛОЦИТОВ, ЛИМФОПЕНИЯ, АНЕМИЯ\\\\n\\\\n ЗАКЛЮЧЕНИЕ  : \\\\nКЛИНИЧЕСКИЙ ДИАГНОЗ:\\\\nОСНОВНОЙ: ( G  93.8 ) ЭНЦЕФАЛОПАТИЯ СМЕШАННОГО ГЕНЕЗА ( СОСУДИСТАЯ + МЕТАБОЛИЧЕСКАЯ ), УХУДШЕНИЕ, НА ФОНЕ АГ.  \\\\n РЕКОМЕНДАЦИИ  :   \\\\nЛЕЧЕНИЕ:  \\\\nЛЕЧЕНИЕ ПО ЛИСТАМ НАЗНАЧЕНИЙ.\\\\nКТ ГМ ( В ПЛАН. ПОРЯДКЕ, ПРИ ТЕХНИЧЕСКОЙ ВОЗМОЖНОСТИ, С ЦЕЛЬЮ ИСКЛ. ОЧАГОВОГО ПОРАЖЕНИЯ ГОЛОВНОГО МОЗГА ).\\\\nПОВТОРНЫЙ ОСМОТР: С РЕЗУЛЬТАТАМИ ДООБСЛЕДОВАНИЯ \\\\nС ПЛАНОМ ОБСЛЕДОВАНИЯ И ЛЕЧЕНИЯ ОЗНАКОМЛЕН(А) ____________________________\\'}}]}, {\\'{urn:hl7-org:v3}td\\': [{\\'{urn:hl7-org:v3}content\\': {\\'text\\': \\'Заключение\\'}}, {\\'{urn:hl7-org:v3}content\\': {\\'text\\': \\'КЛИНИЧЕСКИЙ ДИАГНОЗ:\\\\nОСНОВНОЙ: ( G  93.8 ) ЭНЦЕФАЛОПАТИЯ СМЕШАННОГО ГЕНЕЗА ( СОСУДИСТАЯ + МЕТАБОЛИЧЕСКАЯ ), УХУДШЕНИЕ, НА ФОНЕ АГ.\\'}}]}, {\\'{urn:hl7-org:v3}td\\': [{\\'{urn:hl7-org:v3}content\\': {\\'text\\': \\'Диагноз\\'}}, {\\'{urn:hl7-org:v3}content\\': {\\'text\\': \\'I21.4 Острый субэндокардиальный инфаркт миокарда\\'}}]}, {\\'{urn:hl7-org:v3}td\\': [{\\'{urn:hl7-org:v3}content\\': {\\'text\\': \\'Рекомендации\\'}}, {\\'{urn:hl7-org:v3}content\\': {\\'text\\': \\'ЛЕЧЕНИЕ:  \\\\nЛЕЧЕНИЕ ПО ЛИСТАМ НАЗНАЧЕНИЙ.\\\\nКТ ГМ ( В ПЛАН. ПОРЯДКЕ, ПРИ ТЕХНИЧЕСКОЙ ВОЗМОЖНОСТИ, С ЦЕЛЬЮ ИСКЛ. ОЧАГОВОГО ПОРАЖЕНИЯ ГОЛОВНОГО МОЗГА ).\\\\nПОВТОРНЫЙ ОСМОТР: С РЕЗУЛЬТАТАМИ ДООБСЛЕДОВАНИЯ \\\\nС ПЛАНОМ ОБСЛЕДОВАНИЯ И ЛЕЧЕНИЯ ОЗНАКОМЛЕН(А) ____________________________\\'}}]}, {\\'{urn:hl7-org:v3}td\\': [{\\'{urn:hl7-org:v3}content\\': {\\'text\\': \\'Услуги\\'}}, {\\'{urn:hl7-org:v3}content\\': {\\'text\\': \\'Прием (осмотр, консультация) врача-невролога повторный (B01.023.002)\\'}}]}, {\\'{urn:hl7-org:v3}td\\': [{\\'{urn:hl7-org:v3}content\\': {\\'text\\': \\'Автор документа\\'}}, {\\'{urn:hl7-org:v3}content\\': {\\'text\\': \\'!!!!!!!!!!!!! !!!!!!!!!!!!! !!!!!!!!!!!!! (Врач-невролог)\\'}}]}]}, \\'width\\': \\'100%\\'}}, \\'Рентгеноскопия грудной клетки (01.11.2023 05:10)\\': {\\'{urn:hl7-org:v3}table\\': {\\'{urn:hl7-org:v3}col\\': [{\\'width\\': \\'12%\\'}, {\\'width\\': \\'88%\\'}], \\'{urn:hl7-org:v3}tbody\\': {\\'{urn:hl7-org:v3}tr\\': [{\\'{urn:hl7-org:v3}td\\': [{\\'{urn:hl7-org:v3}content\\': {\\'text\\': \\'Эффективная доза\\'}}, {\\'{urn:hl7-org:v3}content\\': {}}]}, {\\'{urn:hl7-org:v3}td\\': [{\\'{urn:hl7-org:v3}content\\': {\\'text\\': \\'Протокол\\'}}, {\\'{urn:hl7-org:v3}content\\': {\\'text\\': \\'С ПАЦИЕНТОМ (ЕГО ЗАКОННЫМ ПРЕДСТАВИТЕЛЕМ) ПРОВЕДЕНО СОБЕСЕДОВАНИЕ О \\\\nПРЕДСТОЯЩЕМ ИССЛЕДОВАНИИ. ДОБРОВОЛЬНОЕ ИНФОРМИРОВАННОЕ СОГЛАСИЕ ПОЛУЧЕНО.\\\\n\\\\nНА ПРЕДСТАВЛЕННОЙ РЕНТГЕНОГРАММЕ ЛЕГКИХ В ПОЛОЖЕНИИ СИДЯ \\\\nС ПРОЕКЦИОННЫМИ ИСКАЖЕНИЯМИ, НА ИВЛ:\\\\nВИДИМЫЕ ЛЕГОЧНЫЕ ПОЛЯ - ПРОЗРАЧНОСТЬ СНИЖЕНА СЛЕВА В БАЗАЛЬНЫХ ОТДЕЛАХ. \\\\nОЧАГОВЫХ И ИНФИЛЬТРАТИВНЫХ ИЗМЕНЕНИЙ НЕ ОПРЕДЕЛЯЕТСЯ.\\\\nЛЕГОЧНОЙ РИСУНОК ВЫРАЖЕН УМЕРЕННО.\\\\nКОРНИ ЗА СРЕДИННОЙ ТЕНЬЮ. СРЕДИННАЯ ТЕНЬ ПРОЕКЦИОННО СМЕЩЕНА ВЛЕВО.\\\\nСЕРДЦЕ ВИЗУАЛЬНО РАСШИРЕНО. ДУГА АОРТЫ ДИФФЕРЕНЦИРУЕТСЯ.\\\\nКУПОЛА ДИАФРАГМЫ - СЛЕВА ЗАТЕНЕН, СПРАВА ЧЕТКИЙ. \\\\nНАРУЖНЫЕ СИНУСЫ СЛЕВА ЗАТЕНЕН, СПРАВА СВОБОДНЫЙ.  \\\\nВ ВЕРХНЕЙ ПОЛОЙ ВЕНЕ КАТЕТЕР.\\\\nГРУДИНА С ПРОВОЛОЧНЫМИ ШВАМИ.\\\\nЗАКЛЮЧЕНИЕ:НЕЛЬЗЯ ИСКЛЮЧИТЬ ЛЕВОСТОРОННИЙ ГИДРОТОРАКС.\\'}}]}, {\\'{urn:hl7-org:v3}td\\': [{\\'{urn:hl7-org:v3}content\\': {\\'text\\': \\'Заключение\\'}}, {\\'{urn:hl7-org:v3}content\\': {\\'text\\': \\'Нельзя исключить левосторонний гидроторакс.\\'}}]}, {\\'{urn:hl7-org:v3}td\\': [{\\'{urn:hl7-org:v3}content\\': {\\'text\\': \\'Выявленная патология\\'}}, {\\'{urn:hl7-org:v3}content\\': {}}]}, {\\'{urn:hl7-org:v3}td\\': [{\\'{urn:hl7-org:v3}content\\': {\\'text\\': \\'Диагноз\\'}}, {\\'{urn:hl7-org:v3}content\\': {\\'text\\': \\'I21.4 Острый субэндокардиальный инфаркт миокарда\\'}}]}, {\\'{urn:hl7-org:v3}td\\': [{\\'{urn:hl7-org:v3}content\\': {\\'text\\': \\'Услуги\\'}}, {\\'{urn:hl7-org:v3}content\\': {\\'text\\': \\'Прицельная рентгенография органов грудной клетки (A06.09.007.001)\\'}}]}, {\\'{urn:hl7-org:v3}td\\': [{\\'{urn:hl7-org:v3}content\\': {\\'text\\': \\'Врач\\'}}, {\\'{urn:hl7-org:v3}content\\': {\\'text\\': \\'! !!!!!!!!!!!!! ! (Врач-рентгенолог)\\'}}]}]}, \\'width\\': \\'100%\\'}}, \\'Электрокардиография (01.11.2023 06:43)\\': {\\'{urn:hl7-org:v3}table\\': {\\'{urn:hl7-org:v3}col\\': [{\\'width\\': \\'12%\\'}, {\\'width\\': \\'88%\\'}], \\'{urn:hl7-org:v3}tbody\\': {\\'{urn:hl7-org:v3}tr\\': [{\\'{urn:hl7-org:v3}td\\': [{\\'{urn:hl7-org:v3}content\\': {\\'text\\': \\'Эффективная доза\\'}}, {\\'{urn:hl7-org:v3}content\\': {}}]}, {\\'{urn:hl7-org:v3}td\\': [{\\'{urn:hl7-org:v3}content\\': {\\'text\\': \\'Протокол\\'}}, {\\'{urn:hl7-org:v3}content\\': {\\'text\\': \\'!\\\\n!\\\\nПРОТОКОЛ ОБСЛЕДОВАНИЯ № !!!!!!!!!!!!!\\\\n\\\\n\\\\nФ.И.О.: А Л Н\\\\nВОЗРАСТ (ДАТА РОЖДЕНИЯ): 76 ( 01.01.1698!) \\\\nРЕЗУЛЬТАТЫ ОБСЛЕДОВАНИЯ:\\\\nПРАВОЕ ПРЕДСЕРДИЕ:   3,4  СМ.; \\\\tПРАВЫЙ ЖЕЛУДОЧЕК:  2,8  СМ.; \\\\nЛЕВОЕ ПРЕДСЕРДИЕ:  3,6  СМ.; В ДЛИНУ: СМ.; ОБЪЕМ МЛ.\\\\nЛЕВЫЙ ЖЕЛУДОЧЕК: КДР:  5,2  СМ.; КСР:  3,6  СМ.;\\\\nКДО:  128  МЛ.; КСО:  59  МЛ.; УО:   69  МЛ.;\\\\nФВ:  55  % ФУ: %\\\\tФВ В «В РЕЖИМЕ» %\\\\nМЖП:  1,3  СМ ; НЕОПРЕДЕЛЕННЫЙ ТИП ДВИЖЕНИЯ \\\\nЗАДНЯЯ СТЕНКА:  1,1  СМ.; НОРМОКИНЕЗ\\\\nМИТРАЛЬНЫЙ КЛАПАН: СТВОРКИ УПЛОТНЕНЫ, ПРОТИВОФАЗА СОХРАНЕНА \\\\n\\\\tРСМК - СМ.;\\\\tФК В ДИАСТОЛУ - СМ.;\\\\nМИТРАЛЬНОЕ ОТВЕРСТИЕ: СМ2.; Д - СМ2\\\\nГРАДИЕНТ ДАВЛЕНИЯ ПИК: 2,4 ММ. РТ. СТ. СРЕДНИЙ: ММ. РТ. СТ.\\\\nСКОРОСТЬ КРОВОТОКА: 0,8 М/С.; СТЕПЕНЬ РЕГУРГИТАЦИИ: 1\\\\nАОРТА: СТЕНКИ УПЛОТНЕНЫ, АМПЛИТУДА ИХ ДВИЖЕНИЯ СОХРАНЕНА \\\\nФИБРОЗНОЕ КОЛЬЦО: СМ.; НЕ УПЛОТНЕНО;\\\\nДИАМЕТР АО НА УРОВНЕ СИНУСОВ ВАЛЬСАЛЬВЫ:    СМ. ВОСХОДЯЩАЯ АОРТА: ПРОТЕЗ СМ..\\\\nДУГА АОРТЫ СМ ПЕРЕШЕЕК СМ. НИСХОДЯЩАЯ АОРТА СМ. \\\\nАОРТАЛЬНЫЙ КЛАПАН: СТВОРКИ УПЛОТНЕНЫ ОТКРЫТИЕ  1  СМ.\\\\nГРАДИЕНТ ДАВЛЕНИЯ ПИК:  6  ММ. РТ. СТ.; СРЕДНИЙ: ММ. РТ. СТ.\\\\nСКОРОСТЬ КРОВОТОКА:  1,2  М/С. СТЕПЕНЬ РЕГУРГИТАЦИИ:1\\\\nТРИКУСПИДАЛЬНЫЙ КЛАПАН: ИНТАКТНЫЙ \\\\nГРАДИЕНТ ДАВЛЕНИЯ ПИК: ММ. РТ. СТ.; СРЕДНИЙ: ММ. РТ. СТ.\\\\nСКОРОСТЬ КРОВОТОКА: М/С. СТЕПЕНЬ РЕГУРГИТАЦИИ: 1\\\\nЛЕГОЧНАЯ АРТЕРИЯ: ФК СМ, СТВОЛ: СМ, ПРАВАЯ ВЕТВЬ СМ, ЛЕВАЯ: СМ.\\\\nГРАДИЕНТ ДАВЛЕНИЯ ПИК:  2,6  ММ. РТ. СТ.; СРЕДНИЙ: ММ. РТ. СТ.\\\\nСКОРОСТЬ КРОВОТОКА:  0,8  М/С.; СТЕПЕНЬ РЕГУРГИТАЦИИ: \\\\nСИСТ. ДАВЛЕНИЕ В ЛЕГОЧНОЙ АРТЕРИИ: ММ. РТ. СТ. ПО ПОТОКУ TR 29ММ. РТ. СТ.\\\\nПЕРИКАРД: Б/\\\\n ЗАКЛЮЧЕНИЕ  : \\\\nРАО1\\\\nМКШ, ПРОТЕЗИРОВАНИЕ ВОСХОДЯЩЕГО ОТДЕЛА АОРТЫ (31.10.23Г)\\\\nКАМЕРЫ СЕРДЦА НЕ УВЕЛИЧЕНЫ.\\\\nСИСТОЛИЧЕСКАЯ ФУНКЦИЯ МИОКАРДА ЛЖ УДОВЛЕТВОРИТЕЛЬНАЯ.\\\\nДАННЫХ ЗА ЖИДКОСТЬ В ПОЛОСТИ ПЕРИКАРДА НЕТ.\\'}}]}, {\\'{urn:hl7-org:v3}td\\': [{\\'{urn:hl7-org:v3}content\\': {\\'text\\': \\'Заключение\\'}}, {\\'{urn:hl7-org:v3}content\\': {\\'text\\': \\'ЗАКЛЮЧЕНИЕ  : \\\\nРАО1\\\\nМКШ, ПРОТЕЗИРОВАНИЕ ВОСХОДЯЩЕГО ОТДЕЛА АОРТЫ (31.10.23Г)\\\\nКАМЕРЫ СЕРДЦА НЕ УВЕЛИЧЕНЫ.\\\\nСИСТОЛИЧЕСКАЯ ФУНКЦИЯ МИОКАРДА ЛЖ УДОВЛЕТВОРИТЕЛЬНАЯ.\\\\nДАННЫХ ЗА ЖИДКОСТЬ В ПОЛОСТИ ПЕРИКАРДА НЕТ.\\'}}]}, {\\'{urn:hl7-org:v3}td\\': [{\\'{urn:hl7-org:v3}content\\': {\\'text\\': \\'Выявленная патология\\'}}, {\\'{urn:hl7-org:v3}content\\': {}}]}, {\\'{urn:hl7-org:v3}td\\': [{\\'{urn:hl7-org:v3}content\\': {\\'text\\': \\'Диагноз\\'}}, {\\'{urn:hl7-org:v3}content\\': {\\'text\\': \\'I21.4 Острый субэндокардиальный инфаркт миокарда\\'}}]}, {\\'{urn:hl7-org:v3}td\\': [{\\'{urn:hl7-org:v3}content\\': {\\'text\\': \\'Услуги\\'}}, {\\'{urn:hl7-org:v3}content\\': {\\'text\\': \\'Эхокардиография (A04.10.002)\\'}}]}, {\\'{urn:hl7-org:v3}td\\': [{\\'{urn:hl7-org:v3}content\\': {\\'text\\': \\'Врач\\'}}, {\\'{urn:hl7-org:v3}content\\': {\\'text\\': \\'!!!!!!!!!!!!! !!!!!!!!!!!!! !!!!!!!!!!!!! (Врач функциональной диагностики)\\'}}]}]}, \\'width\\': \\'100%\\'}}, \\'Ультразвуковое исследование плевральных полостей (01.11.2023 06:45)\\': {\\'{urn:hl7-org:v3}table\\': {\\'{urn:hl7-org:v3}col\\': [{\\'width\\': \\'12%\\'}, {\\'width\\': \\'88%\\'}], \\'{urn:hl7-org:v3}tbody\\': {\\'{urn:hl7-org:v3}tr\\': [{\\'{urn:hl7-org:v3}td\\': [{\\'{urn:hl7-org:v3}content\\': {\\'text\\': \\'Эффективная доза\\'}}, {\\'{urn:hl7-org:v3}content\\': {}}]}, {\\'{urn:hl7-org:v3}td\\': [{\\'{urn:hl7-org:v3}content\\': {\\'text\\': \\'Протокол\\'}}, {\\'{urn:hl7-org:v3}content\\': {\\'text\\': \\'БЮДЖЕТНОЕ УЧРЕЖДЕНИЕ ХМАО-ЮГРЫ \"! \\\\n\"\"\\\\n!\\\\nПРОТОКОЛ ОБСЛЕДОВАНИЯ № !!!!!!!!!!!!!\\\\n\\\\n\\\\nФ.И.О.: А Л Н\\\\nВОЗРАСТ (ДАТА РОЖДЕНИЯ): 76 ( 01.01.1698!)\\\\nДИАГНОЗ: ИБС. ОСТРЫЙ ИНФАРКТ МИОКАРДА БЕЗ ЗУБЦА Q ПЕРЕДНЕЙ СТЕНКИ ЛЖ ОТ 15.10.2023Г\\\\n\\\\n ЗАКЛЮЧЕНИЕ  : \\\\nДАННЫХ ЗА ЖИДКОСТЬ В ПЛЕВРАЛЬНЫХ ПОЛОСТЯХ НЕТ\\'}}]}, {\\'{urn:hl7-org:v3}td\\': [{\\'{urn:hl7-org:v3}content\\': {\\'text\\': \\'Заключение\\'}}, {\\'{urn:hl7-org:v3}content\\': {\\'text\\': \\'ЗАКЛЮЧЕНИЕ  : \\\\nДАННЫХ ЗА ЖИДКОСТЬ В ПЛЕВРАЛЬНЫХ ПОЛОСТЯХ НЕТ\\'}}]}, {\\'{urn:hl7-org:v3}td\\': [{\\'{urn:hl7-org:v3}content\\': {\\'text\\': \\'Выявленная патология\\'}}, {\\'{urn:hl7-org:v3}content\\': {}}]}, {\\'{urn:hl7-org:v3}td\\': [{\\'{urn:hl7-org:v3}content\\': {\\'text\\': \\'Диагноз\\'}}, {\\'{urn:hl7-org:v3}content\\': {\\'text\\': \\'I21.4 Острый субэндокардиальный инфаркт миокарда\\'}}]}, {\\'{urn:hl7-org:v3}td\\': [{\\'{urn:hl7-org:v3}content\\': {\\'text\\': \\'Услуги\\'}}, {\\'{urn:hl7-org:v3}content\\': {\\'text\\': \\'Ультразвуковое исследование плевральной полости (A04.09.001)\\'}}]}, {\\'{urn:hl7-org:v3}td\\': [{\\'{urn:hl7-org:v3}content\\': {\\'text\\': \\'Врач\\'}}, {\\'{urn:hl7-org:v3}content\\': {\\'text\\': \\'!!!!!!!!!!!!! !!!!!!!!!!!!! !!!!!!!!!!!!! (Врач функциональной диагностики)\\'}}]}]}, \\'width\\': \\'100%\\'}}, \\'Электрокардиография (01.11.2023 09:10)\\': {\\'{urn:hl7-org:v3}table\\': {\\'{urn:hl7-org:v3}col\\': [{\\'width\\': \\'12%\\'}, {\\'width\\': \\'88%\\'}], \\'{urn:hl7-org:v3}tbody\\': {\\'{urn:hl7-org:v3}tr\\': [{\\'{urn:hl7-org:v3}td\\': [{\\'{urn:hl7-org:v3}content\\': {\\'text\\': \\'Эффективная доза\\'}}, {\\'{urn:hl7-org:v3}content\\': {}}]}, {\\'{urn:hl7-org:v3}td\\': [{\\'{urn:hl7-org:v3}content\\': {\\'text\\': \\'Протокол\\'}}, {\\'{urn:hl7-org:v3}content\\': {\\'text\\': \\'БЮДЖЕТНОЕ УЧРЕЖДЕНИЕ ХМАО-ЮГРЫ \"! \\\\n\"\"\\\\n!\\\\n\\\\nПРОТОКОЛ ОБСЛЕДОВАНИЯ № !!!!!!!!!!!!!\\\\n\\\\n\\\\nФ.И.О.: А Л Н\\\\nВОЗРАСТ (ДАТА РОЖДЕНИЯ): 76 ( 01.01.1698!)\\\\nПРЕДВАРИТЕЛЬНЫЙ ДИАГНОЗ: \\\\n31.10.2023Г  14:47 \\\\n ЗАКЛЮЧЕНИЕ  : \\\\nСИНУСОВЫЙ УСКОРЕННЫЙ РИТМ С ЧСС 97 В МИН. ЭОС ОТКЛОНЕНА ВЛЕВО \\\\nПОЛНАЯ БЛОКАДА ПНПГ \\\\nПРИЗНАКИ ПЕРЕНЕСЁННОГО Q -ИМ НИЖНЕЙ СТЕНКИ \\\\nНАРУШЕНИЕ ПРОЦЕССОВ РЕПОЛЯРИЗАЦИИ ВЫСОКИХ БОКОВЫХ ОТДЕЛОВ\\'}}]}, {\\'{urn:hl7-org:v3}td\\': [{\\'{urn:hl7-org:v3}content\\': {\\'text\\': \\'Заключение\\'}}, {\\'{urn:hl7-org:v3}content\\': {\\'text\\': \\'ЗАКЛЮЧЕНИЕ  : \\\\nСИНУСОВЫЙ УСКОРЕННЫЙ РИТМ С ЧСС 97 В МИН. ЭОС ОТКЛОНЕНА ВЛЕВО \\\\nПОЛНАЯ БЛОКАДА ПНПГ \\\\nПРИЗНАКИ ПЕРЕНЕСЁННОГО Q -ИМ НИЖНЕЙ СТЕНКИ \\\\nНАРУШЕНИЕ ПРОЦЕССОВ РЕПОЛЯРИЗАЦИИ ВЫСОКИХ БОКОВЫХ ОТДЕЛОВ\\'}}]}, {\\'{urn:hl7-org:v3}td\\': [{\\'{urn:hl7-org:v3}content\\': {\\'text\\': \\'Выявленная патология\\'}}, {\\'{urn:hl7-org:v3}content\\': {}}]}, {\\'{urn:hl7-org:v3}td\\': [{\\'{urn:hl7-org:v3}content\\': {\\'text\\': \\'Диагноз\\'}}, {\\'{urn:hl7-org:v3}content\\': {\\'text\\': \\'I21.4 Острый субэндокардиальный инфаркт миокарда\\'}}]}, {\\'{urn:hl7-org:v3}td\\': [{\\'{urn:hl7-org:v3}content\\': {\\'text\\': \\'Услуги\\'}}, {\\'{urn:hl7-org:v3}content\\': {\\'text\\': \\'Регистрация электрокардиограммы (A05.10.006)\\'}}]}, {\\'{urn:hl7-org:v3}td\\': [{\\'{urn:hl7-org:v3}content\\': {\\'text\\': \\'Врач\\'}}, {\\'{urn:hl7-org:v3}content\\': {\\'text\\': \\'!!!!!!!!!!!!! !!!!!!!!!!!!! !!!!!!!!!!!!! (Врач функциональной диагностики)\\'}}]}]}, \\'width\\': \\'100%\\'}}, \\'Электрокардиография (01.11.2023 09:15)\\': {\\'{urn:hl7-org:v3}table\\': {\\'{urn:hl7-org:v3}col\\': [{\\'width\\': \\'12%\\'}, {\\'width\\': \\'88%\\'}], \\'{urn:hl7-org:v3}tbody\\': {\\'{urn:hl7-org:v3}tr\\': [{\\'{urn:hl7-org:v3}td\\': [{\\'{urn:hl7-org:v3}content\\': {\\'text\\': \\'Эффективная доза\\'}}, {\\'{urn:hl7-org:v3}content\\': {}}]}, {\\'{urn:hl7-org:v3}td\\': [{\\'{urn:hl7-org:v3}content\\': {\\'text\\': \\'Протокол\\'}}, {\\'{urn:hl7-org:v3}content\\': {\\'text\\': \\'БЮДЖЕТНОЕ УЧРЕЖДЕНИЕ ХМАО-ЮГРЫ \"! \\\\n\"\"\\\\n!\\\\n\\\\nПРОТОКОЛ ОБСЛЕДОВАНИЯ № !!!!!!!!!!!!!\\\\n\\\\n\\\\nФ.И.О.: А Л Н\\\\nВОЗРАСТ (ДАТА РОЖДЕНИЯ): 76 ( 01.01.1698!)\\\\nПРЕДВАРИТЕЛЬНЫЙ ДИАГНОЗ: \\\\n01.11.2023Г  06:01  \\\\n ЗАКЛЮЧЕНИЕ  : \\\\nСИНУСОВЫЙ РИТМ С ЧСС 86 В МИН. ЭОС ОТКЛОНЕНА ВЛЕВО \\\\nНЕ ПОЛНАЯ БЛОКАДА ПНПГ \\\\nПРИЗНАКИ ПЕРЕНЕСЁННОГО Q -ИМ НИЖНЕЙ СТЕНКИ \\\\nНАРУШЕНИЕ ПРОЦЕССОВ РЕПОЛЯРИЗАЦИИ ПЕРЕДНЕ-ПЕРЕГОРОДОЧНОЙ, ВЕРХУШЕЧНО-БОКОВОЙ ОБЛАСТИ\\'}}]}, {\\'{urn:hl7-org:v3}td\\': [{\\'{urn:hl7-org:v3}content\\': {\\'text\\': \\'Заключение\\'}}, {\\'{urn:hl7-org:v3}content\\': {\\'text\\': \\'ЗАКЛЮЧЕНИЕ  : \\\\nСИНУСОВЫЙ РИТМ С ЧСС 86 В МИН. ЭОС ОТКЛОНЕНА ВЛЕВО \\\\nНЕ ПОЛНАЯ БЛОКАДА ПНПГ \\\\nПРИЗНАКИ ПЕРЕНЕСЁННОГО Q -ИМ НИЖНЕЙ СТЕНКИ \\\\nНАРУШЕНИЕ ПРОЦЕССОВ РЕПОЛЯРИЗАЦИИ ПЕРЕДНЕ-ПЕРЕГОРОДОЧНОЙ, ВЕРХУШЕЧНО-БОКОВОЙ ОБЛАСТИ\\'}}]}, {\\'{urn:hl7-org:v3}td\\': [{\\'{urn:hl7-org:v3}content\\': {\\'text\\': \\'Выявленная патология\\'}}, {\\'{urn:hl7-org:v3}content\\': {}}]}, {\\'{urn:hl7-org:v3}td\\': [{\\'{urn:hl7-org:v3}content\\': {\\'text\\': \\'Диагноз\\'}}, {\\'{urn:hl7-org:v3}content\\': {\\'text\\': \\'I21.4 Острый субэндокардиальный инфаркт миокарда\\'}}]}, {\\'{urn:hl7-org:v3}td\\': [{\\'{urn:hl7-org:v3}content\\': {\\'text\\': \\'Услуги\\'}}, {\\'{urn:hl7-org:v3}content\\': {\\'text\\': \\'Регистрация электрокардиограммы (A05.10.006)\\'}}]}, {\\'{urn:hl7-org:v3}td\\': [{\\'{urn:hl7-org:v3}content\\': {\\'text\\': \\'Врач\\'}}, {\\'{urn:hl7-org:v3}content\\': {\\'text\\': \\'!!!!!!!!!!!!! !!!!!!!!!!!!! !!!!!!!!!!!!! (Врач функциональной диагностики)\\'}}]}]}, \\'width\\': \\'100%\\'}}, \\'Электрокардиография (01.11.2023 15:23)\\': {\\'{urn:hl7-org:v3}table\\': {\\'{urn:hl7-org:v3}col\\': [{\\'width\\': \\'12%\\'}, {\\'width\\': \\'88%\\'}], \\'{urn:hl7-org:v3}tbody\\': {\\'{urn:hl7-org:v3}tr\\': [{\\'{urn:hl7-org:v3}td\\': [{\\'{urn:hl7-org:v3}content\\': {\\'text\\': \\'Эффективная доза\\'}}, {\\'{urn:hl7-org:v3}content\\': {}}]}, {\\'{urn:hl7-org:v3}td\\': [{\\'{urn:hl7-org:v3}content\\': {\\'text\\': \\'Протокол\\'}}, {\\'{urn:hl7-org:v3}content\\': {\\'text\\': \\'БЮДЖЕТНОЕ УЧРЕЖДЕНИЕ ХМАО-ЮГРЫ \"! \\\\n\"\"\\\\n!\\\\n\\\\nПРОТОКОЛ ОБСЛЕДОВАНИЯ № !!!!!!!!!!!!!\\\\n\\\\n\\\\nФ.И.О.: А Л Н\\\\nВОЗРАСТ (ДАТА РОЖДЕНИЯ): 76 ( 01.01.1698!)\\\\nПРЕДВАРИТЕЛЬНЫЙ ДИАГНОЗ: \\\\n\\\\n ЗАКЛЮЧЕНИЕ  : \\\\n26.10.2023 23:48 КХО-1\\\\nРИТМ СИНУСОВЫЙ С ЧСС 57 В МИНУТУ.\\\\nЭОС РАСПОЛОЖЕНА ГОРИЗОНТАЛЬНО.\\\\nНАРУШЕНИЕ ПРОЦЕССОВ РЕПОЛЯРИЗАЦИИ ВЫСОКО- БОКОВОЙ СТЕНКИ.\\\\nRSR В НИЖНИХ ОТВЕДЕНИЯХ.\\'}}]}, {\\'{urn:hl7-org:v3}td\\': [{\\'{urn:hl7-org:v3}content\\': {\\'text\\': \\'Заключение\\'}}, {\\'{urn:hl7-org:v3}content\\': {\\'text\\': \\'ЗАКЛЮЧЕНИЕ  : \\\\n26.10.2023 23:48 КХО-1\\\\nРИТМ СИНУСОВЫЙ С ЧСС 57 В МИНУТУ.\\\\nЭОС РАСПОЛОЖЕНА ГОРИЗОНТАЛЬНО.\\\\nНАРУШЕНИЕ ПРОЦЕССОВ РЕПОЛЯРИЗАЦИИ ВЫСОКО- БОКОВОЙ СТЕНКИ.\\\\nRSR В НИЖНИХ ОТВЕДЕНИЯХ.\\'}}]}, {\\'{urn:hl7-org:v3}td\\': [{\\'{urn:hl7-org:v3}content\\': {\\'text\\': \\'Выявленная патология\\'}}, {\\'{urn:hl7-org:v3}content\\': {}}]}, {\\'{urn:hl7-org:v3}td\\': [{\\'{urn:hl7-org:v3}content\\': {\\'text\\': \\'Диагноз\\'}}, {\\'{urn:hl7-org:v3}content\\': {\\'text\\': \\'I21.4 Острый субэндокардиальный инфаркт миокарда\\'}}]}, {\\'{urn:hl7-org:v3}td\\': [{\\'{urn:hl7-org:v3}content\\': {\\'text\\': \\'Услуги\\'}}, {\\'{urn:hl7-org:v3}content\\': {\\'text\\': \\'Регистрация электрокардиограммы (A05.10.006)\\'}}]}, {\\'{urn:hl7-org:v3}td\\': [{\\'{urn:hl7-org:v3}content\\': {\\'text\\': \\'Врач\\'}}, {\\'{urn:hl7-org:v3}content\\': {\\'text\\': \\'!!!!!!!!!!!!! !!!!!!!!!!!!! !!!!!!!!!!!!! (Врач функциональной диагностики)\\'}}]}]}, \\'width\\': \\'100%\\'}}, \\'Компьютерная томография головного мозга (02.11.2023 09:20)\\': {\\'{urn:hl7-org:v3}table\\': {\\'{urn:hl7-org:v3}col\\': [{\\'width\\': \\'12%\\'}, {\\'width\\': \\'88%\\'}], \\'{urn:hl7-org:v3}tbody\\': {\\'{urn:hl7-org:v3}tr\\': [{\\'{urn:hl7-org:v3}td\\': [{\\'{urn:hl7-org:v3}content\\': {\\'text\\': \\'Эффективная доза\\'}}, {\\'{urn:hl7-org:v3}content\\': {}}]}, {\\'{urn:hl7-org:v3}td\\': [{\\'{urn:hl7-org:v3}content\\': {\\'text\\': \\'Протокол\\'}}, {\\'{urn:hl7-org:v3}content\\': {\\'text\\': \\'НА СЕРИИ ТОМОГРАММ ПОЛУЧЕНЫ ИЗОБРАЖЕНИЯ СУБ- И СУПРАТЕНТОРИАЛЬНЫХ ОТДЕЛОВ ГОЛОВНОГО МОЗГА. \\\\nСИЛЬВИЕВЫ ЩЕЛИ АСИММЕТРИЧНЫ, РАСШИРЕНЫ, БОЛЬШЕ СЛЕВА. \\\\nСУБАРАХНОИДАЛЬНОЕ ПРОСТРАНСТВО НЕ РАСШИРЕНО. \\\\nКОНВЕКСИТАЛЬНЫЕ БОРОЗДЫ УМЕРЕННО РАСШИРЕНЫ, УГЛУБЛЕННЫ, ПРЕИМУЩЕСТВЕННО В ЛОБНОЙ И ТЕМЕННОЙ ОБЛАСТЯХ.\\\\nСРЕДИННЫЕ СТРУКТУРЫ НЕ СМЕЩЕНЫ. \\\\nОБЛАСТЬ ТУРЕЦКОГО СЕДЛА БЕЗ ВИДИМЫХ ПАТОЛОГИЧЕСКИХ ИЗМЕНЕНИЙ. \\\\nОБЪЕМНЫХ ОБРАЗОВАНИЙ И ОЧАГОВ С ИЗМЕНЕННОЙ ПЛОТНОСТЬЮ В ВЕЩЕСТВЕ ГОЛОВНОГО МОЗГА ДОСТОВЕРНО НЕ ВИЗУАЛИЗИРУЕТСЯ.\\\\nВДОЛЬ ПЕРЕДНИХ РОГОВ БОКОВЫХ ЖЕЛУДОЧКОВ ПЕРИВЕНТРИКУЛЯРНОЕ СНИЖЕНИЕ ПЛОТНОСТИ.\\\\nБОКОВЫЕ ЖЕЛУДОЧКИ МОЗГА СЛЕГКА АСИММЕТРИЧНЫ, УМЕРЕННО РАСШИРЕНЫ: ПЕРЕДНИЕ РОГА D<S = 11<12 ММ, \\\\nIII-ЖЕЛУДОЧЕК - 12,5 ММ, IV-ЖЕЛУДОЧЕК НЕ ИЗМЕНЕН.\\\\nДОПОЛНИТЕЛЬНЫХ ОБРАЗОВАНИЙ В ОБЛАСТИ МОСТО-МОЗЖЕЧКОВЫХ УГЛОВ НЕ ВЫЯВЛЕНО. \\\\nМИНДАЛИНЫ МОЗЖЕЧКА НА УРОВНЕ БОЛЬШОГО ЗАТЫЛОЧНОГО ОТВЕРСТИЯ.\\\\nКРАНИОВЕРТЕБРАЛЬНЫЙ ПЕРЕХОД НЕ ИЗМЕНЕН. \\\\nВ ПРОЕКЦИИ СТЕНОК ВНУТРЕННИХ СОННЫХ АРТЕРИЙ НА УРОВНЕ СИФОНОВ ВИЗУАЛИЗИРУЮТСЯ ОЧАГИ КАЛЬЦИНОЗА.\\\\nВИДИМЫЙ СЕГМЕНТ ПРАВОЙ ВЕРТЕБРАЛЬНОЙ АРТЕРИИ ЗНАЧИТЕЛЬНО БОЛЬШЕГО КАЛИБРА ОТНОСИТЕЛЬНО ЛЕВОЙ.\\\\nГИПЕРОСТОЗ ВНУТРЕННЕЙ КОРТИКАЛЬНОЙ ПЛАСТИНКИ ЛОБНОЙ КОСТИ.\\\\n\\\\nБЕЗ ДИНАМИКИ К КТ-КАРТРИНЕ ОТ 23.10.2023Г.\\\\n\\\\n\\\\nЗАКЛЮЧЕНИЕ:\\\\nКТ-КАРТИНА СУБАТРОФИЧЕСКИХ ИЗМЕНЕНИЙ ГОЛОВНОГО МОЗГА.\\\\nКТ-КАРТИНА АТЕРОСКЛЕРОТИЧЕСКОГО ПОРАЖЕНИЯ СОСУДОВ ГОЛОВНОГО МОЗГА.\\'}}]}, {\\'{urn:hl7-org:v3}td\\': [{\\'{urn:hl7-org:v3}content\\': {\\'text\\': \\'Заключение\\'}}, {\\'{urn:hl7-org:v3}content\\': {\\'text\\': \\'КТ-картина субатрофических изменений головного мозга.\\\\nКТ-картина атеросклеротического поражения сосудов головного мозга.\\'}}]}, {\\'{urn:hl7-org:v3}td\\': [{\\'{urn:hl7-org:v3}content\\': {\\'text\\': \\'Выявленная патология\\'}}, {\\'{urn:hl7-org:v3}content\\': {}}]}, {\\'{urn:hl7-org:v3}td\\': [{\\'{urn:hl7-org:v3}content\\': {\\'text\\': \\'Диагноз\\'}}, {\\'{urn:hl7-org:v3}content\\': {\\'text\\': \\'I21.4 Острый субэндокардиальный инфаркт миокарда\\'}}]}, {\\'{urn:hl7-org:v3}td\\': [{\\'{urn:hl7-org:v3}content\\': {\\'text\\': \\'Услуги\\'}}, {\\'{urn:hl7-org:v3}content\\': {\\'text\\': \\'Компьютерная томография головного мозга (A06.23.004)\\'}}]}, {\\'{urn:hl7-org:v3}td\\': [{\\'{urn:hl7-org:v3}content\\': {\\'text\\': \\'Врач\\'}}, {\\'{urn:hl7-org:v3}content\\': {\\'text\\': \\'!!!!!!!!!!!!! !!!!!!!!!!!!! !!!!!!!!!!!!! (Врач-рентгенолог)\\'}}]}]}, \\'width\\': \\'100%\\'}}, \\'Электрокардиография (02.11.2023 12:09)\\': {\\'{urn:hl7-org:v3}table\\': {\\'{urn:hl7-org:v3}col\\': [{\\'width\\': \\'12%\\'}, {\\'width\\': \\'88%\\'}], \\'{urn:hl7-org:v3}tbody\\': {\\'{urn:hl7-org:v3}tr\\': [{\\'{urn:hl7-org:v3}td\\': [{\\'{urn:hl7-org:v3}content\\': {\\'text\\': \\'Эффективная доза\\'}}, {\\'{urn:hl7-org:v3}content\\': {}}]}, {\\'{urn:hl7-org:v3}td\\': [{\\'{urn:hl7-org:v3}content\\': {\\'text\\': \\'Протокол\\'}}, {\\'{urn:hl7-org:v3}content\\': {\\'text\\': \\'!\\\\n!\\\\nПРОТОКОЛ ОБСЛЕДОВАНИЯ № !!!!!!!!!!!!!\\\\n\\\\n\\\\nФ.И.О.: А Л Н\\\\nВОЗРАСТ (ДАТА РОЖДЕНИЯ): 76 ( 01.01.1698!) \\\\nПРЕДВАРИТЕЛЬНЫЙ ДИАГНОЗ: ИБС. ОСТРЫЙ ИНФАРКТ МИОКАРДА БЕЗ ЗУБЦА Q ПЕРЕДНЕЙ СТЕНКИ ЛЖ ОТ 15.10.2023Г\\\\nРЕЗУЛЬТАТЫ ОБСЛЕДОВАНИЯ:\\\\nПРАВОЕ ПРЕДСЕРДИЕ:   3,4  СМ.; \\\\tПРАВЫЙ ЖЕЛУДОЧЕК:  2,8  СМ.; \\\\nЛЕВОЕ ПРЕДСЕРДИЕ:  3,6  СМ.; В ДЛИНУ: СМ.; ОБЪЕМ МЛ.\\\\nЛЕВЫЙ ЖЕЛУДОЧЕК В РЕЖИМЕ БИПЛАНОВЫМ МЕТОДОМ : КДР:  5,2  СМ.; КСР:  3,6  СМ.;КДО:  110  МЛ.; КСО:  45  МЛ.; УО:   65  МЛ.;ФВ:  60  %\\\\nМЖП:  1,3  СМ ; НЕОПРЕДЕЛЕННЫЙ ТИП ДВИЖЕНИЯ. \\\\nЗАДНЯЯ СТЕНКА:  1,1  СМ.; НОРМОКИНЕЗ.\\\\nВТЛЖ : ПИК.ГРАДИЕНТ 9 ММ.РТ.СТ. \\\\nМИТРАЛЬНЫЙ КЛАПАН: СТВОРКИ УПЛОТНЕНЫ, ПРОТИВОФАЗА СОХРАНЕНА \\\\n\\\\tРСМК - СМ.;\\\\tФК В ДИАСТОЛУ - СМ.;\\\\nМИТРАЛЬНОЕ ОТВЕРСТИЕ: СМ2.; Д - СМ2\\\\nГРАДИЕНТ ДАВЛЕНИЯ ПИК: 2,4 ММ. РТ. СТ. СРЕДНИЙ: ММ. РТ. СТ.\\\\nСКОРОСТЬ КРОВОТОКА: 0,8 М/С.; СТЕПЕНЬ РЕГУРГИТАЦИИ: 1\\\\nАОРТА: СТЕНКИ УПЛОТНЕНЫ, АМПЛИТУДА ИХ ДВИЖЕНИЯ СОХРАНЕНА \\\\nФИБРОЗНОЕ КОЛЬЦО: СМ.; НЕ УПЛОТНЕНО;\\\\nДИАМЕТР АО НА УРОВНЕ СИНУСОВ ВАЛЬСАЛЬВЫ:    СМ. ВОСХОДЯЩАЯ АОРТА: ПРОТЕЗ СМ..\\\\nДУГА АОРТЫ СМ ПЕРЕШЕЕК СМ. НИСХОДЯЩАЯ АОРТА СМ. \\\\nАОРТАЛЬНЫЙ КЛАПАН: СТВОРКИ УПЛОТНЕНЫ ОТКРЫТИЕ  1  СМ.\\\\nГРАДИЕНТ ДАВЛЕНИЯ ПИК:  6  ММ. РТ. СТ.; СРЕДНИЙ: ММ. РТ. СТ.\\\\nСКОРОСТЬ КРОВОТОКА:  1,2  М/С. СТЕПЕНЬ РЕГУРГИТАЦИИ:1\\\\nТРИКУСПИДАЛЬНЫЙ КЛАПАН: ИНТАКТНЫЙ \\\\nГРАДИЕНТ ДАВЛЕНИЯ ПИК: ММ. РТ. СТ.; СРЕДНИЙ: ММ. РТ. СТ.\\\\nСКОРОСТЬ КРОВОТОКА: М/С. СТЕПЕНЬ РЕГУРГИТАЦИИ: 1\\\\nЛЕГОЧНАЯ АРТЕРИЯ: ФК СМ, СТВОЛ: СМ, ПРАВАЯ ВЕТВЬ СМ, ЛЕВАЯ: СМ.\\\\nГРАДИЕНТ ДАВЛЕНИЯ ПИК:  2,6  ММ. РТ. СТ.; СРЕДНИЙ: ММ. РТ. СТ.\\\\nСКОРОСТЬ КРОВОТОКА:  0,8  М/С.; СТЕПЕНЬ РЕГУРГИТАЦИИ: \\\\nСИСТ. ДАВЛЕНИЕ В ЛЕГОЧНОЙ АРТЕРИИ: ММ. РТ. СТ. ПО ПОТОКУ TR 29 ММ. РТ. СТ.\\\\nПЕРИКАРД: ЖИДКОСТИ НЕТ \\\\n\\\\n ЗАКЛЮЧЕНИЕ  : \\\\nМКШ, ПРОТЕЗИРОВАНИЕ ВОСХОДЯЩЕГО ОТДЕЛА АОРТЫ (31.10.23Г)\\\\nКАМЕРЫ СЕРДЦА НЕ УВЕЛИЧЕНЫ.\\\\nСИСТОЛИЧЕСКАЯ ФУНКЦИЯ МИОКАРДА ЛЖ УДОВЛЕТВОРИТЕЛЬНАЯ.\\\\nДАННЫХ ЗА ЖИДКОСТЬ В ПОЛОСТИ ПЕРИКАРДА НЕТ.\\'}}]}, {\\'{urn:hl7-org:v3}td\\': [{\\'{urn:hl7-org:v3}content\\': {\\'text\\': \\'Заключение\\'}}, {\\'{urn:hl7-org:v3}content\\': {\\'text\\': \\'ЗАКЛЮЧЕНИЕ  : \\\\nМКШ, ПРОТЕЗИРОВАНИЕ ВОСХОДЯЩЕГО ОТДЕЛА АОРТЫ (31.10.23Г)\\\\nКАМЕРЫ СЕРДЦА НЕ УВЕЛИЧЕНЫ.\\\\nСИСТОЛИЧЕСКАЯ ФУНКЦИЯ МИОКАРДА ЛЖ УДОВЛЕТВОРИТЕЛЬНАЯ.\\\\nДАННЫХ ЗА ЖИДКОСТЬ В ПОЛОСТИ ПЕРИКАРДА НЕТ.\\'}}]}, {\\'{urn:hl7-org:v3}td\\': [{\\'{urn:hl7-org:v3}content\\': {\\'text\\': \\'Выявленная патология\\'}}, {\\'{urn:hl7-org:v3}content\\': {}}]}, {\\'{urn:hl7-org:v3}td\\': [{\\'{urn:hl7-org:v3}content\\': {\\'text\\': \\'Диагноз\\'}}, {\\'{urn:hl7-org:v3}content\\': {\\'text\\': \\'I21.4 Острый субэндокардиальный инфаркт миокарда\\'}}]}, {\\'{urn:hl7-org:v3}td\\': [{\\'{urn:hl7-org:v3}content\\': {\\'text\\': \\'Услуги\\'}}, {\\'{urn:hl7-org:v3}content\\': {\\'text\\': \\'Эхокардиография (A04.10.002)\\'}}]}, {\\'{urn:hl7-org:v3}td\\': [{\\'{urn:hl7-org:v3}content\\': {\\'text\\': \\'Врач\\'}}, {\\'{urn:hl7-org:v3}content\\': {\\'text\\': \\'!!!!!!!!!!!!! !!!!!!!!!!!!! !!!!!!!!!!!!!на (Врач ультразвуковой диагностики)\\'}}]}]}, \\'width\\': \\'100%\\'}}, \\'Ультразвуковое исследование органов брюшной полости (02.11.2023 12:27)\\': {\\'{urn:hl7-org:v3}table\\': {\\'{urn:hl7-org:v3}col\\': [{\\'width\\': \\'12%\\'}, {\\'width\\': \\'88%\\'}], \\'{urn:hl7-org:v3}tbody\\': {\\'{urn:hl7-org:v3}tr\\': [{\\'{urn:hl7-org:v3}td\\': [{\\'{urn:hl7-org:v3}content\\': {\\'text\\': \\'Эффективная доза\\'}}, {\\'{urn:hl7-org:v3}content\\': {}}]}, {\\'{urn:hl7-org:v3}td\\': [{\\'{urn:hl7-org:v3}content\\': {\\'text\\': \\'Протокол\\'}}, {\\'{urn:hl7-org:v3}content\\': {\\'text\\': \\'БЮДЖЕТНОЕ УЧРЕЖДЕНИЕ ХМАО-ЮГРЫ \"! \\\\n\"\"\\\\n!\\\\nПРОТОКОЛ ОБСЛЕДОВАНИЯ № !!!!!!!!!!!!!\\\\n \\\\nФ.И.О. БОЛЬНОГО: А Л Н\\\\nВОЗРАСТ (ДАТА РОЖДЕНИЯ): 76 ( 01.01.1698!)\\\\n\\\\nРЕЗУЛЬТАТЫ ОБСЛЕДОВАНИЯ:\\\\nЖЕЛЧЕВЫДЕЛИТЕЛЬНАЯ СИСТЕМА:\\\\nЖЕЛЧНЫЙ ПУЗЫРЬ: С ПЕРЕТЯЖКОЙ В ШЕЙКЕ РАЗМЕР (N-90X40 ММ): 65*22ММ ,С БИЛЛИОГЕННЫМ ОСАДКОМ СОСТОЯНИЕ СТЕНКИ: ТОЛЩИНА N-3 ММ: 3 ММ ЭХОГЕННОСТЬ:  ОБЫЧНАЯ  СОДЕРЖИМОЕ: ОДНОРОДНОЕ ХОЛЕДОХ (N-6ММ): 3.3-4ММ ВНУТРИПЕЧЕНОЧНЫЕ ПРОТОКИ: НЕ РАСШИРЕНЫ \\\\n\\\\nПЕЧЕНЬ:\\\\nКОНТУР ПЕЧЕНИ: РОВНЫЙ, ЧЕТКИЙ ЭХОСТРУКТУРА: ОДНОРОДНАЯ ЭХОГЕННОСТЬ: ОБЫЧНАЯ  ЗВУКОПРОВОДИМОСТЬ:  ОБЫЧНАЯ ТОЛЩИНА ПРАВОЙ ДОЛИ (N-130ММ): КВР 153ММ ,ПЗР 102 ММ  ТОЛЩИНА ЛЕВОЙ ДОЛИ (N-50ММ): 61ММ  РАСПОЛОЖЕНИЕ СОСУДОВ : ОБЫЧНОЕ  ПОРТАЛЬНАЯ ВЕНА (N-12ММ): 10ММ \\\\n\\\\nПОДЖЕЛУДОЧНАЯ ЖЕЛЕЗА:\\\\nКОНТУР: РОВНЫЙ, ЧЕТКИЙ РАЗМЕР: ГОЛОВКА(N-27)21ММ ТЕЛО(N-18) 14ММ ХВОСТ(N-25ММ)  16ММ ЭХОСТРУКТУРА: ОДНОРОДНАЯ  ЭХОГЕННОСТЬ: ОБЫЧНАЯ  ДИАМЕТР ВИРСУНГОВА ПРОТОКА (N-2ММ): НЕ РАСШИРЕН\\\\n\\\\nСЕЛЕЗЕНКА:\\\\nРАЗМЕР:  102*50ММ КОНТУР: РОВНЫЙ, ЧЕТКИЙ ЭХОСТРУКТУРА: ОДНОРОДНАЯ  ЭХОГЕННОСТЬ: ОБЫЧНАЯ  НАЛИЧИЕ СВОБОДНОЙ ЖИДКОСТИ В БРЮШНОЙ ПОЛОСТИ: НЕТ \\\\n\\\\nСОСУДЫ:\\\\nАОРТА (N-25ММ): 18.4ММ \\\\n\\\\nДОПОЛНЕНИЯ\\\\nВИЗУАЛИЗАЦИЯ СНИЖЕНА ,ВЗДУТИЕ МЕТЕОРИЗМ \\\\nПРИ ЦДК ПАРЕНХИМАТОЗНЫХ ОРГАНОВ СОСУДЫ ИМЕЮТ ТИПИЧНОЕ РАСПОЛОЖЕНИЕ, ХОД СОСУДОВ НЕ ИЗМЕНЕН, ДИАМЕТР ИХ В ПРЕДЕЛАХ НОРМЫ.\\\\n\\\\n ЗАКЛЮЧЕНИЕ  : \\\\nУЗ ПРИЗНАКИ : ЗАСТОЙНЫХ ЯВЛЕНИЙ В ЖЕЛЧНОМ ПУЗЫРЕ.\\\\n РЕКОМЕНДАЦИИ  :\\'}}]}, {\\'{urn:hl7-org:v3}td\\': [{\\'{urn:hl7-org:v3}content\\': {\\'text\\': \\'Заключение\\'}}, {\\'{urn:hl7-org:v3}content\\': {\\'text\\': \\'ЗАКЛЮЧЕНИЕ  : \\\\nУЗ ПРИЗНАКИ : ЗАСТОЙНЫХ ЯВЛЕНИЙ В ЖЕЛЧНОМ ПУЗЫРЕ.\\\\n РЕКОМЕНДАЦИИ  :\\'}}]}, {\\'{urn:hl7-org:v3}td\\': [{\\'{urn:hl7-org:v3}content\\': {\\'text\\': \\'Выявленная патология\\'}}, {\\'{urn:hl7-org:v3}content\\': {}}]}, {\\'{urn:hl7-org:v3}td\\': [{\\'{urn:hl7-org:v3}content\\': {\\'text\\': \\'Диагноз\\'}}, {\\'{urn:hl7-org:v3}content\\': {\\'text\\': \\'I21.4 Острый субэндокардиальный инфаркт миокарда\\'}}]}, {\\'{urn:hl7-org:v3}td\\': [{\\'{urn:hl7-org:v3}content\\': {\\'text\\': \\'Услуги\\'}}, {\\'{urn:hl7-org:v3}content\\': {\\'text\\': \\'Ультразвуковое исследование органов брюшной полости (комплексное) (A04.16.001)\\'}}]}, {\\'{urn:hl7-org:v3}td\\': [{\\'{urn:hl7-org:v3}content\\': {\\'text\\': \\'Врач\\'}}, {\\'{urn:hl7-org:v3}content\\': {\\'text\\': \\'!!!!!!!!!!!!! !!!!!!!!!!!!! !!!!!!!!!!!!!на (Врач ультразвуковой диагностики)\\'}}]}]}, \\'width\\': \\'100%\\'}}, \\'Рентгеноскопия грудной клетки (02.11.2023 20:05)\\': {\\'{urn:hl7-org:v3}table\\': {\\'{urn:hl7-org:v3}col\\': [{\\'width\\': \\'12%\\'}, {\\'width\\': \\'88%\\'}], \\'{urn:hl7-org:v3}tbody\\': {\\'{urn:hl7-org:v3}tr\\': [{\\'{urn:hl7-org:v3}td\\': [{\\'{urn:hl7-org:v3}content\\': {\\'text\\': \\'Эффективная доза\\'}}, {\\'{urn:hl7-org:v3}content\\': {}}]}, {\\'{urn:hl7-org:v3}td\\': [{\\'{urn:hl7-org:v3}content\\': {\\'text\\': \\'Протокол\\'}}, {\\'{urn:hl7-org:v3}content\\': {\\'text\\': \\'РЕНТГЕНОГРАММА В ГОРИЗОНТАЛЬНОМ ПОЛОЖЕНИИ НА СПИНЕ. ИВЛ.\\\\nЛЕГОЧНЫЕ ПОЛЯ БЕЗ ОЧАГОВЫХ И ИНФИЛЬТРАТИВНЫХ ТЕНЕЙ.\\\\nЛЕГОЧНЫЙ РИСУНОК НЕ ИЗМЕНЕН.\\\\nКОРНИ ПЕРЕКРЫТЫ ТЕНЬЮ СРЕДОСТЕНИЯ.\\\\nТЕНЬ СРЕДОСТЕНИЯ НЕ СМЕЩЕНА.\\\\nСЕРДЦЕ ПРОЕКЦИОННО РАСШИРЕНО. \\\\nКУПОЛА ДИАФРАГМЫ РОВНЫЕ, ЧЕТКИЕ.\\\\nНАРУЖНЫЕ СИНУСЫ СВОБОДНЫЕ.\\\\nНА ГРУДИНЕ ПРОВОЛОЧНЫЕ ШВЫ. \\\\n\\\\nЗАКЛЮЧЕНИЕ:Р-ПРИЗНАКИ СОСТОЯНИЯ ПОСЛЕ МКШ И ПРОТЕЗИРОВАНИЯ ВОСХОДЯЩЕГО ОТДЕЛА АОРТЫ 31.10.2023 Г.\\'}}]}, {\\'{urn:hl7-org:v3}td\\': [{\\'{urn:hl7-org:v3}content\\': {\\'text\\': \\'Заключение\\'}}, {\\'{urn:hl7-org:v3}content\\': {\\'text\\': \\'Р-признаки состояния после МКШ и протезирования восходящего отдела аорты 31.10.2023 г.\\'}}]}, {\\'{urn:hl7-org:v3}td\\': [{\\'{urn:hl7-org:v3}content\\': {\\'text\\': \\'Выявленная патология\\'}}, {\\'{urn:hl7-org:v3}content\\': {}}]}, {\\'{urn:hl7-org:v3}td\\': [{\\'{urn:hl7-org:v3}content\\': {\\'text\\': \\'Диагноз\\'}}, {\\'{urn:hl7-org:v3}content\\': {\\'text\\': \\'I21.4 Острый субэндокардиальный инфаркт миокарда\\'}}]}, {\\'{urn:hl7-org:v3}td\\': [{\\'{urn:hl7-org:v3}content\\': {\\'text\\': \\'Услуги\\'}}, {\\'{urn:hl7-org:v3}content\\': {\\'text\\': \\'Прицельная рентгенография органов грудной клетки (A06.09.007.001)\\'}}]}, {\\'{urn:hl7-org:v3}td\\': [{\\'{urn:hl7-org:v3}content\\': {\\'text\\': \\'Врач\\'}}, {\\'{urn:hl7-org:v3}content\\': {\\'text\\': \\'!!!!!!!!!!!!! !!!!!!!!!!!!! ! (Врач-рентгенолог)\\'}}]}]}, \\'width\\': \\'100%\\'}}, \\'Электрокардиография (03.11.2023 08:13)\\': {\\'{urn:hl7-org:v3}table\\': {\\'{urn:hl7-org:v3}col\\': [{\\'width\\': \\'12%\\'}, {\\'width\\': \\'88%\\'}], \\'{urn:hl7-org:v3}tbody\\': {\\'{urn:hl7-org:v3}tr\\': [{\\'{urn:hl7-org:v3}td\\': [{\\'{urn:hl7-org:v3}content\\': {\\'text\\': \\'Эффективная доза\\'}}, {\\'{urn:hl7-org:v3}content\\': {}}]}, {\\'{urn:hl7-org:v3}td\\': [{\\'{urn:hl7-org:v3}content\\': {\\'text\\': \\'Протокол\\'}}, {\\'{urn:hl7-org:v3}content\\': {\\'text\\': \\'БЮДЖЕТНОЕ УЧРЕЖДЕНИЕ ХМАО-ЮГРЫ \"! \\\\n\"\"\\\\n!\\\\n\\\\nПРОТОКОЛ ОБСЛЕДОВАНИЯ № !!!!!!!!!!!!!\\\\n\\\\n\\\\nФ.И.О.: А Л Н\\\\nВОЗРАСТ (ДАТА РОЖДЕНИЯ): 76 ( 01.01.1698!)\\\\nПРЕДВАРИТЕЛЬНЫЙ ДИАГНОЗ: \\\\n03.11.2023Г  06:16 \\\\n ЗАКЛЮЧЕНИЕ  : \\\\nСИНУСОВАЯ ТАХИКАРДИЯ С ЧСС 104 В МИН. ЭОС ОТКЛОНЕНА ВЛЕВО \\\\nНЕПОЛНАЯ БЛОКАДА ПНПГ \\\\nПРИЗНАКИ ПЕРЕНЕСЁННОГО Q -ИМ НИЖНЕЙ СТЕНКИ \\\\nНАРУШЕНИЕ ПРОЦЕССОВ РЕПОЛЯРИЗАЦИИ ПЕРЕДНЕ-ПЕРЕГОРОДОЧНОЙ, ВЕРХУШЕЧНО-БОКОВОЙ ОБЛАСТИ\\'}}]}, {\\'{urn:hl7-org:v3}td\\': [{\\'{urn:hl7-org:v3}content\\': {\\'text\\': \\'Заключение\\'}}, {\\'{urn:hl7-org:v3}content\\': {\\'text\\': \\'ЗАКЛЮЧЕНИЕ  : \\\\nСИНУСОВАЯ ТАХИКАРДИЯ С ЧСС 104 В МИН. ЭОС ОТКЛОНЕНА ВЛЕВО \\\\nНЕПОЛНАЯ БЛОКАДА ПНПГ \\\\nПРИЗНАКИ ПЕРЕНЕСЁННОГО Q -ИМ НИЖНЕЙ СТЕНКИ \\\\nНАРУШЕНИЕ ПРОЦЕССОВ РЕПОЛЯРИЗАЦИИ ПЕРЕДНЕ-ПЕРЕГОРОДОЧНОЙ, ВЕРХУШЕЧНО-БОКОВОЙ ОБЛАСТИ\\'}}]}, {\\'{urn:hl7-org:v3}td\\': [{\\'{urn:hl7-org:v3}content\\': {\\'text\\': \\'Выявленная патология\\'}}, {\\'{urn:hl7-org:v3}content\\': {}}]}, {\\'{urn:hl7-org:v3}td\\': [{\\'{urn:hl7-org:v3}content\\': {\\'text\\': \\'Диагноз\\'}}, {\\'{urn:hl7-org:v3}content\\': {\\'text\\': \\'I21.4 Острый субэндокардиальный инфаркт миокарда\\'}}]}, {\\'{urn:hl7-org:v3}td\\': [{\\'{urn:hl7-org:v3}content\\': {\\'text\\': \\'Услуги\\'}}, {\\'{urn:hl7-org:v3}content\\': {\\'text\\': \\'Регистрация электрокардиограммы (A05.10.006)\\'}}]}, {\\'{urn:hl7-org:v3}td\\': [{\\'{urn:hl7-org:v3}content\\': {\\'text\\': \\'Врач\\'}}, {\\'{urn:hl7-org:v3}content\\': {\\'text\\': \\'!!!!!!!!!!!!! !!!!!!!!!!!!! !!!!!!!!!!!!! (Врач функциональной диагностики)\\'}}]}]}, \\'width\\': \\'100%\\'}}, \\'Рентгеноскопия грудной клетки (07.11.2023 05:30)\\': {\\'{urn:hl7-org:v3}table\\': {\\'{urn:hl7-org:v3}col\\': [{\\'width\\': \\'12%\\'}, {\\'width\\': \\'88%\\'}], \\'{urn:hl7-org:v3}tbody\\': {\\'{urn:hl7-org:v3}tr\\': [{\\'{urn:hl7-org:v3}td\\': [{\\'{urn:hl7-org:v3}content\\': {\\'text\\': \\'Эффективная доза\\'}}, {\\'{urn:hl7-org:v3}content\\': {}}]}, {\\'{urn:hl7-org:v3}td\\': [{\\'{urn:hl7-org:v3}content\\': {\\'text\\': \\'Протокол\\'}}, {\\'{urn:hl7-org:v3}content\\': {\\'text\\': \\'С ПАЦИЕНТОМ (ЕГО ЗАКОННЫМ ПРЕДСТАВИТЕЛЕМ) ПРОВЕДЕНО СОБЕСЕДОВАНИЕ О ПРЕДСТОЯЩЕМ ИССЛЕДОВАНИИ. ДОБРОВОЛЬНОЕ ИНФОРМИРОВАННОЕ СОГЛАСИЕ ПОЛУЧЕНО.\\\\n\\\\nНА ПРЕДСТАВЛЕННОЙ РЕНТГЕНОГРАММЕ ОРГАНОВ ГРУДНОЙ ПОЛОСТИ В ПОЛОЖЕНИИ СИДЯ  ЗАДНИЙ ОТМЕЧАЕТСЯ:\\\\nСЛЕВА ПАРАВАЗАЛЬНО В СРЕДНЕМ И НИЖНЕМ ЛЕГОЧНЫХ ПОЛЯХ ПРОСЛЕЖИВАЕТСЯ НЕЖНОЕ ЗАТЕНЕНИЕ ЛЕГОЧНОЙ ТКАНИ НА ФОНЕ УСИЛЕННОГО ЛЕГОЧНОГО РИСУНКА, КУПОЛ ДИАФРАГМЫ НЕЧЕТКИЙ, СИНУСЫ ЗАТЕНЕНЫ.\\\\nСПРАВА ЛЕГОЧНЫЕ ПОЛЯ ПРОЗРАЧНЫЕ, БЕЗ СВЕЖИХ И ОЧАГОВЫХ ИЗМЕНЕНИЙ, ЛЕГОЧНОЙ РИСУНОК НЕ ИЗМЕНЕН, КУПОЛ ДИАФРАГМЫ ЧЕТКИЙ, СИНУСЫ СВОБОДНЫЕ.\\\\nКОРНИ НЕ СТРУКТУРНЫ, РАСШИРЕНЫ, ЧАСТИЧНО ПЕРЕКРЫТЫ.\\\\nСРЕДИННАЯ ТЕНЬ НЕ СМЕЩЕНА.\\\\nСЕРДЦЕ  ПРОЕКЦИОННО РАСШИРЕНО В ПОПЕРЕЧНИКЕ.\\\\nАОРТА РАСШИРЕНА, КОНТУР РОВНЫЙ, ЧЕТКИЙ, ЧАСТИЧНО ОБЫЗВЕСТВЛЕН.\\\\nВ ПРОЕКЦИИ ГРУДИНЫ ПРОВОЛОЧНЫЕ ШВЫ.\\\\n\\\\n\\\\nЗАКЛЮЧЕНИЕ НЕ ЯВЛЯЕТСЯ ДИАГНОЗОМ И ТРЕБУЕТ ИНТЕРПРЕТАЦИИ В СООТВЕТСТВИИ С КЛИНИЧЕСКИМИ ДАННЫМИ\\\\nДИАГНОЗ УСТАНАВЛИВАЕТ ЛЕЧАЩИЙ ВРАЧ.\\\\nЗАКЛЮЧЕНИЕ:R- КАРТИНА ГИПОВЕНТИЛЯЦИИ ЯЗЫЧКОВЫХ СЕГМЕНТОВ ВЕРХНЕЙ ДОЛИ СЛЕВА, НЕ ИСКЛЮЧАЕТСЯ ОГРАНИЧЕННЫЙ ГИДРОТОРАКС СЛЕВА.\\\\nСОСТОЯНИЕ ПОСЛЕ ОПЕРАТИВНОГО ВМЕШАТЕЛЬСТВА НА СЕРДЦЕ.\\'}}]}, {\\'{urn:hl7-org:v3}td\\': [{\\'{urn:hl7-org:v3}content\\': {\\'text\\': \\'Заключение\\'}}, {\\'{urn:hl7-org:v3}content\\': {\\'text\\': \\'R- картина гиповентиляции язычковых сегментов верхней доли слева, не исключается ограниченный гидроторакс слева.\\\\nСостояние после оперативного вмешательства на сердце.\\'}}]}, {\\'{urn:hl7-org:v3}td\\': [{\\'{urn:hl7-org:v3}content\\': {\\'text\\': \\'Выявленная патология\\'}}, {\\'{urn:hl7-org:v3}content\\': {}}]}, {\\'{urn:hl7-org:v3}td\\': [{\\'{urn:hl7-org:v3}content\\': {\\'text\\': \\'Диагноз\\'}}, {\\'{urn:hl7-org:v3}content\\': {\\'text\\': \\'I21.4 Острый субэндокардиальный инфаркт миокарда\\'}}]}, {\\'{urn:hl7-org:v3}td\\': [{\\'{urn:hl7-org:v3}content\\': {\\'text\\': \\'Услуги\\'}}, {\\'{urn:hl7-org:v3}content\\': {\\'text\\': \\'Прицельная рентгенография органов грудной клетки (A06.09.007.001)\\'}}]}, {\\'{urn:hl7-org:v3}td\\': [{\\'{urn:hl7-org:v3}content\\': {\\'text\\': \\'Врач\\'}}, {\\'{urn:hl7-org:v3}content\\': {\\'text\\': \\'!!!!!!!!!!!!! !!!!!!!!!!!!! !!!!!!!!!!!!! (Врач-рентгенолог)\\'}}]}]}, \\'width\\': \\'100%\\'}}, \\'Электрокардиография (07.11.2023 16:37)\\': {\\'{urn:hl7-org:v3}table\\': {\\'{urn:hl7-org:v3}col\\': [{\\'width\\': \\'12%\\'}, {\\'width\\': \\'88%\\'}], \\'{urn:hl7-org:v3}tbody\\': {\\'{urn:hl7-org:v3}tr\\': [{\\'{urn:hl7-org:v3}td\\': [{\\'{urn:hl7-org:v3}content\\': {\\'text\\': \\'Эффективная доза\\'}}, {\\'{urn:hl7-org:v3}content\\': {}}]}, {\\'{urn:hl7-org:v3}td\\': [{\\'{urn:hl7-org:v3}content\\': {\\'text\\': \\'Протокол\\'}}, {\\'{urn:hl7-org:v3}content\\': {\\'text\\': \\'БЮДЖЕТНОЕ УЧРЕЖДЕНИЕ ХМАО-ЮГРЫ \"! \\\\n\"\"\\\\n!\\\\n\\\\nПРОТОКОЛ ОБСЛЕДОВАНИЯ № !!!!!!!!!!!!!\\\\n\\\\n\\\\nФ.И.О.: А Л Н\\\\nВОЗРАСТ (ДАТА РОЖДЕНИЯ): 76 ( 01.01.1698!)\\\\nПРЕДВАРИТЕЛЬНЫЙ ДИАГНОЗ: \\\\n\\\\n ЗАКЛЮЧЕНИЕ  : \\\\n07.11.2023 05:49 РАО-1\\\\nРИТМ СИНУСОВЫЙ С ЧСС 83 В МИНУТУ. \\\\nЭОС ОТКЛОНЕНА ВЛЕВО.\\\\nНЕПОЛНАЯ БЛОКАДА ПНПГ. \\\\nНАРУШЕНИЕ ПРОЦЕССОВ РЕПОЛЯРИЗАЦИИ ПЕРЕДНЕ- ПЕРЕГОРОДОЧНОЙ ОБЛАСТИ,ВЕРХУШЕЧНО- БОКОВОЙ СТЕНКИ.\\\\nОЧАГОВЫЕ (РУБЦОВЫЕ) ИЗМЕНЕНИЯ НИЖНЕЙ СТЕНКИ.\\'}}]}, {\\'{urn:hl7-org:v3}td\\': [{\\'{urn:hl7-org:v3}content\\': {\\'text\\': \\'Заключение\\'}}, {\\'{urn:hl7-org:v3}content\\': {\\'text\\': \\'ЗАКЛЮЧЕНИЕ  : \\\\n07.11.2023 05:49 РАО-1\\\\nРИТМ СИНУСОВЫЙ С ЧСС 83 В МИНУТУ. \\\\nЭОС ОТКЛОНЕНА ВЛЕВО.\\\\nНЕПОЛНАЯ БЛОКАДА ПНПГ. \\\\nНАРУШЕНИЕ ПРОЦЕССОВ РЕПОЛЯРИЗАЦИИ ПЕРЕДНЕ- ПЕРЕГОРОДОЧНОЙ ОБЛАСТИ,ВЕРХУШЕЧНО- БОКОВОЙ СТЕНКИ.\\\\nОЧАГОВЫЕ (РУБЦОВЫЕ) ИЗМЕНЕНИЯ НИЖНЕЙ СТЕНКИ.\\'}}]}, {\\'{urn:hl7-org:v3}td\\': [{\\'{urn:hl7-org:v3}content\\': {\\'text\\': \\'Выявленная патология\\'}}, {\\'{urn:hl7-org:v3}content\\': {}}]}, {\\'{urn:hl7-org:v3}td\\': [{\\'{urn:hl7-org:v3}content\\': {\\'text\\': \\'Диагноз\\'}}, {\\'{urn:hl7-org:v3}content\\': {\\'text\\': \\'I21.4 Острый субэндокардиальный инфаркт миокарда\\'}}]}, {\\'{urn:hl7-org:v3}td\\': [{\\'{urn:hl7-org:v3}content\\': {\\'text\\': \\'Услуги\\'}}, {\\'{urn:hl7-org:v3}content\\': {\\'text\\': \\'Регистрация электрокардиограммы (A05.10.006)\\'}}]}, {\\'{urn:hl7-org:v3}td\\': [{\\'{urn:hl7-org:v3}content\\': {\\'text\\': \\'Врач\\'}}, {\\'{urn:hl7-org:v3}content\\': {\\'text\\': \\'!!!!!!!!!!!!! !!!!!!!!!!!!! !!!!!!!!!!!!! (Врач функциональной диагностики)\\'}}]}]}, \\'width\\': \\'100%\\'}}, \\'Эндоскопическое исследование гортани, трахеи и бронхов (08.11.2023 14:53)\\': {\\'{urn:hl7-org:v3}table\\': {\\'{urn:hl7-org:v3}col\\': [{\\'width\\': \\'12%\\'}, {\\'width\\': \\'88%\\'}], \\'{urn:hl7-org:v3}tbody\\': {\\'{urn:hl7-org:v3}tr\\': [{\\'{urn:hl7-org:v3}td\\': [{\\'{urn:hl7-org:v3}content\\': {\\'text\\': \\'Эффективная доза\\'}}, {\\'{urn:hl7-org:v3}content\\': {}}]}, {\\'{urn:hl7-org:v3}td\\': [{\\'{urn:hl7-org:v3}content\\': {\\'text\\': \\'Протокол\\'}}, {\\'{urn:hl7-org:v3}content\\': {\\'text\\': \\'БЮДЖЕТНОЕ УЧРЕЖДЕНИЕ ХМАО-ЮГРЫ \"! \\\\n\"\"\\\\n!\\\\nПРОТОКОЛ ОБСЛЕДОВАНИЯ № !!!!!!!!!!!!!\\\\n\\\\n\\\\nНАПРАВИВШЕЕ ЛПУ: <ОАР№1>\\\\nВРАЧ НАПРАВИВШЕГО ЛПУ:!!!!!!!!!!!!!\\\\nФ.И.О.: А Л Н ВОЗРАСТ (ДАТА РОЖДЕНИЯ): 76 ( 01.01.1698!)\\\\nЭНДОСКОП ИК FB-120S MB042AO16, FB-18V H 112255 \\\\nВИД ИССЛЕДОВАНИЯ: \\\\nВ УСЛОВИЯХ ОАР1 БОКС №5. \\\\nАНЕСТЕЗИЯ РАСТВОР ЛИДОКАИНА 10% -5 ДОЗ, 2%-5 МЛ. АППАРАТ ПРОВЕДЕН ЧЕРЕЗ ПРАВЫЙ НОСОВОЙ ХОД.\\\\nГОРТАНЬ: ГОЛОСОВАЯ ЩЕЛЬ ПРАВИЛЬНОЙ ФОРМЫ, ШИРОКАЯ. СЛИЗИСТАЯ ГЛАДКАЯ, БЛЕДНАЯ. СОСУДИСТЫЙ РИСУНОК ЧЕТКИЙ. \\\\nГОЛОСОВЫЕ СКЛАДКИ ПОДВИЖНЫ ПОЛНОМ ОБЪЕМЕ(СМЫКАЮТСЯ ПОЛНОСТЬЮ). ПРИ ДЫХАНИИ МЕДИАЛЬНЫЙ КРАЙ ЛЕВОЙ ГОЛОСОВОЙ СКЛАДКИ СЕРПОВИДНО СОМКНУТ. ПРИ ФОНАЦИИ ШИРОКАЯ ЛИНЕЙНАЯ ЩЕЛЬ. \\\\nПОДСКЛАДОЧНОЕ ПРОСТРАНСТВО СВОБОДНО. \\\\nТРАХЕЯ: ПРОСВЕТ ШИРОКИЙ. В В/3 И С/3 ТРАХЕИ - ВИЗУАЛИЗРОВАН ПЛОТНО ФИКСИРОВАННЫЙ ЦИРКУЛЯРНЫЙ ФИБРИН- КОРИЧНЕВОГО ЦВЕТА. (ВЕРОЯТНЕЕ ЭРОЗИВНОГО ХАРАТЕРА) \\\\n СЛИЗИСТАЯ ТРАХЕИ НА ДОСТУПНЫХ УЧАСТКАХ ОСМОТРУ ОТЕЧНА, ГИПЕРЕМИРОВАНА, ЯРКО-РОЗОВАЯ, СОСУДИСТЫЙ РИСУНОК НЕ ЧЕТКИЙ. МЕЖХРЯЩЕВЫЕ ПРОМЕЖУТКИ НЕГЛУБОКИЕ. \\\\n !!!!!!!!!!!!! ОСТРАЯ, ПОДВИЖНАЯ. ЗАДНЯЯ СТЕНКА ТРАХЕИ НЕ ПРОЛАБИРУЕТ. КОНТАКТНОЙ КРОВОТОЧИВОСТИ НА МОМЕНТ ОСМОТРА НЕТ.\\\\nБРОНХИ: УСТЬЯ БРОНХОВ 1-6 ПОРЯДКА СВОБОДНЫ, ПРАВИЛЬНОЙ ФОРМЫ, ШПОРЫ ИХ ОСТРЫЕ ПОДВИЖНЫЕ. СЛИЗИСТАЯ ВСЕХ ВИДИМЫХ БРОНХОВ ЯРКО-РОЗОВАЯ С НЕЖНЫМ СОСУДИСТЫМ РИСУНКОМ. УСТЬЯ СЛИЗИСТЫХ ЖЕЛЕЗ ТОЧЕЧНЫЕ.\\\\nСОДЕРЖИМОЕ БРОНХОВ: СЕКРЕТ СЛИЗИСТЫЙ, ВЯЗКИЙ, В НЕБОЛЬШОМ КОЛИЧЕСТВЕ С ОБЕИХ СТОРОН. АСПИРИРОВАН.\\\\n ЗАКЛЮЧЕНИЕ  : \\\\nЭРОЗИВНО-ФИБРИНОЗНЫЙ ТРАХЕИТ. ДИФФУЗНЫЙ ДВУСТРОННИЙ БРОНХИТ 2 СТ.\\'}}]}, {\\'{urn:hl7-org:v3}td\\': [{\\'{urn:hl7-org:v3}content\\': {\\'text\\': \\'Заключение\\'}}, {\\'{urn:hl7-org:v3}content\\': {\\'text\\': \\'ЗАКЛЮЧЕНИЕ  : \\\\nЭРОЗИВНО-ФИБРИНОЗНЫЙ ТРАХЕИТ. ДИФФУЗНЫЙ ДВУСТРОННИЙ БРОНХИТ 2 СТ.\\'}}]}, {\\'{urn:hl7-org:v3}td\\': [{\\'{urn:hl7-org:v3}content\\': {\\'text\\': \\'Выявленная патология\\'}}, {\\'{urn:hl7-org:v3}content\\': {}}]}, {\\'{urn:hl7-org:v3}td\\': [{\\'{urn:hl7-org:v3}content\\': {\\'text\\': \\'Диагноз\\'}}, {\\'{urn:hl7-org:v3}content\\': {\\'text\\': \\'I21.4 Острый субэндокардиальный инфаркт миокарда\\'}}]}, {\\'{urn:hl7-org:v3}td\\': [{\\'{urn:hl7-org:v3}content\\': {\\'text\\': \\'Услуги\\'}}, {\\'{urn:hl7-org:v3}content\\': {\\'text\\': \\'Бронхоскопия (A03.09.001)\\'}}]}, {\\'{urn:hl7-org:v3}td\\': [{\\'{urn:hl7-org:v3}content\\': {\\'text\\': \\'Врач\\'}}, {\\'{urn:hl7-org:v3}content\\': {\\'text\\': \\'!!!!!!!!!!!!! !!!!!!!!!!!!! ! (Врач-эндоскопист)\\'}}]}]}, \\'width\\': \\'100%\\'}}, \\'Эндоскопическое исследование верхних отделов желудочно-кишечного тракта (08.11.2023 15:01)\\': {\\'{urn:hl7-org:v3}table\\': {\\'{urn:hl7-org:v3}col\\': [{\\'width\\': \\'12%\\'}, {\\'width\\': \\'88%\\'}], \\'{urn:hl7-org:v3}tbody\\': {\\'{urn:hl7-org:v3}tr\\': [{\\'{urn:hl7-org:v3}td\\': [{\\'{urn:hl7-org:v3}content\\': {\\'text\\': \\'Эффективная доза\\'}}, {\\'{urn:hl7-org:v3}content\\': {}}]}, {\\'{urn:hl7-org:v3}td\\': [{\\'{urn:hl7-org:v3}content\\': {\\'text\\': \\'Протокол\\'}}, {\\'{urn:hl7-org:v3}content\\': {\\'text\\': \\'БЮДЖЕТНОЕ УЧРЕЖДЕНИЕ ХМАО-ЮГРЫ \"! \\\\n\"\"\\\\n!,\\\\xa0\\\\xa0\\\\xa0\\\\xa0\\\\xa0\\\\nПРОТОКОЛ ОБСЛЕДОВАНИЯ № !!!!!!!!!!!!!\\\\n\\\\nНАПРАВИВШЕЕ ЛПУ: <ОАР№1>\\\\nВРАЧ НАПРАВИВШЕГО ЛПУ:!!!!!!!!!!!!!\\\\nФ.И.О.: А Л Н ВОЗРАСТ (ДАТА РОЖДЕНИЯ): 76 ( 01.01.1698!)\\\\nЭНДОСКОП ИК  FG-1Z  MG204AO91 \\\\nСО СЛОВ ПАЦИЕНТА (КИ) АЛЛЕРГИЯ НА АНЕСТЕТИКИ НЕТ. В УСЛОВИЯХ ОАР №1 ПОД В/В + МЕСТНОЙ АНЕСТЕЗИЕЙ 10% СПРЕЙ ЛИДОКАИН. \\\\nПОД ВИЗУАЛЬНЫМ КОНТРОЛЕМ ВВЕДЕН ФИБРОГАСТРОСКОП (FG-1Z  MG204AO91 ) В ПИЩЕВОД: ПРОСВЕТ ПИЩЕВОДА НЕ ДЕФОРМИРОВАН, ПЕРИСТАЛЬТИКА ПРОСЛЕЖИВАЕТСЯ ПО ВСЕМ СТЕНКАМ. СЛИЗИСТАЯ БЛЕДНО-РОЗОВАЯ, ГЛАДКАЯ, БЛЕСТЯЩАЯ. СОСУДИСТЫЙ РИСУНОК НЕ ИЗМЕНЕН. КАРДИЯ СМЫКАЕТСЯ НЕ ПОЛНОСТЬЮ. Z ЛИНИЯ РАСПОЛОЖЕНА НА РАССТОЯНИИ 36 СМ ОТ РЕЗЦОВ, НА УРОВНЕ ДИАФРАГМАЛЬНОГО СУЖЕНИЯ, КОНТУР ЧЕТКИЙ. \\\\nЖЕЛУДОК: В ЖЕЛУДКЕ УМЕРЕННОЕ КОЛИЧЕСТВО ПРОЗРАЧНОЙ ЖИДКОСТИ. СКЛАДКИ СРЕДНЕЙ ВЕЛИЧИНЫ, ЭЛАСТИЧНЫЕ, ХОРОШО РАСПРАВЛЯЮТСЯ ВОЗДУХОМ. СОСУДЫ ПОДСЛИЗИСТОГО СЛОЯ ВИДНЫ В ОБЛАСТИ ДНА. ПЕРИСТАЛЬТИКА ПРОСЛЕЖИВАЕТСЯ ВО ВСЕХ ОТДЕЛА, СИММЕТРИЧНА. СЛИЗИСТАЯ ОБОЛОЧКА В АНТРАЛЬНОМ И Н/3 ТЕЛА ЖЕЛУДКА ОЧАГОВО ЯРКО ГИПЕРЕМИРОВАНА, ОТЕЧНА. ДЕФЕКТОВ СЛИЗИСТОЙ НЕТ. ПРИВРАТНИК ЦЕНТРАЛЬНО РАСПОЛОЖЕН, ФУНКЦИЯ ЕГО СОХРАНЕНА. 9ММ АППАРАТОМ СВОБОДНО ПРОХОДИМА.\\\\nДВЕНАДЦАТИПЕРСТНАЯ КИШКА: ЛУКОВИЦА ДВЕНАДЦАТИПЕРСТНОЙ КИШКИ ОБЫЧНОЙ ФОРМЫ, СЛИЗИСТАЯ ОБОЛОЧКА ЕЕ УМЕРЕНО ОТЕЧНА, ГИПЕРЕМИРОВАНА, ДЕФЕКТОВ СЛИЗИСТОЙ НЕТ. СКЛАДКИ НЕВЫСОКИЕ, СЛИЗИСТАЯ ОБОЛОЧКА РОЗОВАЯ, БАРХАТИСТАЯ. ПОСТБУЛЬБАРНЫЙ ОТДЕЛ СЛИЗИСТАЯ ОБОЛОЧКА ЕЕ УМЕРЕНО ОТЕЧНА, ГИПЕРЕМИРОВАНА, БДС В ТИПИЧНОМ МЕСТЕ НЕ ИЗМЕНЕН. В ДПК СВЕТЛАЯ ЖЕЛЧЬ\\\\n ЗАКЛЮЧЕНИЕ  : \\\\nПОВЕРХНОСТНЫЙ ГАСТРОДУОДЕНИТ.\\'}}]}, {\\'{urn:hl7-org:v3}td\\': [{\\'{urn:hl7-org:v3}content\\': {\\'text\\': \\'Заключение\\'}}, {\\'{urn:hl7-org:v3}content\\': {\\'text\\': \\'ЗАКЛЮЧЕНИЕ  : \\\\nПОВЕРХНОСТНЫЙ ГАСТРОДУОДЕНИТ.\\'}}]}, {\\'{urn:hl7-org:v3}td\\': [{\\'{urn:hl7-org:v3}content\\': {\\'text\\': \\'Выявленная патология\\'}}, {\\'{urn:hl7-org:v3}content\\': {}}]}, {\\'{urn:hl7-org:v3}td\\': [{\\'{urn:hl7-org:v3}content\\': {\\'text\\': \\'Диагноз\\'}}, {\\'{urn:hl7-org:v3}content\\': {\\'text\\': \\'I21.4 Острый субэндокардиальный инфаркт миокарда\\'}}]}, {\\'{urn:hl7-org:v3}td\\': [{\\'{urn:hl7-org:v3}content\\': {\\'text\\': \\'Услуги\\'}}, {\\'{urn:hl7-org:v3}content\\': {\\'text\\': \\'Эзофагогастродуоденоскопия (A03.16.001)\\'}}]}, {\\'{urn:hl7-org:v3}td\\': [{\\'{urn:hl7-org:v3}content\\': {\\'text\\': \\'Врач\\'}}, {\\'{urn:hl7-org:v3}content\\': {\\'text\\': \\'!!!!!!!!!!!!! !!!!!!!!!!!!! ! (Врач-эндоскопист)\\'}}]}]}, \\'width\\': \\'100%\\'}}, \\'Компьютерная томография гортани и глотки (09.11.2023 10:00)\\': {\\'{urn:hl7-org:v3}table\\': {\\'{urn:hl7-org:v3}col\\': [{\\'width\\': \\'12%\\'}, {\\'width\\': \\'88%\\'}], \\'{urn:hl7-org:v3}tbody\\': {\\'{urn:hl7-org:v3}tr\\': [{\\'{urn:hl7-org:v3}td\\': [{\\'{urn:hl7-org:v3}content\\': {\\'text\\': \\'Эффективная доза\\'}}, {\\'{urn:hl7-org:v3}content\\': {}}]}, {\\'{urn:hl7-org:v3}td\\': [{\\'{urn:hl7-org:v3}content\\': {\\'text\\': \\'Протокол\\'}}, {\\'{urn:hl7-org:v3}content\\': {\\'text\\': \\'ПРИ МСКТ-ИССЛЕДОВАНИЕ ГОРТАНИ ВЫПОЛНЕНО НАТИВНОЕ СКАНИРОВАНИЕ:\\\\n\\\\n   В ПРОСВЕТЕ ГОРТАНИ ПРОХОДЯТ ИНТУБАЦИОННАЯ ТРУБКА И ПИЩЕВОДНЫЙ ЗОНД, ЧТО ЗНАЧИТЕЛЬНО ЗАТРУДНЯЕТ ОЦЕНКУ ЕЕ СТРУКТУР.\\\\n   СТРУКТУРЫ ГОРТАНИ:\\\\nЧЕРПАЛО-НАДГОРТАННЫЕ СКЛАДКИ ОТНОСИТЕЛЬНО АСИММЕТРИЧНЫ, НЕ УТОЛЩЕНЫ.\\\\nГРУШЕВИДНЫЕ СИНУСЫ СВОБОДНЫЕ.\\\\nГОЛОСОВЫЕ СКЛАДКИ СИММЕТРИЧНЫ, БЕЗ ОСОБЕННОСТЕЙ. \\\\nВИЗУАЛИЗИРУЕМОЕ ПОДСКЛАДОЧНОЕ ПРОСТРАНСТВО СВОБОДНО.\\\\nХРЯЩИ ГОРТАНИ БЕЗ ОСОБЕННОСТЕЙ.\\\\n   ПРОСВЕТ ТРАХЕИ ВИЗУАЛИЗИРУЕТСЯ ФРАГМЕНТАРНО, ЗА СЧЕТ НАЛИЧИЯ ИНТУБАЦИОННОЙ ТРУБКИ, ДИСТАЛЬНЫЙ ОТДЕЛ В УСТЬЕ ПРАВОГО ГЛАВНОГО БРОНХА.\\\\n   НАДГОРТАННИК БЕЗ ОСОБЕННОСТЕЙ. ВАЛЕКУЛЫ СВОБОДНЫ.\\\\n   НОСО- И РОТОГЛОТКА БЕЗ СУЩЕСТВЕННЫХ ИЗМЕНЕНИЙ.\\\\n   ПАРАФАРИНГЕАЛЬНОЕ И РЕТРОФАРИНГЕАЛЬНОЕ ПРОСТРАНСТВА НЕ ИЗМЕНЕНЕНЫ.\\\\n   НЕКОНТРАСТИРОВАННЫЕ СОСУДЫ ШЕИ ПРОСЛЕЖИВАЮТСЯ, НА УРОВНЕ АМПУЛ ОБЕИХ ВНУТРЕННИХ СОННЫХ АРТЕРИЙ ОЧАГИ КАЛЬЦИНОЗА. \\\\n   МЫШЦЫ ШЕИ НОРМАЛЬНОЙ КОНФИГУРАЦИИ, БЕЗ ОСОБЕННОСТЕЙ.\\\\n   ВИЗУАЛИИРУЕМЫЕ ЛИМФАТИЧЕСКИЕ УЗЛЫ - МНОЖЕСТВЕННЫЕ, МЕНЕЕ 10 ММ В ПОПЕРЕЧНОМ СЕЧЕНИИ.\\\\n   КОСТНО-ДЕСТРУКТИВНЫХ ИЗМЕНЕНИЙ НЕ ВИЗУАЛИЗИРУЕТСЯ.\\\\nЗАКЛЮЧЕНИЕ:\\\\nМСКТ-ПРИЗНАКОВ ПАТОЛОГИИ ГОРТАНИ НЕ ОТМЕЧАЕТСЯ.\\\\nСОСТОЯНИЕ ПОСЛЕ УСТАНОВКИ ИНТУБАЦИОННОЙ ТРУБКИ, ДИСТАЛЬНЫЙ ОТДЕЛ В УСТЬЕ ПРАВОГО ГЛАВНОГО БРОНХА.\\'}}]}, {\\'{urn:hl7-org:v3}td\\': [{\\'{urn:hl7-org:v3}content\\': {\\'text\\': \\'Заключение\\'}}, {\\'{urn:hl7-org:v3}content\\': {\\'text\\': \\'МСКТ-признаков патологии гортани не отмечается.\\\\nСостояние после установки интубационной трубки, дистальный отдел в устье правого главного бронха.\\'}}]}, {\\'{urn:hl7-org:v3}td\\': [{\\'{urn:hl7-org:v3}content\\': {\\'text\\': \\'Выявленная патология\\'}}, {\\'{urn:hl7-org:v3}content\\': {}}]}, {\\'{urn:hl7-org:v3}td\\': [{\\'{urn:hl7-org:v3}content\\': {\\'text\\': \\'Диагноз\\'}}, {\\'{urn:hl7-org:v3}content\\': {\\'text\\': \\'I21.4 Острый субэндокардиальный инфаркт миокарда\\'}}]}, {\\'{urn:hl7-org:v3}td\\': [{\\'{urn:hl7-org:v3}content\\': {\\'text\\': \\'Услуги\\'}}, {\\'{urn:hl7-org:v3}content\\': {\\'text\\': \\'Спиральная компьютерная томография гортани (A06.08.007.001)\\'}}]}, {\\'{urn:hl7-org:v3}td\\': [{\\'{urn:hl7-org:v3}content\\': {\\'text\\': \\'Врач\\'}}, {\\'{urn:hl7-org:v3}content\\': {\\'text\\': \\'!!!!!!!!!!!!! !!!!!!!!!!!!! !!!!!!!!!!!!! (Врач-рентгенолог)\\'}}]}]}, \\'width\\': \\'100%\\'}}, \\'Компьютерная томография груди (09.11.2023 10:00)\\': {\\'{urn:hl7-org:v3}table\\': {\\'{urn:hl7-org:v3}col\\': [{\\'width\\': \\'12%\\'}, {\\'width\\': \\'88%\\'}], \\'{urn:hl7-org:v3}tbody\\': {\\'{urn:hl7-org:v3}tr\\': [{\\'{urn:hl7-org:v3}td\\': [{\\'{urn:hl7-org:v3}content\\': {\\'text\\': \\'Эффективная доза\\'}}, {\\'{urn:hl7-org:v3}content\\': {}}]}, {\\'{urn:hl7-org:v3}td\\': [{\\'{urn:hl7-org:v3}content\\': {\\'text\\': \\'Протокол\\'}}, {\\'{urn:hl7-org:v3}content\\': {\\'text\\': \\'ЛЕГОЧНЫЕ ПОЛЯ БЕЗ СВЕЖИХ ОЧАГОВЫХ И ИНФИЛЬТРАТИВНЫХ ИЗМЕНЕНИЙ, С ВЫРАЖЕННЫМИ АРТЕФАКТАМИ.\\\\nСУБПЛЕВРАЛЬНО ПО ВСЕМ ЛЕГОЧНЫМ ПОЛЯМ НЕБОЛЬШИЕ ПНЕВМОФИБРОЗНЫЕ НАЛОЖЕНИЯ.\\\\nВАСКУЛЯРИЗАЦИЯ ЛЕГОЧНОЙ ТКАНИ НЕ ИЗМЕНЕНА.\\\\nПРОСВЕТЫ КРУПНЫХ БРОНХОВ ВИЗУАЛИЗИРОВАНЫ, ПРОХОДИМЫ. \\\\nВ ТРАХЕЕ УСТАНОВЛЕНА ИНТУБАЦИОННАЯ ТРУБКА, ДИСТАЛЬНЫЙ ОТДЕЛ В УСТЬЕ ПРАВОГО ГЛАВНОГО БРОНХА.\\\\nВ ПЛЕВРАЛЬНЫХ ПОЛОСТЯХ ВЫПОТ, ЖИДКОСТНОЙ ПЛОТНОСТИ, МАКСИМАЛЬНОЙ ТОЛЩИНОЙ СПРАВА ДО 20 ММ, СЛЕВА ДО 30 ММ. ПРИЛЕЖАЩАЯ ЛЕГОЧНАЯ ТКАНЬ КОНСОЛИДИРОВАНА, БОЛЬШЕ СЛЕВА.\\\\nСТРУКТУРЫ СРЕДОСТЕНИЯ ДИФФЕРЕНЦИРОВАНЫ. \\\\nВ ПИЩЕВОДЕ ЗОНД, ПО ЕГО ХОДУ МЕСТАМИ ОТМЕЧАЮТСЯ ПУЗЫРИ ГАЗА.\\\\nЖИРОВАЯ КЛЕТЧАТКА НИЖНЕГО ЭТАЖА ПЕРЕДНЕГО СРЕДОСТЕНИЯ РАЗВИТА УМЕРЕННО. \\\\nВ ПЕРЕДНЕМ СРЕДОСТЕНИИ, В ЖИРОВОЙ КЛЕТЧАТКЕ НА УРОВНЕ ВОСХОДЯЩЕЙ АОРТЫ, ВИЗУАЛИЗИРУЕТСЯ СОДЕРЖИМОЕ ПЛОТНОСТЬЮ В СРЕДНЕМ ДО 35 HU., ВОКРУГ ТЯЖИСТОСТЬ ПО ТИПУ ФИБРОЗА.\\\\nВИЗУАЛИЗИРУЕМЫЕ ВНУТРИГРУДНЫЕ ЛИМФАТИЧЕСКИЕ УЗЛЫ НЕ УВЕЛИЧЕНЫ.\\\\nСЕРДЦЕ УВЕЛИЧЕНО В РАЗМЕРАХ ЗА СЧЕТ ЛЕВЫХ ОТДЕЛОВ.\\\\nПЕРИКАРД РОВНЫЙ, В ПОЛОСТИ СЛЕДЫ ВЫПОТА.\\\\nАОРТА С РОВНЫМ ЧЕТКИМ КОНТУРОМ, В ДУГЕ И НИСХОДЯЩЕМ ОТДЕЛЕ ОБЫЗВЕСТВЛЕНИЯ, ВОСХОДЯЩИЙ ОТДЕЛ ПРОТЕЗИРОВАН.\\\\nОТМЕЧАЮТСЯ УЧАСТКИ КАЛЬЦИНОЗА В ПРОЕКЦИИ КОРОНАРНЫХ АРТЕРИЙ, ПРИЗНАКИ МАММАРОКОРОНАРНОГО ШУНТА (МКШ) СЛЕВА.\\\\nЛЕГОЧНЫЕ АРТЕРИИ БЕЗ ОСОБЕННОСТЕЙ.\\\\nДЕГЕНЕРАТИВНО-ДИСТРОФИЧЕСКИЕ ИЗМЕНЕНИЯ, ЛОКАЛЬНЫЙ СПОНДИЛЕЗ ГРУДНОГО ОТДЕЛА ПОЗВОНОЧНИКА.\\\\nСОСТОЯНИЕ ПОСЛЕ СТЕРНОТОМИИ ГРУДИНЫ, ОТЛОМКИ СВЕДЕНЫ ПРОВОЛОЧНЫМИ ШВАМИ, ПОСТОПЕРАЦИОННЫЙ РАЗРЕЗ ПРОСЛЕЖИВАЕТСЯ НА ВСЕМ ПРОТЯЖЕНИИ, ШИРИНОЙ ДО 1,5-2,0 ММ, А В НИЖНЕЙ ТРЕТИ ТЕЛА - ДО 5,5 ММ.\\\\n\\\\nЗАКЛЮЧЕНИЕ:\\\\n\\\\nМСКТ-КАРТИНА ДВУСТОРОННЕГО ГИДРОТОРАКСА, С КОМПРЕССИОННЫМИ АТЕЛЕКТАЗАМИ ПРИЛЕЖАЩЕЙ ЛЕГОЧНОЙ ТКАНИ, БОЛЬШЕ СЛЕВА.\\\\nСОСТОЯНИЕ ПОСЛЕ УСТАНОВКЕ ИНТУБАЦИОННОЙ ТРУБКИ, ДИСТАЛЬНЫЙ ОТДЕЛ В УСТЬЕ ПРАВОГО ГЛАВНОГО БРОНХА. \\\\nМСКТ-КАРТИНА АТЕРОСКЛЕРОТИЧЕСКОГО ПОРАЖЕНИЯ АОРТЫ И КОРОНАРНЫХ АРТЕРИЙ. СОСТОЯНИЕ ПОСЛЕ МКШ И ПРОТЕЗИРОВАНИЯ ВОСХОДЯЩЕГО ОТДЕЛА АОРТЫ ОТ 31.10.2023Г. ПОСТОПЕРАЦИОННЫЕ ИЗМЕНЕНИЯ В ПЕРЕДНЕМ СРЕДОСТЕНИИ, С ПРИЗНАКАМИ ГЕМАТОМЫ.\\'}}]}, {\\'{urn:hl7-org:v3}td\\': [{\\'{urn:hl7-org:v3}content\\': {\\'text\\': \\'Заключение\\'}}, {\\'{urn:hl7-org:v3}content\\': {\\'text\\': \\'МСКТ-картина двустороннего гидроторакса, с компрессионными ателектазами прилежащей легочной ткани, больше слева.\\\\nСостояние после установке интубационной трубки, дистальный отдел в устье правого главного бронха. \\\\nМСКТ-картина атеросклеротического поражения аорты и коронарных артерий. Состояние после МКШ и протезирования восходящего отдела аорты от 31.10.2023г. Постоперационные изменения в переднем средостении, с признаками гематомы.\\'}}]}, {\\'{urn:hl7-org:v3}td\\': [{\\'{urn:hl7-org:v3}content\\': {\\'text\\': \\'Выявленная патология\\'}}, {\\'{urn:hl7-org:v3}content\\': {}}]}, {\\'{urn:hl7-org:v3}td\\': [{\\'{urn:hl7-org:v3}content\\': {\\'text\\': \\'Диагноз\\'}}, {\\'{urn:hl7-org:v3}content\\': {\\'text\\': \\'I21.4 Острый субэндокардиальный инфаркт миокарда\\'}}]}, {\\'{urn:hl7-org:v3}td\\': [{\\'{urn:hl7-org:v3}content\\': {\\'text\\': \\'Услуги\\'}}, {\\'{urn:hl7-org:v3}content\\': {\\'text\\': \\'Компьютерная томография органов грудной полости (A06.09.005)\\'}}]}, {\\'{urn:hl7-org:v3}td\\': [{\\'{urn:hl7-org:v3}content\\': {\\'text\\': \\'Врач\\'}}, {\\'{urn:hl7-org:v3}content\\': {\\'text\\': \\'!!!!!!!!!!!!! !!!!!!!!!!!!! !!!!!!!!!!!!! (Врач-рентгенолог)\\'}}]}]}, \\'width\\': \\'100%\\'}}}}'"
      ]
     },
     "execution_count": 196,
     "metadata": {},
     "output_type": "execute_result"
    }
   ],
   "source": [
    "labeled_data[\"full_wards\"][10]"
   ]
  },
  {
   "cell_type": "code",
   "execution_count": 125,
   "metadata": {},
   "outputs": [],
   "source": [
    "result = {}"
   ]
  },
  {
   "cell_type": "code",
   "execution_count": 215,
   "metadata": {},
   "outputs": [
    {
     "data": {
      "text/html": [
       "<div><style>\n",
       ".dataframe > thead > tr,\n",
       ".dataframe > tbody > tr {\n",
       "  text-align: right;\n",
       "  white-space: pre-wrap;\n",
       "}\n",
       "</style>\n",
       "<small>shape: (263, 2)</small><table border=\"1\" class=\"dataframe\"><thead><tr><th>new_column</th><th>count</th></tr><tr><td>str</td><td>u32</td></tr></thead><tbody><tr><td>&quot;&quot;</td><td>3591</td></tr><tr><td>&quot;\\nосн i по killip. (i50.1&quot;</td><td>718</td></tr><tr><td>&quot;\\nосн 1 по killip. (i50.1&quot;</td><td>514</td></tr><tr><td>&quot;: осн i по killip. (i50.1&quot;</td><td>293</td></tr><tr><td>&quot;е:\\nосн по killip i (i50.&quot;</td><td>285</td></tr><tr><td>&quot;\\nосн i по killip. (i50.9&quot;</td><td>218</td></tr><tr><td>&quot;: осн 1 по killip. (i50.1&quot;</td><td>202</td></tr><tr><td>&quot;\\nосн i по killip (i50.1)&quot;</td><td>200</td></tr><tr><td>&quot;: осн i по killip (i50.1)&quot;</td><td>113</td></tr><tr><td>&quot;е:\\nосн по killip 1. (i50&quot;</td><td>91</td></tr><tr><td>&quot;ие: осн по killip i (i50.&quot;</td><td>60</td></tr><tr><td>&quot;: осн i по killip. (i50.9&quot;</td><td>55</td></tr><tr><td>&quot; стадия по killip (i50.1)&quot;</td><td>45</td></tr><tr><td>&quot;е:\\nосн по killip 1 (i50.&quot;</td><td>40</td></tr><tr><td>&quot;\\nосн 1 по killip (i50.1)&quot;</td><td>29</td></tr><tr><td>&quot;\\nосн 1 по killip. (i50.0&quot;</td><td>29</td></tr><tr><td>&quot;nосн iv по killip. кардио&quot;</td><td>29</td></tr><tr><td>&quot; осн iv по killip. кардио&quot;</td><td>28</td></tr><tr><td>&quot;ложнение:\\nkillip i (i50.&quot;</td><td>28</td></tr><tr><td>&quot;nосн ii по killip. (i50.1&quot;</td><td>25</td></tr><tr><td>&quot;осн iii по killip. отек л&quot;</td><td>25</td></tr><tr><td>&quot;\\nocн i по killip. (i50.1&quot;</td><td>25</td></tr><tr><td>&quot;: осн 1 по killip (i50.1)&quot;</td><td>22</td></tr><tr><td>&quot;ие: осн по killip 1. (i50&quot;</td><td>22</td></tr><tr><td>&quot;е:\\nосн по killip i. (i50&quot;</td><td>21</td></tr><tr><td>&hellip;</td><td>&hellip;</td></tr><tr><td>&quot; стадия по killip. фибрил&quot;</td><td>1</td></tr><tr><td>&quot;: ocн i по killip (i50.1)&quot;</td><td>1</td></tr><tr><td>&quot;: осн i по killip. тромб &quot;</td><td>1</td></tr><tr><td>&quot;ие: осн по killip 3. отек&quot;</td><td>1</td></tr><tr><td>&quot;. осн 1 по killip. атерос&quot;</td><td>1</td></tr><tr><td>&quot;степени по killip (i50.1)&quot;</td><td>1</td></tr><tr><td>&quot;. осн 3 по killip. гиперт&quot;</td><td>1</td></tr><tr><td>&quot;осн iii по killip отек ле&quot;</td><td>1</td></tr><tr><td>&quot;е:\\nосн по killip i. прех&quot;</td><td>1</td></tr><tr><td>&quot; стадия по killip. ожирен&quot;</td><td>1</td></tr><tr><td>&quot; осн iv по killip кардиог&quot;</td><td>1</td></tr><tr><td>&quot;\\nосн i по killip. раняя &quot;</td><td>1</td></tr><tr><td>&quot;. осн i по killip. хронич&quot;</td><td>1</td></tr><tr><td>&quot;\\nосн i по killip. двусто&quot;</td><td>1</td></tr><tr><td>&quot;5%. осн по killip i хрони&quot;</td><td>1</td></tr><tr><td>&quot;ие:\\nосн i killip (i50.9)&quot;</td><td>1</td></tr><tr><td>&quot;ложнение:\\nkillip iii (i5&quot;</td><td>1</td></tr><tr><td>&quot;\\nосн i по killip.\\nгипер&quot;</td><td>1</td></tr><tr><td>&quot;: осн i по killip. дилата&quot;</td><td>1</td></tr><tr><td>&quot;nосн ii по killip. ишемич&quot;</td><td>1</td></tr><tr><td>&quot; %. осн по killip 1. атер&quot;</td><td>1</td></tr><tr><td>&quot;\\nосн i по killip. остано&quot;</td><td>1</td></tr><tr><td>&quot;е:\\nосн по killip 4. кард&quot;</td><td>1</td></tr><tr><td>&quot;: осн 1 по killip. раняя &quot;</td><td>1</td></tr><tr><td>&quot;\\nосн 1 по killip. \\nсопу&quot;</td><td>1</td></tr></tbody></table></div>"
      ],
      "text/plain": [
       "shape: (263, 2)\n",
       "┌───────────────────────────┬───────┐\n",
       "│ new_column                ┆ count │\n",
       "│ ---                       ┆ ---   │\n",
       "│ str                       ┆ u32   │\n",
       "╞═══════════════════════════╪═══════╡\n",
       "│                           ┆ 3591  │\n",
       "│ \\nосн i по killip. (i50.1 ┆ 718   │\n",
       "│ \\nосн 1 по killip. (i50.1 ┆ 514   │\n",
       "│ : осн i по killip. (i50.1 ┆ 293   │\n",
       "│ е:\\nосн по killip i (i50. ┆ 285   │\n",
       "│ \\nосн i по killip. (i50.9 ┆ 218   │\n",
       "│ : осн 1 по killip. (i50.1 ┆ 202   │\n",
       "│ \\nосн i по killip (i50.1) ┆ 200   │\n",
       "│ : осн i по killip (i50.1) ┆ 113   │\n",
       "│ е:\\nосн по killip 1. (i50 ┆ 91    │\n",
       "│ ие: осн по killip i (i50. ┆ 60    │\n",
       "│ : осн i по killip. (i50.9 ┆ 55    │\n",
       "│  стадия по killip (i50.1) ┆ 45    │\n",
       "│ е:\\nосн по killip 1 (i50. ┆ 40    │\n",
       "│ \\nосн 1 по killip (i50.1) ┆ 29    │\n",
       "│ \\nосн 1 по killip. (i50.0 ┆ 29    │\n",
       "│ nосн iv по killip. кардио ┆ 29    │\n",
       "│  осн iv по killip. кардио ┆ 28    │\n",
       "│ ложнение:\\nkillip i (i50. ┆ 28    │\n",
       "│ nосн ii по killip. (i50.1 ┆ 25    │\n",
       "│ осн iii по killip. отек л ┆ 25    │\n",
       "│ \\nocн i по killip. (i50.1 ┆ 25    │\n",
       "│ : осн 1 по killip (i50.1) ┆ 22    │\n",
       "│ ие: осн по killip 1. (i50 ┆ 22    │\n",
       "│ е:\\nосн по killip i. (i50 ┆ 21    │\n",
       "│ …                         ┆ …     │\n",
       "│  стадия по killip. фибрил ┆ 1     │\n",
       "│ : ocн i по killip (i50.1) ┆ 1     │\n",
       "│ : осн i по killip. тромб  ┆ 1     │\n",
       "│ ие: осн по killip 3. отек ┆ 1     │\n",
       "│ . осн 1 по killip. атерос ┆ 1     │\n",
       "│ степени по killip (i50.1) ┆ 1     │\n",
       "│ . осн 3 по killip. гиперт ┆ 1     │\n",
       "│ осн iii по killip отек ле ┆ 1     │\n",
       "│ е:\\nосн по killip i. прех ┆ 1     │\n",
       "│  стадия по killip. ожирен ┆ 1     │\n",
       "│  осн iv по killip кардиог ┆ 1     │\n",
       "│ \\nосн i по killip. раняя  ┆ 1     │\n",
       "│ . осн i по killip. хронич ┆ 1     │\n",
       "│ \\nосн i по killip. двусто ┆ 1     │\n",
       "│ 5%. осн по killip i хрони ┆ 1     │\n",
       "│ ие:\\nосн i killip (i50.9) ┆ 1     │\n",
       "│ ложнение:\\nkillip iii (i5 ┆ 1     │\n",
       "│ \\nосн i по killip.\\nгипер ┆ 1     │\n",
       "│ : осн i по killip. дилата ┆ 1     │\n",
       "│ nосн ii по killip. ишемич ┆ 1     │\n",
       "│  %. осн по killip 1. атер ┆ 1     │\n",
       "│ \\nосн i по killip. остано ┆ 1     │\n",
       "│ е:\\nосн по killip 4. кард ┆ 1     │\n",
       "│ : осн 1 по killip. раняя  ┆ 1     │\n",
       "│ \\nосн 1 по killip. \\nсопу ┆ 1     │\n",
       "└───────────────────────────┴───────┘"
      ]
     },
     "execution_count": 215,
     "metadata": {},
     "output_type": "execute_result"
    }
   ],
   "source": [
    "find_str = \"killip\"\n",
    "z = (\n",
    "    regex_search(\n",
    "        regex_string=rf\"(...........{find_str}........)\",\n",
    "        column=\"full_wards\",\n",
    "        dataframe=labeled_data,\n",
    "    )\n",
    "    .value_counts()\n",
    "    .sort(\"count\", descending=True)\n",
    "    # .head(10)\n",
    ")\n",
    "z"
   ]
  },
  {
   "cell_type": "code",
   "execution_count": 216,
   "metadata": {},
   "outputs": [
    {
     "data": {
      "text/plain": [
       "'\\\\nосн i по killip. (i50.1'"
      ]
     },
     "execution_count": 216,
     "metadata": {},
     "output_type": "execute_result"
    }
   ],
   "source": [
    "z[1][\"new_column\"].item()"
   ]
  },
  {
   "cell_type": "code",
   "execution_count": 229,
   "metadata": {},
   "outputs": [],
   "source": [
    "killip_class_list = []\n",
    "for i in labeled_data[\"full_wards\"].to_list():\n",
    "    killip_class_list.append(extract_killip_class(i))"
   ]
  },
  {
   "cell_type": "code",
   "execution_count": 231,
   "metadata": {},
   "outputs": [
    {
     "data": {
      "text/plain": [
       "{1, 2, 3, 4}"
      ]
     },
     "execution_count": 231,
     "metadata": {},
     "output_type": "execute_result"
    }
   ],
   "source": [
    "set(killip_class_list)"
   ]
  },
  {
   "cell_type": "code",
   "execution_count": 244,
   "metadata": {},
   "outputs": [
    {
     "name": "stdout",
     "output_type": "stream",
     "text": [
      "\\nосн i по killip. (i50.1 -> 1\n",
      "\\nосн 1 по killip. (i50.1 -> 1\n",
      ": осн i по killip. (i50.1 -> 1\n",
      "е:\\nосн по killip i (i50. -> 1\n",
      "\\nосн i по killip. (i50.9 -> 1\n",
      ": осн 1 по killip. (i50.1 -> 1\n",
      "\\nосн i по killip (i50.1) -> 1\n",
      ": осн i по killip (i50.1) -> 1\n",
      "е:\\nосн по killip 1. (i50 -> 1\n",
      "ие: осн по killip i (i50. -> 1\n",
      ": осн i по killip. (i50.9 -> 1\n",
      " стадия по killip (i50.1) -> 1\n",
      "е:\\nосн по killip 1 (i50. -> 1\n",
      "\\nосн 1 по killip (i50.1) -> 1\n",
      "\\nосн 1 по killip. (i50.0 -> 1\n",
      "nосн iv по killip. кардио -> 4\n",
      " осн iv по killip. кардио -> 4\n",
      "ложнение:\\nkillip i (i50. -> 1\n",
      "nосн ii по killip. (i50.1 -> 2\n",
      "осн iii по killip. отек л -> 3\n",
      "\\nocн i по killip. (i50.1 -> 1\n",
      ": осн 1 по killip (i50.1) -> 1\n",
      "ие: осн по killip 1. (i50 -> 1\n",
      "е:\\nосн по killip i. (i50 -> 1\n",
      ": осн i по killip. гиперт -> 1\n",
      ": ocн i по killip. (i50.1 -> 1\n",
      "\\nосн i по killip (i50.9) -> 1\n",
      "nосн iv по killip (кардио -> 4\n",
      " стадия по killip. (i50.1 -> 1\n",
      "\\nосн i по killip. ранняя -> 1\n",
      ": осн 1 по killip. (i50.0 -> 1\n",
      ": осн 1 по killip. гиперт -> 1\n",
      "осн iii по killip (отёк л -> 3\n",
      "ение:\\nосн killip 1 (i50. -> 1\n",
      "ия: осн по killip i. гипе -> 1\n",
      ". осн i по killip. ожирен -> 1\n",
      "\\nосн 1 по killip (i50.0) -> 1\n",
      "сложнение: killip i (i50. -> 1\n",
      " осн iv по killip (кардио -> 4\n",
      "ие: осн по killip i. (i50 -> 1\n",
      "\\nосн 1 по killip. ранняя -> 1\n",
      ": осн i по killip.(i50.1) -> 1\n",
      "ие: осн по killip 1 (i50. -> 1\n",
      ": осн 1 по killip (i50.9) -> 1\n",
      "\\nосн i по killip (i50.0) -> 1\n",
      " осн ii по killip. (i50.1 -> 2\n",
      "осн iii по killip, отек л -> 3\n",
      ": осн i по killip. ранняя -> 1\n",
      "ие:\\nосн i killip (i50.1) -> 1\n",
      "- осн 1 по killip.(i50.1) -> 1\n",
      ": осн i по killip (i50.9) -> 1\n",
      ": осн i по killip (i50.0) -> 1\n",
      "\\nосн i по killip на фоне -> 1\n",
      "nосн ii по killip. (i50.9 -> 2\n",
      ") осн 1 по killip. (i50.1 -> 1\n",
      ": осн i по killip. сахарн -> 1\n",
      "ение:\\nосн killip i (i50. -> 1\n",
      "\\nосн 1 по killip (i50.9) -> 1\n",
      ": осн 4 по killip. кардио -> 4\n",
      "\\nосн i по killip. аневри -> 1\n",
      "е:\\nосн по killip iii отё -> 3\n",
      ": осн 1 по killip(i50.1)  -> 1\n",
      ": осн 1 по killip (i50.0) -> 1\n",
      ": осн 1 по killip на фоне -> 1\n",
      "е:осн i по killip. (i50.1 -> 1\n",
      ": осн 1 по killip.(i50.1) -> 1\n",
      "\\nосн 4 по killip. кардио -> 4\n",
      "- осн i по killip.(i50.1) -> 1\n",
      "\\nосн 1 по killip на фоне -> 1\n",
      "nосн iv по killip. отек л -> 4\n",
      ": осн i по killip(i50.1)  -> 1\n",
      "ия: осн по killip 1. гипе -> 1\n",
      "\\nосн 1 по killip, на фон -> 1\n",
      "\\nосн i по killip. (i50.0 -> 1\n",
      "осн iii по killip. (i50.1 -> 3\n",
      "е:\\nосн 1 (killip). (i50. -> 1\n",
      "ние: осн i killip (i50.1) -> 1\n",
      "\\nосн 1 по killip. двусто -> 1\n",
      "осн iii по killip (отек л -> 3\n",
      " 4. осн по killip i. атер -> 1\n",
      " осн iv по killip. (i50.1 -> 4\n",
      ". осн 1 по killip. (i50.1 -> 1\n",
      " осн ii по killip (i50.1) -> 2\n",
      "ия: осн по killip 1. саха -> 1\n",
      "е:\\nосн по killip 1. ранн -> 1\n",
      "nосн ii по killip. на фон -> 2\n",
      "- осн i по killip(i50.1)\\ -> 1\n",
      ")\\n осн по killip 1.(i50. -> 1\n",
      "\\n\\nосн по killip i (i50. -> 1\n",
      ". осн i по killip. перене -> 1\n",
      "\\nосн i по killip. тромб  -> 1\n",
      "\\nосн i по killip. фибрил -> 1\n",
      ": осн 2 по killip. (i50.1 -> 2\n",
      "осн iii по killip.отек ле -> 3\n",
      "осн iii по killip. отёк л -> 3\n",
      " стадия по killip. гиперт -> None\n",
      ": осн 1 по killip.(i50.0) -> 1\n",
      ": осн i по killip. пблнпг -> 1\n",
      " стадия по killip (кардио -> None\n",
      ": осн 1 по killip. ранняя -> 1\n",
      "nосн ii по killip (i50.1) -> 2\n",
      ". осн i по killip. остеох -> 1\n",
      "\\nосн i по killip. парокс -> 1\n",
      "ия: осн по killip 4. кард -> 4\n",
      ") осн i по killip. (i50.9 -> 1\n",
      ": осн 1 по killip. частая -> 1\n",
      "\\nосн 3 по killip. отек л -> 3\n",
      "nосн ii по killip, на фон -> 2\n",
      "ие: осн 1 (killip). (i50. -> 1\n",
      "нение: осн killip 1 (i50. -> 1\n",
      "ложнение:\\nkillip i. ранн -> 1\n",
      "ни, риск 4 killip i. сд 2 -> 4\n",
      ": осн i по killip. синусо -> 1\n",
      "ия: осн по killip i гипер -> 1\n",
      "1 осн 1 по killip гиперте -> 1\n",
      "nосн iv по killip (i50.0) -> 4\n",
      "ложнение:\\nkillip i. пблн -> 1\n",
      "\\nосн 1 по killip.ранняя  -> 1\n",
      "я.осн i по killip.облитер -> 1\n",
      "ие: осн по killip ii. дву -> 2\n",
      ": \\nосн по killip i (i50. -> 1\n",
      "\\nосн i по killip.(i50.9) -> 1\n",
      "осн iii по killip (i50.9) -> 3\n",
      ": осн i по killip. ишемич -> 1\n",
      "\\nосн i по killip.хсн iib -> 1\n",
      ": осн i по killip. фибрил -> 1\n",
      "\\nосн 1 по killip. неболь -> 1\n",
      "е:\\nосн по killip i. паро -> 1\n",
      "е:\\nосн по killip 3. отек -> 3\n",
      "\\n\\nосн по killip 1 (i50. -> 1\n",
      ": осн i по killip. остано -> 1\n",
      "нение: осн killip i (i50. -> 1\n",
      "\\nосн 1 по killip. парокс -> 1\n",
      ". осн i по killip \\nперен -> 1\n",
      "ение:\\nосн killip 0 (i50. -> None\n",
      " 4. осн по killip i. нрс. -> 1\n",
      "\\nосн i по killip. фж, эи -> 1\n",
      "го: осн по killip 4. кард -> 4\n",
      "\\nосн 2 по killip. (i50.1 -> 2\n",
      ") осн i по killip. (i50.1 -> 1\n",
      "е:\\nосн по killip i. тром -> 1\n",
      "е:\\nосн по killip i. ранн -> 1\n",
      ": осн 1 по killip. двусто -> 1\n",
      "\\nосн i по killip. фж от  -> 1\n",
      ". осн i по killip. язвенн -> 1\n",
      "ложнение:\\nkillip ii (i50 -> 2\n",
      "ложнение:\\nkillip ii на ф -> 2\n",
      "nосн ii по killip. ранняя -> 2\n",
      " 4. осн по killip i. ожир -> 1\n",
      ": осн i по killip. апикал -> 1\n",
      ". осн i по killip. атерос -> 1\n",
      "ложнение:\\nkillip iii (от -> 3\n",
      "основного: killip i(i50.1 -> 1\n",
      "я.осн 1 по killip. ранняя -> 1\n",
      "ие: осн по killip ii на ф -> 2\n",
      "го: осн по killip i.(i50. -> 1\n",
      ": осн i по killip. язвенн -> 1\n",
      "ие: осн по killip i. уста -> 1\n",
      ": осн i по killip. парокс -> 1\n",
      "осн iii по killip. на фон -> 3\n",
      "ия: осн по killip i. саха -> 1\n",
      ".4) осн по killip i (i50. -> 1\n",
      "\\nосн i по killip. на фон -> 1\n",
      ": осн i по killip. (i50.0 -> 1\n",
      " осн iv по killip.кардиог -> 4\n",
      "е:\\nосн по killip ii. дву -> 2\n",
      "\\nосн 4 по killip. желудо -> 4\n",
      ") осн 1 по killip (i50.1) -> 1\n",
      ": осн 1 по killip. полная -> 1\n",
      ". осн 1 по killip на фоне -> 1\n",
      " осн ii по killip. атерос -> 2\n",
      " 4. осн по killip i. дэп  -> 1\n",
      "е:\\nосн по killip ii. уст -> 2\n",
      "ие: осн по killip iii. от -> 3\n",
      "е:осн i по killip (i50.9) -> 1\n",
      "\\nосн i по killip.парокси -> 1\n",
      "ия. осн по killip i (i50. -> 1\n",
      ": осн i по killip. вторич -> 1\n",
      " осн iv по killip. остано -> 4\n",
      "\\nосн i по killip. острый -> 1\n",
      ").\\nосн по killip iv. кар -> 4\n",
      " осн iv по killip. клинич -> 4\n",
      ": осн i по killip. фж от  -> 1\n",
      "nосн iv по killip. (i50.1 -> 4\n",
      " стадия по killip. парокс -> None\n",
      ": осн i по killip.(i50.9) -> 1\n",
      ": осн i по killip(i50.1)\\ -> 1\n",
      "осн iii по killip (i50.1) -> 3\n",
      "nосн iv по killip.парокси -> 4\n",
      "\\nосн 1 по killip. гидрот -> 1\n",
      "е:\\nосн по killip 1 гемоп -> 1\n",
      ": осн i по killip. гидрот -> 1\n",
      ": осн 1 по killip. вторич -> 1\n",
      "осн iii по killip. интерс -> 3\n",
      " (i44.2) \\nkillip i (i50. -> 2\n",
      "ложнение:\\nkillip iv. оте -> 4\n",
      " осн iv по killip. отёк л -> 4\n",
      "е:осн i по killip. (i50.9 -> 1\n",
      "n осн 1 по killip (i50.1) -> 1\n",
      ": осн i по killip. отёк л -> 1\n",
      "сновного - killip i(i50.1 -> 1\n",
      "г.осн 1 по killip на фоне -> 1\n",
      "е:\\nосн по killip i на фо -> 1\n",
      "0)\\nосн по killip iv. аси -> 4\n",
      "    осн по killip i (i50. -> 1\n",
      " осн ii по killip.(i50.1) -> 2\n",
      "е:\\nосн по killip i . (i5 -> 1\n",
      ": осн 1 по killip.вторичн -> 1\n",
      " осн iv по killip. отек л -> 4\n",
      "nосн ii по killip. двухст -> 2\n",
      "\\nосн 1 по killip. (i50.9 -> 1\n",
      "nосн ii по killip. (i50.0 -> 2\n",
      ") осн 3 по killip. отек л -> 3\n",
      "сложнение: killip iii (i5 -> 3\n",
      ". осн i по killip. парокс -> 1\n",
      "ложнение:\\nkillip iv. кар -> 4\n",
      "\\nосн 2 по killip. сердеч -> 2\n",
      "е:\\nосн по killip i. хсн  -> 1\n",
      "ии (i49.3) killip ii (i50 -> 4\n",
      " стадия по killip на фоне -> None\n",
      ": осн i по killip. c-r ле -> 1\n",
      "n осн i по killip. (i50.1 -> 1\n",
      ".2) осн по killip 1. (i50 -> 1\n",
      " 4. осн по killip i ожире -> 1\n",
      "\\nосн 1 по killip(i50.1)  -> 1\n",
      "е:\\nосн по killip i. вабк -> 1\n",
      "nосн iv по killip. слр.фи -> 4\n",
      " стадия по killip ожирени -> None\n",
      " г. осн по killip i. ранн -> 1\n",
      ": осн i по killip. ожирен -> 1\n",
      " стадии по killip (i50.1) -> 1\n",
      " 4. осн по killip i\\nпере -> 1\n",
      ". осн i по killip стеноз  -> 1\n",
      ": осн i по killip. полная -> 1\n",
      "\\nосн i по killip. хсн ii -> 1\n",
      " осн iv по killip, угнете -> 4\n",
      "ложнение:\\nkillip i. пере -> 1\n",
      " стадия по killip. фибрил -> None\n",
      ": ocн i по killip (i50.1) -> 1\n",
      ": осн i по killip. тромб  -> 1\n",
      "ие: осн по killip 3. отек -> 3\n",
      ". осн 1 по killip. атерос -> 1\n",
      "степени по killip (i50.1) -> 1\n",
      ". осн 3 по killip. гиперт -> 3\n",
      "осн iii по killip отек ле -> 3\n",
      "е:\\nосн по killip i. прех -> 1\n",
      " стадия по killip. ожирен -> None\n",
      " осн iv по killip кардиог -> 4\n",
      "\\nосн i по killip. раняя  -> 1\n",
      ". осн i по killip. хронич -> 1\n",
      "\\nосн i по killip. двусто -> 1\n",
      "5%. осн по killip i хрони -> 1\n",
      "ие:\\nосн i killip (i50.9) -> 1\n",
      "ложнение:\\nkillip iii (i5 -> 3\n",
      "\\nосн i по killip.\\nгипер -> 1\n",
      ": осн i по killip. дилата -> 1\n",
      "nосн ii по killip. ишемич -> 2\n",
      " %. осн по killip 1. атер -> 1\n",
      "\\nосн i по killip. остано -> 1\n",
      "е:\\nосн по killip 4. кард -> 4\n",
      ": осн 1 по killip. раняя  -> 1\n",
      "\\nосн 1 по killip. \\nсопу -> 1\n"
     ]
    }
   ],
   "source": [
    "import re\n",
    "\n",
    "\n",
    "def extract_killip_class(text):\n",
    "    \"\"\"\n",
    "    Extracts Killip class (I, II, III, IV, 1, 2, 3, 4) from a string,\n",
    "    allowing the class to appear before or after the word 'KILLIP'.\n",
    "    Returns the class as an integer (1-4) or None if not found.\n",
    "    \"\"\"\n",
    "    text = text.upper().replace(\"І\", \"I\")  # handle cyrillic I\n",
    "\n",
    "    # Patterns: class before or after 'KILLIP'\n",
    "    patterns = [\n",
    "        r\"([IV]{1,3}|[1-4]).{0,5}KILLIP\",  # class before KILLIP\n",
    "        r\"KILLIP[^\\w]{0,5}([IV]{1,3}|[1-4])\",  # class after KILLIP\n",
    "    ]\n",
    "    roman_to_int = {\"I\": 1, \"II\": 2, \"III\": 3, \"IV\": 4}\n",
    "    for pattern in patterns:\n",
    "        match = re.search(pattern, text)\n",
    "        if match:\n",
    "            val = match.group(1)\n",
    "            if val in roman_to_int:\n",
    "                return roman_to_int[val]\n",
    "            try:\n",
    "                return int(val)\n",
    "            except ValueError:\n",
    "                return None\n",
    "    return None\n",
    "\n",
    "\n",
    "# Example usage:\n",
    "examples = [\n",
    "    \"\\\\nосн i по killip. (i50.1\",\n",
    "    \"\\\\nосн 1 по killip. (i50.1\",\n",
    "    \": осн i по killip. (i50.1\",\n",
    "    \"е:\\\\nосн по killip i (i50.\",\n",
    "    \"\\\\nосн i по killip. (i50.9\",\n",
    "    \": осн 1 по killip. (i50.1\",\n",
    "    \"\\\\nосн i по killip (i50.1)\",\n",
    "    \": осн i по killip (i50.1)\",\n",
    "    \"е:\\\\nосн по killip 1. (i50\",\n",
    "    \"ие: осн по killip i (i50.\",\n",
    "    \": осн i по killip. (i50.9\",\n",
    "    \" стадия по killip (i50.1)\",\n",
    "    \"е:\\\\nосн по killip 1 (i50.\",\n",
    "    \"\\\\nосн 1 по killip (i50.1)\",\n",
    "    \"\\\\nосн 1 по killip. (i50.0\",\n",
    "    \"nосн iv по killip. кардио\",\n",
    "    \" осн iv по killip. кардио\",\n",
    "    \"ложнение:\\\\nkillip i (i50.\",\n",
    "    \"nосн ii по killip. (i50.1\",\n",
    "    \"осн iii по killip. отек л\",\n",
    "    \"\\\\nocн i по killip. (i50.1\",\n",
    "    \": осн 1 по killip (i50.1)\",\n",
    "    \"ие: осн по killip 1. (i50\",\n",
    "    \"е:\\\\nосн по killip i. (i50\",\n",
    "    \": осн i по killip. гиперт\",\n",
    "    \": ocн i по killip. (i50.1\",\n",
    "    \"\\\\nосн i по killip (i50.9)\",\n",
    "    \"nосн iv по killip (кардио\",\n",
    "    \" стадия по killip. (i50.1\",\n",
    "    \"\\\\nосн i по killip. ранняя\",\n",
    "    \": осн 1 по killip. (i50.0\",\n",
    "    \": осн 1 по killip. гиперт\",\n",
    "    \"осн iii по killip (отёк л\",\n",
    "    \"ение:\\\\nосн killip 1 (i50.\",\n",
    "    \"ия: осн по killip i. гипе\",\n",
    "    \". осн i по killip. ожирен\",\n",
    "    \"\\\\nосн 1 по killip (i50.0)\",\n",
    "    \"сложнение: killip i (i50.\",\n",
    "    \" осн iv по killip (кардио\",\n",
    "    \"ие: осн по killip i. (i50\",\n",
    "    \"\\\\nосн 1 по killip. ранняя\",\n",
    "    \": осн i по killip.(i50.1)\",\n",
    "    \"ие: осн по killip 1 (i50.\",\n",
    "    \": осн 1 по killip (i50.9)\",\n",
    "    \"\\\\nосн i по killip (i50.0)\",\n",
    "    \" осн ii по killip. (i50.1\",\n",
    "    \"осн iii по killip, отек л\",\n",
    "    \": осн i по killip. ранняя\",\n",
    "    \"ие:\\\\nосн i killip (i50.1)\",\n",
    "    \"- осн 1 по killip.(i50.1)\",\n",
    "    \": осн i по killip (i50.9)\",\n",
    "    \": осн i по killip (i50.0)\",\n",
    "    \"\\\\nосн i по killip на фоне\",\n",
    "    \"nосн ii по killip. (i50.9\",\n",
    "    \") осн 1 по killip. (i50.1\",\n",
    "    \": осн i по killip. сахарн\",\n",
    "    \"ение:\\\\nосн killip i (i50.\",\n",
    "    \"\\\\nосн 1 по killip (i50.9)\",\n",
    "    \": осн 4 по killip. кардио\",\n",
    "    \"\\\\nосн i по killip. аневри\",\n",
    "    \"е:\\\\nосн по killip iii отё\",\n",
    "    \": осн 1 по killip(i50.1) \",\n",
    "    \": осн 1 по killip (i50.0)\",\n",
    "    \": осн 1 по killip на фоне\",\n",
    "    \"е:осн i по killip. (i50.1\",\n",
    "    \": осн 1 по killip.(i50.1)\",\n",
    "    \"\\\\nосн 4 по killip. кардио\",\n",
    "    \"- осн i по killip.(i50.1)\",\n",
    "    \"\\\\nосн 1 по killip на фоне\",\n",
    "    \"nосн iv по killip. отек л\",\n",
    "    \": осн i по killip(i50.1) \",\n",
    "    \"ия: осн по killip 1. гипе\",\n",
    "    \"\\\\nосн 1 по killip, на фон\",\n",
    "    \"\\\\nосн i по killip. (i50.0\",\n",
    "    \"осн iii по killip. (i50.1\",\n",
    "    \"е:\\\\nосн 1 (killip). (i50.\",\n",
    "    \"ние: осн i killip (i50.1)\",\n",
    "    \"\\\\nосн 1 по killip. двусто\",\n",
    "    \"осн iii по killip (отек л\",\n",
    "    \" 4. осн по killip i. атер\",\n",
    "    \" осн iv по killip. (i50.1\",\n",
    "    \". осн 1 по killip. (i50.1\",\n",
    "    \" осн ii по killip (i50.1)\",\n",
    "    \"ия: осн по killip 1. саха\",\n",
    "    \"е:\\\\nосн по killip 1. ранн\",\n",
    "    \"nосн ii по killip. на фон\",\n",
    "    \"- осн i по killip(i50.1)\\\\\",\n",
    "    \")\\\\n осн по killip 1.(i50.\",\n",
    "    \"\\\\n\\\\nосн по killip i (i50.\",\n",
    "    \". осн i по killip. перене\",\n",
    "    \"\\\\nосн i по killip. тромб \",\n",
    "    \"\\\\nосн i по killip. фибрил\",\n",
    "    \": осн 2 по killip. (i50.1\",\n",
    "    \"осн iii по killip.отек ле\",\n",
    "    \"осн iii по killip. отёк л\",\n",
    "    \" стадия по killip. гиперт\",\n",
    "    \": осн 1 по killip.(i50.0)\",\n",
    "    \": осн i по killip. пблнпг\",\n",
    "    \" стадия по killip (кардио\",\n",
    "    \": осн 1 по killip. ранняя\",\n",
    "    \"nосн ii по killip (i50.1)\",\n",
    "    \". осн i по killip. остеох\",\n",
    "    \"\\\\nосн i по killip. парокс\",\n",
    "    \"ия: осн по killip 4. кард\",\n",
    "    \") осн i по killip. (i50.9\",\n",
    "    \": осн 1 по killip. частая\",\n",
    "    \"\\\\nосн 3 по killip. отек л\",\n",
    "    \"nосн ii по killip, на фон\",\n",
    "    \"ие: осн 1 (killip). (i50.\",\n",
    "    \"нение: осн killip 1 (i50.\",\n",
    "    \"ложнение:\\\\nkillip i. ранн\",\n",
    "    \"ни, риск 4 killip i. сд 2\",\n",
    "    \": осн i по killip. синусо\",\n",
    "    \"ия: осн по killip i гипер\",\n",
    "    \"1 осн 1 по killip гиперте\",\n",
    "    \"nосн iv по killip (i50.0)\",\n",
    "    \"ложнение:\\\\nkillip i. пблн\",\n",
    "    \"\\\\nосн 1 по killip.ранняя \",\n",
    "    \"я.осн i по killip.облитер\",\n",
    "    \"ие: осн по killip ii. дву\",\n",
    "    \": \\\\nосн по killip i (i50.\",\n",
    "    \"\\\\nосн i по killip.(i50.9)\",\n",
    "    \"осн iii по killip (i50.9)\",\n",
    "    \": осн i по killip. ишемич\",\n",
    "    \"\\\\nосн i по killip.хсн iib\",\n",
    "    \": осн i по killip. фибрил\",\n",
    "    \"\\\\nосн 1 по killip. неболь\",\n",
    "    \"е:\\\\nосн по killip i. паро\",\n",
    "    \"е:\\\\nосн по killip 3. отек\",\n",
    "    \"\\\\n\\\\nосн по killip 1 (i50.\",\n",
    "    \": осн i по killip. остано\",\n",
    "    \"нение: осн killip i (i50.\",\n",
    "    \"\\\\nосн 1 по killip. парокс\",\n",
    "    \". осн i по killip \\\\nперен\",\n",
    "    \"ение:\\\\nосн killip 0 (i50.\",\n",
    "    \" 4. осн по killip i. нрс.\",\n",
    "    \"\\\\nосн i по killip. фж, эи\",\n",
    "    \"го: осн по killip 4. кард\",\n",
    "    \"\\\\nосн 2 по killip. (i50.1\",\n",
    "    \") осн i по killip. (i50.1\",\n",
    "    \"е:\\\\nосн по killip i. тром\",\n",
    "    \"е:\\\\nосн по killip i. ранн\",\n",
    "    \": осн 1 по killip. двусто\",\n",
    "    \"\\\\nосн i по killip. фж от \",\n",
    "    \". осн i по killip. язвенн\",\n",
    "    \"ложнение:\\\\nkillip ii (i50\",\n",
    "    \"ложнение:\\\\nkillip ii на ф\",\n",
    "    \"nосн ii по killip. ранняя\",\n",
    "    \" 4. осн по killip i. ожир\",\n",
    "    \": осн i по killip. апикал\",\n",
    "    \". осн i по killip. атерос\",\n",
    "    \"ложнение:\\\\nkillip iii (от\",\n",
    "    \"основного: killip i(i50.1\",\n",
    "    \"я.осн 1 по killip. ранняя\",\n",
    "    \"ие: осн по killip ii на ф\",\n",
    "    \"го: осн по killip i.(i50.\",\n",
    "    \": осн i по killip. язвенн\",\n",
    "    \"ие: осн по killip i. уста\",\n",
    "    \": осн i по killip. парокс\",\n",
    "    \"осн iii по killip. на фон\",\n",
    "    \"ия: осн по killip i. саха\",\n",
    "    \".4) осн по killip i (i50.\",\n",
    "    \"\\\\nосн i по killip. на фон\",\n",
    "    \": осн i по killip. (i50.0\",\n",
    "    \" осн iv по killip.кардиог\",\n",
    "    \"е:\\\\nосн по killip ii. дву\",\n",
    "    \"\\\\nосн 4 по killip. желудо\",\n",
    "    \") осн 1 по killip (i50.1)\",\n",
    "    \": осн 1 по killip. полная\",\n",
    "    \". осн 1 по killip на фоне\",\n",
    "    \" осн ii по killip. атерос\",\n",
    "    \" 4. осн по killip i. дэп \",\n",
    "    \"е:\\\\nосн по killip ii. уст\",\n",
    "    \"ие: осн по killip iii. от\",\n",
    "    \"е:осн i по killip (i50.9)\",\n",
    "    \"\\\\nосн i по killip.парокси\",\n",
    "    \"ия. осн по killip i (i50.\",\n",
    "    \": осн i по killip. вторич\",\n",
    "    \" осн iv по killip. остано\",\n",
    "    \"\\\\nосн i по killip. острый\",\n",
    "    \").\\\\nосн по killip iv. кар\",\n",
    "    \" осн iv по killip. клинич\",\n",
    "    \": осн i по killip. фж от \",\n",
    "    \"nосн iv по killip. (i50.1\",\n",
    "    \" стадия по killip. парокс\",\n",
    "    \": осн i по killip.(i50.9)\",\n",
    "    \": осн i по killip(i50.1)\\\\\",\n",
    "    \"осн iii по killip (i50.1)\",\n",
    "    \"nосн iv по killip.парокси\",\n",
    "    \"\\\\nосн 1 по killip. гидрот\",\n",
    "    \"е:\\\\nосн по killip 1 гемоп\",\n",
    "    \": осн i по killip. гидрот\",\n",
    "    \": осн 1 по killip. вторич\",\n",
    "    \"осн iii по killip. интерс\",\n",
    "    \" (i44.2) \\\\nkillip i (i50.\",\n",
    "    \"ложнение:\\\\nkillip iv. оте\",\n",
    "    \" осн iv по killip. отёк л\",\n",
    "    \"е:осн i по killip. (i50.9\",\n",
    "    \"n осн 1 по killip (i50.1)\",\n",
    "    \": осн i по killip. отёк л\",\n",
    "    \"сновного - killip i(i50.1\",\n",
    "    \"г.осн 1 по killip на фоне\",\n",
    "    \"е:\\\\nосн по killip i на фо\",\n",
    "    \"0)\\\\nосн по killip iv. аси\",\n",
    "    \"    осн по killip i (i50.\",\n",
    "    \" осн ii по killip.(i50.1)\",\n",
    "    \"е:\\\\nосн по killip i . (i5\",\n",
    "    \": осн 1 по killip.вторичн\",\n",
    "    \" осн iv по killip. отек л\",\n",
    "    \"nосн ii по killip. двухст\",\n",
    "    \"\\\\nосн 1 по killip. (i50.9\",\n",
    "    \"nосн ii по killip. (i50.0\",\n",
    "    \") осн 3 по killip. отек л\",\n",
    "    \"сложнение: killip iii (i5\",\n",
    "    \". осн i по killip. парокс\",\n",
    "    \"ложнение:\\\\nkillip iv. кар\",\n",
    "    \"\\\\nосн 2 по killip. сердеч\",\n",
    "    \"е:\\\\nосн по killip i. хсн \",\n",
    "    \"ии (i49.3) killip ii (i50\",\n",
    "    \" стадия по killip на фоне\",\n",
    "    \": осн i по killip. c-r ле\",\n",
    "    \"n осн i по killip. (i50.1\",\n",
    "    \".2) осн по killip 1. (i50\",\n",
    "    \" 4. осн по killip i ожире\",\n",
    "    \"\\\\nосн 1 по killip(i50.1) \",\n",
    "    \"е:\\\\nосн по killip i. вабк\",\n",
    "    \"nосн iv по killip. слр.фи\",\n",
    "    \" стадия по killip ожирени\",\n",
    "    \" г. осн по killip i. ранн\",\n",
    "    \": осн i по killip. ожирен\",\n",
    "    \" стадии по killip (i50.1)\",\n",
    "    \" 4. осн по killip i\\\\nпере\",\n",
    "    \". осн i по killip стеноз \",\n",
    "    \": осн i по killip. полная\",\n",
    "    \"\\\\nосн i по killip. хсн ii\",\n",
    "    \" осн iv по killip, угнете\",\n",
    "    \"ложнение:\\\\nkillip i. пере\",\n",
    "    \" стадия по killip. фибрил\",\n",
    "    \": ocн i по killip (i50.1)\",\n",
    "    \": осн i по killip. тромб \",\n",
    "    \"ие: осн по killip 3. отек\",\n",
    "    \". осн 1 по killip. атерос\",\n",
    "    \"степени по killip (i50.1)\",\n",
    "    \". осн 3 по killip. гиперт\",\n",
    "    \"осн iii по killip отек ле\",\n",
    "    \"е:\\\\nосн по killip i. прех\",\n",
    "    \" стадия по killip. ожирен\",\n",
    "    \" осн iv по killip кардиог\",\n",
    "    \"\\\\nосн i по killip. раняя \",\n",
    "    \". осн i по killip. хронич\",\n",
    "    \"\\\\nосн i по killip. двусто\",\n",
    "    \"5%. осн по killip i хрони\",\n",
    "    \"ие:\\\\nосн i killip (i50.9)\",\n",
    "    \"ложнение:\\\\nkillip iii (i5\",\n",
    "    \"\\\\nосн i по killip.\\\\nгипер\",\n",
    "    \": осн i по killip. дилата\",\n",
    "    \"nосн ii по killip. ишемич\",\n",
    "    \" %. осн по killip 1. атер\",\n",
    "    \"\\\\nосн i по killip. остано\",\n",
    "    \"е:\\\\nосн по killip 4. кард\",\n",
    "    \": осн 1 по killip. раняя \",\n",
    "    \"\\\\nосн 1 по killip. \\\\nсопу\",\n",
    "]\n",
    "\n",
    "for ex in examples:\n",
    "    print(ex, \"->\", extract_killip_class(ex))"
   ]
  },
  {
   "cell_type": "code",
   "execution_count": 245,
   "metadata": {},
   "outputs": [],
   "source": [
    "# z[\"new_column\"].to_list()[1:]"
   ]
  },
  {
   "cell_type": "code",
   "execution_count": 257,
   "metadata": {},
   "outputs": [
    {
     "name": "stderr",
     "output_type": "stream",
     "text": [
      "<>:1: SyntaxWarning: invalid escape sequence '\\w'\n",
      "<>:1: SyntaxWarning: invalid escape sequence '\\w'\n",
      "/var/folders/yt/5rqq39t16xs0vjb7z99vs0cw0000gn/T/ipykernel_19181/3480805845.py:1: SyntaxWarning: invalid escape sequence '\\w'\n",
      "  find_str = \"[^\\w]st[^\\w]\"\n"
     ]
    },
    {
     "data": {
      "text/html": [
       "<div><style>\n",
       ".dataframe > thead > tr,\n",
       ".dataframe > tbody > tr {\n",
       "  text-align: right;\n",
       "  white-space: pre-wrap;\n",
       "}\n",
       "</style>\n",
       "<small>shape: (10, 2)</small><table border=\"1\" class=\"dataframe\"><thead><tr><th>new_column</th><th>count</th></tr><tr><td>str</td><td>u32</td></tr></thead><tbody><tr><td>&quot;&quot;</td><td>3236</td></tr><tr><td>&quot;я сегмента st в ii, iii, av&quot;</td><td>87</td></tr><tr><td>&quot;я сегмента st в отведениях &quot;</td><td>81</td></tr><tr><td>&quot;я сегмента st общей продолж&quot;</td><td>67</td></tr><tr><td>&quot;менений с. st не зарегистри&quot;</td><td>60</td></tr><tr><td>&quot;я сегмента st в ii, iii avf&quot;</td><td>48</td></tr><tr><td>&quot; изменения st-t не зарегист&quot;</td><td>43</td></tr><tr><td>&quot;и сегмента st не выявлено.\\&quot;</td><td>34</td></tr><tr><td>&quot;я сегмента st в отв. ii, ii&quot;</td><td>28</td></tr><tr><td>&quot;я сегмента st, патологическ&quot;</td><td>24</td></tr></tbody></table></div>"
      ],
      "text/plain": [
       "shape: (10, 2)\n",
       "┌─────────────────────────────┬───────┐\n",
       "│ new_column                  ┆ count │\n",
       "│ ---                         ┆ ---   │\n",
       "│ str                         ┆ u32   │\n",
       "╞═════════════════════════════╪═══════╡\n",
       "│                             ┆ 3236  │\n",
       "│ я сегмента st в ii, iii, av ┆ 87    │\n",
       "│ я сегмента st в отведениях  ┆ 81    │\n",
       "│ я сегмента st общей продолж ┆ 67    │\n",
       "│ менений с. st не зарегистри ┆ 60    │\n",
       "│ я сегмента st в ii, iii avf ┆ 48    │\n",
       "│  изменения st-t не зарегист ┆ 43    │\n",
       "│ и сегмента st не выявлено.\\ ┆ 34    │\n",
       "│ я сегмента st в отв. ii, ii ┆ 28    │\n",
       "│ я сегмента st, патологическ ┆ 24    │\n",
       "└─────────────────────────────┴───────┘"
      ]
     },
     "execution_count": 257,
     "metadata": {},
     "output_type": "execute_result"
    }
   ],
   "source": [
    "find_str = \"[^\\w]st[^\\w]\"\n",
    "z = (\n",
    "    regex_search(\n",
    "        regex_string=rf\"(..........{find_str}.............)\",\n",
    "        column=\"full_wards\",\n",
    "        dataframe=labeled_data,\n",
    "    )\n",
    "    .value_counts()\n",
    "    .sort(\"count\", descending=True)\n",
    "    .head(10)\n",
    ")\n",
    "z"
   ]
  },
  {
   "cell_type": "code",
   "execution_count": 258,
   "metadata": {},
   "outputs": [
    {
     "data": {
      "text/plain": [
       "'я сегмента st в ii, iii, av'"
      ]
     },
     "execution_count": 258,
     "metadata": {},
     "output_type": "execute_result"
    }
   ],
   "source": [
    "z[1][\"new_column\"].item()"
   ]
  },
  {
   "cell_type": "code",
   "execution_count": 176,
   "metadata": {},
   "outputs": [
    {
     "data": {
      "text/plain": [
       "{'тропонин': 0.7551388888888889,\n",
       " 'st ': 0.4766666666666667,\n",
       " 'killip': 0.49875,\n",
       " 'grace': 0.9863888888888889}"
      ]
     },
     "execution_count": 176,
     "metadata": {},
     "output_type": "execute_result"
    }
   ],
   "source": [
    "result[find_str] = z.filter(c(\"new_column\") == \"\")[\"count\"].item() / 7200\n",
    "result"
   ]
  },
  {
   "cell_type": "code",
   "execution_count": 116,
   "metadata": {},
   "outputs": [
    {
     "data": {
      "text/html": [
       "<div><style>\n",
       ".dataframe > thead > tr,\n",
       ".dataframe > tbody > tr {\n",
       "  text-align: right;\n",
       "  white-space: pre-wrap;\n",
       "}\n",
       "</style>\n",
       "<small>shape: (1, 2)</small><table border=\"1\" class=\"dataframe\"><thead><tr><th>new_column</th><th>count</th></tr><tr><td>str</td><td>u32</td></tr></thead><tbody><tr><td>&quot;&quot;</td><td>7280</td></tr></tbody></table></div>"
      ],
      "text/plain": [
       "shape: (1, 2)\n",
       "┌────────────┬───────┐\n",
       "│ new_column ┆ count │\n",
       "│ ---        ┆ ---   │\n",
       "│ str        ┆ u32   │\n",
       "╞════════════╪═══════╡\n",
       "│            ┆ 7280  │\n",
       "└────────────┴───────┘"
      ]
     },
     "execution_count": 116,
     "metadata": {},
     "output_type": "execute_result"
    }
   ],
   "source": [
    "(\n",
    "    regex_search(\n",
    "        regex_string=r\"(...АД.........)\",\n",
    "        column=\"full_wards\",\n",
    "        dataframe=labeled_data,\n",
    "    )\n",
    "    .value_counts()\n",
    "    .sort(\"count\", descending=True)\n",
    "    .head(10)\n",
    ")"
   ]
  },
  {
   "cell_type": "code",
   "execution_count": 26,
   "metadata": {},
   "outputs": [
    {
     "data": {
      "image/png": "[encoded data removed]",
      "text/plain": [
       "<Figure size 640x480 with 1 Axes>"
      ]
     },
     "metadata": {},
     "output_type": "display_data"
    }
   ],
   "source": [
    "plt.hist(\n",
    "    labeled_data.with_columns(c(\"condition\").str.len_chars().alias(\"fdsa\"))\n",
    "    .sort([\"fdsa\"])[\"fdsa\"]\n",
    "    .to_numpy()\n",
    "    # [140]\n",
    ")\n",
    "plt.xlabel(\"len of 'condition' feature\")\n",
    "plt.grid()"
   ]
  },
  {
   "cell_type": "code",
   "execution_count": 27,
   "metadata": {},
   "outputs": [
    {
     "data": {
      "text/html": [
       "<div><style>\n",
       ".dataframe > thead > tr,\n",
       ".dataframe > tbody > tr {\n",
       "  text-align: right;\n",
       "  white-space: pre-wrap;\n",
       "}\n",
       "</style>\n",
       "<small>shape: (2, 2)</small><table border=\"1\" class=\"dataframe\"><thead><tr><th>new_column</th><th>count</th></tr><tr><td>str</td><td>u32</td></tr></thead><tbody><tr><td>&quot;&quot;</td><td>5436</td></tr><tr><td>&quot;АРТЕРИАЛЬНОЕ ДАВЛЕНИЕ&quot;</td><td>1844</td></tr></tbody></table></div>"
      ],
      "text/plain": [
       "shape: (2, 2)\n",
       "┌───────────────────────┬───────┐\n",
       "│ new_column            ┆ count │\n",
       "│ ---                   ┆ ---   │\n",
       "│ str                   ┆ u32   │\n",
       "╞═══════════════════════╪═══════╡\n",
       "│                       ┆ 5436  │\n",
       "│ АРТЕРИАЛЬНОЕ ДАВЛЕНИЕ ┆ 1844  │\n",
       "└───────────────────────┴───────┘"
      ]
     },
     "execution_count": 27,
     "metadata": {},
     "output_type": "execute_result"
    }
   ],
   "source": [
    "(\n",
    "    regex_search(\n",
    "        regex_string=r\"(АРТЕРИАЛЬНОЕ ДАВЛЕНИЕ)\",\n",
    "        column=\"condition\",\n",
    "        dataframe=labeled_data,\n",
    "    )\n",
    "    .value_counts()\n",
    "    .sort(\"count\", descending=True)\n",
    "    .head(10)\n",
    ")"
   ]
  },
  {
   "cell_type": "code",
   "execution_count": 28,
   "metadata": {},
   "outputs": [
    {
     "data": {
      "text/html": [
       "<div><style>\n",
       ".dataframe > thead > tr,\n",
       ".dataframe > tbody > tr {\n",
       "  text-align: right;\n",
       "  white-space: pre-wrap;\n",
       "}\n",
       "</style>\n",
       "<small>shape: (5, 2)</small><table border=\"1\" class=\"dataframe\"><thead><tr><th>new_column</th><th>count</th></tr><tr><td>str</td><td>u32</td></tr></thead><tbody><tr><td>&quot;&quot;</td><td>5570</td></tr><tr><td>&quot;98&quot;</td><td>864</td></tr><tr><td>&quot;97&quot;</td><td>276</td></tr><tr><td>&quot;96&quot;</td><td>201</td></tr><tr><td>&quot;99&quot;</td><td>135</td></tr></tbody></table></div>"
      ],
      "text/plain": [
       "shape: (5, 2)\n",
       "┌────────────┬───────┐\n",
       "│ new_column ┆ count │\n",
       "│ ---        ┆ ---   │\n",
       "│ str        ┆ u32   │\n",
       "╞════════════╪═══════╡\n",
       "│            ┆ 5570  │\n",
       "│ 98         ┆ 864   │\n",
       "│ 97         ┆ 276   │\n",
       "│ 96         ┆ 201   │\n",
       "│ 99         ┆ 135   │\n",
       "└────────────┴───────┘"
      ]
     },
     "execution_count": 28,
     "metadata": {},
     "output_type": "execute_result"
    }
   ],
   "source": [
    "(\n",
    "    regex_search(\n",
    "        regex_string=r\"НАСЫЩЕНИЕ КРОВИ КИСЛОРОДОМ \\(САТУРАЦИЯ, %\\)\\D*(\\d+)\",\n",
    "        column=\"condition\",\n",
    "        dataframe=labeled_data,\n",
    "    )\n",
    "    .value_counts()\n",
    "    .sort(\"count\", descending=True)\n",
    "    .head(5)\n",
    ")"
   ]
  },
  {
   "cell_type": "code",
   "execution_count": 29,
   "metadata": {},
   "outputs": [],
   "source": [
    "new_columns_regex_condition = {\n",
    "    \"oxygen_saturation\": r\"НАСЫЩЕНИЕ КРОВИ КИСЛОРОДОМ \\(САТУРАЦИЯ, %\\)\\D*(\\d+)\",\n",
    "    \"bmi\": r\"ИМТ\\D*(\\d+)\",\n",
    "    \"status\": r\"Состояние:\\s*(.{2,24})',\",\n",
    "    # \"left_atrium\": r\"ЛЕВОЕ\",\n",
    "}"
   ]
  },
  {
   "cell_type": "code",
   "execution_count": 30,
   "metadata": {},
   "outputs": [],
   "source": [
    "section = \"condition\"\n",
    "\n",
    "for column_name, regex_string in new_columns_regex_condition.items():\n",
    "    new_column = regex_search(\n",
    "        regex_string=regex_string,\n",
    "        column=section,\n",
    "        dataframe=labeled_data,\n",
    "    )\n",
    "    labeled_data = labeled_data.with_columns(\n",
    "        new_column.replace({\"\": None}).alias(section + \"_\" + column_name)\n",
    "    )\n",
    "\n",
    "    PROCESSED_COLS.append(section + \"_\" + column_name)"
   ]
  },
  {
   "cell_type": "markdown",
   "metadata": {},
   "source": [
    "#### full wards\n",
    "- ecg\n",
    "- rentgenogram\n",
    "- ultrasound"
   ]
  },
  {
   "cell_type": "code",
   "execution_count": 31,
   "metadata": {},
   "outputs": [
    {
     "data": {
      "image/png": "[encoded data removed]",
      "text/plain": [
       "<Figure size 640x480 with 1 Axes>"
      ]
     },
     "metadata": {},
     "output_type": "display_data"
    }
   ],
   "source": [
    "plt.hist(\n",
    "    labeled_data.with_columns(c(\"full_wards\").str.len_chars().alias(\"fdsa\"))\n",
    "    .sort([\"fdsa\"])[\"fdsa\"]\n",
    "    .to_numpy()\n",
    "    # [140]\n",
    ")\n",
    "plt.xlabel(\"len of 'full_wards' feature\")\n",
    "plt.grid()"
   ]
  },
  {
   "cell_type": "code",
   "execution_count": 32,
   "metadata": {},
   "outputs": [],
   "source": [
    "def clean_full_wards(x):\n",
    "    x = x.replace(\"!\", \"\")\n",
    "    x = re.sub(\n",
    "        r\"{urn:hl7-org:v3}\",\n",
    "        \"\",\n",
    "        x,\n",
    "    )\n",
    "    # x = re.sub(\n",
    "    #     r\"\\'\\D+\\':\",\n",
    "    #     \" \",\n",
    "    #     x,\n",
    "    # )\n",
    "    # x = re.sub(\n",
    "    #     r\"[\\\\n{}\\'\\\"]\",\n",
    "    #     \" \",\n",
    "    #     x,\n",
    "    # )\n",
    "    x = re.sub(\n",
    "        r\"  +\",\n",
    "        \" \",\n",
    "        x,\n",
    "    )\n",
    "    return x\n",
    "\n",
    "\n",
    "labeled_data = labeled_data.with_columns(\n",
    "    c(\"full_wards\")\n",
    "    .map_elements(\n",
    "        clean_full_wards,\n",
    "        return_dtype=str,\n",
    "    )\n",
    "    .alias(\"full_wards_cleaned\")\n",
    ")"
   ]
  },
  {
   "cell_type": "code",
   "execution_count": 33,
   "metadata": {},
   "outputs": [
    {
     "data": {
      "text/plain": [
       "\"{'Сведения о пребывании пациента в Приемное отделение': {}, 'Сведения о пребывании пациента в Кардио\""
      ]
     },
     "execution_count": 33,
     "metadata": {},
     "output_type": "execute_result"
    }
   ],
   "source": [
    "labeled_data[\"full_wards_cleaned\"][-4][:100]"
   ]
  },
  {
   "cell_type": "code",
   "execution_count": 34,
   "metadata": {},
   "outputs": [
    {
     "data": {
      "text/html": [
       "<div>\n",
       "<style scoped>\n",
       "    .dataframe tbody tr th:only-of-type {\n",
       "        vertical-align: middle;\n",
       "    }\n",
       "\n",
       "    .dataframe tbody tr th {\n",
       "        vertical-align: top;\n",
       "    }\n",
       "\n",
       "    .dataframe thead th {\n",
       "        text-align: right;\n",
       "    }\n",
       "</style>\n",
       "<table border=\"1\" class=\"dataframe\">\n",
       "  <thead>\n",
       "    <tr style=\"text-align: right;\">\n",
       "      <th></th>\n",
       "      <th>Сведения о пребывании пациента в Приемное отделение</th>\n",
       "      <th>Сведения о пребывании пациента в Кардиологическое отделение с ПРиИТ для лечения больных с ОКС (ПСО) №1</th>\n",
       "      <th>Сведения о пребывании пациента в Отделение анестезиологии-реанимации с палатами реанимации и интенсивной терапии №2</th>\n",
       "    </tr>\n",
       "  </thead>\n",
       "  <tbody>\n",
       "    <tr>\n",
       "      <th>Электрокардиография (29.12.2023 17:00)</th>\n",
       "      <td>NaN</td>\n",
       "      <td>{'table': {'col': [{'width': '12%'}, {'width':...</td>\n",
       "      <td>NaN</td>\n",
       "    </tr>\n",
       "    <tr>\n",
       "      <th>Электрокардиография (27.12.2023 15:28)</th>\n",
       "      <td>NaN</td>\n",
       "      <td>NaN</td>\n",
       "      <td>{'table': {'col': [{'width': '12%'}, {'width':...</td>\n",
       "    </tr>\n",
       "    <tr>\n",
       "      <th>Электрокардиография (28.12.2023 11:09)</th>\n",
       "      <td>NaN</td>\n",
       "      <td>NaN</td>\n",
       "      <td>{'table': {'col': [{'width': '12%'}, {'width':...</td>\n",
       "    </tr>\n",
       "    <tr>\n",
       "      <th>Электрокардиография (28.12.2023 11:34)</th>\n",
       "      <td>NaN</td>\n",
       "      <td>NaN</td>\n",
       "      <td>{'table': {'col': [{'width': '12%'}, {'width':...</td>\n",
       "    </tr>\n",
       "  </tbody>\n",
       "</table>\n",
       "</div>"
      ],
      "text/plain": [
       "                                        Сведения о пребывании пациента в Приемное отделение  \\\n",
       "Электрокардиография (29.12.2023 17:00)                                                NaN     \n",
       "Электрокардиография (27.12.2023 15:28)                                                NaN     \n",
       "Электрокардиография (28.12.2023 11:09)                                                NaN     \n",
       "Электрокардиография (28.12.2023 11:34)                                                NaN     \n",
       "\n",
       "                                       Сведения о пребывании пациента в Кардиологическое отделение с ПРиИТ для лечения больных с ОКС (ПСО) №1  \\\n",
       "Электрокардиография (29.12.2023 17:00)  {'table': {'col': [{'width': '12%'}, {'width':...                                                       \n",
       "Электрокардиография (27.12.2023 15:28)                                                NaN                                                       \n",
       "Электрокардиография (28.12.2023 11:09)                                                NaN                                                       \n",
       "Электрокардиография (28.12.2023 11:34)                                                NaN                                                       \n",
       "\n",
       "                                       Сведения о пребывании пациента в Отделение анестезиологии-реанимации с палатами реанимации и интенсивной терапии №2  \n",
       "Электрокардиография (29.12.2023 17:00)                                                NaN                                                                   \n",
       "Электрокардиография (27.12.2023 15:28)  {'table': {'col': [{'width': '12%'}, {'width':...                                                                   \n",
       "Электрокардиография (28.12.2023 11:09)  {'table': {'col': [{'width': '12%'}, {'width':...                                                                   \n",
       "Электрокардиография (28.12.2023 11:34)  {'table': {'col': [{'width': '12%'}, {'width':...                                                                   "
      ]
     },
     "execution_count": 34,
     "metadata": {},
     "output_type": "execute_result"
    }
   ],
   "source": [
    "pd.DataFrame(eval(labeled_data[\"full_wards_cleaned\"][-4]))"
   ]
  },
  {
   "cell_type": "code",
   "execution_count": 35,
   "metadata": {},
   "outputs": [],
   "source": [
    "# print\n",
    "# (\n",
    "# pd.DataFrame(eval(labeled_data[\"full_wards_cleaned\"][-4]))\n",
    "# .loc[\n",
    "#     \"Рентгеноскопия грудной клетки (14.02.2023 20:55)\",\n",
    "#     \"Сведения о пребывании пациента в Отделение анестезиологии-реанимации с палатами реанимации и интенсивной терапии №1\",\n",
    "# ]\n",
    "# ['table']\n",
    "# ['tbody']['tr']\n",
    "# [1]['td'][1]['content']['text']\n",
    "# .keys()\n",
    "# )"
   ]
  },
  {
   "cell_type": "markdown",
   "metadata": {},
   "source": [
    "##### ECG features"
   ]
  },
  {
   "cell_type": "code",
   "execution_count": 36,
   "metadata": {},
   "outputs": [],
   "source": [
    "new_columns_regex_ecg = {\n",
    "    \"ecg_right_atrium\": r\"ПРАВОЕ ПРЕДСЕРДИЕ:.*?(\\d+[,.]\\d+)\",\n",
    "    \"ecg_left_atrium\": r\"ЛЕВОЕ ПРЕДСЕРДИЕ:.*?(\\d+[,.]\\d+)\",\n",
    "    \"ecg_right_ventricle\": r\"ПРАВЫЙ ЖЕЛУДОЧЕК:.*?(\\d+[,.]\\d+)\",\n",
    "    \"ecg_end_diastolic_volume\": r\"КДО:\\s*(\\d+)*\",\n",
    "    \"ecg_end_systolic_volume\": r\"КСО:\\s*(\\d+)*\",\n",
    "    \"ecg_stroke_volume\": r\"УО:\\s*(\\d+)*\",\n",
    "    \"ecg_ejection_fraction\": r\"ФВ:\\s*(\\d+[-.,]\\d+|\\d+)*\",\n",
    "    \"ecg_ventricular_septal\": r\"МЖП:\\s*(\\d+[,.]\\d+)\",\n",
    "    \"ecg_e_a\": r\"Е/А\\s*(\\d+[,.]\\d+)\",\n",
    "    \"ecg_aorta_diameter_valsalva_sinuses\": r\"ДИАМЕТР АО НА УРОВНЕ СИНУСОВ ВАЛЬСАЛЬВЫ:\\s*(\\d+[,.]\\d+)\",\n",
    "    \"ecg_ascending_aorta\": r\"ВОСХОДЯЩАЯ АОРТА:\\s*(\\d+[,.]\\d+)\",\n",
    "    \"ecg_aortic_arch\": r\"ДУГА АОРТЫ.\\s*(\\d+[,.]\\d+)\",\n",
    "    \"ecg_sinus_heart_rate\": r\"СИНУСОВЫЙ.{0,7}ЧСС\\s*(\\d+[,.]\\d+)\",\n",
    "    \"ecg_age\": r\"ДАТА РОЖДЕНИЯ\\):\\s(\\d{2}) \",\n",
    "    \"ecg_heart_rate\": r\"ЧСС\\s*[-,:РАВЕН]*\\s*(\\d{2,4})\",\n",
    "    \"ecg_bmi\": r\"ИМТ\\D*(\\d+)\",\n",
    "    # \"left_atrium\": r\"ЛЕВОЕ\",\n",
    "}"
   ]
  },
  {
   "cell_type": "code",
   "execution_count": 37,
   "metadata": {},
   "outputs": [],
   "source": [
    "section = \"full_wards\"\n",
    "for column_name, regex_string in new_columns_regex_ecg.items():\n",
    "    new_column = regex_search(\n",
    "        regex_string=regex_string,\n",
    "        column=section,\n",
    "        dataframe=labeled_data,\n",
    "    )\n",
    "    labeled_data = labeled_data.with_columns(\n",
    "        new_column.replace({\"\": None}).alias(section + \"_\" + column_name)\n",
    "    )\n",
    "\n",
    "    PROCESSED_COLS.append(section + \"_\" + column_name)"
   ]
  },
  {
   "cell_type": "markdown",
   "metadata": {},
   "source": [
    "##### potential features"
   ]
  },
  {
   "cell_type": "code",
   "execution_count": 38,
   "metadata": {},
   "outputs": [
    {
     "data": {
      "text/html": [
       "<div><style>\n",
       ".dataframe > thead > tr,\n",
       ".dataframe > tbody > tr {\n",
       "  text-align: right;\n",
       "  white-space: pre-wrap;\n",
       "}\n",
       "</style>\n",
       "<small>shape: (10, 2)</small><table border=\"1\" class=\"dataframe\"><thead><tr><th>new_column</th><th>count</th></tr><tr><td>str</td><td>u32</td></tr></thead><tbody><tr><td>&quot;&quot;</td><td>6080</td></tr><tr><td>&quot;ЭЛЕВАЦИЯ СЕГМЕНТА ST В ОТВ.&quot;</td><td>167</td></tr><tr><td>&quot;ЭЛЕВАЦИЯ СЕГМЕНТА ST В II, &quot;</td><td>150</td></tr><tr><td>&quot;ЭЛЕВАЦИЯ СЕГМЕНТА ST В ОТВЕ&quot;</td><td>101</td></tr><tr><td>&quot;ЭЛЕВАЦИЯ СЕГМЕНТА ST ОБЩЕЙ &quot;</td><td>73</td></tr><tr><td>&quot;ЭЛЕВАЦИЯ СЕГМЕНТА ST В V1-V&quot;</td><td>71</td></tr><tr><td>&quot;ЭЛЕВАЦИЯ СЕГМЕНТА ST В III,&quot;</td><td>47</td></tr><tr><td>&quot;ЭЛЕВАЦИЯ СЕГМЕНТА ST, ПАТОЛ&quot;</td><td>32</td></tr><tr><td>&quot;ЭЛЕВАЦИЯ СЕГМЕНТА ST И ВЫСО&quot;</td><td>27</td></tr><tr><td>&quot;ЭЛЕВАЦИЯ СЕГМЕНТА ST В V2-V&quot;</td><td>26</td></tr></tbody></table></div>"
      ],
      "text/plain": [
       "shape: (10, 2)\n",
       "┌─────────────────────────────┬───────┐\n",
       "│ new_column                  ┆ count │\n",
       "│ ---                         ┆ ---   │\n",
       "│ str                         ┆ u32   │\n",
       "╞═════════════════════════════╪═══════╡\n",
       "│                             ┆ 6080  │\n",
       "│ ЭЛЕВАЦИЯ СЕГМЕНТА ST В ОТВ. ┆ 167   │\n",
       "│ ЭЛЕВАЦИЯ СЕГМЕНТА ST В II,  ┆ 150   │\n",
       "│ ЭЛЕВАЦИЯ СЕГМЕНТА ST В ОТВЕ ┆ 101   │\n",
       "│ ЭЛЕВАЦИЯ СЕГМЕНТА ST ОБЩЕЙ  ┆ 73    │\n",
       "│ ЭЛЕВАЦИЯ СЕГМЕНТА ST В V1-V ┆ 71    │\n",
       "│ ЭЛЕВАЦИЯ СЕГМЕНТА ST В III, ┆ 47    │\n",
       "│ ЭЛЕВАЦИЯ СЕГМЕНТА ST, ПАТОЛ ┆ 32    │\n",
       "│ ЭЛЕВАЦИЯ СЕГМЕНТА ST И ВЫСО ┆ 27    │\n",
       "│ ЭЛЕВАЦИЯ СЕГМЕНТА ST В V2-V ┆ 26    │\n",
       "└─────────────────────────────┴───────┘"
      ]
     },
     "execution_count": 38,
     "metadata": {},
     "output_type": "execute_result"
    }
   ],
   "source": [
    "(\n",
    "    regex_search(\n",
    "        regex_string=r\"(ЭЛЕВАЦИЯ.{0,7}СЕГМЕНТА..........)\",\n",
    "        column=\"full_wards\",\n",
    "        dataframe=labeled_data,\n",
    "    )\n",
    "    .value_counts()\n",
    "    .sort(\"count\", descending=True)\n",
    "    .head(10)\n",
    ")"
   ]
  },
  {
   "cell_type": "code",
   "execution_count": 39,
   "metadata": {},
   "outputs": [
    {
     "data": {
      "text/html": [
       "<div><style>\n",
       ".dataframe > thead > tr,\n",
       ".dataframe > tbody > tr {\n",
       "  text-align: right;\n",
       "  white-space: pre-wrap;\n",
       "}\n",
       "</style>\n",
       "<small>shape: (10, 2)</small><table border=\"1\" class=\"dataframe\"><thead><tr><th>new_column</th><th>count</th></tr><tr><td>str</td><td>u32</td></tr></thead><tbody><tr><td>&quot;&quot;</td><td>3377</td></tr><tr><td>&quot;РЕПОЛЯРИЗАЦИИ НИЖНЕЙ С&quot;</td><td>514</td></tr><tr><td>&quot;РЕПОЛЯРИЗАЦИИ ПЕРЕДНЕ-&quot;</td><td>501</td></tr><tr><td>&quot;РЕПОЛЯРИЗАЦИИ БОКОВОЙ &quot;</td><td>395</td></tr><tr><td>&quot;РЕПОЛЯРИЗАЦИИ НИЖНЕ-БО&quot;</td><td>275</td></tr><tr><td>&quot;РЕПОЛЯРИЗАЦИИ ПЕРЕДНЕ &quot;</td><td>243</td></tr><tr><td>&quot;РЕПОЛЯРИЗАЦИИ ВЕРХУШЕЧ&quot;</td><td>228</td></tr><tr><td>&quot;РЕПОЛЯРИЗАЦИИ НИЖНЕЙ, &quot;</td><td>152</td></tr><tr><td>&quot;РЕПОЛЯРИЗАЦИИ МИОКАРДА&quot;</td><td>137</td></tr><tr><td>&quot;РЕПОЛЯРИЗАЦИИ ВЫСОКО-Б&quot;</td><td>112</td></tr></tbody></table></div>"
      ],
      "text/plain": [
       "shape: (10, 2)\n",
       "┌────────────────────────┬───────┐\n",
       "│ new_column             ┆ count │\n",
       "│ ---                    ┆ ---   │\n",
       "│ str                    ┆ u32   │\n",
       "╞════════════════════════╪═══════╡\n",
       "│                        ┆ 3377  │\n",
       "│ РЕПОЛЯРИЗАЦИИ НИЖНЕЙ С ┆ 514   │\n",
       "│ РЕПОЛЯРИЗАЦИИ ПЕРЕДНЕ- ┆ 501   │\n",
       "│ РЕПОЛЯРИЗАЦИИ БОКОВОЙ  ┆ 395   │\n",
       "│ РЕПОЛЯРИЗАЦИИ НИЖНЕ-БО ┆ 275   │\n",
       "│ РЕПОЛЯРИЗАЦИИ ПЕРЕДНЕ  ┆ 243   │\n",
       "│ РЕПОЛЯРИЗАЦИИ ВЕРХУШЕЧ ┆ 228   │\n",
       "│ РЕПОЛЯРИЗАЦИИ НИЖНЕЙ,  ┆ 152   │\n",
       "│ РЕПОЛЯРИЗАЦИИ МИОКАРДА ┆ 137   │\n",
       "│ РЕПОЛЯРИЗАЦИИ ВЫСОКО-Б ┆ 112   │\n",
       "└────────────────────────┴───────┘"
      ]
     },
     "execution_count": 39,
     "metadata": {},
     "output_type": "execute_result"
    }
   ],
   "source": [
    "(\n",
    "    regex_search(\n",
    "        regex_string=r\"(РЕПОЛЯРИЗАЦИ..........)\",\n",
    "        column=\"full_wards\",\n",
    "        dataframe=labeled_data,\n",
    "    )\n",
    "    .value_counts()\n",
    "    .sort(\"count\", descending=True)\n",
    "    .head(10)\n",
    ")"
   ]
  },
  {
   "cell_type": "code",
   "execution_count": 40,
   "metadata": {},
   "outputs": [
    {
     "data": {
      "text/html": [
       "<div><style>\n",
       ".dataframe > thead > tr,\n",
       ".dataframe > tbody > tr {\n",
       "  text-align: right;\n",
       "  white-space: pre-wrap;\n",
       "}\n",
       "</style>\n",
       "<small>shape: (10, 2)</small><table border=\"1\" class=\"dataframe\"><thead><tr><th>new_column</th><th>count</th></tr><tr><td>str</td><td>u32</td></tr></thead><tbody><tr><td>&quot;&quot;</td><td>3712</td></tr><tr><td>&quot;ТИЧЕСКАЯ БЛЯШКА&nbsp;&nbsp;В УСТЬЕ &quot;</td><td>672</td></tr><tr><td>&quot;ТИЧЕСКАЯ БЛЯШКА&nbsp;&nbsp;В&nbsp;&nbsp;УСТЬЕ&quot;</td><td>562</td></tr><tr><td>&quot;ТИЧЕСКАЯ БЛЯШКА В БИФУРКА&quot;</td><td>395</td></tr><tr><td>&quot;ТИЧЕСКАЯ БЛЯШКА&nbsp;&nbsp;&nbsp;В БИФУР&quot;</td><td>257</td></tr><tr><td>&quot;ТИЧЕСКАЯ БЛЯШКА&nbsp;&nbsp;В БИФУРК&quot;</td><td>235</td></tr><tr><td>&quot;ТИЧЕСКАЯ БЛЯШКА, СТЕНОЗИР&quot;</td><td>216</td></tr><tr><td>&quot;ТИЧЕСКАЯ БЛЯШКА В БАССЕЙН&quot;</td><td>156</td></tr><tr><td>&quot;ТИЧЕСКАЯ БЛЯШКА&nbsp;&nbsp;ПО ЗАДНЕ&quot;</td><td>121</td></tr><tr><td>&quot;ТИЧЕСКАЯ БЛЯШКА&nbsp;&nbsp;&nbsp;&nbsp;В&nbsp;&nbsp;УСТ&quot;</td><td>109</td></tr></tbody></table></div>"
      ],
      "text/plain": [
       "shape: (10, 2)\n",
       "┌───────────────────────────┬───────┐\n",
       "│ new_column                ┆ count │\n",
       "│ ---                       ┆ ---   │\n",
       "│ str                       ┆ u32   │\n",
       "╞═══════════════════════════╪═══════╡\n",
       "│                           ┆ 3712  │\n",
       "│ ТИЧЕСКАЯ БЛЯШКА  В УСТЬЕ  ┆ 672   │\n",
       "│ ТИЧЕСКАЯ БЛЯШКА  В  УСТЬЕ ┆ 562   │\n",
       "│ ТИЧЕСКАЯ БЛЯШКА В БИФУРКА ┆ 395   │\n",
       "│ ТИЧЕСКАЯ БЛЯШКА   В БИФУР ┆ 257   │\n",
       "│ ТИЧЕСКАЯ БЛЯШКА  В БИФУРК ┆ 235   │\n",
       "│ ТИЧЕСКАЯ БЛЯШКА, СТЕНОЗИР ┆ 216   │\n",
       "│ ТИЧЕСКАЯ БЛЯШКА В БАССЕЙН ┆ 156   │\n",
       "│ ТИЧЕСКАЯ БЛЯШКА  ПО ЗАДНЕ ┆ 121   │\n",
       "│ ТИЧЕСКАЯ БЛЯШКА    В  УСТ ┆ 109   │\n",
       "└───────────────────────────┴───────┘"
      ]
     },
     "execution_count": 40,
     "metadata": {},
     "output_type": "execute_result"
    }
   ],
   "source": [
    "(\n",
    "    regex_search(\n",
    "        regex_string=r\"(ТИЧЕСКАЯ БЛЯШКА..........)\",\n",
    "        column=\"full_wards\",\n",
    "        dataframe=labeled_data,\n",
    "    )\n",
    "    .value_counts()\n",
    "    .sort(\"count\", descending=True)\n",
    "    .head(10)\n",
    ")"
   ]
  },
  {
   "cell_type": "code",
   "execution_count": 41,
   "metadata": {},
   "outputs": [
    {
     "data": {
      "text/html": [
       "<div><style>\n",
       ".dataframe > thead > tr,\n",
       ".dataframe > tbody > tr {\n",
       "  text-align: right;\n",
       "  white-space: pre-wrap;\n",
       "}\n",
       "</style>\n",
       "<small>shape: (10, 2)</small><table border=\"1\" class=\"dataframe\"><thead><tr><th>new_column</th><th>count</th></tr><tr><td>str</td><td>u32</td></tr></thead><tbody><tr><td>&quot;&quot;</td><td>7113</td></tr><tr><td>&quot;ТЕНЬ СЕРДЦА РАСШИРЕНА&quot;</td><td>57</td></tr><tr><td>&quot;ТЕНЬ СЕРДЦА НЕЗНАЧИТЕ&quot;</td><td>42</td></tr><tr><td>&quot;ТЕНЬ СЕРДЦА ВИЗУАЛЬНО&quot;</td><td>19</td></tr><tr><td>&quot;ТЕНЬ СЕРДЦА НЕ РАСШИР&quot;</td><td>14</td></tr><tr><td>&quot;ТЕНЬ СЕРДЦА УМЕРЕННО &quot;</td><td>8</td></tr><tr><td>&quot;ТЕНЬ СЕРДЦА ОБЫЧНОЙ К&quot;</td><td>6</td></tr><tr><td>&quot;ТЕНЬ СЕРДЦА ЗНАЧИТЕЛЬ&quot;</td><td>5</td></tr><tr><td>&quot;ТЕНЬ СЕРДЦА ПРОЕКЦИОН&quot;</td><td>3</td></tr><tr><td>&quot;ТЕНЬ СЕРДЦА ОБЫЧНО РА&quot;</td><td>2</td></tr></tbody></table></div>"
      ],
      "text/plain": [
       "shape: (10, 2)\n",
       "┌───────────────────────┬───────┐\n",
       "│ new_column            ┆ count │\n",
       "│ ---                   ┆ ---   │\n",
       "│ str                   ┆ u32   │\n",
       "╞═══════════════════════╪═══════╡\n",
       "│                       ┆ 7113  │\n",
       "│ ТЕНЬ СЕРДЦА РАСШИРЕНА ┆ 57    │\n",
       "│ ТЕНЬ СЕРДЦА НЕЗНАЧИТЕ ┆ 42    │\n",
       "│ ТЕНЬ СЕРДЦА ВИЗУАЛЬНО ┆ 19    │\n",
       "│ ТЕНЬ СЕРДЦА НЕ РАСШИР ┆ 14    │\n",
       "│ ТЕНЬ СЕРДЦА УМЕРЕННО  ┆ 8     │\n",
       "│ ТЕНЬ СЕРДЦА ОБЫЧНОЙ К ┆ 6     │\n",
       "│ ТЕНЬ СЕРДЦА ЗНАЧИТЕЛЬ ┆ 5     │\n",
       "│ ТЕНЬ СЕРДЦА ПРОЕКЦИОН ┆ 3     │\n",
       "│ ТЕНЬ СЕРДЦА ОБЫЧНО РА ┆ 2     │\n",
       "└───────────────────────┴───────┘"
      ]
     },
     "execution_count": 41,
     "metadata": {},
     "output_type": "execute_result"
    }
   ],
   "source": [
    "(\n",
    "    regex_search(\n",
    "        regex_string=r\"(ТЕНЬ СЕРДЦА..........)\",\n",
    "        column=\"full_wards\",\n",
    "        dataframe=labeled_data,\n",
    "    )\n",
    "    .value_counts()\n",
    "    .sort(\"count\", descending=True)\n",
    "    .head(10)\n",
    ")"
   ]
  },
  {
   "cell_type": "code",
   "execution_count": 42,
   "metadata": {},
   "outputs": [
    {
     "data": {
      "text/html": [
       "<div><style>\n",
       ".dataframe > thead > tr,\n",
       ".dataframe > tbody > tr {\n",
       "  text-align: right;\n",
       "  white-space: pre-wrap;\n",
       "}\n",
       "</style>\n",
       "<small>shape: (10, 2)</small><table border=\"1\" class=\"dataframe\"><thead><tr><th>new_column</th><th>count</th></tr><tr><td>str</td><td>u32</td></tr></thead><tbody><tr><td>&quot;АОРТА СМ. \\nАОРТАЛЬНЫЙ&quot;</td><td>2657</td></tr><tr><td>&quot;АОРТА НЕ РАСШИРЕНА, КО&quot;</td><td>918</td></tr><tr><td>&quot;АОРТА НЕ РАСШИРЕНА.\\nК&quot;</td><td>892</td></tr><tr><td>&quot;&quot;</td><td>779</td></tr><tr><td>&quot;АОРТА СМ. АОРТАЛЬНЫЙ К&quot;</td><td>352</td></tr><tr><td>&quot;АОРТА ЧЕТКО НЕ ДИФФЕРЕ&quot;</td><td>266</td></tr><tr><td>&quot;АОРТА С РОВНЫМ ЧЕТКИМ &quot;</td><td>258</td></tr><tr><td>&quot;АОРТА ЧАСТИЧНО ДИФФЕРЕ&quot;</td><td>201</td></tr><tr><td>&quot;АОРТА НЕ РАСШИРЕНА.КУП&quot;</td><td>88</td></tr><tr><td>&quot;АОРТА НЕ РАСШИРЕНА. ДУ&quot;</td><td>87</td></tr></tbody></table></div>"
      ],
      "text/plain": [
       "shape: (10, 2)\n",
       "┌────────────────────────┬───────┐\n",
       "│ new_column             ┆ count │\n",
       "│ ---                    ┆ ---   │\n",
       "│ str                    ┆ u32   │\n",
       "╞════════════════════════╪═══════╡\n",
       "│ АОРТА СМ. \\nАОРТАЛЬНЫЙ ┆ 2657  │\n",
       "│ АОРТА НЕ РАСШИРЕНА, КО ┆ 918   │\n",
       "│ АОРТА НЕ РАСШИРЕНА.\\nК ┆ 892   │\n",
       "│                        ┆ 779   │\n",
       "│ АОРТА СМ. АОРТАЛЬНЫЙ К ┆ 352   │\n",
       "│ АОРТА ЧЕТКО НЕ ДИФФЕРЕ ┆ 266   │\n",
       "│ АОРТА С РОВНЫМ ЧЕТКИМ  ┆ 258   │\n",
       "│ АОРТА ЧАСТИЧНО ДИФФЕРЕ ┆ 201   │\n",
       "│ АОРТА НЕ РАСШИРЕНА.КУП ┆ 88    │\n",
       "│ АОРТА НЕ РАСШИРЕНА. ДУ ┆ 87    │\n",
       "└────────────────────────┴───────┘"
      ]
     },
     "execution_count": 42,
     "metadata": {},
     "output_type": "execute_result"
    }
   ],
   "source": [
    "(\n",
    "    regex_search(\n",
    "        regex_string=r\"(АОРТА ................)\",\n",
    "        column=\"full_wards\",\n",
    "        dataframe=labeled_data,\n",
    "    )\n",
    "    .value_counts()\n",
    "    .sort(\"count\", descending=True)\n",
    "    .head(10)\n",
    ")"
   ]
  },
  {
   "cell_type": "code",
   "execution_count": 43,
   "metadata": {},
   "outputs": [
    {
     "data": {
      "text/html": [
       "<div><style>\n",
       ".dataframe > thead > tr,\n",
       ".dataframe > tbody > tr {\n",
       "  text-align: right;\n",
       "  white-space: pre-wrap;\n",
       "}\n",
       "</style>\n",
       "<small>shape: (10, 2)</small><table border=\"1\" class=\"dataframe\"><thead><tr><th>new_column</th><th>count</th></tr><tr><td>str</td><td>u32</td></tr></thead><tbody><tr><td>&quot;&quot;</td><td>6300</td></tr><tr><td>&quot;ЛЕВОСТОРОННИЙ ГИДРОТОРАКС.&#x27;}}]…</td><td>76</td></tr><tr><td>&quot;КТИКА/РЕГРЕСС ГИДРОТОРАКСА, НО…</td><td>38</td></tr><tr><td>&quot;ЕВОСТОРОННЕГО ГИДРОТОРАКСА.&#x27;}}…</td><td>37</td></tr><tr><td>&quot; ДВУСТОРОННИЙ ГИДРОТОРАКС.&#x27;}}]…</td><td>32</td></tr><tr><td>&quot;ДВУСТОРОННЕГО ГИДРОТОРАКСА.&#x27;}}…</td><td>20</td></tr><tr><td>&quot;2-Х СТОРОННИЙ ГИДРОТОРАКС.&#x27;}}]…</td><td>17</td></tr><tr><td>&quot;ЕВОСТОРОННЕГО ГИДРОТОРАКСА, СО…</td><td>16</td></tr><tr><td>&quot;АВОСТОРОННЕГО ГИДРОТОРАКСА.&#x27;}}…</td><td>14</td></tr><tr><td>&quot;ЕВОСТОРОННЕГО ГИДРОТОРАКСА.\\nС…</td><td>13</td></tr></tbody></table></div>"
      ],
      "text/plain": [
       "shape: (10, 2)\n",
       "┌─────────────────────────────────┬───────┐\n",
       "│ new_column                      ┆ count │\n",
       "│ ---                             ┆ ---   │\n",
       "│ str                             ┆ u32   │\n",
       "╞═════════════════════════════════╪═══════╡\n",
       "│                                 ┆ 6300  │\n",
       "│ ЛЕВОСТОРОННИЙ ГИДРОТОРАКС.'}}]… ┆ 76    │\n",
       "│ КТИКА/РЕГРЕСС ГИДРОТОРАКСА, НО… ┆ 38    │\n",
       "│ ЕВОСТОРОННЕГО ГИДРОТОРАКСА.'}}… ┆ 37    │\n",
       "│  ДВУСТОРОННИЙ ГИДРОТОРАКС.'}}]… ┆ 32    │\n",
       "│ ДВУСТОРОННЕГО ГИДРОТОРАКСА.'}}… ┆ 20    │\n",
       "│ 2-Х СТОРОННИЙ ГИДРОТОРАКС.'}}]… ┆ 17    │\n",
       "│ ЕВОСТОРОННЕГО ГИДРОТОРАКСА, СО… ┆ 16    │\n",
       "│ АВОСТОРОННЕГО ГИДРОТОРАКСА.'}}… ┆ 14    │\n",
       "│ ЕВОСТОРОННЕГО ГИДРОТОРАКСА.\\nС… ┆ 13    │\n",
       "└─────────────────────────────────┴───────┘"
      ]
     },
     "execution_count": 43,
     "metadata": {},
     "output_type": "execute_result"
    }
   ],
   "source": [
    "(\n",
    "    regex_search(\n",
    "        regex_string=r\"(..............ГИДРОТОРАКС.......)\",\n",
    "        column=\"full_wards\",\n",
    "        dataframe=labeled_data,\n",
    "    )\n",
    "    .value_counts()\n",
    "    .sort(\"count\", descending=True)\n",
    "    .head(10)\n",
    ")"
   ]
  },
  {
   "cell_type": "code",
   "execution_count": 44,
   "metadata": {},
   "outputs": [
    {
     "data": {
      "text/html": [
       "<div><style>\n",
       ".dataframe > thead > tr,\n",
       ".dataframe > tbody > tr {\n",
       "  text-align: right;\n",
       "  white-space: pre-wrap;\n",
       "}\n",
       "</style>\n",
       "<small>shape: (10, 2)</small><table border=\"1\" class=\"dataframe\"><thead><tr><th>new_column</th><th>count</th></tr><tr><td>str</td><td>u32</td></tr></thead><tbody><tr><td>&quot;\\nСЕРДЦЕ НЕ РАСШИРЕНО.&quot;</td><td>2010</td></tr><tr><td>&quot;&quot;</td><td>1265</td></tr><tr><td>&quot;\\nСЕРДЦЕ ПРОЕКЦИОННО Р&quot;</td><td>685</td></tr><tr><td>&quot;\\nСЕРДЦЕ ОБЫЧНО РАСПОЛ&quot;</td><td>523</td></tr><tr><td>&quot;\\nСЕРДЦЕ ОБЫЧНОЙ КОНФИ&quot;</td><td>454</td></tr><tr><td>&quot;\\nСЕРДЦЕ И КРУПНЫЕ СОС&quot;</td><td>416</td></tr><tr><td>&quot;\\nСЕРДЦЕ ВИЗУАЛЬНО НЕ &quot;</td><td>189</td></tr><tr><td>&quot;\\nСЕРДЦЕ РАСШИРЕНО.\\nА&quot;</td><td>180</td></tr><tr><td>&quot;\\nСЕРДЦЕ НЕ РАСШИРЕНО,&quot;</td><td>171</td></tr><tr><td>&quot;\\nСЕРДЦЕ ВИЗУАЛЬНО РАС&quot;</td><td>167</td></tr></tbody></table></div>"
      ],
      "text/plain": [
       "shape: (10, 2)\n",
       "┌────────────────────────┬───────┐\n",
       "│ new_column             ┆ count │\n",
       "│ ---                    ┆ ---   │\n",
       "│ str                    ┆ u32   │\n",
       "╞════════════════════════╪═══════╡\n",
       "│ \\nСЕРДЦЕ НЕ РАСШИРЕНО. ┆ 2010  │\n",
       "│                        ┆ 1265  │\n",
       "│ \\nСЕРДЦЕ ПРОЕКЦИОННО Р ┆ 685   │\n",
       "│ \\nСЕРДЦЕ ОБЫЧНО РАСПОЛ ┆ 523   │\n",
       "│ \\nСЕРДЦЕ ОБЫЧНОЙ КОНФИ ┆ 454   │\n",
       "│ \\nСЕРДЦЕ И КРУПНЫЕ СОС ┆ 416   │\n",
       "│ \\nСЕРДЦЕ ВИЗУАЛЬНО НЕ  ┆ 189   │\n",
       "│ \\nСЕРДЦЕ РАСШИРЕНО.\\nА ┆ 180   │\n",
       "│ \\nСЕРДЦЕ НЕ РАСШИРЕНО, ┆ 171   │\n",
       "│ \\nСЕРДЦЕ ВИЗУАЛЬНО РАС ┆ 167   │\n",
       "└────────────────────────┴───────┘"
      ]
     },
     "execution_count": 44,
     "metadata": {},
     "output_type": "execute_result"
    }
   ],
   "source": [
    "(\n",
    "    regex_search(\n",
    "        regex_string=r\"(..СЕРДЦЕ..............)\",\n",
    "        column=\"full_wards\",\n",
    "        dataframe=labeled_data,\n",
    "    )\n",
    "    .value_counts()\n",
    "    .sort(\"count\", descending=True)\n",
    "    .head(10)\n",
    ")"
   ]
  },
  {
   "cell_type": "code",
   "execution_count": 45,
   "metadata": {},
   "outputs": [],
   "source": [
    "# (\n",
    "#     pd.DataFrame(eval(labeled_data[\"full_wards\"][3])).loc[\n",
    "#         \"Электрокардиография (25.09.2022 01:15)\",\n",
    "#         \"Сведения о пребывании пациента в Приемное отделение\",\n",
    "#     ]\n",
    "# )"
   ]
  },
  {
   "cell_type": "code",
   "execution_count": 46,
   "metadata": {},
   "outputs": [
    {
     "name": "stdout",
     "output_type": "stream",
     "text": [
      "Ф.И.О.: М В М\n",
      "ВОЗРАСТ (ДАТА РОЖДЕНИЯ): 73 ( 01.01.1698!) \n",
      "ПРЕДВАРИТЕЛЬНЫЙ ДИАГНОЗ: ИБС. ИНФАРКТ МИОКАРДА НИЖНЕ-ЗАДНЕЙ СТЕНКИ С ПОДЪЕМОМ СЕГМЕНТА ST ОТ 21.07.2022. КОРОНАРНАЯ БАЛОННАЯ АНГИОПЛАСТИКА СО СТЕНТИРОВАНИЕМ ПР/3 - СР/3 ОВ КАЛИПСО 4,0 X 33 MM (KL33400) ОТ 21.07.2022\n",
      "РЕЗУЛЬТАТЫ ОБСЛЕДОВАНИЯ:\n",
      "ПРАВОЕ ПРЕДСЕРДИЕ:  3,6 СМ.; \tПРАВЫЙ ЖЕЛУДОЧЕК: 3,0 СМ.; \n",
      "ЛЕВОЕ ПРЕДСЕРДИЕ: 4,3 СМ.; В ДЛИНУ: 5,3СМ.; ОБЪЕМ 67 МЛ. S ЛП 21,1 СМ2 \n",
      "ЛЕВЫЙ ЖЕЛУДОЧЕК: КДО: 125 МЛ.; КСО: 70 МЛ.; УО:  55  МЛ.; ФВ: 45 % \n",
      "МЖП: 1,5 СМ ; НЕОПРЕДЕЛЕННЫЙ ТИП ДВИЖЕНИЯ \n",
      "ЗАДНЯЯ СТЕНКА: 1,15 СМ.; УМЕРЕННЫЙ ГИПОКИНЕЗ\n",
      "НИЖНЯЯ СТЕНКА УМЕРЕННЫЙ ГИПОКИНЕЗ\n",
      "МИТРАЛЬНЫЙ КЛАПАН: СТВОРКИ НЕ УПЛОТНЕНЫ, ПРОТИВОФАЗА СОХРАНЕНА \n",
      "\tРСМК - СМ.;\tФК В ДИАСТОЛУ - СМ.;\n",
      "МИТРАЛЬНОЕ ОТВЕРСТИЕ: СМ2.; Д - СМ2\n",
      "ГРАДИЕНТ ДАВЛЕНИЯ ПИК: 1,8 ММ. РТ. СТ. СРЕДНИЙ: ММ. РТ. СТ.\n",
      "СКОРОСТЬ КРОВОТОКА: 0,7 М/С.; СТЕПЕНЬ РЕГУРГИТАЦИИ: ДО 2 (25% ОТ S ЛП), ЦЕНТРАЛЬНАЯ СТРУЯ, V.C 0,5 СМ, S РЕГ. СТРУИ 5,4 СМ2 \n",
      "Е/А 0,7 DT МС. \n",
      "АОРТА: СТЕНКИ УПЛОТНЕНЫ, АМПЛИТУДА ИХ ДВИЖЕНИЯ СОХРАНЕНА \n",
      "ФИБРОЗНОЕ КОЛЬЦО: 2.1 СМ.;  УПЛОТНЕНО, ЕДИНИЧНЫЙ КАЛЬЦИНАТ;\n",
      "ДИАМЕТР АО НА УРОВНЕ СИНУСОВ ВАЛЬСАЛЬВЫ: 3,5 СМ. ВОСХОДЯЩАЯ АОРТА: 3,6 СМ..;\n",
      "ДУГА АОРТЫ  СМ ПЕРЕШЕЕК    ММ.РТ.СТ. НИСХОДЯЩАЯ АОРТА СМ. \n",
      "АОРТАЛЬНЫЙ КЛАПАН: СТВОРКИ УПЛОТНЕНЫ ОТКРЫТИЕ 2,0СМ. \n",
      "ГРАДИЕНТ ДАВЛЕНИЯ ПИК: 5.4 ММ. РТ. СТ.; СРЕДНИЙ: ММ. РТ. СТ.\n",
      "СКОРОСТЬ КРОВОТОКА: 1,1М/С. СТЕПЕНЬ РЕГУРГИТАЦИИ: ; S РЕГ. СТРУИ СМ2 \n",
      "ТРИКУСПИДАЛЬНЫЙ КЛАПАН: ИНТАКТНЫЙ \n",
      "ГРАДИЕНТ ДАВЛЕНИЯ ПИК: ММ. РТ. СТ.; СРЕДНИЙ: ММ. РТ. СТ.\n",
      "СКОРОСТЬ КРОВОТОКА: М/С. СТЕПЕНЬ РЕГУРГИТАЦИИ:1\n",
      "ЛЕГОЧНАЯ АРТЕРИЯ: ФК 2,6 СМ, СТВОЛ: СМ, ПРАВАЯ ВЕТВЬ СМ, ЛЕВАЯ: СМ.\n",
      "ГРАДИЕНТ ДАВЛЕНИЯ ПИК: 2,8 ММ. РТ. СТ.; СРЕДНИЙ: ММ. РТ. СТ.\n",
      "СКОРОСТЬ КРОВОТОКА: 0.8 М/С.; СТЕПЕНЬ РЕГУРГИТАЦИИ: 1\n",
      "СИСТ. ДАВЛЕНИЕ В ЛЕГОЧНОЙ АРТЕРИИ: ММ. РТ. СТ. ПО ПОТОКУ TR 28 ММ. РТ. СТ.\n",
      "ПЕРИКАРД: Б/О. ЧСС: УД. В МИН. \n",
      "ЗАКЛЮЧЕНИЕ:\n",
      "СОСТОЯНИЕ ПОСЛЕ СТЕНТИРОВАНИЯ ОВ ОТ 21.07.22 \n",
      "УМЕРЕННЫЙ ГИПОКИНЕЗ НИЖНЕ-БАЗАЛЬНЫХ, ЗАДНЕ БАЗАЛЬНЫХ СЕГМЕНТОВ ЛЖ.\n",
      "УВЕЛИЧЕНИЕ ПОЛОСТИ ЛЕВОГО ПРЕДСЕРДИЯ. \n",
      "НЕДОСТАТОЧНОСТЬ МК ДО 2 СТ.\n",
      "ГИПЕРТРОФИЯ МЖП. \n",
      "ДИАСТОЛИЧЕСКАЯ ДИСФУНКЦИЯ ЛЖ I ТИП (НАРУШЕНИЕ РЕЛАКСАЦИИ ЛЖ)\n",
      "ФИБРОЗ КОРНЯ И СТЕНОК ВОСХОДЯЩЕЙ АОРТЫ\n",
      "СОКРАТИТЕЛЬНАЯ ФУНКЦИЯ МИОКАРДА УМЕРЕННО СНИЖЕНА. \n",
      "ДАННЫХ ЗА ЖИДКОСТЬ В ПОЛОСТИ ПЕРИКАРДА НЕТ.\n"
     ]
    }
   ],
   "source": [
    "print(\n",
    "    \"Ф.И.О.: М В М\\nВОЗРАСТ (ДАТА РОЖДЕНИЯ): 73 ( 01.01.1698!) \\nПРЕДВАРИТЕЛЬНЫЙ ДИАГНОЗ: ИБС. ИНФАРКТ МИОКАРДА НИЖНЕ-ЗАДНЕЙ СТЕНКИ С ПОДЪЕМОМ СЕГМЕНТА ST ОТ 21.07.2022. КОРОНАРНАЯ БАЛОННАЯ АНГИОПЛАСТИКА СО СТЕНТИРОВАНИЕМ ПР/3 - СР/3 ОВ КАЛИПСО 4,0 X 33 MM (KL33400) ОТ 21.07.2022\\nРЕЗУЛЬТАТЫ ОБСЛЕДОВАНИЯ:\\nПРАВОЕ ПРЕДСЕРДИЕ:  3,6 СМ.; \\tПРАВЫЙ ЖЕЛУДОЧЕК: 3,0 СМ.; \\nЛЕВОЕ ПРЕДСЕРДИЕ: 4,3 СМ.; В ДЛИНУ: 5,3СМ.; ОБЪЕМ 67 МЛ. S ЛП 21,1 СМ2 \\nЛЕВЫЙ ЖЕЛУДОЧЕК: КДО: 125 МЛ.; КСО: 70 МЛ.; УО:  55  МЛ.; ФВ: 45 % \\nМЖП: 1,5 СМ ; НЕОПРЕДЕЛЕННЫЙ ТИП ДВИЖЕНИЯ \\nЗАДНЯЯ СТЕНКА: 1,15 СМ.; УМЕРЕННЫЙ ГИПОКИНЕЗ\\nНИЖНЯЯ СТЕНКА УМЕРЕННЫЙ ГИПОКИНЕЗ\\nМИТРАЛЬНЫЙ КЛАПАН: СТВОРКИ НЕ УПЛОТНЕНЫ, ПРОТИВОФАЗА СОХРАНЕНА \\n\\tРСМК - СМ.;\\tФК В ДИАСТОЛУ - СМ.;\\nМИТРАЛЬНОЕ ОТВЕРСТИЕ: СМ2.; Д - СМ2\\nГРАДИЕНТ ДАВЛЕНИЯ ПИК: 1,8 ММ. РТ. СТ. СРЕДНИЙ: ММ. РТ. СТ.\\nСКОРОСТЬ КРОВОТОКА: 0,7 М/С.; СТЕПЕНЬ РЕГУРГИТАЦИИ: ДО 2 (25% ОТ S ЛП), ЦЕНТРАЛЬНАЯ СТРУЯ, V.C 0,5 СМ, S РЕГ. СТРУИ 5,4 СМ2 \\nЕ/А 0,7 DT МС. \\nАОРТА: СТЕНКИ УПЛОТНЕНЫ, АМПЛИТУДА ИХ ДВИЖЕНИЯ СОХРАНЕНА \\nФИБРОЗНОЕ КОЛЬЦО: 2.1 СМ.;  УПЛОТНЕНО, ЕДИНИЧНЫЙ КАЛЬЦИНАТ;\\nДИАМЕТР АО НА УРОВНЕ СИНУСОВ ВАЛЬСАЛЬВЫ: 3,5 СМ. ВОСХОДЯЩАЯ АОРТА: 3,6 СМ..;\\nДУГА АОРТЫ  СМ ПЕРЕШЕЕК    ММ.РТ.СТ. НИСХОДЯЩАЯ АОРТА СМ. \\nАОРТАЛЬНЫЙ КЛАПАН: СТВОРКИ УПЛОТНЕНЫ ОТКРЫТИЕ 2,0СМ. \\nГРАДИЕНТ ДАВЛЕНИЯ ПИК: 5.4 ММ. РТ. СТ.; СРЕДНИЙ: ММ. РТ. СТ.\\nСКОРОСТЬ КРОВОТОКА: 1,1М/С. СТЕПЕНЬ РЕГУРГИТАЦИИ: ; S РЕГ. СТРУИ СМ2 \\nТРИКУСПИДАЛЬНЫЙ КЛАПАН: ИНТАКТНЫЙ \\nГРАДИЕНТ ДАВЛЕНИЯ ПИК: ММ. РТ. СТ.; СРЕДНИЙ: ММ. РТ. СТ.\\nСКОРОСТЬ КРОВОТОКА: М/С. СТЕПЕНЬ РЕГУРГИТАЦИИ:1\\nЛЕГОЧНАЯ АРТЕРИЯ: ФК 2,6 СМ, СТВОЛ: СМ, ПРАВАЯ ВЕТВЬ СМ, ЛЕВАЯ: СМ.\\nГРАДИЕНТ ДАВЛЕНИЯ ПИК: 2,8 ММ. РТ. СТ.; СРЕДНИЙ: ММ. РТ. СТ.\\nСКОРОСТЬ КРОВОТОКА: 0.8 М/С.; СТЕПЕНЬ РЕГУРГИТАЦИИ: 1\\nСИСТ. ДАВЛЕНИЕ В ЛЕГОЧНОЙ АРТЕРИИ: ММ. РТ. СТ. ПО ПОТОКУ TR 28 ММ. РТ. СТ.\\nПЕРИКАРД: Б/О. ЧСС: УД. В МИН. \\nЗАКЛЮЧЕНИЕ:\\nСОСТОЯНИЕ ПОСЛЕ СТЕНТИРОВАНИЯ ОВ ОТ 21.07.22 \\nУМЕРЕННЫЙ ГИПОКИНЕЗ НИЖНЕ-БАЗАЛЬНЫХ, ЗАДНЕ БАЗАЛЬНЫХ СЕГМЕНТОВ ЛЖ.\\nУВЕЛИЧЕНИЕ ПОЛОСТИ ЛЕВОГО ПРЕДСЕРДИЯ. \\nНЕДОСТАТОЧНОСТЬ МК ДО 2 СТ.\\nГИПЕРТРОФИЯ МЖП. \\nДИАСТОЛИЧЕСКАЯ ДИСФУНКЦИЯ ЛЖ I ТИП (НАРУШЕНИЕ РЕЛАКСАЦИИ ЛЖ)\\nФИБРОЗ КОРНЯ И СТЕНОК ВОСХОДЯЩЕЙ АОРТЫ\\nСОКРАТИТЕЛЬНАЯ ФУНКЦИЯ МИОКАРДА УМЕРЕННО СНИЖЕНА. \\nДАННЫХ ЗА ЖИДКОСТЬ В ПОЛОСТИ ПЕРИКАРДА НЕТ.\"\n",
    ")"
   ]
  },
  {
   "cell_type": "code",
   "execution_count": 67,
   "metadata": {},
   "outputs": [
    {
     "data": {
      "text/html": [
       "<div><style>\n",
       ".dataframe > thead > tr,\n",
       ".dataframe > tbody > tr {\n",
       "  text-align: right;\n",
       "  white-space: pre-wrap;\n",
       "}\n",
       "</style>\n",
       "<small>shape: (2, 2)</small><table border=\"1\" class=\"dataframe\"><thead><tr><th>new_column</th><th>count</th></tr><tr><td>str</td><td>u32</td></tr></thead><tbody><tr><td>&quot;&quot;</td><td>5852</td></tr><tr><td>&quot;томограф&quot;</td><td>1428</td></tr></tbody></table></div>"
      ],
      "text/plain": [
       "shape: (2, 2)\n",
       "┌────────────┬───────┐\n",
       "│ new_column ┆ count │\n",
       "│ ---        ┆ ---   │\n",
       "│ str        ┆ u32   │\n",
       "╞════════════╪═══════╡\n",
       "│            ┆ 5852  │\n",
       "│ томограф   ┆ 1428  │\n",
       "└────────────┴───────┘"
      ]
     },
     "execution_count": 67,
     "metadata": {},
     "output_type": "execute_result"
    }
   ],
   "source": [
    "(\n",
    "    regex_search(\n",
    "        regex_string=r\"(томограф)\",\n",
    "        column=\"full_wards\",\n",
    "        dataframe=labeled_data,\n",
    "    )\n",
    "    .value_counts()\n",
    "    .sort(\"count\", descending=True)\n",
    "    .head(10)\n",
    ")"
   ]
  },
  {
   "cell_type": "code",
   "execution_count": 71,
   "metadata": {},
   "outputs": [
    {
     "data": {
      "text/html": [
       "<div><style>\n",
       ".dataframe > thead > tr,\n",
       ".dataframe > tbody > tr {\n",
       "  text-align: right;\n",
       "  white-space: pre-wrap;\n",
       "}\n",
       "</style>\n",
       "<small>shape: (1, 2)</small><table border=\"1\" class=\"dataframe\"><thead><tr><th>new_column</th><th>count</th></tr><tr><td>str</td><td>u32</td></tr></thead><tbody><tr><td>&quot;&quot;</td><td>7280</td></tr></tbody></table></div>"
      ],
      "text/plain": [
       "shape: (1, 2)\n",
       "┌────────────┬───────┐\n",
       "│ new_column ┆ count │\n",
       "│ ---        ┆ ---   │\n",
       "│ str        ┆ u32   │\n",
       "╞════════════╪═══════╡\n",
       "│            ┆ 7280  │\n",
       "└────────────┴───────┘"
      ]
     },
     "execution_count": 71,
     "metadata": {},
     "output_type": "execute_result"
    }
   ],
   "source": [
    "(\n",
    "    regex_search(\n",
    "        regex_string=r\"(illip)\",\n",
    "        column=\"full_wards\",\n",
    "        dataframe=labeled_data,\n",
    "    )\n",
    "    .value_counts()\n",
    "    .sort(\"count\", descending=True)\n",
    "    .head(10)\n",
    ")"
   ]
  },
  {
   "cell_type": "markdown",
   "metadata": {},
   "source": [
    "#### ward_table\n",
    "useless -> drop col"
   ]
  },
  {
   "cell_type": "code",
   "execution_count": 48,
   "metadata": {},
   "outputs": [
    {
     "data": {
      "text/html": [
       "<div>\n",
       "<style scoped>\n",
       "    .dataframe tbody tr th:only-of-type {\n",
       "        vertical-align: middle;\n",
       "    }\n",
       "\n",
       "    .dataframe tbody tr th {\n",
       "        vertical-align: top;\n",
       "    }\n",
       "\n",
       "    .dataframe thead th {\n",
       "        text-align: right;\n",
       "    }\n",
       "</style>\n",
       "<table border=\"1\" class=\"dataframe\">\n",
       "  <thead>\n",
       "    <tr style=\"text-align: right;\">\n",
       "      <th></th>\n",
       "      <th>Название</th>\n",
       "      <th>Дата поступления</th>\n",
       "      <th>Дата перевода</th>\n",
       "      <th>Профиль койки</th>\n",
       "      <th>Лечащий врач</th>\n",
       "    </tr>\n",
       "  </thead>\n",
       "  <tbody>\n",
       "    <tr>\n",
       "      <th>0</th>\n",
       "      <td>Приемное отделение</td>\n",
       "      <td>19.03.2022 08:40</td>\n",
       "      <td>19.03.2022 08:49</td>\n",
       "      <td>!!!!!!!!!!!!! !!!!!!!!!!!!! ! (Врач-кардиолог)</td>\n",
       "      <td>None</td>\n",
       "    </tr>\n",
       "    <tr>\n",
       "      <th>1</th>\n",
       "      <td>Кардиологическое отделение с ПРиИТ для лечения...</td>\n",
       "      <td>19.03.2022 08:50</td>\n",
       "      <td>19.03.2022 09:34</td>\n",
       "      <td>!!!!!!!!!!!!! !!!!!!!!!!!!! ! (Врач-кардиолог)</td>\n",
       "      <td>None</td>\n",
       "    </tr>\n",
       "    <tr>\n",
       "      <th>2</th>\n",
       "      <td>Отделение анестезиологии-реанимации с палатами...</td>\n",
       "      <td>19.03.2022 09:35</td>\n",
       "      <td>21.03.2022 09:19</td>\n",
       "      <td>!!!!!!!!!!!!! !!!!!!!!!!!!! ! (Заведующий (нач...</td>\n",
       "      <td>None</td>\n",
       "    </tr>\n",
       "    <tr>\n",
       "      <th>3</th>\n",
       "      <td>Кардиологическое отделение с ПРиИТ для лечения...</td>\n",
       "      <td>21.03.2022 09:20</td>\n",
       "      <td>29.03.2022 11:00</td>\n",
       "      <td>!!!!!!!!!!!!! !!!!!!!!!!!!! ! (Врач-кардиолог)</td>\n",
       "      <td>None</td>\n",
       "    </tr>\n",
       "  </tbody>\n",
       "</table>\n",
       "</div>"
      ],
      "text/plain": [
       "                                            Название  Дата поступления  \\\n",
       "0                                 Приемное отделение  19.03.2022 08:40   \n",
       "1  Кардиологическое отделение с ПРиИТ для лечения...  19.03.2022 08:50   \n",
       "2  Отделение анестезиологии-реанимации с палатами...  19.03.2022 09:35   \n",
       "3  Кардиологическое отделение с ПРиИТ для лечения...  21.03.2022 09:20   \n",
       "\n",
       "      Дата перевода                                      Профиль койки  \\\n",
       "0  19.03.2022 08:49     !!!!!!!!!!!!! !!!!!!!!!!!!! ! (Врач-кардиолог)   \n",
       "1  19.03.2022 09:34     !!!!!!!!!!!!! !!!!!!!!!!!!! ! (Врач-кардиолог)   \n",
       "2  21.03.2022 09:19  !!!!!!!!!!!!! !!!!!!!!!!!!! ! (Заведующий (нач...   \n",
       "3  29.03.2022 11:00     !!!!!!!!!!!!! !!!!!!!!!!!!! ! (Врач-кардиолог)   \n",
       "\n",
       "  Лечащий врач  \n",
       "0         None  \n",
       "1         None  \n",
       "2         None  \n",
       "3         None  "
      ]
     },
     "execution_count": 48,
     "metadata": {},
     "output_type": "execute_result"
    }
   ],
   "source": [
    "pd.DataFrame(eval(labeled_data[\"ward_table\"].to_numpy()[920]))"
   ]
  },
  {
   "cell_type": "code",
   "execution_count": 49,
   "metadata": {},
   "outputs": [
    {
     "data": {
      "text/html": [
       "<div>\n",
       "<style scoped>\n",
       "    .dataframe tbody tr th:only-of-type {\n",
       "        vertical-align: middle;\n",
       "    }\n",
       "\n",
       "    .dataframe tbody tr th {\n",
       "        vertical-align: top;\n",
       "    }\n",
       "\n",
       "    .dataframe thead th {\n",
       "        text-align: right;\n",
       "    }\n",
       "</style>\n",
       "<table border=\"1\" class=\"dataframe\">\n",
       "  <thead>\n",
       "    <tr style=\"text-align: right;\">\n",
       "      <th></th>\n",
       "      <th>Название</th>\n",
       "      <th>Дата поступления</th>\n",
       "      <th>Дата перевода</th>\n",
       "      <th>Профиль койки</th>\n",
       "      <th>Лечащий врач</th>\n",
       "    </tr>\n",
       "  </thead>\n",
       "  <tbody>\n",
       "    <tr>\n",
       "      <th>0</th>\n",
       "      <td>Приемное отделение</td>\n",
       "      <td>19.03.2022 08:40</td>\n",
       "      <td>19.03.2022 08:49</td>\n",
       "      <td>(Врач-кардиолог)</td>\n",
       "      <td>None</td>\n",
       "    </tr>\n",
       "    <tr>\n",
       "      <th>1</th>\n",
       "      <td>Кардиологическое отделение с ПРиИТ для лечения...</td>\n",
       "      <td>19.03.2022 08:50</td>\n",
       "      <td>19.03.2022 09:34</td>\n",
       "      <td>(Врач-кардиолог)</td>\n",
       "      <td>None</td>\n",
       "    </tr>\n",
       "    <tr>\n",
       "      <th>2</th>\n",
       "      <td>Отделение анестезиологии-реанимации с палатами...</td>\n",
       "      <td>19.03.2022 09:35</td>\n",
       "      <td>21.03.2022 09:19</td>\n",
       "      <td>(Заведующий (начальник) структурного подраз...</td>\n",
       "      <td>None</td>\n",
       "    </tr>\n",
       "    <tr>\n",
       "      <th>3</th>\n",
       "      <td>Кардиологическое отделение с ПРиИТ для лечения...</td>\n",
       "      <td>21.03.2022 09:20</td>\n",
       "      <td>29.03.2022 11:00</td>\n",
       "      <td>(Врач-кардиолог)</td>\n",
       "      <td>None</td>\n",
       "    </tr>\n",
       "  </tbody>\n",
       "</table>\n",
       "</div>"
      ],
      "text/plain": [
       "                                            Название  Дата поступления  \\\n",
       "0                                 Приемное отделение  19.03.2022 08:40   \n",
       "1  Кардиологическое отделение с ПРиИТ для лечения...  19.03.2022 08:50   \n",
       "2  Отделение анестезиологии-реанимации с палатами...  19.03.2022 09:35   \n",
       "3  Кардиологическое отделение с ПРиИТ для лечения...  21.03.2022 09:20   \n",
       "\n",
       "      Дата перевода                                      Профиль койки  \\\n",
       "0  19.03.2022 08:49                                   (Врач-кардиолог)   \n",
       "1  19.03.2022 09:34                                   (Врач-кардиолог)   \n",
       "2  21.03.2022 09:19     (Заведующий (начальник) структурного подраз...   \n",
       "3  29.03.2022 11:00                                   (Врач-кардиолог)   \n",
       "\n",
       "  Лечащий врач  \n",
       "0         None  \n",
       "1         None  \n",
       "2         None  \n",
       "3         None  "
      ]
     },
     "execution_count": 49,
     "metadata": {},
     "output_type": "execute_result"
    }
   ],
   "source": [
    "pd.DataFrame(eval(labeled_data[\"ward_table\"].to_numpy()[920].replace(\"!\", \"\")))"
   ]
  },
  {
   "cell_type": "code",
   "execution_count": 50,
   "metadata": {},
   "outputs": [
    {
     "data": {
      "text/plain": [
       "{'None'}"
      ]
     },
     "execution_count": 50,
     "metadata": {},
     "output_type": "execute_result"
    }
   ],
   "source": [
    "# empty field\n",
    "d = list(\n",
    "    map(\n",
    "        lambda x: set(\n",
    "            pd.DataFrame(eval(x.replace(\"!\", \"\")))[\"Лечащий врач\"].values.tolist()\n",
    "        ),\n",
    "        labeled_data[\"ward_table\"].to_numpy(),\n",
    "    )\n",
    ")\n",
    "set().union(*d)"
   ]
  },
  {
   "cell_type": "code",
   "execution_count": 51,
   "metadata": {},
   "outputs": [
    {
     "data": {
      "text/plain": [
       "{'Название': {0: 'Приемное отделение',\n",
       "  1: 'Кардиологическое отделение с ПРиИТ для лечения больных с ОКС (ПСО) №1',\n",
       "  2: 'Отделение анестезиологии-реанимации с палатами реанимации и интенсивной терапии №2',\n",
       "  3: 'Кардиологическое отделение с ПРиИТ для лечения больных с ОКС (ПСО) №1'},\n",
       " 'Дата поступления': {0: '30.07.2024 12:45',\n",
       "  1: '30.07.2024 13:40',\n",
       "  2: '30.07.2024 22:07',\n",
       "  3: '31.07.2024 20:01'},\n",
       " 'Дата перевода': {0: '30.07.2024 13:39',\n",
       "  1: '30.07.2024 22:06',\n",
       "  2: '31.07.2024 20:00',\n",
       "  3: '07.08.2024 11:00'},\n",
       " 'Профиль койки': {0: ' (Врач-кардиолог)',\n",
       "  1: ' (Врач-кардиолог)',\n",
       "  2: ' (Заведующий (начальник) структурного подразделения (отдела, отделения, лаборатории, кабинета, отряда и другое) медицинской организации - врач-специалист, специалист)',\n",
       "  3: ' (Врач-кардиолог)'}}"
      ]
     },
     "execution_count": 51,
     "metadata": {},
     "output_type": "execute_result"
    }
   ],
   "source": [
    "def search_condition(x):\n",
    "\n",
    "    found = re.sub(\n",
    "        r\", \\'Лечащий врач\\':.*\\'None\\'}\",\n",
    "        \"\",\n",
    "        x.replace(\"!\", \"\"),\n",
    "    )\n",
    "    found = re.sub(\n",
    "        \" +\",\n",
    "        \" \",\n",
    "        found,\n",
    "    )\n",
    "\n",
    "    return found\n",
    "\n",
    "\n",
    "labeled_data = labeled_data.with_columns(\n",
    "    c(\"ward_table\").map_elements(\n",
    "        search_condition,\n",
    "        return_dtype=str,\n",
    "    )\n",
    "    # .alias(\"condition_status\")\n",
    ")\n",
    "eval(labeled_data[\"ward_table\"].to_numpy()[0])"
   ]
  },
  {
   "cell_type": "code",
   "execution_count": 52,
   "metadata": {},
   "outputs": [],
   "source": [
    "# labeled_data = labeled_data.drop(\"ward_table\")"
   ]
  },
  {
   "cell_type": "markdown",
   "metadata": {},
   "source": [
    "#### main disease code"
   ]
  },
  {
   "cell_type": "code",
   "execution_count": 53,
   "metadata": {},
   "outputs": [
    {
     "data": {
      "text/html": [
       "<div><style>\n",
       ".dataframe > thead > tr,\n",
       ".dataframe > tbody > tr {\n",
       "  text-align: right;\n",
       "  white-space: pre-wrap;\n",
       "}\n",
       "</style>\n",
       "<small>shape: (15, 2)</small><table border=\"1\" class=\"dataframe\"><thead><tr><th>main_disease_code</th><th>count</th></tr><tr><td>str</td><td>u32</td></tr></thead><tbody><tr><td>&quot;I21&quot;</td><td>3818</td></tr><tr><td>&quot;I20&quot;</td><td>3388</td></tr><tr><td>&quot;I50&quot;</td><td>17</td></tr><tr><td>&quot;I11&quot;</td><td>13</td></tr><tr><td>&quot;I25&quot;</td><td>8</td></tr><tr><td>&quot;I48&quot;</td><td>8</td></tr><tr><td>&quot;I47&quot;</td><td>7</td></tr><tr><td>null</td><td>3</td></tr><tr><td>&quot;I44&quot;</td><td>3</td></tr><tr><td>&quot;I26&quot;</td><td>2</td></tr><tr><td>&quot;I70&quot;</td><td>2</td></tr><tr><td>&quot;I49&quot;</td><td>2</td></tr><tr><td>&quot;I35&quot;</td><td>2</td></tr><tr><td>&quot;K76&quot;</td><td>1</td></tr><tr><td>&quot;H35&quot;</td><td>1</td></tr></tbody></table></div>"
      ],
      "text/plain": [
       "shape: (15, 2)\n",
       "┌───────────────────┬───────┐\n",
       "│ main_disease_code ┆ count │\n",
       "│ ---               ┆ ---   │\n",
       "│ str               ┆ u32   │\n",
       "╞═══════════════════╪═══════╡\n",
       "│ I21               ┆ 3818  │\n",
       "│ I20               ┆ 3388  │\n",
       "│ I50               ┆ 17    │\n",
       "│ I11               ┆ 13    │\n",
       "│ I25               ┆ 8     │\n",
       "│ I48               ┆ 8     │\n",
       "│ I47               ┆ 7     │\n",
       "│ null              ┆ 3     │\n",
       "│ I44               ┆ 3     │\n",
       "│ I26               ┆ 2     │\n",
       "│ I70               ┆ 2     │\n",
       "│ I49               ┆ 2     │\n",
       "│ I35               ┆ 2     │\n",
       "│ K76               ┆ 1     │\n",
       "│ H35               ┆ 1     │\n",
       "└───────────────────┴───────┘"
      ]
     },
     "execution_count": 53,
     "metadata": {},
     "output_type": "execute_result"
    }
   ],
   "source": [
    "labeled_data[\"main_disease_code\"].value_counts().sort(\n",
    "    \"count\",\n",
    "    descending=True,\n",
    ").head(15)"
   ]
  },
  {
   "cell_type": "code",
   "execution_count": 54,
   "metadata": {},
   "outputs": [
    {
     "data": {
      "text/html": [
       "<div><style>\n",
       ".dataframe > thead > tr,\n",
       ".dataframe > tbody > tr {\n",
       "  text-align: right;\n",
       "  white-space: pre-wrap;\n",
       "}\n",
       "</style>\n",
       "<small>shape: (10,)</small><table border=\"1\" class=\"dataframe\"><thead><tr><th>main_disease_code</th></tr><tr><td>str</td></tr></thead><tbody><tr><td>&quot;I20&quot;</td></tr><tr><td>&quot;I21&quot;</td></tr><tr><td>&quot;I20&quot;</td></tr><tr><td>&quot;I21&quot;</td></tr><tr><td>&quot;I20&quot;</td></tr><tr><td>&quot;I21&quot;</td></tr><tr><td>&quot;I20&quot;</td></tr><tr><td>&quot;I21&quot;</td></tr><tr><td>&quot;I21&quot;</td></tr><tr><td>&quot;I20&quot;</td></tr></tbody></table></div>"
      ],
      "text/plain": [
       "shape: (10,)\n",
       "Series: 'main_disease_code' [str]\n",
       "[\n",
       "\t\"I20\"\n",
       "\t\"I21\"\n",
       "\t\"I20\"\n",
       "\t\"I21\"\n",
       "\t\"I20\"\n",
       "\t\"I21\"\n",
       "\t\"I20\"\n",
       "\t\"I21\"\n",
       "\t\"I21\"\n",
       "\t\"I20\"\n",
       "]"
      ]
     },
     "execution_count": 54,
     "metadata": {},
     "output_type": "execute_result"
    }
   ],
   "source": [
    "labeled_data[\"main_disease_code\"].head()"
   ]
  },
  {
   "cell_type": "code",
   "execution_count": 56,
   "metadata": {},
   "outputs": [
    {
     "data": {
      "text/html": [
       "<div><style>\n",
       ".dataframe > thead > tr,\n",
       ".dataframe > tbody > tr {\n",
       "  text-align: right;\n",
       "  white-space: pre-wrap;\n",
       "}\n",
       "</style>\n",
       "<small>shape: (5, 46)</small><table border=\"1\" class=\"dataframe\"><thead><tr><th>patient_id</th><th>gender</th><th>amnez_life</th><th>amnez_disease</th><th>condition</th><th>ward_table</th><th>full_wards</th><th>final_table1</th><th>final_table2</th><th>complication_of_main_disease_desc</th><th>main_disease_desc</th><th>secondary_disease_desc</th><th>complication_of_main_disease_code</th><th>main_disease_code</th><th>secondary_disease_code</th><th>admission_datetime</th><th>gospitalisation_type</th><th>gospitalisation_delivery</th><th>background_disease_desc</th><th>background_disease_code</th><th>Конкурирующее заболевание</th><th>following_admission_datetimes</th><th>following_main_disease_codes</th><th>target</th><th>final_table1_main_desease_status</th><th>final_table1_gospitalization_result</th><th>condition_oxygen_saturation</th><th>condition_bmi</th><th>condition_status</th><th>full_wards_cleaned</th><th>full_wards_ecg_right_atrium</th><th>full_wards_ecg_left_atrium</th><th>full_wards_ecg_right_ventricle</th><th>full_wards_ecg_end_diastolic_volume</th><th>full_wards_ecg_end_systolic_volume</th><th>full_wards_ecg_stroke_volume</th><th>full_wards_ecg_ejection_fraction</th><th>full_wards_ecg_ventricular_septal</th><th>full_wards_ecg_e_a</th><th>full_wards_ecg_aorta_diameter_valsalva_sinuses</th><th>full_wards_ecg_ascending_aorta</th><th>full_wards_ecg_aortic_arch</th><th>full_wards_ecg_sinus_heart_rate</th><th>full_wards_ecg_age</th><th>full_wards_ecg_heart_rate</th><th>full_wards_ecg_bmi</th></tr><tr><td>str</td><td>i64</td><td>str</td><td>str</td><td>str</td><td>str</td><td>str</td><td>str</td><td>str</td><td>str</td><td>str</td><td>str</td><td>str</td><td>str</td><td>str</td><td>date</td><td>i64</td><td>i64</td><td>str</td><td>str</td><td>str</td><td>list[date]</td><td>list[str]</td><td>i32</td><td>str</td><td>str</td><td>str</td><td>str</td><td>str</td><td>str</td><td>str</td><td>str</td><td>str</td><td>str</td><td>str</td><td>str</td><td>str</td><td>str</td><td>str</td><td>str</td><td>str</td><td>str</td><td>str</td><td>str</td><td>str</td><td>str</td></tr></thead><tbody><tr><td>&quot;971b8f4d-bfdd-4355-824d-397576…</td><td>1</td><td>&quot;ЭПИДЕМИОЛОГИЧЕСКИЙ АНАМНЕЗ: СО…</td><td>&quot;ПОВЫШЕНИЕ АД ОТРИЦАЕТ.&nbsp;&nbsp;АД НЕ …</td><td>&quot;[&#x27;Состояние: Средней тяжести&#x27;,…</td><td>&quot;{&#x27;Название&#x27;: {0: &#x27;Приемное отд…</td><td>&quot;{&#x27;Сведения о пребывании пациен…</td><td>&quot;{&#x27;Характер основного заболеван…</td><td>&quot;{&#x27;Вид нозологической единицы&#x27;:…</td><td>&quot;ОСН 1&nbsp;&nbsp;по Killip&quot;</td><td>&quot;ИБС. Впервые возникшая стенока…</td><td>&quot;Ожирение 2 степени. (ИМТ 39 кг…</td><td>&quot;[&#x27;I50.1&#x27;]&quot;</td><td>&quot;I20&quot;</td><td>&quot;[&#x27;E66.9&#x27;]&quot;</td><td>2024-07-30</td><td>0</td><td>1</td><td>null</td><td>null</td><td>null</td><td>[]</td><td>[]</td><td>-1</td><td>&quot;Острое&quot;</td><td>&quot;Улучшение&quot;</td><td>&quot;98&quot;</td><td>&quot;39&quot;</td><td>&quot;Средней тяжести&quot;</td><td>&quot;{&#x27;Сведения о пребывании пациен…</td><td>&quot;3,6&quot;</td><td>&quot;4,2&quot;</td><td>&quot;2,9&quot;</td><td>&quot;127&quot;</td><td>&quot;53&quot;</td><td>null</td><td>&quot;63&quot;</td><td>&quot;1,3&quot;</td><td>null</td><td>&quot;3,0&quot;</td><td>&quot;3,3&quot;</td><td>null</td><td>null</td><td>&quot;56&quot;</td><td>&quot;60&quot;</td><td>null</td></tr><tr><td>&quot;4E3FC73C-F6E4-4FFF-B319-814ABF…</td><td>1</td><td>&quot;ЭПИДЕМИОЛОГИЧЕСКИЙ АНАМНЕЗ:СО …</td><td>&quot;СЧИТАЕТ СЕБЯ БОЛЬНЫМ В ТЕЧЕНИЕ…</td><td>&quot;[&#x27;Состояние: Средней тяжести&#x27;,…</td><td>&quot;{&#x27;Название&#x27;: {0: &#x27;Приемное отд…</td><td>&quot;{&#x27;Сведения о пребывании пациен…</td><td>&quot;{&#x27;Характер основного заболеван…</td><td>&quot;{&#x27;Вид нозологической единицы&#x27;:…</td><td>&quot;ОСН 1&nbsp;&nbsp;по Killip&quot;</td><td>&quot;ИБС. Острый инфаркт миокарда п…</td><td>&quot;Ожирение 1 степени. (ИМТ 30 кг…</td><td>&quot;[&#x27;I50.1&#x27;]&quot;</td><td>&quot;I21&quot;</td><td>&quot;[&#x27;E66.9&#x27;]&quot;</td><td>2023-10-25</td><td>0</td><td>0</td><td>&quot;Гипертоническая болезнь 3 стад…</td><td>&quot;[&#x27;I11.9&#x27;]&quot;</td><td>null</td><td>[]</td><td>[]</td><td>-1</td><td>&quot;Острое&quot;</td><td>&quot;Улучшение&quot;</td><td>&quot;96&quot;</td><td>null</td><td>&quot;Средней тяжести&quot;</td><td>&quot;{&#x27;Сведения о пребывании пациен…</td><td>&quot;4,1&quot;</td><td>&quot;4,3&quot;</td><td>&quot;2,9&quot;</td><td>&quot;118&quot;</td><td>&quot;49&quot;</td><td>&quot;69&quot;</td><td>&quot;58&quot;</td><td>null</td><td>null</td><td>&quot;3,5&quot;</td><td>&quot;3,7&quot;</td><td>&quot;3,5&quot;</td><td>null</td><td>&quot;59&quot;</td><td>&quot;64&quot;</td><td>null</td></tr><tr><td>&quot;74D01BAC-6C96-4901-82C3-C464F5…</td><td>1</td><td>&quot;ЭПИДЕМИОЛОГИЧЕСКИЙ АНАМНЕЗ: СО…</td><td>&quot;СЧИТАЕТ СЕБЯ БОЛЬНЫМ С АПРЕЛЯ …</td><td>&quot;[&#x27;Состояние: Тяжелое&#x27;, &#x27;Жалобы…</td><td>&quot;{&#x27;Название&#x27;: {0: &#x27;Приемное отд…</td><td>&quot;{&#x27;Сведения о пребывании пациен…</td><td>&quot;{&#x27;Характер основного заболеван…</td><td>&quot;{&#x27;Вид нозологической единицы&#x27;:…</td><td>&quot;ОСН I Killip.&quot;</td><td>&quot;ИБС. Прогрессируюшая стенокард…</td><td>&quot;Атеросклероз БЦС, гемодинамиче…</td><td>&quot;[&#x27;I50.0&#x27;]&quot;</td><td>&quot;I20&quot;</td><td>&quot;[&#x27;I70.2&#x27;, &#x27;I70.8&#x27;, &#x27;S68.1&#x27;]&quot;</td><td>2024-08-21</td><td>0</td><td>1</td><td>&quot;Гипертоническая болезнь III ст…</td><td>&quot;[&#x27;I11.9&#x27;]&quot;</td><td>null</td><td>[]</td><td>[]</td><td>-1</td><td>&quot;Острое&quot;</td><td>&quot;Улучшение&quot;</td><td>&quot;99&quot;</td><td>&quot;22&quot;</td><td>&quot;Тяжелое&quot;</td><td>&quot;{&#x27;Сведения о пребывании пациен…</td><td>&quot;3,2&quot;</td><td>&quot;3,7&quot;</td><td>&quot;3,7&quot;</td><td>&quot;96&quot;</td><td>&quot;37&quot;</td><td>&quot;59&quot;</td><td>null</td><td>null</td><td>null</td><td>&quot;3,6&quot;</td><td>&quot;3,1&quot;</td><td>&quot;2,7&quot;</td><td>null</td><td>&quot;58&quot;</td><td>&quot;60&quot;</td><td>null</td></tr><tr><td>&quot;be4b7242-b39a-4dbe-9e17-d205f3…</td><td>0</td><td>&quot;АНАМНЕЗ ЖИЗНИ:&quot;</td><td>&quot;АНАМНЕЗ ЗАБОЛЕВАНИЯ&nbsp;&nbsp;ПОВЫШЕНИЕ…</td><td>&quot;[&#x27;Состояние: Удовлетворительно…</td><td>&quot;{&#x27;Название&#x27;: {0: &#x27;Приемное отд…</td><td>&quot;{&#x27;Сведения о пребывании пациен…</td><td>&quot;{&#x27;Характер основного заболеван…</td><td>&quot;{&#x27;Вид нозологической единицы&#x27;:…</td><td>&quot;ОСН I по Killip&quot;</td><td>&quot;Острый субэндокардиальный инфа…</td><td>&quot;АИТ, медикаментозный эутиреоз&quot;</td><td>&quot;[&#x27;I50.1&#x27;]&quot;</td><td>&quot;I21&quot;</td><td>&quot;[&#x27;E03.8&#x27;]&quot;</td><td>2021-02-17</td><td>0</td><td>1</td><td>&quot;Гипертоническая болезнь III ст…</td><td>&quot;[&#x27;I11.9&#x27;]&quot;</td><td>null</td><td>[]</td><td>[]</td><td>-1</td><td>&quot;Острое&quot;</td><td>&quot;Улучшение&quot;</td><td>null</td><td>null</td><td>&quot;Удовлетворительное&quot;</td><td>&quot;{&#x27;Сведения о пребывании пациен…</td><td>&quot;3,6&quot;</td><td>&quot;3,7&quot;</td><td>&quot;2,6&quot;</td><td>&quot;90&quot;</td><td>&quot;39&quot;</td><td>&quot;51&quot;</td><td>&quot;56&quot;</td><td>&quot;1,0&quot;</td><td>null</td><td>&quot;3,5&quot;</td><td>&quot;3,6&quot;</td><td>&quot;2,7&quot;</td><td>null</td><td>&quot;58&quot;</td><td>&quot;60&quot;</td><td>null</td></tr><tr><td>&quot;5C816580-8505-7A88-E055-000000…</td><td>0</td><td>&quot;ЭПИДЕМИОЛОГИЧЕСКИЙ АНАМНЕЗ: СО…</td><td>&quot;ИБС В ТЕЧЕНИИ 15 ЛЕТ. ПОВЫШЕНИ…</td><td>&quot;[&#x27;Состояние: Средней тяжести&#x27;,…</td><td>&quot;{&#x27;Название&#x27;: {0: &#x27;Приемное отд…</td><td>&quot;{&#x27;Сведения о пребывании пациен…</td><td>&quot;{&#x27;Характер основного заболеван…</td><td>&quot;{&#x27;Вид нозологической единицы&#x27;:…</td><td>&quot;ОСН 1 по Killip&quot;</td><td>&quot;ИБС. Прогрессирующая стенокард…</td><td>null</td><td>&quot;[&#x27;I50.1&#x27;]&quot;</td><td>&quot;I20&quot;</td><td>null</td><td>2024-05-24</td><td>0</td><td>0</td><td>&quot;Гипертоническая болезнь III ст…</td><td>&quot;[&#x27;I11.9&#x27;]&quot;</td><td>null</td><td>[]</td><td>[]</td><td>-1</td><td>&quot;Острое&quot;</td><td>&quot;Улучшение&quot;</td><td>&quot;97&quot;</td><td>&quot;27&quot;</td><td>&quot;Средней тяжести&quot;</td><td>&quot;{&#x27;Сведения о пребывании пациен…</td><td>&quot;2,2&quot;</td><td>&quot;2,8&quot;</td><td>&quot;2,0&quot;</td><td>&quot;92&quot;</td><td>&quot;27&quot;</td><td>&quot;65&quot;</td><td>&quot;70&quot;</td><td>&quot;1,0&quot;</td><td>null</td><td>&quot;3,0&quot;</td><td>&quot;2,7&quot;</td><td>&quot;2,5&quot;</td><td>null</td><td>&quot;52&quot;</td><td>null</td><td>null</td></tr></tbody></table></div>"
      ],
      "text/plain": [
       "shape: (5, 46)\n",
       "┌────────────┬────────┬────────────┬───────────┬───┬───────────┬───────────┬───────────┬───────────┐\n",
       "│ patient_id ┆ gender ┆ amnez_life ┆ amnez_dis ┆ … ┆ full_ward ┆ full_ward ┆ full_ward ┆ full_ward │\n",
       "│ ---        ┆ ---    ┆ ---        ┆ ease      ┆   ┆ s_ecg_sin ┆ s_ecg_age ┆ s_ecg_hea ┆ s_ecg_bmi │\n",
       "│ str        ┆ i64    ┆ str        ┆ ---       ┆   ┆ us_heart_ ┆ ---       ┆ rt_rate   ┆ ---       │\n",
       "│            ┆        ┆            ┆ str       ┆   ┆ rat…      ┆ str       ┆ ---       ┆ str       │\n",
       "│            ┆        ┆            ┆           ┆   ┆ ---       ┆           ┆ str       ┆           │\n",
       "│            ┆        ┆            ┆           ┆   ┆ str       ┆           ┆           ┆           │\n",
       "╞════════════╪════════╪════════════╪═══════════╪═══╪═══════════╪═══════════╪═══════════╪═══════════╡\n",
       "│ 971b8f4d-b ┆ 1      ┆ ЭПИДЕМИОЛО ┆ ПОВЫШЕНИЕ ┆ … ┆ null      ┆ 56        ┆ 60        ┆ null      │\n",
       "│ fdd-4355-8 ┆        ┆ ГИЧЕСКИЙ   ┆ АД        ┆   ┆           ┆           ┆           ┆           │\n",
       "│ 24d-397576 ┆        ┆ АНАМНЕЗ:   ┆ ОТРИЦАЕТ. ┆   ┆           ┆           ┆           ┆           │\n",
       "│ …          ┆        ┆ СО…        ┆ АД НЕ …   ┆   ┆           ┆           ┆           ┆           │\n",
       "│ 4E3FC73C-F ┆ 1      ┆ ЭПИДЕМИОЛО ┆ СЧИТАЕТ   ┆ … ┆ null      ┆ 59        ┆ 64        ┆ null      │\n",
       "│ 6E4-4FFF-B ┆        ┆ ГИЧЕСКИЙ   ┆ СЕБЯ      ┆   ┆           ┆           ┆           ┆           │\n",
       "│ 319-814ABF ┆        ┆ АНАМНЕЗ:СО ┆ БОЛЬНЫМ В ┆   ┆           ┆           ┆           ┆           │\n",
       "│ …          ┆        ┆ …          ┆ ТЕЧЕНИЕ…  ┆   ┆           ┆           ┆           ┆           │\n",
       "│ 74D01BAC-6 ┆ 1      ┆ ЭПИДЕМИОЛО ┆ СЧИТАЕТ   ┆ … ┆ null      ┆ 58        ┆ 60        ┆ null      │\n",
       "│ C96-4901-8 ┆        ┆ ГИЧЕСКИЙ   ┆ СЕБЯ      ┆   ┆           ┆           ┆           ┆           │\n",
       "│ 2C3-C464F5 ┆        ┆ АНАМНЕЗ:   ┆ БОЛЬНЫМ С ┆   ┆           ┆           ┆           ┆           │\n",
       "│ …          ┆        ┆ СО…        ┆ АПРЕЛЯ …  ┆   ┆           ┆           ┆           ┆           │\n",
       "│ be4b7242-b ┆ 0      ┆ АНАМНЕЗ    ┆ АНАМНЕЗ   ┆ … ┆ null      ┆ 58        ┆ 60        ┆ null      │\n",
       "│ 39a-4dbe-9 ┆        ┆ ЖИЗНИ:     ┆ ЗАБОЛЕВАН ┆   ┆           ┆           ┆           ┆           │\n",
       "│ e17-d205f3 ┆        ┆            ┆ ИЯ  ПОВЫШ ┆   ┆           ┆           ┆           ┆           │\n",
       "│ …          ┆        ┆            ┆ ЕНИЕ…     ┆   ┆           ┆           ┆           ┆           │\n",
       "│ 5C816580-8 ┆ 0      ┆ ЭПИДЕМИОЛО ┆ ИБС В     ┆ … ┆ null      ┆ 52        ┆ null      ┆ null      │\n",
       "│ 505-7A88-E ┆        ┆ ГИЧЕСКИЙ   ┆ ТЕЧЕНИИ   ┆   ┆           ┆           ┆           ┆           │\n",
       "│ 055-000000 ┆        ┆ АНАМНЕЗ:   ┆ 15 ЛЕТ.   ┆   ┆           ┆           ┆           ┆           │\n",
       "│ …          ┆        ┆ СО…        ┆ ПОВЫШЕНИ… ┆   ┆           ┆           ┆           ┆           │\n",
       "└────────────┴────────┴────────────┴───────────┴───┴───────────┴───────────┴───────────┴───────────┘"
      ]
     },
     "execution_count": 56,
     "metadata": {},
     "output_type": "execute_result"
    }
   ],
   "source": [
    "labeled_data.head()"
   ]
  },
  {
   "cell_type": "code",
   "execution_count": 64,
   "metadata": {},
   "outputs": [
    {
     "data": {
      "text/html": [
       "<div><style>\n",
       ".dataframe > thead > tr,\n",
       ".dataframe > tbody > tr {\n",
       "  text-align: right;\n",
       "  white-space: pre-wrap;\n",
       "}\n",
       "</style>\n",
       "<small>shape: (3, 2)</small><table border=\"1\" class=\"dataframe\"><thead><tr><th>main_disease_I21</th><th>athero</th></tr><tr><td>i32</td><td>u32</td></tr></thead><tbody><tr><td>0</td><td>1139</td></tr><tr><td>1</td><td>556</td></tr><tr><td>null</td><td>0</td></tr></tbody></table></div>"
      ],
      "text/plain": [
       "shape: (3, 2)\n",
       "┌──────────────────┬────────┐\n",
       "│ main_disease_I21 ┆ athero │\n",
       "│ ---              ┆ ---    │\n",
       "│ i32              ┆ u32    │\n",
       "╞══════════════════╪════════╡\n",
       "│ 0                ┆ 1139   │\n",
       "│ 1                ┆ 556    │\n",
       "│ null             ┆ 0      │\n",
       "└──────────────────┴────────┘"
      ]
     },
     "execution_count": 64,
     "metadata": {},
     "output_type": "execute_result"
    }
   ],
   "source": [
    "labeled_data.group_by(\"main_disease_I21\").agg(\n",
    "    # c(\"atherosclerosis\").sum(),\n",
    "    # c(\"atherosclerosis\").count().alias(\"erfwd\"),\n",
    "    c(\"disease_I70\").sum().alias(\"athero\"),\n",
    "    # c(\"full_wards_ecg_bmi\").mean().alias(\"bmi\"),\n",
    "    # c(\"obesity\").sum().alias(\"obesity\"),\n",
    ")"
   ]
  },
  {
   "cell_type": "code",
   "execution_count": 58,
   "metadata": {},
   "outputs": [
    {
     "data": {
      "text/html": [
       "<div><style>\n",
       ".dataframe > thead > tr,\n",
       ".dataframe > tbody > tr {\n",
       "  text-align: right;\n",
       "  white-space: pre-wrap;\n",
       "}\n",
       "</style>\n",
       "<small>shape: (10,)</small><table border=\"1\" class=\"dataframe\"><thead><tr><th>main_disease_I21</th></tr><tr><td>i32</td></tr></thead><tbody><tr><td>0</td></tr><tr><td>1</td></tr><tr><td>0</td></tr><tr><td>1</td></tr><tr><td>0</td></tr><tr><td>1</td></tr><tr><td>0</td></tr><tr><td>1</td></tr><tr><td>1</td></tr><tr><td>0</td></tr></tbody></table></div>"
      ],
      "text/plain": [
       "shape: (10,)\n",
       "Series: 'main_disease_I21' [i32]\n",
       "[\n",
       "\t0\n",
       "\t1\n",
       "\t0\n",
       "\t1\n",
       "\t0\n",
       "\t1\n",
       "\t0\n",
       "\t1\n",
       "\t1\n",
       "\t0\n",
       "]"
      ]
     },
     "execution_count": 58,
     "metadata": {},
     "output_type": "execute_result"
    }
   ],
   "source": [
    "labeled_data.with_columns(\n",
    "    ((c(\"main_disease_code\") == \"I21\") * 1).alias(\"main_disease_I21\"),\n",
    "    ((c(\"main_disease_code\") == \"I20\") * 1).alias(\"main_disease_I20\"),\n",
    ")[\"main_disease_I21\"].head()"
   ]
  },
  {
   "cell_type": "code",
   "execution_count": 59,
   "metadata": {},
   "outputs": [],
   "source": [
    "labeled_data = labeled_data.with_columns(\n",
    "    ((c(\"main_disease_code\") == \"I21\") * 1).alias(\"main_disease_I21\"),\n",
    "    ((c(\"main_disease_code\") == \"I20\") * 1).alias(\"main_disease_I20\"),\n",
    ")\n",
    "\n",
    "PROCESSED_COLS.append(\"main_disease_I21\")\n",
    "PROCESSED_COLS.append(\"main_disease_I20\")"
   ]
  },
  {
   "cell_type": "markdown",
   "metadata": {},
   "source": [
    "#### secondary, background, competing, complication - disease_codes"
   ]
  },
  {
   "cell_type": "code",
   "execution_count": 60,
   "metadata": {},
   "outputs": [
    {
     "data": {
      "text/html": [
       "<div><style>\n",
       ".dataframe > thead > tr,\n",
       ".dataframe > tbody > tr {\n",
       "  text-align: right;\n",
       "  white-space: pre-wrap;\n",
       "}\n",
       "</style>\n",
       "<small>shape: (5, 4)</small><table border=\"1\" class=\"dataframe\"><thead><tr><th>secondary_disease_code</th><th>background_disease_code</th><th>complication_of_main_disease_code</th><th>secondary_and_background_disease_codes</th></tr><tr><td>list[str]</td><td>list[str]</td><td>list[str]</td><td>list[str]</td></tr></thead><tbody><tr><td>[&quot;E66.9&quot;]</td><td>[]</td><td>[&quot;I50.1&quot;]</td><td>[&quot;E66&quot;, &quot;I50&quot;]</td></tr><tr><td>[&quot;E66.9&quot;]</td><td>[&quot;I11.9&quot;]</td><td>[&quot;I50.1&quot;]</td><td>[&quot;E66&quot;, &quot;I11&quot;, &quot;I50&quot;]</td></tr><tr><td>[&quot;I70.2&quot;, &quot;I70.8&quot;, &quot;S68.1&quot;]</td><td>[&quot;I11.9&quot;]</td><td>[&quot;I50.0&quot;]</td><td>[&quot;I70&quot;, &quot;I70&quot;, … &quot;I50&quot;]</td></tr><tr><td>[&quot;E03.8&quot;]</td><td>[&quot;I11.9&quot;]</td><td>[&quot;I50.1&quot;]</td><td>[&quot;E03&quot;, &quot;I11&quot;, &quot;I50&quot;]</td></tr><tr><td>[]</td><td>[&quot;I11.9&quot;]</td><td>[&quot;I50.1&quot;]</td><td>[&quot;I11&quot;, &quot;I50&quot;]</td></tr></tbody></table></div>"
      ],
      "text/plain": [
       "shape: (5, 4)\n",
       "┌────────────────────────┬────────────────────────┬────────────────────────┬───────────────────────┐\n",
       "│ secondary_disease_code ┆ background_disease_cod ┆ complication_of_main_d ┆ secondary_and_backgro │\n",
       "│ ---                    ┆ e                      ┆ isease_c…              ┆ und_disea…            │\n",
       "│ list[str]              ┆ ---                    ┆ ---                    ┆ ---                   │\n",
       "│                        ┆ list[str]              ┆ list[str]              ┆ list[str]             │\n",
       "╞════════════════════════╪════════════════════════╪════════════════════════╪═══════════════════════╡\n",
       "│ [\"E66.9\"]              ┆ []                     ┆ [\"I50.1\"]              ┆ [\"E66\", \"I50\"]        │\n",
       "│ [\"E66.9\"]              ┆ [\"I11.9\"]              ┆ [\"I50.1\"]              ┆ [\"E66\", \"I11\", \"I50\"] │\n",
       "│ [\"I70.2\", \"I70.8\",     ┆ [\"I11.9\"]              ┆ [\"I50.0\"]              ┆ [\"I70\", \"I70\", …      │\n",
       "│ \"S68.1\"]               ┆                        ┆                        ┆ \"I50\"]                │\n",
       "│ [\"E03.8\"]              ┆ [\"I11.9\"]              ┆ [\"I50.1\"]              ┆ [\"E03\", \"I11\", \"I50\"] │\n",
       "│ []                     ┆ [\"I11.9\"]              ┆ [\"I50.1\"]              ┆ [\"I11\", \"I50\"]        │\n",
       "└────────────────────────┴────────────────────────┴────────────────────────┴───────────────────────┘"
      ]
     },
     "execution_count": 60,
     "metadata": {},
     "output_type": "execute_result"
    }
   ],
   "source": [
    "labeled_data = (\n",
    "    labeled_data.with_columns(\n",
    "        c(\"secondary_disease_code\").map_elements(\n",
    "            lambda x: eval(x),\n",
    "            return_dtype=list[str],\n",
    "        ),\n",
    "        c(\"background_disease_code\").map_elements(\n",
    "            lambda x: eval(x),\n",
    "            return_dtype=list[str],\n",
    "        ),\n",
    "        c(\"complication_of_main_disease_code\").map_elements(\n",
    "            lambda x: eval(x),\n",
    "            return_dtype=list[str],\n",
    "        ),\n",
    "        c(\"Конкурирующее заболевание\")\n",
    "        .map_elements(\n",
    "            lambda x: eval(x),\n",
    "            return_dtype=list[str],\n",
    "        )\n",
    "        .alias(\"competing_disease_code\"),\n",
    "    )\n",
    "    .with_columns(\n",
    "        c(\"secondary_disease_code\").fill_null([]),\n",
    "        c(\"background_disease_code\").fill_null([]),\n",
    "        c(\"complication_of_main_disease_code\").fill_null([]),\n",
    "        c(\"competing_disease_code\").fill_null([]),\n",
    "    )\n",
    "    .with_columns(\n",
    "        # (c(\"secondary_disease_code\").list + c(\"background_disease_code\").list).alias(\"secondary_and_background_disease_codes\")\n",
    "        pl.concat_list(\n",
    "            c(\"secondary_disease_code\"),\n",
    "            c(\"background_disease_code\"),\n",
    "            c(\"complication_of_main_disease_code\"),\n",
    "            c(\"competing_disease_code\"),\n",
    "        ).alias(\"secondary_and_background_disease_codes\")\n",
    "    )\n",
    ")\n",
    "\n",
    "labeled_data = labeled_data.with_columns(\n",
    "    c(\"secondary_and_background_disease_codes\")\n",
    "    .list.eval(pl.element().str.slice(0, 3))\n",
    "    .alias(\"secondary_and_background_disease_codes\")\n",
    ")\n",
    "\n",
    "labeled_data.select(\n",
    "    \"secondary_disease_code\",\n",
    "    \"background_disease_code\",\n",
    "    \"complication_of_main_disease_code\",\n",
    "    \"secondary_and_background_disease_codes\",\n",
    ").head()"
   ]
  },
  {
   "cell_type": "code",
   "execution_count": 61,
   "metadata": {},
   "outputs": [],
   "source": [
    "column = labeled_data[\"secondary_and_background_disease_codes\"].to_list()\n",
    "flat_list = []\n",
    "\n",
    "for disease_list in column:\n",
    "    if disease_list is not None:\n",
    "        for code in disease_list:\n",
    "            flat_list.append(code[:3])\n",
    "disease_codes = list(set(flat_list))"
   ]
  },
  {
   "cell_type": "code",
   "execution_count": 62,
   "metadata": {},
   "outputs": [],
   "source": [
    "for disease_code in disease_codes:\n",
    "    new_column = labeled_data[\"secondary_and_background_disease_codes\"].list.contains(\n",
    "        disease_code\n",
    "    )\n",
    "\n",
    "    labeled_data = labeled_data.with_columns(\n",
    "        new_column.alias(\"disease_\" + disease_code)\n",
    "    )"
   ]
  },
  {
   "cell_type": "code",
   "execution_count": 63,
   "metadata": {},
   "outputs": [
    {
     "data": {
      "text/html": [
       "<div><style>\n",
       ".dataframe > thead > tr,\n",
       ".dataframe > tbody > tr {\n",
       "  text-align: right;\n",
       "  white-space: pre-wrap;\n",
       "}\n",
       "</style>\n",
       "<small>shape: (1, 398)</small><table border=\"1\" class=\"dataframe\"><thead><tr><th>disease_R32</th><th>disease_T06</th><th>disease_S90</th><th>disease_G56</th><th>disease_N29</th><th>disease_Y52</th><th>disease_I10</th><th>disease_F31</th><th>disease_K45</th><th>disease_I87</th><th>disease_D61</th><th>disease_I74</th><th>disease_L95</th><th>disease_D86</th><th>disease_M05</th><th>disease_F10</th><th>disease_H26</th><th>disease_N14</th><th>disease_I26</th><th>disease_C53</th><th>disease_G30</th><th>disease_M54</th><th>disease_G20</th><th>disease_G63</th><th>disease_E61</th><th>disease_L30</th><th>disease_K27</th><th>disease_I82</th><th>disease_N85</th><th>disease_G31</th><th>disease_I41</th><th>disease_D47</th><th>disease_C81</th><th>disease_N63</th><th>disease_B37</th><th>disease_H44</th><th>disease_I83</th><th>&hellip;</th><th>disease_G50</th><th>disease_M23</th><th>disease_R15</th><th>disease_L20</th><th>disease_R56</th><th>disease_T29</th><th>disease_S98</th><th>disease_J06</th><th>disease_J42</th><th>disease_G09</th><th>disease_M42</th><th>disease_R65</th><th>disease_F03</th><th>disease_I66</th><th>disease_J02</th><th>disease_N04</th><th>disease_J33</th><th>disease_E04</th><th>disease_N03</th><th>disease_K55</th><th>disease_S01</th><th>disease_A46</th><th>disease_F32</th><th>disease_G93</th><th>disease_A16</th><th>disease_C79</th><th>disease_J67</th><th>disease_D25</th><th>disease_E21</th><th>disease_G40</th><th>disease_S06</th><th>disease_E89</th><th>disease_I08</th><th>disease_E74</th><th>disease_C46</th><th>disease_N28</th><th>disease_M48</th></tr><tr><td>u32</td><td>u32</td><td>u32</td><td>u32</td><td>u32</td><td>u32</td><td>u32</td><td>u32</td><td>u32</td><td>u32</td><td>u32</td><td>u32</td><td>u32</td><td>u32</td><td>u32</td><td>u32</td><td>u32</td><td>u32</td><td>u32</td><td>u32</td><td>u32</td><td>u32</td><td>u32</td><td>u32</td><td>u32</td><td>u32</td><td>u32</td><td>u32</td><td>u32</td><td>u32</td><td>u32</td><td>u32</td><td>u32</td><td>u32</td><td>u32</td><td>u32</td><td>u32</td><td>&hellip;</td><td>u32</td><td>u32</td><td>u32</td><td>u32</td><td>u32</td><td>u32</td><td>u32</td><td>u32</td><td>u32</td><td>u32</td><td>u32</td><td>u32</td><td>u32</td><td>u32</td><td>u32</td><td>u32</td><td>u32</td><td>u32</td><td>u32</td><td>u32</td><td>u32</td><td>u32</td><td>u32</td><td>u32</td><td>u32</td><td>u32</td><td>u32</td><td>u32</td><td>u32</td><td>u32</td><td>u32</td><td>u32</td><td>u32</td><td>u32</td><td>u32</td><td>u32</td><td>u32</td></tr></thead><tbody><tr><td>1</td><td>1</td><td>1</td><td>4</td><td>1</td><td>1</td><td>12</td><td>1</td><td>1</td><td>10</td><td>2</td><td>8</td><td>1</td><td>7</td><td>7</td><td>2</td><td>8</td><td>3</td><td>28</td><td>5</td><td>1</td><td>2</td><td>13</td><td>13</td><td>1</td><td>1</td><td>2</td><td>4</td><td>1</td><td>2</td><td>1</td><td>3</td><td>7</td><td>1</td><td>3</td><td>1</td><td>191</td><td>&hellip;</td><td>1</td><td>1</td><td>1</td><td>2</td><td>2</td><td>1</td><td>1</td><td>10</td><td>63</td><td>1</td><td>209</td><td>1</td><td>4</td><td>1</td><td>1</td><td>1</td><td>1</td><td>125</td><td>2</td><td>2</td><td>1</td><td>2</td><td>1</td><td>47</td><td>5</td><td>1</td><td>1</td><td>1</td><td>1</td><td>15</td><td>2</td><td>10</td><td>7</td><td>30</td><td>1</td><td>59</td><td>1</td></tr></tbody></table></div>"
      ],
      "text/plain": [
       "shape: (1, 398)\n",
       "┌───────────┬───────────┬───────────┬───────────┬───┬───────────┬───────────┬───────────┬──────────┐\n",
       "│ disease_R ┆ disease_T ┆ disease_S ┆ disease_G ┆ … ┆ disease_E ┆ disease_C ┆ disease_N ┆ disease_ │\n",
       "│ 32        ┆ 06        ┆ 90        ┆ 56        ┆   ┆ 74        ┆ 46        ┆ 28        ┆ M48      │\n",
       "│ ---       ┆ ---       ┆ ---       ┆ ---       ┆   ┆ ---       ┆ ---       ┆ ---       ┆ ---      │\n",
       "│ u32       ┆ u32       ┆ u32       ┆ u32       ┆   ┆ u32       ┆ u32       ┆ u32       ┆ u32      │\n",
       "╞═══════════╪═══════════╪═══════════╪═══════════╪═══╪═══════════╪═══════════╪═══════════╪══════════╡\n",
       "│ 1         ┆ 1         ┆ 1         ┆ 4         ┆ … ┆ 30        ┆ 1         ┆ 59        ┆ 1        │\n",
       "└───────────┴───────────┴───────────┴───────────┴───┴───────────┴───────────┴───────────┴──────────┘"
      ]
     },
     "execution_count": 63,
     "metadata": {},
     "output_type": "execute_result"
    }
   ],
   "source": [
    "disease_codes_stats = labeled_data.select(\n",
    "    [f\"disease_{disease_code}\" for disease_code in disease_codes]\n",
    ").sum()\n",
    "disease_codes_stats"
   ]
  },
  {
   "cell_type": "code",
   "execution_count": 59,
   "metadata": {},
   "outputs": [],
   "source": [
    "# drop cols where diseases are met fewer than 30 times\n",
    "\n",
    "cols = [\n",
    "    col for col in disease_codes_stats.columns if (disease_codes_stats[col] < 30).item()\n",
    "]\n",
    "disease_cols_to_keep = list(set(disease_codes_stats.columns) - set(cols))\n",
    "labeled_data = labeled_data.drop(cols)\n",
    "\n",
    "PROCESSED_COLS.extend(disease_cols_to_keep)"
   ]
  },
  {
   "cell_type": "markdown",
   "metadata": {},
   "source": [
    "### see data"
   ]
  },
  {
   "cell_type": "code",
   "execution_count": 60,
   "metadata": {},
   "outputs": [
    {
     "data": {
      "text/html": [
       "<div><style>\n",
       ".dataframe > thead > tr,\n",
       ".dataframe > tbody > tr {\n",
       "  text-align: right;\n",
       "  white-space: pre-wrap;\n",
       "}\n",
       "</style>\n",
       "<small>shape: (3, 99)</small><table border=\"1\" class=\"dataframe\"><thead><tr><th>patient_id</th><th>gender</th><th>amnez_life</th><th>amnez_disease</th><th>condition</th><th>ward_table</th><th>full_wards</th><th>final_table1</th><th>final_table2</th><th>complication_of_main_disease_desc</th><th>main_disease_desc</th><th>secondary_disease_desc</th><th>complication_of_main_disease_code</th><th>main_disease_code</th><th>secondary_disease_code</th><th>admission_datetime</th><th>gospitalisation_type</th><th>gospitalisation_delivery</th><th>background_disease_desc</th><th>background_disease_code</th><th>Конкурирующее заболевание</th><th>following_admission_datetimes</th><th>following_main_disease_codes</th><th>target</th><th>final_table1_main_desease_status</th><th>final_table1_gospitalization_result</th><th>condition_oxygen_saturation</th><th>condition_bmi</th><th>condition_status</th><th>full_wards_cleaned</th><th>full_wards_ecg_right_atrium</th><th>full_wards_ecg_left_atrium</th><th>full_wards_ecg_right_ventricle</th><th>full_wards_ecg_end_diastolic_volume</th><th>full_wards_ecg_end_systolic_volume</th><th>full_wards_ecg_stroke_volume</th><th>full_wards_ecg_ejection_fraction</th><th>&hellip;</th><th>disease_K29</th><th>disease_I49</th><th>disease_B18</th><th>disease_D64</th><th>disease_I71</th><th>disease_K26</th><th>disease_K80</th><th>disease_M10</th><th>disease_K25</th><th>disease_E06</th><th>disease_I45</th><th>disease_J45</th><th>disease_N28</th><th>disease_L40</th><th>disease_N18</th><th>disease_I69</th><th>disease_I63</th><th>disease_H90</th><th>disease_I70</th><th>disease_E66</th><th>disease_I11</th><th>disease_D50</th><th>disease_C50</th><th>disease_C34</th><th>disease_G93</th><th>disease_I64</th><th>disease_E03</th><th>disease_J42</th><th>disease_J44</th><th>disease_C18</th><th>disease_I34</th><th>disease_K86</th><th>disease_M42</th><th>disease_I83</th><th>disease_E10</th><th>disease_U07</th><th>disease_I25</th></tr><tr><td>str</td><td>i64</td><td>str</td><td>str</td><td>str</td><td>str</td><td>str</td><td>str</td><td>str</td><td>str</td><td>str</td><td>str</td><td>list[str]</td><td>str</td><td>list[str]</td><td>date</td><td>i64</td><td>i64</td><td>str</td><td>list[str]</td><td>str</td><td>list[date]</td><td>list[str]</td><td>i32</td><td>str</td><td>str</td><td>str</td><td>str</td><td>str</td><td>str</td><td>str</td><td>str</td><td>str</td><td>str</td><td>str</td><td>str</td><td>str</td><td>&hellip;</td><td>bool</td><td>bool</td><td>bool</td><td>bool</td><td>bool</td><td>bool</td><td>bool</td><td>bool</td><td>bool</td><td>bool</td><td>bool</td><td>bool</td><td>bool</td><td>bool</td><td>bool</td><td>bool</td><td>bool</td><td>bool</td><td>bool</td><td>bool</td><td>bool</td><td>bool</td><td>bool</td><td>bool</td><td>bool</td><td>bool</td><td>bool</td><td>bool</td><td>bool</td><td>bool</td><td>bool</td><td>bool</td><td>bool</td><td>bool</td><td>bool</td><td>bool</td><td>bool</td></tr></thead><tbody><tr><td>&quot;520F7224-F8A3-13FE-E055-000000…</td><td>1</td><td>&quot;Б&quot;</td><td>&quot;СЧИТАЕТ СЕБЯ БОЛЬНЫМ С 10.11.2…</td><td>&quot;[&#x27;Состояние: Удовлетворительно…</td><td>&quot;{&#x27;Название&#x27;: {0: &#x27;Приемное отд…</td><td>&quot;{&#x27;Сведения о пребывании пациен…</td><td>&quot;{&#x27;Характер основного заболеван…</td><td>&quot;{&#x27;Вид нозологической единицы&#x27;:…</td><td>&quot;ОСН I по Killip&quot;</td><td>&quot;ИБС. Впервые возникшая стенока…</td><td>&quot;Пароксизмальная форма фибрилля…</td><td>[&quot;I50.1&quot;]</td><td>&quot;I20&quot;</td><td>[&quot;E11.8&quot;, &quot;I48.0&quot;]</td><td>2022-11-17</td><td>0</td><td>0</td><td>&quot;Гипертоническая болезнь III ст…</td><td>[&quot;I11.9&quot;]</td><td>null</td><td>[]</td><td>[]</td><td>-1</td><td>&quot;Ранее установленное хроническо…</td><td>&quot;Улучшение&quot;</td><td>null</td><td>&quot;27&quot;</td><td>&quot;Удовлетворительное&quot;</td><td>&quot;{&#x27;Сведения о пребывании пациен…</td><td>&quot;3,4&quot;</td><td>&quot;4,5&quot;</td><td>&quot;3,0&quot;</td><td>&quot;97&quot;</td><td>&quot;35&quot;</td><td>&quot;62&quot;</td><td>&quot;64&quot;</td><td>&hellip;</td><td>false</td><td>false</td><td>false</td><td>false</td><td>false</td><td>false</td><td>false</td><td>false</td><td>false</td><td>false</td><td>false</td><td>false</td><td>false</td><td>false</td><td>false</td><td>false</td><td>false</td><td>false</td><td>false</td><td>false</td><td>true</td><td>false</td><td>false</td><td>false</td><td>false</td><td>false</td><td>false</td><td>false</td><td>false</td><td>false</td><td>false</td><td>false</td><td>false</td><td>false</td><td>false</td><td>false</td><td>false</td></tr><tr><td>&quot;121147A3-665C-46B3-BBFB-B18060…</td><td>1</td><td>&quot;АНАМНЕЗ ЖИЗНИ:&quot;</td><td>&quot;АНАМНЕЗ ЗАБОЛЕВАНИЯ КОРОНАРНОГ…</td><td>&quot;[&#x27;Состояние: Удовлетворительно…</td><td>&quot;{&#x27;Название&#x27;: {0: &#x27;Приемное отд…</td><td>&quot;{&#x27;Сведения о пребывании пациен…</td><td>&quot;{&#x27;Характер основного заболеван…</td><td>&quot;{&#x27;Вид нозологической единицы&#x27;:…</td><td>&quot;ОСН по Killip I&quot;</td><td>&quot;ИБС.Острый инфаркт миокарда пе…</td><td>&quot;Рак левого лёгкого&quot;</td><td>[&quot;I50.1&quot;]</td><td>&quot;I21&quot;</td><td>[&quot;C34.9&quot;]</td><td>2021-03-26</td><td>0</td><td>0</td><td>&quot;Гипертоническая болезнь III ст…</td><td>[&quot;I11.9&quot;]</td><td>null</td><td>[]</td><td>[]</td><td>-1</td><td>&quot;Ранее установленное хроническо…</td><td>&quot;Улучшение&quot;</td><td>null</td><td>null</td><td>&quot;Удовлетворительное&quot;</td><td>&quot;{&#x27;Сведения о пребывании пациен…</td><td>&quot;3,6&quot;</td><td>&quot;4,0&quot;</td><td>&quot;2,8&quot;</td><td>&quot;133&quot;</td><td>&quot;60&quot;</td><td>&quot;74&quot;</td><td>&quot;55&quot;</td><td>&hellip;</td><td>false</td><td>false</td><td>false</td><td>false</td><td>false</td><td>false</td><td>false</td><td>false</td><td>false</td><td>false</td><td>false</td><td>false</td><td>false</td><td>false</td><td>false</td><td>false</td><td>false</td><td>false</td><td>false</td><td>false</td><td>true</td><td>false</td><td>false</td><td>true</td><td>false</td><td>false</td><td>false</td><td>false</td><td>false</td><td>false</td><td>false</td><td>false</td><td>false</td><td>false</td><td>false</td><td>false</td><td>false</td></tr><tr><td>&quot;60A9D420-4628-4631-BB0A-B2F8AD…</td><td>1</td><td>&quot;Б&quot;</td><td>&quot;АНАМНЕЗ ЗАБОЛЕВАНИЯ&nbsp;&nbsp;НАСТОЯЩЕЕ…</td><td>&quot;[&#x27;Состояние: Удовлетворительно…</td><td>&quot;{&#x27;Название&#x27;: {0: &#x27;Приемное отд…</td><td>&quot;{&#x27;Сведения о пребывании пациен…</td><td>&quot;{&#x27;Характер основного заболеван…</td><td>&quot;{&#x27;Вид нозологической единицы&#x27;:…</td><td>&quot;ОСН по Killip 1&quot;</td><td>&quot;ОКС с подъемом сегмента ST.&quot;</td><td>&quot;Ожирение&nbsp;&nbsp;1 степени (ИМТ 33 кг…</td><td>[&quot;I50.1&quot;]</td><td>&quot;I21&quot;</td><td>[&quot;E66.9&quot;]</td><td>2022-06-01</td><td>0</td><td>1</td><td>&quot;Гипертоническая болезнь III ст…</td><td>[&quot;I11.9&quot;]</td><td>null</td><td>[2022-06-22, 2022-07-13]</td><td>[&quot;I20&quot;, &quot;I20&quot;]</td><td>0</td><td>&quot;Острое&quot;</td><td>&quot;Улучшение&quot;</td><td>null</td><td>null</td><td>&quot;Удовлетворительное&quot;</td><td>&quot;{&#x27;Сведения о пребывании пациен…</td><td>&quot;3,8&quot;</td><td>&quot;4,0&quot;</td><td>&quot;2,7&quot;</td><td>&quot;126&quot;</td><td>&quot;58&quot;</td><td>&quot;68&quot;</td><td>null</td><td>&hellip;</td><td>false</td><td>false</td><td>false</td><td>false</td><td>false</td><td>false</td><td>false</td><td>false</td><td>false</td><td>false</td><td>false</td><td>false</td><td>false</td><td>false</td><td>false</td><td>false</td><td>false</td><td>false</td><td>false</td><td>true</td><td>true</td><td>false</td><td>false</td><td>false</td><td>false</td><td>false</td><td>false</td><td>false</td><td>false</td><td>false</td><td>false</td><td>false</td><td>false</td><td>false</td><td>false</td><td>false</td><td>false</td></tr></tbody></table></div>"
      ],
      "text/plain": [
       "shape: (3, 99)\n",
       "┌────────────┬────────┬────────────┬───────────┬───┬───────────┬───────────┬───────────┬───────────┐\n",
       "│ patient_id ┆ gender ┆ amnez_life ┆ amnez_dis ┆ … ┆ disease_I ┆ disease_E ┆ disease_U ┆ disease_I │\n",
       "│ ---        ┆ ---    ┆ ---        ┆ ease      ┆   ┆ 83        ┆ 10        ┆ 07        ┆ 25        │\n",
       "│ str        ┆ i64    ┆ str        ┆ ---       ┆   ┆ ---       ┆ ---       ┆ ---       ┆ ---       │\n",
       "│            ┆        ┆            ┆ str       ┆   ┆ bool      ┆ bool      ┆ bool      ┆ bool      │\n",
       "╞════════════╪════════╪════════════╪═══════════╪═══╪═══════════╪═══════════╪═══════════╪═══════════╡\n",
       "│ 520F7224-F ┆ 1      ┆ Б          ┆ СЧИТАЕТ   ┆ … ┆ false     ┆ false     ┆ false     ┆ false     │\n",
       "│ 8A3-13FE-E ┆        ┆            ┆ СЕБЯ      ┆   ┆           ┆           ┆           ┆           │\n",
       "│ 055-000000 ┆        ┆            ┆ БОЛЬНЫМ С ┆   ┆           ┆           ┆           ┆           │\n",
       "│ …          ┆        ┆            ┆ 10.11.2…  ┆   ┆           ┆           ┆           ┆           │\n",
       "│ 121147A3-6 ┆ 1      ┆ АНАМНЕЗ    ┆ АНАМНЕЗ   ┆ … ┆ false     ┆ false     ┆ false     ┆ false     │\n",
       "│ 65C-46B3-B ┆        ┆ ЖИЗНИ:     ┆ ЗАБОЛЕВАН ┆   ┆           ┆           ┆           ┆           │\n",
       "│ BFB-B18060 ┆        ┆            ┆ ИЯ КОРОНА ┆   ┆           ┆           ┆           ┆           │\n",
       "│ …          ┆        ┆            ┆ РНОГ…     ┆   ┆           ┆           ┆           ┆           │\n",
       "│ 60A9D420-4 ┆ 1      ┆ Б          ┆ АНАМНЕЗ   ┆ … ┆ false     ┆ false     ┆ false     ┆ false     │\n",
       "│ 628-4631-B ┆        ┆            ┆ ЗАБОЛЕВАН ┆   ┆           ┆           ┆           ┆           │\n",
       "│ B0A-B2F8AD ┆        ┆            ┆ ИЯ  НАСТО ┆   ┆           ┆           ┆           ┆           │\n",
       "│ …          ┆        ┆            ┆ ЯЩЕЕ…     ┆   ┆           ┆           ┆           ┆           │\n",
       "└────────────┴────────┴────────────┴───────────┴───┴───────────┴───────────┴───────────┴───────────┘"
      ]
     },
     "execution_count": 60,
     "metadata": {},
     "output_type": "execute_result"
    }
   ],
   "source": [
    "labeled_data.head(3)"
   ]
  },
  {
   "cell_type": "code",
   "execution_count": 61,
   "metadata": {},
   "outputs": [
    {
     "data": {
      "text/plain": [
       "78"
      ]
     },
     "execution_count": 61,
     "metadata": {},
     "output_type": "execute_result"
    }
   ],
   "source": [
    "len(PROCESSED_COLS)"
   ]
  },
  {
   "cell_type": "code",
   "execution_count": 62,
   "metadata": {},
   "outputs": [],
   "source": [
    "# useful_cols = (\n",
    "#     [\n",
    "#         \"patient_id\",\n",
    "#         \"gender\",\n",
    "#         \"target\",\n",
    "#         \"main_disease_I21\",\n",
    "#         \"main_disease_I20\",\n",
    "#         \"gospitalisation_type\",\n",
    "#         \"gospitalisation_delivery\",\n",
    "#         \"admission_datetime\",\n",
    "#         \"following_admission_datetimes\",\n",
    "#     ]\n",
    "#     + disease_cols_to_keep\n",
    "#     + [\"final_table1_\" + col for col in new_columns_regex_final_table1.keys()]\n",
    "#     + [\"condition_\" + col for col in new_columns_regex_condition.keys()]\n",
    "#     + [\"full_wards_\" + col for col in new_columns_regex_ecg.keys()]\n",
    "# )\n",
    "\n",
    "# # # labeled_data.select(useful_cols).head()"
   ]
  },
  {
   "cell_type": "markdown",
   "metadata": {},
   "source": [
    "### clean and convert to dtypes"
   ]
  },
  {
   "cell_type": "code",
   "execution_count": 63,
   "metadata": {},
   "outputs": [
    {
     "data": {
      "text/html": [
       "<div><style>\n",
       ".dataframe > thead > tr,\n",
       ".dataframe > tbody > tr {\n",
       "  text-align: right;\n",
       "  white-space: pre-wrap;\n",
       "}\n",
       "</style>\n",
       "<small>shape: (1, 78)</small><table border=\"1\" class=\"dataframe\"><thead><tr><th>admission_datetime</th><th>gender</th><th>patient_id</th><th>gospitalisation_type</th><th>gospitalisation_delivery</th><th>target</th><th>final_table1_main_desease_status</th><th>final_table1_gospitalization_result</th><th>condition_oxygen_saturation</th><th>condition_bmi</th><th>condition_status</th><th>full_wards_ecg_right_atrium</th><th>full_wards_ecg_left_atrium</th><th>full_wards_ecg_right_ventricle</th><th>full_wards_ecg_end_diastolic_volume</th><th>full_wards_ecg_end_systolic_volume</th><th>full_wards_ecg_stroke_volume</th><th>full_wards_ecg_ejection_fraction</th><th>full_wards_ecg_ventricular_septal</th><th>full_wards_ecg_e_a</th><th>full_wards_ecg_aorta_diameter_valsalva_sinuses</th><th>full_wards_ecg_ascending_aorta</th><th>full_wards_ecg_aortic_arch</th><th>full_wards_ecg_sinus_heart_rate</th><th>full_wards_ecg_age</th><th>full_wards_ecg_heart_rate</th><th>full_wards_ecg_bmi</th><th>main_disease_I21</th><th>main_disease_I20</th><th>disease_K29</th><th>disease_I83</th><th>disease_I49</th><th>disease_I48</th><th>disease_K86</th><th>disease_U07</th><th>disease_D50</th><th>disease_I70</th><th>&hellip;</th><th>disease_N40</th><th>disease_E06</th><th>disease_E66</th><th>disease_J44</th><th>disease_I11</th><th>disease_I67</th><th>disease_E04</th><th>disease_K25</th><th>disease_I69</th><th>disease_B18</th><th>disease_J45</th><th>disease_E11</th><th>disease_G93</th><th>disease_C34</th><th>disease_I34</th><th>disease_I25</th><th>disease_I63</th><th>disease_E03</th><th>disease_K80</th><th>disease_E74</th><th>disease_E10</th><th>disease_L40</th><th>disease_I50</th><th>disease_H90</th><th>disease_M42</th><th>disease_D64</th><th>disease_N20</th><th>disease_M10</th><th>disease_I44</th><th>disease_C50</th><th>disease_I71</th><th>disease_I64</th><th>disease_N18</th><th>disease_K26</th><th>disease_C61</th><th>disease_C18</th><th>disease_I47</th></tr><tr><td>u32</td><td>u32</td><td>u32</td><td>u32</td><td>u32</td><td>u32</td><td>u32</td><td>u32</td><td>u32</td><td>u32</td><td>u32</td><td>u32</td><td>u32</td><td>u32</td><td>u32</td><td>u32</td><td>u32</td><td>u32</td><td>u32</td><td>u32</td><td>u32</td><td>u32</td><td>u32</td><td>u32</td><td>u32</td><td>u32</td><td>u32</td><td>u32</td><td>u32</td><td>u32</td><td>u32</td><td>u32</td><td>u32</td><td>u32</td><td>u32</td><td>u32</td><td>u32</td><td>&hellip;</td><td>u32</td><td>u32</td><td>u32</td><td>u32</td><td>u32</td><td>u32</td><td>u32</td><td>u32</td><td>u32</td><td>u32</td><td>u32</td><td>u32</td><td>u32</td><td>u32</td><td>u32</td><td>u32</td><td>u32</td><td>u32</td><td>u32</td><td>u32</td><td>u32</td><td>u32</td><td>u32</td><td>u32</td><td>u32</td><td>u32</td><td>u32</td><td>u32</td><td>u32</td><td>u32</td><td>u32</td><td>u32</td><td>u32</td><td>u32</td><td>u32</td><td>u32</td><td>u32</td></tr></thead><tbody><tr><td>0</td><td>0</td><td>0</td><td>0</td><td>0</td><td>0</td><td>0</td><td>0</td><td>5570</td><td>4994</td><td>0</td><td>338</td><td>341</td><td>337</td><td>458</td><td>420</td><td>576</td><td>622</td><td>1103</td><td>4250</td><td>502</td><td>901</td><td>3629</td><td>7279</td><td>68</td><td>354</td><td>4319</td><td>3</td><td>3</td><td>0</td><td>0</td><td>0</td><td>0</td><td>0</td><td>0</td><td>0</td><td>0</td><td>&hellip;</td><td>0</td><td>0</td><td>0</td><td>0</td><td>0</td><td>0</td><td>0</td><td>0</td><td>0</td><td>0</td><td>0</td><td>0</td><td>0</td><td>0</td><td>0</td><td>0</td><td>0</td><td>0</td><td>0</td><td>0</td><td>0</td><td>0</td><td>0</td><td>0</td><td>0</td><td>0</td><td>0</td><td>0</td><td>0</td><td>0</td><td>0</td><td>0</td><td>0</td><td>0</td><td>0</td><td>0</td><td>0</td></tr></tbody></table></div>"
      ],
      "text/plain": [
       "shape: (1, 78)\n",
       "┌────────────┬────────┬────────────┬───────────┬───┬───────────┬───────────┬───────────┬───────────┐\n",
       "│ admission_ ┆ gender ┆ patient_id ┆ gospitali ┆ … ┆ disease_K ┆ disease_C ┆ disease_C ┆ disease_I │\n",
       "│ datetime   ┆ ---    ┆ ---        ┆ sation_ty ┆   ┆ 26        ┆ 61        ┆ 18        ┆ 47        │\n",
       "│ ---        ┆ u32    ┆ u32        ┆ pe        ┆   ┆ ---       ┆ ---       ┆ ---       ┆ ---       │\n",
       "│ u32        ┆        ┆            ┆ ---       ┆   ┆ u32       ┆ u32       ┆ u32       ┆ u32       │\n",
       "│            ┆        ┆            ┆ u32       ┆   ┆           ┆           ┆           ┆           │\n",
       "╞════════════╪════════╪════════════╪═══════════╪═══╪═══════════╪═══════════╪═══════════╪═══════════╡\n",
       "│ 0          ┆ 0      ┆ 0          ┆ 0         ┆ … ┆ 0         ┆ 0         ┆ 0         ┆ 0         │\n",
       "└────────────┴────────┴────────────┴───────────┴───┴───────────┴───────────┴───────────┴───────────┘"
      ]
     },
     "execution_count": 63,
     "metadata": {},
     "output_type": "execute_result"
    }
   ],
   "source": [
    "labeled_data.select(PROCESSED_COLS).null_count()"
   ]
  },
  {
   "cell_type": "code",
   "execution_count": 64,
   "metadata": {},
   "outputs": [
    {
     "data": {
      "text/html": [
       "<div><style>\n",
       ".dataframe > thead > tr,\n",
       ".dataframe > tbody > tr {\n",
       "  text-align: right;\n",
       "  white-space: pre-wrap;\n",
       "}\n",
       "</style>\n",
       "<small>shape: (1, 78)</small><table border=\"1\" class=\"dataframe\"><thead><tr><th>admission_datetime</th><th>gender</th><th>patient_id</th><th>gospitalisation_type</th><th>gospitalisation_delivery</th><th>target</th><th>final_table1_main_desease_status</th><th>final_table1_gospitalization_result</th><th>condition_oxygen_saturation</th><th>condition_bmi</th><th>condition_status</th><th>full_wards_ecg_right_atrium</th><th>full_wards_ecg_left_atrium</th><th>full_wards_ecg_right_ventricle</th><th>full_wards_ecg_end_diastolic_volume</th><th>full_wards_ecg_end_systolic_volume</th><th>full_wards_ecg_stroke_volume</th><th>full_wards_ecg_ejection_fraction</th><th>full_wards_ecg_ventricular_septal</th><th>full_wards_ecg_e_a</th><th>full_wards_ecg_aorta_diameter_valsalva_sinuses</th><th>full_wards_ecg_ascending_aorta</th><th>full_wards_ecg_aortic_arch</th><th>full_wards_ecg_sinus_heart_rate</th><th>full_wards_ecg_age</th><th>full_wards_ecg_heart_rate</th><th>full_wards_ecg_bmi</th><th>main_disease_I21</th><th>main_disease_I20</th><th>disease_K29</th><th>disease_I83</th><th>disease_I49</th><th>disease_I48</th><th>disease_K86</th><th>disease_U07</th><th>disease_D50</th><th>disease_I70</th><th>&hellip;</th><th>disease_N40</th><th>disease_E06</th><th>disease_E66</th><th>disease_J44</th><th>disease_I11</th><th>disease_I67</th><th>disease_E04</th><th>disease_K25</th><th>disease_I69</th><th>disease_B18</th><th>disease_J45</th><th>disease_E11</th><th>disease_G93</th><th>disease_C34</th><th>disease_I34</th><th>disease_I25</th><th>disease_I63</th><th>disease_E03</th><th>disease_K80</th><th>disease_E74</th><th>disease_E10</th><th>disease_L40</th><th>disease_I50</th><th>disease_H90</th><th>disease_M42</th><th>disease_D64</th><th>disease_N20</th><th>disease_M10</th><th>disease_I44</th><th>disease_C50</th><th>disease_I71</th><th>disease_I64</th><th>disease_N18</th><th>disease_K26</th><th>disease_C61</th><th>disease_C18</th><th>disease_I47</th></tr><tr><td>u32</td><td>u32</td><td>u32</td><td>u32</td><td>u32</td><td>u32</td><td>u32</td><td>u32</td><td>u32</td><td>u32</td><td>u32</td><td>u32</td><td>u32</td><td>u32</td><td>u32</td><td>u32</td><td>u32</td><td>u32</td><td>u32</td><td>u32</td><td>u32</td><td>u32</td><td>u32</td><td>u32</td><td>u32</td><td>u32</td><td>u32</td><td>u32</td><td>u32</td><td>u32</td><td>u32</td><td>u32</td><td>u32</td><td>u32</td><td>u32</td><td>u32</td><td>u32</td><td>&hellip;</td><td>u32</td><td>u32</td><td>u32</td><td>u32</td><td>u32</td><td>u32</td><td>u32</td><td>u32</td><td>u32</td><td>u32</td><td>u32</td><td>u32</td><td>u32</td><td>u32</td><td>u32</td><td>u32</td><td>u32</td><td>u32</td><td>u32</td><td>u32</td><td>u32</td><td>u32</td><td>u32</td><td>u32</td><td>u32</td><td>u32</td><td>u32</td><td>u32</td><td>u32</td><td>u32</td><td>u32</td><td>u32</td><td>u32</td><td>u32</td><td>u32</td><td>u32</td><td>u32</td></tr></thead><tbody><tr><td>0</td><td>0</td><td>0</td><td>0</td><td>0</td><td>0</td><td>0</td><td>0</td><td>825</td><td>753</td><td>0</td><td>30</td><td>29</td><td>30</td><td>48</td><td>44</td><td>62</td><td>74</td><td>133</td><td>569</td><td>46</td><td>110</td><td>509</td><td>991</td><td>6</td><td>36</td><td>565</td><td>0</td><td>0</td><td>0</td><td>0</td><td>0</td><td>0</td><td>0</td><td>0</td><td>0</td><td>0</td><td>&hellip;</td><td>0</td><td>0</td><td>0</td><td>0</td><td>0</td><td>0</td><td>0</td><td>0</td><td>0</td><td>0</td><td>0</td><td>0</td><td>0</td><td>0</td><td>0</td><td>0</td><td>0</td><td>0</td><td>0</td><td>0</td><td>0</td><td>0</td><td>0</td><td>0</td><td>0</td><td>0</td><td>0</td><td>0</td><td>0</td><td>0</td><td>0</td><td>0</td><td>0</td><td>0</td><td>0</td><td>0</td><td>0</td></tr></tbody></table></div>"
      ],
      "text/plain": [
       "shape: (1, 78)\n",
       "┌────────────┬────────┬────────────┬───────────┬───┬───────────┬───────────┬───────────┬───────────┐\n",
       "│ admission_ ┆ gender ┆ patient_id ┆ gospitali ┆ … ┆ disease_K ┆ disease_C ┆ disease_C ┆ disease_I │\n",
       "│ datetime   ┆ ---    ┆ ---        ┆ sation_ty ┆   ┆ 26        ┆ 61        ┆ 18        ┆ 47        │\n",
       "│ ---        ┆ u32    ┆ u32        ┆ pe        ┆   ┆ ---       ┆ ---       ┆ ---       ┆ ---       │\n",
       "│ u32        ┆        ┆            ┆ ---       ┆   ┆ u32       ┆ u32       ┆ u32       ┆ u32       │\n",
       "│            ┆        ┆            ┆ u32       ┆   ┆           ┆           ┆           ┆           │\n",
       "╞════════════╪════════╪════════════╪═══════════╪═══╪═══════════╪═══════════╪═══════════╪═══════════╡\n",
       "│ 0          ┆ 0      ┆ 0          ┆ 0         ┆ … ┆ 0         ┆ 0         ┆ 0         ┆ 0         │\n",
       "└────────────┴────────┴────────────┴───────────┴───┴───────────┴───────────┴───────────┴───────────┘"
      ]
     },
     "execution_count": 64,
     "metadata": {},
     "output_type": "execute_result"
    }
   ],
   "source": [
    "(\n",
    "    labeled_data.filter(\n",
    "        c(\"target\") != -1,\n",
    "    )\n",
    "    .select(PROCESSED_COLS)\n",
    "    .null_count()\n",
    "    # .shape\n",
    ")"
   ]
  },
  {
   "cell_type": "code",
   "execution_count": 65,
   "metadata": {},
   "outputs": [
    {
     "data": {
      "text/html": [
       "<div><style>\n",
       ".dataframe > thead > tr,\n",
       ".dataframe > tbody > tr {\n",
       "  text-align: right;\n",
       "  white-space: pre-wrap;\n",
       "}\n",
       "</style>\n",
       "<small>shape: (1, 3)</small><table border=\"1\" class=\"dataframe\"><thead><tr><th>condition_bmi</th><th>full_wards_ecg_bmi</th><th>bmi</th></tr><tr><td>u32</td><td>u32</td><td>u32</td></tr></thead><tbody><tr><td>4994</td><td>4319</td><td>3069</td></tr></tbody></table></div>"
      ],
      "text/plain": [
       "shape: (1, 3)\n",
       "┌───────────────┬────────────────────┬──────┐\n",
       "│ condition_bmi ┆ full_wards_ecg_bmi ┆ bmi  │\n",
       "│ ---           ┆ ---                ┆ ---  │\n",
       "│ u32           ┆ u32                ┆ u32  │\n",
       "╞═══════════════╪════════════════════╪══════╡\n",
       "│ 4994          ┆ 4319               ┆ 3069 │\n",
       "└───────────────┴────────────────────┴──────┘"
      ]
     },
     "execution_count": 65,
     "metadata": {},
     "output_type": "execute_result"
    }
   ],
   "source": [
    "(\n",
    "    labeled_data.with_columns(\n",
    "        pl.coalesce([c(\"full_wards_ecg_bmi\"), c(\"condition_bmi\")]).alias(\"bmi\")\n",
    "    ).select(\n",
    "        \"condition_bmi\",\n",
    "        \"full_wards_ecg_bmi\",\n",
    "        \"bmi\",\n",
    "    )\n",
    "    # .shape\n",
    "    .null_count()\n",
    ")"
   ]
  },
  {
   "cell_type": "code",
   "execution_count": 66,
   "metadata": {},
   "outputs": [],
   "source": [
    "labeled_data = labeled_data.with_columns(\n",
    "    pl.coalesce([c(\"full_wards_ecg_bmi\"), c(\"condition_bmi\")])\n",
    "    .cast(pl.Float64)\n",
    "    .alias(\"bmi\")\n",
    ")"
   ]
  },
  {
   "cell_type": "code",
   "execution_count": 67,
   "metadata": {},
   "outputs": [
    {
     "data": {
      "text/plain": [
       "'full_wards_ecg_sinus_heart_rate'"
      ]
     },
     "execution_count": 67,
     "metadata": {},
     "output_type": "execute_result"
    }
   ],
   "source": [
    "PROCESSED_COLS.append(\"bmi\")\n",
    "PROCESSED_COLS.pop(PROCESSED_COLS.index(\"condition_bmi\"))\n",
    "PROCESSED_COLS.pop(PROCESSED_COLS.index(\"full_wards_ecg_bmi\"))\n",
    "PROCESSED_COLS.pop(PROCESSED_COLS.index(\"condition_oxygen_saturation\"))\n",
    "PROCESSED_COLS.pop(PROCESSED_COLS.index(\"full_wards_ecg_e_a\"))\n",
    "PROCESSED_COLS.pop(PROCESSED_COLS.index(\"full_wards_ecg_aortic_arch\"))\n",
    "PROCESSED_COLS.pop(PROCESSED_COLS.index(\"full_wards_ecg_sinus_heart_rate\"))"
   ]
  },
  {
   "cell_type": "code",
   "execution_count": 68,
   "metadata": {},
   "outputs": [],
   "source": [
    "labeled_data = labeled_data.with_columns(\n",
    "    c(\"full_wards_ecg_ejection_fraction\")\n",
    "    .str.slice(-2)\n",
    "    .str.replace(\",\", \".\")\n",
    "    .cast(pl.Float64)\n",
    ")"
   ]
  },
  {
   "cell_type": "code",
   "execution_count": 69,
   "metadata": {},
   "outputs": [],
   "source": [
    "labeled_data = labeled_data.with_columns(\n",
    "    c(\"full_wards_ecg_ascending_aorta\")\n",
    "    .str.slice(-2)\n",
    "    .replace(\".\", None)\n",
    "    .str.replace(\",\", \".\")\n",
    "    .cast(pl.Float64)\n",
    ")"
   ]
  },
  {
   "cell_type": "code",
   "execution_count": 70,
   "metadata": {},
   "outputs": [
    {
     "data": {
      "text/html": [
       "<div><style>\n",
       ".dataframe > thead > tr,\n",
       ".dataframe > tbody > tr {\n",
       "  text-align: right;\n",
       "  white-space: pre-wrap;\n",
       "}\n",
       "</style>\n",
       "<small>shape: (5, 12)</small><table border=\"1\" class=\"dataframe\"><thead><tr><th>full_wards_ecg_right_atrium</th><th>full_wards_ecg_left_atrium</th><th>full_wards_ecg_right_ventricle</th><th>full_wards_ecg_end_diastolic_volume</th><th>full_wards_ecg_end_systolic_volume</th><th>full_wards_ecg_stroke_volume</th><th>full_wards_ecg_ventricular_septal</th><th>full_wards_ecg_aorta_diameter_valsalva_sinuses</th><th>full_wards_ecg_ascending_aorta</th><th>full_wards_ecg_age</th><th>full_wards_ecg_heart_rate</th><th>bmi</th></tr><tr><td>str</td><td>str</td><td>str</td><td>str</td><td>str</td><td>str</td><td>str</td><td>str</td><td>f64</td><td>str</td><td>str</td><td>f64</td></tr></thead><tbody><tr><td>&quot;3,4&quot;</td><td>&quot;4,5&quot;</td><td>&quot;3,0&quot;</td><td>&quot;97&quot;</td><td>&quot;35&quot;</td><td>&quot;62&quot;</td><td>&quot;1,5&quot;</td><td>&quot;3,7&quot;</td><td>0.6</td><td>&quot;66&quot;</td><td>&quot;48&quot;</td><td>26.0</td></tr><tr><td>&quot;3,6&quot;</td><td>&quot;4,0&quot;</td><td>&quot;2,8&quot;</td><td>&quot;133&quot;</td><td>&quot;60&quot;</td><td>&quot;74&quot;</td><td>null</td><td>&quot;4,4&quot;</td><td>0.1</td><td>&quot;69&quot;</td><td>&quot;60&quot;</td><td>20.0</td></tr><tr><td>&quot;3,8&quot;</td><td>&quot;4,0&quot;</td><td>&quot;2,7&quot;</td><td>&quot;126&quot;</td><td>&quot;58&quot;</td><td>&quot;68&quot;</td><td>&quot;2,0&quot;</td><td>&quot;3,5&quot;</td><td>0.7</td><td>&quot;72&quot;</td><td>&quot;68&quot;</td><td>33.0</td></tr><tr><td>&quot;3,1&quot;</td><td>&quot;3,2&quot;</td><td>&quot;2,6&quot;</td><td>&quot;77&quot;</td><td>&quot;27&quot;</td><td>&quot;49&quot;</td><td>&quot;1,0&quot;</td><td>&quot;3,1&quot;</td><td>0.3</td><td>&quot;53&quot;</td><td>&quot;72&quot;</td><td>22.0</td></tr><tr><td>&quot;4,1&quot;</td><td>&quot;3,6&quot;</td><td>&quot;4,0&quot;</td><td>&quot;98&quot;</td><td>&quot;54&quot;</td><td>&quot;44&quot;</td><td>&quot;1,3&quot;</td><td>&quot;3,4&quot;</td><td>0.8</td><td>&quot;64&quot;</td><td>&quot;59&quot;</td><td>null</td></tr></tbody></table></div>"
      ],
      "text/plain": [
       "shape: (5, 12)\n",
       "┌────────────┬────────────┬────────────┬────────────┬───┬───────────┬───────────┬───────────┬──────┐\n",
       "│ full_wards ┆ full_wards ┆ full_wards ┆ full_wards ┆ … ┆ full_ward ┆ full_ward ┆ full_ward ┆ bmi  │\n",
       "│ _ecg_right ┆ _ecg_left_ ┆ _ecg_right ┆ _ecg_end_d ┆   ┆ s_ecg_asc ┆ s_ecg_age ┆ s_ecg_hea ┆ ---  │\n",
       "│ _atrium    ┆ atrium     ┆ _ventricle ┆ iastolic_v ┆   ┆ ending_ao ┆ ---       ┆ rt_rate   ┆ f64  │\n",
       "│ ---        ┆ ---        ┆ ---        ┆ …          ┆   ┆ rta       ┆ str       ┆ ---       ┆      │\n",
       "│ str        ┆ str        ┆ str        ┆ ---        ┆   ┆ ---       ┆           ┆ str       ┆      │\n",
       "│            ┆            ┆            ┆ str        ┆   ┆ f64       ┆           ┆           ┆      │\n",
       "╞════════════╪════════════╪════════════╪════════════╪═══╪═══════════╪═══════════╪═══════════╪══════╡\n",
       "│ 3,4        ┆ 4,5        ┆ 3,0        ┆ 97         ┆ … ┆ 0.6       ┆ 66        ┆ 48        ┆ 26.0 │\n",
       "│ 3,6        ┆ 4,0        ┆ 2,8        ┆ 133        ┆ … ┆ 0.1       ┆ 69        ┆ 60        ┆ 20.0 │\n",
       "│ 3,8        ┆ 4,0        ┆ 2,7        ┆ 126        ┆ … ┆ 0.7       ┆ 72        ┆ 68        ┆ 33.0 │\n",
       "│ 3,1        ┆ 3,2        ┆ 2,6        ┆ 77         ┆ … ┆ 0.3       ┆ 53        ┆ 72        ┆ 22.0 │\n",
       "│ 4,1        ┆ 3,6        ┆ 4,0        ┆ 98         ┆ … ┆ 0.8       ┆ 64        ┆ 59        ┆ null │\n",
       "└────────────┴────────────┴────────────┴────────────┴───┴───────────┴───────────┴───────────┴──────┘"
      ]
     },
     "execution_count": 70,
     "metadata": {},
     "output_type": "execute_result"
    }
   ],
   "source": [
    "(\n",
    "    labeled_data.select(\n",
    "        \"full_wards_ecg_right_atrium\",\n",
    "        \"full_wards_ecg_left_atrium\",\n",
    "        \"full_wards_ecg_right_ventricle\",\n",
    "        \"full_wards_ecg_end_diastolic_volume\",\n",
    "        \"full_wards_ecg_end_systolic_volume\",\n",
    "        \"full_wards_ecg_stroke_volume\",\n",
    "        \"full_wards_ecg_ventricular_septal\",\n",
    "        \"full_wards_ecg_aorta_diameter_valsalva_sinuses\",\n",
    "        \"full_wards_ecg_ascending_aorta\",\n",
    "        \"full_wards_ecg_age\",\n",
    "        \"full_wards_ecg_heart_rate\",\n",
    "        \"bmi\",\n",
    "    )\n",
    "    #\n",
    "    .head()\n",
    "    # .null_count()\n",
    ")"
   ]
  },
  {
   "cell_type": "code",
   "execution_count": 71,
   "metadata": {},
   "outputs": [],
   "source": [
    "cols = [\n",
    "    \"full_wards_ecg_right_atrium\",\n",
    "    \"full_wards_ecg_left_atrium\",\n",
    "    \"full_wards_ecg_right_ventricle\",\n",
    "    \"full_wards_ecg_end_diastolic_volume\",\n",
    "    \"full_wards_ecg_end_systolic_volume\",\n",
    "    \"full_wards_ecg_stroke_volume\",\n",
    "    \"full_wards_ecg_ventricular_septal\",\n",
    "    \"full_wards_ecg_aorta_diameter_valsalva_sinuses\",\n",
    "    \"full_wards_ecg_age\",\n",
    "    \"full_wards_ecg_heart_rate\",\n",
    "    # \"bmi\",\n",
    "]"
   ]
  },
  {
   "cell_type": "code",
   "execution_count": 72,
   "metadata": {},
   "outputs": [],
   "source": [
    "for col in cols:\n",
    "    labeled_data = labeled_data.with_columns(\n",
    "        c(col).str.replace(\",\", \".\").cast(pl.Float64)\n",
    "    )"
   ]
  },
  {
   "cell_type": "code",
   "execution_count": 73,
   "metadata": {},
   "outputs": [],
   "source": [
    "labeled_data = labeled_data.with_columns(\n",
    "    c(\"final_table1_main_desease_status\")\n",
    "    .replace(\n",
    "        {\n",
    "            \"Впервые в жизни установленное хроническое\": 0,\n",
    "            \"Ранее установленное хроническое\": 1,\n",
    "            \"Острое\": 2,\n",
    "            \"None\": None,\n",
    "        }\n",
    "    )\n",
    "    .cast(pl.Int64)\n",
    ")"
   ]
  },
  {
   "cell_type": "code",
   "execution_count": 74,
   "metadata": {},
   "outputs": [],
   "source": [
    "labeled_data = labeled_data.with_columns(\n",
    "    c(\"condition_status\")\n",
    "    .replace(\n",
    "        {\n",
    "            \"Удовлетворительное\": 0,\n",
    "            \"Средней тяжести\": 1,\n",
    "            \"Тяжелое\": 2,\n",
    "            \"Тяжелое', 'Жалобы: __\": 2,\n",
    "            \"Крайне тяжелое\": 3,\n",
    "        }\n",
    "    )\n",
    "    .cast(pl.Int64)\n",
    ")"
   ]
  },
  {
   "cell_type": "code",
   "execution_count": 75,
   "metadata": {},
   "outputs": [],
   "source": [
    "labeled_data = labeled_data.with_columns(\n",
    "    c(\"final_table1_gospitalization_result\")\n",
    "    .replace(\n",
    "        {\n",
    "            \"Улучшение\": 0,\n",
    "            \"Без изменения\": 1,\n",
    "            \"Ухудшение\": 2,\n",
    "            \"Летальный исход\": 3,\n",
    "        }\n",
    "    )\n",
    "    .cast(pl.Int64)\n",
    ")"
   ]
  },
  {
   "cell_type": "code",
   "execution_count": 76,
   "metadata": {},
   "outputs": [
    {
     "data": {
      "text/html": [
       "<div><style>\n",
       ".dataframe > thead > tr,\n",
       ".dataframe > tbody > tr {\n",
       "  text-align: right;\n",
       "  white-space: pre-wrap;\n",
       "}\n",
       "</style>\n",
       "<small>shape: (3, 73)</small><table border=\"1\" class=\"dataframe\"><thead><tr><th>admission_datetime</th><th>gender</th><th>patient_id</th><th>gospitalisation_type</th><th>gospitalisation_delivery</th><th>target</th><th>final_table1_main_desease_status</th><th>final_table1_gospitalization_result</th><th>condition_status</th><th>full_wards_ecg_right_atrium</th><th>full_wards_ecg_left_atrium</th><th>full_wards_ecg_right_ventricle</th><th>full_wards_ecg_end_diastolic_volume</th><th>full_wards_ecg_end_systolic_volume</th><th>full_wards_ecg_stroke_volume</th><th>full_wards_ecg_ejection_fraction</th><th>full_wards_ecg_ventricular_septal</th><th>full_wards_ecg_aorta_diameter_valsalva_sinuses</th><th>full_wards_ecg_ascending_aorta</th><th>full_wards_ecg_age</th><th>full_wards_ecg_heart_rate</th><th>main_disease_I21</th><th>main_disease_I20</th><th>disease_K29</th><th>disease_I83</th><th>disease_I49</th><th>disease_I48</th><th>disease_K86</th><th>disease_U07</th><th>disease_D50</th><th>disease_I70</th><th>disease_J42</th><th>disease_N28</th><th>disease_I45</th><th>disease_I35</th><th>disease_N40</th><th>disease_E06</th><th>disease_E66</th><th>disease_J44</th><th>disease_I11</th><th>disease_I67</th><th>disease_E04</th><th>disease_K25</th><th>disease_I69</th><th>disease_B18</th><th>disease_J45</th><th>disease_E11</th><th>disease_G93</th><th>disease_C34</th><th>disease_I34</th><th>disease_I25</th><th>disease_I63</th><th>disease_E03</th><th>disease_K80</th><th>disease_E74</th><th>disease_E10</th><th>disease_L40</th><th>disease_I50</th><th>disease_H90</th><th>disease_M42</th><th>disease_D64</th><th>disease_N20</th><th>disease_M10</th><th>disease_I44</th><th>disease_C50</th><th>disease_I71</th><th>disease_I64</th><th>disease_N18</th><th>disease_K26</th><th>disease_C61</th><th>disease_C18</th><th>disease_I47</th><th>bmi</th></tr><tr><td>date</td><td>i64</td><td>str</td><td>i64</td><td>i64</td><td>i32</td><td>i64</td><td>i64</td><td>i64</td><td>f64</td><td>f64</td><td>f64</td><td>f64</td><td>f64</td><td>f64</td><td>f64</td><td>f64</td><td>f64</td><td>f64</td><td>f64</td><td>f64</td><td>i32</td><td>i32</td><td>bool</td><td>bool</td><td>bool</td><td>bool</td><td>bool</td><td>bool</td><td>bool</td><td>bool</td><td>bool</td><td>bool</td><td>bool</td><td>bool</td><td>bool</td><td>bool</td><td>bool</td><td>bool</td><td>bool</td><td>bool</td><td>bool</td><td>bool</td><td>bool</td><td>bool</td><td>bool</td><td>bool</td><td>bool</td><td>bool</td><td>bool</td><td>bool</td><td>bool</td><td>bool</td><td>bool</td><td>bool</td><td>bool</td><td>bool</td><td>bool</td><td>bool</td><td>bool</td><td>bool</td><td>bool</td><td>bool</td><td>bool</td><td>bool</td><td>bool</td><td>bool</td><td>bool</td><td>bool</td><td>bool</td><td>bool</td><td>bool</td><td>f64</td></tr></thead><tbody><tr><td>2022-11-17</td><td>1</td><td>&quot;520F7224-F8A3-13FE-E055-000000…</td><td>0</td><td>0</td><td>-1</td><td>1</td><td>0</td><td>0</td><td>3.4</td><td>4.5</td><td>3.0</td><td>97.0</td><td>35.0</td><td>62.0</td><td>64.0</td><td>1.5</td><td>3.7</td><td>0.6</td><td>66.0</td><td>48.0</td><td>0</td><td>1</td><td>false</td><td>false</td><td>false</td><td>true</td><td>false</td><td>false</td><td>false</td><td>false</td><td>false</td><td>false</td><td>false</td><td>false</td><td>false</td><td>false</td><td>false</td><td>false</td><td>true</td><td>false</td><td>false</td><td>false</td><td>false</td><td>false</td><td>false</td><td>true</td><td>false</td><td>false</td><td>false</td><td>false</td><td>false</td><td>false</td><td>false</td><td>false</td><td>false</td><td>false</td><td>true</td><td>false</td><td>false</td><td>false</td><td>false</td><td>false</td><td>false</td><td>false</td><td>false</td><td>false</td><td>false</td><td>false</td><td>false</td><td>false</td><td>false</td><td>26.0</td></tr><tr><td>2021-03-26</td><td>1</td><td>&quot;121147A3-665C-46B3-BBFB-B18060…</td><td>0</td><td>0</td><td>-1</td><td>1</td><td>0</td><td>0</td><td>3.6</td><td>4.0</td><td>2.8</td><td>133.0</td><td>60.0</td><td>74.0</td><td>55.0</td><td>null</td><td>4.4</td><td>0.1</td><td>69.0</td><td>60.0</td><td>1</td><td>0</td><td>false</td><td>false</td><td>false</td><td>false</td><td>false</td><td>false</td><td>false</td><td>false</td><td>false</td><td>false</td><td>false</td><td>false</td><td>false</td><td>false</td><td>false</td><td>false</td><td>true</td><td>false</td><td>false</td><td>false</td><td>false</td><td>false</td><td>false</td><td>false</td><td>false</td><td>true</td><td>false</td><td>false</td><td>false</td><td>false</td><td>false</td><td>false</td><td>false</td><td>false</td><td>true</td><td>false</td><td>false</td><td>false</td><td>false</td><td>false</td><td>false</td><td>false</td><td>false</td><td>false</td><td>false</td><td>false</td><td>false</td><td>false</td><td>false</td><td>20.0</td></tr><tr><td>2022-06-01</td><td>1</td><td>&quot;60A9D420-4628-4631-BB0A-B2F8AD…</td><td>0</td><td>1</td><td>0</td><td>2</td><td>0</td><td>0</td><td>3.8</td><td>4.0</td><td>2.7</td><td>126.0</td><td>58.0</td><td>68.0</td><td>null</td><td>2.0</td><td>3.5</td><td>0.7</td><td>72.0</td><td>68.0</td><td>1</td><td>0</td><td>false</td><td>false</td><td>false</td><td>false</td><td>false</td><td>false</td><td>false</td><td>false</td><td>false</td><td>false</td><td>false</td><td>false</td><td>false</td><td>false</td><td>true</td><td>false</td><td>true</td><td>false</td><td>false</td><td>false</td><td>false</td><td>false</td><td>false</td><td>false</td><td>false</td><td>false</td><td>false</td><td>false</td><td>false</td><td>false</td><td>false</td><td>false</td><td>false</td><td>false</td><td>true</td><td>false</td><td>false</td><td>false</td><td>false</td><td>false</td><td>false</td><td>false</td><td>false</td><td>false</td><td>false</td><td>false</td><td>false</td><td>false</td><td>false</td><td>33.0</td></tr></tbody></table></div>"
      ],
      "text/plain": [
       "shape: (3, 73)\n",
       "┌─────────────┬────────┬────────────┬────────────┬───┬────────────┬────────────┬────────────┬──────┐\n",
       "│ admission_d ┆ gender ┆ patient_id ┆ gospitalis ┆ … ┆ disease_C6 ┆ disease_C1 ┆ disease_I4 ┆ bmi  │\n",
       "│ atetime     ┆ ---    ┆ ---        ┆ ation_type ┆   ┆ 1          ┆ 8          ┆ 7          ┆ ---  │\n",
       "│ ---         ┆ i64    ┆ str        ┆ ---        ┆   ┆ ---        ┆ ---        ┆ ---        ┆ f64  │\n",
       "│ date        ┆        ┆            ┆ i64        ┆   ┆ bool       ┆ bool       ┆ bool       ┆      │\n",
       "╞═════════════╪════════╪════════════╪════════════╪═══╪════════════╪════════════╪════════════╪══════╡\n",
       "│ 2022-11-17  ┆ 1      ┆ 520F7224-F ┆ 0          ┆ … ┆ false      ┆ false      ┆ false      ┆ 26.0 │\n",
       "│             ┆        ┆ 8A3-13FE-E ┆            ┆   ┆            ┆            ┆            ┆      │\n",
       "│             ┆        ┆ 055-000000 ┆            ┆   ┆            ┆            ┆            ┆      │\n",
       "│             ┆        ┆ …          ┆            ┆   ┆            ┆            ┆            ┆      │\n",
       "│ 2021-03-26  ┆ 1      ┆ 121147A3-6 ┆ 0          ┆ … ┆ false      ┆ false      ┆ false      ┆ 20.0 │\n",
       "│             ┆        ┆ 65C-46B3-B ┆            ┆   ┆            ┆            ┆            ┆      │\n",
       "│             ┆        ┆ BFB-B18060 ┆            ┆   ┆            ┆            ┆            ┆      │\n",
       "│             ┆        ┆ …          ┆            ┆   ┆            ┆            ┆            ┆      │\n",
       "│ 2022-06-01  ┆ 1      ┆ 60A9D420-4 ┆ 0          ┆ … ┆ false      ┆ false      ┆ false      ┆ 33.0 │\n",
       "│             ┆        ┆ 628-4631-B ┆            ┆   ┆            ┆            ┆            ┆      │\n",
       "│             ┆        ┆ B0A-B2F8AD ┆            ┆   ┆            ┆            ┆            ┆      │\n",
       "│             ┆        ┆ …          ┆            ┆   ┆            ┆            ┆            ┆      │\n",
       "└─────────────┴────────┴────────────┴────────────┴───┴────────────┴────────────┴────────────┴──────┘"
      ]
     },
     "execution_count": 76,
     "metadata": {},
     "output_type": "execute_result"
    }
   ],
   "source": [
    "labeled_data.select(PROCESSED_COLS).head(3)"
   ]
  },
  {
   "cell_type": "markdown",
   "metadata": {},
   "source": [
    "### chech distribution of parsed cols"
   ]
  },
  {
   "cell_type": "code",
   "execution_count": 77,
   "metadata": {},
   "outputs": [],
   "source": [
    "def replace_outliers_with_none(\n",
    "    df: pl.DataFrame,\n",
    "    cols: list[str],\n",
    "    threshold: float = 3.0,\n",
    ") -> pl.DataFrame:\n",
    "    \"\"\"\n",
    "    Replaces outliers in specified columns of a Polars DataFrame with None.\n",
    "\n",
    "    Outliers are defined as values that are more than `threshold` standard deviations\n",
    "    away from the mean.\n",
    "\n",
    "    Args:\n",
    "        df: The Polars DataFrame to process.\n",
    "        cols: A list of column names to check for outliers.\n",
    "        threshold: The number of standard deviations from the mean to consider a value\n",
    "            an outlier.  Defaults to 3.0.\n",
    "\n",
    "    Returns:\n",
    "        A new Polars DataFrame with outliers replaced by None.\n",
    "    \"\"\"\n",
    "    for col in cols:\n",
    "        mean = df[col].mean()\n",
    "        std = df[col].std()\n",
    "        if mean is None or std is None:\n",
    "            continue  # Skip if mean or std is None (e.g., all values are None)\n",
    "        lower_bound = mean - threshold * std\n",
    "        upper_bound = mean + threshold * std\n",
    "\n",
    "        df = df.with_columns(\n",
    "            pl.when((c(col) < lower_bound) | (c(col) > upper_bound))\n",
    "            .then(None)\n",
    "            .otherwise(c(col))\n",
    "            .alias(col)\n",
    "        )\n",
    "    return df\n",
    "\n",
    "\n",
    "cols_to_check = [\n",
    "    \"full_wards_ecg_right_atrium\",\n",
    "    \"full_wards_ecg_left_atrium\",\n",
    "    \"full_wards_ecg_right_ventricle\",\n",
    "    \"full_wards_ecg_end_diastolic_volume\",\n",
    "    \"full_wards_ecg_end_systolic_volume\",\n",
    "    \"full_wards_ecg_stroke_volume\",\n",
    "    \"full_wards_ecg_ventricular_septal\",\n",
    "    \"full_wards_ecg_aorta_diameter_valsalva_sinuses\",\n",
    "    \"full_wards_ecg_age\",\n",
    "    \"full_wards_ecg_heart_rate\",\n",
    "    \"full_wards_ecg_ascending_aorta\",\n",
    "    \"full_wards_ecg_ejection_fraction\",\n",
    "    \"bmi\",\n",
    "]\n",
    "\n",
    "labeled_data_filtered = replace_outliers_with_none(labeled_data, cols_to_check)"
   ]
  },
  {
   "cell_type": "code",
   "execution_count": 78,
   "metadata": {},
   "outputs": [
    {
     "data": {
      "image/png": "[encoded data removed]",
      "text/plain": [
       "<Figure size 640x480 with 1 Axes>"
      ]
     },
     "metadata": {},
     "output_type": "display_data"
    },
    {
     "data": {
      "image/png": "[encoded data removed]",
      "text/plain": [
       "<Figure size 640x480 with 1 Axes>"
      ]
     },
     "metadata": {},
     "output_type": "display_data"
    },
    {
     "data": {
      "image/png": "[encoded data removed]",
      "text/plain": [
       "<Figure size 640x480 with 1 Axes>"
      ]
     },
     "metadata": {},
     "output_type": "display_data"
    },
    {
     "data": {
      "image/png": "[encoded data removed]",
      "text/plain": [
       "<Figure size 640x480 with 1 Axes>"
      ]
     },
     "metadata": {},
     "output_type": "display_data"
    },
    {
     "data": {
      "image/png": "[encoded data removed]",
      "text/plain": [
       "<Figure size 640x480 with 1 Axes>"
      ]
     },
     "metadata": {},
     "output_type": "display_data"
    },
    {
     "data": {
      "image/png": "[encoded data removed]",
      "text/plain": [
       "<Figure size 640x480 with 1 Axes>"
      ]
     },
     "metadata": {},
     "output_type": "display_data"
    },
    {
     "data": {
      "image/png": "[encoded data removed]",
      "text/plain": [
       "<Figure size 640x480 with 1 Axes>"
      ]
     },
     "metadata": {},
     "output_type": "display_data"
    },
    {
     "data": {
      "image/png": "[encoded data removed]",
      "text/plain": [
       "<Figure size 640x480 with 1 Axes>"
      ]
     },
     "metadata": {},
     "output_type": "display_data"
    },
    {
     "data": {
      "image/png": "[encoded data removed]",
      "text/plain": [
       "<Figure size 640x480 with 1 Axes>"
      ]
     },
     "metadata": {},
     "output_type": "display_data"
    },
    {
     "data": {
      "image/png": "[encoded data removed]",
      "text/plain": [
       "<Figure size 640x480 with 1 Axes>"
      ]
     },
     "metadata": {},
     "output_type": "display_data"
    },
    {
     "data": {
      "image/png": "[encoded data removed]",
      "text/plain": [
       "<Figure size 640x480 with 1 Axes>"
      ]
     },
     "metadata": {},
     "output_type": "display_data"
    },
    {
     "data": {
      "image/png": "[encoded data removed]",
      "text/plain": [
       "<Figure size 640x480 with 1 Axes>"
      ]
     },
     "metadata": {},
     "output_type": "display_data"
    },
    {
     "data": {
      "image/png": "[encoded data removed]",
      "text/plain": [
       "<Figure size 640x480 with 1 Axes>"
      ]
     },
     "metadata": {},
     "output_type": "display_data"
    }
   ],
   "source": [
    "for col in cols_to_check:\n",
    "    plt.hist(labeled_data_filtered[col], bins=80)\n",
    "    plt.grid()\n",
    "    plt.title(col)\n",
    "    plt.show()"
   ]
  },
  {
   "cell_type": "code",
   "execution_count": 79,
   "metadata": {},
   "outputs": [],
   "source": [
    "labeled_data_filtered = labeled_data_filtered.with_columns(\n",
    "    pl.when(c(\"bmi\") > 55).then(None).otherwise(c(\"bmi\")).alias(\"bmi\")\n",
    ")"
   ]
  },
  {
   "cell_type": "markdown",
   "metadata": {},
   "source": [
    "### fill missing values"
   ]
  },
  {
   "cell_type": "code",
   "execution_count": 80,
   "metadata": {},
   "outputs": [
    {
     "data": {
      "text/html": [
       "<div><style>\n",
       ".dataframe > thead > tr,\n",
       ".dataframe > tbody > tr {\n",
       "  text-align: right;\n",
       "  white-space: pre-wrap;\n",
       "}\n",
       "</style>\n",
       "<small>shape: (3, 73)</small><table border=\"1\" class=\"dataframe\"><thead><tr><th>admission_datetime</th><th>gender</th><th>patient_id</th><th>gospitalisation_type</th><th>gospitalisation_delivery</th><th>target</th><th>final_table1_main_desease_status</th><th>final_table1_gospitalization_result</th><th>condition_status</th><th>full_wards_ecg_right_atrium</th><th>full_wards_ecg_left_atrium</th><th>full_wards_ecg_right_ventricle</th><th>full_wards_ecg_end_diastolic_volume</th><th>full_wards_ecg_end_systolic_volume</th><th>full_wards_ecg_stroke_volume</th><th>full_wards_ecg_ejection_fraction</th><th>full_wards_ecg_ventricular_septal</th><th>full_wards_ecg_aorta_diameter_valsalva_sinuses</th><th>full_wards_ecg_ascending_aorta</th><th>full_wards_ecg_age</th><th>full_wards_ecg_heart_rate</th><th>main_disease_I21</th><th>main_disease_I20</th><th>disease_K29</th><th>disease_I83</th><th>disease_I49</th><th>disease_I48</th><th>disease_K86</th><th>disease_U07</th><th>disease_D50</th><th>disease_I70</th><th>disease_J42</th><th>disease_N28</th><th>disease_I45</th><th>disease_I35</th><th>disease_N40</th><th>disease_E06</th><th>disease_E66</th><th>disease_J44</th><th>disease_I11</th><th>disease_I67</th><th>disease_E04</th><th>disease_K25</th><th>disease_I69</th><th>disease_B18</th><th>disease_J45</th><th>disease_E11</th><th>disease_G93</th><th>disease_C34</th><th>disease_I34</th><th>disease_I25</th><th>disease_I63</th><th>disease_E03</th><th>disease_K80</th><th>disease_E74</th><th>disease_E10</th><th>disease_L40</th><th>disease_I50</th><th>disease_H90</th><th>disease_M42</th><th>disease_D64</th><th>disease_N20</th><th>disease_M10</th><th>disease_I44</th><th>disease_C50</th><th>disease_I71</th><th>disease_I64</th><th>disease_N18</th><th>disease_K26</th><th>disease_C61</th><th>disease_C18</th><th>disease_I47</th><th>bmi</th></tr><tr><td>date</td><td>i64</td><td>str</td><td>i64</td><td>i64</td><td>i32</td><td>i64</td><td>i64</td><td>i64</td><td>f64</td><td>f64</td><td>f64</td><td>f64</td><td>f64</td><td>f64</td><td>f64</td><td>f64</td><td>f64</td><td>f64</td><td>f64</td><td>f64</td><td>i32</td><td>i32</td><td>bool</td><td>bool</td><td>bool</td><td>bool</td><td>bool</td><td>bool</td><td>bool</td><td>bool</td><td>bool</td><td>bool</td><td>bool</td><td>bool</td><td>bool</td><td>bool</td><td>bool</td><td>bool</td><td>bool</td><td>bool</td><td>bool</td><td>bool</td><td>bool</td><td>bool</td><td>bool</td><td>bool</td><td>bool</td><td>bool</td><td>bool</td><td>bool</td><td>bool</td><td>bool</td><td>bool</td><td>bool</td><td>bool</td><td>bool</td><td>bool</td><td>bool</td><td>bool</td><td>bool</td><td>bool</td><td>bool</td><td>bool</td><td>bool</td><td>bool</td><td>bool</td><td>bool</td><td>bool</td><td>bool</td><td>bool</td><td>bool</td><td>f64</td></tr></thead><tbody><tr><td>2022-11-17</td><td>1</td><td>&quot;520F7224-F8A3-13FE-E055-000000…</td><td>0</td><td>0</td><td>-1</td><td>1</td><td>0</td><td>0</td><td>3.4</td><td>4.5</td><td>3.0</td><td>97.0</td><td>35.0</td><td>62.0</td><td>64.0</td><td>1.5</td><td>3.7</td><td>0.6</td><td>66.0</td><td>48.0</td><td>0</td><td>1</td><td>false</td><td>false</td><td>false</td><td>true</td><td>false</td><td>false</td><td>false</td><td>false</td><td>false</td><td>false</td><td>false</td><td>false</td><td>false</td><td>false</td><td>false</td><td>false</td><td>true</td><td>false</td><td>false</td><td>false</td><td>false</td><td>false</td><td>false</td><td>true</td><td>false</td><td>false</td><td>false</td><td>false</td><td>false</td><td>false</td><td>false</td><td>false</td><td>false</td><td>false</td><td>true</td><td>false</td><td>false</td><td>false</td><td>false</td><td>false</td><td>false</td><td>false</td><td>false</td><td>false</td><td>false</td><td>false</td><td>false</td><td>false</td><td>false</td><td>26.0</td></tr><tr><td>2021-03-26</td><td>1</td><td>&quot;121147A3-665C-46B3-BBFB-B18060…</td><td>0</td><td>0</td><td>-1</td><td>1</td><td>0</td><td>0</td><td>3.6</td><td>4.0</td><td>2.8</td><td>133.0</td><td>60.0</td><td>74.0</td><td>55.0</td><td>null</td><td>4.4</td><td>0.1</td><td>69.0</td><td>60.0</td><td>1</td><td>0</td><td>false</td><td>false</td><td>false</td><td>false</td><td>false</td><td>false</td><td>false</td><td>false</td><td>false</td><td>false</td><td>false</td><td>false</td><td>false</td><td>false</td><td>false</td><td>false</td><td>true</td><td>false</td><td>false</td><td>false</td><td>false</td><td>false</td><td>false</td><td>false</td><td>false</td><td>true</td><td>false</td><td>false</td><td>false</td><td>false</td><td>false</td><td>false</td><td>false</td><td>false</td><td>true</td><td>false</td><td>false</td><td>false</td><td>false</td><td>false</td><td>false</td><td>false</td><td>false</td><td>false</td><td>false</td><td>false</td><td>false</td><td>false</td><td>false</td><td>20.0</td></tr><tr><td>2022-06-01</td><td>1</td><td>&quot;60A9D420-4628-4631-BB0A-B2F8AD…</td><td>0</td><td>1</td><td>0</td><td>2</td><td>0</td><td>0</td><td>3.8</td><td>4.0</td><td>2.7</td><td>126.0</td><td>58.0</td><td>68.0</td><td>null</td><td>null</td><td>3.5</td><td>0.7</td><td>72.0</td><td>68.0</td><td>1</td><td>0</td><td>false</td><td>false</td><td>false</td><td>false</td><td>false</td><td>false</td><td>false</td><td>false</td><td>false</td><td>false</td><td>false</td><td>false</td><td>false</td><td>false</td><td>true</td><td>false</td><td>true</td><td>false</td><td>false</td><td>false</td><td>false</td><td>false</td><td>false</td><td>false</td><td>false</td><td>false</td><td>false</td><td>false</td><td>false</td><td>false</td><td>false</td><td>false</td><td>false</td><td>false</td><td>true</td><td>false</td><td>false</td><td>false</td><td>false</td><td>false</td><td>false</td><td>false</td><td>false</td><td>false</td><td>false</td><td>false</td><td>false</td><td>false</td><td>false</td><td>33.0</td></tr></tbody></table></div>"
      ],
      "text/plain": [
       "shape: (3, 73)\n",
       "┌─────────────┬────────┬────────────┬────────────┬───┬────────────┬────────────┬────────────┬──────┐\n",
       "│ admission_d ┆ gender ┆ patient_id ┆ gospitalis ┆ … ┆ disease_C6 ┆ disease_C1 ┆ disease_I4 ┆ bmi  │\n",
       "│ atetime     ┆ ---    ┆ ---        ┆ ation_type ┆   ┆ 1          ┆ 8          ┆ 7          ┆ ---  │\n",
       "│ ---         ┆ i64    ┆ str        ┆ ---        ┆   ┆ ---        ┆ ---        ┆ ---        ┆ f64  │\n",
       "│ date        ┆        ┆            ┆ i64        ┆   ┆ bool       ┆ bool       ┆ bool       ┆      │\n",
       "╞═════════════╪════════╪════════════╪════════════╪═══╪════════════╪════════════╪════════════╪══════╡\n",
       "│ 2022-11-17  ┆ 1      ┆ 520F7224-F ┆ 0          ┆ … ┆ false      ┆ false      ┆ false      ┆ 26.0 │\n",
       "│             ┆        ┆ 8A3-13FE-E ┆            ┆   ┆            ┆            ┆            ┆      │\n",
       "│             ┆        ┆ 055-000000 ┆            ┆   ┆            ┆            ┆            ┆      │\n",
       "│             ┆        ┆ …          ┆            ┆   ┆            ┆            ┆            ┆      │\n",
       "│ 2021-03-26  ┆ 1      ┆ 121147A3-6 ┆ 0          ┆ … ┆ false      ┆ false      ┆ false      ┆ 20.0 │\n",
       "│             ┆        ┆ 65C-46B3-B ┆            ┆   ┆            ┆            ┆            ┆      │\n",
       "│             ┆        ┆ BFB-B18060 ┆            ┆   ┆            ┆            ┆            ┆      │\n",
       "│             ┆        ┆ …          ┆            ┆   ┆            ┆            ┆            ┆      │\n",
       "│ 2022-06-01  ┆ 1      ┆ 60A9D420-4 ┆ 0          ┆ … ┆ false      ┆ false      ┆ false      ┆ 33.0 │\n",
       "│             ┆        ┆ 628-4631-B ┆            ┆   ┆            ┆            ┆            ┆      │\n",
       "│             ┆        ┆ B0A-B2F8AD ┆            ┆   ┆            ┆            ┆            ┆      │\n",
       "│             ┆        ┆ …          ┆            ┆   ┆            ┆            ┆            ┆      │\n",
       "└─────────────┴────────┴────────────┴────────────┴───┴────────────┴────────────┴────────────┴──────┘"
      ]
     },
     "execution_count": 80,
     "metadata": {},
     "output_type": "execute_result"
    }
   ],
   "source": [
    "labeled_data_filtered.select(PROCESSED_COLS).head(3)"
   ]
  },
  {
   "cell_type": "code",
   "execution_count": 81,
   "metadata": {},
   "outputs": [
    {
     "data": {
      "text/html": [
       "<div><style>\n",
       ".dataframe > thead > tr,\n",
       ".dataframe > tbody > tr {\n",
       "  text-align: right;\n",
       "  white-space: pre-wrap;\n",
       "}\n",
       "</style>\n",
       "<small>shape: (1, 73)</small><table border=\"1\" class=\"dataframe\"><thead><tr><th>admission_datetime</th><th>gender</th><th>patient_id</th><th>gospitalisation_type</th><th>gospitalisation_delivery</th><th>target</th><th>final_table1_main_desease_status</th><th>final_table1_gospitalization_result</th><th>condition_status</th><th>full_wards_ecg_right_atrium</th><th>full_wards_ecg_left_atrium</th><th>full_wards_ecg_right_ventricle</th><th>full_wards_ecg_end_diastolic_volume</th><th>full_wards_ecg_end_systolic_volume</th><th>full_wards_ecg_stroke_volume</th><th>full_wards_ecg_ejection_fraction</th><th>full_wards_ecg_ventricular_septal</th><th>full_wards_ecg_aorta_diameter_valsalva_sinuses</th><th>full_wards_ecg_ascending_aorta</th><th>full_wards_ecg_age</th><th>full_wards_ecg_heart_rate</th><th>main_disease_I21</th><th>main_disease_I20</th><th>disease_K29</th><th>disease_I83</th><th>disease_I49</th><th>disease_I48</th><th>disease_K86</th><th>disease_U07</th><th>disease_D50</th><th>disease_I70</th><th>disease_J42</th><th>disease_N28</th><th>disease_I45</th><th>disease_I35</th><th>disease_N40</th><th>disease_E06</th><th>disease_E66</th><th>disease_J44</th><th>disease_I11</th><th>disease_I67</th><th>disease_E04</th><th>disease_K25</th><th>disease_I69</th><th>disease_B18</th><th>disease_J45</th><th>disease_E11</th><th>disease_G93</th><th>disease_C34</th><th>disease_I34</th><th>disease_I25</th><th>disease_I63</th><th>disease_E03</th><th>disease_K80</th><th>disease_E74</th><th>disease_E10</th><th>disease_L40</th><th>disease_I50</th><th>disease_H90</th><th>disease_M42</th><th>disease_D64</th><th>disease_N20</th><th>disease_M10</th><th>disease_I44</th><th>disease_C50</th><th>disease_I71</th><th>disease_I64</th><th>disease_N18</th><th>disease_K26</th><th>disease_C61</th><th>disease_C18</th><th>disease_I47</th><th>bmi</th></tr><tr><td>u32</td><td>u32</td><td>u32</td><td>u32</td><td>u32</td><td>u32</td><td>u32</td><td>u32</td><td>u32</td><td>u32</td><td>u32</td><td>u32</td><td>u32</td><td>u32</td><td>u32</td><td>u32</td><td>u32</td><td>u32</td><td>u32</td><td>u32</td><td>u32</td><td>u32</td><td>u32</td><td>u32</td><td>u32</td><td>u32</td><td>u32</td><td>u32</td><td>u32</td><td>u32</td><td>u32</td><td>u32</td><td>u32</td><td>u32</td><td>u32</td><td>u32</td><td>u32</td><td>u32</td><td>u32</td><td>u32</td><td>u32</td><td>u32</td><td>u32</td><td>u32</td><td>u32</td><td>u32</td><td>u32</td><td>u32</td><td>u32</td><td>u32</td><td>u32</td><td>u32</td><td>u32</td><td>u32</td><td>u32</td><td>u32</td><td>u32</td><td>u32</td><td>u32</td><td>u32</td><td>u32</td><td>u32</td><td>u32</td><td>u32</td><td>u32</td><td>u32</td><td>u32</td><td>u32</td><td>u32</td><td>u32</td><td>u32</td><td>u32</td><td>u32</td></tr></thead><tbody><tr><td>0</td><td>0</td><td>0</td><td>0</td><td>0</td><td>0</td><td>69</td><td>0</td><td>0</td><td>343</td><td>347</td><td>345</td><td>535</td><td>549</td><td>578</td><td>684</td><td>1156</td><td>551</td><td>902</td><td>74</td><td>392</td><td>3</td><td>3</td><td>0</td><td>0</td><td>0</td><td>0</td><td>0</td><td>0</td><td>0</td><td>0</td><td>0</td><td>0</td><td>0</td><td>0</td><td>0</td><td>0</td><td>0</td><td>0</td><td>0</td><td>0</td><td>0</td><td>0</td><td>0</td><td>0</td><td>0</td><td>0</td><td>0</td><td>0</td><td>0</td><td>0</td><td>0</td><td>0</td><td>0</td><td>0</td><td>0</td><td>0</td><td>0</td><td>0</td><td>0</td><td>0</td><td>0</td><td>0</td><td>0</td><td>0</td><td>0</td><td>0</td><td>0</td><td>0</td><td>0</td><td>0</td><td>0</td><td>3087</td></tr></tbody></table></div>"
      ],
      "text/plain": [
       "shape: (1, 73)\n",
       "┌─────────────┬────────┬────────────┬────────────┬───┬────────────┬────────────┬────────────┬──────┐\n",
       "│ admission_d ┆ gender ┆ patient_id ┆ gospitalis ┆ … ┆ disease_C6 ┆ disease_C1 ┆ disease_I4 ┆ bmi  │\n",
       "│ atetime     ┆ ---    ┆ ---        ┆ ation_type ┆   ┆ 1          ┆ 8          ┆ 7          ┆ ---  │\n",
       "│ ---         ┆ u32    ┆ u32        ┆ ---        ┆   ┆ ---        ┆ ---        ┆ ---        ┆ u32  │\n",
       "│ u32         ┆        ┆            ┆ u32        ┆   ┆ u32        ┆ u32        ┆ u32        ┆      │\n",
       "╞═════════════╪════════╪════════════╪════════════╪═══╪════════════╪════════════╪════════════╪══════╡\n",
       "│ 0           ┆ 0      ┆ 0          ┆ 0          ┆ … ┆ 0          ┆ 0          ┆ 0          ┆ 3087 │\n",
       "└─────────────┴────────┴────────────┴────────────┴───┴────────────┴────────────┴────────────┴──────┘"
      ]
     },
     "execution_count": 81,
     "metadata": {},
     "output_type": "execute_result"
    }
   ],
   "source": [
    "labeled_data_filtered.select(PROCESSED_COLS).null_count()"
   ]
  },
  {
   "cell_type": "code",
   "execution_count": 82,
   "metadata": {},
   "outputs": [],
   "source": [
    "def mice_imputation_polars(df: pl.DataFrame, numerical_cols: list) -> pl.DataFrame:\n",
    "    \"\"\"\n",
    "    Implements MICE imputation using Polars and pandas.\n",
    "\n",
    "    Args:\n",
    "        df: Polars DataFrame.\n",
    "        numerical_cols: List of numerical columns to impute.\n",
    "\n",
    "    Returns:\n",
    "        Polars DataFrame with imputed values.\n",
    "    \"\"\"\n",
    "    # Convert Polars DataFrame to pandas DataFrame\n",
    "    df_pd = df.to_pandas()\n",
    "\n",
    "    # Initialize IterativeImputer\n",
    "    imputer = IterativeImputer(max_iter=10, random_state=0)\n",
    "\n",
    "    # Impute missing values in the pandas DataFrame\n",
    "    df_pd[numerical_cols] = imputer.fit_transform(df_pd[numerical_cols])\n",
    "\n",
    "    # Convert the imputed pandas DataFrame back to Polars DataFrame\n",
    "    df_pl = pl.from_pandas(df_pd)\n",
    "\n",
    "    return df_pl"
   ]
  },
  {
   "cell_type": "code",
   "execution_count": 83,
   "metadata": {},
   "outputs": [
    {
     "name": "stderr",
     "output_type": "stream",
     "text": [
      "/Users/konstantinburkin/Documents/hse_projects/parse-records/.venv/lib/python3.13/site-packages/sklearn/impute/_iterative.py:895: ConvergenceWarning: [IterativeImputer] Early stopping criterion not reached.\n",
      "  warnings.warn(\n"
     ]
    }
   ],
   "source": [
    "numerical_cols = [\n",
    "    \"full_wards_ecg_right_atrium\",\n",
    "    \"full_wards_ecg_left_atrium\",\n",
    "    \"full_wards_ecg_right_ventricle\",\n",
    "    \"full_wards_ecg_end_diastolic_volume\",\n",
    "    \"full_wards_ecg_end_systolic_volume\",\n",
    "    \"full_wards_ecg_stroke_volume\",\n",
    "    \"full_wards_ecg_ventricular_septal\",\n",
    "    \"full_wards_ecg_aorta_diameter_valsalva_sinuses\",\n",
    "    \"full_wards_ecg_age\",\n",
    "    \"full_wards_ecg_heart_rate\",\n",
    "    \"full_wards_ecg_ascending_aorta\",\n",
    "    \"full_wards_ecg_ejection_fraction\",\n",
    "    \"bmi\",\n",
    "]\n",
    "\n",
    "labeled_data_imputed = mice_imputation_polars(labeled_data_filtered, numerical_cols)"
   ]
  },
  {
   "cell_type": "code",
   "execution_count": 84,
   "metadata": {},
   "outputs": [],
   "source": [
    "discrete_cols = list(\n",
    "    set(PROCESSED_COLS)\n",
    "    - set(numerical_cols)\n",
    "    - set([\"admission_datetime\", \"patient_id\", \"target\"])\n",
    ")"
   ]
  },
  {
   "cell_type": "code",
   "execution_count": 85,
   "metadata": {},
   "outputs": [
    {
     "data": {
      "text/html": [
       "<div><style>\n",
       ".dataframe > thead > tr,\n",
       ".dataframe > tbody > tr {\n",
       "  text-align: right;\n",
       "  white-space: pre-wrap;\n",
       "}\n",
       "</style>\n",
       "<small>shape: (2, 2)</small><table border=\"1\" class=\"dataframe\"><thead><tr><th>gender</th><th>count</th></tr><tr><td>i64</td><td>u32</td></tr></thead><tbody><tr><td>1</td><td>5337</td></tr><tr><td>0</td><td>1943</td></tr></tbody></table></div>"
      ],
      "text/plain": [
       "shape: (2, 2)\n",
       "┌────────┬───────┐\n",
       "│ gender ┆ count │\n",
       "│ ---    ┆ ---   │\n",
       "│ i64    ┆ u32   │\n",
       "╞════════╪═══════╡\n",
       "│ 1      ┆ 5337  │\n",
       "│ 0      ┆ 1943  │\n",
       "└────────┴───────┘"
      ]
     },
     "execution_count": 85,
     "metadata": {},
     "output_type": "execute_result"
    }
   ],
   "source": [
    "labeled_data_imputed[\"gender\"].value_counts()"
   ]
  },
  {
   "cell_type": "code",
   "execution_count": null,
   "metadata": {},
   "outputs": [],
   "source": []
  },
  {
   "cell_type": "code",
   "execution_count": 86,
   "metadata": {},
   "outputs": [],
   "source": [
    "labeled_data_imputed = labeled_data_imputed.with_columns(\n",
    "    (c(col) * 1.0) for col in discrete_cols\n",
    ")"
   ]
  },
  {
   "cell_type": "code",
   "execution_count": 87,
   "metadata": {},
   "outputs": [
    {
     "data": {
      "text/html": [
       "<div><style>\n",
       ".dataframe > thead > tr,\n",
       ".dataframe > tbody > tr {\n",
       "  text-align: right;\n",
       "  white-space: pre-wrap;\n",
       "}\n",
       "</style>\n",
       "<small>shape: (3, 57)</small><table border=\"1\" class=\"dataframe\"><thead><tr><th>disease_K29</th><th>main_disease_I21</th><th>disease_I83</th><th>disease_I49</th><th>disease_I48</th><th>disease_K86</th><th>disease_U07</th><th>disease_D50</th><th>disease_I70</th><th>disease_J42</th><th>disease_N28</th><th>disease_I35</th><th>disease_I45</th><th>disease_N40</th><th>disease_E06</th><th>disease_E66</th><th>gospitalisation_delivery</th><th>main_disease_I20</th><th>final_table1_gospitalization_result</th><th>disease_J44</th><th>disease_I11</th><th>disease_I67</th><th>disease_E04</th><th>disease_K25</th><th>disease_I69</th><th>disease_B18</th><th>disease_J45</th><th>disease_E11</th><th>disease_G93</th><th>condition_status</th><th>disease_C34</th><th>disease_I34</th><th>gender</th><th>disease_I25</th><th>disease_I63</th><th>final_table1_main_desease_status</th><th>disease_E03</th><th>disease_K80</th><th>disease_L40</th><th>disease_E74</th><th>disease_E10</th><th>disease_I50</th><th>disease_H90</th><th>disease_M42</th><th>disease_D64</th><th>gospitalisation_type</th><th>disease_N20</th><th>disease_M10</th><th>disease_I44</th><th>disease_C50</th><th>disease_I71</th><th>disease_I64</th><th>disease_N18</th><th>disease_K26</th><th>disease_C61</th><th>disease_C18</th><th>disease_I47</th></tr><tr><td>f64</td><td>f64</td><td>f64</td><td>f64</td><td>f64</td><td>f64</td><td>f64</td><td>f64</td><td>f64</td><td>f64</td><td>f64</td><td>f64</td><td>f64</td><td>f64</td><td>f64</td><td>f64</td><td>f64</td><td>f64</td><td>f64</td><td>f64</td><td>f64</td><td>f64</td><td>f64</td><td>f64</td><td>f64</td><td>f64</td><td>f64</td><td>f64</td><td>f64</td><td>f64</td><td>f64</td><td>f64</td><td>f64</td><td>f64</td><td>f64</td><td>f64</td><td>f64</td><td>f64</td><td>f64</td><td>f64</td><td>f64</td><td>f64</td><td>f64</td><td>f64</td><td>f64</td><td>f64</td><td>f64</td><td>f64</td><td>f64</td><td>f64</td><td>f64</td><td>f64</td><td>f64</td><td>f64</td><td>f64</td><td>f64</td><td>f64</td></tr></thead><tbody><tr><td>0.0</td><td>0.0</td><td>0.0</td><td>0.0</td><td>1.0</td><td>0.0</td><td>0.0</td><td>0.0</td><td>0.0</td><td>0.0</td><td>0.0</td><td>0.0</td><td>0.0</td><td>0.0</td><td>0.0</td><td>0.0</td><td>0.0</td><td>1.0</td><td>0.0</td><td>0.0</td><td>1.0</td><td>0.0</td><td>0.0</td><td>0.0</td><td>0.0</td><td>0.0</td><td>0.0</td><td>1.0</td><td>0.0</td><td>0.0</td><td>0.0</td><td>0.0</td><td>1.0</td><td>0.0</td><td>0.0</td><td>1.0</td><td>0.0</td><td>0.0</td><td>0.0</td><td>0.0</td><td>0.0</td><td>1.0</td><td>0.0</td><td>0.0</td><td>0.0</td><td>0.0</td><td>0.0</td><td>0.0</td><td>0.0</td><td>0.0</td><td>0.0</td><td>0.0</td><td>0.0</td><td>0.0</td><td>0.0</td><td>0.0</td><td>0.0</td></tr><tr><td>0.0</td><td>1.0</td><td>0.0</td><td>0.0</td><td>0.0</td><td>0.0</td><td>0.0</td><td>0.0</td><td>0.0</td><td>0.0</td><td>0.0</td><td>0.0</td><td>0.0</td><td>0.0</td><td>0.0</td><td>0.0</td><td>0.0</td><td>0.0</td><td>0.0</td><td>0.0</td><td>1.0</td><td>0.0</td><td>0.0</td><td>0.0</td><td>0.0</td><td>0.0</td><td>0.0</td><td>0.0</td><td>0.0</td><td>0.0</td><td>1.0</td><td>0.0</td><td>1.0</td><td>0.0</td><td>0.0</td><td>1.0</td><td>0.0</td><td>0.0</td><td>0.0</td><td>0.0</td><td>0.0</td><td>1.0</td><td>0.0</td><td>0.0</td><td>0.0</td><td>0.0</td><td>0.0</td><td>0.0</td><td>0.0</td><td>0.0</td><td>0.0</td><td>0.0</td><td>0.0</td><td>0.0</td><td>0.0</td><td>0.0</td><td>0.0</td></tr><tr><td>0.0</td><td>1.0</td><td>0.0</td><td>0.0</td><td>0.0</td><td>0.0</td><td>0.0</td><td>0.0</td><td>0.0</td><td>0.0</td><td>0.0</td><td>0.0</td><td>0.0</td><td>0.0</td><td>0.0</td><td>1.0</td><td>1.0</td><td>0.0</td><td>0.0</td><td>0.0</td><td>1.0</td><td>0.0</td><td>0.0</td><td>0.0</td><td>0.0</td><td>0.0</td><td>0.0</td><td>0.0</td><td>0.0</td><td>0.0</td><td>0.0</td><td>0.0</td><td>1.0</td><td>0.0</td><td>0.0</td><td>2.0</td><td>0.0</td><td>0.0</td><td>0.0</td><td>0.0</td><td>0.0</td><td>1.0</td><td>0.0</td><td>0.0</td><td>0.0</td><td>0.0</td><td>0.0</td><td>0.0</td><td>0.0</td><td>0.0</td><td>0.0</td><td>0.0</td><td>0.0</td><td>0.0</td><td>0.0</td><td>0.0</td><td>0.0</td></tr></tbody></table></div>"
      ],
      "text/plain": [
       "shape: (3, 57)\n",
       "┌───────────┬───────────┬───────────┬───────────┬───┬───────────┬───────────┬───────────┬──────────┐\n",
       "│ disease_K ┆ main_dise ┆ disease_I ┆ disease_I ┆ … ┆ disease_K ┆ disease_C ┆ disease_C ┆ disease_ │\n",
       "│ 29        ┆ ase_I21   ┆ 83        ┆ 49        ┆   ┆ 26        ┆ 61        ┆ 18        ┆ I47      │\n",
       "│ ---       ┆ ---       ┆ ---       ┆ ---       ┆   ┆ ---       ┆ ---       ┆ ---       ┆ ---      │\n",
       "│ f64       ┆ f64       ┆ f64       ┆ f64       ┆   ┆ f64       ┆ f64       ┆ f64       ┆ f64      │\n",
       "╞═══════════╪═══════════╪═══════════╪═══════════╪═══╪═══════════╪═══════════╪═══════════╪══════════╡\n",
       "│ 0.0       ┆ 0.0       ┆ 0.0       ┆ 0.0       ┆ … ┆ 0.0       ┆ 0.0       ┆ 0.0       ┆ 0.0      │\n",
       "│ 0.0       ┆ 1.0       ┆ 0.0       ┆ 0.0       ┆ … ┆ 0.0       ┆ 0.0       ┆ 0.0       ┆ 0.0      │\n",
       "│ 0.0       ┆ 1.0       ┆ 0.0       ┆ 0.0       ┆ … ┆ 0.0       ┆ 0.0       ┆ 0.0       ┆ 0.0      │\n",
       "└───────────┴───────────┴───────────┴───────────┴───┴───────────┴───────────┴───────────┴──────────┘"
      ]
     },
     "execution_count": 87,
     "metadata": {},
     "output_type": "execute_result"
    }
   ],
   "source": [
    "labeled_data_imputed.select(discrete_cols).head(3)"
   ]
  },
  {
   "cell_type": "code",
   "execution_count": 91,
   "metadata": {},
   "outputs": [
    {
     "name": "stderr",
     "output_type": "stream",
     "text": [
      "/Users/konstantinburkin/Documents/hse_projects/parse-records/.venv/lib/python3.13/site-packages/sklearn/linear_model/_logistic.py:465: ConvergenceWarning: lbfgs failed to converge (status=1):\n",
      "STOP: TOTAL NO. OF ITERATIONS REACHED LIMIT.\n",
      "\n",
      "Increase the number of iterations (max_iter) or scale the data as shown in:\n",
      "    https://scikit-learn.org/stable/modules/preprocessing.html\n",
      "Please also refer to the documentation for alternative solver options:\n",
      "    https://scikit-learn.org/stable/modules/linear_model.html#logistic-regression\n",
      "  n_iter_i = _check_optimize_result(\n"
     ]
    }
   ],
   "source": [
    "def mice_imputation_polars(df: pl.DataFrame, numerical_cols: list) -> pl.DataFrame:\n",
    "    \"\"\"\n",
    "    Implements MICE imputation using Polars and pandas.\n",
    "\n",
    "    Args:\n",
    "        df: Polars DataFrame.\n",
    "        numerical_cols: List of numerical columns to impute.\n",
    "\n",
    "    Returns:\n",
    "        Polars DataFrame with imputed values.\n",
    "    \"\"\"\n",
    "    # Convert Polars DataFrame to pandas DataFrame\n",
    "    df_pd = df.to_pandas()\n",
    "\n",
    "    # Initialize IterativeImputer\n",
    "    imputer = IterativeImputer(\n",
    "        max_iter=10, random_state=0, estimator=LogisticRegression()\n",
    "    )\n",
    "\n",
    "    # Impute missing values in the pandas DataFrame\n",
    "    df_pd[numerical_cols] = imputer.fit_transform(df_pd[numerical_cols])\n",
    "\n",
    "    # Convert the imputed pandas DataFrame back to Polars DataFrame\n",
    "    df_pl = pl.from_pandas(df_pd)\n",
    "\n",
    "    return df_pl\n",
    "\n",
    "\n",
    "labeled_data_imputed = mice_imputation_polars(labeled_data_imputed, discrete_cols)\n",
    "\n",
    "# print(labeled_data.null_count())  # Verify that null counts are reduced"
   ]
  },
  {
   "cell_type": "code",
   "execution_count": 92,
   "metadata": {},
   "outputs": [
    {
     "data": {
      "text/html": [
       "<div><style>\n",
       ".dataframe > thead > tr,\n",
       ".dataframe > tbody > tr {\n",
       "  text-align: right;\n",
       "  white-space: pre-wrap;\n",
       "}\n",
       "</style>\n",
       "<small>shape: (1, 73)</small><table border=\"1\" class=\"dataframe\"><thead><tr><th>admission_datetime</th><th>gender</th><th>patient_id</th><th>gospitalisation_type</th><th>gospitalisation_delivery</th><th>target</th><th>final_table1_main_desease_status</th><th>final_table1_gospitalization_result</th><th>condition_status</th><th>full_wards_ecg_right_atrium</th><th>full_wards_ecg_left_atrium</th><th>full_wards_ecg_right_ventricle</th><th>full_wards_ecg_end_diastolic_volume</th><th>full_wards_ecg_end_systolic_volume</th><th>full_wards_ecg_stroke_volume</th><th>full_wards_ecg_ejection_fraction</th><th>full_wards_ecg_ventricular_septal</th><th>full_wards_ecg_aorta_diameter_valsalva_sinuses</th><th>full_wards_ecg_ascending_aorta</th><th>full_wards_ecg_age</th><th>full_wards_ecg_heart_rate</th><th>main_disease_I21</th><th>main_disease_I20</th><th>disease_K29</th><th>disease_I83</th><th>disease_I49</th><th>disease_I48</th><th>disease_K86</th><th>disease_U07</th><th>disease_D50</th><th>disease_I70</th><th>disease_J42</th><th>disease_N28</th><th>disease_I45</th><th>disease_I35</th><th>disease_N40</th><th>disease_E06</th><th>disease_E66</th><th>disease_J44</th><th>disease_I11</th><th>disease_I67</th><th>disease_E04</th><th>disease_K25</th><th>disease_I69</th><th>disease_B18</th><th>disease_J45</th><th>disease_E11</th><th>disease_G93</th><th>disease_C34</th><th>disease_I34</th><th>disease_I25</th><th>disease_I63</th><th>disease_E03</th><th>disease_K80</th><th>disease_E74</th><th>disease_E10</th><th>disease_L40</th><th>disease_I50</th><th>disease_H90</th><th>disease_M42</th><th>disease_D64</th><th>disease_N20</th><th>disease_M10</th><th>disease_I44</th><th>disease_C50</th><th>disease_I71</th><th>disease_I64</th><th>disease_N18</th><th>disease_K26</th><th>disease_C61</th><th>disease_C18</th><th>disease_I47</th><th>bmi</th></tr><tr><td>u32</td><td>u32</td><td>u32</td><td>u32</td><td>u32</td><td>u32</td><td>u32</td><td>u32</td><td>u32</td><td>u32</td><td>u32</td><td>u32</td><td>u32</td><td>u32</td><td>u32</td><td>u32</td><td>u32</td><td>u32</td><td>u32</td><td>u32</td><td>u32</td><td>u32</td><td>u32</td><td>u32</td><td>u32</td><td>u32</td><td>u32</td><td>u32</td><td>u32</td><td>u32</td><td>u32</td><td>u32</td><td>u32</td><td>u32</td><td>u32</td><td>u32</td><td>u32</td><td>u32</td><td>u32</td><td>u32</td><td>u32</td><td>u32</td><td>u32</td><td>u32</td><td>u32</td><td>u32</td><td>u32</td><td>u32</td><td>u32</td><td>u32</td><td>u32</td><td>u32</td><td>u32</td><td>u32</td><td>u32</td><td>u32</td><td>u32</td><td>u32</td><td>u32</td><td>u32</td><td>u32</td><td>u32</td><td>u32</td><td>u32</td><td>u32</td><td>u32</td><td>u32</td><td>u32</td><td>u32</td><td>u32</td><td>u32</td><td>u32</td><td>u32</td></tr></thead><tbody><tr><td>0</td><td>0</td><td>0</td><td>0</td><td>0</td><td>0</td><td>0</td><td>0</td><td>0</td><td>0</td><td>0</td><td>0</td><td>0</td><td>0</td><td>0</td><td>0</td><td>0</td><td>0</td><td>0</td><td>0</td><td>0</td><td>0</td><td>0</td><td>0</td><td>0</td><td>0</td><td>0</td><td>0</td><td>0</td><td>0</td><td>0</td><td>0</td><td>0</td><td>0</td><td>0</td><td>0</td><td>0</td><td>0</td><td>0</td><td>0</td><td>0</td><td>0</td><td>0</td><td>0</td><td>0</td><td>0</td><td>0</td><td>0</td><td>0</td><td>0</td><td>0</td><td>0</td><td>0</td><td>0</td><td>0</td><td>0</td><td>0</td><td>0</td><td>0</td><td>0</td><td>0</td><td>0</td><td>0</td><td>0</td><td>0</td><td>0</td><td>0</td><td>0</td><td>0</td><td>0</td><td>0</td><td>0</td><td>0</td></tr></tbody></table></div>"
      ],
      "text/plain": [
       "shape: (1, 73)\n",
       "┌─────────────┬────────┬────────────┬─────────────┬───┬────────────┬────────────┬────────────┬─────┐\n",
       "│ admission_d ┆ gender ┆ patient_id ┆ gospitalisa ┆ … ┆ disease_C6 ┆ disease_C1 ┆ disease_I4 ┆ bmi │\n",
       "│ atetime     ┆ ---    ┆ ---        ┆ tion_type   ┆   ┆ 1          ┆ 8          ┆ 7          ┆ --- │\n",
       "│ ---         ┆ u32    ┆ u32        ┆ ---         ┆   ┆ ---        ┆ ---        ┆ ---        ┆ u32 │\n",
       "│ u32         ┆        ┆            ┆ u32         ┆   ┆ u32        ┆ u32        ┆ u32        ┆     │\n",
       "╞═════════════╪════════╪════════════╪═════════════╪═══╪════════════╪════════════╪════════════╪═════╡\n",
       "│ 0           ┆ 0      ┆ 0          ┆ 0           ┆ … ┆ 0          ┆ 0          ┆ 0          ┆ 0   │\n",
       "└─────────────┴────────┴────────────┴─────────────┴───┴────────────┴────────────┴────────────┴─────┘"
      ]
     },
     "execution_count": 92,
     "metadata": {},
     "output_type": "execute_result"
    }
   ],
   "source": [
    "labeled_data_imputed.select(PROCESSED_COLS).null_count()"
   ]
  },
  {
   "cell_type": "code",
   "execution_count": 98,
   "metadata": {},
   "outputs": [],
   "source": [
    "labeled_data_imputed = labeled_data_imputed.with_columns(\n",
    "    (c(col).cast(pl.Int64)) for col in discrete_cols\n",
    ")"
   ]
  },
  {
   "cell_type": "code",
   "execution_count": 100,
   "metadata": {},
   "outputs": [
    {
     "data": {
      "text/html": [
       "<div><style>\n",
       ".dataframe > thead > tr,\n",
       ".dataframe > tbody > tr {\n",
       "  text-align: right;\n",
       "  white-space: pre-wrap;\n",
       "}\n",
       "</style>\n",
       "<small>shape: (2, 57)</small><table border=\"1\" class=\"dataframe\"><thead><tr><th>disease_K29</th><th>main_disease_I21</th><th>disease_I83</th><th>disease_I49</th><th>disease_I48</th><th>disease_K86</th><th>disease_U07</th><th>disease_D50</th><th>disease_I70</th><th>disease_J42</th><th>disease_N28</th><th>disease_I35</th><th>disease_I45</th><th>disease_N40</th><th>disease_E06</th><th>disease_E66</th><th>gospitalisation_delivery</th><th>main_disease_I20</th><th>final_table1_gospitalization_result</th><th>disease_J44</th><th>disease_I11</th><th>disease_I67</th><th>disease_E04</th><th>disease_K25</th><th>disease_I69</th><th>disease_B18</th><th>disease_J45</th><th>disease_E11</th><th>disease_G93</th><th>condition_status</th><th>disease_C34</th><th>disease_I34</th><th>gender</th><th>disease_I25</th><th>disease_I63</th><th>final_table1_main_desease_status</th><th>disease_E03</th><th>disease_K80</th><th>disease_L40</th><th>disease_E74</th><th>disease_E10</th><th>disease_I50</th><th>disease_H90</th><th>disease_M42</th><th>disease_D64</th><th>gospitalisation_type</th><th>disease_N20</th><th>disease_M10</th><th>disease_I44</th><th>disease_C50</th><th>disease_I71</th><th>disease_I64</th><th>disease_N18</th><th>disease_K26</th><th>disease_C61</th><th>disease_C18</th><th>disease_I47</th></tr><tr><td>i64</td><td>i64</td><td>i64</td><td>i64</td><td>i64</td><td>i64</td><td>i64</td><td>i64</td><td>i64</td><td>i64</td><td>i64</td><td>i64</td><td>i64</td><td>i64</td><td>i64</td><td>i64</td><td>i64</td><td>i64</td><td>i64</td><td>i64</td><td>i64</td><td>i64</td><td>i64</td><td>i64</td><td>i64</td><td>i64</td><td>i64</td><td>i64</td><td>i64</td><td>i64</td><td>i64</td><td>i64</td><td>i64</td><td>i64</td><td>i64</td><td>i64</td><td>i64</td><td>i64</td><td>i64</td><td>i64</td><td>i64</td><td>i64</td><td>i64</td><td>i64</td><td>i64</td><td>i64</td><td>i64</td><td>i64</td><td>i64</td><td>i64</td><td>i64</td><td>i64</td><td>i64</td><td>i64</td><td>i64</td><td>i64</td><td>i64</td></tr></thead><tbody><tr><td>0</td><td>0</td><td>0</td><td>0</td><td>1</td><td>0</td><td>0</td><td>0</td><td>0</td><td>0</td><td>0</td><td>0</td><td>0</td><td>0</td><td>0</td><td>0</td><td>0</td><td>1</td><td>0</td><td>0</td><td>1</td><td>0</td><td>0</td><td>0</td><td>0</td><td>0</td><td>0</td><td>1</td><td>0</td><td>0</td><td>0</td><td>0</td><td>1</td><td>0</td><td>0</td><td>1</td><td>0</td><td>0</td><td>0</td><td>0</td><td>0</td><td>1</td><td>0</td><td>0</td><td>0</td><td>0</td><td>0</td><td>0</td><td>0</td><td>0</td><td>0</td><td>0</td><td>0</td><td>0</td><td>0</td><td>0</td><td>0</td></tr><tr><td>0</td><td>1</td><td>0</td><td>0</td><td>0</td><td>0</td><td>0</td><td>0</td><td>0</td><td>0</td><td>0</td><td>0</td><td>0</td><td>0</td><td>0</td><td>0</td><td>0</td><td>0</td><td>0</td><td>0</td><td>1</td><td>0</td><td>0</td><td>0</td><td>0</td><td>0</td><td>0</td><td>0</td><td>0</td><td>0</td><td>1</td><td>0</td><td>1</td><td>0</td><td>0</td><td>1</td><td>0</td><td>0</td><td>0</td><td>0</td><td>0</td><td>1</td><td>0</td><td>0</td><td>0</td><td>0</td><td>0</td><td>0</td><td>0</td><td>0</td><td>0</td><td>0</td><td>0</td><td>0</td><td>0</td><td>0</td><td>0</td></tr></tbody></table></div>"
      ],
      "text/plain": [
       "shape: (2, 57)\n",
       "┌───────────┬───────────┬───────────┬───────────┬───┬───────────┬───────────┬───────────┬──────────┐\n",
       "│ disease_K ┆ main_dise ┆ disease_I ┆ disease_I ┆ … ┆ disease_K ┆ disease_C ┆ disease_C ┆ disease_ │\n",
       "│ 29        ┆ ase_I21   ┆ 83        ┆ 49        ┆   ┆ 26        ┆ 61        ┆ 18        ┆ I47      │\n",
       "│ ---       ┆ ---       ┆ ---       ┆ ---       ┆   ┆ ---       ┆ ---       ┆ ---       ┆ ---      │\n",
       "│ i64       ┆ i64       ┆ i64       ┆ i64       ┆   ┆ i64       ┆ i64       ┆ i64       ┆ i64      │\n",
       "╞═══════════╪═══════════╪═══════════╪═══════════╪═══╪═══════════╪═══════════╪═══════════╪══════════╡\n",
       "│ 0         ┆ 0         ┆ 0         ┆ 0         ┆ … ┆ 0         ┆ 0         ┆ 0         ┆ 0        │\n",
       "│ 0         ┆ 1         ┆ 0         ┆ 0         ┆ … ┆ 0         ┆ 0         ┆ 0         ┆ 0        │\n",
       "└───────────┴───────────┴───────────┴───────────┴───┴───────────┴───────────┴───────────┴──────────┘"
      ]
     },
     "execution_count": 100,
     "metadata": {},
     "output_type": "execute_result"
    }
   ],
   "source": [
    "labeled_data_imputed.select(discrete_cols).head(2)"
   ]
  },
  {
   "cell_type": "markdown",
   "metadata": {},
   "source": [
    "### save transformed dataframe"
   ]
  },
  {
   "cell_type": "code",
   "execution_count": 102,
   "metadata": {},
   "outputs": [
    {
     "data": {
      "text/plain": [
       "(7280, 100)"
      ]
     },
     "execution_count": 102,
     "metadata": {},
     "output_type": "execute_result"
    }
   ],
   "source": [
    "labeled_data_imputed.shape"
   ]
  },
  {
   "cell_type": "code",
   "execution_count": null,
   "metadata": {},
   "outputs": [],
   "source": [
    "path = \"../data/data_for_models\"\n",
    "os.makedirs(path, exist_ok=True)\n",
    "file_name = \"imputed_labeled_data.parquet\"\n",
    "file_path = os.path.join(path, file_name)\n",
    "# labeled_data_imputed.select(PROCESSED_COLS).write_parquet(file_path)"
   ]
  },
  {
   "cell_type": "code",
   "execution_count": null,
   "metadata": {},
   "outputs": [],
   "source": [
    "# with open(os.path.join(path, \"numerical_cols.pickle\"), \"wb\") as f:\n",
    "#     pickle.dump(numerical_cols, f)\n",
    "\n",
    "# with open(os.path.join(path, \"discrete_cols.pickle\"), \"wb\") as f:\n",
    "#     pickle.dump(discrete_cols, f)"
   ]
  }
 ],
 "metadata": {
  "kernelspec": {
   "display_name": ".venv",
   "language": "python",
   "name": "python3"
  },
  "language_info": {
   "codemirror_mode": {
    "name": "ipython",
    "version": 3
   },
   "file_extension": ".py",
   "mimetype": "text/x-python",
   "name": "python",
   "nbconvert_exporter": "python",
   "pygments_lexer": "ipython3",
   "version": "3.13.3"
  }
 },
 "nbformat": 4,
 "nbformat_minor": 2
}
