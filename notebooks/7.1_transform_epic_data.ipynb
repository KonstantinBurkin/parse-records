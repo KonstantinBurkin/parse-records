{
 "cells": [
  {
   "cell_type": "markdown",
   "metadata": {},
   "source": [
    "### Imports"
   ]
  },
  {
   "cell_type": "code",
   "execution_count": 1,
   "metadata": {},
   "outputs": [
    {
     "data": {
      "text/plain": [
       "polars.config.Config"
      ]
     },
     "execution_count": 1,
     "metadata": {},
     "output_type": "execute_result"
    }
   ],
   "source": [
    "import pandas as pd\n",
    "import json\n",
    "import os, sys\n",
    "from tqdm import tqdm\n",
    "import numpy as np\n",
    "import polars as pl\n",
    "from polars import col as c\n",
    "from pprint import pprint\n",
    "import matplotlib.pyplot as plt\n",
    "import re\n",
    "\n",
    "sys.path.append(\"../\")\n",
    "pl.Config.set_tbl_rows(50)"
   ]
  },
  {
   "cell_type": "code",
   "execution_count": 129,
   "metadata": {},
   "outputs": [],
   "source": [
    "def regex_search(\n",
    "    regex_string: str,\n",
    "    column: str,\n",
    "    dataframe: pl.DataFrame,\n",
    ") -> pl.DataFrame:\n",
    "\n",
    "    def search_condition(x):\n",
    "        try:\n",
    "            found = re.search(regex_string, x).group(1)\n",
    "        except AttributeError:\n",
    "            # match not found in the original string\n",
    "            found = \"\"  # apply your error handling\n",
    "        return found\n",
    "\n",
    "    new_column = dataframe.with_columns(\n",
    "        c(column)\n",
    "        .map_elements(\n",
    "            search_condition,\n",
    "            return_dtype=str,\n",
    "        )\n",
    "        .alias(\"new_column\")\n",
    "    )[\"new_column\"]\n",
    "\n",
    "    return new_column"
   ]
  },
  {
   "cell_type": "markdown",
   "metadata": {},
   "source": [
    "### table creation"
   ]
  },
  {
   "cell_type": "code",
   "execution_count": 2,
   "metadata": {},
   "outputs": [],
   "source": [
    "dir_path = \"../data/parsed_dataframes\"\n",
    "file_name = \"epic_records_8500.parquet\"\n",
    "file_path = os.path.join(dir_path, file_name)\n",
    "epic_records = pd.read_parquet(file_path)"
   ]
  },
  {
   "cell_type": "code",
   "execution_count": 3,
   "metadata": {},
   "outputs": [
    {
     "name": "stderr",
     "output_type": "stream",
     "text": [
      "/var/folders/yt/5rqq39t16xs0vjb7z99vs0cw0000gn/T/ipykernel_69601/633498768.py:3: FutureWarning: errors='ignore' is deprecated and will raise in a future version. Use to_numeric without passing `errors` and catch exceptions explicitly instead\n",
      "  epic_records[column] = pd.to_numeric(epic_records[column], errors=\"ignore\")\n"
     ]
    }
   ],
   "source": [
    "for column in epic_records.columns:\n",
    "    epic_records[column] = epic_records[column].replace(to_replace=\"nan\", value=np.nan)\n",
    "    epic_records[column] = pd.to_numeric(epic_records[column], errors=\"ignore\")"
   ]
  },
  {
   "cell_type": "code",
   "execution_count": 4,
   "metadata": {},
   "outputs": [],
   "source": [
    "epic_records = (\n",
    "    pl.from_pandas(epic_records)\n",
    "    .with_columns(\n",
    "        c(\"Дата поступления\")\n",
    "        .cast(pl.String)\n",
    "        .str.to_datetime(\"%d.%m.%Y %H:%M\")\n",
    "        .dt.date(),\n",
    "        # c(\"lab_date\").cast(pl.String).str.to_datetime(\"%d.%m.%Y %H:%M\").dt.date(),\n",
    "    )\n",
    "    .rename({\"Дата поступления\": \"admission_datetime\"})\n",
    "    .drop([\"birthday\", \"record\"])\n",
    "    # .head(2)\n",
    ")"
   ]
  },
  {
   "cell_type": "code",
   "execution_count": 5,
   "metadata": {},
   "outputs": [
    {
     "data": {
      "text/html": [
       "<div><style>\n",
       ".dataframe > thead > tr,\n",
       ".dataframe > tbody > tr {\n",
       "  text-align: right;\n",
       "  white-space: pre-wrap;\n",
       "}\n",
       "</style>\n",
       "<small>shape: (2, 21)</small><table border=\"1\" class=\"dataframe\"><thead><tr><th>patient_id</th><th>gender</th><th>amnez_life</th><th>amnez_disease</th><th>condition</th><th>ward_table</th><th>full_wards</th><th>final_table1</th><th>final_table2</th><th>complication_of_main_disease_desc</th><th>main_disease_desc</th><th>secondary_disease_desc</th><th>complication_of_main_disease_code</th><th>main_disease_code</th><th>secondary_disease_code</th><th>admission_datetime</th><th>gospitalisation_type</th><th>gospitalisation_delivery</th><th>background_disease_desc</th><th>background_disease_code</th><th>Конкурирующее заболевание</th></tr><tr><td>str</td><td>str</td><td>str</td><td>str</td><td>str</td><td>str</td><td>str</td><td>str</td><td>str</td><td>str</td><td>str</td><td>str</td><td>str</td><td>str</td><td>str</td><td>date</td><td>str</td><td>str</td><td>str</td><td>str</td><td>str</td></tr></thead><tbody><tr><td>&quot;75DB9BE5-92BE-432F-AA97-2CC5A5…</td><td>&quot;Мужской&quot;</td><td>&quot;ОБЩЕБИОГРАФИЧЕСКИЕ СВЕДЕНИЯ&nbsp;&nbsp;Н…</td><td>&quot;АНАМНЕЗ ИБС С 2016Г., КОГДА ПЕ…</td><td>&quot;[&#x27;Состояние: Средней тяжести&#x27;,…</td><td>&quot;{&#x27;Название&#x27;: {0: &#x27;Приемное отд…</td><td>&quot;{&#x27;Сведения о пребывании пациен…</td><td>&quot;{&#x27;Характер основного заболеван…</td><td>&quot;{&#x27;Вид нозологической единицы&#x27;:…</td><td>&quot;ОСН I по Killip.&quot;</td><td>&quot;ИБС. Прогрессирующая стенокард…</td><td>&quot;Гипертоническая болезнь 3 стад…</td><td>&quot;[&#x27;I50.9&#x27;]&quot;</td><td>&quot;[&#x27;I20.0&#x27;]&quot;</td><td>&quot;[&#x27;E11.8&#x27;, &#x27;I10&#x27;, &#x27;E66.9&#x27;]&quot;</td><td>2023-04-03</td><td>&quot;Первичный&quot;</td><td>&quot;Плановая госпитализация&quot;</td><td>null</td><td>null</td><td>null</td></tr><tr><td>&quot;55218D18-4928-6138-E055-000000…</td><td>&quot;Мужской&quot;</td><td>&quot;АНАМНЕЗ ЖИЗНИ:&quot;</td><td>&quot;АНАМНЕЗ ЗАБОЛЕВАНИЯ&nbsp;&nbsp;ИБС С 198…</td><td>&quot;[&#x27;Состояние: Удовлетворительно…</td><td>&quot;{&#x27;Название&#x27;: {0: &#x27;Приемное отд…</td><td>&quot;{&#x27;Сведения о пребывании пациен…</td><td>&quot;{&#x27;Характер основного заболеван…</td><td>&quot;{&#x27;Вид нозологической единицы&#x27;:…</td><td>&quot;ОСН I по KillipПароксизмальная…</td><td>&quot;ИБС.Острый инфаркт миокарда пе…</td><td>&quot;Варикозно расширенные вены пищ…</td><td>&quot;[&#x27;I48.0&#x27;, &#x27;I50.1&#x27;]&quot;</td><td>&quot;[&#x27;I21.0&#x27;]&quot;</td><td>&quot;[&#x27;B18.0&#x27;, &#x27;I85.9&#x27;, &#x27;I69.4&#x27;]&quot;</td><td>2019-01-19</td><td>&quot;Первичный&quot;</td><td>&quot;Доставлен бригадой скорой помо…</td><td>&quot;Гипертоническая болезнь III ст…</td><td>&quot;[&#x27;I11.9&#x27;]&quot;</td><td>null</td></tr></tbody></table></div>"
      ],
      "text/plain": [
       "shape: (2, 21)\n",
       "┌────────────┬─────────┬───────────┬───────────┬───┬───────────┬───────────┬───────────┬───────────┐\n",
       "│ patient_id ┆ gender  ┆ amnez_lif ┆ amnez_dis ┆ … ┆ gospitali ┆ backgroun ┆ backgroun ┆ Конкуриру │\n",
       "│ ---        ┆ ---     ┆ e         ┆ ease      ┆   ┆ sation_de ┆ d_disease ┆ d_disease ┆ ющее забо │\n",
       "│ str        ┆ str     ┆ ---       ┆ ---       ┆   ┆ livery    ┆ _desc     ┆ _code     ┆ левание   │\n",
       "│            ┆         ┆ str       ┆ str       ┆   ┆ ---       ┆ ---       ┆ ---       ┆ ---       │\n",
       "│            ┆         ┆           ┆           ┆   ┆ str       ┆ str       ┆ str       ┆ str       │\n",
       "╞════════════╪═════════╪═══════════╪═══════════╪═══╪═══════════╪═══════════╪═══════════╪═══════════╡\n",
       "│ 75DB9BE5-9 ┆ Мужской ┆ ОБЩЕБИОГР ┆ АНАМНЕЗ   ┆ … ┆ Плановая  ┆ null      ┆ null      ┆ null      │\n",
       "│ 2BE-432F-A ┆         ┆ АФИЧЕСКИЕ ┆ ИБС С     ┆   ┆ госпитали ┆           ┆           ┆           │\n",
       "│ A97-2CC5A5 ┆         ┆ СВЕДЕНИЯ  ┆ 2016Г.,   ┆   ┆ зация     ┆           ┆           ┆           │\n",
       "│ …          ┆         ┆ Н…        ┆ КОГДА ПЕ… ┆   ┆           ┆           ┆           ┆           │\n",
       "│ 55218D18-4 ┆ Мужской ┆ АНАМНЕЗ   ┆ АНАМНЕЗ   ┆ … ┆ Доставлен ┆ Гипертони ┆ ['I11.9'] ┆ null      │\n",
       "│ 928-6138-E ┆         ┆ ЖИЗНИ:    ┆ ЗАБОЛЕВАН ┆   ┆ бригадой  ┆ ческая    ┆           ┆           │\n",
       "│ 055-000000 ┆         ┆           ┆ ИЯ  ИБС С ┆   ┆ скорой    ┆ болезнь   ┆           ┆           │\n",
       "│ …          ┆         ┆           ┆ 198…      ┆   ┆ помо…     ┆ III ст…   ┆           ┆           │\n",
       "└────────────┴─────────┴───────────┴───────────┴───┴───────────┴───────────┴───────────┴───────────┘"
      ]
     },
     "execution_count": 5,
     "metadata": {},
     "output_type": "execute_result"
    }
   ],
   "source": [
    "epic_records.head(2)"
   ]
  },
  {
   "cell_type": "code",
   "execution_count": 6,
   "metadata": {},
   "outputs": [
    {
     "data": {
      "text/plain": [
       "(8506, 21)"
      ]
     },
     "execution_count": 6,
     "metadata": {},
     "output_type": "execute_result"
    }
   ],
   "source": [
    "epic_records.shape"
   ]
  },
  {
   "cell_type": "markdown",
   "metadata": {},
   "source": [
    "### create target"
   ]
  },
  {
   "cell_type": "code",
   "execution_count": 7,
   "metadata": {},
   "outputs": [
    {
     "data": {
      "text/html": [
       "<div><style>\n",
       ".dataframe > thead > tr,\n",
       ".dataframe > tbody > tr {\n",
       "  text-align: right;\n",
       "  white-space: pre-wrap;\n",
       "}\n",
       "</style>\n",
       "<small>shape: (13, 2)</small><table border=\"1\" class=\"dataframe\"><thead><tr><th>main_disease_code</th><th>count</th></tr><tr><td>str</td><td>u32</td></tr></thead><tbody><tr><td>&quot;I20&quot;</td><td>1141</td></tr><tr><td>&quot;I21&quot;</td><td>1040</td></tr><tr><td>&quot;I25&quot;</td><td>10</td></tr><tr><td>&quot;I50&quot;</td><td>7</td></tr><tr><td>&quot;I11&quot;</td><td>6</td></tr><tr><td>&quot;I47&quot;</td><td>3</td></tr><tr><td>&quot;I22&quot;</td><td>3</td></tr><tr><td>&quot;I48&quot;</td><td>2</td></tr><tr><td>&quot;M42&quot;</td><td>1</td></tr><tr><td>&quot;I26&quot;</td><td>1</td></tr><tr><td>&quot;I40&quot;</td><td>1</td></tr><tr><td>&quot;I67&quot;</td><td>1</td></tr><tr><td>&quot;I70&quot;</td><td>1</td></tr></tbody></table></div>"
      ],
      "text/plain": [
       "shape: (13, 2)\n",
       "┌───────────────────┬───────┐\n",
       "│ main_disease_code ┆ count │\n",
       "│ ---               ┆ ---   │\n",
       "│ str               ┆ u32   │\n",
       "╞═══════════════════╪═══════╡\n",
       "│ I20               ┆ 1141  │\n",
       "│ I21               ┆ 1040  │\n",
       "│ I25               ┆ 10    │\n",
       "│ I50               ┆ 7     │\n",
       "│ I11               ┆ 6     │\n",
       "│ I47               ┆ 3     │\n",
       "│ I22               ┆ 3     │\n",
       "│ I48               ┆ 2     │\n",
       "│ M42               ┆ 1     │\n",
       "│ I26               ┆ 1     │\n",
       "│ I40               ┆ 1     │\n",
       "│ I67               ┆ 1     │\n",
       "│ I70               ┆ 1     │\n",
       "└───────────────────┴───────┘"
      ]
     },
     "execution_count": 7,
     "metadata": {},
     "output_type": "execute_result"
    }
   ],
   "source": [
    "# all desease codes\n",
    "(\n",
    "    epic_records.filter(\n",
    "        epic_records.select(\"patient_id\").is_duplicated(),\n",
    "    )\n",
    "    .select([\"main_disease_desc\", \"main_disease_code\"])\n",
    "    .with_columns(c(\"main_disease_code\").str.slice(offset=2, length=3))[\n",
    "        \"main_disease_code\"\n",
    "    ]\n",
    "    .value_counts()\n",
    "    .sort(\n",
    "        \"count\",\n",
    "        descending=True,\n",
    "    )\n",
    ")"
   ]
  },
  {
   "cell_type": "code",
   "execution_count": 284,
   "metadata": {},
   "outputs": [],
   "source": [
    "labeled_data = (\n",
    "    epic_records\n",
    "    # .filter(\n",
    "    #     epic_records.select(\"patient_id\").is_duplicated(),\n",
    "    # )\n",
    "    .with_columns(\n",
    "        c(\"main_disease_code\").str.slice(\n",
    "            offset=2,\n",
    "            length=3,\n",
    "        )\n",
    "    )\n",
    "    .group_by(\"patient_id\")\n",
    "    .agg(\n",
    "        pl.all().sort_by(\"admission_datetime\").first(),\n",
    "        c(\"admission_datetime\")\n",
    "        .sort_by(\"admission_datetime\")\n",
    "        .alias(\"following_admission_datetimes\"),\n",
    "        c(\"main_disease_code\")\n",
    "        .sort_by(\"admission_datetime\")\n",
    "        .alias(\"following_main_disease_codes\"),\n",
    "    )\n",
    "    .with_columns(\n",
    "        c(\"following_admission_datetimes\").list.slice(offset=1),\n",
    "        c(\"following_main_disease_codes\").list.slice(offset=1),\n",
    "    )\n",
    "    .with_columns(\n",
    "        pl.when(c(\"following_main_disease_codes\").list.contains(\"I21\"))\n",
    "        .then(1)\n",
    "        .when(c(\"following_main_disease_codes\").list.contains(\"I22\"))\n",
    "        .then(1)\n",
    "        .when(c(\"following_main_disease_codes\").list.len().eq(0))\n",
    "        .then(-1)\n",
    "        .otherwise(0)\n",
    "        .alias(\"target\")\n",
    "    )\n",
    ")"
   ]
  },
  {
   "cell_type": "code",
   "execution_count": 159,
   "metadata": {},
   "outputs": [
    {
     "data": {
      "text/html": [
       "<div><style>\n",
       ".dataframe > thead > tr,\n",
       ".dataframe > tbody > tr {\n",
       "  text-align: right;\n",
       "  white-space: pre-wrap;\n",
       "}\n",
       "</style>\n",
       "<small>shape: (3, 2)</small><table border=\"1\" class=\"dataframe\"><thead><tr><th>target</th><th>count</th></tr><tr><td>i32</td><td>u32</td></tr></thead><tbody><tr><td>-1</td><td>6289</td></tr><tr><td>0</td><td>518</td></tr><tr><td>1</td><td>473</td></tr></tbody></table></div>"
      ],
      "text/plain": [
       "shape: (3, 2)\n",
       "┌────────┬───────┐\n",
       "│ target ┆ count │\n",
       "│ ---    ┆ ---   │\n",
       "│ i32    ┆ u32   │\n",
       "╞════════╪═══════╡\n",
       "│ -1     ┆ 6289  │\n",
       "│ 0      ┆ 518   │\n",
       "│ 1      ┆ 473   │\n",
       "└────────┴───────┘"
      ]
     },
     "execution_count": 159,
     "metadata": {},
     "output_type": "execute_result"
    }
   ],
   "source": [
    "labeled_data[\"target\"].value_counts().sort(\"target\")\n",
    "# 1 - has IM\n",
    "# 0 - no IM\n",
    "# -1 - no info about outcome"
   ]
  },
  {
   "cell_type": "markdown",
   "metadata": {},
   "source": [
    "### make features"
   ]
  },
  {
   "cell_type": "code",
   "execution_count": 160,
   "metadata": {},
   "outputs": [
    {
     "data": {
      "text/plain": [
       "(7280, 24)"
      ]
     },
     "execution_count": 160,
     "metadata": {},
     "output_type": "execute_result"
    }
   ],
   "source": [
    "labeled_data.shape"
   ]
  },
  {
   "cell_type": "code",
   "execution_count": 161,
   "metadata": {},
   "outputs": [
    {
     "data": {
      "text/html": [
       "<div><style>\n",
       ".dataframe > thead > tr,\n",
       ".dataframe > tbody > tr {\n",
       "  text-align: right;\n",
       "  white-space: pre-wrap;\n",
       "}\n",
       "</style>\n",
       "<small>shape: (1, 24)</small><table border=\"1\" class=\"dataframe\"><thead><tr><th>patient_id</th><th>gender</th><th>amnez_life</th><th>amnez_disease</th><th>condition</th><th>ward_table</th><th>full_wards</th><th>final_table1</th><th>final_table2</th><th>complication_of_main_disease_desc</th><th>main_disease_desc</th><th>secondary_disease_desc</th><th>complication_of_main_disease_code</th><th>main_disease_code</th><th>secondary_disease_code</th><th>admission_datetime</th><th>gospitalisation_type</th><th>gospitalisation_delivery</th><th>background_disease_desc</th><th>background_disease_code</th><th>Конкурирующее заболевание</th><th>following_admission_datetimes</th><th>following_main_disease_codes</th><th>target</th></tr><tr><td>u32</td><td>u32</td><td>u32</td><td>u32</td><td>u32</td><td>u32</td><td>u32</td><td>u32</td><td>u32</td><td>u32</td><td>u32</td><td>u32</td><td>u32</td><td>u32</td><td>u32</td><td>u32</td><td>u32</td><td>u32</td><td>u32</td><td>u32</td><td>u32</td><td>u32</td><td>u32</td><td>u32</td></tr></thead><tbody><tr><td>0</td><td>0</td><td>0</td><td>0</td><td>0</td><td>0</td><td>0</td><td>0</td><td>0</td><td>76</td><td>3</td><td>1583</td><td>76</td><td>3</td><td>1583</td><td>0</td><td>0</td><td>0</td><td>1032</td><td>1032</td><td>7226</td><td>0</td><td>0</td><td>0</td></tr></tbody></table></div>"
      ],
      "text/plain": [
       "shape: (1, 24)\n",
       "┌────────────┬────────┬────────────┬────────────┬───┬────────────┬────────────┬───────────┬────────┐\n",
       "│ patient_id ┆ gender ┆ amnez_life ┆ amnez_dise ┆ … ┆ Конкурирую ┆ following_ ┆ following ┆ target │\n",
       "│ ---        ┆ ---    ┆ ---        ┆ ase        ┆   ┆ щее заболе ┆ admission_ ┆ _main_dis ┆ ---    │\n",
       "│ u32        ┆ u32    ┆ u32        ┆ ---        ┆   ┆ вание      ┆ datetimes  ┆ ease_code ┆ u32    │\n",
       "│            ┆        ┆            ┆ u32        ┆   ┆ ---        ┆ ---        ┆ s         ┆        │\n",
       "│            ┆        ┆            ┆            ┆   ┆ u32        ┆ u32        ┆ ---       ┆        │\n",
       "│            ┆        ┆            ┆            ┆   ┆            ┆            ┆ u32       ┆        │\n",
       "╞════════════╪════════╪════════════╪════════════╪═══╪════════════╪════════════╪═══════════╪════════╡\n",
       "│ 0          ┆ 0      ┆ 0          ┆ 0          ┆ … ┆ 7226       ┆ 0          ┆ 0         ┆ 0      │\n",
       "└────────────┴────────┴────────────┴────────────┴───┴────────────┴────────────┴───────────┴────────┘"
      ]
     },
     "execution_count": 161,
     "metadata": {},
     "output_type": "execute_result"
    }
   ],
   "source": [
    "labeled_data.null_count()"
   ]
  },
  {
   "cell_type": "markdown",
   "metadata": {},
   "source": [
    "#### final_table2\n",
    "- useless"
   ]
  },
  {
   "cell_type": "code",
   "execution_count": 162,
   "metadata": {},
   "outputs": [
    {
     "data": {
      "text/html": [
       "<div>\n",
       "<style scoped>\n",
       "    .dataframe tbody tr th:only-of-type {\n",
       "        vertical-align: middle;\n",
       "    }\n",
       "\n",
       "    .dataframe tbody tr th {\n",
       "        vertical-align: top;\n",
       "    }\n",
       "\n",
       "    .dataframe thead th {\n",
       "        text-align: right;\n",
       "    }\n",
       "</style>\n",
       "<table border=\"1\" class=\"dataframe\">\n",
       "  <thead>\n",
       "    <tr style=\"text-align: right;\">\n",
       "      <th></th>\n",
       "      <th>Вид нозологической единицы</th>\n",
       "      <th>Врачебное описание нозологической единицы</th>\n",
       "      <th>Код по МКБ-10</th>\n",
       "    </tr>\n",
       "  </thead>\n",
       "  <tbody>\n",
       "    <tr>\n",
       "      <th>0</th>\n",
       "      <td>Основное заболевание</td>\n",
       "      <td>ИБС. ПРОГРЕССИРУЮЩАЯ СТЕНОКАРДИЯ. МУЛЬТИФОКАЛЬ...</td>\n",
       "      <td>I20.0</td>\n",
       "    </tr>\n",
       "    <tr>\n",
       "      <th>1</th>\n",
       "      <td>Основное заболевание</td>\n",
       "      <td>ИБС. Прогрессирующая стенокардия. Мультифокаль...</td>\n",
       "      <td>I20.0</td>\n",
       "    </tr>\n",
       "    <tr>\n",
       "      <th>2</th>\n",
       "      <td>Осложнение основного заболевания</td>\n",
       "      <td>ОСН I по Killip</td>\n",
       "      <td>I50.1</td>\n",
       "    </tr>\n",
       "    <tr>\n",
       "      <th>3</th>\n",
       "      <td>Сопутствующее заболевание</td>\n",
       "      <td>Мультифокальный атеросклероз с поражением БЦС ...</td>\n",
       "      <td>I70.9</td>\n",
       "    </tr>\n",
       "    <tr>\n",
       "      <th>4</th>\n",
       "      <td>Сопутствующее заболевание</td>\n",
       "      <td>Ожирение I степени (ИМТ 34)</td>\n",
       "      <td>E66.0</td>\n",
       "    </tr>\n",
       "    <tr>\n",
       "      <th>5</th>\n",
       "      <td>Сопутствующее заболевание</td>\n",
       "      <td>!!!!!!!!!!!!!ная форма фибрилляции предсердий,...</td>\n",
       "      <td>I48.1</td>\n",
       "    </tr>\n",
       "    <tr>\n",
       "      <th>6</th>\n",
       "      <td>Фоновое заболевание</td>\n",
       "      <td>СД 2 типа, целевой уровень гликированного гемо...</td>\n",
       "      <td>E11.8</td>\n",
       "    </tr>\n",
       "    <tr>\n",
       "      <th>7</th>\n",
       "      <td>Фоновое заболевание</td>\n",
       "      <td>Гипертоническая болезнь III стадии. Контролиру...</td>\n",
       "      <td>I11.9</td>\n",
       "    </tr>\n",
       "  </tbody>\n",
       "</table>\n",
       "</div>"
      ],
      "text/plain": [
       "         Вид нозологической единицы  \\\n",
       "0              Основное заболевание   \n",
       "1              Основное заболевание   \n",
       "2  Осложнение основного заболевания   \n",
       "3         Сопутствующее заболевание   \n",
       "4         Сопутствующее заболевание   \n",
       "5         Сопутствующее заболевание   \n",
       "6               Фоновое заболевание   \n",
       "7               Фоновое заболевание   \n",
       "\n",
       "           Врачебное описание нозологической единицы Код по МКБ-10  \n",
       "0  ИБС. ПРОГРЕССИРУЮЩАЯ СТЕНОКАРДИЯ. МУЛЬТИФОКАЛЬ...         I20.0  \n",
       "1  ИБС. Прогрессирующая стенокардия. Мультифокаль...         I20.0  \n",
       "2                                    ОСН I по Killip         I50.1  \n",
       "3  Мультифокальный атеросклероз с поражением БЦС ...         I70.9  \n",
       "4                        Ожирение I степени (ИМТ 34)         E66.0  \n",
       "5  !!!!!!!!!!!!!ная форма фибрилляции предсердий,...         I48.1  \n",
       "6  СД 2 типа, целевой уровень гликированного гемо...         E11.8  \n",
       "7  Гипертоническая болезнь III стадии. Контролиру...         I11.9  "
      ]
     },
     "execution_count": 162,
     "metadata": {},
     "output_type": "execute_result"
    }
   ],
   "source": [
    "pd.DataFrame(eval(labeled_data[\"final_table2\"].to_numpy()[0]))"
   ]
  },
  {
   "cell_type": "code",
   "execution_count": 163,
   "metadata": {},
   "outputs": [],
   "source": [
    "# same values that are already in table"
   ]
  },
  {
   "cell_type": "code",
   "execution_count": 164,
   "metadata": {},
   "outputs": [],
   "source": [
    "labeled_data = labeled_data.drop(\"final_table2\")"
   ]
  },
  {
   "cell_type": "markdown",
   "metadata": {},
   "source": [
    "#### final_table1 -> first gospitalization results\n",
    "- Характер основного заболевания\n",
    "- Результат обращения"
   ]
  },
  {
   "cell_type": "code",
   "execution_count": 293,
   "metadata": {},
   "outputs": [
    {
     "data": {
      "text/html": [
       "<div><style>\n",
       ".dataframe > thead > tr,\n",
       ".dataframe > tbody > tr {\n",
       "  text-align: right;\n",
       "  white-space: pre-wrap;\n",
       "}\n",
       "</style>\n",
       "<small>shape: (1, 5)</small><table border=\"1\" class=\"dataframe\"><thead><tr><th>Характер основного заболевания</th><th>Исход госпитализации</th><th>Результат обращения</th><th>Признак подозрения на злокачественное новообразование</th><th>Признак развертывания индивидуального поста</th></tr><tr><td>str</td><td>str</td><td>str</td><td>str</td><td>str</td></tr></thead><tbody><tr><td>&quot;Острое&quot;</td><td>&quot;None&quot;</td><td>&quot;Улучшение&quot;</td><td>&quot;Нет&quot;</td><td>&quot;Нет&quot;</td></tr></tbody></table></div>"
      ],
      "text/plain": [
       "shape: (1, 5)\n",
       "┌─────────────┬────────────────┬─────────────────────┬───────────────────────┬───────────────┐\n",
       "│ Характер    ┆ Исход          ┆ Результат обращения ┆ Признак подозрения на ┆ Признак       │\n",
       "│ основного   ┆ госпитализации ┆ ---                 ┆ злокачес…             ┆ развертывания │\n",
       "│ заболевания ┆ ---            ┆ str                 ┆ ---                   ┆ индивиду…     │\n",
       "│ ---         ┆ str            ┆                     ┆ str                   ┆ ---           │\n",
       "│ str         ┆                ┆                     ┆                       ┆ str           │\n",
       "╞═════════════╪════════════════╪═════════════════════╪═══════════════════════╪═══════════════╡\n",
       "│ Острое      ┆ None           ┆ Улучшение           ┆ Нет                   ┆ Нет           │\n",
       "└─────────────┴────────────────┴─────────────────────┴───────────────────────┴───────────────┘"
      ]
     },
     "execution_count": 293,
     "metadata": {},
     "output_type": "execute_result"
    }
   ],
   "source": [
    "# plt.hist\n",
    "pl.from_pandas(\n",
    "    pd.DataFrame(\n",
    "        eval(\n",
    "            labeled_data.with_columns(c(\"final_table1\").str.len_chars().alias(\"fdsa\"))\n",
    "            .sort([\"fdsa\"])[\"final_table1\"]\n",
    "            .to_numpy()[241]\n",
    "        )\n",
    "    )\n",
    ")"
   ]
  },
  {
   "cell_type": "code",
   "execution_count": 294,
   "metadata": {},
   "outputs": [
    {
     "data": {
      "text/html": [
       "<div><style>\n",
       ".dataframe > thead > tr,\n",
       ".dataframe > tbody > tr {\n",
       "  text-align: right;\n",
       "  white-space: pre-wrap;\n",
       "}\n",
       "</style>\n",
       "<small>shape: (1, 2)</small><table border=\"1\" class=\"dataframe\"><thead><tr><th>new_column</th><th>count</th></tr><tr><td>str</td><td>u32</td></tr></thead><tbody><tr><td>&quot;Нет&quot;</td><td>7280</td></tr></tbody></table></div>"
      ],
      "text/plain": [
       "shape: (1, 2)\n",
       "┌────────────┬───────┐\n",
       "│ new_column ┆ count │\n",
       "│ ---        ┆ ---   │\n",
       "│ str        ┆ u32   │\n",
       "╞════════════╪═══════╡\n",
       "│ Нет        ┆ 7280  │\n",
       "└────────────┴───────┘"
      ]
     },
     "execution_count": 294,
     "metadata": {},
     "output_type": "execute_result"
    }
   ],
   "source": [
    "(\n",
    "    regex_search(\n",
    "        regex_string=r\"Признак развертывания индивидуального поста\\':\\s{0:\\s\\'(\\D*)\\'}\",\n",
    "        column=\"final_table1\",\n",
    "        dataframe=labeled_data,\n",
    "    )\n",
    "    .value_counts()\n",
    "    .sort(\"count\", descending=True)\n",
    "    .head(10)\n",
    ")"
   ]
  },
  {
   "cell_type": "code",
   "execution_count": 295,
   "metadata": {},
   "outputs": [
    {
     "data": {
      "text/html": [
       "<div><style>\n",
       ".dataframe > thead > tr,\n",
       ".dataframe > tbody > tr {\n",
       "  text-align: right;\n",
       "  white-space: pre-wrap;\n",
       "}\n",
       "</style>\n",
       "<small>shape: (1, 2)</small><table border=\"1\" class=\"dataframe\"><thead><tr><th>new_column</th><th>count</th></tr><tr><td>str</td><td>u32</td></tr></thead><tbody><tr><td>&quot;Нет&quot;</td><td>7280</td></tr></tbody></table></div>"
      ],
      "text/plain": [
       "shape: (1, 2)\n",
       "┌────────────┬───────┐\n",
       "│ new_column ┆ count │\n",
       "│ ---        ┆ ---   │\n",
       "│ str        ┆ u32   │\n",
       "╞════════════╪═══════╡\n",
       "│ Нет        ┆ 7280  │\n",
       "└────────────┴───────┘"
      ]
     },
     "execution_count": 295,
     "metadata": {},
     "output_type": "execute_result"
    }
   ],
   "source": [
    "(\n",
    "    regex_search(\n",
    "        regex_string=r\"Признак подозрения на злокачественное новообразование\\':\\s{0:\\s\\'(\\D*)\\'}\",\n",
    "        column=\"final_table1\",\n",
    "        dataframe=labeled_data,\n",
    "    )\n",
    "    .value_counts()\n",
    "    .sort(\"count\", descending=True)\n",
    "    .head(10)\n",
    ")"
   ]
  },
  {
   "cell_type": "code",
   "execution_count": 296,
   "metadata": {},
   "outputs": [
    {
     "data": {
      "text/html": [
       "<div><style>\n",
       ".dataframe > thead > tr,\n",
       ".dataframe > tbody > tr {\n",
       "  text-align: right;\n",
       "  white-space: pre-wrap;\n",
       "}\n",
       "</style>\n",
       "<small>shape: (4, 2)</small><table border=\"1\" class=\"dataframe\"><thead><tr><th>new_column</th><th>count</th></tr><tr><td>str</td><td>u32</td></tr></thead><tbody><tr><td>&quot;Улучшение&quot;</td><td>6899</td></tr><tr><td>&quot;Летальный исход&quot;</td><td>217</td></tr><tr><td>&quot;Без изменения&quot;</td><td>156</td></tr><tr><td>&quot;Ухудшение&quot;</td><td>8</td></tr></tbody></table></div>"
      ],
      "text/plain": [
       "shape: (4, 2)\n",
       "┌─────────────────┬───────┐\n",
       "│ new_column      ┆ count │\n",
       "│ ---             ┆ ---   │\n",
       "│ str             ┆ u32   │\n",
       "╞═════════════════╪═══════╡\n",
       "│ Улучшение       ┆ 6899  │\n",
       "│ Летальный исход ┆ 217   │\n",
       "│ Без изменения   ┆ 156   │\n",
       "│ Ухудшение       ┆ 8     │\n",
       "└─────────────────┴───────┘"
      ]
     },
     "execution_count": 296,
     "metadata": {},
     "output_type": "execute_result"
    }
   ],
   "source": [
    "(\n",
    "    regex_search(\n",
    "        regex_string=r\"Результат обращения\\':\\s{0:\\s\\'(\\D*)\\'}\",\n",
    "        column=\"final_table1\",\n",
    "        dataframe=labeled_data,\n",
    "    )\n",
    "    .value_counts()\n",
    "    .sort(\"count\", descending=True)\n",
    "    .head(10)\n",
    ")"
   ]
  },
  {
   "cell_type": "code",
   "execution_count": 297,
   "metadata": {},
   "outputs": [
    {
     "data": {
      "text/html": [
       "<div><style>\n",
       ".dataframe > thead > tr,\n",
       ".dataframe > tbody > tr {\n",
       "  text-align: right;\n",
       "  white-space: pre-wrap;\n",
       "}\n",
       "</style>\n",
       "<small>shape: (1, 2)</small><table border=\"1\" class=\"dataframe\"><thead><tr><th>new_column</th><th>count</th></tr><tr><td>str</td><td>u32</td></tr></thead><tbody><tr><td>&quot;None&quot;</td><td>7280</td></tr></tbody></table></div>"
      ],
      "text/plain": [
       "shape: (1, 2)\n",
       "┌────────────┬───────┐\n",
       "│ new_column ┆ count │\n",
       "│ ---        ┆ ---   │\n",
       "│ str        ┆ u32   │\n",
       "╞════════════╪═══════╡\n",
       "│ None       ┆ 7280  │\n",
       "└────────────┴───────┘"
      ]
     },
     "execution_count": 297,
     "metadata": {},
     "output_type": "execute_result"
    }
   ],
   "source": [
    "(\n",
    "    regex_search(\n",
    "        regex_string=r\"Исход госпитализации\\':\\s{0:\\s\\'(\\D*)\\'}\",\n",
    "        column=\"final_table1\",\n",
    "        dataframe=labeled_data,\n",
    "    )\n",
    "    .value_counts()\n",
    "    .sort(\"count\", descending=True)\n",
    "    .head(10)\n",
    ")"
   ]
  },
  {
   "cell_type": "code",
   "execution_count": 298,
   "metadata": {},
   "outputs": [
    {
     "data": {
      "text/html": [
       "<div><style>\n",
       ".dataframe > thead > tr,\n",
       ".dataframe > tbody > tr {\n",
       "  text-align: right;\n",
       "  white-space: pre-wrap;\n",
       "}\n",
       "</style>\n",
       "<small>shape: (4, 2)</small><table border=\"1\" class=\"dataframe\"><thead><tr><th>new_column</th><th>count</th></tr><tr><td>str</td><td>u32</td></tr></thead><tbody><tr><td>&quot;Острое&quot;</td><td>7002</td></tr><tr><td>&quot;Ранее установленное хроническо…</td><td>204</td></tr><tr><td>&quot;None&quot;</td><td>69</td></tr><tr><td>&quot;Впервые в жизни установленное …</td><td>5</td></tr></tbody></table></div>"
      ],
      "text/plain": [
       "shape: (4, 2)\n",
       "┌─────────────────────────────────┬───────┐\n",
       "│ new_column                      ┆ count │\n",
       "│ ---                             ┆ ---   │\n",
       "│ str                             ┆ u32   │\n",
       "╞═════════════════════════════════╪═══════╡\n",
       "│ Острое                          ┆ 7002  │\n",
       "│ Ранее установленное хроническо… ┆ 204   │\n",
       "│ None                            ┆ 69    │\n",
       "│ Впервые в жизни установленное … ┆ 5     │\n",
       "└─────────────────────────────────┴───────┘"
      ]
     },
     "execution_count": 298,
     "metadata": {},
     "output_type": "execute_result"
    }
   ],
   "source": [
    "(\n",
    "    regex_search(\n",
    "        regex_string=r\"Характер основного заболевания\\':\\s{0:\\s\\'(\\D*)\\'}\",\n",
    "        column=\"final_table1\",\n",
    "        dataframe=labeled_data,\n",
    "    )\n",
    "    .value_counts()\n",
    "    .sort(\"count\", descending=True)\n",
    "    .head(10)\n",
    ")"
   ]
  },
  {
   "cell_type": "code",
   "execution_count": 314,
   "metadata": {},
   "outputs": [],
   "source": [
    "new_columns_regex_final_table1 = {\n",
    "    \"main_desease_status\": r\"Характер основного заболевания\\':\\s{0:\\s\\'(\\D*)\\'}\",\n",
    "    \"gospitalization_result\": r\"Результат обращения\\':\\s{0:\\s\\'(\\D*)\\'}\",\n",
    "}"
   ]
  },
  {
   "cell_type": "code",
   "execution_count": 315,
   "metadata": {},
   "outputs": [],
   "source": [
    "section = \"final_table1\"\n",
    "for column_name, regex_string in new_columns_regex_final_table1.items():\n",
    "    new_column = regex_search(\n",
    "        regex_string=regex_string,\n",
    "        column=section,\n",
    "        dataframe=labeled_data,\n",
    "    )\n",
    "    labeled_data = labeled_data.with_columns(\n",
    "        new_column.replace({\"\": None}).alias(section + \"_\" + column_name)\n",
    "    )"
   ]
  },
  {
   "cell_type": "code",
   "execution_count": null,
   "metadata": {},
   "outputs": [],
   "source": [
    "# labeled_data = labeled_data.drop(\"final_table1\")"
   ]
  },
  {
   "cell_type": "markdown",
   "metadata": {},
   "source": [
    "#### condition\n",
    "- Состояние/статус\n",
    "- у доли пациентов проводили начальное обследование. можно достать рост, вес и тд"
   ]
  },
  {
   "cell_type": "code",
   "execution_count": 301,
   "metadata": {},
   "outputs": [
    {
     "name": "stdout",
     "output_type": "stream",
     "text": [
      "Объективный статус: ОБЪЕКТИВНЫЙ СТАТУС:\n"
     ]
    }
   ],
   "source": [
    "print(eval(labeled_data[\"condition\"][327])[-1])"
   ]
  },
  {
   "cell_type": "code",
   "execution_count": 302,
   "metadata": {},
   "outputs": [
    {
     "data": {
      "image/png": "[encoded data removed]",
      "text/plain": [
       "<Figure size 640x480 with 1 Axes>"
      ]
     },
     "metadata": {},
     "output_type": "display_data"
    }
   ],
   "source": [
    "plt.hist(\n",
    "    labeled_data.with_columns(c(\"condition\").str.len_chars().alias(\"fdsa\"))\n",
    "    .sort([\"fdsa\"])[\"fdsa\"]\n",
    "    .to_numpy()\n",
    "    # [140]\n",
    ")\n",
    "plt.xlabel(\"len of 'condition' feature\")\n",
    "plt.grid()"
   ]
  },
  {
   "cell_type": "code",
   "execution_count": 303,
   "metadata": {},
   "outputs": [
    {
     "data": {
      "text/html": [
       "<div><style>\n",
       ".dataframe > thead > tr,\n",
       ".dataframe > tbody > tr {\n",
       "  text-align: right;\n",
       "  white-space: pre-wrap;\n",
       "}\n",
       "</style>\n",
       "<small>shape: (2, 2)</small><table border=\"1\" class=\"dataframe\"><thead><tr><th>new_column</th><th>count</th></tr><tr><td>str</td><td>u32</td></tr></thead><tbody><tr><td>&quot;&quot;</td><td>5436</td></tr><tr><td>&quot;АРТЕРИАЛЬНОЕ ДАВЛЕНИЕ&quot;</td><td>1844</td></tr></tbody></table></div>"
      ],
      "text/plain": [
       "shape: (2, 2)\n",
       "┌───────────────────────┬───────┐\n",
       "│ new_column            ┆ count │\n",
       "│ ---                   ┆ ---   │\n",
       "│ str                   ┆ u32   │\n",
       "╞═══════════════════════╪═══════╡\n",
       "│                       ┆ 5436  │\n",
       "│ АРТЕРИАЛЬНОЕ ДАВЛЕНИЕ ┆ 1844  │\n",
       "└───────────────────────┴───────┘"
      ]
     },
     "execution_count": 303,
     "metadata": {},
     "output_type": "execute_result"
    }
   ],
   "source": [
    "(\n",
    "    regex_search(\n",
    "        regex_string=r\"(АРТЕРИАЛЬНОЕ ДАВЛЕНИЕ)\",\n",
    "        column=\"condition\",\n",
    "        dataframe=labeled_data,\n",
    "    )\n",
    "    .value_counts()\n",
    "    .sort(\"count\", descending=True)\n",
    "    .head(10)\n",
    ")"
   ]
  },
  {
   "cell_type": "code",
   "execution_count": 304,
   "metadata": {},
   "outputs": [
    {
     "data": {
      "text/html": [
       "<div><style>\n",
       ".dataframe > thead > tr,\n",
       ".dataframe > tbody > tr {\n",
       "  text-align: right;\n",
       "  white-space: pre-wrap;\n",
       "}\n",
       "</style>\n",
       "<small>shape: (5, 2)</small><table border=\"1\" class=\"dataframe\"><thead><tr><th>new_column</th><th>count</th></tr><tr><td>str</td><td>u32</td></tr></thead><tbody><tr><td>&quot;&quot;</td><td>5570</td></tr><tr><td>&quot;98&quot;</td><td>864</td></tr><tr><td>&quot;97&quot;</td><td>276</td></tr><tr><td>&quot;96&quot;</td><td>201</td></tr><tr><td>&quot;99&quot;</td><td>135</td></tr></tbody></table></div>"
      ],
      "text/plain": [
       "shape: (5, 2)\n",
       "┌────────────┬───────┐\n",
       "│ new_column ┆ count │\n",
       "│ ---        ┆ ---   │\n",
       "│ str        ┆ u32   │\n",
       "╞════════════╪═══════╡\n",
       "│            ┆ 5570  │\n",
       "│ 98         ┆ 864   │\n",
       "│ 97         ┆ 276   │\n",
       "│ 96         ┆ 201   │\n",
       "│ 99         ┆ 135   │\n",
       "└────────────┴───────┘"
      ]
     },
     "execution_count": 304,
     "metadata": {},
     "output_type": "execute_result"
    }
   ],
   "source": [
    "(\n",
    "    regex_search(\n",
    "        regex_string=r\"НАСЫЩЕНИЕ КРОВИ КИСЛОРОДОМ \\(САТУРАЦИЯ, %\\)\\D*(\\d+)\",\n",
    "        column=\"condition\",\n",
    "        dataframe=labeled_data,\n",
    "    )\n",
    "    .value_counts()\n",
    "    .sort(\"count\", descending=True)\n",
    "    .head(5)\n",
    ")"
   ]
  },
  {
   "cell_type": "code",
   "execution_count": 468,
   "metadata": {},
   "outputs": [],
   "source": [
    "new_columns_regex_condition = {\n",
    "    \"oxygen_saturation\": r\"НАСЫЩЕНИЕ КРОВИ КИСЛОРОДОМ \\(САТУРАЦИЯ, %\\)\\D*(\\d+)\",\n",
    "    \"bmi\": r\"ИМТ\\D*(\\d+)\",\n",
    "    \"status\": r\"Состояние:\\s*(.{2,24})',\",\n",
    "    # \"left_atrium\": r\"ЛЕВОЕ\",\n",
    "}"
   ]
  },
  {
   "cell_type": "code",
   "execution_count": 469,
   "metadata": {},
   "outputs": [],
   "source": [
    "section = \"condition\"\n",
    "\n",
    "for column_name, regex_string in new_columns_regex_condition.items():\n",
    "    new_column = regex_search(\n",
    "        regex_string=regex_string,\n",
    "        column=section,\n",
    "        dataframe=labeled_data,\n",
    "    )\n",
    "    labeled_data = labeled_data.with_columns(\n",
    "        new_column.replace({\"\": None}).alias(section + \"_\" + column_name)\n",
    "    )"
   ]
  },
  {
   "cell_type": "markdown",
   "metadata": {},
   "source": [
    "#### full wards\n",
    "- ecg\n",
    "- rentgenogram\n",
    "- ultrasound"
   ]
  },
  {
   "cell_type": "code",
   "execution_count": 319,
   "metadata": {},
   "outputs": [
    {
     "data": {
      "image/png": "[encoded data removed]",
      "text/plain": [
       "<Figure size 640x480 with 1 Axes>"
      ]
     },
     "metadata": {},
     "output_type": "display_data"
    }
   ],
   "source": [
    "plt.hist(\n",
    "    labeled_data.with_columns(c(\"full_wards\").str.len_chars().alias(\"fdsa\"))\n",
    "    .sort([\"fdsa\"])[\"fdsa\"]\n",
    "    .to_numpy()\n",
    "    # [140]\n",
    ")\n",
    "plt.xlabel(\"len of 'full_wards' feature\")\n",
    "plt.grid()"
   ]
  },
  {
   "cell_type": "code",
   "execution_count": 320,
   "metadata": {},
   "outputs": [],
   "source": [
    "def clean_full_wards(x):\n",
    "    x = x.replace(\"!\", \"\")\n",
    "    x = re.sub(\n",
    "        r\"{urn:hl7-org:v3}\",\n",
    "        \"\",\n",
    "        x,\n",
    "    )\n",
    "    # x = re.sub(\n",
    "    #     r\"\\'\\D+\\':\",\n",
    "    #     \" \",\n",
    "    #     x,\n",
    "    # )\n",
    "    # x = re.sub(\n",
    "    #     r\"[\\\\n{}\\'\\\"]\",\n",
    "    #     \" \",\n",
    "    #     x,\n",
    "    # )\n",
    "    x = re.sub(\n",
    "        r\"  +\",\n",
    "        \" \",\n",
    "        x,\n",
    "    )\n",
    "    return x\n",
    "\n",
    "\n",
    "labeled_data = labeled_data.with_columns(\n",
    "    c(\"full_wards\")\n",
    "    .map_elements(\n",
    "        clean_full_wards,\n",
    "        return_dtype=str,\n",
    "    )\n",
    "    .alias(\"full_wards_cleaned\")\n",
    ")"
   ]
  },
  {
   "cell_type": "code",
   "execution_count": 321,
   "metadata": {},
   "outputs": [
    {
     "data": {
      "text/plain": [
       "'{\\'Сведения о пребывании пациента в Приемное отделение\\': {\\'Электрокардиография (14.10.2020 11:22)\\': {\\'table\\': {\\'col\\': [{\\'width\\': \\'12%\\'}, {\\'width\\': \\'88%\\'}], \\'tbody\\': {\\'tr\\': [{\\'td\\': [{\\'content\\': {\\'text\\': \\'Эффективная доза\\'}}, {\\'content\\': {}}]}, {\\'td\\': [{\\'content\\': {\\'text\\': \\'Протокол\\'}}, {\\'content\\': {\\'text\\': \\'\"\" \\\\n\"\"\\\\n\\\\n\\\\nПРОТОКОЛ ОБСЛЕДОВАНИЯ № \\\\n\\\\n\\\\nФ.И.О.: А Н С\\\\nВОЗРАСТ (ДАТА РОЖДЕНИЯ): 57 ( 01.01.1698)\\\\nПРЕДВАРИТЕЛЬНЫЙ ДИАГНОЗ: \\\\nПО 14.10.2020 11:22\\\\nЗАКЛЮЧЕНИЕ:\\\\nСИНУСОВЫЙ МЕДЛЕННЫЙ РИТМ, ЧСС 59 УД/МИН.\\\\nЭОС ОТКЛОНЕНА ВЛЕВО. НЕПОЛНАЯ БПНПГИСА.\\\\nНЕБОЛЬШАЯ ЭЛЕВАЦИЯ С. ST III, AVF, С ИНВЕРСИЕЙ З.Т, МИКРО З.R.\\\\nИЗМЕНЕНИЯ ПРОЦЕССОВ РЕПОЛЯРИЗАЦИИ ВЕРХУШЕЧНОБОКОВОЙ СТЕНКИ ЛЖ.\\\\nНЕ ИСКЛЮЧАЕТСЯ ГЛЖ.\\'}}]}, {\\'td\\': [{\\'content\\': {\\'text\\': \\'Заключение\\'}}, {\\'content\\': {\\'text\\': \\'ЗАКЛЮЧЕНИЕ:\\\\nСИНУСОВЫЙ МЕДЛЕННЫЙ РИТМ, ЧСС 59 УД/МИН.\\\\nЭОС ОТКЛОНЕНА ВЛЕВО. НЕПОЛНАЯ БПНПГИСА.\\\\nНЕБОЛЬШАЯ ЭЛЕВАЦИЯ С. ST III, AVF, С ИНВЕРСИЕЙ З.Т, МИКРО З.R.\\\\nИЗМЕНЕНИЯ ПРОЦЕССОВ РЕПОЛЯРИЗАЦИИ ВЕРХУШЕЧНОБОКОВОЙ СТЕНКИ ЛЖ.\\\\nНЕ ИСКЛЮЧАЕТСЯ ГЛЖ.\\'}}]}, {\\'td\\': [{\\'content\\': {\\'text\\': \\'Выявленная патология\\'}}, {\\'content\\': {}}]}, {\\'td\\': [{\\'content\\': {\\'text\\': \\'Диагноз\\'}}, {\\'content\\': {\\'text\\': \\'I21.1 Острый трансмуральный инфаркт нижней стенки миокарда\\'}}]}, {\\'td\\': [{\\'content\\': {\\'text\\': \\'Услуги\\'}}, {\\'content\\': {\\'text\\': \\'Регистрация электрокардиограммы (A05.10.006)\\'}}]}, {\\'td\\': [{\\'content\\': {\\'text\\': \\'Врач\\'}}, {\\'content\\': {\\'text\\': \\' на (Врач функциональной диагностики)\\'}}]}]}, \\'width\\': \\'100%\\'}}}, \\'Сведения о пребывании пациента в Кардиологическое отделение с ПРиИТ для лечения больных с ОКС (ПСО) №2\\': {\\'Электрокардиография (17.10.2020 00:06)\\': {\\'table\\': {\\'col\\': [{\\'width\\': \\'12%\\'}, {\\'width\\': \\'88%\\'}], \\'tbody\\': {\\'tr\\': [{\\'td\\': [{\\'content\\': {\\'text\\': \\'Эффективная доза\\'}}, {\\'content\\': {}}]}, {\\'td\\': [{\\'content\\': {\\'text\\': \\'Протокол\\'}}, {\\'content\\': {\\'text\\': \\'\"\" \\\\n\"\"\\\\n\\\\n\\\\nПРОТОКОЛ ОБСЛЕДОВАНИЯ № \\\\n\\\\n\\\\nФ.И.О.: А Н С\\\\nВОЗРАСТ (ДАТА РОЖДЕНИЯ): 57 ( 01.01.1698)\\\\nПРЕДВАРИТЕЛЬНЫЙ ДИАГНОЗ: \\\\nКО2 15.10.2020 13:00 \\\\nЗАКЛЮЧЕНИЕ:\\\\nСИНУСОВАЯ БРАДИКАРДИЯ, ЧСС 51 УД/МИН.\\\\nЭОС ОТКЛОНЕНА ВЛЕВО. НЕПОЛНАЯ БПНПГИСА.\\\\nИЗМЕНЕНИЯ ПРОЦЕССОВ РЕПОЛЯРИЗАЦИИ НИЖНЕЙ СТЕНКИ ЛЖ.\\\\nНЕ ИСКЛЮЧАЕТСЯ ГЛЖ.\\'}}]}, {\\'td\\': [{\\'content\\': {\\'text\\': \\'Заключение\\'}}, {\\'content\\': {\\'text\\': \\'ЗАКЛЮЧЕНИЕ:\\\\nСИНУСОВАЯ БРАДИКАРДИЯ, ЧСС 51 УД/МИН.\\\\nЭОС ОТКЛОНЕНА ВЛЕВО. НЕПОЛНАЯ БПНПГИСА.\\\\nИЗМЕНЕНИЯ ПРОЦЕССОВ РЕПОЛЯРИЗАЦИИ НИЖНЕЙ СТЕНКИ ЛЖ.\\\\nНЕ ИСКЛЮЧАЕТСЯ ГЛЖ.\\'}}]}, {\\'td\\': [{\\'content\\': {\\'text\\': \\'Выявленная патология\\'}}, {\\'content\\': {}}]}, {\\'td\\': [{\\'content\\': {\\'text\\': \\'Диагноз\\'}}, {\\'content\\': {\\'text\\': \\'I21.1 Острый трансмуральный инфаркт нижней стенки миокарда\\'}}]}, {\\'td\\': [{\\'content\\': {\\'text\\': \\'Услуги\\'}}, {\\'content\\': {\\'text\\': \\'Регистрация электрокардиограммы (A05.10.006)\\'}}]}, {\\'td\\': [{\\'content\\': {\\'text\\': \\'Врач\\'}}, {\\'content\\': {\\'text\\': \\' на (Врач функциональной диагностики)\\'}}]}]}, \\'width\\': \\'100%\\'}}, \\'Электрокардиография (19.10.2020 08:12)\\': {\\'table\\': {\\'col\\': [{\\'width\\': \\'12%\\'}, {\\'width\\': \\'88%\\'}], \\'tbody\\': {\\'tr\\': [{\\'td\\': [{\\'content\\': {\\'text\\': \\'Эффективная доза\\'}}, {\\'content\\': {}}]}, {\\'td\\': [{\\'content\\': {\\'text\\': \\'Протокол\\'}}, {\\'content\\': {\\'text\\': \\'\"\" \\\\n\"\"\\\\n\\\\n\\\\nПРОТОКОЛ ОБСЛЕДОВАНИЯ № \\\\n\\\\n\\\\nФ.И.О.: А Н С\\\\nВОЗРАСТ (ДАТА РОЖДЕНИЯ): 57 ( 01.01.1698)\\\\nПРЕДВАРИТЕЛЬНЫЙ ДИАГНОЗ: \\\\nРАО-1 05:19 15.10.2020\\\\nЗАКЛЮЧЕНИЕ:\\\\nЭКТОПИЧЕСКИЙ ПРЕДСЕРДНЫЙ РИТМ С ЧСС 54 УД/МИН.\\\\nЭОС ОТКЛОНЕНА ВЛЕВО. НЕПОЛНАЯ БПНПГИСА.\\\\nПРИЗНАКИ ТЕЧЕНИЯ ПОДОСТРОГО ИМ НИЖНЕЙ СТЕНКИ (ST НА ИЗОЛИНИИ, ИНВЕРСИЯ З.Т)\\\\nЖЭС.\\'}}]}, {\\'td\\': [{\\'content\\': {\\'text\\': \\'Заключение\\'}}, {\\'content\\': {\\'text\\': \\'ЗАКЛЮЧЕНИЕ:\\\\nЭКТОПИЧЕСКИЙ ПРЕДСЕРДНЫЙ РИТМ С ЧСС 54 УД/МИН.\\\\nЭОС ОТКЛОНЕНА ВЛЕВО. НЕПОЛНАЯ БПНПГИСА.\\\\nПРИЗНАКИ ТЕЧЕНИЯ ПОДОСТРОГО ИМ НИЖНЕЙ СТЕНКИ (ST НА ИЗОЛИНИИ, ИНВЕРСИЯ З.Т)\\\\nЖЭС.\\'}}]}, {\\'td\\': [{\\'content\\': {\\'text\\': \\'Выявленная патология\\'}}, {\\'content\\': {}}]}, {\\'td\\': [{\\'content\\': {\\'text\\': \\'Диагноз\\'}}, {\\'content\\': {\\'text\\': \\'I21.1 Острый трансмуральный инфаркт нижней стенки миокарда\\'}}]}, {\\'td\\': [{\\'content\\': {\\'text\\': \\'Услуги\\'}}, {\\'content\\': {\\'text\\': \\'Регистрация электрокардиограммы (A05.10.006)\\'}}]}, {\\'td\\': [{\\'content\\': {\\'text\\': \\'Врач\\'}}, {\\'content\\': {\\'text\\': \\' (Врач функциональной диагностики)\\'}}]}]}, \\'width\\': \\'100%\\'}}, \\'Электрокардиография (19.10.2020 08:36)\\': {\\'table\\': {\\'col\\': [{\\'width\\': \\'12%\\'}, {\\'width\\': \\'88%\\'}], \\'tbody\\': {\\'tr\\': [{\\'td\\': [{\\'content\\': {\\'text\\': \\'Эффективная доза\\'}}, {\\'content\\': {}}]}, {\\'td\\': [{\\'content\\': {\\'text\\': \\'Протокол\\'}}, {\\'content\\': {\\'text\\': \\'\"\" \\\\n\"\"\\\\n\\\\n\\\\nПРОТОКОЛ ОБСЛЕДОВАНИЯ № \\\\n\\\\n\\\\nФ.И.О.: А Н С\\\\nВОЗРАСТ (ДАТА РОЖДЕНИЯ): 57 ( 01.01.1698)\\\\nПРЕДВАРИТЕЛЬНЫЙ ДИАГНОЗ: \\\\nРАО-1 12:50 14.10.2020\\\\nЗАКЛЮЧЕНИЕ:\\\\nЭКТОПИЧЕСКИЙ ПРЕДСЕРДНЫЙ РИТМ С ЧСС 58 УД/МИН.\\\\nЭОС ОТКЛОНЕНА ВЛЕВО. НЕПОЛНАЯ БПНПГИСА.\\\\nПРИЗНАКИ ТЕЧЕНИЯ ПОДОСТРОГО ИМ НИЖНЕЙ СТЕНКИ (ST НА ИЗОЛИНИИ, ИНВЕРСИЯ З.Т)\\'}}]}, {\\'td\\': [{\\'content\\': {\\'text\\': \\'Заключение\\'}}, {\\'content\\': {\\'text\\': \\'ЗАКЛЮЧЕНИЕ:\\\\nЭКТОПИЧЕСКИЙ ПРЕДСЕРДНЫЙ РИТМ С ЧСС 58 УД/МИН.\\\\nЭОС ОТКЛОНЕНА ВЛЕВО. НЕПОЛНАЯ БПНПГИСА.\\\\nПРИЗНАКИ ТЕЧЕНИЯ ПОДОСТРОГО ИМ НИЖНЕЙ СТЕНКИ (ST НА ИЗОЛИНИИ, ИНВЕРСИЯ З.Т)\\'}}]}, {\\'td\\': [{\\'content\\': {\\'text\\': \\'Выявленная патология\\'}}, {\\'content\\': {}}]}, {\\'td\\': [{\\'content\\': {\\'text\\': \\'Диагноз\\'}}, {\\'content\\': {\\'text\\': \\'I21.1 Острый трансмуральный инфаркт нижней стенки миокарда\\'}}]}, {\\'td\\': [{\\'content\\': {\\'text\\': \\'Услуги\\'}}, {\\'content\\': {\\'text\\': \\'Регистрация электрокардиограммы (A05.10.006)\\'}}]}, {\\'td\\': [{\\'content\\': {\\'text\\': \\'Врач\\'}}, {\\'content\\': {\\'text\\': \\' (Врач функциональной диагностики)\\'}}]}]}, \\'width\\': \\'100%\\'}}, \\'Электрокардиография (19.10.2020 09:53)\\': {\\'table\\': {\\'col\\': [{\\'width\\': \\'12%\\'}, {\\'width\\': \\'88%\\'}], \\'tbody\\': {\\'tr\\': [{\\'td\\': [{\\'content\\': {\\'text\\': \\'Эффективная доза\\'}}, {\\'content\\': {}}]}, {\\'td\\': [{\\'content\\': {\\'text\\': \\'Протокол\\'}}, {\\'content\\': {\\'text\\': \\'\"\" \\\\n\"\"\\\\n\\\\n\\\\nПРОТОКОЛ ОБСЛЕДОВАНИЯ № \\\\n\\\\n\\\\nФ.И.О.: А Н С\\\\nВОЗРАСТ (ДАТА РОЖДЕНИЯ): 57 ( 01.01.1698)\\\\nПРЕДВАРИТЕЛЬНЫЙ ДИАГНОЗ: \\\\nРАО-1 6:50 16.000.2020\\\\nЗАКЛЮЧЕНИЕ:\\\\nЭКТОПИЧЕСКИЙ ПРЕДСЕРДНЫЙ РИТМ С ЧСС 58 УД/МИН.\\\\nЭОС ОТКЛОНЕНА ВЛЕВО. НЕПОЛНАЯ БПНПГИСА.\\\\nЗАКОНОМЕРНАЯ ПОЛОЖИТЕЛЬНАЯ ДИНАМИКА QНИЖНЕГО ИМ\\'}}]}, {\\'td\\': [{\\'content\\': {\\'text\\': \\'Заключение\\'}}, {\\'content\\': {\\'text\\': \\'ЗАКЛЮЧЕНИЕ:\\\\nЭКТОПИЧЕСКИЙ ПРЕДСЕРДНЫЙ РИТМ С ЧСС 58 УД/МИН.\\\\nЭОС ОТКЛОНЕНА ВЛЕВО. НЕПОЛНАЯ БПНПГИСА.\\\\nЗАКОНОМЕРНАЯ ПОЛОЖИТЕЛЬНАЯ ДИНАМИКА QНИЖНЕГО ИМ\\'}}]}, {\\'td\\': [{\\'content\\': {\\'text\\': \\'Выявленная патология\\'}}, {\\'content\\': {}}]}, {\\'td\\': [{\\'content\\': {\\'text\\': \\'Диагноз\\'}}, {\\'content\\': {\\'text\\': \\'I21.1 Острый трансмуральный инфаркт нижней стенки миокарда\\'}}]}, {\\'td\\': [{\\'content\\': {\\'text\\': \\'Услуги\\'}}, {\\'content\\': {\\'text\\': \\'Регистрация электрокардиограммы (A05.10.006)\\'}}]}, {\\'td\\': [{\\'content\\': {\\'text\\': \\'Врач\\'}}, {\\'content\\': {\\'text\\': \\' (Врач функциональной диагностики)\\'}}]}]}, \\'width\\': \\'100%\\'}}, \\'Электрокардиография (19.10.2020 09:55)\\': {\\'table\\': {\\'col\\': [{\\'width\\': \\'12%\\'}, {\\'width\\': \\'88%\\'}], \\'tbody\\': {\\'tr\\': [{\\'td\\': [{\\'content\\': {\\'text\\': \\'Эффективная доза\\'}}, {\\'content\\': {}}]}, {\\'td\\': [{\\'content\\': {\\'text\\': \\'Протокол\\'}}, {\\'content\\': {\\'text\\': \\'\"\" \\\\n\"\"\\\\n\\\\n\\\\nПРОТОКОЛ ОБСЛЕДОВАНИЯ № \\\\n\\\\n\\\\nФ.И.О.: А Н С\\\\nВОЗРАСТ (ДАТА РОЖДЕНИЯ): 57 ( 01.01.1698)\\\\nПРЕДВАРИТЕЛЬНЫЙ ДИАГНОЗ: \\\\n17:50 106.00.2020\\\\nЗАКЛЮЧЕНИЕ:\\\\nЭКТОПИЧЕСКИЙ ПРЕДСЕРДНЫЙ РИТМ С ЧСС 59 УД/МИН.\\\\nЭОС ОТКЛОНЕНА ВЛЕВО. НЕПОЛНАЯ БПНПГИСА.\\\\nЗАКОНОМЕРНАЯ ПОЛОЖИТЕЛЬНАЯ ДИНАМИКА QНИЖНЕГО ИМ\\'}}]}, {\\'td\\': [{\\'content\\': {\\'text\\': \\'Заключение\\'}}, {\\'content\\': {\\'text\\': \\'ЗАКЛЮЧЕНИЕ:\\\\nЭКТОПИЧЕСКИЙ ПРЕДСЕРДНЫЙ РИТМ С ЧСС 59 УД/МИН.\\\\nЭОС ОТКЛОНЕНА ВЛЕВО. НЕПОЛНАЯ БПНПГИСА.\\\\nЗАКОНОМЕРНАЯ ПОЛОЖИТЕЛЬНАЯ ДИНАМИКА QНИЖНЕГО ИМ\\'}}]}, {\\'td\\': [{\\'content\\': {\\'text\\': \\'Выявленная патология\\'}}, {\\'content\\': {}}]}, {\\'td\\': [{\\'content\\': {\\'text\\': \\'Диагноз\\'}}, {\\'content\\': {\\'text\\': \\'I21.1 Острый трансмуральный инфаркт нижней стенки миокарда\\'}}]}, {\\'td\\': [{\\'content\\': {\\'text\\': \\'Услуги\\'}}, {\\'content\\': {\\'text\\': \\'Регистрация электрокардиограммы (A05.10.006)\\'}}]}, {\\'td\\': [{\\'content\\': {\\'text\\': \\'Врач\\'}}, {\\'content\\': {\\'text\\': \\' (Врач функциональной диагностики)\\'}}]}]}, \\'width\\': \\'100%\\'}}, \\'Ультразвуковое исследование экстракраниального отдела брахиоцефальных артерий с функциональными пробами (19.10.2020 14:08)\\': {\\'table\\': {\\'col\\': [{\\'width\\': \\'12%\\'}, {\\'width\\': \\'88%\\'}], \\'tbody\\': {\\'tr\\': [{\\'td\\': [{\\'content\\': {\\'text\\': \\'Эффективная доза\\'}}, {\\'content\\': {}}]}, {\\'td\\': [{\\'content\\': {\\'text\\': \\'Протокол\\'}}, {\\'content\\': {\\'text\\': \\'\"\" \\\\n\"\"\\\\n\\\\nПРОТОКОЛ ОБСЛЕДОВАНИЯ № \\\\n\\\\n\\\\nПАЦИЕНТ: А Н С\\\\nВОЗРАСТ: 57\\\\nПОДКЛЮЧИЧНЫЕ АРТЕРИИ:\\\\nКОНТУРЫ СОСУДИСТОЙ СТЕНКИ: РОВНЫЕ, ЧЕТКИЕ \\\\nИНТИМА: УТОЛЩЕНА \\\\nШИРИНА СОСУДА: (ДИАМЕТР ММ) \\\\n D: 7,5\\\\n S: 8,1 \\\\nТИП КРОВОТОКА: МАГИСТРАЛЬНЫЙ \\\\nСКОРОСТНЫЕ ПОКАЗАТЕЛИ КРОВОТОКА (М/С): \\\\n D: 1,0\\\\n S: 1,0 \\\\nС-ИЗГИБ В УСТЬЕ ППКА \\\\nОБЩИЕ СОННЫЕ АРТЕРИИ:\\\\nКОНТУРЫ СОСУДИСТОЙ СТЕНКИ: РОВНЫЕ, ЧЕТКИЕ \\\\nИНТИМА: УТОЛЩЕНА \\\\nШИРИНА СОСУДА: (ДИАМЕТР ММ) \\\\n D: 8,2\\\\nS: 7,6 \\\\nТИП КРОВОТОКА: МАГИСТРАЛЬНЫЙ \\\\nСКОРОСТНЫЕ ПОКАЗАТЕЛИ КРОВОТОКА (М/С): \\\\n D: 0,65\\\\nS: 0,65 \\\\n С-ИЗГИБ ПОСА\\\\nАТЕРОСКЛЕРОТИЧЕСКАЯ БЛЯШКА В БАССЕЙНЕ ПОСА ПОЛУЦИРКУЛЯРНАЯ СРЕДНЕЙ ПЛОТНОСТИ ГЕТЕРОГЕННАЯ РОВНАЯ ПРОЛОНГОРОВАННАЯ , СУЖИВАЮЩАЯ ПРОСВЕТ НА 25-27% \\\\nАТЕРОСКЛЕРОТИЧЕСКАЯ БЛЯШКА В БИФУРКАИИ ПОСА ПОЛУЦИРКУЛЯРНАЯ СРЕДНЕЙ ПЛОТНОСТИ ГЕТЕРОГЕННАЯ РОВНАЯ СТЕНОЗИРУЮЩАЯ НА 25% С ПЕРЕХОДОМ НА УСТЬЕ ПВСА СТЕНОЗИРУЮЩАЯ НА 20-25% \\\\nАТЕРОСКЛЕРОТИЧЕСКАЯ БЛЯШКА В БИФУРКАЦИИ ЛОСА ПОЛУЦИРКУЛЯРНАЯ СРЕДНЕЙ ПЛОТНОСТИ ГЕТЕРОГЕННАЯ РОВНАЯ СТЕНОЗИРУЮЩАЯ НА 25-27% С ПЕРЕХОДОМ НА УСТЬЕ ЛВСА СТЕНОЗИРУЮЩАЯ НА 20-25% \\\\nВНУТРЕННИЕ СОННЫЕ АРТЕРИИ:\\\\nКОНТУРЫ СОСУДИСТОЙ СТЕНКИ: РОВНЫЕ, ЧЕТКИЕ \\\\nИНТИМА: УТОЛЩЕНА \\\\nШИРИНА СОСУДА: (ДИАМЕТР ММ) \\\\n D: 4,6\\\\nS: 4,6 \\\\nТИП КРОВОТОКА: МАГИСТРАЛЬНЫЙ \\\\nСКОРОСТНЫЕ ПОКАЗАТЕЛИ КРОВОТОКА (М/С): \\\\n D: 1,0\\\\nS: 0,9 \\\\nС-ИЗГИБ ОБЕИХ ВСА\\\\nПОЗВОНОЧНЫЕ АРТЕРИИ:\\\\nУСТЬЕ ПОЗВОНОЧНОЙ АРТЕРИИ: ВИЗУАЛИЗИРУЮТСЯ СПРАВА И СЛЕВА \\\\nКОНТУРЫ СОСУДИСТОЙ СТЕНКИ: РОВНЫЕ, ЧЕТКИЕ \\\\nДИАМЕТР, ММ: \\\\n D: 4,3 \\\\n S: 3,6 \\\\nСКОРОСТНЫЕ ПОКАЗАТЕЛИ КРОВОТОКА (СМ/С): \\\\nВ СЕГМЕНТЕ V1 \\\\n D: 67 \\\\n S: 57 \\\\nВ СЕГМЕНТЕ V2 \\\\n D: 40 \\\\n S: 40 \\\\n\\\\nЗАКЛЮЧЕНИЕ ЭХО-ПРИЗНАКИ АТЕРОСКЛЕРОЗА БЦ-АРТЕРИЙ: НАЧАЛЬНЫХ СТЕНОТИЧЕСКИХ ИЗМЕНЕНИЙ ОБЕИХ ВСА, ОБЕИХ ОСА; НЕЗНАЧИМОЙ С-ДЕФОРМАЦИИ ОБЕИХ ВСА, ППКА, ИЗВИТОГО ХОДА ОБЕИХ ПА В V1-2, АСИММЕТРИИ ДИАМЕТРОВ ПА (D>S)\\'}}]}, {\\'td\\': [{\\'content\\': {\\'text\\': \\'Заключение\\'}}, {\\'content\\': {\\'text\\': \\'ЗАКЛЮЧЕНИЕ ЭХО-ПРИЗНАКИ АТЕРОСКЛЕРОЗА БЦ-АРТЕРИЙ: НАЧАЛЬНЫХ СТЕНОТИЧЕСКИХ ИЗМЕНЕНИЙ ОБЕИХ ВСА, ОБЕИХ ОСА; НЕЗНАЧИМОЙ С-ДЕФОРМАЦИИ ОБЕИХ ВСА, ППКА, ИЗВИТОГО ХОДА ОБЕИХ ПА В V1-2, АСИММЕТРИИ ДИАМЕТРОВ ПА (D>S)\\'}}]}, {\\'td\\': [{\\'content\\': {\\'text\\': \\'Выявленная патология\\'}}, {\\'content\\': {}}]}, {\\'td\\': [{\\'content\\': {\\'text\\': \\'Диагноз\\'}}, {\\'content\\': {\\'text\\': \\'I21.1 Острый трансмуральный инфаркт нижней стенки миокарда\\'}}]}, {\\'td\\': [{\\'content\\': {\\'text\\': \\'Услуги\\'}}, {\\'content\\': {\\'text\\': \\'Дуплексное сканирование брахиоцефальных артерий с цветным допплеровским картированием кровотока (A04.12.005.003)\\'}}]}, {\\'td\\': [{\\'content\\': {\\'text\\': \\'Врач\\'}}, {\\'content\\': {\\'text\\': \\' (Врач ультразвуковой диагностики)\\'}}]}]}, \\'width\\': \\'100%\\'}}, \\'Электрокардиография (19.10.2020 14:16)\\': {\\'table\\': {\\'col\\': [{\\'width\\': \\'12%\\'}, {\\'width\\': \\'88%\\'}], \\'tbody\\': {\\'tr\\': [{\\'td\\': [{\\'content\\': {\\'text\\': \\'Эффективная доза\\'}}, {\\'content\\': {}}]}, {\\'td\\': [{\\'content\\': {\\'text\\': \\'Протокол\\'}}, {\\'content\\': {\\'text\\': \\'\\\\n\\\\nПРОТОКОЛ ОБСЛЕДОВАНИЯ № \\\\n\\\\n\\\\nФ.И.О.: А Н С\\\\nВОЗРАСТ (ДАТА РОЖДЕНИЯ): 57 ( 01.01.1698) \\\\nРЕЗУЛЬТАТЫ ОБСЛЕДОВАНИЯ:\\\\nПРАВОЕ ПРЕДСЕРДИЕ: 3,5 СМ.; \\\\tПРАВЫЙ ЖЕЛУДОЧЕК: 3,0 СМ.; \\\\nЛЕВОЕ ПРЕДСЕРДИЕ: 3,9 СМ.; В ДЛИНУ: СМ.; ОБЪЕМ МЛ.\\\\nЛЕВЫЙ ЖЕЛУДОЧЕК: \\\\nКДО: 115 МЛ.; КСО: 40 МЛ.; УО:74 МЛ. ФВ 65 %\\\\nМЖП: 1,1 СМ ; НОРМОКИНЕЗ \\\\nЗАДНЯЯ СТЕНКА: 1,0 СМ.; НОРМОКИНЕЗ \\\\n\\\\nМИТРАЛЬНЫЙ КЛАПАН: СТВОРКИ НЕ УПЛОТНЕНЫ, ПРОТИВОФАЗА СОХРАНЕНА \\\\n\\\\tРСМК - СМ.;\\\\tФК В ДИАСТОЛУ - СМ.;\\\\nМИТРАЛЬНОЕ ОТВЕРСТИЕ: СМ2.; Д - СМ2\\\\nГРАДИЕНТ ДАВЛЕНИЯ ПИК: 1,7 ММ. РТ. СТ. СРЕДНИЙ: ММ. РТ. СТ.\\\\nСКОРОСТЬ КРОВОТОКА: 0,6 М/С.; СТЕПЕНЬ РЕГУРГИТАЦИИ: 1\\\\nЕ/А 1,2 \\\\nАОРТА: СТЕНКИ УПЛОТНЕНЫ, АМПЛИТУДА ИХ ДВИЖЕНИЯ СОХРАНЕНА \\\\nФИБРОЗНОЕ КОЛЬЦО: 2,3 СМ.; УПЛОТНЕНО;\\\\nДИАМЕТР АО НА УРОВНЕ СИНУСОВ ВАЛЬСАЛЬВЫ: 3,5 СМ. ВОСХОДЯЩАЯ АОРТА: 3,4 СМ..;\\\\nДУГА АОРТЫ 2,9 СМ\\\\nАОРТАЛЬНЫЙ КЛАПАН: СТВОРКИ УПЛОТНЕНЫ ОТКРЫТИЕ СМ.\\\\nГРАДИЕНТ ДАВЛЕНИЯ ПИК: 6,0 ММ. РТ. СТ.; СРЕДНИЙ: ММ. РТ. СТ.\\\\nСКОРОСТЬ КРОВОТОКА: 1,2 М/С. СТЕПЕНЬ РЕГУРГИТАЦИИ: ; \\\\nТРИКУСПИДАЛЬНЫЙ КЛАПАН: ИНТАКТНЫЙ \\\\nГРАДИЕНТ ДАВЛЕНИЯ ПИК: ММ. РТ. СТ.; СРЕДНИЙ: ММ. РТ. СТ.\\\\nСКОРОСТЬ КРОВОТОКА: М/С. СТЕПЕНЬ РЕГУРГИТАЦИИ: 1\\\\nЛЕГОЧНАЯ АРТЕРИЯ: ФК СМ, СТВОЛ: 2,4 СМ, ПРАВАЯ ВЕТВЬ СМ, ЛЕВАЯ: СМ.\\\\nГРАДИЕНТ ДАВЛЕНИЯ ПИК: 4,0 ММ. РТ. СТ.; СРЕДНИЙ: ММ. РТ. СТ.\\\\nСКОРОСТЬ КРОВОТОКА: 1,0 М/С.; СТЕПЕНЬ РЕГУРГИТАЦИИ: 1 \\\\nСИСТ. ДАВЛЕНИЕ В ЛЕГОЧНОЙ АРТЕРИИ: ММ. РТ. СТ. ПО ПОТОКУ TR 29 ММ. РТ. СТ.\\\\nПЕРИКАРД: Б/О ЧСС: УД. В МИН. \\\\nЗАКЛЮЧЕНИЕ:\\\\nКАМЕРЫ СЕРДЦА НЕ РАСШИРЕНЫ. \\\\nУПЛОТНЕНИЕ КОРНЯ И СТЕНОК ВОСХОДЯЩЕЙ АОРТЫ, УПЛОТНЕНИЕ ПОЛУЛУНИЙ АК.\\\\nСОКРАТИТЕЛЬНАЯ ФУНКЦИЯ МИОКАРДА СОХРАНЕНА. \\\\nДАННЫХ ЗА ЖИДКОСТЬ В ПОЛОСТИ ПЕРИКАРДА НЕТ\\'}}]}, {\\'td\\': [{\\'content\\': {\\'text\\': \\'Заключение\\'}}, {\\'content\\': {\\'text\\': \\'ЗАКЛЮЧЕНИЕ:\\\\nКАМЕРЫ СЕРДЦА НЕ РАСШИРЕНЫ. \\\\nУПЛОТНЕНИЕ КОРНЯ И СТЕНОК ВОСХОДЯЩЕЙ АОРТЫ, УПЛОТНЕНИЕ ПОЛУЛУНИЙ АК.\\\\nСОКРАТИТЕЛЬНАЯ ФУНКЦИЯ МИОКАРДА СОХРАНЕНА. \\\\nДАННЫХ ЗА ЖИДКОСТЬ В ПОЛОСТИ ПЕРИКАРДА НЕТ\\'}}]}, {\\'td\\': [{\\'content\\': {\\'text\\': \\'Выявленная патология\\'}}, {\\'content\\': {}}]}, {\\'td\\': [{\\'content\\': {\\'text\\': \\'Диагноз\\'}}, {\\'content\\': {\\'text\\': \\'I21.1 Острый трансмуральный инфаркт нижней стенки миокарда\\'}}]}, {\\'td\\': [{\\'content\\': {\\'text\\': \\'Услуги\\'}}, {\\'content\\': {\\'text\\': \\'Эхокардиография (A04.10.002)\\'}}]}, {\\'td\\': [{\\'content\\': {\\'text\\': \\'Врач\\'}}, {\\'content\\': {\\'text\\': \\' (Врач ультразвуковой диагностики)\\'}}]}]}, \\'width\\': \\'100%\\'}}, \\'Электрокардиография (20.10.2020 09:00)\\': {\\'table\\': {\\'col\\': [{\\'width\\': \\'12%\\'}, {\\'width\\': \\'88%\\'}], \\'tbody\\': {\\'tr\\': [{\\'td\\': [{\\'content\\': {\\'text\\': \\'Эффективная доза\\'}}, {\\'content\\': {}}]}, {\\'td\\': [{\\'content\\': {\\'text\\': \\'Протокол\\'}}, {\\'content\\': {\\'text\\': \\'\"\" \\\\n\"\"\\\\n\\\\n\\\\nПРОТОКОЛ ОБСЛЕДОВАНИЯ № \\\\n\\\\n\\\\nФ.И.О.: А Н С\\\\nВОЗРАСТ (ДАТА РОЖДЕНИЯ): 57 ( 01.01.1698)\\\\nПРЕДВАРИТЕЛЬНЫЙ ДИАГНОЗ: \\\\n19.10.20. 15.30\\\\nЗАКЛЮЧЕНИЕ:\\\\nСИНУСОВЫЙ РИТМ С ЧСС 59 УД/МИН.\\\\nЭОС ОТКЛОНЕНА ВЛЕВО. НЕПОЛНАЯ БПНПГИСА.\\\\nЗАКОНОМЕРНАЯ ПОЛОЖИТЕЛЬНАЯ ДИНАМИКА QНИЖНЕГО ИМ\\'}}]}, {\\'td\\': [{\\'content\\': {\\'text\\': \\'Заключение\\'}}, {\\'content\\': {\\'text\\': \\'ЗАКЛЮЧЕНИЕ:\\\\nСИНУСОВЫЙ РИТМ С ЧСС 59 УД/МИН.\\\\nЭОС ОТКЛОНЕНА ВЛЕВО. НЕПОЛНАЯ БПНПГИСА.\\\\nЗАКОНОМЕРНАЯ ПОЛОЖИТЕЛЬНАЯ ДИНАМИКА QНИЖНЕГО ИМ\\'}}]}, {\\'td\\': [{\\'content\\': {\\'text\\': \\'Выявленная патология\\'}}, {\\'content\\': {}}]}, {\\'td\\': [{\\'content\\': {\\'text\\': \\'Диагноз\\'}}, {\\'content\\': {\\'text\\': \\'I21.1 Острый трансмуральный инфаркт нижней стенки миокарда\\'}}]}, {\\'td\\': [{\\'content\\': {\\'text\\': \\'Услуги\\'}}, {\\'content\\': {\\'text\\': \\'Регистрация электрокардиограммы (A05.10.006)\\'}}]}, {\\'td\\': [{\\'content\\': {\\'text\\': \\'Врач\\'}}, {\\'content\\': {\\'text\\': \\' (Врач функциональной диагностики)\\'}}]}]}, \\'width\\': \\'100%\\'}}, \\'Электрокардиография (20.10.2020 09:03)\\': {\\'table\\': {\\'col\\': [{\\'width\\': \\'12%\\'}, {\\'width\\': \\'88%\\'}], \\'tbody\\': {\\'tr\\': [{\\'td\\': [{\\'content\\': {\\'text\\': \\'Эффективная доза\\'}}, {\\'content\\': {}}]}, {\\'td\\': [{\\'content\\': {\\'text\\': \\'Протокол\\'}}, {\\'content\\': {\\'text\\': \\'\"\" \\\\n\"\"\\\\n\\\\n\\\\nПРОТОКОЛ ОБСЛЕДОВАНИЯ № \\\\n\\\\n\\\\nФ.И.О.: А Н С\\\\nВОЗРАСТ (ДАТА РОЖДЕНИЯ): 57 ( 01.01.1698)\\\\nПРЕДВАРИТЕЛЬНЫЙ ДИАГНОЗ: \\\\n19.10.20. 18.00\\\\nЗАКЛЮЧЕНИЕ:\\\\nСИНУСОВЫЙ РИТМ С ЧСС 61УД/МИН.\\\\nЭОС ОТКЛОНЕНА ВЛЕВО. НЕПОЛНАЯ БПНПГИСА.\\\\nЗАКОНОМЕРНАЯ ПОЛОЖИТЕЛЬНАЯ ДИНАМИКА QНИЖНЕГО ИМ\\'}}]}, {\\'td\\': [{\\'content\\': {\\'text\\': \\'Заключение\\'}}, {\\'content\\': {\\'text\\': \\'ЗАКЛЮЧЕНИЕ:\\\\nСИНУСОВЫЙ РИТМ С ЧСС 61УД/МИН.\\\\nЭОС ОТКЛОНЕНА ВЛЕВО. НЕПОЛНАЯ БПНПГИСА.\\\\nЗАКОНОМЕРНАЯ ПОЛОЖИТЕЛЬНАЯ ДИНАМИКА QНИЖНЕГО ИМ\\'}}]}, {\\'td\\': [{\\'content\\': {\\'text\\': \\'Выявленная патология\\'}}, {\\'content\\': {}}]}, {\\'td\\': [{\\'content\\': {\\'text\\': \\'Диагноз\\'}}, {\\'content\\': {\\'text\\': \\'I21.1 Острый трансмуральный инфаркт нижней стенки миокарда\\'}}]}, {\\'td\\': [{\\'content\\': {\\'text\\': \\'Услуги\\'}}, {\\'content\\': {\\'text\\': \\'Регистрация электрокардиограммы (A05.10.006)\\'}}]}, {\\'td\\': [{\\'content\\': {\\'text\\': \\'Врач\\'}}, {\\'content\\': {\\'text\\': \\' (Врач функциональной диагностики)\\'}}]}]}, \\'width\\': \\'100%\\'}}, \\'Ультразвуковое исследование мягких тканей передней поверхности живота (22.10.2020 09:57)\\': {\\'table\\': {\\'col\\': [{\\'width\\': \\'12%\\'}, {\\'width\\': \\'88%\\'}], \\'tbody\\': {\\'tr\\': [{\\'td\\': [{\\'content\\': {\\'text\\': \\'Эффективная доза\\'}}, {\\'content\\': {}}]}, {\\'td\\': [{\\'content\\': {\\'text\\': \\'Протокол\\'}}, {\\'content\\': {\\'text\\': \\'\"\" \\\\n\"\"\\\\n\\\\nПРОТОКОЛ ОБСЛЕДОВАНИЯ № \\\\n\\\\nФ.И.О. БОЛЬНОГО: А Н С\\\\nВОЗРАСТ (ДАТА РОЖДЕНИЯ): 57 ( 01.01.1698)\\\\n\\\\nОБЛАСТЬ ИССЛЕДОВАНИЯ: ВНУТРЕННЯЯ ПОВЕРХНОСТЬ ПРАВОГО ПРЕДПЛЕЧЬЯ.\\\\n\\\\nМЯГКИЕ ТКАНИ ВНУТРЕННЕЙ ПОВЕРХНОСТИ ПРАВОГО ПРЕДПЛЕЧЬЯ УМЕРЕННО ОТЕЧНЫ, ДИФФУЗНО ИНФИЛЬТРИРОВАНЫ (БОЛЬШЕ В С/3), ЗОНЫ НЕО- И ГИПЕРВАСКУЛЯРИЗАЦИИ НЕ ВЫЯВЛЕНЫ.\\\\n\\\\nДОПОЛНЕНИЯ:\\\\nДОПОЛНИТЕЛЬНЫХ ОБРАЗОВАНИЙ\\\\xa0 НЕ ВЫЯВЛЕНО. \\\\nЗАКЛЮЧЕНИЕ:\\\\nУЗ УМЕРЕННОГО ОТЕКА МЯГКИХ ТКАНЕЙ ВНУТРЕННЕЙ ПОВЕРХНОСТИ ПРАВОГО ПРЕДПЛЕЧЬЯ.\\'}}]}, {\\'td\\': [{\\'content\\': {\\'text\\': \\'Заключение\\'}}, {\\'content\\': {\\'text\\': \\'ЗАКЛЮЧЕНИЕ:\\\\nУЗ УМЕРЕННОГО ОТЕКА МЯГКИХ ТКАНЕЙ ВНУТРЕННЕЙ ПОВЕРХНОСТИ ПРАВОГО ПРЕДПЛЕЧЬЯ.\\'}}]}, {\\'td\\': [{\\'content\\': {\\'text\\': \\'Выявленная патология\\'}}, {\\'content\\': {}}]}, {\\'td\\': [{\\'content\\': {\\'text\\': \\'Диагноз\\'}}, {\\'content\\': {\\'text\\': \\'I21.1 Острый трансмуральный инфаркт нижней стенки миокарда\\'}}]}, {\\'td\\': [{\\'content\\': {\\'text\\': \\'Услуги\\'}}, {\\'content\\': {\\'text\\': \\'Ультразвуковое исследование мягких тканей (одна анатомическая зона) (A04.01.001)\\'}}]}, {\\'td\\': [{\\'content\\': {\\'text\\': \\'Врач\\'}}, {\\'content\\': {\\'text\\': \\' (Врач ультразвуковой диагностики)\\'}}]}]}, \\'width\\': \\'100%\\'}}, \\'Электрокардиография (26.10.2020 12:14)\\': {\\'table\\': {\\'col\\': [{\\'width\\': \\'12%\\'}, {\\'width\\': \\'88%\\'}], \\'tbody\\': {\\'tr\\': [{\\'td\\': [{\\'content\\': {\\'text\\': \\'Эффективная доза\\'}}, {\\'content\\': {}}]}, {\\'td\\': [{\\'content\\': {\\'text\\': \\'Протокол\\'}}, {\\'content\\': {\\'text\\': \\'\"\" \\\\n\"\"\\\\n\\\\n\\\\nПРОТОКОЛ ОБСЛЕДОВАНИЯ № \\\\n\\\\n\\\\nФ.И.О.: А Н С\\\\nВОЗРАСТ (ДАТА РОЖДЕНИЯ): 57 ( 01.01.1698)\\\\nПРЕДВАРИТЕЛЬНЫЙ ДИАГНОЗ: \\\\n23.10.20. 16.00\\\\nЗАКЛЮЧЕНИЕ:\\\\nСИНУСОВЫЙ РИТМ С ЧСС 59 УД/МИН.\\\\nЭОС ОТКЛОНЕНА ВЛЕВО. НЕПОЛНАЯ БПНПГИСА.\\\\nЗАКОНОМЕРНАЯ ПОЛОЖИТЕЛЬНАЯ ДИНАМИКА QНИЖНЕГО ИМ\\'}}]}, {\\'td\\': [{\\'content\\': {\\'text\\': \\'Заключение\\'}}, {\\'content\\': {\\'text\\': \\'ЗАКЛЮЧЕНИЕ:\\\\nСИНУСОВЫЙ РИТМ С ЧСС 59 УД/МИН.\\\\nЭОС ОТКЛОНЕНА ВЛЕВО. НЕПОЛНАЯ БПНПГИСА.\\\\nЗАКОНОМЕРНАЯ ПОЛОЖИТЕЛЬНАЯ ДИНАМИКА QНИЖНЕГО ИМ\\'}}]}, {\\'td\\': [{\\'content\\': {\\'text\\': \\'Выявленная патология\\'}}, {\\'content\\': {}}]}, {\\'td\\': [{\\'content\\': {\\'text\\': \\'Диагноз\\'}}, {\\'content\\': {\\'text\\': \\'I21.1 Острый трансмуральный инфаркт нижней стенки миокарда\\'}}]}, {\\'td\\': [{\\'content\\': {\\'text\\': \\'Услуги\\'}}, {\\'content\\': {\\'text\\': \\'Регистрация электрокардиограммы (A05.10.006)\\'}}]}, {\\'td\\': [{\\'content\\': {\\'text\\': \\'Врач\\'}}, {\\'content\\': {\\'text\\': \\' (Врач функциональной диагностики)\\'}}]}]}, \\'width\\': \\'100%\\'}}, \\'Электрокардиография (26.10.2020 12:15)\\': {\\'table\\': {\\'col\\': [{\\'width\\': \\'12%\\'}, {\\'width\\': \\'88%\\'}], \\'tbody\\': {\\'tr\\': [{\\'td\\': [{\\'content\\': {\\'text\\': \\'Эффективная доза\\'}}, {\\'content\\': {}}]}, {\\'td\\': [{\\'content\\': {\\'text\\': \\'Протокол\\'}}, {\\'content\\': {\\'text\\': \\'\"\" \\\\n\"\"\\\\n\\\\n\\\\nПРОТОКОЛ ОБСЛЕДОВАНИЯ № \\\\n\\\\n\\\\nФ.И.О.: А Н С\\\\nВОЗРАСТ (ДАТА РОЖДЕНИЯ): 57 ( 01.01.1698)\\\\nПРЕДВАРИТЕЛЬНЫЙ ДИАГНОЗ: \\\\n26.10.20. 16.00\\\\nЗАКЛЮЧЕНИЕ:\\\\nСИНУСОВЫЙ РИТМ С ЧСС 61 УД/МИН.\\\\nЭОС ОТКЛОНЕНА ВЛЕВО. НЕПОЛНАЯ БПНПГИСА.\\\\nЗАКОНОМЕРНАЯ ПОЛОЖИТЕЛЬНАЯ ДИНАМИКА QНИЖНЕГО ИМ\\'}}]}, {\\'td\\': [{\\'content\\': {\\'text\\': \\'Заключение\\'}}, {\\'content\\': {\\'text\\': \\'ЗАКЛЮЧЕНИЕ:\\\\nСИНУСОВЫЙ РИТМ С ЧСС 61 УД/МИН.\\\\nЭОС ОТКЛОНЕНА ВЛЕВО. НЕПОЛНАЯ БПНПГИСА.\\\\nЗАКОНОМЕРНАЯ ПОЛОЖИТЕЛЬНАЯ ДИНАМИКА QНИЖНЕГО ИМ\\'}}]}, {\\'td\\': [{\\'content\\': {\\'text\\': \\'Выявленная патология\\'}}, {\\'content\\': {}}]}, {\\'td\\': [{\\'content\\': {\\'text\\': \\'Диагноз\\'}}, {\\'content\\': {\\'text\\': \\'I21.1 Острый трансмуральный инфаркт нижней стенки миокарда\\'}}]}, {\\'td\\': [{\\'content\\': {\\'text\\': \\'Услуги\\'}}, {\\'content\\': {\\'text\\': \\'Регистрация электрокардиограммы (A05.10.006)\\'}}]}, {\\'td\\': [{\\'content\\': {\\'text\\': \\'Врач\\'}}, {\\'content\\': {\\'text\\': \\' (Врач функциональной диагностики)\\'}}]}]}, \\'width\\': \\'100%\\'}}}, \\'Сведения о пребывании пациента в Отделение анестезиологии-реанимации с палатами реанимации и интенсивной терапии №1\\': {\\'Электрокардиография (14.10.2020 13:19)\\': {\\'table\\': {\\'col\\': [{\\'width\\': \\'12%\\'}, {\\'width\\': \\'88%\\'}], \\'tbody\\': {\\'tr\\': [{\\'td\\': [{\\'content\\': {\\'text\\': \\'Эффективная доза\\'}}, {\\'content\\': {}}]}, {\\'td\\': [{\\'content\\': {\\'text\\': \\'Протокол\\'}}, {\\'content\\': {\\'text\\': \\'\\\\n\\\\nПРОТОКОЛ ОБСЛЕДОВАНИЯ № \\\\n\\\\n\\\\nФ.И.О.: А Н С\\\\nВОЗРАСТ (ДАТА РОЖДЕНИЯ): 57 ( 01.01.1698) \\\\nПРЕДВАРИТЕЛЬНЫЙ ДИАГНОЗ: <КЛИНИЧЕСКИЙ ДИАГНОЗ>\\\\nРЕЗУЛЬТАТЫ ОБСЛЕДОВАНИЯ:\\\\nПРАВОЕ ПРЕДСЕРДИЕ: 3,5 СМ.; \\\\tПРАВЫЙ ЖЕЛУДОЧЕК: 3,0 СМ.; \\\\nЛЕВОЕ ПРЕДСЕРДИЕ: 3,7 СМ.; В ДЛИНУ: СМ.; ОБЪЕМ МЛ.\\\\nЛЕВЫЙ ЖЕЛУДОЧЕК: КДО: 114 МЛ.; КСО: 50 МЛ.; УО:64 МЛ.;\\\\tФВ В «В РЕЖИМЕ» 56 %\\\\nМЖП: 1,1 СМ ; НОРМОКИНЕЗ \\\\nЗАДНЯЯ СТЕНКА: 1,0 СМ.; НОРМОКИНЕЗ \\\\n\\\\nМИТРАЛЬНЫЙ КЛАПАН: СТВОРКИ НЕ УПЛОТНЕНЫ, ПРОТИВОФАЗА СОХРАНЕНА \\\\n\\\\tРСМК - СМ.;\\\\tФК В ДИАСТОЛУ - СМ.;\\\\nМИТРАЛЬНОЕ ОТВЕРСТИЕ: СМ2.; Д - СМ2\\\\nГРАДИЕНТ ДАВЛЕНИЯ ПИК: 1,3 ММ. РТ. СТ. СРЕДНИЙ: ММ. РТ. СТ.\\\\nСКОРОСТЬ КРОВОТОКА: 0,5 М/С.; СТЕПЕНЬ РЕГУРГИТАЦИИ: 1\\\\nЕ/А ВИР МС, DT МС, ПС МС.\\\\nАОРТА: СТЕНКИ УПЛОТНЕНЫ, АМПЛИТУДА ИХ ДВИЖЕНИЯ СОХРАНЕНА \\\\nФИБРОЗНОЕ КОЛЬЦО: 2,2 СМ.; УПЛОТНЕНО;\\\\nДИАМЕТР АО НА УРОВНЕ СИНУСОВ ВАЛЬСАЛЬВЫ: 3,8 СМ. ВОСХОДЯЩАЯ АОРТА: 3,7 СМ..;\\\\nДУГА АОРТЫ 2,9 СМ ПЕРЕШЕЕК СМ. НИСХОДЯЩАЯ АОРТА СМ. \\\\nАОРТАЛЬНЫЙ КЛАПАН: СТВОРКИ НЕ УПЛОТНЕНЫ ОТКРЫТИЕ СМ.\\\\nГРАДИЕНТ ДАВЛЕНИЯ ПИК: 5,6 ММ. РТ. СТ.; СРЕДНИЙ: ММ. РТ. СТ.\\\\nСКОРОСТЬ КРОВОТОКА: 1,2 М/С. СТЕПЕНЬ РЕГУРГИТАЦИИ: ; S РЕГ. СТРУИ СМ2 \\\\nТРИКУСПИДАЛЬНЫЙ КЛАПАН: ИНТАКТНЫЙ \\\\nГРАДИЕНТ ДАВЛЕНИЯ ПИК: ММ. РТ. СТ.; СРЕДНИЙ: ММ. РТ. СТ.\\\\nСКОРОСТЬ КРОВОТОКА: М/С. СТЕПЕНЬ РЕГУРГИТАЦИИ: 1\\\\nЛЕГОЧНАЯ АРТЕРИЯ: ФК СМ, СТВОЛ: 2,2 СМ, ПРАВАЯ ВЕТВЬ СМ, ЛЕВАЯ: СМ.\\\\nГРАДИЕНТ ДАВЛЕНИЯ ПИК: 3,6 ММ. РТ. СТ.; СРЕДНИЙ: ММ. РТ. СТ.\\\\nСКОРОСТЬ КРОВОТОКА: 0,9 М/С.; СТЕПЕНЬ РЕГУРГИТАЦИИ: 1 \\\\nСИСТ. ДАВЛЕНИЕ В ЛЕГОЧНОЙ АРТЕРИИ: ММ. РТ. СТ. ПО ПОТОКУ TR 26 ММ. РТ. СТ.\\\\nДИАСТОЛИЧЕСКОЕ ММ. РТ. СТ. \\\\nПЕРИКАРД: Б/О ЧСС: УД. В МИН. \\\\n\\\\nЗАКЛЮЧЕНИЕ:РАО1\\\\nКАМЕРЫ СЕРДЦА НЕ УВЕЛИЧЕНЫ. \\\\nФИБРОЗ КОРНЯ И СТЕНОК ВОСХОДЯЩЕЙ АОРТЫ. \\\\nСОКРАТИТЕЛЬНАЯ СПОСОБНОСТЬ МИОКАРДА СОХРАНЕНА.\\\\n ДАННЫХ ЗА ЖИДКОСТЬ В ПОЛОСТИ ПЕРИКАРДА НЕТ.\\'}}]}, {\\'td\\': [{\\'content\\': {\\'text\\': \\'Заключение\\'}}, {\\'content\\': {\\'text\\': \\'ЗАКЛЮЧЕНИЕ:РАО1\\\\nКАМЕРЫ СЕРДЦА НЕ УВЕЛИЧЕНЫ. \\\\nФИБРОЗ КОРНЯ И СТЕНОК ВОСХОДЯЩЕЙ АОРТЫ. \\\\nСОКРАТИТЕЛЬНАЯ СПОСОБНОСТЬ МИОКАРДА СОХРАНЕНА.\\\\n ДАННЫХ ЗА ЖИДКОСТЬ В ПОЛОСТИ ПЕРИКАРДА НЕТ.\\'}}]}, {\\'td\\': [{\\'content\\': {\\'text\\': \\'Выявленная патология\\'}}, {\\'content\\': {}}]}, {\\'td\\': [{\\'content\\': {\\'text\\': \\'Диагноз\\'}}, {\\'content\\': {\\'text\\': \\'I21.1 Острый трансмуральный инфаркт нижней стенки миокарда\\'}}]}, {\\'td\\': [{\\'content\\': {\\'text\\': \\'Услуги\\'}}, {\\'content\\': {\\'text\\': \\'Эхокардиография (A04.10.002)\\'}}]}, {\\'td\\': [{\\'content\\': {\\'text\\': \\'Врач\\'}}, {\\'content\\': {\\'text\\': \\' на (Врач функциональной диагностики)\\'}}]}]}, \\'width\\': \\'100%\\'}}, \\'Ультразвуковое исследование плевральных полостей (14.10.2020 13:20)\\': {\\'table\\': {\\'col\\': [{\\'width\\': \\'12%\\'}, {\\'width\\': \\'88%\\'}], \\'tbody\\': {\\'tr\\': [{\\'td\\': [{\\'content\\': {\\'text\\': \\'Эффективная доза\\'}}, {\\'content\\': {}}]}, {\\'td\\': [{\\'content\\': {\\'text\\': \\'Протокол\\'}}, {\\'content\\': {\\'text\\': \\'\"\" \\\\n\"\"\\\\n\\\\nПРОТОКОЛ ОБСЛЕДОВАНИЯ № \\\\n\\\\n\\\\nФ.И.О.: А Н С\\\\nВОЗРАСТ (ДАТА РОЖДЕНИЯ): 57 ( 01.01.1698)\\\\nДИАГНОЗ: <КЛИНИЧЕСКИЙ ДИАГНОЗ>\\\\n\\\\nЗАКЛЮЧЕНИЕ:РАО1\\\\nДАННЫХ ЗА ЖИДКОСТЬ В ПЛЕВРАЛЬНЫХ ПОЛОСТЯХ НЕТ\\'}}]}, {\\'td\\': [{\\'content\\': {\\'text\\': \\'Заключение\\'}}, {\\'content\\': {\\'text\\': \\'ЗАКЛЮЧЕНИЕ:РАО1\\\\nДАННЫХ ЗА ЖИДКОСТЬ В ПЛЕВРАЛЬНЫХ ПОЛОСТЯХ НЕТ\\'}}]}, {\\'td\\': [{\\'content\\': {\\'text\\': \\'Выявленная патология\\'}}, {\\'content\\': {}}]}, {\\'td\\': [{\\'content\\': {\\'text\\': \\'Диагноз\\'}}, {\\'content\\': {\\'text\\': \\'I21.1 Острый трансмуральный инфаркт нижней стенки миокарда\\'}}]}, {\\'td\\': [{\\'content\\': {\\'text\\': \\'Услуги\\'}}, {\\'content\\': {\\'text\\': \\'Ультразвуковое исследование плевральной полости (A04.09.001)\\'}}]}, {\\'td\\': [{\\'content\\': {\\'text\\': \\'Врач\\'}}, {\\'content\\': {\\'text\\': \\' на (Врач функциональной диагностики)\\'}}]}]}, \\'width\\': \\'100%\\'}}, \\'Рентгеноскопия грудной клетки (14.10.2020 13:55)\\': {\\'table\\': {\\'col\\': [{\\'width\\': \\'12%\\'}, {\\'width\\': \\'88%\\'}], \\'tbody\\': {\\'tr\\': [{\\'td\\': [{\\'content\\': {\\'text\\': \\'Эффективная доза\\'}}, {\\'content\\': {}}]}, {\\'td\\': [{\\'content\\': {\\'text\\': \\'Протокол\\'}}, {\\'content\\': {\\'text\\': \\'РЕНТГЕНОГРАММА ВЫПОЛНЕНА В ПОЛОЖЕНИИ СИДЯ.\\\\nВИДИМЫЕ ЛЕГОЧНЫЕ ПОЛЯ ОБЫЧНОЙ ПРОЗРАЧНОСТИ.\\\\nСЛЕВА, БАЗАЛЬНО, ЛЕГКОЕ ПРИКРЫТО ТЕНЬЮ СЕРДЦЕ. \\\\nОЧАГОВЫХ И ИНФИЛЬТРАТИВНЫХ ИЗМЕНЕНИЙ НЕ ОПРЕДЕЛЯЕТСЯ.\\\\nЛЕГОЧНОЙ РИСУНОК УМЕРЕННО УСИЛЕН ЗА СЧЕТ СОСУДИСТОГО КОМПОНЕНТА.\\\\nПРАВЫЙ КОРЕНЬ СТРУКТУРНЫЙ, НЕ РАСШИРЕН.ЛЕВЫЙ НЕ ОПРЕДЕЛЯЕТСЯ,ЗА ТЕНЬЮ СЕРДЦА.\\\\nСРЕДИННАЯ ТЕНЬ НЕ СМЕЩЕНА.\\\\nСЕРДЦЕ РАСШИРЕНО, ЗА СЧЕТ ЛЕВЫХ ОТДЕЛОВ СЕРДЦА ( ПРОЕКЦИОННО )\\\\nДУГА АОРТЫ НЕ РАСШИРЕНА.\\\\nПРАВЫЙ КУПОЛ ДИАФРАГМЫ ЧЕТКИЙ, РОВНЫЙ.ЛЕВЫЙ ЗА ТЕНЬЮ СЕРДЦА НЕ ВИЗУАЛИЗИРУЕТСЯ.\\\\nНАРУЖНЫЕ СИНУСЫ СВОБОДНЫЕ. \\\\n\\\\n\\\\n\\\\nЗАКЛЮЧЕНИЕ: \\\\nРЕНТГЕН ДАННЫХ ЗА ОЧАГОВО-ИНФИЛЬТРАТИВНУЮ ПАТОЛОГИЮ НЕ ВЫЯВЛЕНО.\\\\n\\\\n\\\\n\\\\n\\\\nДАННОЕ ЗАКЛЮЧЕНИЕ НЕ ЯВЛЯЕТСЯ ДИАГНОЗОМ. \\\\nДИАГНОЗ УСТАНАВЛИВАЕТ ЛЕЧАЩИЙ ВРАЧ.\\'}}]}, {\\'td\\': [{\\'content\\': {\\'text\\': \\'Заключение\\'}}, {\\'content\\': {\\'text\\': \\'ЗАКЛЮЧЕНИЕ: \\\\nРЕНТГЕН ДАННЫХ ЗА ОЧАГОВО-ИНФИЛЬТРАТИВНУЮ ПАТОЛОГИЮ НЕ ВЫЯВЛЕНО.\\\\n\\\\n\\\\n\\\\n\\\\nДАННОЕ ЗАКЛЮЧЕНИЕ НЕ ЯВЛЯЕТСЯ ДИАГНОЗОМ. \\\\nДИАГНОЗ УСТАНАВЛИВАЕТ ЛЕЧАЩИЙ ВРАЧ.\\'}}]}, {\\'td\\': [{\\'content\\': {\\'text\\': \\'Выявленная патология\\'}}, {\\'content\\': {}}]}, {\\'td\\': [{\\'content\\': {\\'text\\': \\'Диагноз\\'}}, {\\'content\\': {\\'text\\': \\'I21.1 Острый трансмуральный инфаркт нижней стенки миокарда\\'}}]}, {\\'td\\': [{\\'content\\': {\\'text\\': \\'Услуги\\'}}, {\\'content\\': {\\'text\\': \\'Прицельная рентгенография органов грудной клетки (A06.09.007.001)\\'}}]}, {\\'td\\': [{\\'content\\': {\\'text\\': \\'Врач\\'}}, {\\'content\\': {\\'text\\': \\' (Врач-рентгенолог)\\'}}]}]}, \\'width\\': \\'100%\\'}}, \\'Компьютерная томография груди (14.10.2020 14:35)\\': {\\'table\\': {\\'col\\': [{\\'width\\': \\'12%\\'}, {\\'width\\': \\'88%\\'}], \\'tbody\\': {\\'tr\\': [{\\'td\\': [{\\'content\\': {\\'text\\': \\'Эффективная доза\\'}}, {\\'content\\': {}}]}, {\\'td\\': [{\\'content\\': {\\'text\\': \\'Протокол\\'}}, {\\'content\\': {\\'text\\': \\'ЛЕГОЧНЫЕ ПОЛЯ БЕЗ СВЕЖИХ ОЧАГОВЫХ И ИНФИЛЬТРАТИВНЫХ ИЗМЕНЕНИЙ.\\\\nВ ЗАДНИХ БАЗАЛЬНЫХ ОТДЕЛАХ ОТМЕЧАЮТСЯ УЧАСТКИ ГРУБОГО СУБПЛЕВРАЛЬНОГО ПНЕВМОФИБРОЗА.\\\\nНА ВЕРХУШКАХ С ОБЕИХ СТОРОН НЕБОЛЬШИЕ ПАРАСЕПТАЛЬНЫЕ ПОЛОСТИ, СКЛОННЫЕ К СЛИЯНИЮ.\\\\nВ S8 СПРАВА ТОНКОСТЕННАЯ ВОЗДУШНАЯ ПОЛОСТЬ, ДИАМЕТРОМ ДО 12 ММ.\\\\nПНЕВМАТИЗАЦИЯ И ВАСКУЛЯРИЗАЦИЯ ЛЕГОЧНОЙ ТКАНИ НЕ ИЗМЕНЕНА.\\\\nПРОСВЕТЫ КРУПНЫХ БРОНХОВ ХОРОШО ВИЗУАЛИЗИРОВАНЫ ДО УРОВНЯ СЕГМЕНТАРНЫХ, ПРОХОДИМЫ. \\\\nПЛЕВРАЛЬНЫЕ ЛИСТКИ РОВНЫЕ, ТОНКИЕ, ВЫПОТА В СЕРОЗНЫЕ ПОЛОСТИ НЕ ОТМЕЧАЕТСЯ.\\\\nСТРУКТУРЫ СРЕДОСТЕНИЯ ДИФФЕРЕНЦИРОВАНЫ. \\\\nЖИРОВАЯ КЛЕТЧАТКА ПЕРЕДНЕГО СРЕДОСТЕНИЯ РАЗВИТА УМЕРЕННО. \\\\nВИЗУАЛИЗИРУЕМЫЕ ВНУТРИГРУДНЫЕ ЛИМФАТИЧЕСКИЕ УЗЛЫ НЕ УВЕЛИЧЕНЫ.\\\\nСЕРДЦЕ ОБЫЧНОЙ КОНФИГУРАЦИИ, НЕ УВЕЛИЧЕНО В РАЗМЕРАХ.\\\\nПЕРИКАРД ТОНКИЙ, ВЫПОТА В ПОЛОСТИ НЕ ОТМЕЧАЕТСЯ.\\\\nАОРТА С РОВНЫМ ЧЕТКИМ КОНТУРОМ, МЕСТАМИ С ЕДИНИЧНЫМИ ОЧАГАМИ КАЛЬЦИНОЗА В СТЕНКАХ.\\\\nОТМЕЧАЮТСЯ УЧАСТКИ КАЛЬЦИНОЗА В ПРОЕКЦИИ КОРОНАРНЫХ АРТЕРИЙ.\\\\nЛЕГОЧНЫЕ АРТЕРИИ БЕЗ ОСОБЕННОСТЕЙ.\\\\n\\\\nДЕГЕНЕРАТИВНО-ДИСТРОФИЧЕСКИЕ ИЗМЕНЕНИЯ, S-ОБРАЗНАЯ ДЕФОРМАЦИЯ ГРУДНОГО ОТДЕЛА ПОЗВОНОЧНИКА ВО ФРОНТАЛЬНОЙ ПЛОСКОСТИ. ВСЮ ЦЕНТРАЛЬНУЮ ЧАСТЬ ПОЗВОНКА TH9 ВЫПОЛНЯЕТ ОБРАЗОВАНИЕ С ХАРАКТЕРНОЙ ВЕРТИКУЛЯРНОЙ ТРАБЕКУЛЯРНОСТЬЮ, ДИАМЕТРОМ ДО 30 ММ - ГЕМАНГИОМА.\\\\n \\\\n \\\\n\\\\n\\\\nЗАКЛЮЧЕНИЕ: \\\\nМСКТ-ПРИЗНАКИ ПОСТВОСПАЛИТЕЛЬНОГО ПНЕВМОФИБРОЗА В ЗАДНИХ БАЗАЛЬНЫХ ОТДЕЛАХ ЛЕГКИХ.\\\\nСВЕЖИХ ИНФИЛЬТРАТИВНЫХ ИЗМЕНЕНИЙ В ЛЕГКИХ, НА МОМЕНТ ИССЛЕДОВАНИЯ, НЕ ОТМЕЧАЕТСЯ.\\\\nМСКТ-КАРТИНА ПАРАСЕПТАЛЬНОЙ ЭМФИЗЕМЫ НА ВЕРХУШКАХ ЛЕГКИХ. ЕДИНИЧНАЯ БУЛЛА В S8 СПРАВА.\\\\nМСКТ-КАРТИНА АТЕРОСКЛЕРОТИЧЕСКОГО ПОРАЖЕНИЯ КОРОНАРНЫХ АРТЕРИЙ.\\'}}]}, {\\'td\\': [{\\'content\\': {\\'text\\': \\'Заключение\\'}}, {\\'content\\': {\\'text\\': \\'ЗАКЛЮЧЕНИЕ: \\\\nМСКТ-ПРИЗНАКИ ПОСТВОСПАЛИТЕЛЬНОГО ПНЕВМОФИБРОЗА В ЗАДНИХ БАЗАЛЬНЫХ ОТДЕЛАХ ЛЕГКИХ.\\\\nСВЕЖИХ ИНФИЛЬТРАТИВНЫХ ИЗМЕНЕНИЙ В ЛЕГКИХ, НА МОМЕНТ ИССЛЕДОВАНИЯ, НЕ ОТМЕЧАЕТСЯ.\\\\nМСКТ-КАРТИНА ПАРАСЕПТАЛЬНОЙ ЭМФИЗЕМЫ НА ВЕРХУШКАХ ЛЕГКИХ. ЕДИНИЧНАЯ БУЛЛА В S8 СПРАВА.\\\\nМСКТ-КАРТИНА АТЕРОСКЛЕРОТИЧЕСКОГО ПОРАЖЕНИЯ КОРОНАРНЫХ АРТЕРИЙ.\\'}}]}, {\\'td\\': [{\\'content\\': {\\'text\\': \\'Выявленная патология\\'}}, {\\'content\\': {}}]}, {\\'td\\': [{\\'content\\': {\\'text\\': \\'Диагноз\\'}}, {\\'content\\': {\\'text\\': \\'I21.1 Острый трансмуральный инфаркт нижней стенки миокарда\\'}}]}, {\\'td\\': [{\\'content\\': {\\'text\\': \\'Услуги\\'}}, {\\'content\\': {\\'text\\': \\'Компьютерная томография органов грудной полости (A06.09.005)\\'}}]}, {\\'td\\': [{\\'content\\': {\\'text\\': \\'Врач\\'}}, {\\'content\\': {\\'text\\': \\' (Врач-рентгенолог)\\'}}]}]}, \\'width\\': \\'100%\\'}}}, \\'Сведения о пребывании пациента в Отделение анестезиологии-реанимации с палатами реанимации и интенсивной терапии №2\\': {}}'"
      ]
     },
     "execution_count": 321,
     "metadata": {},
     "output_type": "execute_result"
    }
   ],
   "source": [
    "labeled_data[\"full_wards_cleaned\"][-4]"
   ]
  },
  {
   "cell_type": "code",
   "execution_count": 322,
   "metadata": {},
   "outputs": [
    {
     "data": {
      "text/html": [
       "<div>\n",
       "<style scoped>\n",
       "    .dataframe tbody tr th:only-of-type {\n",
       "        vertical-align: middle;\n",
       "    }\n",
       "\n",
       "    .dataframe tbody tr th {\n",
       "        vertical-align: top;\n",
       "    }\n",
       "\n",
       "    .dataframe thead th {\n",
       "        text-align: right;\n",
       "    }\n",
       "</style>\n",
       "<table border=\"1\" class=\"dataframe\">\n",
       "  <thead>\n",
       "    <tr style=\"text-align: right;\">\n",
       "      <th></th>\n",
       "      <th>Сведения о пребывании пациента в Приемное отделение</th>\n",
       "      <th>Сведения о пребывании пациента в Кардиологическое отделение с ПРиИТ для лечения больных с ОКС (ПСО) №2</th>\n",
       "      <th>Сведения о пребывании пациента в Отделение анестезиологии-реанимации с палатами реанимации и интенсивной терапии №1</th>\n",
       "      <th>Сведения о пребывании пациента в Отделение анестезиологии-реанимации с палатами реанимации и интенсивной терапии №2</th>\n",
       "    </tr>\n",
       "  </thead>\n",
       "  <tbody>\n",
       "    <tr>\n",
       "      <th>Электрокардиография (14.10.2020 11:22)</th>\n",
       "      <td>{'table': {'col': [{'width': '12%'}, {'width':...</td>\n",
       "      <td>NaN</td>\n",
       "      <td>NaN</td>\n",
       "      <td>NaN</td>\n",
       "    </tr>\n",
       "    <tr>\n",
       "      <th>Электрокардиография (17.10.2020 00:06)</th>\n",
       "      <td>NaN</td>\n",
       "      <td>{'table': {'col': [{'width': '12%'}, {'width':...</td>\n",
       "      <td>NaN</td>\n",
       "      <td>NaN</td>\n",
       "    </tr>\n",
       "    <tr>\n",
       "      <th>Электрокардиография (19.10.2020 08:12)</th>\n",
       "      <td>NaN</td>\n",
       "      <td>{'table': {'col': [{'width': '12%'}, {'width':...</td>\n",
       "      <td>NaN</td>\n",
       "      <td>NaN</td>\n",
       "    </tr>\n",
       "    <tr>\n",
       "      <th>Электрокардиография (19.10.2020 08:36)</th>\n",
       "      <td>NaN</td>\n",
       "      <td>{'table': {'col': [{'width': '12%'}, {'width':...</td>\n",
       "      <td>NaN</td>\n",
       "      <td>NaN</td>\n",
       "    </tr>\n",
       "    <tr>\n",
       "      <th>Электрокардиография (19.10.2020 09:53)</th>\n",
       "      <td>NaN</td>\n",
       "      <td>{'table': {'col': [{'width': '12%'}, {'width':...</td>\n",
       "      <td>NaN</td>\n",
       "      <td>NaN</td>\n",
       "    </tr>\n",
       "    <tr>\n",
       "      <th>Электрокардиография (19.10.2020 09:55)</th>\n",
       "      <td>NaN</td>\n",
       "      <td>{'table': {'col': [{'width': '12%'}, {'width':...</td>\n",
       "      <td>NaN</td>\n",
       "      <td>NaN</td>\n",
       "    </tr>\n",
       "    <tr>\n",
       "      <th>Ультразвуковое исследование экстракраниального отдела брахиоцефальных артерий с функциональными пробами (19.10.2020 14:08)</th>\n",
       "      <td>NaN</td>\n",
       "      <td>{'table': {'col': [{'width': '12%'}, {'width':...</td>\n",
       "      <td>NaN</td>\n",
       "      <td>NaN</td>\n",
       "    </tr>\n",
       "    <tr>\n",
       "      <th>Электрокардиография (19.10.2020 14:16)</th>\n",
       "      <td>NaN</td>\n",
       "      <td>{'table': {'col': [{'width': '12%'}, {'width':...</td>\n",
       "      <td>NaN</td>\n",
       "      <td>NaN</td>\n",
       "    </tr>\n",
       "    <tr>\n",
       "      <th>Электрокардиография (20.10.2020 09:00)</th>\n",
       "      <td>NaN</td>\n",
       "      <td>{'table': {'col': [{'width': '12%'}, {'width':...</td>\n",
       "      <td>NaN</td>\n",
       "      <td>NaN</td>\n",
       "    </tr>\n",
       "    <tr>\n",
       "      <th>Электрокардиография (20.10.2020 09:03)</th>\n",
       "      <td>NaN</td>\n",
       "      <td>{'table': {'col': [{'width': '12%'}, {'width':...</td>\n",
       "      <td>NaN</td>\n",
       "      <td>NaN</td>\n",
       "    </tr>\n",
       "    <tr>\n",
       "      <th>Ультразвуковое исследование мягких тканей передней поверхности живота (22.10.2020 09:57)</th>\n",
       "      <td>NaN</td>\n",
       "      <td>{'table': {'col': [{'width': '12%'}, {'width':...</td>\n",
       "      <td>NaN</td>\n",
       "      <td>NaN</td>\n",
       "    </tr>\n",
       "    <tr>\n",
       "      <th>Электрокардиография (26.10.2020 12:14)</th>\n",
       "      <td>NaN</td>\n",
       "      <td>{'table': {'col': [{'width': '12%'}, {'width':...</td>\n",
       "      <td>NaN</td>\n",
       "      <td>NaN</td>\n",
       "    </tr>\n",
       "    <tr>\n",
       "      <th>Электрокардиография (26.10.2020 12:15)</th>\n",
       "      <td>NaN</td>\n",
       "      <td>{'table': {'col': [{'width': '12%'}, {'width':...</td>\n",
       "      <td>NaN</td>\n",
       "      <td>NaN</td>\n",
       "    </tr>\n",
       "    <tr>\n",
       "      <th>Электрокардиография (14.10.2020 13:19)</th>\n",
       "      <td>NaN</td>\n",
       "      <td>NaN</td>\n",
       "      <td>{'table': {'col': [{'width': '12%'}, {'width':...</td>\n",
       "      <td>NaN</td>\n",
       "    </tr>\n",
       "    <tr>\n",
       "      <th>Ультразвуковое исследование плевральных полостей (14.10.2020 13:20)</th>\n",
       "      <td>NaN</td>\n",
       "      <td>NaN</td>\n",
       "      <td>{'table': {'col': [{'width': '12%'}, {'width':...</td>\n",
       "      <td>NaN</td>\n",
       "    </tr>\n",
       "    <tr>\n",
       "      <th>Рентгеноскопия грудной клетки (14.10.2020 13:55)</th>\n",
       "      <td>NaN</td>\n",
       "      <td>NaN</td>\n",
       "      <td>{'table': {'col': [{'width': '12%'}, {'width':...</td>\n",
       "      <td>NaN</td>\n",
       "    </tr>\n",
       "    <tr>\n",
       "      <th>Компьютерная томография груди (14.10.2020 14:35)</th>\n",
       "      <td>NaN</td>\n",
       "      <td>NaN</td>\n",
       "      <td>{'table': {'col': [{'width': '12%'}, {'width':...</td>\n",
       "      <td>NaN</td>\n",
       "    </tr>\n",
       "  </tbody>\n",
       "</table>\n",
       "</div>"
      ],
      "text/plain": [
       "                                                   Сведения о пребывании пациента в Приемное отделение  \\\n",
       "Электрокардиография (14.10.2020 11:22)              {'table': {'col': [{'width': '12%'}, {'width':...    \n",
       "Электрокардиография (17.10.2020 00:06)                                                            NaN    \n",
       "Электрокардиография (19.10.2020 08:12)                                                            NaN    \n",
       "Электрокардиография (19.10.2020 08:36)                                                            NaN    \n",
       "Электрокардиография (19.10.2020 09:53)                                                            NaN    \n",
       "Электрокардиография (19.10.2020 09:55)                                                            NaN    \n",
       "Ультразвуковое исследование экстракраниального ...                                                NaN    \n",
       "Электрокардиография (19.10.2020 14:16)                                                            NaN    \n",
       "Электрокардиография (20.10.2020 09:00)                                                            NaN    \n",
       "Электрокардиография (20.10.2020 09:03)                                                            NaN    \n",
       "Ультразвуковое исследование мягких тканей перед...                                                NaN    \n",
       "Электрокардиография (26.10.2020 12:14)                                                            NaN    \n",
       "Электрокардиография (26.10.2020 12:15)                                                            NaN    \n",
       "Электрокардиография (14.10.2020 13:19)                                                            NaN    \n",
       "Ультразвуковое исследование плевральных полосте...                                                NaN    \n",
       "Рентгеноскопия грудной клетки (14.10.2020 13:55)                                                  NaN    \n",
       "Компьютерная томография груди (14.10.2020 14:35)                                                  NaN    \n",
       "\n",
       "                                                   Сведения о пребывании пациента в Кардиологическое отделение с ПРиИТ для лечения больных с ОКС (ПСО) №2  \\\n",
       "Электрокардиография (14.10.2020 11:22)                                                            NaN                                                       \n",
       "Электрокардиография (17.10.2020 00:06)              {'table': {'col': [{'width': '12%'}, {'width':...                                                       \n",
       "Электрокардиография (19.10.2020 08:12)              {'table': {'col': [{'width': '12%'}, {'width':...                                                       \n",
       "Электрокардиография (19.10.2020 08:36)              {'table': {'col': [{'width': '12%'}, {'width':...                                                       \n",
       "Электрокардиография (19.10.2020 09:53)              {'table': {'col': [{'width': '12%'}, {'width':...                                                       \n",
       "Электрокардиография (19.10.2020 09:55)              {'table': {'col': [{'width': '12%'}, {'width':...                                                       \n",
       "Ультразвуковое исследование экстракраниального ...  {'table': {'col': [{'width': '12%'}, {'width':...                                                       \n",
       "Электрокардиография (19.10.2020 14:16)              {'table': {'col': [{'width': '12%'}, {'width':...                                                       \n",
       "Электрокардиография (20.10.2020 09:00)              {'table': {'col': [{'width': '12%'}, {'width':...                                                       \n",
       "Электрокардиография (20.10.2020 09:03)              {'table': {'col': [{'width': '12%'}, {'width':...                                                       \n",
       "Ультразвуковое исследование мягких тканей перед...  {'table': {'col': [{'width': '12%'}, {'width':...                                                       \n",
       "Электрокардиография (26.10.2020 12:14)              {'table': {'col': [{'width': '12%'}, {'width':...                                                       \n",
       "Электрокардиография (26.10.2020 12:15)              {'table': {'col': [{'width': '12%'}, {'width':...                                                       \n",
       "Электрокардиография (14.10.2020 13:19)                                                            NaN                                                       \n",
       "Ультразвуковое исследование плевральных полосте...                                                NaN                                                       \n",
       "Рентгеноскопия грудной клетки (14.10.2020 13:55)                                                  NaN                                                       \n",
       "Компьютерная томография груди (14.10.2020 14:35)                                                  NaN                                                       \n",
       "\n",
       "                                                   Сведения о пребывании пациента в Отделение анестезиологии-реанимации с палатами реанимации и интенсивной терапии №1  \\\n",
       "Электрокардиография (14.10.2020 11:22)                                                            NaN                                                                    \n",
       "Электрокардиография (17.10.2020 00:06)                                                            NaN                                                                    \n",
       "Электрокардиография (19.10.2020 08:12)                                                            NaN                                                                    \n",
       "Электрокардиография (19.10.2020 08:36)                                                            NaN                                                                    \n",
       "Электрокардиография (19.10.2020 09:53)                                                            NaN                                                                    \n",
       "Электрокардиография (19.10.2020 09:55)                                                            NaN                                                                    \n",
       "Ультразвуковое исследование экстракраниального ...                                                NaN                                                                    \n",
       "Электрокардиография (19.10.2020 14:16)                                                            NaN                                                                    \n",
       "Электрокардиография (20.10.2020 09:00)                                                            NaN                                                                    \n",
       "Электрокардиография (20.10.2020 09:03)                                                            NaN                                                                    \n",
       "Ультразвуковое исследование мягких тканей перед...                                                NaN                                                                    \n",
       "Электрокардиография (26.10.2020 12:14)                                                            NaN                                                                    \n",
       "Электрокардиография (26.10.2020 12:15)                                                            NaN                                                                    \n",
       "Электрокардиография (14.10.2020 13:19)              {'table': {'col': [{'width': '12%'}, {'width':...                                                                    \n",
       "Ультразвуковое исследование плевральных полосте...  {'table': {'col': [{'width': '12%'}, {'width':...                                                                    \n",
       "Рентгеноскопия грудной клетки (14.10.2020 13:55)    {'table': {'col': [{'width': '12%'}, {'width':...                                                                    \n",
       "Компьютерная томография груди (14.10.2020 14:35)    {'table': {'col': [{'width': '12%'}, {'width':...                                                                    \n",
       "\n",
       "                                                    Сведения о пребывании пациента в Отделение анестезиологии-реанимации с палатами реанимации и интенсивной терапии №2  \n",
       "Электрокардиография (14.10.2020 11:22)                                                            NaN                                                                    \n",
       "Электрокардиография (17.10.2020 00:06)                                                            NaN                                                                    \n",
       "Электрокардиография (19.10.2020 08:12)                                                            NaN                                                                    \n",
       "Электрокардиография (19.10.2020 08:36)                                                            NaN                                                                    \n",
       "Электрокардиография (19.10.2020 09:53)                                                            NaN                                                                    \n",
       "Электрокардиография (19.10.2020 09:55)                                                            NaN                                                                    \n",
       "Ультразвуковое исследование экстракраниального ...                                                NaN                                                                    \n",
       "Электрокардиография (19.10.2020 14:16)                                                            NaN                                                                    \n",
       "Электрокардиография (20.10.2020 09:00)                                                            NaN                                                                    \n",
       "Электрокардиография (20.10.2020 09:03)                                                            NaN                                                                    \n",
       "Ультразвуковое исследование мягких тканей перед...                                                NaN                                                                    \n",
       "Электрокардиография (26.10.2020 12:14)                                                            NaN                                                                    \n",
       "Электрокардиография (26.10.2020 12:15)                                                            NaN                                                                    \n",
       "Электрокардиография (14.10.2020 13:19)                                                            NaN                                                                    \n",
       "Ультразвуковое исследование плевральных полосте...                                                NaN                                                                    \n",
       "Рентгеноскопия грудной клетки (14.10.2020 13:55)                                                  NaN                                                                    \n",
       "Компьютерная томография груди (14.10.2020 14:35)                                                  NaN                                                                    "
      ]
     },
     "execution_count": 322,
     "metadata": {},
     "output_type": "execute_result"
    }
   ],
   "source": [
    "pd.DataFrame(eval(labeled_data[\"full_wards_cleaned\"][-4]))"
   ]
  },
  {
   "cell_type": "code",
   "execution_count": null,
   "metadata": {},
   "outputs": [],
   "source": [
    "# print\n",
    "# (\n",
    "# pd.DataFrame(eval(labeled_data[\"full_wards_cleaned\"][-4]))\n",
    "# .loc[\n",
    "#     \"Рентгеноскопия грудной клетки (14.02.2023 20:55)\",\n",
    "#     \"Сведения о пребывании пациента в Отделение анестезиологии-реанимации с палатами реанимации и интенсивной терапии №1\",\n",
    "# ]\n",
    "# ['table']\n",
    "# ['tbody']['tr']\n",
    "# [1]['td'][1]['content']['text']\n",
    "# .keys()\n",
    "# )"
   ]
  },
  {
   "cell_type": "markdown",
   "metadata": {},
   "source": [
    "##### ECG features"
   ]
  },
  {
   "cell_type": "code",
   "execution_count": 459,
   "metadata": {},
   "outputs": [],
   "source": [
    "new_columns_regex_ecg = {\n",
    "    \"ecg_right_atrium\": r\"ПРАВОЕ ПРЕДСЕРДИЕ:.*?(\\d+[,.]\\d+)\",\n",
    "    \"ecg_left_atrium\": r\"ЛЕВОЕ ПРЕДСЕРДИЕ:.*?(\\d+[,.]\\d+)\",\n",
    "    \"ecg_right_ventricle\": r\"ПРАВЫЙ ЖЕЛУДОЧЕК:.*?(\\d+[,.]\\d+)\",\n",
    "    \"ecg_end_diastolic_volume\": r\"КДО:\\s*(\\d+)*\",\n",
    "    \"ecg_end_systolic_volume\": r\"КСО:\\s*(\\d+)*\",\n",
    "    \"ecg_stroke_volume\": r\"УО:\\s*(\\d+)*\",\n",
    "    \"ecg_ejection_fraction\": r\"ФВ:\\s*(\\d+[-.,]\\d+|\\d+)*\",\n",
    "    \"ecg_ventricular_septal\": r\"МЖП:\\s*(\\d+[,.]\\d+)\",\n",
    "    \"ecg_e_a\": r\"Е/А\\s*(\\d+[,.]\\d+)\",\n",
    "    \"ecg_aorta_diameter_valsalva_sinuses\": r\"ДИАМЕТР АО НА УРОВНЕ СИНУСОВ ВАЛЬСАЛЬВЫ:\\s*(\\d+[,.]\\d+)\",\n",
    "    \"ecg_ascending_aorta\": r\"ВОСХОДЯЩАЯ АОРТА:\\s*(\\d+[,.]\\d+)\",\n",
    "    \"ecg_aortic_arch\": r\"ДУГА АОРТЫ.\\s*(\\d+[,.]\\d+)\",\n",
    "    \"ecg_sinus_heart_rate\": r\"СИНУСОВЫЙ.{0,7}ЧСС\\s*(\\d+[,.]\\d+)\",\n",
    "    \"ecg_age\": r\"ДАТА РОЖДЕНИЯ\\):\\s(\\d{2}) \",\n",
    "    \"ecg_heart_rate\": r\"ЧСС\\s*[-,:РАВЕН]*\\s*(\\d{2,4})\",\n",
    "    \"ecg_bmi\": r\"ИМТ\\D*(\\d+)\",\n",
    "    # \"left_atrium\": r\"ЛЕВОЕ\",\n",
    "}"
   ]
  },
  {
   "cell_type": "code",
   "execution_count": 460,
   "metadata": {},
   "outputs": [],
   "source": [
    "section = \"full_wards\"\n",
    "for column_name, regex_string in new_columns_regex_ecg.items():\n",
    "    new_column = regex_search(\n",
    "        regex_string=regex_string,\n",
    "        column=section,\n",
    "        dataframe=labeled_data,\n",
    "    )\n",
    "    labeled_data = labeled_data.with_columns(\n",
    "        new_column.replace({\"\": None}).alias(section + \"_\" + column_name)\n",
    "    )"
   ]
  },
  {
   "cell_type": "markdown",
   "metadata": {},
   "source": [
    "##### potential features"
   ]
  },
  {
   "cell_type": "code",
   "execution_count": null,
   "metadata": {},
   "outputs": [
    {
     "data": {
      "text/html": [
       "<div><style>\n",
       ".dataframe > thead > tr,\n",
       ".dataframe > tbody > tr {\n",
       "  text-align: right;\n",
       "  white-space: pre-wrap;\n",
       "}\n",
       "</style>\n",
       "<small>shape: (10, 2)</small><table border=\"1\" class=\"dataframe\"><thead><tr><th>new_column</th><th>count</th></tr><tr><td>str</td><td>u32</td></tr></thead><tbody><tr><td>&quot;&quot;</td><td>6080</td></tr><tr><td>&quot;ЭЛЕВАЦИЯ СЕГМЕНТА ST В ОТВ.&quot;</td><td>167</td></tr><tr><td>&quot;ЭЛЕВАЦИЯ СЕГМЕНТА ST В II, &quot;</td><td>150</td></tr><tr><td>&quot;ЭЛЕВАЦИЯ СЕГМЕНТА ST В ОТВЕ&quot;</td><td>101</td></tr><tr><td>&quot;ЭЛЕВАЦИЯ СЕГМЕНТА ST ОБЩЕЙ &quot;</td><td>73</td></tr><tr><td>&quot;ЭЛЕВАЦИЯ СЕГМЕНТА ST В V1-V&quot;</td><td>71</td></tr><tr><td>&quot;ЭЛЕВАЦИЯ СЕГМЕНТА ST В III,&quot;</td><td>47</td></tr><tr><td>&quot;ЭЛЕВАЦИЯ СЕГМЕНТА ST, ПАТОЛ&quot;</td><td>32</td></tr><tr><td>&quot;ЭЛЕВАЦИЯ СЕГМЕНТА ST И ВЫСО&quot;</td><td>27</td></tr><tr><td>&quot;ЭЛЕВАЦИЯ СЕГМЕНТА ST В V2-V&quot;</td><td>26</td></tr></tbody></table></div>"
      ],
      "text/plain": [
       "shape: (10, 2)\n",
       "┌─────────────────────────────┬───────┐\n",
       "│ new_column                  ┆ count │\n",
       "│ ---                         ┆ ---   │\n",
       "│ str                         ┆ u32   │\n",
       "╞═════════════════════════════╪═══════╡\n",
       "│                             ┆ 6080  │\n",
       "│ ЭЛЕВАЦИЯ СЕГМЕНТА ST В ОТВ. ┆ 167   │\n",
       "│ ЭЛЕВАЦИЯ СЕГМЕНТА ST В II,  ┆ 150   │\n",
       "│ ЭЛЕВАЦИЯ СЕГМЕНТА ST В ОТВЕ ┆ 101   │\n",
       "│ ЭЛЕВАЦИЯ СЕГМЕНТА ST ОБЩЕЙ  ┆ 73    │\n",
       "│ ЭЛЕВАЦИЯ СЕГМЕНТА ST В V1-V ┆ 71    │\n",
       "│ ЭЛЕВАЦИЯ СЕГМЕНТА ST В III, ┆ 47    │\n",
       "│ ЭЛЕВАЦИЯ СЕГМЕНТА ST, ПАТОЛ ┆ 32    │\n",
       "│ ЭЛЕВАЦИЯ СЕГМЕНТА ST И ВЫСО ┆ 27    │\n",
       "│ ЭЛЕВАЦИЯ СЕГМЕНТА ST В V2-V ┆ 26    │\n",
       "└─────────────────────────────┴───────┘"
      ]
     },
     "execution_count": 118,
     "metadata": {},
     "output_type": "execute_result"
    }
   ],
   "source": [
    "(\n",
    "    regex_search(\n",
    "        regex_string=r\"(ЭЛЕВАЦИЯ.{0,7}СЕГМЕНТА..........)\",\n",
    "        column=\"full_wards\",\n",
    "        dataframe=labeled_data,\n",
    "    )\n",
    "    .value_counts()\n",
    "    .sort(\"count\", descending=True)\n",
    "    .head(10)\n",
    ")"
   ]
  },
  {
   "cell_type": "code",
   "execution_count": null,
   "metadata": {},
   "outputs": [
    {
     "data": {
      "text/html": [
       "<div><style>\n",
       ".dataframe > thead > tr,\n",
       ".dataframe > tbody > tr {\n",
       "  text-align: right;\n",
       "  white-space: pre-wrap;\n",
       "}\n",
       "</style>\n",
       "<small>shape: (10, 2)</small><table border=\"1\" class=\"dataframe\"><thead><tr><th>new_column</th><th>count</th></tr><tr><td>str</td><td>u32</td></tr></thead><tbody><tr><td>&quot;&quot;</td><td>3377</td></tr><tr><td>&quot;РЕПОЛЯРИЗАЦИИ НИЖНЕЙ С&quot;</td><td>514</td></tr><tr><td>&quot;РЕПОЛЯРИЗАЦИИ ПЕРЕДНЕ-&quot;</td><td>501</td></tr><tr><td>&quot;РЕПОЛЯРИЗАЦИИ БОКОВОЙ &quot;</td><td>395</td></tr><tr><td>&quot;РЕПОЛЯРИЗАЦИИ НИЖНЕ-БО&quot;</td><td>275</td></tr><tr><td>&quot;РЕПОЛЯРИЗАЦИИ ПЕРЕДНЕ &quot;</td><td>243</td></tr><tr><td>&quot;РЕПОЛЯРИЗАЦИИ ВЕРХУШЕЧ&quot;</td><td>228</td></tr><tr><td>&quot;РЕПОЛЯРИЗАЦИИ НИЖНЕЙ, &quot;</td><td>152</td></tr><tr><td>&quot;РЕПОЛЯРИЗАЦИИ МИОКАРДА&quot;</td><td>137</td></tr><tr><td>&quot;РЕПОЛЯРИЗАЦИИ ВЫСОКО-Б&quot;</td><td>112</td></tr></tbody></table></div>"
      ],
      "text/plain": [
       "shape: (10, 2)\n",
       "┌────────────────────────┬───────┐\n",
       "│ new_column             ┆ count │\n",
       "│ ---                    ┆ ---   │\n",
       "│ str                    ┆ u32   │\n",
       "╞════════════════════════╪═══════╡\n",
       "│                        ┆ 3377  │\n",
       "│ РЕПОЛЯРИЗАЦИИ НИЖНЕЙ С ┆ 514   │\n",
       "│ РЕПОЛЯРИЗАЦИИ ПЕРЕДНЕ- ┆ 501   │\n",
       "│ РЕПОЛЯРИЗАЦИИ БОКОВОЙ  ┆ 395   │\n",
       "│ РЕПОЛЯРИЗАЦИИ НИЖНЕ-БО ┆ 275   │\n",
       "│ РЕПОЛЯРИЗАЦИИ ПЕРЕДНЕ  ┆ 243   │\n",
       "│ РЕПОЛЯРИЗАЦИИ ВЕРХУШЕЧ ┆ 228   │\n",
       "│ РЕПОЛЯРИЗАЦИИ НИЖНЕЙ,  ┆ 152   │\n",
       "│ РЕПОЛЯРИЗАЦИИ МИОКАРДА ┆ 137   │\n",
       "│ РЕПОЛЯРИЗАЦИИ ВЫСОКО-Б ┆ 112   │\n",
       "└────────────────────────┴───────┘"
      ]
     },
     "execution_count": 119,
     "metadata": {},
     "output_type": "execute_result"
    }
   ],
   "source": [
    "(\n",
    "    regex_search(\n",
    "        regex_string=r\"(РЕПОЛЯРИЗАЦИ..........)\",\n",
    "        column=\"full_wards\",\n",
    "        dataframe=labeled_data,\n",
    "    )\n",
    "    .value_counts()\n",
    "    .sort(\"count\", descending=True)\n",
    "    .head(10)\n",
    ")"
   ]
  },
  {
   "cell_type": "code",
   "execution_count": null,
   "metadata": {},
   "outputs": [
    {
     "data": {
      "text/html": [
       "<div><style>\n",
       ".dataframe > thead > tr,\n",
       ".dataframe > tbody > tr {\n",
       "  text-align: right;\n",
       "  white-space: pre-wrap;\n",
       "}\n",
       "</style>\n",
       "<small>shape: (10, 2)</small><table border=\"1\" class=\"dataframe\"><thead><tr><th>new_column</th><th>count</th></tr><tr><td>str</td><td>u32</td></tr></thead><tbody><tr><td>&quot;&quot;</td><td>3712</td></tr><tr><td>&quot;ТИЧЕСКАЯ БЛЯШКА&nbsp;&nbsp;В УСТЬЕ &quot;</td><td>672</td></tr><tr><td>&quot;ТИЧЕСКАЯ БЛЯШКА&nbsp;&nbsp;В&nbsp;&nbsp;УСТЬЕ&quot;</td><td>562</td></tr><tr><td>&quot;ТИЧЕСКАЯ БЛЯШКА В БИФУРКА&quot;</td><td>395</td></tr><tr><td>&quot;ТИЧЕСКАЯ БЛЯШКА&nbsp;&nbsp;&nbsp;В БИФУР&quot;</td><td>257</td></tr><tr><td>&quot;ТИЧЕСКАЯ БЛЯШКА&nbsp;&nbsp;В БИФУРК&quot;</td><td>235</td></tr><tr><td>&quot;ТИЧЕСКАЯ БЛЯШКА, СТЕНОЗИР&quot;</td><td>216</td></tr><tr><td>&quot;ТИЧЕСКАЯ БЛЯШКА В БАССЕЙН&quot;</td><td>156</td></tr><tr><td>&quot;ТИЧЕСКАЯ БЛЯШКА&nbsp;&nbsp;ПО ЗАДНЕ&quot;</td><td>121</td></tr><tr><td>&quot;ТИЧЕСКАЯ БЛЯШКА В УСТЬЕ П&quot;</td><td>109</td></tr></tbody></table></div>"
      ],
      "text/plain": [
       "shape: (10, 2)\n",
       "┌───────────────────────────┬───────┐\n",
       "│ new_column                ┆ count │\n",
       "│ ---                       ┆ ---   │\n",
       "│ str                       ┆ u32   │\n",
       "╞═══════════════════════════╪═══════╡\n",
       "│                           ┆ 3712  │\n",
       "│ ТИЧЕСКАЯ БЛЯШКА  В УСТЬЕ  ┆ 672   │\n",
       "│ ТИЧЕСКАЯ БЛЯШКА  В  УСТЬЕ ┆ 562   │\n",
       "│ ТИЧЕСКАЯ БЛЯШКА В БИФУРКА ┆ 395   │\n",
       "│ ТИЧЕСКАЯ БЛЯШКА   В БИФУР ┆ 257   │\n",
       "│ ТИЧЕСКАЯ БЛЯШКА  В БИФУРК ┆ 235   │\n",
       "│ ТИЧЕСКАЯ БЛЯШКА, СТЕНОЗИР ┆ 216   │\n",
       "│ ТИЧЕСКАЯ БЛЯШКА В БАССЕЙН ┆ 156   │\n",
       "│ ТИЧЕСКАЯ БЛЯШКА  ПО ЗАДНЕ ┆ 121   │\n",
       "│ ТИЧЕСКАЯ БЛЯШКА В УСТЬЕ П ┆ 109   │\n",
       "└───────────────────────────┴───────┘"
      ]
     },
     "execution_count": 120,
     "metadata": {},
     "output_type": "execute_result"
    }
   ],
   "source": [
    "(\n",
    "    regex_search(\n",
    "        regex_string=r\"(ТИЧЕСКАЯ БЛЯШКА..........)\",\n",
    "        column=\"full_wards\",\n",
    "        dataframe=labeled_data,\n",
    "    )\n",
    "    .value_counts()\n",
    "    .sort(\"count\", descending=True)\n",
    "    .head(10)\n",
    ")"
   ]
  },
  {
   "cell_type": "code",
   "execution_count": null,
   "metadata": {},
   "outputs": [
    {
     "data": {
      "text/html": [
       "<div><style>\n",
       ".dataframe > thead > tr,\n",
       ".dataframe > tbody > tr {\n",
       "  text-align: right;\n",
       "  white-space: pre-wrap;\n",
       "}\n",
       "</style>\n",
       "<small>shape: (10, 2)</small><table border=\"1\" class=\"dataframe\"><thead><tr><th>new_column</th><th>count</th></tr><tr><td>str</td><td>u32</td></tr></thead><tbody><tr><td>&quot;&quot;</td><td>7113</td></tr><tr><td>&quot;ТЕНЬ СЕРДЦА РАСШИРЕНА&quot;</td><td>57</td></tr><tr><td>&quot;ТЕНЬ СЕРДЦА НЕЗНАЧИТЕ&quot;</td><td>42</td></tr><tr><td>&quot;ТЕНЬ СЕРДЦА ВИЗУАЛЬНО&quot;</td><td>19</td></tr><tr><td>&quot;ТЕНЬ СЕРДЦА НЕ РАСШИР&quot;</td><td>14</td></tr><tr><td>&quot;ТЕНЬ СЕРДЦА УМЕРЕННО &quot;</td><td>8</td></tr><tr><td>&quot;ТЕНЬ СЕРДЦА ОБЫЧНОЙ К&quot;</td><td>6</td></tr><tr><td>&quot;ТЕНЬ СЕРДЦА ЗНАЧИТЕЛЬ&quot;</td><td>5</td></tr><tr><td>&quot;ТЕНЬ СЕРДЦА ПРОЕКЦИОН&quot;</td><td>3</td></tr><tr><td>&quot;ТЕНЬ СЕРДЦА ОБЫЧНО РА&quot;</td><td>2</td></tr></tbody></table></div>"
      ],
      "text/plain": [
       "shape: (10, 2)\n",
       "┌───────────────────────┬───────┐\n",
       "│ new_column            ┆ count │\n",
       "│ ---                   ┆ ---   │\n",
       "│ str                   ┆ u32   │\n",
       "╞═══════════════════════╪═══════╡\n",
       "│                       ┆ 7113  │\n",
       "│ ТЕНЬ СЕРДЦА РАСШИРЕНА ┆ 57    │\n",
       "│ ТЕНЬ СЕРДЦА НЕЗНАЧИТЕ ┆ 42    │\n",
       "│ ТЕНЬ СЕРДЦА ВИЗУАЛЬНО ┆ 19    │\n",
       "│ ТЕНЬ СЕРДЦА НЕ РАСШИР ┆ 14    │\n",
       "│ ТЕНЬ СЕРДЦА УМЕРЕННО  ┆ 8     │\n",
       "│ ТЕНЬ СЕРДЦА ОБЫЧНОЙ К ┆ 6     │\n",
       "│ ТЕНЬ СЕРДЦА ЗНАЧИТЕЛЬ ┆ 5     │\n",
       "│ ТЕНЬ СЕРДЦА ПРОЕКЦИОН ┆ 3     │\n",
       "│ ТЕНЬ СЕРДЦА ОБЫЧНО РА ┆ 2     │\n",
       "└───────────────────────┴───────┘"
      ]
     },
     "execution_count": 121,
     "metadata": {},
     "output_type": "execute_result"
    }
   ],
   "source": [
    "(\n",
    "    regex_search(\n",
    "        regex_string=r\"(ТЕНЬ СЕРДЦА..........)\",\n",
    "        column=\"full_wards\",\n",
    "        dataframe=labeled_data,\n",
    "    )\n",
    "    .value_counts()\n",
    "    .sort(\"count\", descending=True)\n",
    "    .head(10)\n",
    ")"
   ]
  },
  {
   "cell_type": "code",
   "execution_count": null,
   "metadata": {},
   "outputs": [
    {
     "data": {
      "text/html": [
       "<div><style>\n",
       ".dataframe > thead > tr,\n",
       ".dataframe > tbody > tr {\n",
       "  text-align: right;\n",
       "  white-space: pre-wrap;\n",
       "}\n",
       "</style>\n",
       "<small>shape: (10, 2)</small><table border=\"1\" class=\"dataframe\"><thead><tr><th>new_column</th><th>count</th></tr><tr><td>str</td><td>u32</td></tr></thead><tbody><tr><td>&quot;АОРТА СМ. \\nАОРТАЛЬНЫЙ&quot;</td><td>2657</td></tr><tr><td>&quot;АОРТА НЕ РАСШИРЕНА, КО&quot;</td><td>918</td></tr><tr><td>&quot;АОРТА НЕ РАСШИРЕНА.\\nК&quot;</td><td>892</td></tr><tr><td>&quot;&quot;</td><td>779</td></tr><tr><td>&quot;АОРТА СМ. АОРТАЛЬНЫЙ К&quot;</td><td>352</td></tr><tr><td>&quot;АОРТА ЧЕТКО НЕ ДИФФЕРЕ&quot;</td><td>266</td></tr><tr><td>&quot;АОРТА С РОВНЫМ ЧЕТКИМ &quot;</td><td>258</td></tr><tr><td>&quot;АОРТА ЧАСТИЧНО ДИФФЕРЕ&quot;</td><td>201</td></tr><tr><td>&quot;АОРТА НЕ РАСШИРЕНА.КУП&quot;</td><td>88</td></tr><tr><td>&quot;АОРТА НЕ РАСШИРЕНА. ДУ&quot;</td><td>87</td></tr></tbody></table></div>"
      ],
      "text/plain": [
       "shape: (10, 2)\n",
       "┌────────────────────────┬───────┐\n",
       "│ new_column             ┆ count │\n",
       "│ ---                    ┆ ---   │\n",
       "│ str                    ┆ u32   │\n",
       "╞════════════════════════╪═══════╡\n",
       "│ АОРТА СМ. \\nАОРТАЛЬНЫЙ ┆ 2657  │\n",
       "│ АОРТА НЕ РАСШИРЕНА, КО ┆ 918   │\n",
       "│ АОРТА НЕ РАСШИРЕНА.\\nК ┆ 892   │\n",
       "│                        ┆ 779   │\n",
       "│ АОРТА СМ. АОРТАЛЬНЫЙ К ┆ 352   │\n",
       "│ АОРТА ЧЕТКО НЕ ДИФФЕРЕ ┆ 266   │\n",
       "│ АОРТА С РОВНЫМ ЧЕТКИМ  ┆ 258   │\n",
       "│ АОРТА ЧАСТИЧНО ДИФФЕРЕ ┆ 201   │\n",
       "│ АОРТА НЕ РАСШИРЕНА.КУП ┆ 88    │\n",
       "│ АОРТА НЕ РАСШИРЕНА. ДУ ┆ 87    │\n",
       "└────────────────────────┴───────┘"
      ]
     },
     "execution_count": 122,
     "metadata": {},
     "output_type": "execute_result"
    }
   ],
   "source": [
    "(\n",
    "    regex_search(\n",
    "        regex_string=r\"(АОРТА ................)\",\n",
    "        column=\"full_wards\",\n",
    "        dataframe=labeled_data,\n",
    "    )\n",
    "    .value_counts()\n",
    "    .sort(\"count\", descending=True)\n",
    "    .head(10)\n",
    ")"
   ]
  },
  {
   "cell_type": "code",
   "execution_count": null,
   "metadata": {},
   "outputs": [
    {
     "data": {
      "text/html": [
       "<div><style>\n",
       ".dataframe > thead > tr,\n",
       ".dataframe > tbody > tr {\n",
       "  text-align: right;\n",
       "  white-space: pre-wrap;\n",
       "}\n",
       "</style>\n",
       "<small>shape: (10, 2)</small><table border=\"1\" class=\"dataframe\"><thead><tr><th>new_column</th><th>count</th></tr><tr><td>str</td><td>u32</td></tr></thead><tbody><tr><td>&quot;&quot;</td><td>6300</td></tr><tr><td>&quot;ЛЕВОСТОРОННИЙ ГИДРОТОРАКС.&#x27;}}]…</td><td>76</td></tr><tr><td>&quot;КТИКА/РЕГРЕСС ГИДРОТОРАКСА, НО…</td><td>38</td></tr><tr><td>&quot;ЕВОСТОРОННЕГО ГИДРОТОРАКСА.&#x27;}}…</td><td>37</td></tr><tr><td>&quot; ДВУСТОРОННИЙ ГИДРОТОРАКС.&#x27;}}]…</td><td>32</td></tr><tr><td>&quot;ДВУСТОРОННЕГО ГИДРОТОРАКСА.&#x27;}}…</td><td>20</td></tr><tr><td>&quot;2-Х СТОРОННИЙ ГИДРОТОРАКС.&#x27;}}]…</td><td>17</td></tr><tr><td>&quot;ЕВОСТОРОННЕГО ГИДРОТОРАКСА, СО…</td><td>16</td></tr><tr><td>&quot;АВОСТОРОННЕГО ГИДРОТОРАКСА.&#x27;}}…</td><td>14</td></tr><tr><td>&quot;ЕВОСТОРОННЕГО ГИДРОТОРАКСА.\\nС…</td><td>13</td></tr></tbody></table></div>"
      ],
      "text/plain": [
       "shape: (10, 2)\n",
       "┌─────────────────────────────────┬───────┐\n",
       "│ new_column                      ┆ count │\n",
       "│ ---                             ┆ ---   │\n",
       "│ str                             ┆ u32   │\n",
       "╞═════════════════════════════════╪═══════╡\n",
       "│                                 ┆ 6300  │\n",
       "│ ЛЕВОСТОРОННИЙ ГИДРОТОРАКС.'}}]… ┆ 76    │\n",
       "│ КТИКА/РЕГРЕСС ГИДРОТОРАКСА, НО… ┆ 38    │\n",
       "│ ЕВОСТОРОННЕГО ГИДРОТОРАКСА.'}}… ┆ 37    │\n",
       "│  ДВУСТОРОННИЙ ГИДРОТОРАКС.'}}]… ┆ 32    │\n",
       "│ ДВУСТОРОННЕГО ГИДРОТОРАКСА.'}}… ┆ 20    │\n",
       "│ 2-Х СТОРОННИЙ ГИДРОТОРАКС.'}}]… ┆ 17    │\n",
       "│ ЕВОСТОРОННЕГО ГИДРОТОРАКСА, СО… ┆ 16    │\n",
       "│ АВОСТОРОННЕГО ГИДРОТОРАКСА.'}}… ┆ 14    │\n",
       "│ ЕВОСТОРОННЕГО ГИДРОТОРАКСА.\\nС… ┆ 13    │\n",
       "└─────────────────────────────────┴───────┘"
      ]
     },
     "execution_count": 123,
     "metadata": {},
     "output_type": "execute_result"
    }
   ],
   "source": [
    "(\n",
    "    regex_search(\n",
    "        regex_string=r\"(..............ГИДРОТОРАКС.......)\",\n",
    "        column=\"full_wards\",\n",
    "        dataframe=labeled_data,\n",
    "    )\n",
    "    .value_counts()\n",
    "    .sort(\"count\", descending=True)\n",
    "    .head(10)\n",
    ")"
   ]
  },
  {
   "cell_type": "code",
   "execution_count": null,
   "metadata": {},
   "outputs": [
    {
     "data": {
      "text/html": [
       "<div><style>\n",
       ".dataframe > thead > tr,\n",
       ".dataframe > tbody > tr {\n",
       "  text-align: right;\n",
       "  white-space: pre-wrap;\n",
       "}\n",
       "</style>\n",
       "<small>shape: (10, 2)</small><table border=\"1\" class=\"dataframe\"><thead><tr><th>new_column</th><th>count</th></tr><tr><td>str</td><td>u32</td></tr></thead><tbody><tr><td>&quot;\\nСЕРДЦЕ НЕ РАСШИРЕНО.&quot;</td><td>2010</td></tr><tr><td>&quot;&quot;</td><td>1265</td></tr><tr><td>&quot;\\nСЕРДЦЕ ПРОЕКЦИОННО Р&quot;</td><td>685</td></tr><tr><td>&quot;\\nСЕРДЦЕ ОБЫЧНО РАСПОЛ&quot;</td><td>523</td></tr><tr><td>&quot;\\nСЕРДЦЕ ОБЫЧНОЙ КОНФИ&quot;</td><td>454</td></tr><tr><td>&quot;\\nСЕРДЦЕ И КРУПНЫЕ СОС&quot;</td><td>416</td></tr><tr><td>&quot;\\nСЕРДЦЕ ВИЗУАЛЬНО НЕ &quot;</td><td>189</td></tr><tr><td>&quot;\\nСЕРДЦЕ РАСШИРЕНО.\\nА&quot;</td><td>180</td></tr><tr><td>&quot;\\nСЕРДЦЕ НЕ РАСШИРЕНО,&quot;</td><td>171</td></tr><tr><td>&quot;\\nСЕРДЦЕ ВИЗУАЛЬНО РАС&quot;</td><td>167</td></tr></tbody></table></div>"
      ],
      "text/plain": [
       "shape: (10, 2)\n",
       "┌────────────────────────┬───────┐\n",
       "│ new_column             ┆ count │\n",
       "│ ---                    ┆ ---   │\n",
       "│ str                    ┆ u32   │\n",
       "╞════════════════════════╪═══════╡\n",
       "│ \\nСЕРДЦЕ НЕ РАСШИРЕНО. ┆ 2010  │\n",
       "│                        ┆ 1265  │\n",
       "│ \\nСЕРДЦЕ ПРОЕКЦИОННО Р ┆ 685   │\n",
       "│ \\nСЕРДЦЕ ОБЫЧНО РАСПОЛ ┆ 523   │\n",
       "│ \\nСЕРДЦЕ ОБЫЧНОЙ КОНФИ ┆ 454   │\n",
       "│ \\nСЕРДЦЕ И КРУПНЫЕ СОС ┆ 416   │\n",
       "│ \\nСЕРДЦЕ ВИЗУАЛЬНО НЕ  ┆ 189   │\n",
       "│ \\nСЕРДЦЕ РАСШИРЕНО.\\nА ┆ 180   │\n",
       "│ \\nСЕРДЦЕ НЕ РАСШИРЕНО, ┆ 171   │\n",
       "│ \\nСЕРДЦЕ ВИЗУАЛЬНО РАС ┆ 167   │\n",
       "└────────────────────────┴───────┘"
      ]
     },
     "execution_count": 124,
     "metadata": {},
     "output_type": "execute_result"
    }
   ],
   "source": [
    "(\n",
    "    regex_search(\n",
    "        regex_string=r\"(..СЕРДЦЕ..............)\",\n",
    "        column=\"full_wards\",\n",
    "        dataframe=labeled_data,\n",
    "    )\n",
    "    .value_counts()\n",
    "    .sort(\"count\", descending=True)\n",
    "    .head(10)\n",
    ")"
   ]
  },
  {
   "cell_type": "code",
   "execution_count": null,
   "metadata": {},
   "outputs": [
    {
     "data": {
      "text/plain": [
       "{'{urn:hl7-org:v3}table': {'{urn:hl7-org:v3}col': [{'width': '12%'},\n",
       "   {'width': '88%'}],\n",
       "  '{urn:hl7-org:v3}tbody': {'{urn:hl7-org:v3}tr': [{'{urn:hl7-org:v3}td': [{'{urn:hl7-org:v3}content': {'text': 'Эффективная доза'}},\n",
       "      {'{urn:hl7-org:v3}content': {}}]},\n",
       "    {'{urn:hl7-org:v3}td': [{'{urn:hl7-org:v3}content': {'text': 'Протокол'}},\n",
       "      {'{urn:hl7-org:v3}content': {'text': '\"\" \\n\"\"\\n!\\n\\nПРОТОКОЛ ОБСЛЕДОВАНИЯ № !!!!!!!!!!!!!\\n\\n\\nФ.И.О.: С В И\\nВОЗРАСТ (ДАТА РОЖДЕНИЯ): 66 ( 01.01.1698!)\\n25.09.22 ПО\\nЗАКЛЮЧЕНИЕ:\\nРИТМ СИНУСОВЫЙ УСКОРЕННЫЙ С ЧСС 96 В МИН\\nЭОС ОТКЛОНЕНА РЕЗКО ВЛЕВО. \\nБЛОКАДА ЛЕВОЙ НОЖКИ ПУЧКА ГИСА.\\nЭЛЕВАЦИЯ ST V1-V5'}}]},\n",
       "    {'{urn:hl7-org:v3}td': [{'{urn:hl7-org:v3}content': {'text': 'Заключение'}},\n",
       "      {'{urn:hl7-org:v3}content': {'text': 'ЗАКЛЮЧЕНИЕ:\\nРИТМ СИНУСОВЫЙ УСКОРЕННЫЙ С ЧСС 96 В МИН\\nЭОС ОТКЛОНЕНА РЕЗКО ВЛЕВО. \\nБЛОКАДА ЛЕВОЙ НОЖКИ ПУЧКА ГИСА.\\nЭЛЕВАЦИЯ ST V1-V5'}}]},\n",
       "    {'{urn:hl7-org:v3}td': [{'{urn:hl7-org:v3}content': {'text': 'Выявленная патология'}},\n",
       "      {'{urn:hl7-org:v3}content': {}}]},\n",
       "    {'{urn:hl7-org:v3}td': [{'{urn:hl7-org:v3}content': {'text': 'Диагноз'}},\n",
       "      {'{urn:hl7-org:v3}content': {'text': 'I21.0 Острый трансмуральный инфаркт передней стенки миокарда'}}]},\n",
       "    {'{urn:hl7-org:v3}td': [{'{urn:hl7-org:v3}content': {'text': 'Услуги'}},\n",
       "      {'{urn:hl7-org:v3}content': {'text': 'Регистрация электрокардиограммы (A05.10.006)'}}]},\n",
       "    {'{urn:hl7-org:v3}td': [{'{urn:hl7-org:v3}content': {'text': 'Врач'}},\n",
       "      {'{urn:hl7-org:v3}content': {'text': '!!!!!!!!!!!!! !!!!!!!!!!!!! !!!!!!!!!!!!! (Врач функциональной диагностики)'}}]}]},\n",
       "  'width': '100%'}}"
      ]
     },
     "execution_count": 226,
     "metadata": {},
     "output_type": "execute_result"
    }
   ],
   "source": [
    "(\n",
    "    pd.DataFrame(eval(labeled_data[\"full_wards\"][3])).loc[\n",
    "        \"Электрокардиография (25.09.2022 01:15)\",\n",
    "        \"Сведения о пребывании пациента в Приемное отделение\",\n",
    "    ]\n",
    ")"
   ]
  },
  {
   "cell_type": "code",
   "execution_count": null,
   "metadata": {},
   "outputs": [
    {
     "name": "stdout",
     "output_type": "stream",
     "text": [
      "Ф.И.О.: М В М\n",
      "ВОЗРАСТ (ДАТА РОЖДЕНИЯ): 73 ( 01.01.1698!) \n",
      "ПРЕДВАРИТЕЛЬНЫЙ ДИАГНОЗ: ИБС. ИНФАРКТ МИОКАРДА НИЖНЕ-ЗАДНЕЙ СТЕНКИ С ПОДЪЕМОМ СЕГМЕНТА ST ОТ 21.07.2022. КОРОНАРНАЯ БАЛОННАЯ АНГИОПЛАСТИКА СО СТЕНТИРОВАНИЕМ ПР/3 - СР/3 ОВ КАЛИПСО 4,0 X 33 MM (KL33400) ОТ 21.07.2022\n",
      "РЕЗУЛЬТАТЫ ОБСЛЕДОВАНИЯ:\n",
      "ПРАВОЕ ПРЕДСЕРДИЕ:  3,6 СМ.; \tПРАВЫЙ ЖЕЛУДОЧЕК: 3,0 СМ.; \n",
      "ЛЕВОЕ ПРЕДСЕРДИЕ: 4,3 СМ.; В ДЛИНУ: 5,3СМ.; ОБЪЕМ 67 МЛ. S ЛП 21,1 СМ2 \n",
      "ЛЕВЫЙ ЖЕЛУДОЧЕК: КДО: 125 МЛ.; КСО: 70 МЛ.; УО:  55  МЛ.; ФВ: 45 % \n",
      "МЖП: 1,5 СМ ; НЕОПРЕДЕЛЕННЫЙ ТИП ДВИЖЕНИЯ \n",
      "ЗАДНЯЯ СТЕНКА: 1,15 СМ.; УМЕРЕННЫЙ ГИПОКИНЕЗ\n",
      "НИЖНЯЯ СТЕНКА УМЕРЕННЫЙ ГИПОКИНЕЗ\n",
      "МИТРАЛЬНЫЙ КЛАПАН: СТВОРКИ НЕ УПЛОТНЕНЫ, ПРОТИВОФАЗА СОХРАНЕНА \n",
      "\tРСМК - СМ.;\tФК В ДИАСТОЛУ - СМ.;\n",
      "МИТРАЛЬНОЕ ОТВЕРСТИЕ: СМ2.; Д - СМ2\n",
      "ГРАДИЕНТ ДАВЛЕНИЯ ПИК: 1,8 ММ. РТ. СТ. СРЕДНИЙ: ММ. РТ. СТ.\n",
      "СКОРОСТЬ КРОВОТОКА: 0,7 М/С.; СТЕПЕНЬ РЕГУРГИТАЦИИ: ДО 2 (25% ОТ S ЛП), ЦЕНТРАЛЬНАЯ СТРУЯ, V.C 0,5 СМ, S РЕГ. СТРУИ 5,4 СМ2 \n",
      "Е/А 0,7 DT МС. \n",
      "АОРТА: СТЕНКИ УПЛОТНЕНЫ, АМПЛИТУДА ИХ ДВИЖЕНИЯ СОХРАНЕНА \n",
      "ФИБРОЗНОЕ КОЛЬЦО: 2.1 СМ.;  УПЛОТНЕНО, ЕДИНИЧНЫЙ КАЛЬЦИНАТ;\n",
      "ДИАМЕТР АО НА УРОВНЕ СИНУСОВ ВАЛЬСАЛЬВЫ: 3,5 СМ. ВОСХОДЯЩАЯ АОРТА: 3,6 СМ..;\n",
      "ДУГА АОРТЫ  СМ ПЕРЕШЕЕК    ММ.РТ.СТ. НИСХОДЯЩАЯ АОРТА СМ. \n",
      "АОРТАЛЬНЫЙ КЛАПАН: СТВОРКИ УПЛОТНЕНЫ ОТКРЫТИЕ 2,0СМ. \n",
      "ГРАДИЕНТ ДАВЛЕНИЯ ПИК: 5.4 ММ. РТ. СТ.; СРЕДНИЙ: ММ. РТ. СТ.\n",
      "СКОРОСТЬ КРОВОТОКА: 1,1М/С. СТЕПЕНЬ РЕГУРГИТАЦИИ: ; S РЕГ. СТРУИ СМ2 \n",
      "ТРИКУСПИДАЛЬНЫЙ КЛАПАН: ИНТАКТНЫЙ \n",
      "ГРАДИЕНТ ДАВЛЕНИЯ ПИК: ММ. РТ. СТ.; СРЕДНИЙ: ММ. РТ. СТ.\n",
      "СКОРОСТЬ КРОВОТОКА: М/С. СТЕПЕНЬ РЕГУРГИТАЦИИ:1\n",
      "ЛЕГОЧНАЯ АРТЕРИЯ: ФК 2,6 СМ, СТВОЛ: СМ, ПРАВАЯ ВЕТВЬ СМ, ЛЕВАЯ: СМ.\n",
      "ГРАДИЕНТ ДАВЛЕНИЯ ПИК: 2,8 ММ. РТ. СТ.; СРЕДНИЙ: ММ. РТ. СТ.\n",
      "СКОРОСТЬ КРОВОТОКА: 0.8 М/С.; СТЕПЕНЬ РЕГУРГИТАЦИИ: 1\n",
      "СИСТ. ДАВЛЕНИЕ В ЛЕГОЧНОЙ АРТЕРИИ: ММ. РТ. СТ. ПО ПОТОКУ TR 28 ММ. РТ. СТ.\n",
      "ПЕРИКАРД: Б/О. ЧСС: УД. В МИН. \n",
      "ЗАКЛЮЧЕНИЕ:\n",
      "СОСТОЯНИЕ ПОСЛЕ СТЕНТИРОВАНИЯ ОВ ОТ 21.07.22 \n",
      "УМЕРЕННЫЙ ГИПОКИНЕЗ НИЖНЕ-БАЗАЛЬНЫХ, ЗАДНЕ БАЗАЛЬНЫХ СЕГМЕНТОВ ЛЖ.\n",
      "УВЕЛИЧЕНИЕ ПОЛОСТИ ЛЕВОГО ПРЕДСЕРДИЯ. \n",
      "НЕДОСТАТОЧНОСТЬ МК ДО 2 СТ.\n",
      "ГИПЕРТРОФИЯ МЖП. \n",
      "ДИАСТОЛИЧЕСКАЯ ДИСФУНКЦИЯ ЛЖ I ТИП (НАРУШЕНИЕ РЕЛАКСАЦИИ ЛЖ)\n",
      "ФИБРОЗ КОРНЯ И СТЕНОК ВОСХОДЯЩЕЙ АОРТЫ\n",
      "СОКРАТИТЕЛЬНАЯ ФУНКЦИЯ МИОКАРДА УМЕРЕННО СНИЖЕНА. \n",
      "ДАННЫХ ЗА ЖИДКОСТЬ В ПОЛОСТИ ПЕРИКАРДА НЕТ.\n"
     ]
    }
   ],
   "source": [
    "print(\n",
    "    \"Ф.И.О.: М В М\\nВОЗРАСТ (ДАТА РОЖДЕНИЯ): 73 ( 01.01.1698!) \\nПРЕДВАРИТЕЛЬНЫЙ ДИАГНОЗ: ИБС. ИНФАРКТ МИОКАРДА НИЖНЕ-ЗАДНЕЙ СТЕНКИ С ПОДЪЕМОМ СЕГМЕНТА ST ОТ 21.07.2022. КОРОНАРНАЯ БАЛОННАЯ АНГИОПЛАСТИКА СО СТЕНТИРОВАНИЕМ ПР/3 - СР/3 ОВ КАЛИПСО 4,0 X 33 MM (KL33400) ОТ 21.07.2022\\nРЕЗУЛЬТАТЫ ОБСЛЕДОВАНИЯ:\\nПРАВОЕ ПРЕДСЕРДИЕ:  3,6 СМ.; \\tПРАВЫЙ ЖЕЛУДОЧЕК: 3,0 СМ.; \\nЛЕВОЕ ПРЕДСЕРДИЕ: 4,3 СМ.; В ДЛИНУ: 5,3СМ.; ОБЪЕМ 67 МЛ. S ЛП 21,1 СМ2 \\nЛЕВЫЙ ЖЕЛУДОЧЕК: КДО: 125 МЛ.; КСО: 70 МЛ.; УО:  55  МЛ.; ФВ: 45 % \\nМЖП: 1,5 СМ ; НЕОПРЕДЕЛЕННЫЙ ТИП ДВИЖЕНИЯ \\nЗАДНЯЯ СТЕНКА: 1,15 СМ.; УМЕРЕННЫЙ ГИПОКИНЕЗ\\nНИЖНЯЯ СТЕНКА УМЕРЕННЫЙ ГИПОКИНЕЗ\\nМИТРАЛЬНЫЙ КЛАПАН: СТВОРКИ НЕ УПЛОТНЕНЫ, ПРОТИВОФАЗА СОХРАНЕНА \\n\\tРСМК - СМ.;\\tФК В ДИАСТОЛУ - СМ.;\\nМИТРАЛЬНОЕ ОТВЕРСТИЕ: СМ2.; Д - СМ2\\nГРАДИЕНТ ДАВЛЕНИЯ ПИК: 1,8 ММ. РТ. СТ. СРЕДНИЙ: ММ. РТ. СТ.\\nСКОРОСТЬ КРОВОТОКА: 0,7 М/С.; СТЕПЕНЬ РЕГУРГИТАЦИИ: ДО 2 (25% ОТ S ЛП), ЦЕНТРАЛЬНАЯ СТРУЯ, V.C 0,5 СМ, S РЕГ. СТРУИ 5,4 СМ2 \\nЕ/А 0,7 DT МС. \\nАОРТА: СТЕНКИ УПЛОТНЕНЫ, АМПЛИТУДА ИХ ДВИЖЕНИЯ СОХРАНЕНА \\nФИБРОЗНОЕ КОЛЬЦО: 2.1 СМ.;  УПЛОТНЕНО, ЕДИНИЧНЫЙ КАЛЬЦИНАТ;\\nДИАМЕТР АО НА УРОВНЕ СИНУСОВ ВАЛЬСАЛЬВЫ: 3,5 СМ. ВОСХОДЯЩАЯ АОРТА: 3,6 СМ..;\\nДУГА АОРТЫ  СМ ПЕРЕШЕЕК    ММ.РТ.СТ. НИСХОДЯЩАЯ АОРТА СМ. \\nАОРТАЛЬНЫЙ КЛАПАН: СТВОРКИ УПЛОТНЕНЫ ОТКРЫТИЕ 2,0СМ. \\nГРАДИЕНТ ДАВЛЕНИЯ ПИК: 5.4 ММ. РТ. СТ.; СРЕДНИЙ: ММ. РТ. СТ.\\nСКОРОСТЬ КРОВОТОКА: 1,1М/С. СТЕПЕНЬ РЕГУРГИТАЦИИ: ; S РЕГ. СТРУИ СМ2 \\nТРИКУСПИДАЛЬНЫЙ КЛАПАН: ИНТАКТНЫЙ \\nГРАДИЕНТ ДАВЛЕНИЯ ПИК: ММ. РТ. СТ.; СРЕДНИЙ: ММ. РТ. СТ.\\nСКОРОСТЬ КРОВОТОКА: М/С. СТЕПЕНЬ РЕГУРГИТАЦИИ:1\\nЛЕГОЧНАЯ АРТЕРИЯ: ФК 2,6 СМ, СТВОЛ: СМ, ПРАВАЯ ВЕТВЬ СМ, ЛЕВАЯ: СМ.\\nГРАДИЕНТ ДАВЛЕНИЯ ПИК: 2,8 ММ. РТ. СТ.; СРЕДНИЙ: ММ. РТ. СТ.\\nСКОРОСТЬ КРОВОТОКА: 0.8 М/С.; СТЕПЕНЬ РЕГУРГИТАЦИИ: 1\\nСИСТ. ДАВЛЕНИЕ В ЛЕГОЧНОЙ АРТЕРИИ: ММ. РТ. СТ. ПО ПОТОКУ TR 28 ММ. РТ. СТ.\\nПЕРИКАРД: Б/О. ЧСС: УД. В МИН. \\nЗАКЛЮЧЕНИЕ:\\nСОСТОЯНИЕ ПОСЛЕ СТЕНТИРОВАНИЯ ОВ ОТ 21.07.22 \\nУМЕРЕННЫЙ ГИПОКИНЕЗ НИЖНЕ-БАЗАЛЬНЫХ, ЗАДНЕ БАЗАЛЬНЫХ СЕГМЕНТОВ ЛЖ.\\nУВЕЛИЧЕНИЕ ПОЛОСТИ ЛЕВОГО ПРЕДСЕРДИЯ. \\nНЕДОСТАТОЧНОСТЬ МК ДО 2 СТ.\\nГИПЕРТРОФИЯ МЖП. \\nДИАСТОЛИЧЕСКАЯ ДИСФУНКЦИЯ ЛЖ I ТИП (НАРУШЕНИЕ РЕЛАКСАЦИИ ЛЖ)\\nФИБРОЗ КОРНЯ И СТЕНОК ВОСХОДЯЩЕЙ АОРТЫ\\nСОКРАТИТЕЛЬНАЯ ФУНКЦИЯ МИОКАРДА УМЕРЕННО СНИЖЕНА. \\nДАННЫХ ЗА ЖИДКОСТЬ В ПОЛОСТИ ПЕРИКАРДА НЕТ.\"\n",
    ")"
   ]
  },
  {
   "cell_type": "code",
   "execution_count": null,
   "metadata": {},
   "outputs": [
    {
     "data": {
      "text/html": [
       "<div><style>\n",
       ".dataframe > thead > tr,\n",
       ".dataframe > tbody > tr {\n",
       "  text-align: right;\n",
       "  white-space: pre-wrap;\n",
       "}\n",
       "</style>\n",
       "<small>shape: (2, 2)</small><table border=\"1\" class=\"dataframe\"><thead><tr><th>new_column</th><th>count</th></tr><tr><td>str</td><td>u32</td></tr></thead><tbody><tr><td>&quot;&quot;</td><td>5852</td></tr><tr><td>&quot;томограф&quot;</td><td>1428</td></tr></tbody></table></div>"
      ],
      "text/plain": [
       "shape: (2, 2)\n",
       "┌────────────┬───────┐\n",
       "│ new_column ┆ count │\n",
       "│ ---        ┆ ---   │\n",
       "│ str        ┆ u32   │\n",
       "╞════════════╪═══════╡\n",
       "│            ┆ 5852  │\n",
       "│ томограф   ┆ 1428  │\n",
       "└────────────┴───────┘"
      ]
     },
     "execution_count": 125,
     "metadata": {},
     "output_type": "execute_result"
    }
   ],
   "source": [
    "(\n",
    "    regex_search(\n",
    "        regex_string=r\"(томограф)\",\n",
    "        column=\"full_wards\",\n",
    "        dataframe=labeled_data,\n",
    "    )\n",
    "    .value_counts()\n",
    "    .sort(\"count\", descending=True)\n",
    "    .head(10)\n",
    ")"
   ]
  },
  {
   "cell_type": "markdown",
   "metadata": {},
   "source": [
    "#### ward_table\n",
    "useless -> drop col"
   ]
  },
  {
   "cell_type": "code",
   "execution_count": 193,
   "metadata": {},
   "outputs": [
    {
     "data": {
      "text/html": [
       "<div>\n",
       "<style scoped>\n",
       "    .dataframe tbody tr th:only-of-type {\n",
       "        vertical-align: middle;\n",
       "    }\n",
       "\n",
       "    .dataframe tbody tr th {\n",
       "        vertical-align: top;\n",
       "    }\n",
       "\n",
       "    .dataframe thead th {\n",
       "        text-align: right;\n",
       "    }\n",
       "</style>\n",
       "<table border=\"1\" class=\"dataframe\">\n",
       "  <thead>\n",
       "    <tr style=\"text-align: right;\">\n",
       "      <th></th>\n",
       "      <th>Название</th>\n",
       "      <th>Дата поступления</th>\n",
       "      <th>Дата перевода</th>\n",
       "      <th>Профиль койки</th>\n",
       "      <th>Лечащий врач</th>\n",
       "    </tr>\n",
       "  </thead>\n",
       "  <tbody>\n",
       "    <tr>\n",
       "      <th>0</th>\n",
       "      <td>Приемное отделение</td>\n",
       "      <td>13.12.2023 11:25</td>\n",
       "      <td>13.12.2023 11:34</td>\n",
       "      <td>!!!!!!!!!!!!! !!!!!!!!!!!!! ! (Врач-кардиолог)</td>\n",
       "      <td>None</td>\n",
       "    </tr>\n",
       "    <tr>\n",
       "      <th>1</th>\n",
       "      <td>Кардиологическое отделение с ПРиИТ для лечения...</td>\n",
       "      <td>13.12.2023 11:35</td>\n",
       "      <td>20.12.2023 10:00</td>\n",
       "      <td>!!!!!!!!!!!!! !!!!!!!!!!!!! !!!!!!!!!!!!! (Зав...</td>\n",
       "      <td>None</td>\n",
       "    </tr>\n",
       "  </tbody>\n",
       "</table>\n",
       "</div>"
      ],
      "text/plain": [
       "                                            Название  Дата поступления  \\\n",
       "0                                 Приемное отделение  13.12.2023 11:25   \n",
       "1  Кардиологическое отделение с ПРиИТ для лечения...  13.12.2023 11:35   \n",
       "\n",
       "      Дата перевода                                      Профиль койки  \\\n",
       "0  13.12.2023 11:34     !!!!!!!!!!!!! !!!!!!!!!!!!! ! (Врач-кардиолог)   \n",
       "1  20.12.2023 10:00  !!!!!!!!!!!!! !!!!!!!!!!!!! !!!!!!!!!!!!! (Зав...   \n",
       "\n",
       "  Лечащий врач  \n",
       "0         None  \n",
       "1         None  "
      ]
     },
     "execution_count": 193,
     "metadata": {},
     "output_type": "execute_result"
    }
   ],
   "source": [
    "pd.DataFrame(eval(labeled_data[\"ward_table\"].to_numpy()[920]))"
   ]
  },
  {
   "cell_type": "code",
   "execution_count": null,
   "metadata": {},
   "outputs": [
    {
     "data": {
      "text/html": [
       "<div>\n",
       "<style scoped>\n",
       "    .dataframe tbody tr th:only-of-type {\n",
       "        vertical-align: middle;\n",
       "    }\n",
       "\n",
       "    .dataframe tbody tr th {\n",
       "        vertical-align: top;\n",
       "    }\n",
       "\n",
       "    .dataframe thead th {\n",
       "        text-align: right;\n",
       "    }\n",
       "</style>\n",
       "<table border=\"1\" class=\"dataframe\">\n",
       "  <thead>\n",
       "    <tr style=\"text-align: right;\">\n",
       "      <th></th>\n",
       "      <th>Название</th>\n",
       "      <th>Дата поступления</th>\n",
       "      <th>Дата перевода</th>\n",
       "      <th>Профиль койки</th>\n",
       "      <th>Лечащий врач</th>\n",
       "    </tr>\n",
       "  </thead>\n",
       "  <tbody>\n",
       "    <tr>\n",
       "      <th>0</th>\n",
       "      <td>Приемное отделение</td>\n",
       "      <td>13.12.2023 11:25</td>\n",
       "      <td>13.12.2023 11:34</td>\n",
       "      <td>(Врач-кардиолог)</td>\n",
       "      <td>None</td>\n",
       "    </tr>\n",
       "    <tr>\n",
       "      <th>1</th>\n",
       "      <td>Кардиологическое отделение с ПРиИТ для лечения...</td>\n",
       "      <td>13.12.2023 11:35</td>\n",
       "      <td>20.12.2023 10:00</td>\n",
       "      <td>(Заведующий (начальник) структурного подраз...</td>\n",
       "      <td>None</td>\n",
       "    </tr>\n",
       "  </tbody>\n",
       "</table>\n",
       "</div>"
      ],
      "text/plain": [
       "                                            Название  Дата поступления  \\\n",
       "0                                 Приемное отделение  13.12.2023 11:25   \n",
       "1  Кардиологическое отделение с ПРиИТ для лечения...  13.12.2023 11:35   \n",
       "\n",
       "      Дата перевода                                      Профиль койки  \\\n",
       "0  13.12.2023 11:34                                   (Врач-кардиолог)   \n",
       "1  20.12.2023 10:00     (Заведующий (начальник) структурного подраз...   \n",
       "\n",
       "  Лечащий врач  \n",
       "0         None  \n",
       "1         None  "
      ]
     },
     "execution_count": 194,
     "metadata": {},
     "output_type": "execute_result"
    }
   ],
   "source": [
    "pd.DataFrame(eval(labeled_data[\"ward_table\"].to_numpy()[920].replace(\"!\", \"\")))"
   ]
  },
  {
   "cell_type": "code",
   "execution_count": 195,
   "metadata": {},
   "outputs": [
    {
     "data": {
      "text/plain": [
       "{'None'}"
      ]
     },
     "execution_count": 195,
     "metadata": {},
     "output_type": "execute_result"
    }
   ],
   "source": [
    "# empty field\n",
    "d = list(\n",
    "    map(\n",
    "        lambda x: set(\n",
    "            pd.DataFrame(eval(x.replace(\"!\", \"\")))[\"Лечащий врач\"].values.tolist()\n",
    "        ),\n",
    "        labeled_data[\"ward_table\"].to_numpy(),\n",
    "    )\n",
    ")\n",
    "set().union(*d)"
   ]
  },
  {
   "cell_type": "code",
   "execution_count": 197,
   "metadata": {},
   "outputs": [
    {
     "data": {
      "text/plain": [
       "{'Название': {0: 'Приемное отделение',\n",
       "  1: 'Кардиологическое отделение с ПРиИТ для лечения больных с ОКС (ПСО) №2',\n",
       "  2: 'Кардиохирургическое отделение №1',\n",
       "  3: 'Отделение анестезиологии-реанимации с палатами реанимации и интенсивной терапии №1',\n",
       "  4: 'Кардиохирургическое отделение №1'},\n",
       " 'Дата поступления': {0: '28.02.2022 09:34',\n",
       "  1: '28.02.2022 09:44',\n",
       "  2: '01.03.2022 09:28',\n",
       "  3: '10.03.2022 08:24',\n",
       "  4: '11.03.2022 12:30'},\n",
       " 'Дата перевода': {0: '28.02.2022 09:43',\n",
       "  1: '01.03.2022 09:27',\n",
       "  2: '10.03.2022 08:24',\n",
       "  3: '11.03.2022 12:29',\n",
       "  4: '21.03.2022 12:00'},\n",
       " 'Профиль койки': {0: ' (Врач-кардиолог)',\n",
       "  1: ' (Заведующий (начальник) структурного подразделения (отдела, отделения, лаборатории, кабинета, отряда и другое) медицинской организации - врач-специалист, специалист)',\n",
       "  2: ' (Врач-сердечно-сосудистый хирург)',\n",
       "  3: ' (Врач-анестезиолог-реаниматолог)',\n",
       "  4: ' (Врач-сердечно-сосудистый хирург)'}}"
      ]
     },
     "execution_count": 197,
     "metadata": {},
     "output_type": "execute_result"
    }
   ],
   "source": [
    "def search_condition(x):\n",
    "\n",
    "    found = re.sub(\n",
    "        r\", \\'Лечащий врач\\':.*\\'None\\'}\",\n",
    "        \"\",\n",
    "        x.replace(\"!\", \"\"),\n",
    "    )\n",
    "    found = re.sub(\n",
    "        \" +\",\n",
    "        \" \",\n",
    "        found,\n",
    "    )\n",
    "\n",
    "    return found\n",
    "\n",
    "\n",
    "labeled_data = labeled_data.with_columns(\n",
    "    c(\"ward_table\").map_elements(\n",
    "        search_condition,\n",
    "        return_dtype=str,\n",
    "    )\n",
    "    # .alias(\"condition_status\")\n",
    ")\n",
    "eval(labeled_data[\"ward_table\"].to_numpy()[0])"
   ]
  },
  {
   "cell_type": "code",
   "execution_count": 198,
   "metadata": {},
   "outputs": [],
   "source": [
    "labeled_data = labeled_data.drop(\"ward_table\")"
   ]
  },
  {
   "cell_type": "markdown",
   "metadata": {},
   "source": [
    "#### main disease code"
   ]
  },
  {
   "cell_type": "code",
   "execution_count": 328,
   "metadata": {},
   "outputs": [
    {
     "data": {
      "text/html": [
       "<div><style>\n",
       ".dataframe > thead > tr,\n",
       ".dataframe > tbody > tr {\n",
       "  text-align: right;\n",
       "  white-space: pre-wrap;\n",
       "}\n",
       "</style>\n",
       "<small>shape: (5, 2)</small><table border=\"1\" class=\"dataframe\"><thead><tr><th>main_disease_code</th><th>count</th></tr><tr><td>str</td><td>u32</td></tr></thead><tbody><tr><td>&quot;I21&quot;</td><td>3818</td></tr><tr><td>&quot;I20&quot;</td><td>3388</td></tr><tr><td>&quot;I50&quot;</td><td>17</td></tr><tr><td>&quot;I11&quot;</td><td>13</td></tr><tr><td>&quot;I48&quot;</td><td>8</td></tr></tbody></table></div>"
      ],
      "text/plain": [
       "shape: (5, 2)\n",
       "┌───────────────────┬───────┐\n",
       "│ main_disease_code ┆ count │\n",
       "│ ---               ┆ ---   │\n",
       "│ str               ┆ u32   │\n",
       "╞═══════════════════╪═══════╡\n",
       "│ I21               ┆ 3818  │\n",
       "│ I20               ┆ 3388  │\n",
       "│ I50               ┆ 17    │\n",
       "│ I11               ┆ 13    │\n",
       "│ I48               ┆ 8     │\n",
       "└───────────────────┴───────┘"
      ]
     },
     "execution_count": 328,
     "metadata": {},
     "output_type": "execute_result"
    }
   ],
   "source": [
    "labeled_data[\"main_disease_code\"].value_counts().sort(\n",
    "    \"count\",\n",
    "    descending=True,\n",
    ").head(5)"
   ]
  },
  {
   "cell_type": "code",
   "execution_count": 329,
   "metadata": {},
   "outputs": [],
   "source": [
    "labeled_data = labeled_data.with_columns(\n",
    "    ((c(\"main_disease_code\") == \"I21\") * 1).alias(\"main_disease_I21\"),\n",
    "    ((c(\"main_disease_code\") == \"I20\") * 1).alias(\"main_disease_I20\"),\n",
    ")"
   ]
  },
  {
   "cell_type": "markdown",
   "metadata": {},
   "source": [
    "#### secondary, background, competing, complication - disease_codes"
   ]
  },
  {
   "cell_type": "code",
   "execution_count": null,
   "metadata": {},
   "outputs": [],
   "source": [
    "labeled_data = (\n",
    "    labeled_data.with_columns(\n",
    "        c(\"secondary_disease_code\").map_elements(\n",
    "            lambda x: eval(x),\n",
    "            return_dtype=list[str],\n",
    "        ),\n",
    "        c(\"background_disease_code\").map_elements(\n",
    "            lambda x: eval(x),\n",
    "            return_dtype=list[str],\n",
    "        ),\n",
    "        c(\"complication_of_main_disease_code\").map_elements(\n",
    "            lambda x: eval(x),\n",
    "            return_dtype=list[str],\n",
    "        ),\n",
    "        c(\"Конкурирующее заболевание\")\n",
    "        .map_elements(\n",
    "            lambda x: eval(x),\n",
    "            return_dtype=list[str],\n",
    "        )\n",
    "        .alias(\"competing_disease_code\"),\n",
    "    )\n",
    "    .with_columns(\n",
    "        c(\"secondary_disease_code\").fill_null([]),\n",
    "        c(\"background_disease_code\").fill_null([]),\n",
    "        c(\"complication_of_main_disease_code\").fill_null([]),\n",
    "        c(\"competing_disease_code\").fill_null([]),\n",
    "    )\n",
    "    .with_columns(\n",
    "        # (c(\"secondary_disease_code\").list + c(\"background_disease_code\").list).alias(\"secondary_and_background_disease_codes\")\n",
    "        pl.concat_list(\n",
    "            c(\"secondary_disease_code\"),\n",
    "            c(\"background_disease_code\"),\n",
    "            c(\"complication_of_main_disease_code\"),\n",
    "            c(\"competing_disease_code\"),\n",
    "        ).alias(\"secondary_and_background_disease_codes\")\n",
    "    )\n",
    ")\n",
    "\n",
    "labeled_data = labeled_data.with_columns(\n",
    "    c(\"secondary_and_background_disease_codes\")\n",
    "    .list.eval(pl.element().str.slice(0, 3))\n",
    "    .alias(\"secondary_and_background_disease_codes\")\n",
    ")\n",
    "\n",
    "labeled_data.select(\n",
    "    \"secondary_disease_code\",\n",
    "    \"background_disease_code\",\n",
    "    \"complication_of_main_disease_code\",\n",
    "    \"secondary_and_background_disease_codes\",\n",
    ").head()"
   ]
  },
  {
   "cell_type": "code",
   "execution_count": 286,
   "metadata": {},
   "outputs": [],
   "source": [
    "column = labeled_data[\"secondary_and_background_disease_codes\"].to_list()\n",
    "flat_list = []\n",
    "\n",
    "for disease_list in column:\n",
    "    if disease_list is not None:\n",
    "        for code in disease_list:\n",
    "            flat_list.append(code[:3])\n",
    "disease_codes = list(set(flat_list))"
   ]
  },
  {
   "cell_type": "code",
   "execution_count": 287,
   "metadata": {},
   "outputs": [],
   "source": [
    "for disease_code in disease_codes:\n",
    "    new_column = labeled_data[\"secondary_and_background_disease_codes\"].list.contains(\n",
    "        disease_code\n",
    "    )\n",
    "\n",
    "    labeled_data = labeled_data.with_columns(\n",
    "        new_column.alias(\"disease_\" + disease_code)\n",
    "    )"
   ]
  },
  {
   "cell_type": "code",
   "execution_count": 288,
   "metadata": {},
   "outputs": [
    {
     "data": {
      "text/html": [
       "<div><style>\n",
       ".dataframe > thead > tr,\n",
       ".dataframe > tbody > tr {\n",
       "  text-align: right;\n",
       "  white-space: pre-wrap;\n",
       "}\n",
       "</style>\n",
       "<small>shape: (1, 398)</small><table border=\"1\" class=\"dataframe\"><thead><tr><th>disease_C15</th><th>disease_B18</th><th>disease_M48</th><th>disease_N18</th><th>disease_C62</th><th>disease_I33</th><th>disease_K26</th><th>disease_Q63</th><th>disease_I69</th><th>disease_L95</th><th>disease_J41</th><th>disease_F31</th><th>disease_N04</th><th>disease_B20</th><th>disease_C80</th><th>disease_Q23</th><th>disease_K21</th><th>disease_I73</th><th>disease_C16</th><th>disease_N25</th><th>disease_M81</th><th>disease_G96</th><th>disease_I11</th><th>disease_D61</th><th>disease_I74</th><th>disease_A18</th><th>disease_I06</th><th>disease_F10</th><th>disease_T90</th><th>disease_G09</th><th>disease_K63</th><th>disease_I07</th><th>disease_A15</th><th>disease_R52</th><th>disease_N03</th><th>disease_G57</th><th>disease_C04</th><th>&hellip;</th><th>disease_K80</th><th>disease_L30</th><th>disease_Q40</th><th>disease_S22</th><th>disease_M54</th><th>disease_D32</th><th>disease_I34</th><th>disease_F01</th><th>disease_I67</th><th>disease_N21</th><th>disease_I39</th><th>disease_K58</th><th>disease_B85</th><th>disease_K52</th><th>disease_I79</th><th>disease_K46</th><th>disease_Q22</th><th>disease_K25</th><th>disease_I87</th><th>disease_J62</th><th>disease_Z85</th><th>disease_K74</th><th>disease_M35</th><th>disease_S42</th><th>disease_J45</th><th>disease_E23</th><th>disease_C56</th><th>disease_I88</th><th>disease_N02</th><th>disease_I45</th><th>disease_L02</th><th>disease_J33</th><th>disease_K87</th><th>disease_N11</th><th>disease_M06</th><th>disease_R70</th><th>disease_M31</th></tr><tr><td>u32</td><td>u32</td><td>u32</td><td>u32</td><td>u32</td><td>u32</td><td>u32</td><td>u32</td><td>u32</td><td>u32</td><td>u32</td><td>u32</td><td>u32</td><td>u32</td><td>u32</td><td>u32</td><td>u32</td><td>u32</td><td>u32</td><td>u32</td><td>u32</td><td>u32</td><td>u32</td><td>u32</td><td>u32</td><td>u32</td><td>u32</td><td>u32</td><td>u32</td><td>u32</td><td>u32</td><td>u32</td><td>u32</td><td>u32</td><td>u32</td><td>u32</td><td>u32</td><td>&hellip;</td><td>u32</td><td>u32</td><td>u32</td><td>u32</td><td>u32</td><td>u32</td><td>u32</td><td>u32</td><td>u32</td><td>u32</td><td>u32</td><td>u32</td><td>u32</td><td>u32</td><td>u32</td><td>u32</td><td>u32</td><td>u32</td><td>u32</td><td>u32</td><td>u32</td><td>u32</td><td>u32</td><td>u32</td><td>u32</td><td>u32</td><td>u32</td><td>u32</td><td>u32</td><td>u32</td><td>u32</td><td>u32</td><td>u32</td><td>u32</td><td>u32</td><td>u32</td><td>u32</td></tr></thead><tbody><tr><td>2</td><td>149</td><td>1</td><td>329</td><td>1</td><td>1</td><td>203</td><td>2</td><td>397</td><td>1</td><td>7</td><td>1</td><td>1</td><td>24</td><td>1</td><td>1</td><td>3</td><td>1</td><td>10</td><td>1</td><td>2</td><td>3</td><td>6299</td><td>2</td><td>8</td><td>2</td><td>2</td><td>2</td><td>1</td><td>1</td><td>6</td><td>10</td><td>10</td><td>1</td><td>2</td><td>1</td><td>1</td><td>&hellip;</td><td>46</td><td>1</td><td>1</td><td>2</td><td>2</td><td>5</td><td>51</td><td>3</td><td>372</td><td>5</td><td>2</td><td>1</td><td>1</td><td>2</td><td>1</td><td>1</td><td>1</td><td>338</td><td>10</td><td>1</td><td>1</td><td>5</td><td>1</td><td>1</td><td>137</td><td>2</td><td>1</td><td>1</td><td>1</td><td>46</td><td>1</td><td>1</td><td>1</td><td>27</td><td>12</td><td>1</td><td>1</td></tr></tbody></table></div>"
      ],
      "text/plain": [
       "shape: (1, 398)\n",
       "┌───────────┬───────────┬───────────┬───────────┬───┬───────────┬───────────┬───────────┬──────────┐\n",
       "│ disease_C ┆ disease_B ┆ disease_M ┆ disease_N ┆ … ┆ disease_N ┆ disease_M ┆ disease_R ┆ disease_ │\n",
       "│ 15        ┆ 18        ┆ 48        ┆ 18        ┆   ┆ 11        ┆ 06        ┆ 70        ┆ M31      │\n",
       "│ ---       ┆ ---       ┆ ---       ┆ ---       ┆   ┆ ---       ┆ ---       ┆ ---       ┆ ---      │\n",
       "│ u32       ┆ u32       ┆ u32       ┆ u32       ┆   ┆ u32       ┆ u32       ┆ u32       ┆ u32      │\n",
       "╞═══════════╪═══════════╪═══════════╪═══════════╪═══╪═══════════╪═══════════╪═══════════╪══════════╡\n",
       "│ 2         ┆ 149       ┆ 1         ┆ 329       ┆ … ┆ 27        ┆ 12        ┆ 1         ┆ 1        │\n",
       "└───────────┴───────────┴───────────┴───────────┴───┴───────────┴───────────┴───────────┴──────────┘"
      ]
     },
     "execution_count": 288,
     "metadata": {},
     "output_type": "execute_result"
    }
   ],
   "source": [
    "disease_codes_stats = labeled_data.select(\n",
    "    [f\"disease_{disease_code}\" for disease_code in disease_codes]\n",
    ").sum()\n",
    "disease_codes_stats"
   ]
  },
  {
   "cell_type": "code",
   "execution_count": 289,
   "metadata": {},
   "outputs": [],
   "source": [
    "# drop cols where diseases are met fewer than 30 times\n",
    "\n",
    "cols = [\n",
    "    col for col in disease_codes_stats.columns if (disease_codes_stats[col] < 30).item()\n",
    "]\n",
    "disease_cols_to_keep = list(set(disease_codes_stats.columns) - set(cols))\n",
    "labeled_data = labeled_data.drop(cols)"
   ]
  },
  {
   "cell_type": "markdown",
   "metadata": {},
   "source": [
    "### see data"
   ]
  },
  {
   "cell_type": "code",
   "execution_count": 290,
   "metadata": {},
   "outputs": [
    {
     "data": {
      "text/html": [
       "<div><style>\n",
       ".dataframe > thead > tr,\n",
       ".dataframe > tbody > tr {\n",
       "  text-align: right;\n",
       "  white-space: pre-wrap;\n",
       "}\n",
       "</style>\n",
       "<small>shape: (3, 75)</small><table border=\"1\" class=\"dataframe\"><thead><tr><th>patient_id</th><th>gender</th><th>amnez_life</th><th>amnez_disease</th><th>condition</th><th>ward_table</th><th>full_wards</th><th>final_table1</th><th>final_table2</th><th>complication_of_main_disease_desc</th><th>main_disease_desc</th><th>secondary_disease_desc</th><th>complication_of_main_disease_code</th><th>main_disease_code</th><th>secondary_disease_code</th><th>admission_datetime</th><th>gospitalisation_type</th><th>gospitalisation_delivery</th><th>background_disease_desc</th><th>background_disease_code</th><th>Конкурирующее заболевание</th><th>following_admission_datetimes</th><th>following_main_disease_codes</th><th>target</th><th>competing_disease_code</th><th>secondary_and_background_disease_codes</th><th>disease_B18</th><th>disease_N18</th><th>disease_K26</th><th>disease_I69</th><th>disease_I11</th><th>disease_I64</th><th>disease_I25</th><th>disease_K29</th><th>disease_E04</th><th>disease_E06</th><th>disease_I83</th><th>disease_M10</th><th>disease_U07</th><th>disease_C34</th><th>disease_I50</th><th>disease_I48</th><th>disease_I49</th><th>disease_N20</th><th>disease_K86</th><th>disease_I47</th><th>disease_D64</th><th>disease_G93</th><th>disease_J44</th><th>disease_E74</th><th>disease_N40</th><th>disease_I44</th><th>disease_L40</th><th>disease_I70</th><th>disease_N28</th><th>disease_C61</th><th>disease_I71</th><th>disease_I35</th><th>disease_J42</th><th>disease_E10</th><th>disease_E11</th><th>disease_C50</th><th>disease_H90</th><th>disease_C18</th><th>disease_M42</th><th>disease_E03</th><th>disease_D50</th><th>disease_E66</th><th>disease_I63</th><th>disease_K80</th><th>disease_I34</th><th>disease_I67</th><th>disease_K25</th><th>disease_J45</th><th>disease_I45</th></tr><tr><td>str</td><td>str</td><td>str</td><td>str</td><td>str</td><td>str</td><td>str</td><td>str</td><td>str</td><td>str</td><td>str</td><td>str</td><td>list[str]</td><td>str</td><td>list[str]</td><td>date</td><td>str</td><td>str</td><td>str</td><td>list[str]</td><td>str</td><td>list[date]</td><td>list[str]</td><td>i32</td><td>list[str]</td><td>list[str]</td><td>bool</td><td>bool</td><td>bool</td><td>bool</td><td>bool</td><td>bool</td><td>bool</td><td>bool</td><td>bool</td><td>bool</td><td>bool</td><td>bool</td><td>bool</td><td>bool</td><td>bool</td><td>bool</td><td>bool</td><td>bool</td><td>bool</td><td>bool</td><td>bool</td><td>bool</td><td>bool</td><td>bool</td><td>bool</td><td>bool</td><td>bool</td><td>bool</td><td>bool</td><td>bool</td><td>bool</td><td>bool</td><td>bool</td><td>bool</td><td>bool</td><td>bool</td><td>bool</td><td>bool</td><td>bool</td><td>bool</td><td>bool</td><td>bool</td><td>bool</td><td>bool</td><td>bool</td><td>bool</td><td>bool</td><td>bool</td><td>bool</td></tr></thead><tbody><tr><td>&quot;9A8AB782-B7F7-4C20-8AB7-82B7F7…</td><td>&quot;Женский&quot;</td><td>&quot;АНАМНЕЗ ЖИЗНИ:&quot;</td><td>&quot;АНАМНЕЗ ЗАБОЛЕВАНИЯ&nbsp;&nbsp;ИБС С 200…</td><td>&quot;[&#x27;Состояние: Удовлетворительно…</td><td>&quot;{&#x27;Название&#x27;: {0: &#x27;Приемное отд…</td><td>&quot;{&#x27;Сведения о пребывании пациен…</td><td>&quot;{&#x27;Характер основного заболеван…</td><td>&quot;{&#x27;Вид нозологической единицы&#x27;:…</td><td>&quot;ОСН I по Killip.&quot;</td><td>&quot;ИБС. Прогрессирующая стенокард…</td><td>null</td><td>[&quot;I50.1&quot;]</td><td>&quot;I20&quot;</td><td>[]</td><td>2019-11-20</td><td>&quot;Первичный&quot;</td><td>&quot;Плановая госпитализация&quot;</td><td>&quot;Сахарный диабет 2 типа. Целево…</td><td>[&quot;E11.8&quot;, &quot;I11.9&quot;]</td><td>null</td><td>[]</td><td>[]</td><td>-1</td><td>[]</td><td>[&quot;E11&quot;, &quot;I11&quot;, &quot;I50&quot;]</td><td>false</td><td>false</td><td>false</td><td>false</td><td>true</td><td>false</td><td>false</td><td>false</td><td>false</td><td>false</td><td>false</td><td>false</td><td>false</td><td>false</td><td>true</td><td>false</td><td>false</td><td>false</td><td>false</td><td>false</td><td>false</td><td>false</td><td>false</td><td>false</td><td>false</td><td>false</td><td>false</td><td>false</td><td>false</td><td>false</td><td>false</td><td>false</td><td>false</td><td>false</td><td>true</td><td>false</td><td>false</td><td>false</td><td>false</td><td>false</td><td>false</td><td>false</td><td>false</td><td>false</td><td>false</td><td>false</td><td>false</td><td>false</td><td>false</td></tr><tr><td>&quot;DC1A3FFA-2C6D-4802-8A81-C22E39…</td><td>&quot;Мужской&quot;</td><td>&quot;ЭПИДЕМИОЛОГИЧЕСКИЙ АНАМНЕЗ: СО…</td><td>&quot;СЧИТАЕТ СЕБЯ БОЛЬНЫМ В ТЕЧЕНИЕ…</td><td>&quot;[&#x27;Состояние: Средней тяжести&#x27;,…</td><td>&quot;{&#x27;Название&#x27;: {0: &#x27;Приемное отд…</td><td>&quot;{&#x27;Сведения о пребывании пациен…</td><td>&quot;{&#x27;Характер основного заболеван…</td><td>&quot;{&#x27;Вид нозологической единицы&#x27;:…</td><td>null</td><td>&quot;ИБС. Стенокардия напряжения ФК…</td><td>&quot;Ожирение 1 степени (ИМТ 32 кг/…</td><td>[]</td><td>&quot;I20&quot;</td><td>[&quot;E66.9&quot;]</td><td>2023-12-15</td><td>&quot;Первичный&quot;</td><td>&quot;Плановая госпитализация&quot;</td><td>&quot;Гипертоническая болезнь 3 стад…</td><td>[&quot;I11.9&quot;]</td><td>null</td><td>[]</td><td>[]</td><td>-1</td><td>[]</td><td>[&quot;E66&quot;, &quot;I11&quot;]</td><td>false</td><td>false</td><td>false</td><td>false</td><td>true</td><td>false</td><td>false</td><td>false</td><td>false</td><td>false</td><td>false</td><td>false</td><td>false</td><td>false</td><td>false</td><td>false</td><td>false</td><td>false</td><td>false</td><td>false</td><td>false</td><td>false</td><td>false</td><td>false</td><td>false</td><td>false</td><td>false</td><td>false</td><td>false</td><td>false</td><td>false</td><td>false</td><td>false</td><td>false</td><td>false</td><td>false</td><td>false</td><td>false</td><td>false</td><td>false</td><td>false</td><td>true</td><td>false</td><td>false</td><td>false</td><td>false</td><td>false</td><td>false</td><td>false</td></tr><tr><td>&quot;4B631F8A-6AF0-1FAC-E055-000000…</td><td>&quot;Мужской&quot;</td><td>&quot;ЭПИДЕМИОЛОГИЧЕСКИЙ АНАМНЕЗ:СО …</td><td>&quot;ПОВЫШЕНИЕ АД 5 ЛЕТ. МАКСИМАЛЬН…</td><td>&quot;[&#x27;Состояние: Тяжелое&#x27;, &#x27;Жалобы…</td><td>&quot;{&#x27;Название&#x27;: {0: &#x27;Приемное отд…</td><td>&quot;{&#x27;Сведения о пребывании пациен…</td><td>&quot;{&#x27;Характер основного заболеван…</td><td>&quot;{&#x27;Вид нозологической единицы&#x27;:…</td><td>&quot;ОСН I по Killip&quot;</td><td>&quot;ИБС. Острый инфаркт миокарда п…</td><td>&quot;Атеросклероз БЦА, гемодинамиче…</td><td>[&quot;I50.1&quot;]</td><td>&quot;I21&quot;</td><td>[&quot;I70.8&quot;, &quot;E66.9&quot;]</td><td>2023-08-06</td><td>&quot;Первичный&quot;</td><td>&quot;Плановая госпитализация&quot;</td><td>&quot;Гипертоническая болезнь III ст…</td><td>[&quot;I11.9&quot;]</td><td>null</td><td>[2023-08-14]</td><td>[&quot;I21&quot;]</td><td>1</td><td>[]</td><td>[&quot;I70&quot;, &quot;E66&quot;, … &quot;I50&quot;]</td><td>false</td><td>false</td><td>false</td><td>false</td><td>true</td><td>false</td><td>false</td><td>false</td><td>false</td><td>false</td><td>false</td><td>false</td><td>false</td><td>false</td><td>true</td><td>false</td><td>false</td><td>false</td><td>false</td><td>false</td><td>false</td><td>false</td><td>false</td><td>false</td><td>false</td><td>false</td><td>false</td><td>true</td><td>false</td><td>false</td><td>false</td><td>false</td><td>false</td><td>false</td><td>false</td><td>false</td><td>false</td><td>false</td><td>false</td><td>false</td><td>false</td><td>true</td><td>false</td><td>false</td><td>false</td><td>false</td><td>false</td><td>false</td><td>false</td></tr></tbody></table></div>"
      ],
      "text/plain": [
       "shape: (3, 75)\n",
       "┌────────────┬─────────┬───────────┬───────────┬───┬───────────┬───────────┬───────────┬───────────┐\n",
       "│ patient_id ┆ gender  ┆ amnez_lif ┆ amnez_dis ┆ … ┆ disease_I ┆ disease_K ┆ disease_J ┆ disease_I │\n",
       "│ ---        ┆ ---     ┆ e         ┆ ease      ┆   ┆ 67        ┆ 25        ┆ 45        ┆ 45        │\n",
       "│ str        ┆ str     ┆ ---       ┆ ---       ┆   ┆ ---       ┆ ---       ┆ ---       ┆ ---       │\n",
       "│            ┆         ┆ str       ┆ str       ┆   ┆ bool      ┆ bool      ┆ bool      ┆ bool      │\n",
       "╞════════════╪═════════╪═══════════╪═══════════╪═══╪═══════════╪═══════════╪═══════════╪═══════════╡\n",
       "│ 9A8AB782-B ┆ Женский ┆ АНАМНЕЗ   ┆ АНАМНЕЗ   ┆ … ┆ false     ┆ false     ┆ false     ┆ false     │\n",
       "│ 7F7-4C20-8 ┆         ┆ ЖИЗНИ:    ┆ ЗАБОЛЕВАН ┆   ┆           ┆           ┆           ┆           │\n",
       "│ AB7-82B7F7 ┆         ┆           ┆ ИЯ  ИБС С ┆   ┆           ┆           ┆           ┆           │\n",
       "│ …          ┆         ┆           ┆ 200…      ┆   ┆           ┆           ┆           ┆           │\n",
       "│ DC1A3FFA-2 ┆ Мужской ┆ ЭПИДЕМИОЛ ┆ СЧИТАЕТ   ┆ … ┆ false     ┆ false     ┆ false     ┆ false     │\n",
       "│ C6D-4802-8 ┆         ┆ ОГИЧЕСКИЙ ┆ СЕБЯ      ┆   ┆           ┆           ┆           ┆           │\n",
       "│ A81-C22E39 ┆         ┆ АНАМНЕЗ:  ┆ БОЛЬНЫМ В ┆   ┆           ┆           ┆           ┆           │\n",
       "│ …          ┆         ┆ СО…       ┆ ТЕЧЕНИЕ…  ┆   ┆           ┆           ┆           ┆           │\n",
       "│ 4B631F8A-6 ┆ Мужской ┆ ЭПИДЕМИОЛ ┆ ПОВЫШЕНИЕ ┆ … ┆ false     ┆ false     ┆ false     ┆ false     │\n",
       "│ AF0-1FAC-E ┆         ┆ ОГИЧЕСКИЙ ┆ АД 5 ЛЕТ. ┆   ┆           ┆           ┆           ┆           │\n",
       "│ 055-000000 ┆         ┆ АНАМНЕЗ:С ┆ МАКСИМАЛЬ ┆   ┆           ┆           ┆           ┆           │\n",
       "│ …          ┆         ┆ О …       ┆ Н…        ┆   ┆           ┆           ┆           ┆           │\n",
       "└────────────┴─────────┴───────────┴───────────┴───┴───────────┴───────────┴───────────┴───────────┘"
      ]
     },
     "execution_count": 290,
     "metadata": {},
     "output_type": "execute_result"
    }
   ],
   "source": [
    "labeled_data.head(3)"
   ]
  },
  {
   "cell_type": "code",
   "execution_count": 472,
   "metadata": {},
   "outputs": [],
   "source": [
    "useful_cols = (\n",
    "    [\n",
    "        \"patient_id\",\n",
    "        \"gender\",\n",
    "        \"target\",\n",
    "        \"main_disease_I21\",\n",
    "        \"main_disease_I20\",\n",
    "        \"gospitalisation_type\",\n",
    "        \"gospitalisation_delivery\",\n",
    "        \"admission_datetime\",\n",
    "        \"following_admission_datetimes\",\n",
    "    ]\n",
    "    + disease_cols_to_keep\n",
    "    + [\"final_table1_\" + col for col in new_columns_regex_final_table1.keys()]\n",
    "    + [\"condition_\" + col for col in new_columns_regex_condition.keys()]\n",
    "    + [\"full_wards_\" + col for col in new_columns_regex_ecg.keys()]\n",
    ")\n",
    "\n",
    "# labeled_data.select(useful_cols).head()"
   ]
  },
  {
   "cell_type": "markdown",
   "metadata": {},
   "source": [
    "### clean and convert to dtypes"
   ]
  },
  {
   "cell_type": "code",
   "execution_count": 347,
   "metadata": {},
   "outputs": [
    {
     "data": {
      "text/html": [
       "<div><style>\n",
       ".dataframe > thead > tr,\n",
       ".dataframe > tbody > tr {\n",
       "  text-align: right;\n",
       "  white-space: pre-wrap;\n",
       "}\n",
       "</style>\n",
       "<small>shape: (1, 79)</small><table border=\"1\" class=\"dataframe\"><thead><tr><th>patient_id</th><th>gender</th><th>target</th><th>main_disease_I21</th><th>main_disease_I20</th><th>gospitalisation_type</th><th>gospitalisation_delivery</th><th>admission_datetime</th><th>following_admission_datetimes</th><th>disease_E06</th><th>disease_D64</th><th>disease_M42</th><th>disease_E03</th><th>disease_E74</th><th>disease_I44</th><th>disease_K86</th><th>disease_I48</th><th>disease_J42</th><th>disease_D50</th><th>disease_H90</th><th>disease_E11</th><th>disease_K29</th><th>disease_J44</th><th>disease_I34</th><th>disease_C50</th><th>disease_I47</th><th>disease_B18</th><th>disease_E10</th><th>disease_I49</th><th>disease_I45</th><th>disease_I70</th><th>disease_I69</th><th>disease_C34</th><th>disease_I63</th><th>disease_C18</th><th>disease_I25</th><th>disease_I67</th><th>&hellip;</th><th>disease_I71</th><th>disease_K26</th><th>disease_G93</th><th>disease_E04</th><th>disease_U07</th><th>disease_I35</th><th>disease_I83</th><th>disease_K25</th><th>disease_K80</th><th>disease_C61</th><th>disease_N28</th><th>disease_M10</th><th>disease_N20</th><th>disease_J45</th><th>disease_I11</th><th>disease_L40</th><th>final_table1_main_desease_status</th><th>final_table1_gospitalization_result</th><th>condition_oxygen_saturation</th><th>condition_bmi</th><th>condition_status</th><th>full_wards_ecg_right_atrium</th><th>full_wards_ecg_left_atrium</th><th>full_wards_ecg_right_ventricle</th><th>full_wards_ecg_end_diastolic_volume</th><th>full_wards_ecg_end_systolic_volume</th><th>full_wards_ecg_stroke_volume</th><th>full_wards_ecg_ejection_fraction</th><th>full_wards_ecg_ventricular_septal</th><th>full_wards_ecg_e_a</th><th>full_wards_ecg_aorta_diameter_valsalva_sinuses</th><th>full_wards_ecg_ascending_aorta</th><th>full_wards_ecg_aortic_arch</th><th>full_wards_ecg_sinus_heart_rate</th><th>full_wards_ecg_age</th><th>full_wards_ecg_heart_rate</th><th>full_wards_ecg_bmi</th></tr><tr><td>u32</td><td>u32</td><td>u32</td><td>u32</td><td>u32</td><td>u32</td><td>u32</td><td>u32</td><td>u32</td><td>u32</td><td>u32</td><td>u32</td><td>u32</td><td>u32</td><td>u32</td><td>u32</td><td>u32</td><td>u32</td><td>u32</td><td>u32</td><td>u32</td><td>u32</td><td>u32</td><td>u32</td><td>u32</td><td>u32</td><td>u32</td><td>u32</td><td>u32</td><td>u32</td><td>u32</td><td>u32</td><td>u32</td><td>u32</td><td>u32</td><td>u32</td><td>u32</td><td>&hellip;</td><td>u32</td><td>u32</td><td>u32</td><td>u32</td><td>u32</td><td>u32</td><td>u32</td><td>u32</td><td>u32</td><td>u32</td><td>u32</td><td>u32</td><td>u32</td><td>u32</td><td>u32</td><td>u32</td><td>u32</td><td>u32</td><td>u32</td><td>u32</td><td>u32</td><td>u32</td><td>u32</td><td>u32</td><td>u32</td><td>u32</td><td>u32</td><td>u32</td><td>u32</td><td>u32</td><td>u32</td><td>u32</td><td>u32</td><td>u32</td><td>u32</td><td>u32</td><td>u32</td></tr></thead><tbody><tr><td>0</td><td>0</td><td>0</td><td>3</td><td>3</td><td>0</td><td>0</td><td>0</td><td>0</td><td>0</td><td>0</td><td>0</td><td>0</td><td>0</td><td>0</td><td>0</td><td>0</td><td>0</td><td>0</td><td>0</td><td>0</td><td>0</td><td>0</td><td>0</td><td>0</td><td>0</td><td>0</td><td>0</td><td>0</td><td>0</td><td>0</td><td>0</td><td>0</td><td>0</td><td>0</td><td>0</td><td>0</td><td>&hellip;</td><td>0</td><td>0</td><td>0</td><td>0</td><td>0</td><td>0</td><td>0</td><td>0</td><td>0</td><td>0</td><td>0</td><td>0</td><td>0</td><td>0</td><td>0</td><td>0</td><td>0</td><td>0</td><td>5570</td><td>4994</td><td>0</td><td>338</td><td>341</td><td>337</td><td>458</td><td>420</td><td>576</td><td>622</td><td>1083</td><td>4242</td><td>488</td><td>884</td><td>3599</td><td>2850</td><td>68</td><td>354</td><td>4319</td></tr></tbody></table></div>"
      ],
      "text/plain": [
       "shape: (1, 79)\n",
       "┌────────────┬────────┬────────┬────────────┬───┬────────────┬────────────┬────────────┬───────────┐\n",
       "│ patient_id ┆ gender ┆ target ┆ main_disea ┆ … ┆ full_wards ┆ full_wards ┆ full_wards ┆ full_ward │\n",
       "│ ---        ┆ ---    ┆ ---    ┆ se_I21     ┆   ┆ _ecg_sinus ┆ _ecg_age   ┆ _ecg_heart ┆ s_ecg_bmi │\n",
       "│ u32        ┆ u32    ┆ u32    ┆ ---        ┆   ┆ _heart_rat ┆ ---        ┆ _rate      ┆ ---       │\n",
       "│            ┆        ┆        ┆ u32        ┆   ┆ …          ┆ u32        ┆ ---        ┆ u32       │\n",
       "│            ┆        ┆        ┆            ┆   ┆ ---        ┆            ┆ u32        ┆           │\n",
       "│            ┆        ┆        ┆            ┆   ┆ u32        ┆            ┆            ┆           │\n",
       "╞════════════╪════════╪════════╪════════════╪═══╪════════════╪════════════╪════════════╪═══════════╡\n",
       "│ 0          ┆ 0      ┆ 0      ┆ 3          ┆ … ┆ 2850       ┆ 68         ┆ 354        ┆ 4319      │\n",
       "└────────────┴────────┴────────┴────────────┴───┴────────────┴────────────┴────────────┴───────────┘"
      ]
     },
     "execution_count": 347,
     "metadata": {},
     "output_type": "execute_result"
    }
   ],
   "source": [
    "labeled_data.select(useful_cols).null_count()"
   ]
  },
  {
   "cell_type": "code",
   "execution_count": 365,
   "metadata": {},
   "outputs": [],
   "source": [
    "# labeled_data.columns"
   ]
  },
  {
   "cell_type": "code",
   "execution_count": 350,
   "metadata": {},
   "outputs": [
    {
     "data": {
      "text/html": [
       "<div><style>\n",
       ".dataframe > thead > tr,\n",
       ".dataframe > tbody > tr {\n",
       "  text-align: right;\n",
       "  white-space: pre-wrap;\n",
       "}\n",
       "</style>\n",
       "<small>shape: (1, 79)</small><table border=\"1\" class=\"dataframe\"><thead><tr><th>patient_id</th><th>gender</th><th>target</th><th>main_disease_I21</th><th>main_disease_I20</th><th>gospitalisation_type</th><th>gospitalisation_delivery</th><th>admission_datetime</th><th>following_admission_datetimes</th><th>disease_E06</th><th>disease_D64</th><th>disease_M42</th><th>disease_E03</th><th>disease_E74</th><th>disease_I44</th><th>disease_K86</th><th>disease_I48</th><th>disease_J42</th><th>disease_D50</th><th>disease_H90</th><th>disease_E11</th><th>disease_K29</th><th>disease_J44</th><th>disease_I34</th><th>disease_C50</th><th>disease_I47</th><th>disease_B18</th><th>disease_E10</th><th>disease_I49</th><th>disease_I45</th><th>disease_I70</th><th>disease_I69</th><th>disease_C34</th><th>disease_I63</th><th>disease_C18</th><th>disease_I25</th><th>disease_I67</th><th>&hellip;</th><th>disease_I71</th><th>disease_K26</th><th>disease_G93</th><th>disease_E04</th><th>disease_U07</th><th>disease_I35</th><th>disease_I83</th><th>disease_K25</th><th>disease_K80</th><th>disease_C61</th><th>disease_N28</th><th>disease_M10</th><th>disease_N20</th><th>disease_J45</th><th>disease_I11</th><th>disease_L40</th><th>final_table1_main_desease_status</th><th>final_table1_gospitalization_result</th><th>condition_oxygen_saturation</th><th>condition_bmi</th><th>condition_status</th><th>full_wards_ecg_right_atrium</th><th>full_wards_ecg_left_atrium</th><th>full_wards_ecg_right_ventricle</th><th>full_wards_ecg_end_diastolic_volume</th><th>full_wards_ecg_end_systolic_volume</th><th>full_wards_ecg_stroke_volume</th><th>full_wards_ecg_ejection_fraction</th><th>full_wards_ecg_ventricular_septal</th><th>full_wards_ecg_e_a</th><th>full_wards_ecg_aorta_diameter_valsalva_sinuses</th><th>full_wards_ecg_ascending_aorta</th><th>full_wards_ecg_aortic_arch</th><th>full_wards_ecg_sinus_heart_rate</th><th>full_wards_ecg_age</th><th>full_wards_ecg_heart_rate</th><th>full_wards_ecg_bmi</th></tr><tr><td>u32</td><td>u32</td><td>u32</td><td>u32</td><td>u32</td><td>u32</td><td>u32</td><td>u32</td><td>u32</td><td>u32</td><td>u32</td><td>u32</td><td>u32</td><td>u32</td><td>u32</td><td>u32</td><td>u32</td><td>u32</td><td>u32</td><td>u32</td><td>u32</td><td>u32</td><td>u32</td><td>u32</td><td>u32</td><td>u32</td><td>u32</td><td>u32</td><td>u32</td><td>u32</td><td>u32</td><td>u32</td><td>u32</td><td>u32</td><td>u32</td><td>u32</td><td>u32</td><td>&hellip;</td><td>u32</td><td>u32</td><td>u32</td><td>u32</td><td>u32</td><td>u32</td><td>u32</td><td>u32</td><td>u32</td><td>u32</td><td>u32</td><td>u32</td><td>u32</td><td>u32</td><td>u32</td><td>u32</td><td>u32</td><td>u32</td><td>u32</td><td>u32</td><td>u32</td><td>u32</td><td>u32</td><td>u32</td><td>u32</td><td>u32</td><td>u32</td><td>u32</td><td>u32</td><td>u32</td><td>u32</td><td>u32</td><td>u32</td><td>u32</td><td>u32</td><td>u32</td><td>u32</td></tr></thead><tbody><tr><td>0</td><td>0</td><td>0</td><td>0</td><td>0</td><td>0</td><td>0</td><td>0</td><td>0</td><td>0</td><td>0</td><td>0</td><td>0</td><td>0</td><td>0</td><td>0</td><td>0</td><td>0</td><td>0</td><td>0</td><td>0</td><td>0</td><td>0</td><td>0</td><td>0</td><td>0</td><td>0</td><td>0</td><td>0</td><td>0</td><td>0</td><td>0</td><td>0</td><td>0</td><td>0</td><td>0</td><td>0</td><td>&hellip;</td><td>0</td><td>0</td><td>0</td><td>0</td><td>0</td><td>0</td><td>0</td><td>0</td><td>0</td><td>0</td><td>0</td><td>0</td><td>0</td><td>0</td><td>0</td><td>0</td><td>0</td><td>0</td><td>825</td><td>753</td><td>0</td><td>30</td><td>29</td><td>30</td><td>48</td><td>44</td><td>62</td><td>74</td><td>133</td><td>567</td><td>46</td><td>109</td><td>503</td><td>354</td><td>6</td><td>36</td><td>565</td></tr></tbody></table></div>"
      ],
      "text/plain": [
       "shape: (1, 79)\n",
       "┌────────────┬────────┬────────┬────────────┬───┬────────────┬────────────┬────────────┬───────────┐\n",
       "│ patient_id ┆ gender ┆ target ┆ main_disea ┆ … ┆ full_wards ┆ full_wards ┆ full_wards ┆ full_ward │\n",
       "│ ---        ┆ ---    ┆ ---    ┆ se_I21     ┆   ┆ _ecg_sinus ┆ _ecg_age   ┆ _ecg_heart ┆ s_ecg_bmi │\n",
       "│ u32        ┆ u32    ┆ u32    ┆ ---        ┆   ┆ _heart_rat ┆ ---        ┆ _rate      ┆ ---       │\n",
       "│            ┆        ┆        ┆ u32        ┆   ┆ …          ┆ u32        ┆ ---        ┆ u32       │\n",
       "│            ┆        ┆        ┆            ┆   ┆ ---        ┆            ┆ u32        ┆           │\n",
       "│            ┆        ┆        ┆            ┆   ┆ u32        ┆            ┆            ┆           │\n",
       "╞════════════╪════════╪════════╪════════════╪═══╪════════════╪════════════╪════════════╪═══════════╡\n",
       "│ 0          ┆ 0      ┆ 0      ┆ 0          ┆ … ┆ 354        ┆ 6          ┆ 36         ┆ 565       │\n",
       "└────────────┴────────┴────────┴────────────┴───┴────────────┴────────────┴────────────┴───────────┘"
      ]
     },
     "execution_count": 350,
     "metadata": {},
     "output_type": "execute_result"
    }
   ],
   "source": [
    "(\n",
    "    labeled_data.filter(\n",
    "        c(\"target\") != -1,\n",
    "    )\n",
    "    .select(useful_cols)\n",
    "    .null_count()\n",
    "    # .shape\n",
    ")"
   ]
  },
  {
   "cell_type": "code",
   "execution_count": 353,
   "metadata": {},
   "outputs": [
    {
     "data": {
      "text/html": [
       "<div><style>\n",
       ".dataframe > thead > tr,\n",
       ".dataframe > tbody > tr {\n",
       "  text-align: right;\n",
       "  white-space: pre-wrap;\n",
       "}\n",
       "</style>\n",
       "<small>shape: (1, 3)</small><table border=\"1\" class=\"dataframe\"><thead><tr><th>condition_bmi</th><th>full_wards_ecg_bmi</th><th>bmi</th></tr><tr><td>u32</td><td>u32</td><td>u32</td></tr></thead><tbody><tr><td>4994</td><td>4319</td><td>3069</td></tr></tbody></table></div>"
      ],
      "text/plain": [
       "shape: (1, 3)\n",
       "┌───────────────┬────────────────────┬──────┐\n",
       "│ condition_bmi ┆ full_wards_ecg_bmi ┆ bmi  │\n",
       "│ ---           ┆ ---                ┆ ---  │\n",
       "│ u32           ┆ u32                ┆ u32  │\n",
       "╞═══════════════╪════════════════════╪══════╡\n",
       "│ 4994          ┆ 4319               ┆ 3069 │\n",
       "└───────────────┴────────────────────┴──────┘"
      ]
     },
     "execution_count": 353,
     "metadata": {},
     "output_type": "execute_result"
    }
   ],
   "source": [
    "(\n",
    "    labeled_data.with_columns(\n",
    "        pl.coalesce([c(\"full_wards_ecg_bmi\"), c(\"condition_bmi\")]).alias(\"bmi\")\n",
    "    ).select(\n",
    "        \"condition_bmi\",\n",
    "        \"full_wards_ecg_bmi\",\n",
    "        \"bmi\",\n",
    "    )\n",
    "    # .shape\n",
    "    .null_count()\n",
    ")"
   ]
  },
  {
   "cell_type": "code",
   "execution_count": null,
   "metadata": {},
   "outputs": [],
   "source": [
    "labeled_data = labeled_data.with_columns(\n",
    "    pl.coalesce([c(\"full_wards_ecg_bmi\"), c(\"condition_bmi\")])\n",
    "    .cast(pl.Float64)\n",
    "    .alias(\"bmi\")\n",
    ")"
   ]
  },
  {
   "cell_type": "code",
   "execution_count": null,
   "metadata": {},
   "outputs": [
    {
     "data": {
      "text/plain": [
       "'full_wards_ecg_sinus_heart_rate'"
      ]
     },
     "execution_count": 473,
     "metadata": {},
     "output_type": "execute_result"
    }
   ],
   "source": [
    "useful_cols.append(\"bmi\")\n",
    "useful_cols.pop(useful_cols.index(\"condition_bmi\"))\n",
    "useful_cols.pop(useful_cols.index(\"full_wards_ecg_bmi\"))\n",
    "useful_cols.pop(useful_cols.index(\"condition_oxygen_saturation\"))\n",
    "useful_cols.pop(useful_cols.index(\"full_wards_ecg_e_a\"))\n",
    "useful_cols.pop(useful_cols.index(\"full_wards_ecg_aortic_arch\"))\n",
    "useful_cols.pop(useful_cols.index(\"full_wards_ecg_sinus_heart_rate\"))"
   ]
  },
  {
   "cell_type": "code",
   "execution_count": 474,
   "metadata": {},
   "outputs": [],
   "source": [
    "labeled_data = labeled_data.with_columns(\n",
    "    c(\"full_wards_ecg_ejection_fraction\")\n",
    "    .str.slice(-2)\n",
    "    .str.replace(\",\", \".\")\n",
    "    .cast(pl.Float64)\n",
    ")"
   ]
  },
  {
   "cell_type": "code",
   "execution_count": 475,
   "metadata": {},
   "outputs": [],
   "source": [
    "labeled_data = labeled_data.with_columns(\n",
    "    c(\"full_wards_ecg_ascending_aorta\")\n",
    "    .str.slice(-2)\n",
    "    .replace(\".\", None)\n",
    "    .str.replace(\",\", \".\")\n",
    "    .cast(pl.Float64)\n",
    ")"
   ]
  },
  {
   "cell_type": "code",
   "execution_count": 478,
   "metadata": {},
   "outputs": [
    {
     "data": {
      "text/html": [
       "<div><style>\n",
       ".dataframe > thead > tr,\n",
       ".dataframe > tbody > tr {\n",
       "  text-align: right;\n",
       "  white-space: pre-wrap;\n",
       "}\n",
       "</style>\n",
       "<small>shape: (5, 12)</small><table border=\"1\" class=\"dataframe\"><thead><tr><th>full_wards_ecg_right_atrium</th><th>full_wards_ecg_left_atrium</th><th>full_wards_ecg_right_ventricle</th><th>full_wards_ecg_end_diastolic_volume</th><th>full_wards_ecg_end_systolic_volume</th><th>full_wards_ecg_stroke_volume</th><th>full_wards_ecg_ventricular_septal</th><th>full_wards_ecg_aorta_diameter_valsalva_sinuses</th><th>full_wards_ecg_ascending_aorta</th><th>full_wards_ecg_age</th><th>full_wards_ecg_heart_rate</th><th>bmi</th></tr><tr><td>f64</td><td>f64</td><td>f64</td><td>f64</td><td>f64</td><td>f64</td><td>f64</td><td>f64</td><td>f64</td><td>f64</td><td>f64</td><td>f64</td></tr></thead><tbody><tr><td>4.4</td><td>4.5</td><td>3.1</td><td>96.0</td><td>45.0</td><td>51.0</td><td>null</td><td>3.4</td><td>0.3</td><td>77.0</td><td>62.0</td><td>null</td></tr><tr><td>3.7</td><td>3.6</td><td>3.2</td><td>120.0</td><td>48.0</td><td>72.0</td><td>1.6</td><td>3.6</td><td>0.6</td><td>57.0</td><td>78.0</td><td>32.0</td></tr><tr><td>3.8</td><td>3.8</td><td>3.1</td><td>128.0</td><td>57.0</td><td>71.0</td><td>1.1</td><td>3.6</td><td>0.4</td><td>59.0</td><td>91.0</td><td>33.0</td></tr><tr><td>3.4</td><td>3.5</td><td>3.5</td><td>136.0</td><td>75.0</td><td>61.0</td><td>1.4</td><td>4.0</td><td>0.2</td><td>63.0</td><td>67.0</td><td>null</td></tr><tr><td>3.2</td><td>3.5</td><td>2.9</td><td>98.0</td><td>36.0</td><td>62.0</td><td>1.1</td><td>3.3</td><td>0.2</td><td>64.0</td><td>53.0</td><td>30.0</td></tr></tbody></table></div>"
      ],
      "text/plain": [
       "shape: (5, 12)\n",
       "┌────────────┬────────────┬────────────┬────────────┬───┬───────────┬───────────┬───────────┬──────┐\n",
       "│ full_wards ┆ full_wards ┆ full_wards ┆ full_wards ┆ … ┆ full_ward ┆ full_ward ┆ full_ward ┆ bmi  │\n",
       "│ _ecg_right ┆ _ecg_left_ ┆ _ecg_right ┆ _ecg_end_d ┆   ┆ s_ecg_asc ┆ s_ecg_age ┆ s_ecg_hea ┆ ---  │\n",
       "│ _atrium    ┆ atrium     ┆ _ventricle ┆ iastolic_v ┆   ┆ ending_ao ┆ ---       ┆ rt_rate   ┆ f64  │\n",
       "│ ---        ┆ ---        ┆ ---        ┆ …          ┆   ┆ rta       ┆ f64       ┆ ---       ┆      │\n",
       "│ f64        ┆ f64        ┆ f64        ┆ ---        ┆   ┆ ---       ┆           ┆ f64       ┆      │\n",
       "│            ┆            ┆            ┆ f64        ┆   ┆ f64       ┆           ┆           ┆      │\n",
       "╞════════════╪════════════╪════════════╪════════════╪═══╪═══════════╪═══════════╪═══════════╪══════╡\n",
       "│ 4.4        ┆ 4.5        ┆ 3.1        ┆ 96.0       ┆ … ┆ 0.3       ┆ 77.0      ┆ 62.0      ┆ null │\n",
       "│ 3.7        ┆ 3.6        ┆ 3.2        ┆ 120.0      ┆ … ┆ 0.6       ┆ 57.0      ┆ 78.0      ┆ 32.0 │\n",
       "│ 3.8        ┆ 3.8        ┆ 3.1        ┆ 128.0      ┆ … ┆ 0.4       ┆ 59.0      ┆ 91.0      ┆ 33.0 │\n",
       "│ 3.4        ┆ 3.5        ┆ 3.5        ┆ 136.0      ┆ … ┆ 0.2       ┆ 63.0      ┆ 67.0      ┆ null │\n",
       "│ 3.2        ┆ 3.5        ┆ 2.9        ┆ 98.0       ┆ … ┆ 0.2       ┆ 64.0      ┆ 53.0      ┆ 30.0 │\n",
       "└────────────┴────────────┴────────────┴────────────┴───┴───────────┴───────────┴───────────┴──────┘"
      ]
     },
     "execution_count": 478,
     "metadata": {},
     "output_type": "execute_result"
    }
   ],
   "source": [
    "(\n",
    "    labeled_data.select(\n",
    "        \"full_wards_ecg_right_atrium\",\n",
    "        \"full_wards_ecg_left_atrium\",\n",
    "        \"full_wards_ecg_right_ventricle\",\n",
    "        \"full_wards_ecg_end_diastolic_volume\",\n",
    "        \"full_wards_ecg_end_systolic_volume\",\n",
    "        \"full_wards_ecg_stroke_volume\",\n",
    "        \"full_wards_ecg_ventricular_septal\",\n",
    "        \"full_wards_ecg_aorta_diameter_valsalva_sinuses\",\n",
    "        \"full_wards_ecg_ascending_aorta\",\n",
    "        \"full_wards_ecg_age\",\n",
    "        \"full_wards_ecg_heart_rate\",\n",
    "        \"bmi\",\n",
    "    )\n",
    "    #\n",
    "    .head()\n",
    "    # .null_count()\n",
    ")"
   ]
  },
  {
   "cell_type": "code",
   "execution_count": 464,
   "metadata": {},
   "outputs": [],
   "source": [
    "col = \"full_wards_ecg_aorta_diameter_valsalva_sinuses\"\n",
    "# labeled_data[col].unique().head()"
   ]
  },
  {
   "cell_type": "code",
   "execution_count": 443,
   "metadata": {},
   "outputs": [],
   "source": [
    "# labeled_data[col].value_counts()"
   ]
  },
  {
   "cell_type": "code",
   "execution_count": 463,
   "metadata": {},
   "outputs": [],
   "source": [
    "# (\n",
    "#     labeled_data.with_columns(\n",
    "#         c(col)\n",
    "#         # .str.slice(-2)\n",
    "#         # .replace(\".\", None)\n",
    "#         .str.replace(\",\", \".\")\n",
    "#         .cast(pl.Float64)\n",
    "#         .alias(\"vefdcas\")\n",
    "#     )\n",
    "#     #\n",
    "#     .head(2)\n",
    "# )"
   ]
  },
  {
   "cell_type": "code",
   "execution_count": 461,
   "metadata": {},
   "outputs": [],
   "source": [
    "cols = [\n",
    "    \"full_wards_ecg_right_atrium\",\n",
    "    \"full_wards_ecg_left_atrium\",\n",
    "    \"full_wards_ecg_right_ventricle\",\n",
    "    \"full_wards_ecg_end_diastolic_volume\",\n",
    "    \"full_wards_ecg_end_systolic_volume\",\n",
    "    \"full_wards_ecg_stroke_volume\",\n",
    "    \"full_wards_ecg_ventricular_septal\",\n",
    "    \"full_wards_ecg_aorta_diameter_valsalva_sinuses\",\n",
    "    \"full_wards_ecg_age\",\n",
    "    \"full_wards_ecg_heart_rate\",\n",
    "    \"bmi\",\n",
    "]"
   ]
  },
  {
   "cell_type": "code",
   "execution_count": 462,
   "metadata": {},
   "outputs": [],
   "source": [
    "for col in cols:\n",
    "    labeled_data = labeled_data.with_columns(\n",
    "        c(col).str.replace(\",\", \".\").cast(pl.Float64)\n",
    "    )"
   ]
  },
  {
   "cell_type": "code",
   "execution_count": 502,
   "metadata": {},
   "outputs": [],
   "source": [
    "labeled_data = labeled_data.with_columns(\n",
    "    c(\"final_table1_main_desease_status\")\n",
    "    .replace(\n",
    "        {\n",
    "            \"Впервые в жизни установленное хроническое\": 0,\n",
    "            \"Ранее установленное хроническое\": 1,\n",
    "            \"Острое\": 2,\n",
    "            \"None\": None,\n",
    "        }\n",
    "    )\n",
    "    .cast(pl.Int64)\n",
    ")"
   ]
  },
  {
   "cell_type": "code",
   "execution_count": 497,
   "metadata": {},
   "outputs": [],
   "source": [
    "labeled_data = labeled_data.with_columns(\n",
    "    c(\"condition_status\")\n",
    "    .replace(\n",
    "        {\n",
    "            \"Удовлетворительное\": 0,\n",
    "            \"Средней тяжести\": 1,\n",
    "            \"Тяжелое\": 2,\n",
    "            \"Тяжелое', 'Жалобы: __\": 2,\n",
    "            \"Крайне тяжелое\": 3,\n",
    "        }\n",
    "    )\n",
    "    .cast(pl.Int64)\n",
    ")"
   ]
  },
  {
   "cell_type": "code",
   "execution_count": null,
   "metadata": {},
   "outputs": [],
   "source": [
    "labeled_data = labeled_data.with_columns(\n",
    "    c(\"final_table1_gospitalization_result\")\n",
    "    .replace(\n",
    "        {\n",
    "            \"Улучшение\": 0,\n",
    "            \"Без изменения\": 1,\n",
    "            \"Ухудшение\": 2,\n",
    "            \"Летальный исход\": 3,\n",
    "        }\n",
    "    )\n",
    "    .cast(pl.Int64)\n",
    ")"
   ]
  },
  {
   "cell_type": "code",
   "execution_count": 504,
   "metadata": {},
   "outputs": [
    {
     "data": {
      "text/html": [
       "<div><style>\n",
       ".dataframe > thead > tr,\n",
       ".dataframe > tbody > tr {\n",
       "  text-align: right;\n",
       "  white-space: pre-wrap;\n",
       "}\n",
       "</style>\n",
       "<small>shape: (3, 73)</small><table border=\"1\" class=\"dataframe\"><thead><tr><th>patient_id</th><th>gender</th><th>target</th><th>main_disease_I21</th><th>main_disease_I20</th><th>gospitalisation_type</th><th>gospitalisation_delivery</th><th>admission_datetime</th><th>following_admission_datetimes</th><th>disease_E06</th><th>disease_D64</th><th>disease_M42</th><th>disease_E03</th><th>disease_E74</th><th>disease_I44</th><th>disease_K86</th><th>disease_I48</th><th>disease_J42</th><th>disease_D50</th><th>disease_H90</th><th>disease_E11</th><th>disease_K29</th><th>disease_J44</th><th>disease_I34</th><th>disease_C50</th><th>disease_I47</th><th>disease_B18</th><th>disease_E10</th><th>disease_I49</th><th>disease_I45</th><th>disease_I70</th><th>disease_I69</th><th>disease_C34</th><th>disease_I63</th><th>disease_C18</th><th>disease_I25</th><th>disease_I67</th><th>disease_N40</th><th>disease_E66</th><th>disease_I64</th><th>disease_N18</th><th>disease_I50</th><th>disease_I71</th><th>disease_K26</th><th>disease_G93</th><th>disease_E04</th><th>disease_U07</th><th>disease_I35</th><th>disease_I83</th><th>disease_K25</th><th>disease_K80</th><th>disease_C61</th><th>disease_N28</th><th>disease_M10</th><th>disease_N20</th><th>disease_J45</th><th>disease_I11</th><th>disease_L40</th><th>final_table1_main_desease_status</th><th>final_table1_gospitalization_result</th><th>condition_status</th><th>full_wards_ecg_right_atrium</th><th>full_wards_ecg_left_atrium</th><th>full_wards_ecg_right_ventricle</th><th>full_wards_ecg_end_diastolic_volume</th><th>full_wards_ecg_end_systolic_volume</th><th>full_wards_ecg_stroke_volume</th><th>full_wards_ecg_ejection_fraction</th><th>full_wards_ecg_ventricular_septal</th><th>full_wards_ecg_aorta_diameter_valsalva_sinuses</th><th>full_wards_ecg_ascending_aorta</th><th>full_wards_ecg_age</th><th>full_wards_ecg_heart_rate</th></tr><tr><td>str</td><td>str</td><td>i32</td><td>i32</td><td>i32</td><td>str</td><td>str</td><td>date</td><td>list[date]</td><td>bool</td><td>bool</td><td>bool</td><td>bool</td><td>bool</td><td>bool</td><td>bool</td><td>bool</td><td>bool</td><td>bool</td><td>bool</td><td>bool</td><td>bool</td><td>bool</td><td>bool</td><td>bool</td><td>bool</td><td>bool</td><td>bool</td><td>bool</td><td>bool</td><td>bool</td><td>bool</td><td>bool</td><td>bool</td><td>bool</td><td>bool</td><td>bool</td><td>bool</td><td>bool</td><td>bool</td><td>bool</td><td>bool</td><td>bool</td><td>bool</td><td>bool</td><td>bool</td><td>bool</td><td>bool</td><td>bool</td><td>bool</td><td>bool</td><td>bool</td><td>bool</td><td>bool</td><td>bool</td><td>bool</td><td>bool</td><td>bool</td><td>i64</td><td>i64</td><td>i64</td><td>f64</td><td>f64</td><td>f64</td><td>f64</td><td>f64</td><td>f64</td><td>f64</td><td>f64</td><td>f64</td><td>f64</td><td>f64</td><td>f64</td></tr></thead><tbody><tr><td>&quot;9A8AB782-B7F7-4C20-8AB7-82B7F7…</td><td>&quot;Женский&quot;</td><td>-1</td><td>0</td><td>1</td><td>&quot;Первичный&quot;</td><td>&quot;Плановая госпитализация&quot;</td><td>2019-11-20</td><td>[]</td><td>false</td><td>false</td><td>false</td><td>false</td><td>false</td><td>false</td><td>false</td><td>false</td><td>false</td><td>false</td><td>false</td><td>true</td><td>false</td><td>false</td><td>false</td><td>false</td><td>false</td><td>false</td><td>false</td><td>false</td><td>false</td><td>false</td><td>false</td><td>false</td><td>false</td><td>false</td><td>false</td><td>false</td><td>false</td><td>false</td><td>false</td><td>false</td><td>true</td><td>false</td><td>false</td><td>false</td><td>false</td><td>false</td><td>false</td><td>false</td><td>false</td><td>false</td><td>false</td><td>false</td><td>false</td><td>false</td><td>false</td><td>true</td><td>false</td><td>2</td><td>0</td><td>0</td><td>4.4</td><td>4.5</td><td>3.1</td><td>96.0</td><td>45.0</td><td>51.0</td><td>53.0</td><td>null</td><td>3.4</td><td>0.3</td><td>77.0</td><td>62.0</td></tr><tr><td>&quot;DC1A3FFA-2C6D-4802-8A81-C22E39…</td><td>&quot;Мужской&quot;</td><td>-1</td><td>0</td><td>1</td><td>&quot;Первичный&quot;</td><td>&quot;Плановая госпитализация&quot;</td><td>2023-12-15</td><td>[]</td><td>false</td><td>false</td><td>false</td><td>false</td><td>false</td><td>false</td><td>false</td><td>false</td><td>false</td><td>false</td><td>false</td><td>false</td><td>false</td><td>false</td><td>false</td><td>false</td><td>false</td><td>false</td><td>false</td><td>false</td><td>false</td><td>false</td><td>false</td><td>false</td><td>false</td><td>false</td><td>false</td><td>false</td><td>false</td><td>true</td><td>false</td><td>false</td><td>false</td><td>false</td><td>false</td><td>false</td><td>false</td><td>false</td><td>false</td><td>false</td><td>false</td><td>false</td><td>false</td><td>false</td><td>false</td><td>false</td><td>false</td><td>true</td><td>false</td><td>1</td><td>0</td><td>1</td><td>3.7</td><td>3.6</td><td>3.2</td><td>120.0</td><td>48.0</td><td>72.0</td><td>64.0</td><td>1.6</td><td>3.6</td><td>0.6</td><td>57.0</td><td>78.0</td></tr><tr><td>&quot;4B631F8A-6AF0-1FAC-E055-000000…</td><td>&quot;Мужской&quot;</td><td>1</td><td>1</td><td>0</td><td>&quot;Первичный&quot;</td><td>&quot;Плановая госпитализация&quot;</td><td>2023-08-06</td><td>[2023-08-14]</td><td>false</td><td>false</td><td>false</td><td>false</td><td>false</td><td>false</td><td>false</td><td>false</td><td>false</td><td>false</td><td>false</td><td>false</td><td>false</td><td>false</td><td>false</td><td>false</td><td>false</td><td>false</td><td>false</td><td>false</td><td>false</td><td>true</td><td>false</td><td>false</td><td>false</td><td>false</td><td>false</td><td>false</td><td>false</td><td>true</td><td>false</td><td>false</td><td>true</td><td>false</td><td>false</td><td>false</td><td>false</td><td>false</td><td>false</td><td>false</td><td>false</td><td>false</td><td>false</td><td>false</td><td>false</td><td>false</td><td>false</td><td>true</td><td>false</td><td>2</td><td>0</td><td>2</td><td>3.8</td><td>3.8</td><td>3.1</td><td>128.0</td><td>57.0</td><td>71.0</td><td>56.0</td><td>1.1</td><td>3.6</td><td>0.4</td><td>59.0</td><td>91.0</td></tr></tbody></table></div>"
      ],
      "text/plain": [
       "shape: (3, 73)\n",
       "┌────────────┬─────────┬────────┬────────────┬───┬────────────┬────────────┬───────────┬───────────┐\n",
       "│ patient_id ┆ gender  ┆ target ┆ main_disea ┆ … ┆ full_wards ┆ full_wards ┆ full_ward ┆ full_ward │\n",
       "│ ---        ┆ ---     ┆ ---    ┆ se_I21     ┆   ┆ _ecg_aorta ┆ _ecg_ascen ┆ s_ecg_age ┆ s_ecg_hea │\n",
       "│ str        ┆ str     ┆ i32    ┆ ---        ┆   ┆ _diameter_ ┆ ding_aorta ┆ ---       ┆ rt_rate   │\n",
       "│            ┆         ┆        ┆ i32        ┆   ┆ …          ┆ ---        ┆ f64       ┆ ---       │\n",
       "│            ┆         ┆        ┆            ┆   ┆ ---        ┆ f64        ┆           ┆ f64       │\n",
       "│            ┆         ┆        ┆            ┆   ┆ f64        ┆            ┆           ┆           │\n",
       "╞════════════╪═════════╪════════╪════════════╪═══╪════════════╪════════════╪═══════════╪═══════════╡\n",
       "│ 9A8AB782-B ┆ Женский ┆ -1     ┆ 0          ┆ … ┆ 3.4        ┆ 0.3        ┆ 77.0      ┆ 62.0      │\n",
       "│ 7F7-4C20-8 ┆         ┆        ┆            ┆   ┆            ┆            ┆           ┆           │\n",
       "│ AB7-82B7F7 ┆         ┆        ┆            ┆   ┆            ┆            ┆           ┆           │\n",
       "│ …          ┆         ┆        ┆            ┆   ┆            ┆            ┆           ┆           │\n",
       "│ DC1A3FFA-2 ┆ Мужской ┆ -1     ┆ 0          ┆ … ┆ 3.6        ┆ 0.6        ┆ 57.0      ┆ 78.0      │\n",
       "│ C6D-4802-8 ┆         ┆        ┆            ┆   ┆            ┆            ┆           ┆           │\n",
       "│ A81-C22E39 ┆         ┆        ┆            ┆   ┆            ┆            ┆           ┆           │\n",
       "│ …          ┆         ┆        ┆            ┆   ┆            ┆            ┆           ┆           │\n",
       "│ 4B631F8A-6 ┆ Мужской ┆ 1      ┆ 1          ┆ … ┆ 3.6        ┆ 0.4        ┆ 59.0      ┆ 91.0      │\n",
       "│ AF0-1FAC-E ┆         ┆        ┆            ┆   ┆            ┆            ┆           ┆           │\n",
       "│ 055-000000 ┆         ┆        ┆            ┆   ┆            ┆            ┆           ┆           │\n",
       "│ …          ┆         ┆        ┆            ┆   ┆            ┆            ┆           ┆           │\n",
       "└────────────┴─────────┴────────┴────────────┴───┴────────────┴────────────┴───────────┴───────────┘"
      ]
     },
     "execution_count": 504,
     "metadata": {},
     "output_type": "execute_result"
    }
   ],
   "source": [
    "labeled_data.select(useful_cols).head(3)"
   ]
  },
  {
   "cell_type": "markdown",
   "metadata": {},
   "source": [
    "### chech distribution of parsed cols"
   ]
  },
  {
   "cell_type": "code",
   "execution_count": null,
   "metadata": {},
   "outputs": [],
   "source": []
  },
  {
   "cell_type": "markdown",
   "metadata": {},
   "source": [
    "### fill missing values"
   ]
  },
  {
   "cell_type": "code",
   "execution_count": 503,
   "metadata": {},
   "outputs": [
    {
     "data": {
      "text/html": [
       "<div><style>\n",
       ".dataframe > thead > tr,\n",
       ".dataframe > tbody > tr {\n",
       "  text-align: right;\n",
       "  white-space: pre-wrap;\n",
       "}\n",
       "</style>\n",
       "<small>shape: (1, 73)</small><table border=\"1\" class=\"dataframe\"><thead><tr><th>patient_id</th><th>gender</th><th>target</th><th>main_disease_I21</th><th>main_disease_I20</th><th>gospitalisation_type</th><th>gospitalisation_delivery</th><th>admission_datetime</th><th>following_admission_datetimes</th><th>disease_E06</th><th>disease_D64</th><th>disease_M42</th><th>disease_E03</th><th>disease_E74</th><th>disease_I44</th><th>disease_K86</th><th>disease_I48</th><th>disease_J42</th><th>disease_D50</th><th>disease_H90</th><th>disease_E11</th><th>disease_K29</th><th>disease_J44</th><th>disease_I34</th><th>disease_C50</th><th>disease_I47</th><th>disease_B18</th><th>disease_E10</th><th>disease_I49</th><th>disease_I45</th><th>disease_I70</th><th>disease_I69</th><th>disease_C34</th><th>disease_I63</th><th>disease_C18</th><th>disease_I25</th><th>disease_I67</th><th>disease_N40</th><th>disease_E66</th><th>disease_I64</th><th>disease_N18</th><th>disease_I50</th><th>disease_I71</th><th>disease_K26</th><th>disease_G93</th><th>disease_E04</th><th>disease_U07</th><th>disease_I35</th><th>disease_I83</th><th>disease_K25</th><th>disease_K80</th><th>disease_C61</th><th>disease_N28</th><th>disease_M10</th><th>disease_N20</th><th>disease_J45</th><th>disease_I11</th><th>disease_L40</th><th>final_table1_main_desease_status</th><th>final_table1_gospitalization_result</th><th>condition_status</th><th>full_wards_ecg_right_atrium</th><th>full_wards_ecg_left_atrium</th><th>full_wards_ecg_right_ventricle</th><th>full_wards_ecg_end_diastolic_volume</th><th>full_wards_ecg_end_systolic_volume</th><th>full_wards_ecg_stroke_volume</th><th>full_wards_ecg_ejection_fraction</th><th>full_wards_ecg_ventricular_septal</th><th>full_wards_ecg_aorta_diameter_valsalva_sinuses</th><th>full_wards_ecg_ascending_aorta</th><th>full_wards_ecg_age</th><th>full_wards_ecg_heart_rate</th></tr><tr><td>u32</td><td>u32</td><td>u32</td><td>u32</td><td>u32</td><td>u32</td><td>u32</td><td>u32</td><td>u32</td><td>u32</td><td>u32</td><td>u32</td><td>u32</td><td>u32</td><td>u32</td><td>u32</td><td>u32</td><td>u32</td><td>u32</td><td>u32</td><td>u32</td><td>u32</td><td>u32</td><td>u32</td><td>u32</td><td>u32</td><td>u32</td><td>u32</td><td>u32</td><td>u32</td><td>u32</td><td>u32</td><td>u32</td><td>u32</td><td>u32</td><td>u32</td><td>u32</td><td>u32</td><td>u32</td><td>u32</td><td>u32</td><td>u32</td><td>u32</td><td>u32</td><td>u32</td><td>u32</td><td>u32</td><td>u32</td><td>u32</td><td>u32</td><td>u32</td><td>u32</td><td>u32</td><td>u32</td><td>u32</td><td>u32</td><td>u32</td><td>u32</td><td>u32</td><td>u32</td><td>u32</td><td>u32</td><td>u32</td><td>u32</td><td>u32</td><td>u32</td><td>u32</td><td>u32</td><td>u32</td><td>u32</td><td>u32</td><td>u32</td><td>u32</td></tr></thead><tbody><tr><td>0</td><td>0</td><td>0</td><td>3</td><td>3</td><td>0</td><td>0</td><td>0</td><td>0</td><td>0</td><td>0</td><td>0</td><td>0</td><td>0</td><td>0</td><td>0</td><td>0</td><td>0</td><td>0</td><td>0</td><td>0</td><td>0</td><td>0</td><td>0</td><td>0</td><td>0</td><td>0</td><td>0</td><td>0</td><td>0</td><td>0</td><td>0</td><td>0</td><td>0</td><td>0</td><td>0</td><td>0</td><td>0</td><td>0</td><td>0</td><td>0</td><td>0</td><td>0</td><td>0</td><td>0</td><td>0</td><td>0</td><td>0</td><td>0</td><td>0</td><td>0</td><td>0</td><td>0</td><td>0</td><td>0</td><td>0</td><td>0</td><td>0</td><td>69</td><td>0</td><td>0</td><td>338</td><td>341</td><td>337</td><td>458</td><td>420</td><td>576</td><td>622</td><td>1103</td><td>502</td><td>901</td><td>68</td><td>354</td></tr></tbody></table></div>"
      ],
      "text/plain": [
       "shape: (1, 73)\n",
       "┌────────────┬────────┬────────┬────────────┬───┬────────────┬────────────┬────────────┬───────────┐\n",
       "│ patient_id ┆ gender ┆ target ┆ main_disea ┆ … ┆ full_wards ┆ full_wards ┆ full_wards ┆ full_ward │\n",
       "│ ---        ┆ ---    ┆ ---    ┆ se_I21     ┆   ┆ _ecg_aorta ┆ _ecg_ascen ┆ _ecg_age   ┆ s_ecg_hea │\n",
       "│ u32        ┆ u32    ┆ u32    ┆ ---        ┆   ┆ _diameter_ ┆ ding_aorta ┆ ---        ┆ rt_rate   │\n",
       "│            ┆        ┆        ┆ u32        ┆   ┆ …          ┆ ---        ┆ u32        ┆ ---       │\n",
       "│            ┆        ┆        ┆            ┆   ┆ ---        ┆ u32        ┆            ┆ u32       │\n",
       "│            ┆        ┆        ┆            ┆   ┆ u32        ┆            ┆            ┆           │\n",
       "╞════════════╪════════╪════════╪════════════╪═══╪════════════╪════════════╪════════════╪═══════════╡\n",
       "│ 0          ┆ 0      ┆ 0      ┆ 3          ┆ … ┆ 502        ┆ 901        ┆ 68         ┆ 354       │\n",
       "└────────────┴────────┴────────┴────────────┴───┴────────────┴────────────┴────────────┴───────────┘"
      ]
     },
     "execution_count": 503,
     "metadata": {},
     "output_type": "execute_result"
    }
   ],
   "source": [
    "labeled_data.select(useful_cols).null_count()"
   ]
  },
  {
   "cell_type": "code",
   "execution_count": null,
   "metadata": {},
   "outputs": [],
   "source": [
    "# labeled_data = (\n",
    "#     labeled_data.with_columns(\n",
    "#         c(\"age\").replace({\"\": None}),\n",
    "#         c(\"heart_rate\").replace({\"\": None}),\n",
    "#         c(\"BMI\").replace({\"\": None}),\n",
    "#     )\n",
    "#     .with_columns(\n",
    "#         c(\"right atrium\").str.replace(\",\", \".\"),\n",
    "#     )\n",
    "#     .with_columns(\n",
    "#         c(\"right atrium\").replace({\"\": None}),\n",
    "#     )\n",
    "#     .with_columns(\n",
    "#         c(\"age\").cast(pl.Int64),\n",
    "#         c(\"heart_rate\").cast(pl.Int64),\n",
    "#         c(\"BMI\").cast(pl.Int64),\n",
    "#         c(\"right atrium\").cast(pl.Float64),\n",
    "#     )\n",
    "#     # [\"right atrium\"]\n",
    "#     # .value_counts()\n",
    "#     # .sort(\"count\", descending=True)\n",
    "# )"
   ]
  },
  {
   "cell_type": "markdown",
   "metadata": {},
   "source": [
    "### save transformed dataframe"
   ]
  },
  {
   "cell_type": "code",
   "execution_count": 337,
   "metadata": {},
   "outputs": [
    {
     "data": {
      "text/html": [
       "<div><style>\n",
       ".dataframe > thead > tr,\n",
       ".dataframe > tbody > tr {\n",
       "  text-align: right;\n",
       "  white-space: pre-wrap;\n",
       "}\n",
       "</style>\n",
       "<small>shape: (3, 99)</small><table border=\"1\" class=\"dataframe\"><thead><tr><th>patient_id</th><th>gender</th><th>amnez_life</th><th>amnez_disease</th><th>condition</th><th>ward_table</th><th>full_wards</th><th>final_table1</th><th>final_table2</th><th>complication_of_main_disease_desc</th><th>main_disease_desc</th><th>secondary_disease_desc</th><th>complication_of_main_disease_code</th><th>main_disease_code</th><th>secondary_disease_code</th><th>admission_datetime</th><th>gospitalisation_type</th><th>gospitalisation_delivery</th><th>background_disease_desc</th><th>background_disease_code</th><th>Конкурирующее заболевание</th><th>following_admission_datetimes</th><th>following_main_disease_codes</th><th>target</th><th>competing_disease_code</th><th>secondary_and_background_disease_codes</th><th>disease_B18</th><th>disease_N18</th><th>disease_K26</th><th>disease_I69</th><th>disease_I11</th><th>disease_I64</th><th>disease_I25</th><th>disease_K29</th><th>disease_E04</th><th>disease_E06</th><th>disease_I83</th><th>&hellip;</th><th>disease_H90</th><th>disease_C18</th><th>disease_M42</th><th>disease_E03</th><th>disease_D50</th><th>disease_E66</th><th>disease_I63</th><th>disease_K80</th><th>disease_I34</th><th>disease_I67</th><th>disease_K25</th><th>disease_J45</th><th>disease_I45</th><th>final_table1_main_desease_status</th><th>final_table1_gospitalization_result</th><th>condition_oxygen_saturation</th><th>condition_bmi</th><th>condition_status</th><th>full_wards_cleaned</th><th>full_wards_ecg_right_atrium</th><th>full_wards_ecg_left_atrium</th><th>full_wards_ecg_right_ventricle</th><th>full_wards_ecg_end_diastolic_volume</th><th>full_wards_ecg_end_systolic_volume</th><th>full_wards_ecg_stroke_volume</th><th>full_wards_ecg_ejection_fraction</th><th>full_wards_ecg_ventricular_septal</th><th>full_wards_ecg_e_a</th><th>full_wards_ecg_aorta_diameter_valsalva_sinuses</th><th>full_wards_ecg_ascending_aorta</th><th>full_wards_ecg_aortic_arch</th><th>full_wards_ecg_sinus_heart_rate</th><th>full_wards_ecg_age</th><th>full_wards_ecg_heart_rate</th><th>full_wards_ecg_bmi</th><th>main_disease_I21</th><th>main_disease_I20</th></tr><tr><td>str</td><td>str</td><td>str</td><td>str</td><td>str</td><td>str</td><td>str</td><td>str</td><td>str</td><td>str</td><td>str</td><td>str</td><td>list[str]</td><td>str</td><td>list[str]</td><td>date</td><td>str</td><td>str</td><td>str</td><td>list[str]</td><td>str</td><td>list[date]</td><td>list[str]</td><td>i32</td><td>list[str]</td><td>list[str]</td><td>bool</td><td>bool</td><td>bool</td><td>bool</td><td>bool</td><td>bool</td><td>bool</td><td>bool</td><td>bool</td><td>bool</td><td>bool</td><td>&hellip;</td><td>bool</td><td>bool</td><td>bool</td><td>bool</td><td>bool</td><td>bool</td><td>bool</td><td>bool</td><td>bool</td><td>bool</td><td>bool</td><td>bool</td><td>bool</td><td>str</td><td>str</td><td>str</td><td>str</td><td>str</td><td>str</td><td>str</td><td>str</td><td>str</td><td>str</td><td>str</td><td>str</td><td>str</td><td>str</td><td>str</td><td>str</td><td>str</td><td>str</td><td>str</td><td>str</td><td>str</td><td>str</td><td>i32</td><td>i32</td></tr></thead><tbody><tr><td>&quot;6E0B74BF-31AD-6843-E053-010000…</td><td>&quot;Мужской&quot;</td><td>&quot;ЭПИДЕМИОЛОГИЧЕСКИЙ АНАМНЕЗ: СО…</td><td>&quot;ИБС. СТЕНОКАРДИЯ С 2018Г. СТЕН…</td><td>&quot;[&#x27;Состояние: Средней тяжести&#x27;,…</td><td>&quot;{&#x27;Название&#x27;: {0: &#x27;Приемное отд…</td><td>&quot;{&#x27;Сведения о пребывании пациен…</td><td>&quot;{&#x27;Характер основного заболеван…</td><td>&quot;{&#x27;Вид нозологической единицы&#x27;:…</td><td>&quot;ОСН 1 по Killip&quot;</td><td>&quot;ИБС. Прогрессирующая стенокард…</td><td>&quot;Ожирение 2 степени (ИМТ-36кг/м…</td><td>[&quot;I50.1&quot;]</td><td>&quot;I20&quot;</td><td>[&quot;I83.9&quot;, &quot;E66.0&quot;]</td><td>2024-06-29</td><td>&quot;Первичный&quot;</td><td>&quot;Доставлен бригадой скорой помо…</td><td>&quot;Гипертоническая болезнь III ст…</td><td>[&quot;I11.9&quot;]</td><td>null</td><td>[]</td><td>[]</td><td>-1</td><td>[]</td><td>[&quot;I83&quot;, &quot;E66&quot;, … &quot;I50&quot;]</td><td>false</td><td>false</td><td>false</td><td>false</td><td>true</td><td>false</td><td>false</td><td>false</td><td>false</td><td>false</td><td>true</td><td>&hellip;</td><td>false</td><td>false</td><td>false</td><td>false</td><td>false</td><td>true</td><td>false</td><td>false</td><td>false</td><td>false</td><td>false</td><td>false</td><td>false</td><td>&quot;Острое&quot;</td><td>&quot;Улучшение&quot;</td><td>&quot;98&quot;</td><td>&quot;36&quot;</td><td>&quot;Средней тяжести&quot;</td><td>&quot;{&#x27;Сведения о пребывании пациен…</td><td>&quot;3,6&quot;</td><td>&quot;3,9&quot;</td><td>&quot;3,1&quot;</td><td>&quot;156&quot;</td><td>&quot;68&quot;</td><td>null</td><td>&quot;56&quot;</td><td>&quot;1,3&quot;</td><td>&quot;1,05&quot;</td><td>&quot;3,8&quot;</td><td>&quot;4,2&quot;</td><td>&quot;3,2&quot;</td><td>&quot;101&quot;</td><td>&quot;60&quot;</td><td>&quot;101&quot;</td><td>null</td><td>0</td><td>1</td></tr><tr><td>&quot;01B8999B-06EC-4C23-B899-9B06EC…</td><td>&quot;Мужской&quot;</td><td>&quot;АНАМНЕЗ ЖИЗНИ:&quot;</td><td>&quot;АНАМНЕЗ ЗАБОЛЕВАНИЯ&nbsp;&nbsp;ИМ - РАНЕ…</td><td>&quot;[&#x27;Состояние: Удовлетворительно…</td><td>&quot;{&#x27;Название&#x27;: {0: &#x27;Приемное отд…</td><td>&quot;{&#x27;Сведения о пребывании пациен…</td><td>&quot;{&#x27;Характер основного заболеван…</td><td>&quot;{&#x27;Вид нозологической единицы&#x27;:…</td><td>&quot;ОСН I по Killip.&quot;</td><td>&quot;ОКС с подъемом сегмента ST&quot;</td><td>&quot;Язвенная болезнь ДПК.&quot;</td><td>[&quot;I50.1&quot;]</td><td>&quot;I21&quot;</td><td>[&quot;K27.6&quot;]</td><td>2022-04-17</td><td>&quot;Первичный&quot;</td><td>&quot;Доставлен бригадой скорой помо…</td><td>&quot;Гипертоническая болезнь III ст…</td><td>[&quot;I11.9&quot;, &quot;E11.7&quot;]</td><td>null</td><td>[]</td><td>[]</td><td>-1</td><td>[]</td><td>[&quot;K27&quot;, &quot;I11&quot;, … &quot;I50&quot;]</td><td>false</td><td>false</td><td>false</td><td>false</td><td>true</td><td>false</td><td>false</td><td>false</td><td>false</td><td>false</td><td>false</td><td>&hellip;</td><td>false</td><td>false</td><td>false</td><td>false</td><td>false</td><td>false</td><td>false</td><td>false</td><td>false</td><td>false</td><td>false</td><td>false</td><td>false</td><td>&quot;Острое&quot;</td><td>&quot;Улучшение&quot;</td><td>null</td><td>null</td><td>&quot;Удовлетворительное&quot;</td><td>&quot;{&#x27;Сведения о пребывании пациен…</td><td>&quot;3,2&quot;</td><td>&quot;3,7&quot;</td><td>&quot;3,0&quot;</td><td>&quot;97&quot;</td><td>&quot;57&quot;</td><td>&quot;40&quot;</td><td>&quot;41&quot;</td><td>&quot;1,3&quot;</td><td>&quot;0,8&quot;</td><td>&quot;3,6&quot;</td><td>&quot;3,3&quot;</td><td>null</td><td>&quot;77&quot;</td><td>&quot;53&quot;</td><td>&quot;77&quot;</td><td>&quot;26&quot;</td><td>1</td><td>0</td></tr><tr><td>&quot;702D3549-357C-79C4-E053-010000…</td><td>&quot;Мужской&quot;</td><td>&quot;АНАМНЕЗ ЖИЗНИ:&quot;</td><td>&quot;АНАМНЕЗ ЗАБОЛЕВАНИЯ&nbsp;&nbsp;КОРОНАРНО…</td><td>&quot;[&#x27;Состояние: Удовлетворительно…</td><td>&quot;{&#x27;Название&#x27;: {0: &#x27;Приемное отд…</td><td>&quot;{&#x27;Сведения о пребывании пациен…</td><td>&quot;{&#x27;Характер основного заболеван…</td><td>&quot;{&#x27;Вид нозологической единицы&#x27;:…</td><td>&quot;ОСН I по Killip.&quot;</td><td>&quot;ИБС. Инфаркт миокарда нижней с…</td><td>&quot;Язвенная болезнь желудка.Ожире…</td><td>[&quot;I50.9&quot;]</td><td>&quot;I21&quot;</td><td>[&quot;E66.9&quot;, &quot;K25.7&quot;]</td><td>2019-03-26</td><td>&quot;Первичный&quot;</td><td>&quot;Плановая госпитализация&quot;</td><td>null</td><td>[]</td><td>null</td><td>[]</td><td>[]</td><td>-1</td><td>[]</td><td>[&quot;E66&quot;, &quot;K25&quot;, &quot;I50&quot;]</td><td>false</td><td>false</td><td>false</td><td>false</td><td>false</td><td>false</td><td>false</td><td>false</td><td>false</td><td>false</td><td>false</td><td>&hellip;</td><td>false</td><td>false</td><td>false</td><td>false</td><td>false</td><td>true</td><td>false</td><td>false</td><td>false</td><td>false</td><td>true</td><td>false</td><td>false</td><td>&quot;Острое&quot;</td><td>&quot;Улучшение&quot;</td><td>null</td><td>null</td><td>&quot;Удовлетворительное&quot;</td><td>&quot;{&#x27;Сведения о пребывании пациен…</td><td>&quot;3,4&quot;</td><td>&quot;3,6&quot;</td><td>&quot;2,9&quot;</td><td>&quot;134&quot;</td><td>&quot;74&quot;</td><td>&quot;60&quot;</td><td>&quot;47&quot;</td><td>null</td><td>&quot;0,8&quot;</td><td>&quot;3,8&quot;</td><td>&quot;3,6&quot;</td><td>null</td><td>&quot;52&quot;</td><td>&quot;50&quot;</td><td>&quot;64&quot;</td><td>null</td><td>1</td><td>0</td></tr></tbody></table></div>"
      ],
      "text/plain": [
       "shape: (3, 99)\n",
       "┌────────────┬─────────┬───────────┬───────────┬───┬───────────┬───────────┬───────────┬───────────┐\n",
       "│ patient_id ┆ gender  ┆ amnez_lif ┆ amnez_dis ┆ … ┆ full_ward ┆ full_ward ┆ main_dise ┆ main_dise │\n",
       "│ ---        ┆ ---     ┆ e         ┆ ease      ┆   ┆ s_ecg_hea ┆ s_ecg_bmi ┆ ase_I21   ┆ ase_I20   │\n",
       "│ str        ┆ str     ┆ ---       ┆ ---       ┆   ┆ rt_rate   ┆ ---       ┆ ---       ┆ ---       │\n",
       "│            ┆         ┆ str       ┆ str       ┆   ┆ ---       ┆ str       ┆ i32       ┆ i32       │\n",
       "│            ┆         ┆           ┆           ┆   ┆ str       ┆           ┆           ┆           │\n",
       "╞════════════╪═════════╪═══════════╪═══════════╪═══╪═══════════╪═══════════╪═══════════╪═══════════╡\n",
       "│ 6E0B74BF-3 ┆ Мужской ┆ ЭПИДЕМИОЛ ┆ ИБС. СТЕН ┆ … ┆ 101       ┆ null      ┆ 0         ┆ 1         │\n",
       "│ 1AD-6843-E ┆         ┆ ОГИЧЕСКИЙ ┆ ОКАРДИЯ С ┆   ┆           ┆           ┆           ┆           │\n",
       "│ 053-010000 ┆         ┆ АНАМНЕЗ:  ┆ 2018Г.    ┆   ┆           ┆           ┆           ┆           │\n",
       "│ …          ┆         ┆ СО…       ┆ СТЕН…     ┆   ┆           ┆           ┆           ┆           │\n",
       "│ 01B8999B-0 ┆ Мужской ┆ АНАМНЕЗ   ┆ АНАМНЕЗ   ┆ … ┆ 77        ┆ 26        ┆ 1         ┆ 0         │\n",
       "│ 6EC-4C23-B ┆         ┆ ЖИЗНИ:    ┆ ЗАБОЛЕВАН ┆   ┆           ┆           ┆           ┆           │\n",
       "│ 899-9B06EC ┆         ┆           ┆ ИЯ  ИМ -  ┆   ┆           ┆           ┆           ┆           │\n",
       "│ …          ┆         ┆           ┆ РАНЕ…     ┆   ┆           ┆           ┆           ┆           │\n",
       "│ 702D3549-3 ┆ Мужской ┆ АНАМНЕЗ   ┆ АНАМНЕЗ   ┆ … ┆ 64        ┆ null      ┆ 1         ┆ 0         │\n",
       "│ 57C-79C4-E ┆         ┆ ЖИЗНИ:    ┆ ЗАБОЛЕВАН ┆   ┆           ┆           ┆           ┆           │\n",
       "│ 053-010000 ┆         ┆           ┆ ИЯ  КОРОН ┆   ┆           ┆           ┆           ┆           │\n",
       "│ …          ┆         ┆           ┆ АРНО…     ┆   ┆           ┆           ┆           ┆           │\n",
       "└────────────┴─────────┴───────────┴───────────┴───┴───────────┴───────────┴───────────┴───────────┘"
      ]
     },
     "execution_count": 337,
     "metadata": {},
     "output_type": "execute_result"
    }
   ],
   "source": [
    "labeled_data.sample(3)"
   ]
  },
  {
   "cell_type": "code",
   "execution_count": 338,
   "metadata": {},
   "outputs": [
    {
     "data": {
      "text/plain": [
       "(7280, 99)"
      ]
     },
     "execution_count": 338,
     "metadata": {},
     "output_type": "execute_result"
    }
   ],
   "source": [
    "labeled_data.shape"
   ]
  },
  {
   "cell_type": "code",
   "execution_count": 344,
   "metadata": {},
   "outputs": [],
   "source": [
    "path = \"../data/data_for_models\"\n",
    "os.makedirs(path, exist_ok=True)\n",
    "file_name = \"raw_labeled_data.parquet\"\n",
    "file_path = os.path.join(path, file_name)\n",
    "labeled_data.select(useful_cols).write_parquet(file_path)"
   ]
  }
 ],
 "metadata": {
  "kernelspec": {
   "display_name": ".venv",
   "language": "python",
   "name": "python3"
  },
  "language_info": {
   "codemirror_mode": {
    "name": "ipython",
    "version": 3
   },
   "file_extension": ".py",
   "mimetype": "text/x-python",
   "name": "python",
   "nbconvert_exporter": "python",
   "pygments_lexer": "ipython3",
   "version": "3.13.3"
  }
 },
 "nbformat": 4,
 "nbformat_minor": 2
}
